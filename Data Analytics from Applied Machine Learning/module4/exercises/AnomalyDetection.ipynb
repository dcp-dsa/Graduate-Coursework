{
 "cells": [
  {
   "cell_type": "markdown",
   "metadata": {},
   "source": [
    "# Module 4: Anomaly Detection\n",
    "## Cumulative Exercise:\n",
    "### Outlier Detection for Linear Regression on an Auto MPG Dataset\n",
    "\n",
    "In this exercise, you'll be attempting linear (Ridge) regression on a dataset encoding automotive \n",
    "MPG against several other discrete and continuous variables, \n",
    "as described [here](https://archive.ics.uci.edu/ml/datasets/auto+mpg) in the UCI repository.\n",
    "\n",
    "### Notes\n",
    "1. The clearest use of this dataset is to predict MPG, which is column one in the .txt.\n",
    "2. For convenience, some `NaN` values have been pre-emptively cleaned from this dataset. Looking at the original dataset, there are a handful of entries containing null or `?` values, which we have removed."
   ]
  },
  {
   "cell_type": "code",
   "execution_count": 28,
   "metadata": {},
   "outputs": [
    {
     "data": {
      "text/html": [
       "<div>\n",
       "<style scoped>\n",
       "    .dataframe tbody tr th:only-of-type {\n",
       "        vertical-align: middle;\n",
       "    }\n",
       "\n",
       "    .dataframe tbody tr th {\n",
       "        vertical-align: top;\n",
       "    }\n",
       "\n",
       "    .dataframe thead th {\n",
       "        text-align: right;\n",
       "    }\n",
       "</style>\n",
       "<table border=\"1\" class=\"dataframe\">\n",
       "  <thead>\n",
       "    <tr style=\"text-align: right;\">\n",
       "      <th></th>\n",
       "      <th>mpg</th>\n",
       "      <th>cylinders</th>\n",
       "      <th>displacement</th>\n",
       "      <th>horsepower</th>\n",
       "      <th>weight</th>\n",
       "      <th>acceleration</th>\n",
       "      <th>year</th>\n",
       "      <th>origin</th>\n",
       "    </tr>\n",
       "  </thead>\n",
       "  <tbody>\n",
       "    <tr>\n",
       "      <th>count</th>\n",
       "      <td>423.000000</td>\n",
       "      <td>423.000000</td>\n",
       "      <td>423.000000</td>\n",
       "      <td>423.000000</td>\n",
       "      <td>4.230000e+02</td>\n",
       "      <td>423.000000</td>\n",
       "      <td>423.000000</td>\n",
       "      <td>423.000000</td>\n",
       "    </tr>\n",
       "    <tr>\n",
       "      <th>mean</th>\n",
       "      <td>22.151443</td>\n",
       "      <td>5.824960</td>\n",
       "      <td>196.756004</td>\n",
       "      <td>477.616796</td>\n",
       "      <td>8.785400e+05</td>\n",
       "      <td>15.538771</td>\n",
       "      <td>82.095406</td>\n",
       "      <td>1.569740</td>\n",
       "    </tr>\n",
       "    <tr>\n",
       "      <th>std</th>\n",
       "      <td>8.817102</td>\n",
       "      <td>2.720733</td>\n",
       "      <td>111.032114</td>\n",
       "      <td>1411.463705</td>\n",
       "      <td>3.249376e+06</td>\n",
       "      <td>2.729471</td>\n",
       "      <td>29.467660</td>\n",
       "      <td>0.799426</td>\n",
       "    </tr>\n",
       "    <tr>\n",
       "      <th>min</th>\n",
       "      <td>3.625937</td>\n",
       "      <td>-0.743522</td>\n",
       "      <td>-19.283003</td>\n",
       "      <td>46.000000</td>\n",
       "      <td>1.613000e+03</td>\n",
       "      <td>8.000000</td>\n",
       "      <td>-18.076791</td>\n",
       "      <td>1.000000</td>\n",
       "    </tr>\n",
       "    <tr>\n",
       "      <th>25%</th>\n",
       "      <td>16.000000</td>\n",
       "      <td>4.000000</td>\n",
       "      <td>102.500000</td>\n",
       "      <td>78.000000</td>\n",
       "      <td>2.259500e+03</td>\n",
       "      <td>13.700000</td>\n",
       "      <td>73.000000</td>\n",
       "      <td>1.000000</td>\n",
       "    </tr>\n",
       "    <tr>\n",
       "      <th>50%</th>\n",
       "      <td>21.500000</td>\n",
       "      <td>5.056846</td>\n",
       "      <td>151.000000</td>\n",
       "      <td>96.000000</td>\n",
       "      <td>2.930000e+03</td>\n",
       "      <td>15.500000</td>\n",
       "      <td>76.000000</td>\n",
       "      <td>1.000000</td>\n",
       "    </tr>\n",
       "    <tr>\n",
       "      <th>75%</th>\n",
       "      <td>28.050000</td>\n",
       "      <td>8.000000</td>\n",
       "      <td>302.000000</td>\n",
       "      <td>145.000000</td>\n",
       "      <td>3.860000e+03</td>\n",
       "      <td>17.000000</td>\n",
       "      <td>80.000000</td>\n",
       "      <td>2.000000</td>\n",
       "    </tr>\n",
       "    <tr>\n",
       "      <th>max</th>\n",
       "      <td>46.600000</td>\n",
       "      <td>31.872541</td>\n",
       "      <td>604.080466</td>\n",
       "      <td>10222.846370</td>\n",
       "      <td>1.879313e+07</td>\n",
       "      <td>24.800000</td>\n",
       "      <td>284.100062</td>\n",
       "      <td>3.000000</td>\n",
       "    </tr>\n",
       "  </tbody>\n",
       "</table>\n",
       "</div>"
      ],
      "text/plain": [
       "              mpg   cylinders  displacement    horsepower        weight  \\\n",
       "count  423.000000  423.000000    423.000000    423.000000  4.230000e+02   \n",
       "mean    22.151443    5.824960    196.756004    477.616796  8.785400e+05   \n",
       "std      8.817102    2.720733    111.032114   1411.463705  3.249376e+06   \n",
       "min      3.625937   -0.743522    -19.283003     46.000000  1.613000e+03   \n",
       "25%     16.000000    4.000000    102.500000     78.000000  2.259500e+03   \n",
       "50%     21.500000    5.056846    151.000000     96.000000  2.930000e+03   \n",
       "75%     28.050000    8.000000    302.000000    145.000000  3.860000e+03   \n",
       "max     46.600000   31.872541    604.080466  10222.846370  1.879313e+07   \n",
       "\n",
       "       acceleration        year      origin  \n",
       "count    423.000000  423.000000  423.000000  \n",
       "mean      15.538771   82.095406    1.569740  \n",
       "std        2.729471   29.467660    0.799426  \n",
       "min        8.000000  -18.076791    1.000000  \n",
       "25%       13.700000   73.000000    1.000000  \n",
       "50%       15.500000   76.000000    1.000000  \n",
       "75%       17.000000   80.000000    2.000000  \n",
       "max       24.800000  284.100062    3.000000  "
      ]
     },
     "execution_count": 28,
     "metadata": {},
     "output_type": "execute_result"
    }
   ],
   "source": [
    "import os\n",
    "import pandas as pd\n",
    "import numpy as np\n",
    "import matplotlib.pyplot as plt\n",
    "from sklearn.model_selection import cross_val_score, train_test_split\n",
    "from sklearn.linear_model import Ridge\n",
    "from sklearn.linear_model import LinearRegression\n",
    "from sklearn.covariance import EllipticEnvelope\n",
    "\n",
    "# path to dataset\n",
    "DATASET = '/dsa/data/all_datasets/autoMPG-1.txt'\n",
    "assert os.path.exists(DATASET)   # check if datafile is present\n",
    "\n",
    "# Read your data into a DataFrame called 'dataset'\n",
    "dataset = pd.read_csv(DATASET, index_col=0).dropna().sample(frac=1).reset_index(drop = True)\n",
    "dataset.describe()"
   ]
  },
  {
   "cell_type": "markdown",
   "metadata": {},
   "source": [
    "Pull columns from dataset into variables X (everything except mpg) and y (mpg)."
   ]
  },
  {
   "cell_type": "code",
   "execution_count": 2,
   "metadata": {},
   "outputs": [],
   "source": [
    "# Complete code below this comment  (Question #001)\n",
    "# ----------------------------------\n",
    "\n",
    "X = np.array(dataset.iloc[:, [2,3,4,5,6,7]])\n",
    "y = np.array(dataset.iloc[:, [1]])\n",
    "\n"
   ]
  },
  {
   "cell_type": "markdown",
   "metadata": {},
   "source": [
    "Create training/validation split with 30% held out. "
   ]
  },
  {
   "cell_type": "code",
   "execution_count": 3,
   "metadata": {},
   "outputs": [],
   "source": [
    "# Complete code below this comment  (Question #E002)\n",
    "# ----------------------------------\n",
    "\n",
    "X_train, X_test, y_train, y_test = train_test_split(X, y, test_size=0.3)\n",
    "\n"
   ]
  },
  {
   "cell_type": "markdown",
   "metadata": {},
   "source": [
    "Fit a Ridge regressor without anomaly detection and report R^2 measure on the train set."
   ]
  },
  {
   "cell_type": "code",
   "execution_count": 18,
   "metadata": {},
   "outputs": [
    {
     "data": {
      "text/plain": [
       "0.5649719276786169"
      ]
     },
     "execution_count": 18,
     "metadata": {},
     "output_type": "execute_result"
    }
   ],
   "source": [
    "# Complete code below this comment  (Question #E003)\n",
    "# ----------------------------------\n",
    "\n",
    "raw_model = Ridge().fit(X, y)\n",
    "raw_model.score(X_train, y_train)\n"
   ]
  },
  {
   "cell_type": "markdown",
   "metadata": {},
   "source": [
    "Create prediction from X_test and store into variable <span style=\"background: yellow;\">naive_predictions</span>. Report R^2 measure."
   ]
  },
  {
   "cell_type": "code",
   "execution_count": 49,
   "metadata": {},
   "outputs": [
    {
     "data": {
      "text/plain": [
       "0.9220339077595796"
      ]
     },
     "execution_count": 49,
     "metadata": {},
     "output_type": "execute_result"
    }
   ],
   "source": [
    "# Complete code below this comment  (Question #E004)\n",
    "# ----------------------------------\n",
    "\n",
    "naive_predictions = raw_model.predict(X_test)\n",
    "raw_model.score(X_test, y_test) # I think this is what is being asked\n"
   ]
  },
  {
   "cell_type": "markdown",
   "metadata": {},
   "source": [
    "Create a scatter plot of y_test against naive predictions.  \n",
    "The following is for reference.\n",
    "\n",
    "~~~python\n",
    "plt.scatter(<placeholder>, <placeholder>)\n",
    "plt.title(\"No outlier reduction\")\n",
    "plt.xlabel(\"Y-actual (raw splits)\")\n",
    "plt.ylabel(\"Y-predicted (from raw model)\")\n",
    "plt.show()\n",
    "~~~"
   ]
  },
  {
   "cell_type": "code",
   "execution_count": 55,
   "metadata": {},
   "outputs": [
    {
     "data": {
      "image/png": "[encoded data removed]",
      "text/plain": [
       "<Figure size 432x288 with 1 Axes>"
      ]
     },
     "metadata": {
      "needs_background": "light"
     },
     "output_type": "display_data"
    }
   ],
   "source": [
    "# Complete code below this comment  (Question #E005)\n",
    "# ----------------------------------\n",
    "\n",
    "plt.scatter(naive_predictions, y_test)\n",
    "plt.title(\"No outlier reduction\")\n",
    "plt.xlabel(\"Y-actual (raw splits)\")\n",
    "plt.ylabel(\"Y-predicted (from raw model)\")\n",
    "plt.show()\n",
    "\n",
    "\n"
   ]
  },
  {
   "cell_type": "markdown",
   "metadata": {},
   "source": [
    "### Using a model of your choice, remove outliers from X and y.\n",
    "\n",
    "Import your tools for outlier reduction.  \n",
    "Options include: `KMeans`, `EllipticEnvelope`, `IsolationForest`, and `OneClassSVM`. "
   ]
  },
  {
   "cell_type": "code",
   "execution_count": 52,
   "metadata": {},
   "outputs": [
    {
     "data": {
      "image/png": "[encoded data removed]",
      "text/plain": [
       "<Figure size 432x288 with 1 Axes>"
      ]
     },
     "metadata": {
      "needs_background": "light"
     },
     "output_type": "display_data"
    }
   ],
   "source": [
    "# Complete code below this comment  (Question #E006)\n",
    "# ----------------------------------\n",
    "\n",
    "def elliptic_envelope_session():\n",
    "    # Fit envelope\n",
    "    envelope = EllipticEnvelope(support_fraction=1, contamination=0.2).fit(naive_predictions)\n",
    "\n",
    "    # Create an boolean indexing array to pick up outliers\n",
    "    outliers = envelope.predict(naive_predictions)==-1\n",
    "\n",
    "    # Re-slice X,y into a cleaned dataset with outliers excluded\n",
    "    X_clean = naive_predictions[~outliers]\n",
    "    y_clean = y_test[~outliers]\n",
    "    return X_clean, y_clean\n",
    "\n",
    "def fit_plot(dataset_clean):\n",
    "    # Unpack cleaned dataset\n",
    "    X_clean, y_clean = dataset_clean\n",
    "    \n",
    "    # Assuming we have our set of inliers in X_clean we can re-fit\n",
    "    model = Ridge().fit(X_clean, y_clean)\n",
    "    y_pred = model.predict(X_clean)\n",
    "    \n",
    "    # Plot the regression\n",
    "#     plt.scatter(X_clean, y_pred)\n",
    "#     plt.show()\n",
    "    \n",
    "# fit_plot(elliptic_envelope_session())\n",
    "\n"
   ]
  },
  {
   "cell_type": "markdown",
   "metadata": {},
   "source": [
    "Create training/test set with the removal of outliers from the above training/test set. "
   ]
  },
  {
   "cell_type": "code",
   "execution_count": 43,
   "metadata": {},
   "outputs": [],
   "source": [
    "# Complete code below this comment  (Question #E007)\n",
    "# ----------------------------------\n",
    "\n",
    "envelope = EllipticEnvelope(support_fraction=1, contamination=0.2).fit(naive_predictions)\n",
    "# Create an boolean indexing array to pick up outliers\n",
    "outliers = envelope.predict(naive_predictions)==-1\n",
    "\n",
    "# Re-slice X,y into a cleaned dataset with outliers excluded\n",
    "X_clean = naive_predictions[~outliers]\n",
    "y_clean = y_test[~outliers]\n",
    "\n",
    "X_train, X_test, y_train, y_test = train_test_split(X_clean, y_clean, test_size=0.3)"
   ]
  },
  {
   "cell_type": "markdown",
   "metadata": {},
   "source": [
    "Fit a new model against inliers and print score (R^2) for the model."
   ]
  },
  {
   "cell_type": "code",
   "execution_count": 44,
   "metadata": {},
   "outputs": [
    {
     "data": {
      "text/plain": [
       "0.8685105549563324"
      ]
     },
     "execution_count": 44,
     "metadata": {},
     "output_type": "execute_result"
    }
   ],
   "source": [
    "# Complete code below this comment  (Question #E008)\n",
    "# ----------------------------------\n",
    "\n",
    "raw_model = Ridge().fit(X_clean, y_clean)\n",
    "raw_model.score(X_clean, y_clean)\n",
    "\n",
    "\n"
   ]
  },
  {
   "cell_type": "markdown",
   "metadata": {},
   "source": [
    "Predict with the test set, report R^2, and plot y-actual against y-predicted again for labels in testing set."
   ]
  },
  {
   "cell_type": "code",
   "execution_count": 54,
   "metadata": {},
   "outputs": [
    {
     "data": {
      "image/png": "[encoded data removed]",
      "text/plain": [
       "<Figure size 432x288 with 1 Axes>"
      ]
     },
     "metadata": {
      "needs_background": "light"
     },
     "output_type": "display_data"
    }
   ],
   "source": [
    "# Complete code below this comment  (Question #E009)\n",
    "# ----------------------------------\n",
    "\n",
    "y_pred = raw_model.predict(X_test)\n",
    "raw_model.score(X_test, y_test)\n",
    "\n",
    "\n",
    "plt.scatter(y_pred, y_test)\n",
    "plt.show()\n"
   ]
  },
  {
   "cell_type": "markdown",
   "metadata": {},
   "source": [
    "Pickle (serialize) your model as the file named: `my_module_4_model.pkl`"
   ]
  },
  {
   "cell_type": "code",
   "execution_count": 56,
   "metadata": {},
   "outputs": [
    {
     "data": {
      "text/plain": [
       "['my_module_4_model.pkl']"
      ]
     },
     "execution_count": 56,
     "metadata": {},
     "output_type": "execute_result"
    }
   ],
   "source": [
    "# Complete code below this comment  (Question #E010)\n",
    "# ----------------------------------\n",
    "\n",
    "from sklearn.metrics import classification_report\n",
    "\n",
    "import joblib\n",
    "joblib.dump(raw_model, 'my_module_4_model.pkl')\n",
    "\n",
    "\n"
   ]
  },
  {
   "cell_type": "markdown",
   "metadata": {},
   "source": [
    "# Save your notebook!"
   ]
  }
 ],
 "metadata": {
  "kernelspec": {
   "display_name": "Python 3",
   "language": "python",
   "name": "python3"
  },
  "language_info": {
   "codemirror_mode": {
    "name": "ipython",
    "version": 3
   },
   "file_extension": ".py",
   "mimetype": "text/x-python",
   "name": "python",
   "nbconvert_exporter": "python",
   "pygments_lexer": "ipython3",
   "version": "3.7.3"
  }
 },
 "nbformat": 4,
 "nbformat_minor": 4
}
