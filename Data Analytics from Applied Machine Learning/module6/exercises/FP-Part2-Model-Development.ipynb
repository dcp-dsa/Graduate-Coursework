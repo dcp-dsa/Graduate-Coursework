{
 "cells": [
  {
   "cell_type": "markdown",
   "metadata": {},
   "source": [
    "# Part II: Model Development\n",
    "\n",
    "In this part, we develop three unique pipelines for predicting backorder. We use the smart sample from Part I to fit and evaluate these pipelines. "
   ]
  },
  {
   "cell_type": "code",
   "execution_count": 2,
   "metadata": {},
   "outputs": [],
   "source": [
    "%matplotlib inline\n",
    "import matplotlib.pyplot as plt\n",
    "\n",
    "import os, sys\n",
    "import itertools\n",
    "import numpy as np\n",
    "import pandas as pd\n",
    "import joblib\n",
    "import pickle as pkl"
   ]
  },
  {
   "cell_type": "markdown",
   "metadata": {},
   "source": [
    "## Reload the smart sample here"
   ]
  },
  {
   "cell_type": "code",
   "execution_count": 3,
   "metadata": {},
   "outputs": [],
   "source": [
    "\n",
    "# Reload your smart sampling from local file \n",
    "# ----------------------------------\n",
    "\n",
    "sample_data, sampled_X, sampled_y = joblib.load('sample-data.pkl')\n",
    "sampled_X = pd.DataFrame(sampled_X,\n",
    "                        columns = ['national_inv', 'in_transit_qty', 'forecast_3_month', 'forecast_6_month', 'forecast_9_month',\n",
    "                                  'sales_1_month', 'sales_3_month', 'sales_6_month', 'sales_9_month', 'min_bank',\n",
    "                                   'potential_issue', 'pieces_past_due', 'perf_6_month_avg', 'perf_12_month_avg',\n",
    "                                   'local_bo_qty', 'deck_risk', 'oe_constraint', 'ppap_risk', 'stop_auto_buy', 'rev_stop'])\n",
    "sampled_y = pd.DataFrame(sampled_y,\n",
    "                        columns = ['went_on_backorder'])"
   ]
  },
  {
   "cell_type": "code",
   "execution_count": 4,
   "metadata": {},
   "outputs": [],
   "source": [
    "dataset = sample_data"
   ]
  },
  {
   "cell_type": "markdown",
   "metadata": {},
   "source": [
    "## Normalize/standardize the data if required"
   ]
  },
  {
   "cell_type": "code",
   "execution_count": 5,
   "metadata": {},
   "outputs": [],
   "source": [
    "from sklearn.preprocessing import MinMaxScaler\n",
    "\n",
    "\n",
    "norm = MinMaxScaler().fit(dataset)\n",
    "\n",
    "dataset_norm = norm.transform(dataset)\n",
    "\n",
    "# from sklearn import preprocessing\n",
    "\n",
    "# scaler = preprocessing.MinMaxScaler()\n",
    "# names = dataset.columns\n",
    "# d = scaler.fit_transform(dataset)\n",
    "# scaled_dataset = pd.DataFrame(d, columns=names)\n",
    "# scaled_dataset\n",
    "\n"
   ]
  },
  {
   "cell_type": "code",
   "execution_count": 6,
   "metadata": {},
   "outputs": [],
   "source": [
    "norm = MinMaxScaler().fit(sampled_X)\n",
    "\n",
    "X_norm = norm.transform(sampled_X)\n",
    "\n",
    "\n",
    "# scaler = preprocessing.MinMaxScaler()\n",
    "# names = sampled_X.columns\n",
    "# d = scaler.fit_transform(sampled_X)\n",
    "# scaled_X = pd.DataFrame(d, columns=names)\n",
    "# scaled_X"
   ]
  },
  {
   "cell_type": "code",
   "execution_count": 7,
   "metadata": {},
   "outputs": [],
   "source": [
    "norm = MinMaxScaler().fit(sampled_y)\n",
    "\n",
    "y_norm = norm.transform(sampled_y)\n",
    "\n",
    "\n",
    "# scaler = preprocessing.MinMaxScaler()\n",
    "# names = sampled_y.columns\n",
    "# d = scaler.fit_transform(sampled_y)\n",
    "# scaled_y = pd.DataFrame(d, columns=names)\n",
    "# scaled_y"
   ]
  },
  {
   "cell_type": "markdown",
   "metadata": {},
   "source": [
    "## Split the data into Train/Test"
   ]
  },
  {
   "cell_type": "code",
   "execution_count": 8,
   "metadata": {},
   "outputs": [],
   "source": [
    "from sklearn.model_selection import train_test_split\n",
    "\n",
    "X_train, X_test, y_train, y_test = train_test_split(X_norm, y_norm, test_size=0.25) # 75% in train. 25% in test"
   ]
  },
  {
   "cell_type": "markdown",
   "metadata": {},
   "source": [
    "## Developing Pipeline\n",
    "\n",
    "In this section, we design an operationalized machine learning pipeline, which includes:\n",
    "\n",
    "* Anomaly detection\n",
    "* Dimensionality Reduction\n",
    "* Train a model\n",
    "\n",
    "We are free to use any of the models that we learned in the past or use new models. \n",
    "\n",
    "* It is difficult to fit an anomaly detection method in the sklearn pipeline without writing custom codes. For simplicity, we avoid fitting an anomaly detection method within a pipeline. So we can create the workflow in two steps. \n",
    "    * Step I: fit an outlier with the training set\n",
    "    * Step II: define a pipeline using a feature selection and a classification method. Then cross-validate this pipeline using the training data without outliers. \n",
    "        * Note: if your smart sample is somewhat imbalanced, you might want to change the scoring method in GridSearchCV (see the [doc](https://scikit-learn.org/stable/modules/generated/sklearn.model_selection.GridSearchCV.html)).\n",
    "\n",
    "* Once we fit the pipeline, we identify the best model and give an unbiased evaluation using the test set that we created in Part II. For unbiased evaluation we report confusion matrix, precision, recall, f1-score, accuracy, and other measures if you like. \n",
    "\n",
    "(Optional) Those who are interested in writing custom codes for adding an outlier detection method into the sklearn pipeline, please follow this discussion [thread](https://stackoverflow.com/questions/52346725/can-i-add-outlier-detection-and-removal-to-scikit-learn-pipeline). \n",
    "\n",
    "\n",
    "**Note:** <span style='background:yellow'>We will be using Grid Search to find the optimal parameters of the pipelines.</span>\n",
    "\n",
    "You can add more notebook cells or import any Python modules as needed."
   ]
  },
  {
   "cell_type": "code",
   "execution_count": 9,
   "metadata": {},
   "outputs": [],
   "source": [
    "from sklearn.svm import OneClassSVM\n",
    "from sklearn.neighbors import LocalOutlierFactor\n",
    "from sklearn.covariance import EllipticEnvelope\n",
    "from sklearn.ensemble import IsolationForest\n",
    "\n",
    "from sklearn.decomposition import PCA, FactorAnalysis\n",
    "from sklearn.preprocessing import StandardScaler\n",
    "from sklearn.feature_selection import SelectKBest, chi2, f_classif, mutual_info_classif\n",
    "\n",
    "from sklearn.pipeline import Pipeline\n",
    "from sklearn.linear_model import Ridge"
   ]
  },
  {
   "cell_type": "markdown",
   "metadata": {},
   "source": [
    "### Your 1st pipeline \n",
    "  * Anomaly detection\n",
    "  * Dimensionality reduction\n",
    "  * Model training/validation\n",
    "  \n",
    "Add cells as needed. "
   ]
  },
  {
   "cell_type": "code",
   "execution_count": 10,
   "metadata": {},
   "outputs": [
    {
     "name": "stderr",
     "output_type": "stream",
     "text": [
      "/opt/conda/lib/python3.7/site-packages/sklearn/covariance/_robust_covariance.py:647: UserWarning: The covariance matrix associated to your dataset is not full rank\n",
      "  warnings.warn(\"The covariance matrix associated to your dataset \"\n"
     ]
    },
    {
     "data": {
      "image/png": "[encoded data removed]",
      "text/plain": [
       "<Figure size 432x288 with 1 Axes>"
      ]
     },
     "metadata": {
      "needs_background": "light"
     },
     "output_type": "display_data"
    }
   ],
   "source": [
    "# Add anomaly detection code  (Question #E201)\n",
    "# ----------------------------------\n",
    "\n",
    "def elliptic_envelope_session():\n",
    "    # Fit envelope\n",
    "    envelope = EllipticEnvelope(support_fraction=1, contamination=0.2).fit(X_train)\n",
    "\n",
    "    # Create an boolean indexing array to pick up outliers\n",
    "    outliers = envelope.predict(X_train)==-1\n",
    "\n",
    "    # Re-slice X,y into a cleaned dataset with outliers excluded\n",
    "    X_clean = X_train[~outliers]\n",
    "    y_clean = y_train[~outliers]\n",
    "    return X_clean, y_clean\n",
    "\n",
    "def fit_plot(dataset_clean):\n",
    "    # Unpack cleaned dataset\n",
    "    X_clean, y_clean = dataset_clean\n",
    "    \n",
    "    # Assuming we have our set of inliers in X_clean we can re-fit\n",
    "    model = Ridge().fit(X_clean, y_clean)\n",
    "    y_pred = model.predict(X_clean)\n",
    "    \n",
    "    # Plot the regression\n",
    "    plt.scatter(y_clean, y_pred)\n",
    "    plt.show()\n",
    "    \n",
    "    # Not sure if this plot is correct, but plotting X_clean to y_pred would not work. Vaibhav suggested it is probably due to\n",
    "    # the features that X and y has\n",
    "    \n",
    "    \n",
    "fit_plot(elliptic_envelope_session())\n"
   ]
  },
  {
   "cell_type": "code",
   "execution_count": 11,
   "metadata": {},
   "outputs": [],
   "source": [
    "# Add codes for feature selection and classification pipeline with grid search  (Question #E202)\n",
    "# ----------------------------------\n",
    "from sklearn.linear_model import LogisticRegression\n",
    "\n",
    "\n",
    "pipe1 = Pipeline([\n",
    "    ('PCA', PCA(n_components= 5)),\n",
    "    ('logistic', LogisticRegression())\n",
    "])\n",
    "\n"
   ]
  },
  {
   "cell_type": "code",
   "execution_count": 12,
   "metadata": {},
   "outputs": [
    {
     "name": "stderr",
     "output_type": "stream",
     "text": [
      "/opt/conda/lib/python3.7/site-packages/sklearn/covariance/_robust_covariance.py:647: UserWarning: The covariance matrix associated to your dataset is not full rank\n",
      "  warnings.warn(\"The covariance matrix associated to your dataset \"\n",
      "/opt/conda/lib/python3.7/site-packages/sklearn/model_selection/_search.py:921: UserWarning: One or more of the test scores are non-finite: [0.53420398 0.53420398 0.53420398 0.53420398 0.53420398 0.53885304\n",
      " 0.53996005 0.54438837 0.54881745 0.5466775  0.53877924 0.54003385\n",
      " 0.54468357 0.54911265 0.54682494 0.53877924 0.54003385 0.54453597\n",
      " 0.54918645 0.5468251         nan        nan        nan        nan\n",
      "        nan]\n",
      "  category=UserWarning\n",
      "/opt/conda/lib/python3.7/site-packages/sklearn/utils/validation.py:63: DataConversionWarning: A column-vector y was passed when a 1d array was expected. Please change the shape of y to (n_samples, ), for example using ravel().\n",
      "  return f(*args, **kwargs)\n"
     ]
    },
    {
     "data": {
      "text/plain": [
       "GridSearchCV(cv=10,\n",
       "             estimator=Pipeline(steps=[('PCA', PCA(n_components=5)),\n",
       "                                       ('logistic', LogisticRegression())]),\n",
       "             n_jobs=2,\n",
       "             param_grid={'PCA__n_components': [5, 10, 15, 20, 25],\n",
       "                         'logistic__C': [5, 10, 15, 20, 25],\n",
       "                         'logistic__max_iter': [10000]})"
      ]
     },
     "execution_count": 12,
     "metadata": {},
     "output_type": "execute_result"
    }
   ],
   "source": [
    "param_grid = {'logistic__C': [5,10,15,20,25],\n",
    "              'logistic__max_iter': [10000],\n",
    "              'PCA__n_components': [5,10,15,20,25],}\n",
    "\n",
    "from sklearn.model_selection import GridSearchCV\n",
    "\n",
    "model_grid = GridSearchCV(pipe1, param_grid, cv=10, n_jobs=2)\n",
    "\n",
    "X_clean, y_clean = elliptic_envelope_session()\n",
    "\n",
    "model_grid.fit(X_clean, y_clean)"
   ]
  },
  {
   "cell_type": "code",
   "execution_count": 13,
   "metadata": {},
   "outputs": [
    {
     "data": {
      "text/plain": [
       "{'mean_fit_time': array([0.09384007, 0.10490918, 0.10215898, 0.11126251, 0.09720294,\n",
       "        0.16200893, 0.20154545, 0.19779756, 0.2084378 , 0.20102181,\n",
       "        0.15235875, 0.20121632, 0.20134435, 0.20139601, 0.20574262,\n",
       "        0.12874146, 0.15953608, 0.17437341, 0.1789259 , 0.16813796,\n",
       "        0.00144482, 0.00143318, 0.00375059, 0.00137656, 0.00138333]),\n",
       " 'std_fit_time': array([0.01188076, 0.01286824, 0.00415296, 0.0154047 , 0.00564642,\n",
       "        0.01867147, 0.00733506, 0.02655094, 0.02551666, 0.02149916,\n",
       "        0.02361322, 0.00865271, 0.00952672, 0.02825501, 0.01898324,\n",
       "        0.0251892 , 0.03029606, 0.02272778, 0.02328624, 0.02103701,\n",
       "        0.00013665, 0.0001303 , 0.00724511, 0.00010236, 0.00013009]),\n",
       " 'mean_score_time': array([0.00087419, 0.00089991, 0.00089161, 0.00090389, 0.00086005,\n",
       "        0.0009445 , 0.00093122, 0.00084987, 0.00087039, 0.00087564,\n",
       "        0.00090916, 0.00097492, 0.00088077, 0.00090027, 0.00094445,\n",
       "        0.00095417, 0.0009027 , 0.00094466, 0.00098879, 0.00085793,\n",
       "        0.        , 0.        , 0.        , 0.        , 0.        ]),\n",
       " 'std_score_time': array([6.48353189e-05, 1.14628531e-04, 4.35861572e-05, 7.03205323e-05,\n",
       "        4.41422261e-05, 1.26199990e-04, 6.39296024e-05, 2.96039080e-05,\n",
       "        4.40105521e-05, 4.03723762e-05, 5.29695100e-05, 8.20081903e-05,\n",
       "        3.03943575e-05, 4.07720866e-05, 4.89300973e-05, 4.61203410e-05,\n",
       "        6.76944874e-05, 1.37525069e-04, 9.26351788e-05, 2.82360886e-05,\n",
       "        0.00000000e+00, 0.00000000e+00, 0.00000000e+00, 0.00000000e+00,\n",
       "        0.00000000e+00]),\n",
       " 'param_PCA__n_components': masked_array(data=[5, 5, 5, 5, 5, 10, 10, 10, 10, 10, 15, 15, 15, 15, 15,\n",
       "                    20, 20, 20, 20, 20, 25, 25, 25, 25, 25],\n",
       "              mask=[False, False, False, False, False, False, False, False,\n",
       "                    False, False, False, False, False, False, False, False,\n",
       "                    False, False, False, False, False, False, False, False,\n",
       "                    False],\n",
       "        fill_value='?',\n",
       "             dtype=object),\n",
       " 'param_logistic__C': masked_array(data=[5, 10, 15, 20, 25, 5, 10, 15, 20, 25, 5, 10, 15, 20,\n",
       "                    25, 5, 10, 15, 20, 25, 5, 10, 15, 20, 25],\n",
       "              mask=[False, False, False, False, False, False, False, False,\n",
       "                    False, False, False, False, False, False, False, False,\n",
       "                    False, False, False, False, False, False, False, False,\n",
       "                    False],\n",
       "        fill_value='?',\n",
       "             dtype=object),\n",
       " 'param_logistic__max_iter': masked_array(data=[10000, 10000, 10000, 10000, 10000, 10000, 10000, 10000,\n",
       "                    10000, 10000, 10000, 10000, 10000, 10000, 10000, 10000,\n",
       "                    10000, 10000, 10000, 10000, 10000, 10000, 10000, 10000,\n",
       "                    10000],\n",
       "              mask=[False, False, False, False, False, False, False, False,\n",
       "                    False, False, False, False, False, False, False, False,\n",
       "                    False, False, False, False, False, False, False, False,\n",
       "                    False],\n",
       "        fill_value='?',\n",
       "             dtype=object),\n",
       " 'params': [{'PCA__n_components': 5,\n",
       "   'logistic__C': 5,\n",
       "   'logistic__max_iter': 10000},\n",
       "  {'PCA__n_components': 5, 'logistic__C': 10, 'logistic__max_iter': 10000},\n",
       "  {'PCA__n_components': 5, 'logistic__C': 15, 'logistic__max_iter': 10000},\n",
       "  {'PCA__n_components': 5, 'logistic__C': 20, 'logistic__max_iter': 10000},\n",
       "  {'PCA__n_components': 5, 'logistic__C': 25, 'logistic__max_iter': 10000},\n",
       "  {'PCA__n_components': 10, 'logistic__C': 5, 'logistic__max_iter': 10000},\n",
       "  {'PCA__n_components': 10, 'logistic__C': 10, 'logistic__max_iter': 10000},\n",
       "  {'PCA__n_components': 10, 'logistic__C': 15, 'logistic__max_iter': 10000},\n",
       "  {'PCA__n_components': 10, 'logistic__C': 20, 'logistic__max_iter': 10000},\n",
       "  {'PCA__n_components': 10, 'logistic__C': 25, 'logistic__max_iter': 10000},\n",
       "  {'PCA__n_components': 15, 'logistic__C': 5, 'logistic__max_iter': 10000},\n",
       "  {'PCA__n_components': 15, 'logistic__C': 10, 'logistic__max_iter': 10000},\n",
       "  {'PCA__n_components': 15, 'logistic__C': 15, 'logistic__max_iter': 10000},\n",
       "  {'PCA__n_components': 15, 'logistic__C': 20, 'logistic__max_iter': 10000},\n",
       "  {'PCA__n_components': 15, 'logistic__C': 25, 'logistic__max_iter': 10000},\n",
       "  {'PCA__n_components': 20, 'logistic__C': 5, 'logistic__max_iter': 10000},\n",
       "  {'PCA__n_components': 20, 'logistic__C': 10, 'logistic__max_iter': 10000},\n",
       "  {'PCA__n_components': 20, 'logistic__C': 15, 'logistic__max_iter': 10000},\n",
       "  {'PCA__n_components': 20, 'logistic__C': 20, 'logistic__max_iter': 10000},\n",
       "  {'PCA__n_components': 20, 'logistic__C': 25, 'logistic__max_iter': 10000},\n",
       "  {'PCA__n_components': 25, 'logistic__C': 5, 'logistic__max_iter': 10000},\n",
       "  {'PCA__n_components': 25, 'logistic__C': 10, 'logistic__max_iter': 10000},\n",
       "  {'PCA__n_components': 25, 'logistic__C': 15, 'logistic__max_iter': 10000},\n",
       "  {'PCA__n_components': 25, 'logistic__C': 20, 'logistic__max_iter': 10000},\n",
       "  {'PCA__n_components': 25, 'logistic__C': 25, 'logistic__max_iter': 10000}],\n",
       " 'split0_test_score': array([0.53613569, 0.53613569, 0.53613569, 0.53613569, 0.53613569,\n",
       "        0.54129794, 0.54129794, 0.53761062, 0.52359882, 0.5199115 ,\n",
       "        0.54129794, 0.54129794, 0.53761062, 0.52359882, 0.52212389,\n",
       "        0.54129794, 0.54129794, 0.53761062, 0.52359882, 0.5199115 ,\n",
       "               nan,        nan,        nan,        nan,        nan]),\n",
       " 'split1_test_score': array([0.53726937, 0.53726937, 0.53726937, 0.53726937, 0.53726937,\n",
       "        0.53948339, 0.53874539, 0.55793358, 0.54538745, 0.54464945,\n",
       "        0.53874539, 0.53874539, 0.55793358, 0.54538745, 0.54464945,\n",
       "        0.53874539, 0.53874539, 0.55793358, 0.54538745, 0.54464945,\n",
       "               nan,        nan,        nan,        nan,        nan]),\n",
       " 'split2_test_score': array([0.53284133, 0.53284133, 0.53284133, 0.53284133, 0.53284133,\n",
       "        0.53653137, 0.53948339, 0.54169742, 0.54095941, 0.52619926,\n",
       "        0.53653137, 0.53948339, 0.54317343, 0.54317343, 0.52619926,\n",
       "        0.53653137, 0.53948339, 0.54317343, 0.54317343, 0.52841328,\n",
       "               nan,        nan,        nan,        nan,        nan]),\n",
       " 'split3_test_score': array([0.5195572 , 0.5195572 , 0.5195572 , 0.5195572 , 0.5195572 ,\n",
       "        0.52398524, 0.52472325, 0.5298893 , 0.54095941, 0.54464945,\n",
       "        0.52398524, 0.52546125, 0.5298893 , 0.54095941, 0.54464945,\n",
       "        0.52398524, 0.52546125, 0.5298893 , 0.54095941, 0.54464945,\n",
       "               nan,        nan,        nan,        nan,        nan]),\n",
       " 'split4_test_score': array([0.53579336, 0.53579336, 0.53579336, 0.53579336, 0.53579336,\n",
       "        0.54612546, 0.54612546, 0.54907749, 0.56236162, 0.55424354,\n",
       "        0.54612546, 0.54612546, 0.54907749, 0.56236162, 0.55424354,\n",
       "        0.54612546, 0.54612546, 0.54907749, 0.56236162, 0.55424354,\n",
       "               nan,        nan,        nan,        nan,        nan]),\n",
       " 'split5_test_score': array([0.54243542, 0.54243542, 0.54243542, 0.54243542, 0.54243542,\n",
       "        0.54686347, 0.54907749, 0.55055351, 0.5697417 , 0.57195572,\n",
       "        0.54686347, 0.54907749, 0.55055351, 0.5697417 , 0.57195572,\n",
       "        0.54686347, 0.54907749, 0.55055351, 0.5697417 , 0.57195572,\n",
       "               nan,        nan,        nan,        nan,        nan]),\n",
       " 'split6_test_score': array([0.53948339, 0.53948339, 0.53948339, 0.53948339, 0.53948339,\n",
       "        0.54686347, 0.5498155 , 0.55645756, 0.55940959, 0.56162362,\n",
       "        0.54686347, 0.5498155 , 0.55793358, 0.55940959, 0.56162362,\n",
       "        0.54686347, 0.5498155 , 0.55645756, 0.55940959, 0.56162362,\n",
       "               nan,        nan,        nan,        nan,        nan]),\n",
       " 'split7_test_score': array([0.53431734, 0.53431734, 0.53431734, 0.53431734, 0.53431734,\n",
       "        0.5402214 , 0.54095941, 0.54391144, 0.56457565, 0.56236162,\n",
       "        0.5402214 , 0.54095941, 0.54391144, 0.56383764, 0.56236162,\n",
       "        0.5402214 , 0.54095941, 0.54391144, 0.56457565, 0.56236162,\n",
       "               nan,        nan,        nan,        nan,        nan]),\n",
       " 'split8_test_score': array([0.54760148, 0.54760148, 0.54760148, 0.54760148, 0.54760148,\n",
       "        0.54760148, 0.54907749, 0.55129151, 0.54317343, 0.5402214 ,\n",
       "        0.54760148, 0.54907749, 0.55129151, 0.54391144, 0.5402214 ,\n",
       "        0.54760148, 0.54907749, 0.55129151, 0.54391144, 0.5402214 ,\n",
       "               nan,        nan,        nan,        nan,        nan]),\n",
       " 'split9_test_score': array([0.51660517, 0.51660517, 0.51660517, 0.51660517, 0.51660517,\n",
       "        0.5195572 , 0.5202952 , 0.52546125, 0.53800738, 0.54095941,\n",
       "        0.5195572 , 0.5202952 , 0.52546125, 0.53874539, 0.5402214 ,\n",
       "        0.5195572 , 0.5202952 , 0.52546125, 0.53874539, 0.5402214 ,\n",
       "               nan,        nan,        nan,        nan,        nan]),\n",
       " 'mean_test_score': array([0.53420398, 0.53420398, 0.53420398, 0.53420398, 0.53420398,\n",
       "        0.53885304, 0.53996005, 0.54438837, 0.54881745, 0.5466775 ,\n",
       "        0.53877924, 0.54003385, 0.54468357, 0.54911265, 0.54682494,\n",
       "        0.53877924, 0.54003385, 0.54453597, 0.54918645, 0.5468251 ,\n",
       "               nan,        nan,        nan,        nan,        nan]),\n",
       " 'std_test_score': array([0.00903821, 0.00903821, 0.00903821, 0.00903821, 0.00903821,\n",
       "        0.00929933, 0.00961642, 0.01028909, 0.01379035, 0.01544018,\n",
       "        0.00929696, 0.00950135, 0.01043946, 0.01350948, 0.01509709,\n",
       "        0.00929696, 0.00950135, 0.01025997, 0.01359149, 0.01518875,\n",
       "               nan,        nan,        nan,        nan,        nan]),\n",
       " 'rank_test_score': array([16, 16, 16, 16, 16, 13, 12,  9,  3,  6, 14, 10,  7,  2,  5, 14, 10,\n",
       "         8,  1,  4, 21, 22, 23, 24, 25], dtype=int32)}"
      ]
     },
     "execution_count": 13,
     "metadata": {},
     "output_type": "execute_result"
    }
   ],
   "source": [
    "model_grid.cv_results_"
   ]
  },
  {
   "cell_type": "code",
   "execution_count": 14,
   "metadata": {},
   "outputs": [
    {
     "data": {
      "text/html": [
       "<div>\n",
       "<style scoped>\n",
       "    .dataframe tbody tr th:only-of-type {\n",
       "        vertical-align: middle;\n",
       "    }\n",
       "\n",
       "    .dataframe tbody tr th {\n",
       "        vertical-align: top;\n",
       "    }\n",
       "\n",
       "    .dataframe thead th {\n",
       "        text-align: right;\n",
       "    }\n",
       "</style>\n",
       "<table border=\"1\" class=\"dataframe\">\n",
       "  <thead>\n",
       "    <tr style=\"text-align: right;\">\n",
       "      <th></th>\n",
       "      <th>0</th>\n",
       "      <th>1</th>\n",
       "    </tr>\n",
       "  </thead>\n",
       "  <tbody>\n",
       "    <tr>\n",
       "      <th>0</th>\n",
       "      <td>1116</td>\n",
       "      <td>1786</td>\n",
       "    </tr>\n",
       "    <tr>\n",
       "      <th>1</th>\n",
       "      <td>826</td>\n",
       "      <td>1919</td>\n",
       "    </tr>\n",
       "  </tbody>\n",
       "</table>\n",
       "</div>"
      ],
      "text/plain": [
       "      0     1\n",
       "0  1116  1786\n",
       "1   826  1919"
      ]
     },
     "execution_count": 14,
     "metadata": {},
     "output_type": "execute_result"
    }
   ],
   "source": [
    "# Given an unbiased evaluation  (Question #E203)\n",
    "# ----------------------------------\n",
    "from sklearn.metrics import classification_report, confusion_matrix\n",
    "\n",
    "\n",
    "predicted_y = model_grid.predict(X_test)\n",
    "\n",
    "pd.DataFrame(confusion_matrix(y_test, predicted_y))"
   ]
  },
  {
   "cell_type": "code",
   "execution_count": 15,
   "metadata": {},
   "outputs": [
    {
     "name": "stdout",
     "output_type": "stream",
     "text": [
      "              precision    recall  f1-score   support\n",
      "\n",
      "         0.0       0.57      0.38      0.46      2902\n",
      "         1.0       0.52      0.70      0.60      2745\n",
      "\n",
      "    accuracy                           0.54      5647\n",
      "   macro avg       0.55      0.54      0.53      5647\n",
      "weighted avg       0.55      0.54      0.53      5647\n",
      "\n"
     ]
    }
   ],
   "source": [
    "print(classification_report(y_test, predicted_y))"
   ]
  },
  {
   "cell_type": "markdown",
   "metadata": {},
   "source": [
    "#### <center>Record the optimal hyperparameters and performance resulting from this pipeline.</center>"
   ]
  },
  {
   "cell_type": "code",
   "execution_count": 16,
   "metadata": {
    "scrolled": true
   },
   "outputs": [
    {
     "data": {
      "text/plain": [
       "{'PCA__n_components': 20, 'logistic__C': 20, 'logistic__max_iter': 10000}"
      ]
     },
     "execution_count": 16,
     "metadata": {},
     "output_type": "execute_result"
    }
   ],
   "source": [
    "model_grid.best_params_"
   ]
  },
  {
   "cell_type": "code",
   "execution_count": 17,
   "metadata": {},
   "outputs": [
    {
     "data": {
      "text/plain": [
       "18"
      ]
     },
     "execution_count": 17,
     "metadata": {},
     "output_type": "execute_result"
    }
   ],
   "source": [
    "model_grid.best_index_"
   ]
  },
  {
   "cell_type": "code",
   "execution_count": 18,
   "metadata": {},
   "outputs": [
    {
     "data": {
      "text/plain": [
       "0.5443883682199654"
      ]
     },
     "execution_count": 18,
     "metadata": {},
     "output_type": "execute_result"
    }
   ],
   "source": [
    "model_grid.cv_results_['mean_test_score'][7]"
   ]
  },
  {
   "cell_type": "code",
   "execution_count": 19,
   "metadata": {},
   "outputs": [
    {
     "data": {
      "text/plain": [
       "0.010289089556138284"
      ]
     },
     "execution_count": 19,
     "metadata": {},
     "output_type": "execute_result"
    }
   ],
   "source": [
    "model_grid.cv_results_['std_test_score'][7]"
   ]
  },
  {
   "cell_type": "raw",
   "metadata": {},
   "source": [
    "# Detail Hyperparameters and Results below  (Question #E204)\n",
    "# ---------------------------------------------\n",
    "\n",
    "Optimal Hyperparameters:\n",
    "{'PCA__n_components': 10, 'logistic__C': 15, 'logistic__max_iter': 10000}\n",
    "\n",
    "mean test score of best estimator:\n",
    "0.5434279789700553\n",
    "\n",
    "standard deviation test score of best estimator:\n",
    "0.00867902441727572\n",
    "\n",
    "\n"
   ]
  },
  {
   "cell_type": "markdown",
   "metadata": {},
   "source": [
    "## <span style=\"background: yellow;\">Commit your code!</span> "
   ]
  },
  {
   "cell_type": "markdown",
   "metadata": {},
   "source": [
    "### Your 2nd pipeline\n",
    "  * Anomaly detection\n",
    "  * Dimensionality reduction\n",
    "  * Model training/validation"
   ]
  },
  {
   "cell_type": "code",
   "execution_count": 20,
   "metadata": {},
   "outputs": [
    {
     "data": {
      "image/png": "[encoded data removed]",
      "text/plain": [
       "<Figure size 432x288 with 1 Axes>"
      ]
     },
     "metadata": {
      "needs_background": "light"
     },
     "output_type": "display_data"
    }
   ],
   "source": [
    "# Add anomaly detection code  (Question #E205)\n",
    "# ----------------------------------\n",
    "from sklearn.cluster import KMeans\n",
    "\n",
    "def kmeans_session():\n",
    "    # run k-means clustering\n",
    "    km_clusters = KMeans(n_clusters=3, algorithm=\"full\").fit_predict(X_train, y_train)\n",
    "    \n",
    "    # create cluster distribution, this time they are in tuples so we can sort easily\n",
    "    dist_clusters = ((np.sum(km_clusters==z), z) for z in np.unique(km_clusters))\n",
    "    \n",
    "    # sort clusters descendingly by number of data entries in cluster\n",
    "    dist_clusters = sorted(dist_clusters, reverse = True)\n",
    "    \n",
    "    # find out the cluster with max number of data entries\n",
    "    max_cluster = dist_clusters[0][1]\n",
    "\n",
    "    # select data in max_cluster as inliers\n",
    "    inliers = km_clusters == max_cluster\n",
    "    \n",
    "    X_inliers = X_train[inliers]\n",
    "    y_inliers = y_train[inliers]\n",
    "    \n",
    "    return X_inliers, y_inliers\n",
    "\n",
    "fit_plot(kmeans_session())"
   ]
  },
  {
   "cell_type": "code",
   "execution_count": 21,
   "metadata": {},
   "outputs": [],
   "source": [
    "# Add codes for feature selection and classification pipeline with grid search  (Question #E206)\n",
    "# ----------------------------------\n",
    "from sklearn.svm import SVC\n",
    "\n",
    "pipe2 = Pipeline([\n",
    "    ('PCA', PCA(n_components= 5)),\n",
    "    ('SVC', SVC(kernel='rbf'))\n",
    "])\n"
   ]
  },
  {
   "cell_type": "code",
   "execution_count": 22,
   "metadata": {},
   "outputs": [
    {
     "name": "stderr",
     "output_type": "stream",
     "text": [
      "/opt/conda/lib/python3.7/site-packages/sklearn/utils/validation.py:63: DataConversionWarning: A column-vector y was passed when a 1d array was expected. Please change the shape of y to (n_samples, ), for example using ravel().\n",
      "  return f(*args, **kwargs)\n"
     ]
    },
    {
     "data": {
      "text/plain": [
       "GridSearchCV(cv=10,\n",
       "             estimator=Pipeline(steps=[('PCA', PCA(n_components=5)),\n",
       "                                       ('SVC', SVC())]),\n",
       "             n_jobs=2,\n",
       "             param_grid={'PCA__n_components': [20],\n",
       "                         'SVC__C': [100, 200, 300, 400, 500],\n",
       "                         'SVC__gamma': [0, 1, 2, 3, 4],\n",
       "                         'SVC__kernel': ['rbf']})"
      ]
     },
     "execution_count": 22,
     "metadata": {},
     "output_type": "execute_result"
    }
   ],
   "source": [
    "from scipy.stats import uniform\n",
    "\n",
    "param_grid2 = {'SVC__C': [100,200,300,400,500],\n",
    "              'SVC__gamma': [0,1,2,3,4], \n",
    "              'PCA__n_components': [20],\n",
    "              'SVC__kernel': ['rbf']}\n",
    "\n",
    "model_grid2 = GridSearchCV(pipe2, param_grid2, cv=10, n_jobs=2)\n",
    "\n",
    "X_inliers, y_inliers = kmeans_session()\n",
    "\n",
    "model_grid2.fit(X_inliers, y_inliers)\n",
    "\n",
    "#kmeans_session()\n",
    "\n",
    "#elliptic_envelope_session()"
   ]
  },
  {
   "cell_type": "code",
   "execution_count": 23,
   "metadata": {},
   "outputs": [
    {
     "data": {
      "text/html": [
       "<div>\n",
       "<style scoped>\n",
       "    .dataframe tbody tr th:only-of-type {\n",
       "        vertical-align: middle;\n",
       "    }\n",
       "\n",
       "    .dataframe tbody tr th {\n",
       "        vertical-align: top;\n",
       "    }\n",
       "\n",
       "    .dataframe thead th {\n",
       "        text-align: right;\n",
       "    }\n",
       "</style>\n",
       "<table border=\"1\" class=\"dataframe\">\n",
       "  <thead>\n",
       "    <tr style=\"text-align: right;\">\n",
       "      <th></th>\n",
       "      <th>0</th>\n",
       "      <th>1</th>\n",
       "    </tr>\n",
       "  </thead>\n",
       "  <tbody>\n",
       "    <tr>\n",
       "      <th>0</th>\n",
       "      <td>1322</td>\n",
       "      <td>1580</td>\n",
       "    </tr>\n",
       "    <tr>\n",
       "      <th>1</th>\n",
       "      <td>845</td>\n",
       "      <td>1900</td>\n",
       "    </tr>\n",
       "  </tbody>\n",
       "</table>\n",
       "</div>"
      ],
      "text/plain": [
       "      0     1\n",
       "0  1322  1580\n",
       "1   845  1900"
      ]
     },
     "execution_count": 23,
     "metadata": {},
     "output_type": "execute_result"
    }
   ],
   "source": [
    "# Given an unbiased evaluation  (Question #E207)\n",
    "# ----------------------------------\n",
    "\n",
    "predicted_y2 = model_grid2.predict(X_test)\n",
    "\n",
    "pd.DataFrame(confusion_matrix(y_test, predicted_y2))"
   ]
  },
  {
   "cell_type": "code",
   "execution_count": 24,
   "metadata": {},
   "outputs": [
    {
     "name": "stdout",
     "output_type": "stream",
     "text": [
      "              precision    recall  f1-score   support\n",
      "\n",
      "         0.0       0.61      0.46      0.52      2902\n",
      "         1.0       0.55      0.69      0.61      2745\n",
      "\n",
      "    accuracy                           0.57      5647\n",
      "   macro avg       0.58      0.57      0.57      5647\n",
      "weighted avg       0.58      0.57      0.56      5647\n",
      "\n"
     ]
    }
   ],
   "source": [
    "print(classification_report(y_test, predicted_y2))"
   ]
  },
  {
   "cell_type": "markdown",
   "metadata": {},
   "source": [
    "#### <center>Record the optimal hyperparameters and performance resulting from this pipeline.</center>"
   ]
  },
  {
   "cell_type": "code",
   "execution_count": 25,
   "metadata": {},
   "outputs": [
    {
     "data": {
      "text/plain": [
       "{'PCA__n_components': 20, 'SVC__C': 100, 'SVC__gamma': 3, 'SVC__kernel': 'rbf'}"
      ]
     },
     "execution_count": 25,
     "metadata": {},
     "output_type": "execute_result"
    }
   ],
   "source": [
    "model_grid2.best_params_"
   ]
  },
  {
   "cell_type": "code",
   "execution_count": 26,
   "metadata": {},
   "outputs": [
    {
     "data": {
      "text/plain": [
       "3"
      ]
     },
     "execution_count": 26,
     "metadata": {},
     "output_type": "execute_result"
    }
   ],
   "source": [
    "model_grid2.best_index_"
   ]
  },
  {
   "cell_type": "code",
   "execution_count": 27,
   "metadata": {},
   "outputs": [
    {
     "data": {
      "text/plain": [
       "0.5989536861129493"
      ]
     },
     "execution_count": 27,
     "metadata": {},
     "output_type": "execute_result"
    }
   ],
   "source": [
    "model_grid2.cv_results_['mean_test_score'][7]"
   ]
  },
  {
   "cell_type": "code",
   "execution_count": 28,
   "metadata": {},
   "outputs": [
    {
     "data": {
      "text/plain": [
       "0.016523224086296754"
      ]
     },
     "execution_count": 28,
     "metadata": {},
     "output_type": "execute_result"
    }
   ],
   "source": [
    "model_grid2.cv_results_['std_test_score'][7]"
   ]
  },
  {
   "cell_type": "raw",
   "metadata": {},
   "source": [
    "# Detail Hyperparameters and Results below  (Question #E208)\n",
    "# ---------------------------------------------\n",
    "\n",
    "Optimal Hyperparameters:\n",
    "{'PCA__n_components': 20, 'SVC__C': 500, 'SVC__gamma': 4, 'SVC__kernel': 'rbf'}\n",
    "\n",
    "mean test score of best estimator:\n",
    "0.5975369055720275\n",
    "\n",
    "standard deviation test score of best estimator:\n",
    "0.011900521484125383\n",
    "\n",
    "\n",
    "\n",
    "\n",
    "\n"
   ]
  },
  {
   "cell_type": "markdown",
   "metadata": {},
   "source": [
    "## <span style=\"background: yellow;\">Commit your code!</span> "
   ]
  },
  {
   "cell_type": "markdown",
   "metadata": {},
   "source": [
    "### Your 3rd pipeline\n",
    "  * Anomaly detection\n",
    "  * Dimensionality reduction\n",
    "  * Model training/validation"
   ]
  },
  {
   "cell_type": "code",
   "execution_count": 29,
   "metadata": {},
   "outputs": [],
   "source": [
    "# Add anomaly detection code  (Question #E209)\n",
    "# ----------------------------------\n",
    "from sklearn.neighbors import LocalOutlierFactor\n",
    "\n",
    "def local_outlier_factor_session():\n",
    "    lof_labels = LocalOutlierFactor(n_neighbors=10).fit_predict(X_train, y_train)\n",
    "    inliers = lof_labels == 1\n",
    "    \n",
    "    X_inliers = X_train[inliers]\n",
    "    y_inliers = y_train[inliers]\n",
    "    \n",
    "    return X_inliers, y_inliers\n"
   ]
  },
  {
   "cell_type": "code",
   "execution_count": 30,
   "metadata": {},
   "outputs": [],
   "source": [
    "# Add codes for feature selection and classification pipeline with grid search  (Question #E210)\n",
    "# ----------------------------------\n",
    "from sklearn.naive_bayes import GaussianNB\n",
    "\n",
    "\n",
    "pipe3 = Pipeline([\n",
    "    ('PCA', PCA(n_components= 5)),\n",
    "    ('clf', GaussianNB())\n",
    "])\n",
    "\n",
    "\n",
    "\n"
   ]
  },
  {
   "cell_type": "code",
   "execution_count": 31,
   "metadata": {},
   "outputs": [
    {
     "name": "stderr",
     "output_type": "stream",
     "text": [
      "/opt/conda/lib/python3.7/site-packages/sklearn/utils/validation.py:63: DataConversionWarning: A column-vector y was passed when a 1d array was expected. Please change the shape of y to (n_samples, ), for example using ravel().\n",
      "  return f(*args, **kwargs)\n"
     ]
    },
    {
     "data": {
      "text/plain": [
       "GridSearchCV(cv=10,\n",
       "             estimator=Pipeline(steps=[('PCA', PCA(n_components=5)),\n",
       "                                       ('clf', GaussianNB())]),\n",
       "             n_jobs=2,\n",
       "             param_grid={'clf__priors': [None],\n",
       "                         'clf__var_smoothing': [0.001, 1e-05, 1e-08]})"
      ]
     },
     "execution_count": 31,
     "metadata": {},
     "output_type": "execute_result"
    }
   ],
   "source": [
    "param_grid3 = {\n",
    "    'clf__priors': [None],\n",
    "    'clf__var_smoothing': [0.001, 0.00001, 0.00000001]\n",
    "}\n",
    "\n",
    "\n",
    "model_grid3 = GridSearchCV(pipe3, param_grid3, cv=10, n_jobs=2)\n",
    "\n",
    "X_inliers, y_inliers = local_outlier_factor_session()\n",
    "\n",
    "model_grid3.fit(X_inliers, y_inliers)"
   ]
  },
  {
   "cell_type": "code",
   "execution_count": 32,
   "metadata": {},
   "outputs": [
    {
     "data": {
      "text/html": [
       "<div>\n",
       "<style scoped>\n",
       "    .dataframe tbody tr th:only-of-type {\n",
       "        vertical-align: middle;\n",
       "    }\n",
       "\n",
       "    .dataframe tbody tr th {\n",
       "        vertical-align: top;\n",
       "    }\n",
       "\n",
       "    .dataframe thead th {\n",
       "        text-align: right;\n",
       "    }\n",
       "</style>\n",
       "<table border=\"1\" class=\"dataframe\">\n",
       "  <thead>\n",
       "    <tr style=\"text-align: right;\">\n",
       "      <th></th>\n",
       "      <th>0</th>\n",
       "      <th>1</th>\n",
       "    </tr>\n",
       "  </thead>\n",
       "  <tbody>\n",
       "    <tr>\n",
       "      <th>0</th>\n",
       "      <td>2878</td>\n",
       "      <td>24</td>\n",
       "    </tr>\n",
       "    <tr>\n",
       "      <th>1</th>\n",
       "      <td>2693</td>\n",
       "      <td>52</td>\n",
       "    </tr>\n",
       "  </tbody>\n",
       "</table>\n",
       "</div>"
      ],
      "text/plain": [
       "      0   1\n",
       "0  2878  24\n",
       "1  2693  52"
      ]
     },
     "execution_count": 32,
     "metadata": {},
     "output_type": "execute_result"
    }
   ],
   "source": [
    "# Given an unbiased evaluation  (Question #E211)\n",
    "# ----------------------------------\n",
    "\n",
    "predicted_y3 = model_grid3.predict(X_test)\n",
    "\n",
    "pd.DataFrame(confusion_matrix(y_test, predicted_y3))"
   ]
  },
  {
   "cell_type": "code",
   "execution_count": 33,
   "metadata": {},
   "outputs": [
    {
     "name": "stdout",
     "output_type": "stream",
     "text": [
      "              precision    recall  f1-score   support\n",
      "\n",
      "         0.0       0.52      0.99      0.68      2902\n",
      "         1.0       0.68      0.02      0.04      2745\n",
      "\n",
      "    accuracy                           0.52      5647\n",
      "   macro avg       0.60      0.51      0.36      5647\n",
      "weighted avg       0.60      0.52      0.37      5647\n",
      "\n"
     ]
    }
   ],
   "source": [
    "print(classification_report(y_test, predicted_y3))"
   ]
  },
  {
   "cell_type": "code",
   "execution_count": 34,
   "metadata": {},
   "outputs": [
    {
     "data": {
      "text/plain": [
       "{'clf__priors': None, 'clf__var_smoothing': 1e-08}"
      ]
     },
     "execution_count": 34,
     "metadata": {},
     "output_type": "execute_result"
    }
   ],
   "source": [
    "model_grid3.best_params_"
   ]
  },
  {
   "cell_type": "code",
   "execution_count": 35,
   "metadata": {},
   "outputs": [
    {
     "data": {
      "text/plain": [
       "2"
      ]
     },
     "execution_count": 35,
     "metadata": {},
     "output_type": "execute_result"
    }
   ],
   "source": [
    "model_grid3.best_index_"
   ]
  },
  {
   "cell_type": "code",
   "execution_count": 36,
   "metadata": {},
   "outputs": [
    {
     "data": {
      "text/plain": [
       "0.5927989696956759"
      ]
     },
     "execution_count": 36,
     "metadata": {},
     "output_type": "execute_result"
    }
   ],
   "source": [
    "model_grid2.cv_results_['mean_test_score'][2]"
   ]
  },
  {
   "cell_type": "code",
   "execution_count": 37,
   "metadata": {},
   "outputs": [
    {
     "data": {
      "text/plain": [
       "0.009976148590729858"
      ]
     },
     "execution_count": 37,
     "metadata": {},
     "output_type": "execute_result"
    }
   ],
   "source": [
    "model_grid2.cv_results_['std_test_score'][2]"
   ]
  },
  {
   "cell_type": "markdown",
   "metadata": {},
   "source": [
    "#### <center>Record the optimal hyperparameters and performance resulting from this pipeline.</center>"
   ]
  },
  {
   "cell_type": "raw",
   "metadata": {},
   "source": [
    "# Detail Hyperparameters and Results below  (Question #E212)\n",
    "# ---------------------------------------------\n",
    "\n",
    "Optimal Hyperparameters:\n",
    "{'clf__priors': None, 'clf__var_smoothing': 1e-08}\n",
    "\n",
    "mean test score of best estimator:\n",
    "0.5795088907705335\n",
    "\n",
    "standard deviation test score of best estimator:\n",
    "0.012707872877056475\n",
    "\n",
    "\n",
    "\n",
    "\n",
    "\n"
   ]
  },
  {
   "cell_type": "markdown",
   "metadata": {},
   "source": [
    "## Compare these three pipelines and discuss your findings"
   ]
  },
  {
   "cell_type": "raw",
   "metadata": {},
   "source": [
    "# Write your analysis in this cell (Question #E213)\n",
    "# ----------------------------------\n",
    "\n",
    "All three of these pipelines had an accuracy measurement between 0.5 and 0.6, signifying that none of them were extraordinarily good or bad.\n",
    "\n",
    "For my first pipeline, I used PCA for feature selection and a Logistic Regression Classifier, which resulted in an overall accuracy measurement of 0.54. It was considerably better at correctly classifying products that did go on backorder, compared to those that did not. The best parameters from this pipeline were PCA__n_components = 20 and logistic__C = 15. Overall, this was my second best pipeline.\n",
    "\n",
    "For my second pipeline I used PCA for feature selection and an SVC classifier. This was my best pipeline, resulting in an accuracy score of 0.58, and was quite precise in predicting both products that did and did not go on backorder. The best parameters were SVC__C = 400 and SVC__gamma = 2.\n",
    "\n",
    "For my third pipeline, I used PCA for feature selection and GaussianNB (Naive Bayes) as the classifier. This was my first time creating a pipeline using a GaussianNB classifier, so I wasn't sure what parameters I should have used. This was also my worst pipeline. Although it did an extraordinary job at classifying the '0' values (products that did not go on backorder), it was abysmal at classifying the ones that did. I may take this into consideration when selecting parameters for a GaussianNB classifier in the future. Overall the accuracy score was 0.51, but this is perhaps a bit misleading as the '1' values had a recall score of 0.99 and the '0' values had a recall of 0.02. The best parameters for this pipeline were clf__var_smoothing: 1e-08. Bayesian models by nature generally include priors, but I did not know what to use for priors in this case. Overall, I do believe GaussianNB can be a good classifier, I just need more experience in selecting the right parameters.\n",
    "\n",
    "\n",
    "\n",
    "\n",
    "\n"
   ]
  },
  {
   "cell_type": "markdown",
   "metadata": {},
   "source": [
    "## <span style=\"background: yellow;\">Commit your code!</span> "
   ]
  },
  {
   "cell_type": "markdown",
   "metadata": {},
   "source": [
    "### Pickle the required pipeline/models for Part III."
   ]
  },
  {
   "cell_type": "code",
   "execution_count": 38,
   "metadata": {},
   "outputs": [
    {
     "data": {
      "text/plain": [
       "['pipelines.pkl']"
      ]
     },
     "execution_count": 38,
     "metadata": {},
     "output_type": "execute_result"
    }
   ],
   "source": [
    "\n",
    "joblib.dump([pipe1, model_grid, pipe2, model_grid2, pipe3, model_grid3], 'pipelines.pkl')\n"
   ]
  },
  {
   "cell_type": "markdown",
   "metadata": {},
   "source": [
    "You should have made a few commits so far of this project.  \n",
    "**Definitely make a commit of the notebook now!**  \n",
    "Comment should be: `Final Project, Checkpoint - Pipelines done`\n"
   ]
  },
  {
   "cell_type": "markdown",
   "metadata": {},
   "source": [
    "# Save your notebook!\n",
    "## Then `File > Close and Halt`"
   ]
  }
 ],
 "metadata": {
  "kernelspec": {
   "display_name": "Python 3",
   "language": "python",
   "name": "python3"
  },
  "language_info": {
   "codemirror_mode": {
    "name": "ipython",
    "version": 3
   },
   "file_extension": ".py",
   "mimetype": "text/x-python",
   "name": "python",
   "nbconvert_exporter": "python",
   "pygments_lexer": "ipython3",
   "version": "3.7.3"
  }
 },
 "nbformat": 4,
 "nbformat_minor": 4
}
