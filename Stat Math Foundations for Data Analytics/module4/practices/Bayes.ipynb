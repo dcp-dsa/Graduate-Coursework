{
 "cells": [
  {
   "cell_type": "markdown",
   "metadata": {},
   "source": [
    "<span style=\"color:#1871d6; font-size:24px; font-weight:700\"> Bayes Theorem </span>\n",
    "\n",
    "The cigar example in the lab illustrates the application of Bayes' theorem with its calculation using the formula. \n",
    "Unfortunately, that calculation is complicated and can cause confusion and/or incorrect substitution of the involved\n",
    "probability values. \n",
    "Fortunately, here is another approach that is much more intuitive and easier:\n",
    "\n",
    "Assume some convenient value for the total of all items involved, \n",
    "then construct a table of rows and columns with the individual cell frequencies based on the known probabilities.\n",
    "\n",
    "For example, let's assume that the adult population in Boone County, Missouri is 100,000. \n",
    "Now we can use the given information to create a table.\n",
    "\n",
    "*Number of males who smoke cigars:* \n",
    "51% of adults are males; so there are 51,000 males. \n",
    "If 9.5% of them smoke, that makes 0.095 x 51,000 = 4845. \n",
    "Then, males who do not smoke are 51,000 - 4845 = 46,155.\n",
    "See the table where these values go.\n",
    "\n",
    "\n",
    "*Number of females who smoke cigars:* 49% of the adults are females, that makes 49,000. \n",
    "1.7% of them are smokers, so 0.017 x 49,000 = 833. \n",
    "The number of females who do not smoke is 49,000 - 833 = 48,167. \n",
    "Again look at the table below. "
   ]
  },
  {
   "cell_type": "code",
   "execution_count": null,
   "metadata": {},
   "outputs": [],
   "source": [
    "cigar <- matrix(c(4845, 833, 46155, 48167), ncol = 2)\n",
    "colnames(cigar) <- c('smoker', 'nonsmoker')\n",
    "rownames(cigar) <- c('male', 'female')\n",
    "cigar.table <- as.table(cigar)\n",
    "\n",
    "addmargins(cigar.table)"
   ]
  },
  {
   "cell_type": "markdown",
   "metadata": {},
   "source": [
    "The above table involves simple arithmetic. \n",
    "Simply partition the assumed population into the different cell categories by finding suitable percentages.\n",
    "\n",
    "Now we can easily address the key question as follows: \n",
    "To find the probability of getting a male subject, given that the subject smokes cigars, \n",
    "simply use the same conditional probability described before. \n",
    "\n",
    "To find the probability of getting a male given that the subject smokes, \n",
    "restrict the table to the column of cigar smokers, \n",
    "then find the probability of getting a male in that column.\n",
    "Among the 5678 cigar smokers, there are 4845 males, so the probability we seek is 4845/5678 = 0.85329341. \n",
    "That is, $P(M | C)$ = 4845/5678 = 0.85329341 = 0.853 (rounded).\n",
    "\n",
    "**Activity 1:** \n",
    "Now, your turn: \n",
    "The actual population of Boone County, Missouri is 170,733 (as of 2013).\n",
    "Create the above table with actual population values for the given percentages and find the actual $P(M | C)$."
   ]
  },
  {
   "cell_type": "code",
   "execution_count": null,
   "metadata": {
    "collapsed": true
   },
   "outputs": [],
   "source": [
    "# Add your code here\n",
    "# --------------------\n",
    "\n",
    "\n",
    "\n"
   ]
  },
  {
   "cell_type": "markdown",
   "metadata": {},
   "source": [
    "a) Now, using the same table, randomly select an individual, what is the prior probability that the selected person is a female?\n",
    "\n",
    "b) You later learn that the randomly selected person was smoking a cigar. \n",
    "Use this additional information to find the posterior probability that the selected person is a female."
   ]
  },
  {
   "cell_type": "code",
   "execution_count": null,
   "metadata": {
    "collapsed": true
   },
   "outputs": [],
   "source": [
    "addmargins(prop.table(cigar))"
   ]
  },
  {
   "cell_type": "code",
   "execution_count": null,
   "metadata": {
    "collapsed": true
   },
   "outputs": [],
   "source": [
    "# Add your code here\n",
    "# --------------------\n",
    "\n",
    "\n",
    "\n"
   ]
  },
  {
   "cell_type": "markdown",
   "metadata": {},
   "source": [
    "Load the framingham data from the directory '/datasets/framingham'."
   ]
  },
  {
   "cell_type": "code",
   "execution_count": null,
   "metadata": {},
   "outputs": [],
   "source": [
    "framingham_data <- read.csv(\"/dsa/data/all_datasets/framingham/framingham.csv\")\n",
    "head(framingham_data)"
   ]
  },
  {
   "cell_type": "markdown",
   "metadata": {},
   "source": [
    "**Activity 2:** Create a two-way table from this data set with diabetes condition in the columns and gender in the rows. Use addmargins to add totals.\n"
   ]
  },
  {
   "cell_type": "code",
   "execution_count": null,
   "metadata": {},
   "outputs": [],
   "source": [
    "dia <- with(framingham_data,table(<what goes here>,<what goes here>))\n",
    "colnames(dia) <- c('nondiabetes','diabetes')\n",
    "rownames(dia) <- c('female','male')\n",
    "<what goes here>(dia)"
   ]
  },
  {
   "cell_type": "markdown",
   "metadata": {},
   "source": [
    "**Activity 3:** What is the probability that an individual has diabetes, given that the individual is female?  Let <b>d</b> be an event of diabetes and <b>d'</b> be event of nondiabetes.\n",
    "Similarly let $f$ be the event of female and $f'$ be event of male. \n",
    "Find $P(d | f)$ using Bayes formula.\n",
    "\n",
    "            \n",
    "                         p(d) * p(f|d)\n",
    "     p(d|f) =  -------------------------------------\n",
    "               [p(d) * p(f|d)] + [ p(d') * p(f|d')]"
   ]
  },
  {
   "cell_type": "code",
   "execution_count": null,
   "metadata": {
    "collapsed": true
   },
   "outputs": [],
   "source": [
    "# Add your code here\n",
    "# --------------------\n",
    "\n",
    "\n",
    "\n",
    "\n"
   ]
  },
  {
   "cell_type": "markdown",
   "metadata": {},
   "source": [
    "# Save your notebook!"
   ]
  }
 ],
 "metadata": {
  "kernelspec": {
   "display_name": "R",
   "language": "R",
   "name": "ir"
  },
  "language_info": {
   "codemirror_mode": "r",
   "file_extension": ".r",
   "mimetype": "text/x-r-source",
   "name": "R",
   "pygments_lexer": "r",
   "version": "3.5.1"
  }
 },
 "nbformat": 4,
 "nbformat_minor": 1
}
