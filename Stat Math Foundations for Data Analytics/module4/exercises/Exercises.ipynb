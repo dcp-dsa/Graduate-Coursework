{
 "cells": [
  {
   "cell_type": "markdown",
   "metadata": {
    "collapsed": true
   },
   "source": [
    "### Module 4 - Probability Exercises "
   ]
  },
  {
   "cell_type": "markdown",
   "metadata": {},
   "source": [
    "Most of the concepts we discussed in this module were theoretical. Examples were used to explain how to apply conditional probability concepts on dataset columns. The exercises in this notebook will be similar to what you have seen in lab and practice notebooks. \n",
    "\n",
    "Refer to your labs: [Bayes](../labs/Bayes.ipynb), [Conditional_Probability](../labs/Conditional_Probability.ipynb) and [Other_Distributions](../labs/Other_Distributions.ipynb).  \n",
    "\n",
    "Practice notebooks: [Conditional_Probability](../practices/Conditional_Probability.ipynb) and [Bayes](../labs/Bayes.ipynb). "
   ]
  },
  {
   "cell_type": "markdown",
   "metadata": {},
   "source": [
    "Let's recall what is an independent and dependent event through below activity. Consider an event of rolling two dice. The sample space S={{1,1}, {1,2}, {1,3},....,{6,6}} contains 36 possible combinations on two dice.\n",
    "\n",
    "<span style=\"color:#1871d6; font-weight:400\">Activity 1.a: </span> What is the probability of getting a 2 on either dice?"
   ]
  },
  {
   "cell_type": "code",
   "execution_count": 10,
   "metadata": {},
   "outputs": [
    {
     "name": "stderr",
     "output_type": "stream",
     "text": [
      "Updating HTML index of packages in '.Library'\n",
      "Making 'packages.html' ... done\n"
     ]
    },
    {
     "data": {
      "text/html": [
       "0.305555555555556"
      ],
      "text/latex": [
       "0.305555555555556"
      ],
      "text/markdown": [
       "0.305555555555556"
      ],
      "text/plain": [
       "[1] 0.3055556"
      ]
     },
     "metadata": {},
     "output_type": "display_data"
    }
   ],
   "source": [
    "# Your code for activity 1.a goes here...\n",
    "\n",
    "install.packages('prob')\n",
    "\n",
    "library(prob)\n",
    "S <- rolldie(2, makespace = TRUE)\n",
    "\n",
    "# Define the event A such that it has all possible combinations including a 2 {{1,2}, {2,2}, {2,3},...} \n",
    "\n",
    "A <- subset(S, X1==2 | X2==2)\n",
    "\n",
    "Prob(A)"
   ]
  },
  {
   "cell_type": "markdown",
   "metadata": {},
   "source": [
    "<span style=\"color:#1871d6; font-weight:400\">Activity 1.b: </span> What is the probability of getting a 2 on either dice given that the sum of the two outcomes is less than 6? "
   ]
  },
  {
   "cell_type": "code",
   "execution_count": 14,
   "metadata": {},
   "outputs": [
    {
     "data": {
      "text/html": [
       "0.5"
      ],
      "text/latex": [
       "0.5"
      ],
      "text/markdown": [
       "0.5"
      ],
      "text/plain": [
       "[1] 0.5"
      ]
     },
     "metadata": {},
     "output_type": "display_data"
    }
   ],
   "source": [
    "# Your code for activity 1.b goes here...\n",
    "\n",
    "# Define the event A such that it has all possible combinations including 2 {{1,2}, {2,2},...}.\n",
    "\n",
    "A <- subset(S, X1==2 | X2==2)\n",
    "\n",
    "# Define event B such that sum of outcomes is less than 6. \n",
    "\n",
    "B <- subset(S, X1 + X2 < 6)\n",
    "\n",
    "# Event A is conditional on Event B \n",
    "\n",
    "Prob(A, given = B)"
   ]
  },
  {
   "cell_type": "markdown",
   "metadata": {},
   "source": [
    "<span style=\"color:#1871d6; font-weight:400\">Activity 2: </span> Toss a coin twice. The sample space is given by S = {HH, HT, TH, TT}. Let A = {head occurs} and B = {a head and tail occur}. What are the probabilities P(A|B) and P(B|A)?"
   ]
  },
  {
   "cell_type": "markdown",
   "metadata": {},
   "source": [
    "````\n",
    "        \n",
    "     Double click here. Enter your answer for activity 2 here.\n",
    "     \n",
    "     P(A|B) = 1\n",
    "     P(B|A) = 0.666666666667\n",
    "\n",
    "````"
   ]
  },
  {
   "cell_type": "markdown",
   "metadata": {},
   "source": [
    "# <span style=\"color:#1871d6; font-weight:400\">Activity 3: </span> We have data about the smoking status versus the gender of people working in a company.\n",
    "\n",
    "<table>\n",
    "    <tr>\n",
    "        <th></th>\n",
    "        <th colspan=\"2\">gender</th>\n",
    "        <th>sum</th>\n",
    "    </tr>\n",
    "    <tr>\n",
    "        <td rowspan=\"2\">smoke</td>\n",
    "        <td>80</td>\n",
    "        <td>54</td>\n",
    "        <td>134</td>\n",
    "    </tr>\n",
    "    <tr>\n",
    "        <td>15</td>\n",
    "        <td>19</td>\n",
    "        <td>34</td>\n",
    "    </tr>\n",
    "    <tr>\n",
    "        <td>sum</td>\n",
    "        <td>95</td>\n",
    "        <td>73</td>\n",
    "        <td>168</td>\n",
    "    </tr>\n",
    "</table>\n",
    "    \n",
    "    \n",
    "3.a) If one person were selected at random from the data set, what is the probability that selected person is female?\n",
    "\n",
    "3.b) What is the probability that selected person is a smoker?"
   ]
  },
  {
   "cell_type": "code",
   "execution_count": 22,
   "metadata": {},
   "outputs": [
    {
     "data": {
      "text/html": [
       "<table>\n",
       "<caption>A matrix: 3 × 3 of type dbl</caption>\n",
       "<thead>\n",
       "\t<tr><th></th><th scope=col>male</th><th scope=col>female</th><th scope=col>sum</th></tr>\n",
       "</thead>\n",
       "<tbody>\n",
       "\t<tr><th scope=row>Smoking-yes</th><td>80</td><td>54</td><td>134</td></tr>\n",
       "\t<tr><th scope=row>Smoking-no</th><td>15</td><td>19</td><td> 34</td></tr>\n",
       "\t<tr><th scope=row>sum</th><td>95</td><td>73</td><td>168</td></tr>\n",
       "</tbody>\n",
       "</table>\n"
      ],
      "text/latex": [
       "A matrix: 3 × 3 of type dbl\n",
       "\\begin{tabular}{r|lll}\n",
       "  & male & female & sum\\\\\n",
       "\\hline\n",
       "\tSmoking-yes & 80 & 54 & 134\\\\\n",
       "\tSmoking-no & 15 & 19 &  34\\\\\n",
       "\tsum & 95 & 73 & 168\\\\\n",
       "\\end{tabular}\n"
      ],
      "text/markdown": [
       "\n",
       "A matrix: 3 × 3 of type dbl\n",
       "\n",
       "| <!--/--> | male | female | sum |\n",
       "|---|---|---|---|\n",
       "| Smoking-yes | 80 | 54 | 134 |\n",
       "| Smoking-no | 15 | 19 |  34 |\n",
       "| sum | 95 | 73 | 168 |\n",
       "\n"
      ],
      "text/plain": [
       "            male female sum\n",
       "Smoking-yes 80   54     134\n",
       "Smoking-no  15   19      34\n",
       "sum         95   73     168"
      ]
     },
     "metadata": {},
     "output_type": "display_data"
    }
   ],
   "source": [
    "# Code for Activity 3 goes here -----\n",
    "# Generate the matrix required to find probabilities\n",
    "\n",
    "smoke <- matrix(c(80, 15, 95, 54, 19, 73, 134, 34, 168), nrow=3, ncol=3, dimnames = list(c(\"Smoking-yes\", \"Smoking-no\", \"sum\"),\n",
    "                                                                               c(\"male\", \"female\", \"sum\")))\n",
    "smoke"
   ]
  },
  {
   "cell_type": "code",
   "execution_count": 25,
   "metadata": {},
   "outputs": [
    {
     "data": {
      "text/html": [
       "0.43452380952381"
      ],
      "text/latex": [
       "0.43452380952381"
      ],
      "text/markdown": [
       "0.43452380952381"
      ],
      "text/plain": [
       "[1] 0.4345238"
      ]
     },
     "metadata": {},
     "output_type": "display_data"
    }
   ],
   "source": [
    "# Answer for Activity 3.a goes here -----\n",
    "# P(Female) = \n",
    "\n",
    "73/168"
   ]
  },
  {
   "cell_type": "code",
   "execution_count": 27,
   "metadata": {},
   "outputs": [
    {
     "data": {
      "text/html": [
       "0.73972602739726"
      ],
      "text/latex": [
       "0.73972602739726"
      ],
      "text/markdown": [
       "0.73972602739726"
      ],
      "text/plain": [
       "[1] 0.739726"
      ]
     },
     "metadata": {},
     "output_type": "display_data"
    }
   ],
   "source": [
    "# Answer for Activity 3.b goes here -----\n",
    "# P(smoker | Female) = \n",
    "\n",
    "54/73"
   ]
  },
  {
   "cell_type": "markdown",
   "metadata": {},
   "source": [
    "<span style=\"color:#1871d6; font-weight:400\">Activity 4: </span>  Load the framingham data from the directory '/datasets/framingham'. Find out the probability of a randomly subject to have the risk of coronary heart disease given that the subject is a male."
   ]
  },
  {
   "cell_type": "code",
   "execution_count": 32,
   "metadata": {},
   "outputs": [
    {
     "data": {
      "text/html": [
       "<table>\n",
       "<caption>A data.frame: 6 × 16</caption>\n",
       "<thead>\n",
       "\t<tr><th scope=col>male</th><th scope=col>age</th><th scope=col>education</th><th scope=col>currentSmoker</th><th scope=col>cigsPerDay</th><th scope=col>BPMeds</th><th scope=col>prevalentStroke</th><th scope=col>prevalentHyp</th><th scope=col>diabetes</th><th scope=col>totChol</th><th scope=col>sysBP</th><th scope=col>diaBP</th><th scope=col>BMI</th><th scope=col>heartRate</th><th scope=col>glucose</th><th scope=col>TenYearCHD</th></tr>\n",
       "\t<tr><th scope=col>&lt;int&gt;</th><th scope=col>&lt;int&gt;</th><th scope=col>&lt;int&gt;</th><th scope=col>&lt;int&gt;</th><th scope=col>&lt;int&gt;</th><th scope=col>&lt;int&gt;</th><th scope=col>&lt;int&gt;</th><th scope=col>&lt;int&gt;</th><th scope=col>&lt;int&gt;</th><th scope=col>&lt;int&gt;</th><th scope=col>&lt;dbl&gt;</th><th scope=col>&lt;dbl&gt;</th><th scope=col>&lt;dbl&gt;</th><th scope=col>&lt;int&gt;</th><th scope=col>&lt;int&gt;</th><th scope=col>&lt;int&gt;</th></tr>\n",
       "</thead>\n",
       "<tbody>\n",
       "\t<tr><td>1</td><td>39</td><td>4</td><td>0</td><td> 0</td><td>0</td><td>0</td><td>0</td><td>0</td><td>195</td><td>106.0</td><td> 70</td><td>26.97</td><td>80</td><td> 77</td><td>0</td></tr>\n",
       "\t<tr><td>0</td><td>46</td><td>2</td><td>0</td><td> 0</td><td>0</td><td>0</td><td>0</td><td>0</td><td>250</td><td>121.0</td><td> 81</td><td>28.73</td><td>95</td><td> 76</td><td>0</td></tr>\n",
       "\t<tr><td>1</td><td>48</td><td>1</td><td>1</td><td>20</td><td>0</td><td>0</td><td>0</td><td>0</td><td>245</td><td>127.5</td><td> 80</td><td>25.34</td><td>75</td><td> 70</td><td>0</td></tr>\n",
       "\t<tr><td>0</td><td>61</td><td>3</td><td>1</td><td>30</td><td>0</td><td>0</td><td>1</td><td>0</td><td>225</td><td>150.0</td><td> 95</td><td>28.58</td><td>65</td><td>103</td><td>1</td></tr>\n",
       "\t<tr><td>0</td><td>46</td><td>3</td><td>1</td><td>23</td><td>0</td><td>0</td><td>0</td><td>0</td><td>285</td><td>130.0</td><td> 84</td><td>23.10</td><td>85</td><td> 85</td><td>0</td></tr>\n",
       "\t<tr><td>0</td><td>43</td><td>2</td><td>0</td><td> 0</td><td>0</td><td>0</td><td>1</td><td>0</td><td>228</td><td>180.0</td><td>110</td><td>30.30</td><td>77</td><td> 99</td><td>0</td></tr>\n",
       "</tbody>\n",
       "</table>\n"
      ],
      "text/latex": [
       "A data.frame: 6 × 16\n",
       "\\begin{tabular}{r|llllllllllllllll}\n",
       " male & age & education & currentSmoker & cigsPerDay & BPMeds & prevalentStroke & prevalentHyp & diabetes & totChol & sysBP & diaBP & BMI & heartRate & glucose & TenYearCHD\\\\\n",
       " <int> & <int> & <int> & <int> & <int> & <int> & <int> & <int> & <int> & <int> & <dbl> & <dbl> & <dbl> & <int> & <int> & <int>\\\\\n",
       "\\hline\n",
       "\t 1 & 39 & 4 & 0 &  0 & 0 & 0 & 0 & 0 & 195 & 106.0 &  70 & 26.97 & 80 &  77 & 0\\\\\n",
       "\t 0 & 46 & 2 & 0 &  0 & 0 & 0 & 0 & 0 & 250 & 121.0 &  81 & 28.73 & 95 &  76 & 0\\\\\n",
       "\t 1 & 48 & 1 & 1 & 20 & 0 & 0 & 0 & 0 & 245 & 127.5 &  80 & 25.34 & 75 &  70 & 0\\\\\n",
       "\t 0 & 61 & 3 & 1 & 30 & 0 & 0 & 1 & 0 & 225 & 150.0 &  95 & 28.58 & 65 & 103 & 1\\\\\n",
       "\t 0 & 46 & 3 & 1 & 23 & 0 & 0 & 0 & 0 & 285 & 130.0 &  84 & 23.10 & 85 &  85 & 0\\\\\n",
       "\t 0 & 43 & 2 & 0 &  0 & 0 & 0 & 1 & 0 & 228 & 180.0 & 110 & 30.30 & 77 &  99 & 0\\\\\n",
       "\\end{tabular}\n"
      ],
      "text/markdown": [
       "\n",
       "A data.frame: 6 × 16\n",
       "\n",
       "| male &lt;int&gt; | age &lt;int&gt; | education &lt;int&gt; | currentSmoker &lt;int&gt; | cigsPerDay &lt;int&gt; | BPMeds &lt;int&gt; | prevalentStroke &lt;int&gt; | prevalentHyp &lt;int&gt; | diabetes &lt;int&gt; | totChol &lt;int&gt; | sysBP &lt;dbl&gt; | diaBP &lt;dbl&gt; | BMI &lt;dbl&gt; | heartRate &lt;int&gt; | glucose &lt;int&gt; | TenYearCHD &lt;int&gt; |\n",
       "|---|---|---|---|---|---|---|---|---|---|---|---|---|---|---|---|\n",
       "| 1 | 39 | 4 | 0 |  0 | 0 | 0 | 0 | 0 | 195 | 106.0 |  70 | 26.97 | 80 |  77 | 0 |\n",
       "| 0 | 46 | 2 | 0 |  0 | 0 | 0 | 0 | 0 | 250 | 121.0 |  81 | 28.73 | 95 |  76 | 0 |\n",
       "| 1 | 48 | 1 | 1 | 20 | 0 | 0 | 0 | 0 | 245 | 127.5 |  80 | 25.34 | 75 |  70 | 0 |\n",
       "| 0 | 61 | 3 | 1 | 30 | 0 | 0 | 1 | 0 | 225 | 150.0 |  95 | 28.58 | 65 | 103 | 1 |\n",
       "| 0 | 46 | 3 | 1 | 23 | 0 | 0 | 0 | 0 | 285 | 130.0 |  84 | 23.10 | 85 |  85 | 0 |\n",
       "| 0 | 43 | 2 | 0 |  0 | 0 | 0 | 1 | 0 | 228 | 180.0 | 110 | 30.30 | 77 |  99 | 0 |\n",
       "\n"
      ],
      "text/plain": [
       "  male age education currentSmoker cigsPerDay BPMeds prevalentStroke\n",
       "1 1    39  4         0              0         0      0              \n",
       "2 0    46  2         0              0         0      0              \n",
       "3 1    48  1         1             20         0      0              \n",
       "4 0    61  3         1             30         0      0              \n",
       "5 0    46  3         1             23         0      0              \n",
       "6 0    43  2         0              0         0      0              \n",
       "  prevalentHyp diabetes totChol sysBP diaBP BMI   heartRate glucose TenYearCHD\n",
       "1 0            0        195     106.0  70   26.97 80         77     0         \n",
       "2 0            0        250     121.0  81   28.73 95         76     0         \n",
       "3 0            0        245     127.5  80   25.34 75         70     0         \n",
       "4 1            0        225     150.0  95   28.58 65        103     1         \n",
       "5 0            0        285     130.0  84   23.10 85         85     0         \n",
       "6 1            0        228     180.0 110   30.30 77         99     0         "
      ]
     },
     "metadata": {},
     "output_type": "display_data"
    }
   ],
   "source": [
    "# Code for Activity 4 goes here -----\n",
    "\n",
    "framingham_data <- read.csv(\"/dsa/data/all_datasets/framingham/framingham.csv\")\n",
    "head(framingham_data)"
   ]
  },
  {
   "cell_type": "code",
   "execution_count": 40,
   "metadata": {},
   "outputs": [
    {
     "data": {
      "text/plain": [
       "    TenYearCHD\n",
       "male    0    1\n",
       "   0 2119  301\n",
       "   1 1477  343"
      ]
     },
     "metadata": {},
     "output_type": "display_data"
    }
   ],
   "source": [
    "# P(CHD|Male) = P(Male and CHD) / P(Male)\n",
    "# Enter your answer for Activity 4 -----\n",
    "\n",
    "with(framingham_data, table(male, TenYearCHD))\n"
   ]
  },
  {
   "cell_type": "code",
   "execution_count": 41,
   "metadata": {},
   "outputs": [
    {
     "data": {
      "text/html": [
       "0.188461538461538"
      ],
      "text/latex": [
       "0.188461538461538"
      ],
      "text/markdown": [
       "0.188461538461538"
      ],
      "text/plain": [
       "[1] 0.1884615"
      ]
     },
     "metadata": {},
     "output_type": "display_data"
    }
   ],
   "source": [
    "343/(1477+343)"
   ]
  },
  {
   "cell_type": "markdown",
   "metadata": {},
   "source": [
    "<span style=\"color:#1871d6; font-weight:400\">Activity 5: </span> Find out the probability of randomly selected subject to have the risk of coronary heart disease given subject is less than or equal to 40 years of age."
   ]
  },
  {
   "cell_type": "code",
   "execution_count": 48,
   "metadata": {},
   "outputs": [
    {
     "data": {
      "text/plain": [
       "           TenYearCHD\n",
       "forty_under    0    1\n",
       "      FALSE 2886  606\n",
       "      TRUE   710   38"
      ]
     },
     "metadata": {},
     "output_type": "display_data"
    }
   ],
   "source": [
    "# Code for activity 5 goes here...\n",
    "framingham_data2 <- framingham_data\n",
    "framingham_data2$forty_under <- with(framingham_data2, ifelse(framingham_data2$age <= 40, \"TRUE\", \"FALSE\"))\n",
    "\n",
    "with(framingham_data2, table(forty_under, TenYearCHD))\n"
   ]
  },
  {
   "cell_type": "code",
   "execution_count": 49,
   "metadata": {},
   "outputs": [
    {
     "data": {
      "text/html": [
       "0.0508021390374332"
      ],
      "text/latex": [
       "0.0508021390374332"
      ],
      "text/markdown": [
       "0.0508021390374332"
      ],
      "text/plain": [
       "[1] 0.05080214"
      ]
     },
     "metadata": {},
     "output_type": "display_data"
    }
   ],
   "source": [
    "# P(CHD | age <= 40) = P(CHD and age <= 40) / P(age <= 40)\n",
    "# Enter your answer for Activity 5 -----\n",
    "\n",
    "38/(710+38)"
   ]
  },
  {
   "cell_type": "markdown",
   "metadata": {},
   "source": [
    "<span style=\"color:#1871d6; font-weight:400\">Activity 6: </span> Find out the probability of randomly selected subject to have the risk of coronary heart disease given that the subject smokes less than 10 cigarettes and is a current smoker. \n",
    "\n",
    "**Hint:** Use a 3-way table to include the variables cigsPerDay, TenYearCHD and currentSmoker. Use currentSmoker as the 3rd dimension/input."
   ]
  },
  {
   "cell_type": "code",
   "execution_count": 50,
   "metadata": {},
   "outputs": [
    {
     "data": {
      "text/plain": [
       ", , currentSmoker = 0\n",
       "\n",
       "           TenYearCHD\n",
       "lessTenCigs    0    1\n",
       "      FALSE    0    0\n",
       "      TRUE  1834  311\n",
       "\n",
       ", , currentSmoker = 1\n",
       "\n",
       "           TenYearCHD\n",
       "lessTenCigs    0    1\n",
       "      FALSE 1302  278\n",
       "      TRUE   433   53\n"
      ]
     },
     "metadata": {},
     "output_type": "display_data"
    }
   ],
   "source": [
    "# Code for activity 6 goes here....\n",
    "\n",
    "framingham_data2$lessTenCigs <- with(framingham_data2, ifelse(framingham_data2$cigsPerDay < 10, \"TRUE\", \"FALSE\"))\n",
    "\n",
    "with(framingham_data2, table(lessTenCigs, TenYearCHD, currentSmoker))"
   ]
  },
  {
   "cell_type": "code",
   "execution_count": 51,
   "metadata": {},
   "outputs": [
    {
     "data": {
      "text/html": [
       "0.109053497942387"
      ],
      "text/latex": [
       "0.109053497942387"
      ],
      "text/markdown": [
       "0.109053497942387"
      ],
      "text/plain": [
       "[1] 0.1090535"
      ]
     },
     "metadata": {},
     "output_type": "display_data"
    }
   ],
   "source": [
    "# P( risk of CHD | subject smokes <10 cigs ) = P( risk of CHD and subject smokes <10 cigs)/ P(subject smokes <10 cigs)\n",
    "# Enter your answer for Activity 6 -----\n",
    "\n",
    "53/(433+53)"
   ]
  },
  {
   "cell_type": "markdown",
   "metadata": {},
   "source": [
    "<span style=\"color:#1871d6; font-weight:400\">Activity 7.a: </span> Find out the probability of randomly selected subject to have the risk of coronary heart disease given that the subject has totChol > 300 and has BMI >30. \n",
    "\n",
    "<span style=\"color:#1871d6; font-weight:400\">Activity 7.b: </span> Find out the probability of randomly selected subject to have the risk of coronary heart disease given that the subject has totChol > 300 and has BMI < 30. \n",
    "\n",
    "**Hint:** Use a 3-way table. Use BMI as the 3rd dimension/input."
   ]
  },
  {
   "cell_type": "code",
   "execution_count": 55,
   "metadata": {},
   "outputs": [
    {
     "data": {
      "text/plain": [
       ", , BMI_30 = <30\n",
       "\n",
       "              TenYearCHD\n",
       "greaterChol300    0    1\n",
       "         FALSE 2908  463\n",
       "         TRUE   214   58\n",
       "\n",
       ", , BMI_30 = >30\n",
       "\n",
       "              TenYearCHD\n",
       "greaterChol300    0    1\n",
       "         FALSE  386   91\n",
       "         TRUE    38   11\n",
       "\n",
       ", , BMI_30 = 30\n",
       "\n",
       "              TenYearCHD\n",
       "greaterChol300    0    1\n",
       "         FALSE    1    2\n",
       "         TRUE     0    0\n"
      ]
     },
     "metadata": {},
     "output_type": "display_data"
    }
   ],
   "source": [
    "# Code for activity 7 goes here....\n",
    "\n",
    "framingham_data2$BMI_30 <- with(framingham_data2, ifelse(framingham_data2$BMI < 30, \"<30\", ifelse(framingham_data2$BMI > 30, \n",
    "                                                                                                             \">30\", \"30\")))\n",
    "\n",
    "framingham_data2$greaterChol300 <- with(framingham_data2, ifelse(framingham_data2$totChol > 300, \"TRUE\", \"FALSE\"))\n",
    "\n",
    "with(framingham_data2, table(greaterChol300, TenYearCHD, BMI_30))\n",
    "\n",
    "\n",
    "# with(framingham_data,xtabs(~(totChol>300)+TenYearCHD+(BMI>30)))\n"
   ]
  },
  {
   "cell_type": "code",
   "execution_count": 56,
   "metadata": {},
   "outputs": [
    {
     "data": {
      "text/html": [
       "0.224489795918367"
      ],
      "text/latex": [
       "0.224489795918367"
      ],
      "text/markdown": [
       "0.224489795918367"
      ],
      "text/plain": [
       "[1] 0.2244898"
      ]
     },
     "metadata": {},
     "output_type": "display_data"
    }
   ],
   "source": [
    "# Enter your answer for Activity 7.a (BMI > 30) -----  \n",
    "# P( risk of CHD | subject has totChol > 300 ) = P( risk of CHD and subject has totChol > 300 )/ P(subject has totChol > 300 )\n",
    "\n",
    "11/(38+11)"
   ]
  },
  {
   "cell_type": "code",
   "execution_count": 57,
   "metadata": {},
   "outputs": [
    {
     "data": {
      "text/html": [
       "0.786764705882353"
      ],
      "text/latex": [
       "0.786764705882353"
      ],
      "text/markdown": [
       "0.786764705882353"
      ],
      "text/plain": [
       "[1] 0.7867647"
      ]
     },
     "metadata": {},
     "output_type": "display_data"
    }
   ],
   "source": [
    "# Enter your answer for Activity 7.b (BMI < 30) -----  \n",
    "# P( risk of CHD | subject has totChol > 300 ) = P( risk of CHD and subject has totChol > 300 )/ P(subject has totChol > 300 )\n",
    "\n",
    "214/(214+58)"
   ]
  },
  {
   "cell_type": "markdown",
   "metadata": {},
   "source": [
    "<span style=\"color:#1871d6; font-weight:400\">Activity 8: </span> Consider two machines producing memory chips. Machine A is in production 18 hours a day producing 80% of the products while machine B is in production for 6 hours a day producing 20% of the products. Both machines have a fault rate of 0.002 and 0.007, respectively. If a randomly selected chip is faulty, which machine could be the most probable source of producing that chip?"
   ]
  },
  {
   "cell_type": "code",
   "execution_count": 59,
   "metadata": {},
   "outputs": [
    {
     "data": {
      "text/html": [
       "<ol class=list-inline>\n",
       "\t<li>0.0016</li>\n",
       "\t<li>0.0014</li>\n",
       "</ol>\n"
      ],
      "text/latex": [
       "\\begin{enumerate*}\n",
       "\\item 0.0016\n",
       "\\item 0.0014\n",
       "\\end{enumerate*}\n"
      ],
      "text/markdown": [
       "1. 0.0016\n",
       "2. 0.0014\n",
       "\n",
       "\n"
      ],
      "text/plain": [
       "[1] 0.0016 0.0014"
      ]
     },
     "metadata": {},
     "output_type": "display_data"
    }
   ],
   "source": [
    "# Code for activity 8 goes here. \n",
    "\n",
    "# We don't have any prior probabilities for the machines. We consider amount of production they do as our prior.\n",
    "\n",
    "prior_probs <- c(0.8, 0.2)\n",
    "\n",
    "# Both machines A and B have a fault rate of 0.002 and 0.007. WE use this info as likelihood of generating a faulty chip\n",
    "\n",
    "fault <- c(0.002, 0.007)\n",
    "\n",
    "# Generate posterior probabilities based on prior probability and likelihood of each event.\n",
    "\n",
    "posterior <- prior_probs * fault\n",
    "posterior"
   ]
  },
  {
   "cell_type": "code",
   "execution_count": 60,
   "metadata": {},
   "outputs": [
    {
     "data": {
      "text/html": [
       "<ol class=list-inline>\n",
       "\t<li>0.533333333333333</li>\n",
       "\t<li>0.466666666666667</li>\n",
       "</ol>\n"
      ],
      "text/latex": [
       "\\begin{enumerate*}\n",
       "\\item 0.533333333333333\n",
       "\\item 0.466666666666667\n",
       "\\end{enumerate*}\n"
      ],
      "text/markdown": [
       "1. 0.533333333333333\n",
       "2. 0.466666666666667\n",
       "\n",
       "\n"
      ],
      "text/plain": [
       "[1] 0.5333333 0.4666667"
      ]
     },
     "metadata": {},
     "output_type": "display_data"
    }
   ],
   "source": [
    "posterior/sum(posterior)\n",
    "\n",
    "# Machine A would be the most probable source of producing the chip (though only slightly)"
   ]
  },
  {
   "cell_type": "code",
   "execution_count": null,
   "metadata": {},
   "outputs": [],
   "source": []
  }
 ],
 "metadata": {
  "kernelspec": {
   "display_name": "R",
   "language": "R",
   "name": "ir"
  },
  "language_info": {
   "codemirror_mode": "r",
   "file_extension": ".r",
   "mimetype": "text/x-r-source",
   "name": "R",
   "pygments_lexer": "r",
   "version": "3.5.1"
  }
 },
 "nbformat": 4,
 "nbformat_minor": 1
}
