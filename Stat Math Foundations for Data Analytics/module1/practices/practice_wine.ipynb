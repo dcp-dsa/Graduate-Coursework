{
 "cells": [
  {
   "cell_type": "markdown",
   "metadata": {},
   "source": [
    "# Introduction to statistics with `R`\n",
    "\n",
    "This is your first practice notebook in this course. \n",
    "The purpose of this notebook is to apply the commands and knowledge acquired through the lab and videos.\n",
    "Some exercises might introduce new commands and packages to you.\n",
    "The notebook will be incomplete for you to start writing the code to modify/produce output.\n",
    "\n",
    "We will be working with wine dataset.\n",
    "It has 6 independent variables and one dependent variable, `price`.\n",
    "\n",
    "Look in the code samples for\n",
    "```R\n",
    "<what goes in here>\n",
    "    or\n",
    "<replace ... >\n",
    "```\n",
    "This is where you should be modifying the code before running it."
   ]
  },
  {
   "cell_type": "markdown",
   "metadata": {},
   "source": [
    "## Read in the Data"
   ]
  },
  {
   "cell_type": "code",
   "execution_count": 2,
   "metadata": {},
   "outputs": [],
   "source": [
    "wine_data <- read.csv('/dsa/data/all_datasets/wine price/wine.csv')\n",
    "\n",
    "#These are variables that were hypothesized to affect wine quality.  \n",
    "#WinterRain - amount of winter rain (that year)\n",
    "#AGST - average growing season temperature\n",
    "#Age - age of the wine\n",
    "#FrancePop - population of France (that year)"
   ]
  },
  {
   "cell_type": "markdown",
   "metadata": {},
   "source": [
    "Now that the data is read in, how would you remove the `Id` column from the dataframe in `R`. Remember, `R` is very flexible so there are several ways to remove columns. Do the following:\n",
    "\n",
    "**Activity 1**: Find the dimensions (the number of rows and columns) of the data frame. *Hint: You will have to look up the function to do this as it was not mentioned in the lab*. "
   ]
  },
  {
   "cell_type": "code",
   "execution_count": 3,
   "metadata": {},
   "outputs": [
    {
     "data": {
      "text/html": [
       "<ol class=list-inline>\n",
       "\t<li>25</li>\n",
       "\t<li>7</li>\n",
       "</ol>\n"
      ],
      "text/latex": [
       "\\begin{enumerate*}\n",
       "\\item 25\n",
       "\\item 7\n",
       "\\end{enumerate*}\n"
      ],
      "text/markdown": [
       "1. 25\n",
       "2. 7\n",
       "\n",
       "\n"
      ],
      "text/plain": [
       "[1] 25  7"
      ]
     },
     "metadata": {},
     "output_type": "display_data"
    }
   ],
   "source": [
    "# Code for Activity 1 goes here \n",
    "# -----------------------\n",
    "dim(wine_data)"
   ]
  },
  {
   "cell_type": "markdown",
   "metadata": {},
   "source": [
    "Below is one of the ways that you can subset a data frame based on a condition. Run the code below to see what it returns."
   ]
  },
  {
   "cell_type": "code",
   "execution_count": 4,
   "metadata": {},
   "outputs": [
    {
     "data": {
      "text/html": [
       "<table>\n",
       "<caption>A data.frame: 6 × 7</caption>\n",
       "<thead>\n",
       "\t<tr><th></th><th scope=col>Year</th><th scope=col>Price</th><th scope=col>WinterRain</th><th scope=col>AGST</th><th scope=col>HarvestRain</th><th scope=col>Age</th><th scope=col>FrancePop</th></tr>\n",
       "\t<tr><th></th><th scope=col>&lt;int&gt;</th><th scope=col>&lt;dbl&gt;</th><th scope=col>&lt;int&gt;</th><th scope=col>&lt;dbl&gt;</th><th scope=col>&lt;int&gt;</th><th scope=col>&lt;int&gt;</th><th scope=col>&lt;dbl&gt;</th></tr>\n",
       "</thead>\n",
       "<tbody>\n",
       "\t<tr><th scope=row>18</th><td>1971</td><td>7.1934</td><td>551</td><td>16.7667</td><td>112</td><td>12</td><td>52431.65</td></tr>\n",
       "\t<tr><th scope=row>19</th><td>1972</td><td>6.2049</td><td>536</td><td>14.9833</td><td>158</td><td>11</td><td>52894.18</td></tr>\n",
       "\t<tr><th scope=row>20</th><td>1973</td><td>6.6367</td><td>376</td><td>17.0667</td><td>123</td><td>10</td><td>53332.81</td></tr>\n",
       "\t<tr><th scope=row>21</th><td>1974</td><td>6.2941</td><td>574</td><td>16.3000</td><td>184</td><td> 9</td><td>53689.61</td></tr>\n",
       "\t<tr><th scope=row>22</th><td>1975</td><td>7.2920</td><td>572</td><td>16.9500</td><td>171</td><td> 8</td><td>53955.04</td></tr>\n",
       "\t<tr><th scope=row>23</th><td>1976</td><td>7.1211</td><td>418</td><td>17.6500</td><td>247</td><td> 7</td><td>54159.05</td></tr>\n",
       "</tbody>\n",
       "</table>\n"
      ],
      "text/latex": [
       "A data.frame: 6 × 7\n",
       "\\begin{tabular}{r|lllllll}\n",
       "  & Year & Price & WinterRain & AGST & HarvestRain & Age & FrancePop\\\\\n",
       "  & <int> & <dbl> & <int> & <dbl> & <int> & <int> & <dbl>\\\\\n",
       "\\hline\n",
       "\t18 & 1971 & 7.1934 & 551 & 16.7667 & 112 & 12 & 52431.65\\\\\n",
       "\t19 & 1972 & 6.2049 & 536 & 14.9833 & 158 & 11 & 52894.18\\\\\n",
       "\t20 & 1973 & 6.6367 & 376 & 17.0667 & 123 & 10 & 53332.81\\\\\n",
       "\t21 & 1974 & 6.2941 & 574 & 16.3000 & 184 &  9 & 53689.61\\\\\n",
       "\t22 & 1975 & 7.2920 & 572 & 16.9500 & 171 &  8 & 53955.04\\\\\n",
       "\t23 & 1976 & 7.1211 & 418 & 17.6500 & 247 &  7 & 54159.05\\\\\n",
       "\\end{tabular}\n"
      ],
      "text/markdown": [
       "\n",
       "A data.frame: 6 × 7\n",
       "\n",
       "| <!--/--> | Year &lt;int&gt; | Price &lt;dbl&gt; | WinterRain &lt;int&gt; | AGST &lt;dbl&gt; | HarvestRain &lt;int&gt; | Age &lt;int&gt; | FrancePop &lt;dbl&gt; |\n",
       "|---|---|---|---|---|---|---|---|\n",
       "| 18 | 1971 | 7.1934 | 551 | 16.7667 | 112 | 12 | 52431.65 |\n",
       "| 19 | 1972 | 6.2049 | 536 | 14.9833 | 158 | 11 | 52894.18 |\n",
       "| 20 | 1973 | 6.6367 | 376 | 17.0667 | 123 | 10 | 53332.81 |\n",
       "| 21 | 1974 | 6.2941 | 574 | 16.3000 | 184 |  9 | 53689.61 |\n",
       "| 22 | 1975 | 7.2920 | 572 | 16.9500 | 171 |  8 | 53955.04 |\n",
       "| 23 | 1976 | 7.1211 | 418 | 17.6500 | 247 |  7 | 54159.05 |\n",
       "\n"
      ],
      "text/plain": [
       "   Year Price  WinterRain AGST    HarvestRain Age FrancePop\n",
       "18 1971 7.1934 551        16.7667 112         12  52431.65 \n",
       "19 1972 6.2049 536        14.9833 158         11  52894.18 \n",
       "20 1973 6.6367 376        17.0667 123         10  53332.81 \n",
       "21 1974 6.2941 574        16.3000 184          9  53689.61 \n",
       "22 1975 7.2920 572        16.9500 171          8  53955.04 \n",
       "23 1976 7.1211 418        17.6500 247          7  54159.05 "
      ]
     },
     "metadata": {},
     "output_type": "display_data"
    }
   ],
   "source": [
    "head(wine_data[wine_data$Year > 1970,])"
   ]
  },
  {
   "cell_type": "markdown",
   "metadata": {},
   "source": [
    "**Activity 2**: Subset the wine_data into two dataframes based on the year. Named these dataframes group1 and group2 where group 1 contains data for years less than or equal to 1960 and group2 contains data with year greater than 1960."
   ]
  },
  {
   "cell_type": "code",
   "execution_count": 5,
   "metadata": {},
   "outputs": [],
   "source": [
    "#2 Code for Activity 2 goes here \n",
    "# -----------------------\n",
    "group1 = subset(wine_data[wine_data$Year < 1961])\n",
    "group2 = subset(wine_data[wine_data$Year < 1960])"
   ]
  },
  {
   "cell_type": "markdown",
   "metadata": {},
   "source": [
    "**Activity 3**: Run summary command and identify each variable if its continuous or discrete."
   ]
  },
  {
   "cell_type": "code",
   "execution_count": 6,
   "metadata": {},
   "outputs": [
    {
     "data": {
      "text/plain": [
       "      Year          Price         WinterRain         AGST        HarvestRain   \n",
       " Min.   :1952   Min.   :6.205   Min.   :376.0   Min.   :14.98   Min.   : 38.0  \n",
       " 1st Qu.:1960   1st Qu.:6.519   1st Qu.:536.0   1st Qu.:16.20   1st Qu.: 89.0  \n",
       " Median :1966   Median :7.121   Median :600.0   Median :16.53   Median :130.0  \n",
       " Mean   :1966   Mean   :7.067   Mean   :605.3   Mean   :16.51   Mean   :148.6  \n",
       " 3rd Qu.:1972   3rd Qu.:7.495   3rd Qu.:697.0   3rd Qu.:17.07   3rd Qu.:187.0  \n",
       " Max.   :1978   Max.   :8.494   Max.   :830.0   Max.   :17.65   Max.   :292.0  \n",
       "      Age         FrancePop    \n",
       " Min.   : 5.0   Min.   :43184  \n",
       " 1st Qu.:11.0   1st Qu.:46584  \n",
       " Median :17.0   Median :50255  \n",
       " Mean   :17.2   Mean   :49694  \n",
       " 3rd Qu.:23.0   3rd Qu.:52894  \n",
       " Max.   :31.0   Max.   :54602  "
      ]
     },
     "metadata": {},
     "output_type": "display_data"
    }
   ],
   "source": [
    "# Code for Activity 3 goes here \n",
    "# -----------------------\n",
    "summary(wine_data)"
   ]
  },
  {
   "cell_type": "raw",
   "metadata": {},
   "source": [
    "# **Answer for Activity 3 goes below this comment \n",
    "# ----------------------------------\n",
    "\n",
    "Year, WinterRain, HarvestRain, and Age are discrete.\n",
    "\n",
    "Price, AGST, and FrancePop are continuous.\n",
    "\n",
    "\n",
    "\n"
   ]
  },
  {
   "cell_type": "markdown",
   "metadata": {},
   "source": [
    "**Activity 4**: *Find out the number of rows where the `Price` is greater than 7."
   ]
  },
  {
   "cell_type": "code",
   "execution_count": 7,
   "metadata": {},
   "outputs": [
    {
     "data": {
      "text/html": [
       "13"
      ],
      "text/latex": [
       "13"
      ],
      "text/markdown": [
       "13"
      ],
      "text/plain": [
       "[1] 13"
      ]
     },
     "metadata": {},
     "output_type": "display_data"
    }
   ],
   "source": [
    "# Code for Activity 4 goes here \n",
    "# -----------------------\n",
    "nrow(wine_data[wine_data$Price > 7,])"
   ]
  },
  {
   "cell_type": "markdown",
   "metadata": {},
   "source": [
    "Let's say we want to know average Age of the wine. \n",
    "\n",
    "**Activity 5**: Apply mean() function on the Age variable"
   ]
  },
  {
   "cell_type": "code",
   "execution_count": 8,
   "metadata": {},
   "outputs": [
    {
     "data": {
      "text/html": [
       "17.2"
      ],
      "text/latex": [
       "17.2"
      ],
      "text/markdown": [
       "17.2"
      ],
      "text/plain": [
       "[1] 17.2"
      ]
     },
     "metadata": {},
     "output_type": "display_data"
    }
   ],
   "source": [
    "# Code for Activity 5 goes here  \n",
    "# -----------------------\n",
    "mean(wine_data$Age)"
   ]
  },
  {
   "cell_type": "markdown",
   "metadata": {},
   "source": [
    "We want to know the year which has recorded highest price for the wine.\n",
    "\n",
    "**Activity 6**: Find the maximum price that is recorded in wine dataset and year for the corresponding row. \n",
    "You will have to look up the command. \n",
    "Hint: try which(). "
   ]
  },
  {
   "cell_type": "code",
   "execution_count": 9,
   "metadata": {},
   "outputs": [
    {
     "data": {
      "text/html": [
       "1961"
      ],
      "text/latex": [
       "1961"
      ],
      "text/markdown": [
       "1961"
      ],
      "text/plain": [
       "[1] 1961"
      ]
     },
     "metadata": {},
     "output_type": "display_data"
    }
   ],
   "source": [
    "#' Code for Activity 6 goes here  \n",
    "# -----------------------\n",
    "wine_data$Year[which(wine_data$Price == max(wine_data$Price))]"
   ]
  },
  {
   "cell_type": "markdown",
   "metadata": {},
   "source": [
    "** Activity 7**: Identify the datatype of each variable in dataframe. You were introduced to this command in Intro to Data Science course or you can look up for this command."
   ]
  },
  {
   "cell_type": "code",
   "execution_count": 10,
   "metadata": {},
   "outputs": [
    {
     "data": {
      "text/html": [
       "<dl class=dl-horizontal>\n",
       "\t<dt>Year</dt>\n",
       "\t\t<dd>'integer'</dd>\n",
       "\t<dt>Price</dt>\n",
       "\t\t<dd>'double'</dd>\n",
       "\t<dt>WinterRain</dt>\n",
       "\t\t<dd>'integer'</dd>\n",
       "\t<dt>AGST</dt>\n",
       "\t\t<dd>'double'</dd>\n",
       "\t<dt>HarvestRain</dt>\n",
       "\t\t<dd>'integer'</dd>\n",
       "\t<dt>Age</dt>\n",
       "\t\t<dd>'integer'</dd>\n",
       "\t<dt>FrancePop</dt>\n",
       "\t\t<dd>'double'</dd>\n",
       "</dl>\n"
      ],
      "text/latex": [
       "\\begin{description*}\n",
       "\\item[Year] 'integer'\n",
       "\\item[Price] 'double'\n",
       "\\item[WinterRain] 'integer'\n",
       "\\item[AGST] 'double'\n",
       "\\item[HarvestRain] 'integer'\n",
       "\\item[Age] 'integer'\n",
       "\\item[FrancePop] 'double'\n",
       "\\end{description*}\n"
      ],
      "text/markdown": [
       "Year\n",
       ":   'integer'Price\n",
       ":   'double'WinterRain\n",
       ":   'integer'AGST\n",
       ":   'double'HarvestRain\n",
       ":   'integer'Age\n",
       ":   'integer'FrancePop\n",
       ":   'double'\n",
       "\n"
      ],
      "text/plain": [
       "       Year       Price  WinterRain        AGST HarvestRain         Age \n",
       "  \"integer\"    \"double\"   \"integer\"    \"double\"   \"integer\"   \"integer\" \n",
       "  FrancePop \n",
       "   \"double\" "
      ]
     },
     "metadata": {},
     "output_type": "display_data"
    }
   ],
   "source": [
    "# Code for Activity 7 goes here  \n",
    "# -----------------------\n",
    "sapply(wine_data, typeof)"
   ]
  },
  {
   "cell_type": "markdown",
   "metadata": {},
   "source": [
    "**Activity 8**: Check the structure of the dataframe. You have to look up for this command. This command will give you the dimensions of dataframe, type of each variable and initial first 10 values of the variable. Its a very useful command to get a quick overview of dataframe. "
   ]
  },
  {
   "cell_type": "code",
   "execution_count": 11,
   "metadata": {},
   "outputs": [
    {
     "data": {
      "text/html": [
       "<table>\n",
       "<caption>A data.frame: 25 × 7</caption>\n",
       "<thead>\n",
       "\t<tr><th scope=col>Year</th><th scope=col>Price</th><th scope=col>WinterRain</th><th scope=col>AGST</th><th scope=col>HarvestRain</th><th scope=col>Age</th><th scope=col>FrancePop</th></tr>\n",
       "\t<tr><th scope=col>&lt;int&gt;</th><th scope=col>&lt;dbl&gt;</th><th scope=col>&lt;int&gt;</th><th scope=col>&lt;dbl&gt;</th><th scope=col>&lt;int&gt;</th><th scope=col>&lt;int&gt;</th><th scope=col>&lt;dbl&gt;</th></tr>\n",
       "</thead>\n",
       "<tbody>\n",
       "\t<tr><td>1952</td><td>7.4950</td><td>600</td><td>17.1167</td><td>160</td><td>31</td><td>43183.57</td></tr>\n",
       "\t<tr><td>1953</td><td>8.0393</td><td>690</td><td>16.7333</td><td> 80</td><td>30</td><td>43495.03</td></tr>\n",
       "\t<tr><td>1955</td><td>7.6858</td><td>502</td><td>17.1500</td><td>130</td><td>28</td><td>44217.86</td></tr>\n",
       "\t<tr><td>1957</td><td>6.9845</td><td>420</td><td>16.1333</td><td>110</td><td>26</td><td>45152.25</td></tr>\n",
       "\t<tr><td>1958</td><td>6.7772</td><td>582</td><td>16.4167</td><td>187</td><td>25</td><td>45653.81</td></tr>\n",
       "\t<tr><td>1959</td><td>8.0757</td><td>485</td><td>17.4833</td><td>187</td><td>24</td><td>46128.64</td></tr>\n",
       "\t<tr><td>1960</td><td>6.5188</td><td>763</td><td>16.4167</td><td>290</td><td>23</td><td>46584.00</td></tr>\n",
       "\t<tr><td>1961</td><td>8.4937</td><td>830</td><td>17.3333</td><td> 38</td><td>22</td><td>47128.00</td></tr>\n",
       "\t<tr><td>1962</td><td>7.3880</td><td>697</td><td>16.3000</td><td> 52</td><td>21</td><td>48088.67</td></tr>\n",
       "\t<tr><td>1963</td><td>6.7127</td><td>608</td><td>15.7167</td><td>155</td><td>20</td><td>48798.99</td></tr>\n",
       "\t<tr><td>1964</td><td>7.3094</td><td>402</td><td>17.2667</td><td> 96</td><td>19</td><td>49356.94</td></tr>\n",
       "\t<tr><td>1965</td><td>6.2518</td><td>602</td><td>15.3667</td><td>267</td><td>18</td><td>49801.82</td></tr>\n",
       "\t<tr><td>1966</td><td>7.7443</td><td>819</td><td>16.5333</td><td> 86</td><td>17</td><td>50254.97</td></tr>\n",
       "\t<tr><td>1967</td><td>6.8398</td><td>714</td><td>16.2333</td><td>118</td><td>16</td><td>50650.41</td></tr>\n",
       "\t<tr><td>1968</td><td>6.2435</td><td>610</td><td>16.2000</td><td>292</td><td>15</td><td>51034.41</td></tr>\n",
       "\t<tr><td>1969</td><td>6.3459</td><td>575</td><td>16.5500</td><td>244</td><td>14</td><td>51470.28</td></tr>\n",
       "\t<tr><td>1970</td><td>7.5883</td><td>622</td><td>16.6667</td><td> 89</td><td>13</td><td>51918.39</td></tr>\n",
       "\t<tr><td>1971</td><td>7.1934</td><td>551</td><td>16.7667</td><td>112</td><td>12</td><td>52431.65</td></tr>\n",
       "\t<tr><td>1972</td><td>6.2049</td><td>536</td><td>14.9833</td><td>158</td><td>11</td><td>52894.18</td></tr>\n",
       "\t<tr><td>1973</td><td>6.6367</td><td>376</td><td>17.0667</td><td>123</td><td>10</td><td>53332.81</td></tr>\n",
       "\t<tr><td>1974</td><td>6.2941</td><td>574</td><td>16.3000</td><td>184</td><td> 9</td><td>53689.61</td></tr>\n",
       "\t<tr><td>1975</td><td>7.2920</td><td>572</td><td>16.9500</td><td>171</td><td> 8</td><td>53955.04</td></tr>\n",
       "\t<tr><td>1976</td><td>7.1211</td><td>418</td><td>17.6500</td><td>247</td><td> 7</td><td>54159.05</td></tr>\n",
       "\t<tr><td>1977</td><td>6.2587</td><td>821</td><td>15.5833</td><td> 87</td><td> 6</td><td>54378.36</td></tr>\n",
       "\t<tr><td>1978</td><td>7.1860</td><td>763</td><td>15.8167</td><td> 51</td><td> 5</td><td>54602.19</td></tr>\n",
       "</tbody>\n",
       "</table>\n"
      ],
      "text/latex": [
       "A data.frame: 25 × 7\n",
       "\\begin{tabular}{r|lllllll}\n",
       " Year & Price & WinterRain & AGST & HarvestRain & Age & FrancePop\\\\\n",
       " <int> & <dbl> & <int> & <dbl> & <int> & <int> & <dbl>\\\\\n",
       "\\hline\n",
       "\t 1952 & 7.4950 & 600 & 17.1167 & 160 & 31 & 43183.57\\\\\n",
       "\t 1953 & 8.0393 & 690 & 16.7333 &  80 & 30 & 43495.03\\\\\n",
       "\t 1955 & 7.6858 & 502 & 17.1500 & 130 & 28 & 44217.86\\\\\n",
       "\t 1957 & 6.9845 & 420 & 16.1333 & 110 & 26 & 45152.25\\\\\n",
       "\t 1958 & 6.7772 & 582 & 16.4167 & 187 & 25 & 45653.81\\\\\n",
       "\t 1959 & 8.0757 & 485 & 17.4833 & 187 & 24 & 46128.64\\\\\n",
       "\t 1960 & 6.5188 & 763 & 16.4167 & 290 & 23 & 46584.00\\\\\n",
       "\t 1961 & 8.4937 & 830 & 17.3333 &  38 & 22 & 47128.00\\\\\n",
       "\t 1962 & 7.3880 & 697 & 16.3000 &  52 & 21 & 48088.67\\\\\n",
       "\t 1963 & 6.7127 & 608 & 15.7167 & 155 & 20 & 48798.99\\\\\n",
       "\t 1964 & 7.3094 & 402 & 17.2667 &  96 & 19 & 49356.94\\\\\n",
       "\t 1965 & 6.2518 & 602 & 15.3667 & 267 & 18 & 49801.82\\\\\n",
       "\t 1966 & 7.7443 & 819 & 16.5333 &  86 & 17 & 50254.97\\\\\n",
       "\t 1967 & 6.8398 & 714 & 16.2333 & 118 & 16 & 50650.41\\\\\n",
       "\t 1968 & 6.2435 & 610 & 16.2000 & 292 & 15 & 51034.41\\\\\n",
       "\t 1969 & 6.3459 & 575 & 16.5500 & 244 & 14 & 51470.28\\\\\n",
       "\t 1970 & 7.5883 & 622 & 16.6667 &  89 & 13 & 51918.39\\\\\n",
       "\t 1971 & 7.1934 & 551 & 16.7667 & 112 & 12 & 52431.65\\\\\n",
       "\t 1972 & 6.2049 & 536 & 14.9833 & 158 & 11 & 52894.18\\\\\n",
       "\t 1973 & 6.6367 & 376 & 17.0667 & 123 & 10 & 53332.81\\\\\n",
       "\t 1974 & 6.2941 & 574 & 16.3000 & 184 &  9 & 53689.61\\\\\n",
       "\t 1975 & 7.2920 & 572 & 16.9500 & 171 &  8 & 53955.04\\\\\n",
       "\t 1976 & 7.1211 & 418 & 17.6500 & 247 &  7 & 54159.05\\\\\n",
       "\t 1977 & 6.2587 & 821 & 15.5833 &  87 &  6 & 54378.36\\\\\n",
       "\t 1978 & 7.1860 & 763 & 15.8167 &  51 &  5 & 54602.19\\\\\n",
       "\\end{tabular}\n"
      ],
      "text/markdown": [
       "\n",
       "A data.frame: 25 × 7\n",
       "\n",
       "| Year &lt;int&gt; | Price &lt;dbl&gt; | WinterRain &lt;int&gt; | AGST &lt;dbl&gt; | HarvestRain &lt;int&gt; | Age &lt;int&gt; | FrancePop &lt;dbl&gt; |\n",
       "|---|---|---|---|---|---|---|\n",
       "| 1952 | 7.4950 | 600 | 17.1167 | 160 | 31 | 43183.57 |\n",
       "| 1953 | 8.0393 | 690 | 16.7333 |  80 | 30 | 43495.03 |\n",
       "| 1955 | 7.6858 | 502 | 17.1500 | 130 | 28 | 44217.86 |\n",
       "| 1957 | 6.9845 | 420 | 16.1333 | 110 | 26 | 45152.25 |\n",
       "| 1958 | 6.7772 | 582 | 16.4167 | 187 | 25 | 45653.81 |\n",
       "| 1959 | 8.0757 | 485 | 17.4833 | 187 | 24 | 46128.64 |\n",
       "| 1960 | 6.5188 | 763 | 16.4167 | 290 | 23 | 46584.00 |\n",
       "| 1961 | 8.4937 | 830 | 17.3333 |  38 | 22 | 47128.00 |\n",
       "| 1962 | 7.3880 | 697 | 16.3000 |  52 | 21 | 48088.67 |\n",
       "| 1963 | 6.7127 | 608 | 15.7167 | 155 | 20 | 48798.99 |\n",
       "| 1964 | 7.3094 | 402 | 17.2667 |  96 | 19 | 49356.94 |\n",
       "| 1965 | 6.2518 | 602 | 15.3667 | 267 | 18 | 49801.82 |\n",
       "| 1966 | 7.7443 | 819 | 16.5333 |  86 | 17 | 50254.97 |\n",
       "| 1967 | 6.8398 | 714 | 16.2333 | 118 | 16 | 50650.41 |\n",
       "| 1968 | 6.2435 | 610 | 16.2000 | 292 | 15 | 51034.41 |\n",
       "| 1969 | 6.3459 | 575 | 16.5500 | 244 | 14 | 51470.28 |\n",
       "| 1970 | 7.5883 | 622 | 16.6667 |  89 | 13 | 51918.39 |\n",
       "| 1971 | 7.1934 | 551 | 16.7667 | 112 | 12 | 52431.65 |\n",
       "| 1972 | 6.2049 | 536 | 14.9833 | 158 | 11 | 52894.18 |\n",
       "| 1973 | 6.6367 | 376 | 17.0667 | 123 | 10 | 53332.81 |\n",
       "| 1974 | 6.2941 | 574 | 16.3000 | 184 |  9 | 53689.61 |\n",
       "| 1975 | 7.2920 | 572 | 16.9500 | 171 |  8 | 53955.04 |\n",
       "| 1976 | 7.1211 | 418 | 17.6500 | 247 |  7 | 54159.05 |\n",
       "| 1977 | 6.2587 | 821 | 15.5833 |  87 |  6 | 54378.36 |\n",
       "| 1978 | 7.1860 | 763 | 15.8167 |  51 |  5 | 54602.19 |\n",
       "\n"
      ],
      "text/plain": [
       "   Year Price  WinterRain AGST    HarvestRain Age FrancePop\n",
       "1  1952 7.4950 600        17.1167 160         31  43183.57 \n",
       "2  1953 8.0393 690        16.7333  80         30  43495.03 \n",
       "3  1955 7.6858 502        17.1500 130         28  44217.86 \n",
       "4  1957 6.9845 420        16.1333 110         26  45152.25 \n",
       "5  1958 6.7772 582        16.4167 187         25  45653.81 \n",
       "6  1959 8.0757 485        17.4833 187         24  46128.64 \n",
       "7  1960 6.5188 763        16.4167 290         23  46584.00 \n",
       "8  1961 8.4937 830        17.3333  38         22  47128.00 \n",
       "9  1962 7.3880 697        16.3000  52         21  48088.67 \n",
       "10 1963 6.7127 608        15.7167 155         20  48798.99 \n",
       "11 1964 7.3094 402        17.2667  96         19  49356.94 \n",
       "12 1965 6.2518 602        15.3667 267         18  49801.82 \n",
       "13 1966 7.7443 819        16.5333  86         17  50254.97 \n",
       "14 1967 6.8398 714        16.2333 118         16  50650.41 \n",
       "15 1968 6.2435 610        16.2000 292         15  51034.41 \n",
       "16 1969 6.3459 575        16.5500 244         14  51470.28 \n",
       "17 1970 7.5883 622        16.6667  89         13  51918.39 \n",
       "18 1971 7.1934 551        16.7667 112         12  52431.65 \n",
       "19 1972 6.2049 536        14.9833 158         11  52894.18 \n",
       "20 1973 6.6367 376        17.0667 123         10  53332.81 \n",
       "21 1974 6.2941 574        16.3000 184          9  53689.61 \n",
       "22 1975 7.2920 572        16.9500 171          8  53955.04 \n",
       "23 1976 7.1211 418        17.6500 247          7  54159.05 \n",
       "24 1977 6.2587 821        15.5833  87          6  54378.36 \n",
       "25 1978 7.1860 763        15.8167  51          5  54602.19 "
      ]
     },
     "metadata": {},
     "output_type": "display_data"
    }
   ],
   "source": [
    "# Code for Activity 8 goes here  \n",
    "# -----------------------\n",
    "\n",
    "structure(wine_data)"
   ]
  },
  {
   "cell_type": "markdown",
   "metadata": {},
   "source": [
    "Lets see how WinterRain variable data is distributed \n",
    "\n",
    "**Activity 9**: Plot the distribution of `WinterRain` variable using a histogram with bin size of 20. \n",
    "Plot a density curve on top of the histogram.\n",
    "\n",
    "**Reference: ** http://ggplot2.tidyverse.org/reference/geom_histogram.html"
   ]
  },
  {
   "cell_type": "code",
   "execution_count": 12,
   "metadata": {},
   "outputs": [
    {
     "data": {
      "image/png": "[encoded data removed]",
      "text/plain": [
       "plot without title"
      ]
     },
     "metadata": {},
     "output_type": "display_data"
    }
   ],
   "source": [
    "# Code for Activity 9 goes here  \n",
    "# -----------------------\n",
    "\n",
    "library(ggplot2)\n",
    "plot = \n",
    "ggplot(data=wine_data, aes(x = WinterRain)) + \n",
    "  geom_histogram(\n",
    "                 breaks=seq(360, 850,20), \n",
    "                 col=\"green\", \n",
    "                 fill=\"orange\", \n",
    "                 alpha = .5) + \n",
    "  geom_density(col=2) + \n",
    "  labs(title=\"Histogram for Winter Rain\") +\n",
    "  labs(x=\"Amount of Rain\", y=\"Count\")\n",
    "\n",
    "plot"
   ]
  },
  {
   "cell_type": "markdown",
   "metadata": {},
   "source": [
    "**Activity 10: ** Draw vertical lines for mean and median of `WinterRain` in above plot.\n",
    "You can use the same `plot` object to draw the lines."
   ]
  },
  {
   "cell_type": "code",
   "execution_count": 13,
   "metadata": {},
   "outputs": [
    {
     "data": {
      "image/png": "[encoded data removed]",
      "text/plain": [
       "plot without title"
      ]
     },
     "metadata": {},
     "output_type": "display_data"
    }
   ],
   "source": [
    "# Code for Activity 10 goes here  \n",
    "# -----------------------\n",
    "mean_WinterRain <- mean(wine_data$WinterRain)\n",
    "median_WinterRain = median(wine_data$WinterRain)\n",
    "\n",
    "plot + geom_vline(aes(xintercept = mean(WinterRain)), color = \"blue\") +\n",
    "       geom_vline(aes(xintercept = median(WinterRain)), color = \"red\")"
   ]
  },
  {
   "cell_type": "markdown",
   "metadata": {},
   "source": [
    "Is the `WinterRain` data skewed.\n",
    "\n",
    "**Activity 11: ** Find the skewness of WinterRain variable."
   ]
  },
  {
   "cell_type": "code",
   "execution_count": 14,
   "metadata": {},
   "outputs": [
    {
     "data": {
      "text/html": [
       "0.088935852773373"
      ],
      "text/latex": [
       "0.088935852773373"
      ],
      "text/markdown": [
       "0.088935852773373"
      ],
      "text/plain": [
       "[1] 0.08893585"
      ]
     },
     "metadata": {},
     "output_type": "display_data"
    }
   ],
   "source": [
    "# Code for Activity 11 goes here  \n",
    "# -----------------------\n",
    "library(moments)\n",
    "skewness(wine_data$WinterRain)"
   ]
  },
  {
   "cell_type": "markdown",
   "metadata": {},
   "source": [
    "# Save your notebook!"
   ]
  },
  {
   "cell_type": "code",
   "execution_count": null,
   "metadata": {},
   "outputs": [],
   "source": []
  }
 ],
 "metadata": {
  "kernelspec": {
   "display_name": "R",
   "language": "R",
   "name": "ir"
  },
  "language_info": {
   "codemirror_mode": "r",
   "file_extension": ".r",
   "mimetype": "text/x-r-source",
   "name": "R",
   "pygments_lexer": "r",
   "version": "3.5.1"
  }
 },
 "nbformat": 4,
 "nbformat_minor": 1
}
