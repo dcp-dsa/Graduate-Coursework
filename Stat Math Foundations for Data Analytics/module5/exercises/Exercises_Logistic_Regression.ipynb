{
 "cells": [
  {
   "cell_type": "markdown",
   "metadata": {},
   "source": [
    "<span style=\"color:#04c921; font-size:24px; font-weight:700\"> Logistic regression - Exercises</span>"
   ]
  },
  {
   "cell_type": "markdown",
   "metadata": {},
   "source": [
    "Loans data captured information on loan repayment by individuals. We have 13 independent variables and 1 dependent variable called not.fully.paid. Build a logistic regreession model to predict if an individual is a loan defaulter or not. \n",
    "\n",
    "Load the loans dataset from /datasets/loans/ directory into a dataframe called 'loans_data'."
   ]
  },
  {
   "cell_type": "code",
   "execution_count": 33,
   "metadata": {},
   "outputs": [],
   "source": [
    "#load the loans dataset\n",
    "loans_data=read.csv(\"/dsa/data/all_datasets/loans/loans.csv\")"
   ]
  },
  {
   "cell_type": "code",
   "execution_count": 34,
   "metadata": {},
   "outputs": [
    {
     "name": "stdout",
     "output_type": "stream",
     "text": [
      "'data.frame':\t9578 obs. of  14 variables:\n",
      " $ credit.policy    : int  1 1 1 1 1 1 1 1 1 1 ...\n",
      " $ purpose          : Factor w/ 7 levels \"all_other\",\"credit_card\",..: 3 2 3 3 2 2 3 1 5 3 ...\n",
      " $ int.rate         : num  0.119 0.107 0.136 0.101 0.143 ...\n",
      " $ installment      : num  829 228 367 162 103 ...\n",
      " $ log.annual.inc   : num  11.4 11.1 10.4 11.4 11.3 ...\n",
      " $ dti              : num  19.5 14.3 11.6 8.1 15 ...\n",
      " $ fico             : int  737 707 682 712 667 727 667 722 682 707 ...\n",
      " $ days.with.cr.line: num  5640 2760 4710 2700 4066 ...\n",
      " $ revol.bal        : int  28854 33623 3511 33667 4740 50807 3839 24220 69909 5630 ...\n",
      " $ revol.util       : num  52.1 76.7 25.6 73.2 39.5 51 76.8 68.6 51.1 23 ...\n",
      " $ inq.last.6mths   : int  0 0 1 1 0 0 0 0 1 1 ...\n",
      " $ delinq.2yrs      : int  0 0 0 0 1 0 0 0 0 0 ...\n",
      " $ pub.rec          : int  0 0 0 0 0 0 1 0 0 0 ...\n",
      " $ not.fully.paid   : int  0 0 0 0 0 0 1 1 0 0 ...\n"
     ]
    }
   ],
   "source": [
    "str(loans_data)"
   ]
  },
  {
   "cell_type": "markdown",
   "metadata": {},
   "source": [
    "<span style=\"color:#1d80ba; font-size:14px; font-weight:700\">Activity 1:</span> What proportion of the loans in the dataset were not paid in full?"
   ]
  },
  {
   "cell_type": "code",
   "execution_count": 35,
   "metadata": {},
   "outputs": [
    {
     "data": {
      "text/html": [
       "0.160054291083734"
      ],
      "text/latex": [
       "0.160054291083734"
      ],
      "text/markdown": [
       "0.160054291083734"
      ],
      "text/plain": [
       "[1] 0.1600543"
      ]
     },
     "metadata": {},
     "output_type": "display_data"
    }
   ],
   "source": [
    "# Your code for activity 1 goes here..\n",
    "\n",
    "(length(loans_data$not.fully.paid[loans_data$not.fully.paid == 1]))/9578\n",
    "\n",
    "\n",
    "\n"
   ]
  },
  {
   "cell_type": "markdown",
   "metadata": {},
   "source": [
    "<span style=\"color:#1d80ba; font-size:14px; font-weight:700\">Activity 2:</span> split data into a training and testing set. Use the seed as 144. Put 70% data into train_data dataframe and 30% in test_data dataframe. "
   ]
  },
  {
   "cell_type": "code",
   "execution_count": 38,
   "metadata": {},
   "outputs": [],
   "source": [
    "# Your code for activity 2 goes here..\n",
    "set.seed(144)\n",
    "\n",
    "train_ind <- sample(seq_len(nrow(loans_data)), size=6705)\n",
    "\n",
    "train_data  = loans_data[train_ind,]\n",
    "test_data  = loans_data[-train_ind,]"
   ]
  },
  {
   "cell_type": "markdown",
   "metadata": {},
   "source": [
    "<span style=\"color:#1d80ba; font-size:14px; font-weight:700\">Activity 3:</span> Build a logistic regression model on train_data to predict not.fully.paid using all the independent variables."
   ]
  },
  {
   "cell_type": "code",
   "execution_count": 39,
   "metadata": {},
   "outputs": [
    {
     "data": {
      "text/plain": [
       "\n",
       "Call:\n",
       "glm(formula = not.fully.paid ~ ., family = binomial, data = train_data)\n",
       "\n",
       "Deviance Residuals: \n",
       "    Min       1Q   Median       3Q      Max  \n",
       "-2.2097  -0.6205  -0.4975  -0.3661   2.5943  \n",
       "\n",
       "Coefficients:\n",
       "                            Estimate Std. Error z value Pr(>|z|)    \n",
       "(Intercept)                9.059e+00  1.548e+00   5.851 4.88e-09 ***\n",
       "credit.policy             -3.260e-01  1.009e-01  -3.230 0.001238 ** \n",
       "purposecredit_card        -5.956e-01  1.340e-01  -4.446 8.74e-06 ***\n",
       "purposedebt_consolidation -3.241e-01  9.225e-02  -3.513 0.000443 ***\n",
       "purposeeducational        -9.620e-02  1.877e-01  -0.512 0.608333    \n",
       "purposehome_improvement    7.970e-02  1.505e-01   0.529 0.596523    \n",
       "purposemajor_purchase     -2.870e-01  1.900e-01  -1.511 0.130907    \n",
       "purposesmall_business      5.442e-01  1.399e-01   3.890 0.000100 ***\n",
       "int.rate                   1.243e+00  2.084e+00   0.596 0.550948    \n",
       "installment                1.186e-03  2.083e-04   5.692 1.26e-08 ***\n",
       "log.annual.inc            -3.858e-01  7.125e-02  -5.415 6.12e-08 ***\n",
       "dti                       -3.398e-03  5.485e-03  -0.619 0.535622    \n",
       "fico                      -9.946e-03  1.707e-03  -5.827 5.64e-09 ***\n",
       "days.with.cr.line          2.488e-05  1.572e-05   1.583 0.113352    \n",
       "revol.bal                  2.750e-06  1.102e-06   2.496 0.012577 *  \n",
       "revol.util                 2.810e-03  1.521e-03   1.847 0.064718 .  \n",
       "inq.last.6mths             6.755e-02  1.654e-02   4.083 4.44e-05 ***\n",
       "delinq.2yrs               -9.522e-02  6.881e-02  -1.384 0.166461    \n",
       "pub.rec                    8.148e-02  1.247e-01   0.653 0.513442    \n",
       "---\n",
       "Signif. codes:  0 ‘***’ 0.001 ‘**’ 0.01 ‘*’ 0.05 ‘.’ 0.1 ‘ ’ 1\n",
       "\n",
       "(Dispersion parameter for binomial family taken to be 1)\n",
       "\n",
       "    Null deviance: 5870.0  on 6704  degrees of freedom\n",
       "Residual deviance: 5494.1  on 6686  degrees of freedom\n",
       "AIC: 5532.1\n",
       "\n",
       "Number of Fisher Scoring iterations: 5\n"
      ]
     },
     "metadata": {},
     "output_type": "display_data"
    }
   ],
   "source": [
    "# Your code for activity 3 goes here..\n",
    "\n",
    "predict_train = glm(not.fully.paid ~., data=train_data, family=binomial)\n",
    "summary(predict_train)\n"
   ]
  },
  {
   "cell_type": "markdown",
   "metadata": {},
   "source": [
    "<span style=\"color:#1d80ba; font-size:14px; font-weight:700\">Activity 4:</span> Above model predict_train has some variables that are not significant. Remove the variables (purpose, int.rate, dti, days.with.cr.line, revol.util, delinq.2yrs) from the model and rebuild it. Name this new model predict_train1. Look for any change in the AIC value. "
   ]
  },
  {
   "cell_type": "code",
   "execution_count": 40,
   "metadata": {},
   "outputs": [
    {
     "data": {
      "text/plain": [
       "\n",
       "Call:\n",
       "glm(formula = not.fully.paid ~ credit.policy + installment + \n",
       "    log.annual.inc + fico + revol.bal + inq.last.6mths + pub.rec, \n",
       "    family = binomial, data = train_data)\n",
       "\n",
       "Deviance Residuals: \n",
       "    Min       1Q   Median       3Q      Max  \n",
       "-2.0988  -0.6181  -0.5148  -0.3885   2.5518  \n",
       "\n",
       "Coefficients:\n",
       "                 Estimate Std. Error z value Pr(>|z|)    \n",
       "(Intercept)     8.706e+00  1.003e+00   8.681  < 2e-16 ***\n",
       "credit.policy  -3.108e-01  9.983e-02  -3.114  0.00185 ** \n",
       "installment     1.277e-03  1.831e-04   6.978 3.00e-12 ***\n",
       "log.annual.inc -3.544e-01  6.821e-02  -5.196 2.04e-07 ***\n",
       "fico           -9.777e-03  1.081e-03  -9.041  < 2e-16 ***\n",
       "revol.bal       3.427e-06  1.042e-06   3.290  0.00100 ** \n",
       "inq.last.6mths  7.722e-02  1.638e-02   4.714 2.43e-06 ***\n",
       "pub.rec         1.122e-01  1.217e-01   0.921  0.35680    \n",
       "---\n",
       "Signif. codes:  0 ‘***’ 0.001 ‘**’ 0.01 ‘*’ 0.05 ‘.’ 0.1 ‘ ’ 1\n",
       "\n",
       "(Dispersion parameter for binomial family taken to be 1)\n",
       "\n",
       "    Null deviance: 5870.0  on 6704  degrees of freedom\n",
       "Residual deviance: 5570.5  on 6697  degrees of freedom\n",
       "AIC: 5586.5\n",
       "\n",
       "Number of Fisher Scoring iterations: 5\n"
      ]
     },
     "metadata": {},
     "output_type": "display_data"
    }
   ],
   "source": [
    "# Your code for activity 4 goes here..\n",
    "\n",
    "predict_train1 = glm(not.fully.paid ~ credit.policy + installment + log.annual.inc +fico + revol.bal + inq.last.6mths +\n",
    "                     pub.rec, data=train_data, family=binomial)\n",
    "summary(predict_train1)\n"
   ]
  },
  {
   "cell_type": "markdown",
   "metadata": {},
   "source": [
    "The AIC value has increased from 5523 to 5568. A model with minimum AIC is the preferred one. So will stick with the model predict_train for doing predictions on test dataset. "
   ]
  },
  {
   "cell_type": "markdown",
   "metadata": {},
   "source": [
    "<span style=\"color:#1d80ba; font-size:14px; font-weight:700\">Activity 5:</span> Predict the outcomes on test dataset loans which are not being paid back in full. Store these predicted probabilities in a variable named predicted.risk."
   ]
  },
  {
   "cell_type": "code",
   "execution_count": 41,
   "metadata": {},
   "outputs": [
    {
     "data": {
      "text/plain": [
       "   Min. 1st Qu.  Median    Mean 3rd Qu.    Max. \n",
       "0.02458 0.09811 0.14062 0.15957 0.19784 0.70660 "
      ]
     },
     "metadata": {},
     "output_type": "display_data"
    }
   ],
   "source": [
    "# Your code for activity 5 goes here..\n",
    "\n",
    "predicted.risk <- predict(predict_train, type=\"response\", newdata=test_data)\n",
    "summary(predicted.risk)\n",
    "\n"
   ]
  },
  {
   "cell_type": "markdown",
   "metadata": {},
   "source": [
    "<span style=\"color:#1d80ba; font-size:14px; font-weight:700\">Activity 6:</span> Compute the confusion matrix between variables not.fully.paid in test_data and predicted.risk using a threshold of 0.5"
   ]
  },
  {
   "cell_type": "code",
   "execution_count": 42,
   "metadata": {},
   "outputs": [
    {
     "data": {
      "text/plain": [
       "   \n",
       "    FALSE TRUE\n",
       "  0  2394   11\n",
       "  1   456   12"
      ]
     },
     "metadata": {},
     "output_type": "display_data"
    }
   ],
   "source": [
    "# Your code for activity 6 goes here..\n",
    "\n",
    "table(test_data$not.fully.paid, predicted.risk>0.5)\n",
    "\n"
   ]
  },
  {
   "cell_type": "markdown",
   "metadata": {},
   "source": [
    "<span style=\"color:#1d80ba; font-size:14px; font-weight:700\">Activity 7:</span> What is the accuracy of the model predict_train?"
   ]
  },
  {
   "cell_type": "code",
   "execution_count": 43,
   "metadata": {},
   "outputs": [
    {
     "data": {
      "text/html": [
       "0.837452140619561"
      ],
      "text/latex": [
       "0.837452140619561"
      ],
      "text/markdown": [
       "0.837452140619561"
      ],
      "text/plain": [
       "[1] 0.8374521"
      ]
     },
     "metadata": {},
     "output_type": "display_data"
    }
   ],
   "source": [
    "# Your answer for activity 7 goes here.\n",
    "\n",
    "# Just do the math here using the numbers you got in above confusion matrix. No need of any code.\n",
    "\n",
    "(2394+12)/(2394+456+11+12)\n",
    "\n",
    "# (TP + TN) / number of observations in the dataset\n",
    "\n",
    "# In R, 0 = FALSE and 1 = TRUE, so the values for 0 are those that are paid, and the values for 1 are those that are\n",
    "# not paid.\n",
    "\n"
   ]
  },
  {
   "cell_type": "markdown",
   "metadata": {},
   "source": [
    "<span style=\"color:#1d80ba; font-size:14px; font-weight:700\">Activity 8:</span> What is the accuracy of the baseline model?"
   ]
  },
  {
   "cell_type": "code",
   "execution_count": 44,
   "metadata": {},
   "outputs": [
    {
     "data": {
      "text/html": [
       "0.83710407239819"
      ],
      "text/latex": [
       "0.83710407239819"
      ],
      "text/markdown": [
       "0.83710407239819"
      ],
      "text/plain": [
       "[1] 0.8371041"
      ]
     },
     "metadata": {},
     "output_type": "display_data"
    }
   ],
   "source": [
    "# Your answer for activity 8 goes here..\n",
    "\n",
    "# Just do the math here using the numbers you got in above confusion matrix. No need of any code. \n",
    "\n",
    "(2394+11)/(2394+456+11+12)\n",
    "\n",
    "\n"
   ]
  },
  {
   "cell_type": "markdown",
   "metadata": {},
   "source": [
    "<span style=\"color:#1d80ba; font-size:14px; font-weight:700\">Activity 9:</span> Compute the AUC of the model predict_train using the ROCR package."
   ]
  },
  {
   "cell_type": "code",
   "execution_count": 45,
   "metadata": {},
   "outputs": [
    {
     "name": "stderr",
     "output_type": "stream",
     "text": [
      "Updating HTML index of packages in '.Library'\n",
      "Making 'packages.html' ... done\n"
     ]
    },
    {
     "data": {
      "text/html": [
       "0.68786893402278"
      ],
      "text/latex": [
       "0.68786893402278"
      ],
      "text/markdown": [
       "0.68786893402278"
      ],
      "text/plain": [
       "[1] 0.6878689"
      ]
     },
     "metadata": {},
     "output_type": "display_data"
    }
   ],
   "source": [
    "install.packages(\"gplots\")\n",
    "packageurl <- 'https://cran.r-project.org/src/contrib/Archive/ROCR/ROCR_1.0-7.tar.gz'\n",
    "install.packages(packageurl, repos=NULL, type=\"source\")\n",
    "library(ROCR)\n",
    "\n",
    "# Your answer for activity 9 goes here..\n",
    "\n",
    "ROCR_predictions = prediction(predicted.risk, test_data$not.fully.paid)\n",
    "as.numeric(performance(ROCR_predictions,\"auc\")@y.values)\n",
    "\n"
   ]
  },
  {
   "cell_type": "markdown",
   "metadata": {},
   "source": [
    "<span style=\"color:#1d80ba; font-size:14px; font-weight:700\">Activity 10:</span> Determine the 100th smallest predicted probability of not paying in full by sorting the predicted risks in increasing order and selecting the 100th element of this sorted list"
   ]
  },
  {
   "cell_type": "code",
   "execution_count": 46,
   "metadata": {},
   "outputs": [
    {
     "data": {
      "text/html": [
       "<strong>2704:</strong> 0.0502835748188774"
      ],
      "text/latex": [
       "\\textbf{2704:} 0.0502835748188774"
      ],
      "text/markdown": [
       "**2704:** 0.0502835748188774"
      ],
      "text/plain": [
       "      2704 \n",
       "0.05028357 "
      ]
     },
     "metadata": {},
     "output_type": "display_data"
    }
   ],
   "source": [
    "# Your answer for activity 10 goes here..\n",
    "\n",
    "sorted_predicted.risk <- sort(predicted.risk)\n",
    "sorted_predicted.risk[100]\n"
   ]
  },
  {
   "cell_type": "markdown",
   "metadata": {},
   "source": [
    "# Save your notebook!"
   ]
  }
 ],
 "metadata": {
  "kernelspec": {
   "display_name": "R",
   "language": "R",
   "name": "ir"
  },
  "language_info": {
   "codemirror_mode": "r",
   "file_extension": ".r",
   "mimetype": "text/x-r-source",
   "name": "R",
   "pygments_lexer": "r",
   "version": "3.5.1"
  }
 },
 "nbformat": 4,
 "nbformat_minor": 1
}
