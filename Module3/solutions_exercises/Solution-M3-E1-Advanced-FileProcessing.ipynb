{
 "cells": [
  {
   "cell_type": "markdown",
   "metadata": {},
   "source": [
    "# Indexing a book with Python\n",
    "\n",
    "### Data File: \n",
    "** `../../../datasets/hamilton-federalist-548.txt` **\n",
    "\n",
    "### To make this practice more straightforward, we are indexing lines of a single file instead of indexing pages.\n",
    "\n",
    "Example (partial) index entry for the word `impose`:\n",
    "\n",
    "```\n",
    "impose : [3945, 5823, 5895, ..., 19064]\n",
    "```\n",
    "\n",
    "\n",
    "### Algorithm\n",
    "\n",
    "1. Open file\n",
    "2. Parse file into a list of lists, variable named: file_data, where every line is a list of words **converted to lower case**.\n",
    "3. Initialize an empty dictionary that will hold a collection of `word -> list_of_lines`\n",
    "3. Iterate through the file_data\n",
    "  1. For each Line, iterate through the line to pull out words and add an entry to your word_index.\n",
    "    * Note, please skip, i.e., do not index the following words:\n",
    "    * `['the','as','by','it','which','is','that','be','a','in','and','to','of']`\n",
    "\n"
   ]
  },
  {
   "cell_type": "code",
   "execution_count": null,
   "metadata": {},
   "outputs": [],
   "source": [
    "# Import any libraries in this cell\n",
    "# ---------------------------------\n",
    "\n",
    "#import string\n",
    "\n"
   ]
  },
  {
   "cell_type": "code",
   "execution_count": null,
   "metadata": {},
   "outputs": [],
   "source": [
    "file_data = []\n",
    "# ---------------------------------\n",
    "\n",
    "#We need to open the file\n",
    "with open('../../../datasets/hamilton-federalist-548.txt', 'r') as file:\n",
    "#For each line in file\n",
    "  for line in file:\n",
    "#we want to split that line into an array of words and convert them to lowercase\n",
    "#[x.lower() for x in [\"A\",\"B\",\"C\"]] this example code will covert that list of letters to lowercase\n",
    "      line_words = [x.lower() for x in line.split(' ')]\n",
    "      file_data.append(line_words)\n",
    " "
   ]
  },
  {
   "cell_type": "code",
   "execution_count": null,
   "metadata": {},
   "outputs": [],
   "source": [
    "# Initial Words to ignore\n",
    "ignore_words = ['the','as','by','it','which','is','that','be','a','in','and','to','of']\n",
    "\n",
    "ignore_words = set(ignore_words) # You could turn this into a set if you wanted."
   ]
  },
  {
   "cell_type": "code",
   "execution_count": null,
   "metadata": {},
   "outputs": [],
   "source": [
    "# Iterate through file_data and \n",
    "#  compute your counts in this cell\n",
    "# ---------------------------------\n",
    "\n",
    "# Index data structure - this is a dictionary of (key,value) pairs. \n",
    "# The key will be the word, the value will be a list of line numbers\n",
    "myIndex = {}\n",
    "\n",
    "line_number = 0\n",
    "#hint, for line in <something_goes_here>:\n",
    "for line in file_data:  \n",
    "    line_number += 1\n",
    "    #For each Line, iterate through the line to pull out words\n",
    "    # For each word\n",
    "    for word in line:    \n",
    "    # Test 'The Word' against ignore words\n",
    "        if word not in ignore_words:\n",
    "        # If 'The Word' isn't an ignore word and it is not in the data structure add it and the line number\n",
    "            if word in myIndex:\n",
    "                myIndex[word].append(line_number)\n",
    "        # If 'The Word' is in the data structure APPEND the line number to the list of line numbers \n",
    "            else:\n",
    "                myIndex[word] = [line_number]  "
   ]
  },
  {
   "cell_type": "markdown",
   "metadata": {},
   "source": [
    "#### Execute the cell below to see your index of lines for a few particular words."
   ]
  },
  {
   "cell_type": "code",
   "execution_count": null,
   "metadata": {},
   "outputs": [],
   "source": [
    "\n",
    "print(\"America lines: \", myIndex['america'])\n",
    "\n",
    "print(\"British lines: \", myIndex['british'])\n",
    "\n",
    "print(\"Confederation lines: \", myIndex['confederation'])\n",
    "\n",
    "# NOTE If you get the error \"KeyError:\", you do not have the key in your dictionary."
   ]
  },
  {
   "cell_type": "markdown",
   "metadata": {},
   "source": [
    "# SAVE YOUR NOTEBOOK"
   ]
  },
  {
   "cell_type": "markdown",
   "metadata": {},
   "source": [
    "# Additional Practice for the Ambitious\n",
    "\n",
    "Consider the `ignore_words` list.  \n",
    "In the cell below, reset the ignore_words to a blank list and reset your index to an empty dictionary\n",
    "\n",
    "Then, rewrite the code you wrote above to re-process file data. This time, any word that exceeds 250 instances should be removed from `myIndex` and added to the `ignore_words`."
   ]
  },
  {
   "cell_type": "code",
   "execution_count": null,
   "metadata": {},
   "outputs": [],
   "source": [
    "ignore_words = []\n",
    "myIndex = {}\n",
    "\n",
    "# Iterate through file data and \n",
    "#  compute your counts in this cell\n",
    "# ---------------------------------\n",
    "line_number = 0\n",
    "for line in file_data:\n",
    "  line_number += 1\n",
    "  for word in line:\n",
    "      if word not in ignore_words:\n",
    "          if word in myIndex:\n",
    "              if len(myIndex[word]) == 250:\n",
    "                  del myIndex[word]\n",
    "                  ignore_words.add(word) # Oh no, I used add and not append\n",
    "              else:\n",
    "                  myIndex[word].append(line_number)\n",
    "          else:\n",
    "              myIndex[word] = [line_number]\n",
    "\n",
    "#for k, v in myIndex.items():\n",
    "#    print(\"Word '{}' appears {} times\".format(k,len(v)))\n",
    "print(ignore_words)\n",
    "\n",
    "\n"
   ]
  },
  {
   "cell_type": "markdown",
   "metadata": {},
   "source": [
    "# SAVE YOUR NOTEBOOK"
   ]
  }
 ],
 "metadata": {
  "kernelspec": {
   "display_name": "Python 3",
   "language": "python",
   "name": "python3"
  },
  "language_info": {
   "codemirror_mode": {
    "name": "ipython",
    "version": 3
   },
   "file_extension": ".py",
   "mimetype": "text/x-python",
   "name": "python",
   "nbconvert_exporter": "python",
   "pygments_lexer": "ipython3",
   "version": "3.7.3"
  }
 },
 "nbformat": 4,
 "nbformat_minor": 1
}
