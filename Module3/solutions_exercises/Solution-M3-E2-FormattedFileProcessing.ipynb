{
 "cells": [
  {
   "cell_type": "markdown",
   "metadata": {},
   "source": [
    "# A Search Tool for Data Files\n",
    "\n",
    "Build a function that can search through a Panda data frame for specific values, optionally limiting the search to a particular column by name.  By default, the function will search the entire data frame, i.e., all columns.\n",
    "\n",
    "### Data File: \n",
    "\n",
    "**'/dsa/data/all_datasets/inc5000_2016.json'**\n",
    "\n",
    "### Algorithm\n",
    "\n",
    "1. Read the file into a Panda data frame\n",
    "3. Develop Python code that can search the data frame for the first occurrence value 'Prime Time Healthcare'\n",
    "  1. Print out the position: line number and column name.\n",
    "\n",
    "---\n",
    "\n",
    "* After you have developed the code, modularize your search code into a function that takes the following arguments\n",
    "  1. Panda data frame\n",
    "  2. Search term"
   ]
  },
  {
   "cell_type": "code",
   "execution_count": null,
   "metadata": {},
   "outputs": [],
   "source": [
    "# Import any libraries in this cell\n",
    "# Read the file using Pandas\n",
    "# ---------------------------------\n",
    "\n",
    "import pandas as pd\n",
    "\n",
    "frame = pd.read_json('/dsa/data/all_datasets/inc5000_2016.json')\n",
    "\n",
    "print(frame.columns)\n",
    "print(frame.head())\n",
    "\n"
   ]
  },
  {
   "cell_type": "code",
   "execution_count": null,
   "metadata": {},
   "outputs": [],
   "source": [
    "# Develop code to search the data \n",
    "#  frame for the value: 'Prime Time Healthcare'\n",
    "# ---------------------------------\n",
    "col = 0  # column counter/pointer\n",
    "found = False\n",
    "for column in frame:  # scan each column iteratively\n",
    "  if not found:  # continue search as long as match not found\n",
    "      row = 0  # row pointer\n",
    "      for value in frame[column]:  # scan row by row in this column\n",
    "          if value == 'Prime Time Healthcare':  # check match\n",
    "              print('Found at {},{}: {}'.format(row,col,frame.iloc[row,col]))\n",
    "              found = True\n",
    "              break # match found. get out of this inner for loop\n",
    "          row += 1  # this will execute if match not found in the previous row. change the row pointer to the next position\n",
    "      col += 1  # this will execute if match not found in the previous column. change the col pointer to the next position\n",
    "  else:\n",
    "      break\n",
    "\n"
   ]
  },
  {
   "cell_type": "code",
   "execution_count": null,
   "metadata": {},
   "outputs": [],
   "source": [
    "# Copy the code from the cell above!\n",
    "# Change the code to search the data \n",
    "#  frame for the value: 'Zurixx'\n",
    "# ---------------------------------\n",
    "col = 0\n",
    "found = False\n",
    "for column in frame:\n",
    "  if not found:\n",
    "      row = 0\n",
    "      for value in frame[column]:\n",
    "          if value == 'Zurixx':\n",
    "              print('Found at {},{}: {}'.format(row,col,frame.iloc[row,col]))\n",
    "              found = True\n",
    "              break\n",
    "          row += 1\n",
    "      col += 1\n",
    "  else:\n",
    "      break\n",
    "\n"
   ]
  },
  {
   "cell_type": "code",
   "execution_count": null,
   "metadata": {},
   "outputs": [],
   "source": [
    "# Copy the code from the cell above!\n",
    "#  Compare the two code cells above\n",
    "# Use a variable for the difference,\n",
    "#  then wrap the code into a function\n",
    "#  definition.\n",
    "# ---------------------------------\n",
    "\n",
    "# hint, def search_df( ??? )\n",
    "def search_df(df, value_name):\n",
    "  col = 0\n",
    "  for column in df:\n",
    "      row = 0\n",
    "      for value in df[column]:\n",
    "          if value == value_name:\n",
    "              return (row,col)\n",
    "          row += 1\n",
    "      col += 1\n",
    "  return None"
   ]
  },
  {
   "cell_type": "code",
   "execution_count": null,
   "metadata": {},
   "outputs": [],
   "source": [
    "# Copy the code from the cell above!\n",
    "# Change the function to use a third\n",
    "# parameter to determine the search \n",
    "# column\n",
    "# --------------------------------\n",
    "def find_row_num(df, value_name, col_name):\n",
    "  row = 0\n",
    "  for value in df[col_name]:\n",
    "      if value == value_name:\n",
    "          return row\n",
    "      row += 1\n",
    "  return None"
   ]
  },
  {
   "cell_type": "code",
   "execution_count": null,
   "metadata": {},
   "outputs": [],
   "source": [
    "# Search for the following terms\n",
    "#    AppLovin\n",
    "#    Nutanix\n",
    "#    TickPick\n",
    "# --------------------------------\n",
    "for x in ['AppLovin','Nutanix', 'TickPick']:\n",
    "  result = search_df(frame, x)\n",
    "  if result:\n",
    "      print('Found {},{}: {}'.format(result[0],result[1],frame.iloc[result[0],result[1]]))\n",
    "  else:\n",
    "      print('NOT FOUND')\n",
    "\n",
    "for x in ['AppLovin','Nutanix', 'TickPick']:\n",
    "  result = find_row_num(frame, x, 'city')\n",
    "  if result:\n",
    "      print('Found {}: {}'.format(result,frame['company'][result]))\n",
    "  else:\n",
    "      print('NOT FOUND')\n",
    "\n",
    "for x in ['AppLovin','Nutanix', 'TickPick']:\n",
    "  result = find_row_num(frame, x, 'company')\n",
    "  if result:\n",
    "      print('Found {}: {}'.format(result,frame['company'][result]))\n",
    "  else:\n",
    "      print('NOT FOUND')"
   ]
  },
  {
   "cell_type": "markdown",
   "metadata": {},
   "source": [
    "# Save your notebook"
   ]
  }
 ],
 "metadata": {
  "kernelspec": {
   "display_name": "Python 3",
   "language": "python",
   "name": "python3"
  },
  "language_info": {
   "codemirror_mode": {
    "name": "ipython",
    "version": 3
   },
   "file_extension": ".py",
   "mimetype": "text/x-python",
   "name": "python",
   "nbconvert_exporter": "python",
   "pygments_lexer": "ipython3",
   "version": "3.7.3"
  }
 },
 "nbformat": 4,
 "nbformat_minor": 1
}
