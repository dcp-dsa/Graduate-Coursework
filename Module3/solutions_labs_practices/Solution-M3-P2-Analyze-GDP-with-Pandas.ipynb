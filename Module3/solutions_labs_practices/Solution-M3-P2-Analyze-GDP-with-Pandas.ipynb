{
 "cells": [
  {
   "cell_type": "markdown",
   "metadata": {},
   "source": [
    "# Goal of this practice\n",
    "\n",
    "In this practice, we will learn several pandas DataFrame operations for transforming data. We will use data from the World Bank that gives yearly GDP per country since 1960. We can formulate various tasks with this data. Right now we will foucus on inspecting and getting basic stats from this data."
   ]
  },
  {
   "cell_type": "markdown",
   "metadata": {},
   "source": [
    "# Import pandas"
   ]
  },
  {
   "cell_type": "code",
   "execution_count": null,
   "metadata": {},
   "outputs": [],
   "source": [
    "import pandas as pd\n",
    "\n",
    "data_path = \"../resources/gdp.csv\"\n"
   ]
  },
  {
   "cell_type": "markdown",
   "metadata": {},
   "source": [
    "# Load the data\n",
    "\n",
    "Before loading any data file, we should open the file in a simple text editor if the file is small. If the file is large, we can use `head` or `less` functions in a **terminal** to read the first few lines. This will give us an idea whether we need to skip some rows in order to load the data. E.g., the following code will throw an error as the data is not in expected format.\n"
   ]
  },
  {
   "cell_type": "code",
   "execution_count": null,
   "metadata": {},
   "outputs": [],
   "source": [
    "gdp_df = pd.read_csv(data_path)"
   ]
  },
  {
   "cell_type": "markdown",
   "metadata": {},
   "source": [
    "Let's open the terminal and change to `Module3/resources`. If we execture `head -n 5 gdp.csv` (i.e read the first 5 lines) we will see that the first 4 lines are meta data and we need to skip these rows. "
   ]
  },
  {
   "cell_type": "code",
   "execution_count": null,
   "metadata": {},
   "outputs": [],
   "source": [
    "gdp_df = pd.read_csv(data_path, skiprows=4)"
   ]
  },
  {
   "cell_type": "markdown",
   "metadata": {},
   "source": [
    "## Inspect the data frame"
   ]
  },
  {
   "cell_type": "code",
   "execution_count": null,
   "metadata": {},
   "outputs": [],
   "source": [
    "# write your code here\n",
    "\n",
    "# Task: print first two rows of data\n",
    "print(gdp_df.head(2))\n",
    "\n",
    "# Task: What is shape of the data?\n",
    "print(gdp_df.shape)\n",
    "\n",
    "# Task: print the column names\n",
    "print(gdp_df.columns)\n",
    "\n",
    "# Task: show the data types\n",
    "print(gdp_df.dtypes)"
   ]
  },
  {
   "cell_type": "markdown",
   "metadata": {},
   "source": [
    "# Remove unnecessary columns"
   ]
  },
  {
   "cell_type": "code",
   "execution_count": null,
   "metadata": {},
   "outputs": [],
   "source": [
    "# TODO: drop 'Country Code', 'Indicator Name', 'Indicator Code' columns with drop function\n",
    "gdp_df_minimal = gdp_df.drop(columns=['Country Code', 'Indicator Name', 'Indicator Code'])"
   ]
  },
  {
   "cell_type": "code",
   "execution_count": null,
   "metadata": {},
   "outputs": [],
   "source": [
    "gdp_df_minimal.columns"
   ]
  },
  {
   "cell_type": "code",
   "execution_count": null,
   "metadata": {},
   "outputs": [],
   "source": [
    "gdp_df_minimal['Country Name']"
   ]
  },
  {
   "cell_type": "markdown",
   "metadata": {},
   "source": [
    "## Get country wise stats\n",
    "\n",
    "Pandas `describe` method operated over numerical columns. Right now country data is row-wise. We need to make them column-wise."
   ]
  },
  {
   "cell_type": "code",
   "execution_count": null,
   "metadata": {},
   "outputs": [],
   "source": [
    "# Set the Index on Country Name - previously was numeric.\n",
    "gdp_transpose = gdp_df_minimal.set_index('Country Name')\n",
    "\n",
    "# TODO: Transpose the index (i.e. country) and columns (year)\n",
    "gdp_transpose = gdp_transpose.transpose()\n"
   ]
  },
  {
   "cell_type": "code",
   "execution_count": null,
   "metadata": {},
   "outputs": [],
   "source": [
    "# apply the describe function\n",
    "gdp_transpose.describe()"
   ]
  },
  {
   "cell_type": "code",
   "execution_count": null,
   "metadata": {},
   "outputs": [],
   "source": [
    "gdp_transpose.columns"
   ]
  },
  {
   "cell_type": "markdown",
   "metadata": {},
   "source": [
    "## Repeat the above exercise. This time only focus on the last 10 years of data. \n"
   ]
  },
  {
   "cell_type": "code",
   "execution_count": null,
   "metadata": {},
   "outputs": [],
   "source": [
    "gdp_df_minimal.head()"
   ]
  },
  {
   "cell_type": "code",
   "execution_count": null,
   "metadata": {},
   "outputs": [],
   "source": [
    "gdp_df_minimal = gdp_df_minimal.set_index('Country Name')"
   ]
  },
  {
   "cell_type": "code",
   "execution_count": null,
   "metadata": {},
   "outputs": [],
   "source": [
    "del gdp_df_minimal['Unnamed: 64']"
   ]
  },
  {
   "cell_type": "code",
   "execution_count": null,
   "metadata": {},
   "outputs": [],
   "source": [
    "gdp_df_minimal.head()"
   ]
  },
  {
   "cell_type": "code",
   "execution_count": null,
   "metadata": {},
   "outputs": [],
   "source": [
    "# check whether the values in col 2019 is all NaN\n",
    "\n",
    "print(gdp_df_minimal['2019'].isnull().all())  # will print True if all are NaN\n",
    "\n",
    "# remove the col 2019. Sol will be accepted even if col 2019 is not deleted.\n",
    "\n",
    "gdp_df_minimal = gdp_df_minimal.drop(columns=['2019'])\n",
    "\n"
   ]
  },
  {
   "cell_type": "code",
   "execution_count": null,
   "metadata": {},
   "outputs": [],
   "source": [
    "gdp_last_10years_df = gdp_df_minimal.iloc[:, -10:]\n",
    "\n",
    "gdp_last_10years_df.head()"
   ]
  },
  {
   "cell_type": "code",
   "execution_count": null,
   "metadata": {},
   "outputs": [],
   "source": [
    "gdp_transpose2 = gdp_last_10years_df.transpose()\n",
    "gdp_transpose2.describe()"
   ]
  },
  {
   "cell_type": "markdown",
   "metadata": {},
   "source": [
    "## Extract the following information from this data"
   ]
  },
  {
   "cell_type": "code",
   "execution_count": null,
   "metadata": {},
   "outputs": [],
   "source": [
    "# Task: which country has the maximum GDP in 2011?\n",
    "\n",
    "ignore_cols = [\n",
    "    'World', 'Arab World', 'Caribbean small states', 'Central Europe and the Baltics', 'East Asia & Pacific', \n",
    "    'East Asia & Pacific (excluding high income)', 'Euro area', 'Europe & Central Asia', \n",
    "    'Europe & Central Asia (excluding high income)',\n",
    "    'European Union', 'Fragile and conflict affected situations', 'Heavily indebted poor countries (HIPC)', \n",
    "    'Latin America & Caribbean', 'Latin America & Caribbean (excluding high income)', \n",
    "    'Least developed countries: UN classification', 'Middle East & North Africa', \n",
    "    'Middle East & North Africa (excluding high income)', 'North America', 'OECD members', 'Other small states',\n",
    "    'Pacific island small states', 'Small states', 'South Asia', 'Sub-Saharan Africa', \n",
    "    'Sub-Saharan Africa (excluding high income)', 'High income', 'Low & middle income', 'Low income', \n",
    "    'Lower middle income', 'Middle income', 'Upper middle income', 'Post-demographic dividend', 'IDA & IBRD total',\n",
    "    'IBRD only', 'Late-demographic dividend'\n",
    "    \n",
    "]\n",
    "\n",
    "gdp_trans_2 = gdp_transpose.drop(columns=ignore_cols)\n",
    "\n"
   ]
  },
  {
   "cell_type": "code",
   "execution_count": null,
   "metadata": {},
   "outputs": [],
   "source": [
    "# Task: get the avg GDP of France from the year 2001 to 2010\n",
    "#gdp_trans_2.head()\n",
    "france_gdp = gdp_trans_2['France']\n",
    "france_gdp.head()\n",
    "\n",
    "france_gdp_sub = france_gdp.loc['2001':'2010']\n",
    "france_gdp_sub.head()\n",
    "print(france_gdp_sub.mean())\n",
    "print(f\"{france_gdp_sub.mean()/1e12:.3} Trillion\")\n",
    "\n"
   ]
  },
  {
   "cell_type": "code",
   "execution_count": null,
   "metadata": {},
   "outputs": [],
   "source": [
    "# Task: show country-wise pecent change in GDP with `pct_change()` function \n",
    "print(gdp_transpose.head())\n",
    "gdp_transpose.pct_change()"
   ]
  }
 ],
 "metadata": {
  "kernelspec": {
   "display_name": "Python 3",
   "language": "python",
   "name": "python3"
  },
  "language_info": {
   "codemirror_mode": {
    "name": "ipython",
    "version": 3
   },
   "file_extension": ".py",
   "mimetype": "text/x-python",
   "name": "python",
   "nbconvert_exporter": "python",
   "pygments_lexer": "ipython3",
   "version": "3.7.3"
  }
 },
 "nbformat": 4,
 "nbformat_minor": 2
}
