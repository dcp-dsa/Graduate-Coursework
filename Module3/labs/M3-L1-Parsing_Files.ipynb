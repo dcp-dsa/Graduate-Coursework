{
 "cells": [
  {
   "cell_type": "markdown",
   "metadata": {
    "collapsed": true
   },
   "source": [
    "# Parsing Files"
   ]
  },
  {
   "cell_type": "markdown",
   "metadata": {},
   "source": [
    "In this notebook we how to parse the contents of files. To demonstrate parsing lines of text, below there are four different lines that we can  turn into a list. Then we want to find the most frequently used word while excluding some others. We also want to ignore case. \"The\" is the same as \"the\".\n",
    "\n",
    "This next cell of code will just set up our data for the problem we are solving.  We have all of our strings that we need to go through as well as our list of words to exclude."
   ]
  },
  {
   "cell_type": "code",
   "execution_count": null,
   "metadata": {},
   "outputs": [],
   "source": [
    "#these are our lines\n",
    "line_a = \"The quick brown fox jumps over the lazy dog\"\n",
    "line_b = \"Several fabulous dixieland jazz groups played with quick tempo\"\n",
    "line_c = \"The wizard quickly jinxed the gnomes before they vaporized\"\n",
    "line_d = \"I really like a brown dog, fabulous project groups, and quick foxes\"\n",
    "\n",
    "#these are the words to exclude\n",
    "words_to_exclude = ['the', 'i', 'groups', 'quick']\n",
    "\n",
    "# s1: create our list\n",
    "list_of_lines = []\n",
    "\n",
    "# s2: add lines to list\n",
    "# three ways we can do it\n",
    "\n",
    "# approach 1\n",
    "#list_of_lines.append(line_a)\n",
    "#list_of_lines.append(line_b)\n",
    "#list_of_lines.append(line_c)\n",
    "#list_of_lines.append(line_d)\n",
    "\n",
    "# approach 2\n",
    "list_of_lines = [line_a, line_b, line_c, line_d]\n",
    "\n",
    "# approach 3\n",
    "#we could also use list_of_lines.extend(line_a, ...)\n",
    "\n",
    "# print list\n",
    "print(list_of_lines)"
   ]
  },
  {
   "cell_type": "markdown",
   "metadata": {},
   "source": [
    "So now that we have our list of lines, we want to divide each string or line into a list of words.  We will store this in a different list to preserve the original."
   ]
  },
  {
   "cell_type": "code",
   "execution_count": null,
   "metadata": {},
   "outputs": [],
   "source": [
    "#will store all the data\n",
    "list_data = []\n",
    "for line in list_of_lines:\n",
    "    #split on \" \"\n",
    "    split_line = line.split(' ')\n",
    "    print(split_line)\n",
    "    "
   ]
  },
  {
   "cell_type": "markdown",
   "metadata": {},
   "source": [
    "Ok.  We have some uppercase letters we have to worry about.  Also we have some commas (see the word dog and groups in Line 4).\n",
    "\n",
    "Lets take care of the commas first."
   ]
  },
  {
   "cell_type": "code",
   "execution_count": null,
   "metadata": {},
   "outputs": [],
   "source": [
    "for line in list_of_lines:\n",
    "    #lets remove the comma first\n",
    "    line = line.replace(',','')   # replace comma with empty string\n",
    "    #split on \" \"\n",
    "    split_line = line.split(' ')  # split the line at position with spaces\n",
    "    print(split_line)"
   ]
  },
  {
   "cell_type": "markdown",
   "metadata": {},
   "source": [
    "We can see that in the last line, dogs and groups now don't have commas.\n",
    "\n",
    "Lets take care of the upper case issue"
   ]
  },
  {
   "cell_type": "code",
   "execution_count": null,
   "metadata": {},
   "outputs": [],
   "source": [
    "for line in list_of_lines:\n",
    "    #lets remove the comma first\n",
    "    line = line.replace(',','')\n",
    "    #split on \" \"\n",
    "    split_line = line.split(' ')\n",
    "    #work on lowercase \n",
    "    split_line_lowercase = []\n",
    "    for word in split_line:\n",
    "        #make work lowercase\n",
    "        word_lowercase = word.lower()\n",
    "        #append it to the lowercase list\n",
    "        split_line_lowercase.append(word_lowercase)\n",
    "    print(split_line_lowercase)"
   ]
  },
  {
   "cell_type": "markdown",
   "metadata": {},
   "source": [
    "So we step through each line making each word lowercase and adding it to its own list.  This seems like a lot of code but might be easier to follow.  \n",
    "\n",
    "**To make it a little bit neater on one line of code we can use the following instead using `list comprehension`:**\n",
    "```python\n",
    "[word.lower() for word in line.split(' ')]\n",
    "```\n",
    "In  the above code `line.split(' ')` creates a list `for word in line.split(' ')` will traverse this list  `word.lower()` will make word lower case  `[  ]` is a list  \n",
    "\n",
    "**We can also perform the task with `map`:**\n",
    "```python\n",
    "map(lambda x: x.lower(), line.split(' '))\n",
    "```"
   ]
  },
  {
   "cell_type": "code",
   "execution_count": null,
   "metadata": {},
   "outputs": [],
   "source": [
    "for line in list_of_lines:\n",
    "    #lets remove the comma first\n",
    "    line = line.replace(',','')\n",
    "    #split on \" \" and make lower\n",
    "    split_line = [word.lower() for word in line.split(' ')]\n",
    "    print(split_line)"
   ]
  },
  {
   "cell_type": "markdown",
   "metadata": {},
   "source": [
    "Now that we have no commas and only one case (lowercase) to worry about let's put all this into `list_data`"
   ]
  },
  {
   "cell_type": "code",
   "execution_count": null,
   "metadata": {},
   "outputs": [],
   "source": [
    "list_data = []\n",
    "for line in list_of_lines:\n",
    "    #lets remove the comma first\n",
    "    line = line.replace(',','')\n",
    "    #split on \" \" and make lower\n",
    "    split_line = [word.lower() for word in line.split(' ')]\n",
    "    list_data.append(split_line)\n",
    "print(list_data)"
   ]
  },
  {
   "cell_type": "markdown",
   "metadata": {},
   "source": [
    "Notice that I'm printing often and breaking things into steps.  Keeping track of the data as we progress step by step will help us keep track of where we went wrong in the process if our data isn't what we want.  \n",
    "\n",
    "\n",
    "Now that we have our list of lists the way we want we can begin counting the words. We wil be using a dictionary - (key,value) pairs. The key will be the word, the value will be the frequency of that word (an integer).\n",
    "\n",
    "**Like lists that have an index (positions represented with integer), in a dictionary, the key (the word in our case) is the index.**"
   ]
  },
  {
   "cell_type": "code",
   "execution_count": null,
   "metadata": {},
   "outputs": [],
   "source": [
    "#create our dictionary\n",
    "word_frequency = {}\n",
    "#loop through the list_data (each line in our 'file')\n",
    "for line in list_data:\n",
    "    print(line)"
   ]
  },
  {
   "cell_type": "markdown",
   "metadata": {},
   "source": [
    "We can see each line prints correctly. Now let's focus on printing each word in a line."
   ]
  },
  {
   "cell_type": "code",
   "execution_count": null,
   "metadata": {},
   "outputs": [],
   "source": [
    "#loop through the list_data (each line in our 'file')\n",
    "for line in list_data:\n",
    "    #loop through each word in the line(list of words)\n",
    "    for word in line:\n",
    "        print(word)\n",
    "    #this will put a space inbetween lines\n",
    "    print(' ')"
   ]
  },
  {
   "cell_type": "markdown",
   "metadata": {},
   "source": [
    "Now that we are looking at each word individually let's think about counting. Sometimes you can literally write code by thinking about it.  \n",
    "\n",
    "**Algorithm:**\n",
    "If the word is in the dictionary, increment it. Otherwise add it and make it 1.  \n",
    "\n",
    "```python\n",
    "if word in word_frequency:\n",
    "    word_frequency[word] += 1\n",
    "else:\n",
    "    word_frequency[word] = 1\n",
    "```"
   ]
  },
  {
   "cell_type": "code",
   "execution_count": null,
   "metadata": {},
   "outputs": [],
   "source": [
    "word_frequency = {}  # note that we have declared this container (i.e dictionary) outside the for loop\n",
    "\n",
    "#loop through the list_data (each line in our 'file')\n",
    "for line in list_data:\n",
    "    #loop through each word in the line(list of words)\n",
    "    for word in line:\n",
    "        if word in word_frequency:\n",
    "            word_frequency[word] += 1\n",
    "        else:\n",
    "            word_frequency[word] = 1\n",
    "print(word_frequency)"
   ]
  },
  {
   "cell_type": "markdown",
   "metadata": {},
   "source": [
    "Ok, so we see that 'the' has been used 4 times but it is on our list of exclude words. We can take care of the exclude words after or during the create dictionary process."
   ]
  },
  {
   "cell_type": "code",
   "execution_count": null,
   "metadata": {},
   "outputs": [],
   "source": [
    "word_frequency = {}\n",
    "\n",
    "#loop through the list_data (each line in our 'file')\n",
    "for line in list_data:\n",
    "    #loop through each word in the line(list of words)\n",
    "    for word in line:\n",
    "        #check to see if word is not in the list.\n",
    "        if word not in words_to_exclude:\n",
    "            if word in word_frequency:\n",
    "                word_frequency[word] += 1\n",
    "            else:\n",
    "                word_frequency[word] = 1\n",
    "        #else we just continue\n",
    "print(word_frequency)"
   ]
  },
  {
   "cell_type": "markdown",
   "metadata": {},
   "source": [
    "Most words have a frequency of 1, but we can see a few have a frequency of 2. Let's say we want to print the words 'brown', 'dog', and 'fabulous' that have the max frequency of 2.\n",
    "\n",
    "We can go back through the dictionary and count or again we can keep track of the frequency as we add words to the dictionary."
   ]
  },
  {
   "cell_type": "code",
   "execution_count": null,
   "metadata": {},
   "outputs": [],
   "source": [
    "word_frequency = {}\n",
    "max_frequency = 0\n",
    "\n",
    "#loop through the list_data (each line in our 'file')\n",
    "for line in list_data:\n",
    "    #loop through each word in the line(list of words)\n",
    "    for word in line:\n",
    "        #check to see if word is not in the list.\n",
    "        if word not in words_to_exclude:\n",
    "            if word in word_frequency:\n",
    "                word_frequency[word] += 1\n",
    "            else:\n",
    "                word_frequency[word] = 1\n",
    "            #make sure its a word we have added to the dictionary\n",
    "            if max_frequency < word_frequency[word]:\n",
    "                max_frequency = word_frequency[word]\n",
    "        #else we just continue to the next word\n",
    "print(f\"==> (word,freq): {word_frequency}\")\n",
    "print(f\"==> Max freq = {max_frequency}\")"
   ]
  },
  {
   "cell_type": "markdown",
   "metadata": {},
   "source": [
    "We now have the max frequency of 2, and a dictionary of words.\n",
    "Let's make a new list of `most_frequent_words` and add all of the words with that frequency to the list."
   ]
  },
  {
   "cell_type": "code",
   "execution_count": null,
   "metadata": {},
   "outputs": [],
   "source": [
    "most_frequent_words = []\n",
    "for word in word_frequency:\n",
    "    if max_frequency == word_frequency[word]:\n",
    "        most_frequent_words.append(word)\n",
    "\n",
    "print(f\"The most frequent words = {most_frequent_words}\")\n",
    "\n",
    "# we can sort the words with `sort` method\n",
    "most_frequent_words.sort()\n",
    "print(f\"The most frequent words (sorted) = {most_frequent_words}\")"
   ]
  },
  {
   "cell_type": "markdown",
   "metadata": {},
   "source": [
    "In this example we created a list of words, lowercase, excluding some of the common words in the sentences.\n",
    "Keep this example at the front of your mind for the next file processing practices."
   ]
  },
  {
   "cell_type": "markdown",
   "metadata": {},
   "source": [
    "# Save your notebook, the `File > Close and Halt`"
   ]
  }
 ],
 "metadata": {
  "kernelspec": {
   "display_name": "Python 3",
   "language": "python",
   "name": "python3"
  },
  "language_info": {
   "codemirror_mode": {
    "name": "ipython",
    "version": 3
   },
   "file_extension": ".py",
   "mimetype": "text/x-python",
   "name": "python",
   "nbconvert_exporter": "python",
   "pygments_lexer": "ipython3",
   "version": "3.7.3"
  }
 },
 "nbformat": 4,
 "nbformat_minor": 2
}
