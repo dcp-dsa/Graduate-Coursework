{
 "cells": [
  {
   "cell_type": "markdown",
   "metadata": {},
   "source": [
    "# Loading data from CSV files using `pandas`\n",
    "\n",
    "`pandas` is a popular data science package for `Python`. \n",
    "It includes different data structures and tools that provide for flexible **data manipulation** and **analysis**. \n",
    "Throughout this course, we will be using what are known as `data frames`, a 2-dimensional table that **supports different data types**. \n",
    "This is one of the key structures that `pandas` provides. Data frames also exist in the `R` Statistical programming language.\n",
    "\n",
    "Here is how it works:\n"
   ]
  },
  {
   "cell_type": "code",
   "execution_count": null,
   "metadata": {},
   "outputs": [],
   "source": [
    "import pandas as pd\n",
    "\n",
    "with open('NationalNames1.csv', 'r') as file:\n",
    "    df_names = pd.read_csv(file)\n",
    "    del df_names['Id']\n",
    "    "
   ]
  },
  {
   "cell_type": "markdown",
   "metadata": {},
   "source": [
    "It's that simple!\n",
    "\n",
    "Actually, **it can be even simpler**. Running the one-line piece of code below would actually produce (almost) the same thing.\n",
    "However, in the example above we wanted to delete the old `Id` column from the source file before outputting into the data frame, so we wrapped that in the `with open()` statement above and ran `del df['Id']`. \n",
    "\n",
    "```python\n",
    "df_names = pd.read_csv('NationalNames1.csv')\n",
    "del df_names['Id']\n",
    "```\n",
    "\n",
    "Let's see what the data frame we created looks like ... "
   ]
  },
  {
   "cell_type": "code",
   "execution_count": null,
   "metadata": {},
   "outputs": [],
   "source": [
    "df_names.shape # this gives dim (row, col)"
   ]
  },
  {
   "cell_type": "code",
   "execution_count": null,
   "metadata": {},
   "outputs": [],
   "source": [
    "df_names.head()  # this gives the first 5 rows of the data frame"
   ]
  },
  {
   "cell_type": "markdown",
   "metadata": {},
   "source": [
    "As you can see, the top row is a header row. \n",
    "Whereas we had to remove the header row in the list of lists in order to manipulate the data, this row serves as a reference to the columns in `pandas`. \n",
    "The unnamed column on the left are the row indexes. "
   ]
  },
  {
   "cell_type": "markdown",
   "metadata": {},
   "source": [
    "### Data Filtering\n",
    "\n",
    "`pandas` allows for easy filtering of the data. \n",
    "Imagine that you are only interested in tracking how many people each year named their child \"Grant\". \n",
    "All we have to do is filter the `Name` column by the string \"Grant\""
   ]
  },
  {
   "cell_type": "code",
   "execution_count": null,
   "metadata": {},
   "outputs": [],
   "source": [
    "df_names[df_names['Name']=='Grant'].head()"
   ]
  },
  {
   "cell_type": "markdown",
   "metadata": {},
   "source": [
    "That was a very simple line of code, which is one of the benefits of using `pandas`. \n",
    "\n",
    "We can break it down step by step. \n",
    "\n",
    "1. Let's start with the line `df_names['Name']=='Grant'`. \n",
    "This is going to return `True` or `False` given whether or not the condition is met. \n",
    "Running this line by itself would just return a boolean for each index.  \n",
    "1. For this reason, we wrap that in `df_names[...]`, which returns a subset of the dataframe, `df_names` where the index returns `True`, thus returning all rows that match the string, \"Grant\". \n",
    "\n",
    "1. The final `.head()` piece is a `pandas` method that you can call on dataframes to return the first rows. \n",
    "You could pass a numerical parameter to return the first X-number of rows. \n",
    "For example, if we put `df[df['Name']=='Grant'].head(10)`, the first 10 rows of this subset would be returned.\n",
    "\n",
    "**On your own:** *What do you think `.tail()` in place of `.head()` returns?*"
   ]
  },
  {
   "cell_type": "markdown",
   "metadata": {},
   "source": [
    "`pandas` supports more advanced filtering as well.\n",
    "\n",
    "For example, if we want the rows that have `Name`=\"Grant\" **and** `Count` between 50 and 80 ... \n",
    "We can further constrain the \"Grant\" subset with `Count` constraints.\n",
    "\n",
    "\n",
    "`pandas` allows us to match on many conditions very easily."
   ]
  },
  {
   "cell_type": "code",
   "execution_count": null,
   "metadata": {},
   "outputs": [],
   "source": [
    "df_names[(df_names['Name'] == 'Grant') & (df_names['Count'] > 50) & (df_names['Count'] < 80)] "
   ]
  },
  {
   "cell_type": "markdown",
   "metadata": {},
   "source": [
    "One last thing to note:  \n",
    "You can easily **transpose** a dataframe by accessing its 'T' member. \n",
    "See the below example:"
   ]
  },
  {
   "cell_type": "code",
   "execution_count": null,
   "metadata": {},
   "outputs": [],
   "source": [
    "df_names.T.head()"
   ]
  },
  {
   "cell_type": "markdown",
   "metadata": {},
   "source": [
    "For more info on using a `pandas` data frame, we'll refer you to the appropriate documentation here:  \n",
    "https://pandas.pydata.org/pandas-docs/stable/generated/pandas.DataFrame.html  \n",
    "\n",
    "----\n",
    "\n",
    "## <span style=\"background:yellow\">Your Turn</span>\n",
    "\n",
    "* Write the necessary Python code to load the dataset \"sample-salesv2.csv\" into a pandas dataframe and explore the dataset. Refer to the provided examples above.  \n",
    "\n",
    "* Once you have the data frame loaded, use `head()` and the condition matching based on the earlier examples to get familiar with this data set.  \n",
    "\n",
    "* For an extra challenge, look at the `mean` function on the pandas dataframe documentation and use it to find the mean unit price for items that cost less than 50.00. \n",
    "\n",
    "The expected mean is 30.341589.\n",
    "\n",
    "----\n",
    "`Pandas` data frame documentation:  \n",
    "https://pandas.pydata.org/pandas-docs/stable/generated/pandas.DataFrame.html  \n"
   ]
  },
  {
   "cell_type": "code",
   "execution_count": null,
   "metadata": {},
   "outputs": [],
   "source": [
    "# Add your code below this line \n",
    "# Note, Normally you would need to import pandas, but if you ran the above code, \n",
    "# Pandas will be imported already.\n",
    "# -----------------------------\n",
    "\n",
    "df = pd.read_csv(\"sample-salesv2.csv\")\n"
   ]
  },
  {
   "cell_type": "markdown",
   "metadata": {
    "collapsed": true
   },
   "source": [
    "# SAVE YOUR NOTEBOOK, then `File > Close and Halt`"
   ]
  }
 ],
 "metadata": {
  "kernelspec": {
   "display_name": "Python 3",
   "language": "python",
   "name": "python3"
  },
  "language_info": {
   "codemirror_mode": {
    "name": "ipython",
    "version": 3
   },
   "file_extension": ".py",
   "mimetype": "text/x-python",
   "name": "python",
   "nbconvert_exporter": "python",
   "pygments_lexer": "ipython3",
   "version": "3.7.3"
  }
 },
 "nbformat": 4,
 "nbformat_minor": 1
}
