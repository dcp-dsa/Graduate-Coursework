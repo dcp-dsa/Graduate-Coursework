{
 "cells": [
  {
   "cell_type": "markdown",
   "metadata": {},
   "source": [
    "# Parsing a KML using Beautiful Soup\n",
    "\n",
    "We are going to process this open source, publicly curated [SAM KML](https://indigo.sgn.missouri.edu/static/Africa_SAM_2013.kml)\n",
    "\n",
    "```XML\n",
    "<?xml version=\"1.0\" encoding=\"UTF-8\"?>\n",
    "<kml xmlns=\"http://www.opengis.net/kml/2.2\" xmlns:gx=\"http://www.google.com/kml/ext/2.2\" xmlns:kml=\"http://www.opengis.net/kml/2.2\" xmlns:atom=\"http://www.w3.org/2005/Atom\">\n",
    "<Document>\n",
    "\t<name>Africa.kml</name>\n",
    "...\n",
    "\n",
    "\n",
    "\t\t\t\t\t\t<Placemark>\n",
    "\t\t\t\t\t\t\t<name>Empty EW site</name>\n",
    "\t\t\t\t\t\t\t<visibility>0</visibility>\n",
    "\t\t\t\t\t\t\t<description><![CDATA[Date of last activity:  N/A<br>]]></description>\n",
    "\t\t\t\t\t\t\t<LookAt>\n",
    "\t\t\t\t\t\t\t\t<longitude>32.32708810370011</longitude>\n",
    "\t\t\t\t\t\t\t\t<latitude>31.25651784460001</latitude>\n",
    "\t\t\t\t\t\t\t\t<altitude>0</altitude>\n",
    "\t\t\t\t\t\t\t\t<heading>-3.294199353736108</heading>\n",
    "\t\t\t\t\t\t\t\t<tilt>0</tilt>\n",
    "\t\t\t\t\t\t\t\t<range>832.197179666657</range>\n",
    "\t\t\t\t\t\t\t\t<gx:altitudeMode>relativeToSeaFloor</gx:altitudeMode>\n",
    "\t\t\t\t\t\t\t</LookAt>\n",
    "\t\t\t\t\t\t\t<styleUrl>#msn_open-diamond16730</styleUrl>\n",
    "\t\t\t\t\t\t\t<Point>\n",
    "\t\t\t\t\t\t\t\t<coordinates>32.32774961582337,31.2566830854452,0</coordinates>\n",
    "\t\t\t\t\t\t\t</Point>\n",
    "\t\t\t\t\t\t</Placemark>\n",
    "\n",
    "...\n",
    "</Document>\n",
    "</kml>\n",
    "```\n",
    "\n",
    "It has a collection of \"placemarks\", which are object locations on Earth.  Placemarks are one of the most common elements of KML files and can have many different attributes. If you are unfamiliar with KML files, you may find it helpful to [review their basic structure](https://developers.google.com/kml/documentation/kml_tut#basic_kml).\n",
    "\n",
    "This lab shows how BeautifulSoup can be used to load the data into a data frame.\n",
    "Afterward, you can take the data frame forward for plotting and other tasks.\n",
    "\n",
    "Recall from a previous lab: You will need to restart your notebook kernel (Kernel > Restart) after the next command completes!"
   ]
  },
  {
   "cell_type": "code",
   "execution_count": 1,
   "metadata": {},
   "outputs": [
    {
     "name": "stdout",
     "output_type": "stream",
     "text": [
      "Collecting package metadata: done\n",
      "Solving environment: - \n",
      "The environment is inconsistent, please check the package plan carefully\n",
      "The following packages are causing the inconsistency:\n",
      "\n",
      "  - conda-forge/linux-64::matplotlib==3.0.3=py37_1\n",
      "\\ Killed\n"
     ]
    }
   ],
   "source": [
    "!conda install -y lxml"
   ]
  },
  {
   "cell_type": "code",
   "execution_count": null,
   "metadata": {},
   "outputs": [],
   "source": [
    "from bs4 import BeautifulSoup\n",
    "\n",
    "# With regard to KML, spaces after commas are strictly prohibited, and this script takes advantage of this.\n",
    "# Source: https://groups.google.com/forum/#!msg/kml-support-getting-started/lf6V4YCJlr8/32e1YlfJ8joJ\n",
    "\n",
    "FILENAME = '/dsa/data/all_datasets/Africa_SAM_2013.kml'\n",
    "\n",
    "# going to save all entries here because recursion is hard.\n",
    "## FIX THE FILENAME FOR THE FINAL VERSION\n",
    "entries = []\n",
    "\n",
    "with open(FILENAME) as f:\n",
    "    print(\"Input File '{}' opened for reading\".format(FILENAME))\n",
    "    \n",
    "    tree = BeautifulSoup(f, \"lxml-xml\")\n",
    "\n",
    "    print(\"XML File parsed into a DOM\")\n"
   ]
  },
  {
   "cell_type": "code",
   "execution_count": null,
   "metadata": {},
   "outputs": [],
   "source": [
    "# The 'tree' object returned from BeautifulSoup is a beautifulSoup object, aka a 'parse tree'\n",
    "# This is referred to as a container in the functions defined below.\n",
    "type(tree)"
   ]
  },
  {
   "cell_type": "code",
   "execution_count": null,
   "metadata": {},
   "outputs": [],
   "source": [
    "print(tree.Placemark)  # Here's a glimpse of the source tree for one Placemark"
   ]
  },
  {
   "cell_type": "markdown",
   "metadata": {},
   "source": [
    "The following functions parse the KML tree, \n",
    "pulling out the attributes we need into the `entries` list defined above.  \n",
    "The first function loops over \"Folders\" in the tree iteratively.  \n",
    "For each leaf in the tree, it calls the second function, `kml_sqlgen_single_container`.  This function loops processes each placemark, \n",
    "and puts the component geometries (point, line, polygon) into the `entries` list."
   ]
  },
  {
   "cell_type": "code",
   "execution_count": null,
   "metadata": {},
   "outputs": [],
   "source": [
    "def kml_sqlgen_all_DFS(tree):\n",
    "    \"\"\"\n",
    "    Executes a depth-first search on the provided KML container recursively.\n",
    "    If a container has either a Folder or Document child, it will recurse down.\n",
    "    Once a container is met that has no relevant children,\n",
    "    and after the recursion has finished,\n",
    "    the current container will be sent to\n",
    "    kml_sqlgen_single_container for final processing.\n",
    "\n",
    "    Inputs:\n",
    "        tree:       The container to be processed\n",
    "    \"\"\"\n",
    "\n",
    "    ignoredFolderNames = ['Facilities', 'SHORAD SAMs']\n",
    "\n",
    "    # KML is a hierarchy of Nodes... \"each\" is a poorly named container node \n",
    "    # Search for child containers and pass them to this function\n",
    "    for each in tree.findAll(['Folder', 'Document'], recursive=False):\n",
    "        \n",
    "        print(\"Processing : {}\".format(each.find('name').contents[0]))\n",
    "\n",
    "        if (each.find('name').contents[0] in ignoredFolderNames):\n",
    "            print(\"Skipping\")\n",
    "            continue\n",
    "        \n",
    "        # Recursive call to process a subtree\n",
    "        kml_sqlgen_all_DFS(each)\n",
    "\n",
    "    # Recursion Stop if the (sub-)tree object is an ignored folder\n",
    "    if (tree.find('name').contents[0] in ignoredFolderNames):\n",
    "        return\n",
    "\n",
    "    kml_sqlgen_single_container(tree)\n",
    "    return"
   ]
  },
  {
   "cell_type": "code",
   "execution_count": null,
   "metadata": {},
   "outputs": [],
   "source": [
    "def kml_sqlgen_single_container(container):\n",
    "    \"\"\"\n",
    "    Search a single container, processing all of the place-marks in the\n",
    "    container and their relevant geometries.\n",
    "    \n",
    "    Adds entries to the global list\n",
    "    \"\"\"\n",
    "\n",
    "    name = container.find('name').text\n",
    "    print(\"Processing {} as a single container\".format(name))\n",
    "\n",
    "    temp = container.find_parent(['Folder', 'Document'])\n",
    "    while (temp):\n",
    "        name = temp.find('name').text + \"/\" + name\n",
    "        temp = temp.find_parent(['Folder', 'Document'])\n",
    "\n",
    "    print(\"Found Nav-Path to be {}\".format(name))\n",
    "    for placemark in container.findAll('Placemark', recursive=False):\n",
    "\n",
    "        geometries = placemark.findAll(['Point', 'LineString', 'Polygon'])\n",
    "\n",
    "        # We don't want to process Placemarks that don't have any geometry.\n",
    "        if (len(geometries) == 0):\n",
    "            continue\n",
    "\n",
    "        print(\"Found a placemark : {}\".format(placemark.find('name').text))\n",
    "        pathString = name + \"/\" + placemark.find('name').text\n",
    "\n",
    "        for geometry in geometries:\n",
    "\n",
    "            if placemark.Point:\n",
    "                # this sample data doesn't contain polygons or linestrings, coords will most likely need to be modified\n",
    "                # in a similar fashion for those types\n",
    "                entries.append(dict(type='point', coords=placemark.Point.find('coordinates').text, path=pathString))\n",
    "                \n",
    "            elif placemark.Polygon:\n",
    "                entries.append(dict(type='polygon', coords=str(placemark.Polygon), path=pathString))\n",
    "                \n",
    "            else:   # At this point, it can only be a LineString.\n",
    "                entries.append(dict(type='line', coords=str(placemark.LineString), path=pathString))\n",
    "    \n",
    "    return"
   ]
  },
  {
   "cell_type": "code",
   "execution_count": null,
   "metadata": {
    "scrolled": true
   },
   "outputs": [],
   "source": [
    "entries.clear()\n",
    "\n",
    "kml_sqlgen_all_DFS(tree.Document)\n"
   ]
  },
  {
   "cell_type": "code",
   "execution_count": null,
   "metadata": {},
   "outputs": [],
   "source": [
    "print(len(entries))\n",
    "print(entries[0])\n",
    "print(type(entries))"
   ]
  },
  {
   "cell_type": "code",
   "execution_count": null,
   "metadata": {},
   "outputs": [],
   "source": [
    "import pandas\n",
    "frame = pandas.DataFrame(entries)\n",
    "\n",
    "frame"
   ]
  },
  {
   "cell_type": "markdown",
   "metadata": {
    "collapsed": true
   },
   "source": [
    "Now that the data is loaded into a data frame, you can use a collection of other Python tools to plot, manipulate, and analyze the data.\n",
    "\n",
    "# Save your Notebook"
   ]
  }
 ],
 "metadata": {
  "kernelspec": {
   "display_name": "Python 3",
   "language": "python",
   "name": "python3"
  },
  "language_info": {
   "codemirror_mode": {
    "name": "ipython",
    "version": 3
   },
   "file_extension": ".py",
   "mimetype": "text/x-python",
   "name": "python",
   "nbconvert_exporter": "python",
   "pygments_lexer": "ipython3",
   "version": "3.7.3"
  }
 },
 "nbformat": 4,
 "nbformat_minor": 1
}
