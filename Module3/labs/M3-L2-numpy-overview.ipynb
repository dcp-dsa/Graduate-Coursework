{
 "cells": [
  {
   "cell_type": "markdown",
   "metadata": {},
   "source": [
    "# NumPy Overview\n",
    "\n",
    "Here we present a brief intro to NumPy. As pandas is built upon numpy, we exclude many operations of numpy here as those operation will be handle with pandas.\n",
    "\n",
    "NumPy is one of the most widely-used powerful python libraries. NumPy (and Pandas) are fundamental Python libraries that provide essential tools for data manipulation, analysis and mathematical operations. Here we will briefly discuss about the common functions of this library. \n",
    "\n",
    "NumPy is a numerical library and contains multi-dimensional arrays and matrices. This library offers a large number of mathematical, algebraic, and transformation functions. \n"
   ]
  },
  {
   "cell_type": "markdown",
   "metadata": {},
   "source": [
    "## NumPy Arrays"
   ]
  },
  {
   "cell_type": "markdown",
   "metadata": {},
   "source": [
    "There are a large number of NumPy data types. A frequently used data type is `n-dimensional array`, which is a grid of values, **all of the same type**, and is indexed by a tuple of nonnegative integers. \n",
    "\n",
    "We can create difference arrays by using the `array` function or other built-in functions. The code below shows how to create 1-D array (i.e., vector) and 2-D array (i.e matrix) as well as inpect the arrays. "
   ]
  },
  {
   "cell_type": "code",
   "execution_count": 3,
   "metadata": {},
   "outputs": [
    {
     "name": "stdout",
     "output_type": "stream",
     "text": [
      "<class 'numpy.ndarray'>\n",
      "(3,)\n",
      "1 2 3\n",
      "[5 2 3]\n",
      "(2, 3)\n",
      "1 2 4\n"
     ]
    }
   ],
   "source": [
    "import numpy as np \n",
    "\n",
    "# 1-D array\n",
    "\n",
    "a = np.array([1, 2, 3])   # Create: Create a rank 1 array\n",
    "print(type(a))            # Type: Prints \"<class 'numpy.ndarray'>\"\n",
    "print(a.shape)            # Shape: Prints \"(3,)\"\n",
    "print(a[0], a[1], a[2])   # Access elements: Prints \"1 2 3\"\n",
    "a[0] = 5                  # Updates: Change an element of the array\n",
    "print(a)                  # Prints \"[5, 2, 3]\"\n",
    "\n",
    "# 1-D array\n",
    "b = np.array([[1,2,3],[4,5,6]])    # Create a rank 2 array\n",
    "print(b.shape)                     # Prints \"(2, 3)\"\n",
    "print(b[0, 0], b[0, 1], b[1, 0])   # Prints \"1 2 4\"\n",
    "\n"
   ]
  },
  {
   "cell_type": "markdown",
   "metadata": {},
   "source": [
    "### Arrays with all elements as zeros, ones, and constant"
   ]
  },
  {
   "cell_type": "code",
   "execution_count": 4,
   "metadata": {},
   "outputs": [
    {
     "name": "stdout",
     "output_type": "stream",
     "text": [
      "[[0. 0.]\n",
      " [0. 0.]]\n",
      "[[1. 1.]]\n",
      "[[7 7]\n",
      " [7 7]]\n"
     ]
    }
   ],
   "source": [
    "a = np.zeros((2,2))   # Create an array of shape 2x2 of all zeros\n",
    "print(a)              \n",
    "\n",
    "b = np.ones((1,2))    # Create an array of shape 1x2 all ones\n",
    "print(b)              \n",
    "\n",
    "c = np.full((2,2), 7)  # Create an arry of shape 2x2 with constant value 7\n",
    "print(c)               "
   ]
  },
  {
   "cell_type": "markdown",
   "metadata": {},
   "source": [
    "### Indentity Matrix"
   ]
  },
  {
   "cell_type": "code",
   "execution_count": 5,
   "metadata": {},
   "outputs": [
    {
     "name": "stdout",
     "output_type": "stream",
     "text": [
      "[[1. 0. 0.]\n",
      " [0. 1. 0.]\n",
      " [0. 0. 1.]]\n"
     ]
    }
   ],
   "source": [
    "d = np.eye(3)         # Create a 3x3 identity matrix\n",
    "print(d)              "
   ]
  },
  {
   "cell_type": "markdown",
   "metadata": {},
   "source": [
    "### An array with a set sequence"
   ]
  },
  {
   "cell_type": "code",
   "execution_count": 6,
   "metadata": {},
   "outputs": [
    {
     "name": "stdout",
     "output_type": "stream",
     "text": [
      "[ 0  2  4  6  8 10 12 14 16 18]\n",
      "[0.   0.25 0.5  0.75 1.  ]\n"
     ]
    }
   ],
   "source": [
    "a = np.arange(0, 20, 2)\n",
    "print(a)\n",
    "\n",
    "# create an array of even space between the given range of values\n",
    "a = np.linspace(0, 1, 5)\n",
    "print(a)"
   ]
  },
  {
   "cell_type": "markdown",
   "metadata": {},
   "source": [
    "### Random Arrays"
   ]
  },
  {
   "cell_type": "code",
   "execution_count": 7,
   "metadata": {},
   "outputs": [
    {
     "name": "stdout",
     "output_type": "stream",
     "text": [
      "[[ 1.76405235  0.40015721  0.97873798]\n",
      " [ 2.2408932   1.86755799 -0.97727788]\n",
      " [ 0.95008842 -0.15135721 -0.10321885]]\n",
      "[[0.79172504 0.52889492]\n",
      " [0.56804456 0.92559664]]\n",
      "[8 9 4 3 0 3]\n",
      "[[ 5 14  0  2]\n",
      " [ 3  8  1  3]\n",
      " [13  3  3 14]]\n"
     ]
    }
   ],
   "source": [
    "# #set a random seed (optional)\n",
    "np.random.seed(0)  # this will make sure you get same sequence of random numbers. useful for testing\n",
    "\n",
    "# create a 3x3 array with mean 0 and standard deviation 1 in a given dimension\n",
    "a = np.random.normal(0, 1, (3,3))\n",
    "print(a)    \n",
    "\n",
    "e = np.random.random((2,2))  # Create an array filled with random values\n",
    "print(e)   \n",
    "\n",
    "x1 = np.random.randint(10, size=6) #one dimension\n",
    "print(x1)\n",
    "x2 = np.random.randint(15, size=(3,4)) #two dimension\n",
    "print(x2)\n"
   ]
  },
  {
   "cell_type": "markdown",
   "metadata": {},
   "source": [
    "### Dimension, Length, Size of an array"
   ]
  },
  {
   "cell_type": "code",
   "execution_count": 8,
   "metadata": {},
   "outputs": [
    {
     "name": "stdout",
     "output_type": "stream",
     "text": [
      "x3 ndim: 3\n",
      "x3 shape: (3, 4, 5)\n",
      "x3 size:  60\n"
     ]
    }
   ],
   "source": [
    "x3 = np.random.randint(10, size=(3,4,5)) #three dimension\n",
    "\n",
    "print(\"x3 ndim:\", x3.ndim)  #number of dim\n",
    "print(\"x3 shape:\", x3.shape) #length in each dimension\n",
    "print(\"x3 size: \", x3.size) # total num of elements\n"
   ]
  },
  {
   "cell_type": "markdown",
   "metadata": {},
   "source": [
    "# Operations on arrays"
   ]
  },
  {
   "cell_type": "markdown",
   "metadata": {},
   "source": [
    "We can apply many operations on arrays. E.g., \n",
    "* Perform element-wise multiplication and matrix multiplication \n",
    "* Find the transpose of a matrix (an operator that switches the rows and columns) \n",
    "* Indentify the trace of a matrix (the sum of the diagonal elements) \n",
    "* Reshape the matrix and \n",
    "* Find the slice of a matrix with boolean arrays."
   ]
  },
  {
   "cell_type": "markdown",
   "metadata": {},
   "source": [
    "### Pointwise addition and multiplication"
   ]
  },
  {
   "cell_type": "code",
   "execution_count": 9,
   "metadata": {},
   "outputs": [
    {
     "name": "stdout",
     "output_type": "stream",
     "text": [
      "[[1. 2. 3.]\n",
      " [4. 5. 6.]]\n",
      "[[1. 3. 4.]\n",
      " [3. 2. 1.]]\n",
      "[1. 2. 3.]\n",
      "[[2. 5. 7.]\n",
      " [7. 7. 7.]]\n",
      "[[ 1.  6. 12.]\n",
      " [12. 10.  6.]]\n"
     ]
    }
   ],
   "source": [
    "import numpy as np \n",
    "\n",
    "A = np.array([[1, 2, 3], [4, 5, 6]], dtype= np.float64)\n",
    "B = np.array([[1, 3, 4], [3, 2, 1]], dtype= np.float64)\n",
    "C = np.array([1,2,3], dtype = np.float64) \n",
    "print(A)\n",
    "print(B)\n",
    "print(C)\n",
    "print(A + B)\n",
    "print(A * B)\n",
    "\n"
   ]
  },
  {
   "cell_type": "markdown",
   "metadata": {},
   "source": [
    "### Matrix multiplication alternative"
   ]
  },
  {
   "cell_type": "code",
   "execution_count": 10,
   "metadata": {},
   "outputs": [
    {
     "data": {
      "text/plain": [
       "array([14., 32.])"
      ]
     },
     "execution_count": 10,
     "metadata": {},
     "output_type": "execute_result"
    }
   ],
   "source": [
    "np.dot(A, C)"
   ]
  },
  {
   "cell_type": "markdown",
   "metadata": {},
   "source": [
    "### Transpose of a matrix\n",
    "\n",
    "Transpose: Columns become rows and rows become columns."
   ]
  },
  {
   "cell_type": "code",
   "execution_count": 11,
   "metadata": {},
   "outputs": [
    {
     "data": {
      "text/plain": [
       "array([[1., 4.],\n",
       "       [2., 5.],\n",
       "       [3., 6.]])"
      ]
     },
     "execution_count": 11,
     "metadata": {},
     "output_type": "execute_result"
    }
   ],
   "source": [
    "A.T"
   ]
  },
  {
   "cell_type": "markdown",
   "metadata": {},
   "source": [
    "### Trace of an Array\n",
    "\n",
    "Trace is the sum along the diagonals of the array"
   ]
  },
  {
   "cell_type": "code",
   "execution_count": 12,
   "metadata": {},
   "outputs": [
    {
     "data": {
      "text/plain": [
       "6.0"
      ]
     },
     "execution_count": 12,
     "metadata": {},
     "output_type": "execute_result"
    }
   ],
   "source": [
    "np.trace(A)"
   ]
  },
  {
   "cell_type": "markdown",
   "metadata": {},
   "source": [
    "### Reshape an array"
   ]
  },
  {
   "cell_type": "code",
   "execution_count": 13,
   "metadata": {},
   "outputs": [
    {
     "data": {
      "text/plain": [
       "array([[0, 1, 2],\n",
       "       [3, 4, 5],\n",
       "       [6, 7, 8]])"
      ]
     },
     "execution_count": 13,
     "metadata": {},
     "output_type": "execute_result"
    }
   ],
   "source": [
    "#reshape the array\n",
    "X = np.arange(9)\n",
    "X.reshape((3,3))\n"
   ]
  },
  {
   "cell_type": "markdown",
   "metadata": {},
   "source": [
    "### Accessing array elements with boolean vector"
   ]
  },
  {
   "cell_type": "code",
   "execution_count": 14,
   "metadata": {},
   "outputs": [
    {
     "data": {
      "text/plain": [
       "array([[1.],\n",
       "       [4.]])"
      ]
     },
     "execution_count": 14,
     "metadata": {},
     "output_type": "execute_result"
    }
   ],
   "source": [
    "#Use boolean to return a specific row\n",
    "A[[True, False],]\n",
    "\n",
    "#Or column\n",
    "A[:, [True, False, False]]"
   ]
  },
  {
   "cell_type": "markdown",
   "metadata": {},
   "source": [
    "# Common Numpy Operations for Data Science\n",
    "\n",
    "Some of the numpy operations that are frequently used in data science are as follows: \n",
    "\n",
    "1. Reshape the matrix\n",
    "1. Flatten a matrix\n",
    "1. Change the type of elements\n",
    "1. Create a copy of A with a specified range\n",
    "1. Concatenate 2 matrices\n",
    "1. Add the elements in the same rows or columns to create a new vector\n",
    "1. Shuffle the elements in the array"
   ]
  },
  {
   "cell_type": "code",
   "execution_count": 35,
   "metadata": {},
   "outputs": [
    {
     "name": "stdout",
     "output_type": "stream",
     "text": [
      "[0 1 2 3 4 5 6 7 8]\n",
      "[[0 1 2]\n",
      " [3 4 5]\n",
      " [6 7 8]]\n",
      "[0 1 2 3 4 5 6 7 8]\n",
      "[0 3 6 1 4 7 2 5 8]\n",
      "----------\n",
      "[ 3 12 21]\n",
      "[ 3 12 21]\n",
      "[1. 4. 7.]\n",
      "[3. 4. 5.]\n",
      "----------\n",
      "[0 1 2 3 4 5 6 7 8 9]\n",
      "[4 0 2 7 9 6 1 8 3 5]\n",
      "[[0 1 2]\n",
      " [3 4 5]\n",
      " [6 7 8]]\n",
      "[[3 4 5]\n",
      " [0 1 2]\n",
      " [6 7 8]]\n"
     ]
    }
   ],
   "source": [
    "A = np.arange(9)\n",
    "print(A)\n",
    "\n",
    "# 1. reshape\n",
    "A = A.reshape((3,3))\n",
    "print(A)\n",
    "\n",
    "# 2. Flatten a matrix by row\n",
    "X = A.flatten()\n",
    "print(X)\n",
    "\n",
    "# 2. Flatten a matrix by column\n",
    "X = A.flatten('F')\n",
    "print(X)\n",
    "\n",
    "# 3. Change the type of the elements\n",
    "A.astype(np.float64)\n",
    "\n",
    "# 4. Create a copy of A\n",
    "newA = np.copy(A)\n",
    "\n",
    "# 4. Create a copy of A with every entry in the matrix, the lowest is 0 and highest is 5\n",
    "# The element that does not satisfy the condition will become the lowest or highest value\n",
    "np.clip(A, 0.0, 5)\n",
    "\n",
    "# 5. Add the matrix B to columns of matrix A \n",
    "D = B.T\n",
    "np.concatenate([A,D], axis = 1)\n",
    "np.concatenate([A,D.reshape(2, 3)], axis = 0)\n",
    "\n",
    "print(\"-\" * 10)\n",
    "\n",
    "# 6. Add the elements in the same row to create a new vector\n",
    "x = np.sum(A, axis = 1)  # axis = 1 represents column wise operation\n",
    "print(x)\n",
    "x = np.sum(A, axis = 1)  # axis = 0 represents row wise operation\n",
    "print(x)\n",
    "\n",
    "# 6. Take the average the elements in the same row to create a new vector\n",
    "x = np.average(A, axis = 1) \n",
    "print(x)\n",
    "x = np.average(A, axis = 0) \n",
    "print(x)\n",
    "\n",
    "\n",
    "print(\"-\" * 10)\n",
    "x = np.arange(10)\n",
    "print(x)\n",
    "\n",
    "# 7. Shuffle the elements in the array\n",
    "np.random.shuffle(x)\n",
    "print(x)\n",
    "\n",
    "# Or matrix\n",
    "print(A)\n",
    "np.random.shuffle(A)\n",
    "print(A)\n",
    "\n"
   ]
  },
  {
   "cell_type": "markdown",
   "metadata": {},
   "source": [
    "# Importing and exporting data in NumPy\n",
    "\n",
    "To run the following code, create your own `nptest.txt` and `nptest.csv`."
   ]
  },
  {
   "cell_type": "code",
   "execution_count": 49,
   "metadata": {},
   "outputs": [
    {
     "name": "stdout",
     "output_type": "stream",
     "text": [
      "[[0.17949026 0.1709866  0.46345098]\n",
      " [0.87457296 0.94411975 0.60825287]\n",
      " [0.59665541 0.78364425 0.5000263 ]]\n"
     ]
    }
   ],
   "source": [
    "arr = np.random.random((3,3))  # Create an array filled with random values\n",
    "print(arr)  "
   ]
  },
  {
   "cell_type": "markdown",
   "metadata": {},
   "source": [
    "Save the the array to two files: txt and csv. "
   ]
  },
  {
   "cell_type": "code",
   "execution_count": 52,
   "metadata": {},
   "outputs": [],
   "source": [
    "np.savetxt('nptest.txt',arr,delimiter=' ') # writes to a text file\n",
    "np.savetxt('nptest.csv',arr,delimiter=',') # writes to a CSV file"
   ]
  },
  {
   "cell_type": "markdown",
   "metadata": {},
   "source": [
    "Read the array from the saved files. "
   ]
  },
  {
   "cell_type": "code",
   "execution_count": 53,
   "metadata": {},
   "outputs": [
    {
     "name": "stdout",
     "output_type": "stream",
     "text": [
      "[[0.17949026 0.1709866  0.46345098]\n",
      " [0.87457296 0.94411975 0.60825287]\n",
      " [0.59665541 0.78364425 0.5000263 ]]\n"
     ]
    }
   ],
   "source": [
    "data = np.loadtxt('./nptest.txt') # read From a text file\n",
    "print(data)"
   ]
  },
  {
   "cell_type": "code",
   "execution_count": 54,
   "metadata": {},
   "outputs": [
    {
     "name": "stdout",
     "output_type": "stream",
     "text": [
      "[[0.17949026 0.1709866  0.46345098]\n",
      " [0.87457296 0.94411975 0.60825287]\n",
      " [0.59665541 0.78364425 0.5000263 ]]\n"
     ]
    }
   ],
   "source": [
    "data = np.genfromtxt('nptest.csv',delimiter=',') # read from a CSV file\n",
    "print(data)"
   ]
  }
 ],
 "metadata": {
  "kernelspec": {
   "display_name": "Python 3",
   "language": "python",
   "name": "python3"
  },
  "language_info": {
   "codemirror_mode": {
    "name": "ipython",
    "version": 3
   },
   "file_extension": ".py",
   "mimetype": "text/x-python",
   "name": "python",
   "nbconvert_exporter": "python",
   "pygments_lexer": "ipython3",
   "version": "3.7.3"
  }
 },
 "nbformat": 4,
 "nbformat_minor": 2
}
