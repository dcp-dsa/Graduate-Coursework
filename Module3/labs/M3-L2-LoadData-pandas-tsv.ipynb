{
 "cells": [
  {
   "cell_type": "markdown",
   "metadata": {},
   "source": [
    "# Loading data from tsv files using `pandas`\n",
    "\n",
    "## What is a `tsv` file?\n",
    "\n",
    "`tsv` is a file extension for a tab-delimited file used with spreadsheet software and as the database export format for some databases (e.g., PostgreSQL). `tsv` stands for Tab Separated Values. `tsv` files are used for raw data and can be imported into and exported from spreadsheet software. `tsv` files are essentially text files, and the raw data can be viewed by text editors, though they are often used when moving raw data between spreadsheets.\n",
    "\n",
    "### Table of Contents\n",
    "\n",
    "1. [Reading the `tsv` file with `pandas`](#json_pandas)\n",
    "1. [Reading a `tsv` file with `csv` (optional)](#file_read)\n",
    "1. [Exploring the file contents with `csv` (optional)](#file_explore)\n",
    "\n",
    "\n",
    "----\n",
    "\n",
    "### About the Data \n",
    "\n",
    "**Located:** `/dsa/data/all_datasets/people_db.tsv`\n",
    "\n",
    "This is a file containing data on various people that includes the following information per column.\n",
    "\n",
    "Attribute | Description\n",
    "----------|------------\n",
    "`NAME`      | Person's Name\n",
    "`COMPANY`   | Company name\n",
    "`POSITION_TITLE  `  | Position\n",
    "`ADDRESS      `  | Street Address \n",
    "`CITY`  | City\n",
    "`STATE   `  | State\n",
    "`ZIP    `  | Zip Code\n",
    "`PHONE_NUMBER `  | Phone #\n",
    "`EMAIL `  | Email Address\n"
   ]
  },
  {
   "cell_type": "markdown",
   "metadata": {},
   "source": [
    "<a id='json_pandas'></a>\n",
    "## Reading the `tsv` file with `pandas`\n",
    "\n",
    "The `csv` library isn't the only library capable of handling the `tsv` format. `pandas` can also handle `tsv` and it reads the data into the easy-to-read data frame object. \n",
    "Not only is it more visually appealing for humans, but the data frame also provides flexible data manipulation capabilities, the ability to story records of differing data types (ie. `string`, `int`), and intuitive indexing. \n",
    "Also, reading in the file is as simple as calling the `read_csv()` method and pass the file as the argument and **sep='\\t'** as the second argument."
   ]
  },
  {
   "cell_type": "code",
   "execution_count": null,
   "metadata": {
    "scrolled": true
   },
   "outputs": [],
   "source": [
    "import pandas as pd\n",
    "\n",
    "df = pd.read_csv('/dsa/data/all_datasets/people_db.tsv',  sep='\\t')\n",
    "\n",
    "df.head()"
   ]
  },
  {
   "cell_type": "markdown",
   "metadata": {
    "collapsed": true
   },
   "source": [
    "And now we have a data frame where the keys of the `file` list's items become the header of and the values of each record become a row in the frame.\n",
    "\n",
    "All things you have learned or will learn using Pandas data frames are now available on the data."
   ]
  },
  {
   "cell_type": "markdown",
   "metadata": {},
   "source": [
    "<a id='file_read'></a>\n",
    "## Reading a `tsv` file with `csv` (optional)\n",
    "\n",
    "The `csv` `Python` library has a mode for reading in `TSV` files; using `delimiter=\"\\t\"`. The `\\t` is the special character code for **tab**, which we will use to split the data points of our `people_db.tsv` file. "
   ]
  },
  {
   "cell_type": "code",
   "execution_count": null,
   "metadata": {
    "scrolled": true
   },
   "outputs": [],
   "source": [
    "import csv\n",
    "\n",
    "with open('/dsa/data/all_datasets/people_db.tsv') as f:\n",
    "    file = csv.reader(f, delimiter=\"\\t\")\n",
    "    for row in file:\n",
    "        # You can print the file column by column\n",
    "        # The print command here prints the first three columns with tab delimiting\n",
    "        #print(row[0]+\"\\t \\t\"+row[1]+\"\\t \\t\"+row[2])\n",
    "        \n",
    "        #This command prints the entire row\n",
    "        print(row)"
   ]
  },
  {
   "cell_type": "markdown",
   "metadata": {},
   "source": [
    "Notice how we used the `with open(...) as` syntax. \n",
    "What this does is does is opens our file, processes its contents and then closes it after the final function. \n",
    "In this case, we open the **'/dsa/data/all_datasets/people_db.tsv'** file, load it into memory with the `csv.reader()` method by assigning it to the variable `file`, and then finally, print out the `file` contents by iterating through all the rows. \n",
    "\n",
    "At the moment, it looks a little messy, but let's take a closer look at its contents."
   ]
  },
  {
   "cell_type": "markdown",
   "metadata": {},
   "source": [
    "<a id='file_explore'></a>\n",
    "## Exploring the file contents with csv (optional)\n",
    "\n",
    "In the previous code block, we read in the contents of the **people_db.tsv** file and saved it to a variable called, `file`. \n",
    "We can now access different components of this variable, but first we should see what we are working with. \n",
    "Let's take a look at the data inside the file."
   ]
  },
  {
   "cell_type": "markdown",
   "metadata": {},
   "source": [
    "**people_db.tsv**\n",
    "\n",
    "Note: Some spaces have been added to the end of the each line below to make the data format properly as markdown.\n",
    "\n",
    "NAME    COMPANY POSITION_TITLE  ADDRESS CITY    STATE   ZIP     PHONE_NUMBER    EMAIL  \n",
    "Eleanore Larson Connelly, Medhurst and Berge    'National Data Administrator'   11013 Kian Circle       Ledafort        Ohio    24916-1917      965-324-2199    eleanore@example.org  \n",
    "Jada Considine  Ryan-Goyette    'Legacy Security Developer'     882 Clara Ferry Grahamport      Pennsylvania    57914-3699      1-185-804-8474 x49870   jada@example.com  \n",
    "Jackson Herman  Hyatt, Swaniawski and Roob      'Dynamic Mobility Producer'     83650 Hilpert Burgs     Kertzmannberg   Washington      81109   909.070.4467    jackson@example.org  \n",
    "Roxanne Orn     Paucek, Nikolaus and Watsica    'Principal Intranet Assistant'  278 Satterfield Wells   West Erin       Rhode Island    61798-2573      1-986-220-7139  roxanne@example.org  \n",
    "Carroll Crona   Gottlieb-Fadel  'National Infrastructure Specialist'    421 Reilly Ridges       New Asia        Arizona 27675   (980) 737-2140 x47295   carroll@example.org  "
   ]
  },
  {
   "cell_type": "markdown",
   "metadata": {},
   "source": [
    "One of the things to take note of with a tsv file is that each data point in each line is separated by the tab character. This is the defining characteristic of a tsv file.\n",
    "\n",
    "Unlike other file formats, such as JSON (upcoming labs), where data is natively stored in key value pairs, `tsv` files have an implied dictionary structure. \n",
    "The top row is usually filled with field names, and each subsequent row contains the a single data record. \n",
    "Let's take a look at how we can have the data print out as name - value pairs using csv.DictReader. \n",
    "\n",
    "The resulting output looks like a JSON file, you will notice. \n"
   ]
  },
  {
   "cell_type": "code",
   "execution_count": null,
   "metadata": {
    "scrolled": true
   },
   "outputs": [],
   "source": [
    "#file[0:3]\n",
    "import csv\n",
    "# Read in the dictionary\n",
    "input_file = csv.DictReader(open(\"/dsa/data/all_datasets/people_db.tsv\"), delimiter=\"\\t\")\n",
    "# I could simply print all the rows, but there are a lot of them\n",
    "# So I use another for loop to limit things to five rows. \n",
    "i = 1\n",
    "for row in input_file:\n",
    "    print(row)\n",
    "    if i <5:\n",
    "        i=i+1\n",
    "    else:\n",
    "        break\n",
    "    "
   ]
  },
  {
   "cell_type": "markdown",
   "metadata": {},
   "source": [
    "In the output above, each new record is encapsulated by curly brackets ** `{  }` **. \n",
    "We can see that in each record, data are stored in key-value pairs where the key is the attribute and the value is the assigned value for that record. \n",
    "Keep in mind that we can access an attributes value by referencing the key of that particular record. \n",
    "Imagine that we wanted to grab the value of the \"metro\" attribute of the first record."
   ]
  },
  {
   "cell_type": "code",
   "execution_count": null,
   "metadata": {
    "scrolled": true
   },
   "outputs": [],
   "source": [
    "import csv\n",
    "from collections import defaultdict\n",
    "\n",
    "#Create a list of field values:\n",
    "columns = defaultdict(list) # each value in each column is appended to a list\n",
    "with open('/dsa/data/all_datasets/people_db.tsv') as f:\n",
    "    reader = csv.DictReader(f, delimiter=\"\\t\") # read rows into a dictionary format\n",
    "    for row in reader: # read a row as {column1: value1, column2: value2,...}\n",
    "        for (k,v) in row.items(): # go over each column name and value \n",
    "            columns[k].append(v) # append the value into the appropriate list\n",
    "                                 # based on column name k\n",
    "\n",
    "#Print values for one column. \n",
    "print(columns['POSITION_TITLE'])\n"
   ]
  },
  {
   "cell_type": "markdown",
   "metadata": {},
   "source": [
    "In the above example, we have to iterate over the fields to populate the dictionary values. \n",
    "When the iteration is done, we can specify showing all the values for  `['STATE']`, for example."
   ]
  },
  {
   "cell_type": "markdown",
   "metadata": {},
   "source": [
    "# Save your notebook, then `File > Close and Halt`"
   ]
  }
 ],
 "metadata": {
  "kernelspec": {
   "display_name": "Python 3",
   "language": "python",
   "name": "python3"
  },
  "language_info": {
   "codemirror_mode": {
    "name": "ipython",
    "version": 3
   },
   "file_extension": ".py",
   "mimetype": "text/x-python",
   "name": "python",
   "nbconvert_exporter": "python",
   "pygments_lexer": "ipython3",
   "version": "3.7.3"
  }
 },
 "nbformat": 4,
 "nbformat_minor": 1
}
