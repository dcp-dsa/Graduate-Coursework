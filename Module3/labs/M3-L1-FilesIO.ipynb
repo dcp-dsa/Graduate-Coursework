{
 "cells": [
  {
   "cell_type": "markdown",
   "metadata": {},
   "source": [
    "# Reading and Writing Data\n",
    "\n",
    "Up to this point, you have seen some examples of using files and you are probably familiar with computer files in general. In this lesson, we are going to provide a little more depth.\n",
    "\n",
    "Files are a key concept of the stored program computer, which is the common data computer, smart phone, tablet, and just about every other computing device. A file is a simply a sequence of computer bytes which has a name and starting location associated within the file system. The key difference between files and memory is that files are persistent, that is if the system is powered down, the files will be available when the system is powered back on.\n",
    "\n",
    "Lets look at an image from earlier in the boot camp:\n",
    "\n",
    "![Computer Programming](../images/ComputerProgram.png)\n",
    "\n",
    "In the case of computer programs, either the input or output or both can be files. This is often the case when you are using python to massage and un-mangle data that exists in a collection of files.\n",
    "\n",
    "## File Type\n",
    "\n",
    "The concept of a file type is nearly irrelevant for a file stored on the secondary storage system.  However, we often conceptually divide files into two classes:\n",
    "\n",
    "  *  Text files, e.g., plain, readable characters within the file\n",
    "  *  Binary files, e.g., files of bytes which have some structure that is relevant to a particular application\n",
    "\n",
    "Why do we conceptualize hundreds of types of binary files, ranging from PDF, Office, Audio/video, etc. as one type - binary?  The character mode versus binary mode is usually all that matters when opening a file to read or write within a program. In either case, the file is a sequence of bytes. In the text file, the bytes encode characters.\n",
    "\n",
    "## Using Files\n",
    "\n",
    "The general pattern of file usages/opearations are:\n",
    "\n",
    "  *  Open file (ether in read or write mode)\n",
    "  *  Read or Write file\n",
    "  *  Close file\n",
    "\n",
    "By opening a file, we are telling a computer system to look at the sequence of bytes referenced by the file name and prepare to read and/or write bytes.\n",
    "\n",
    "Just as a file name is a handle to reference the sequence of bytes in the file system, opening a file assigns the open file to a handle in Python. The labs at the end of this module will get into various examples for file input and output.\n"
   ]
  },
  {
   "cell_type": "markdown",
   "metadata": {},
   "source": [
    "## File Access Mode"
   ]
  },
  {
   "cell_type": "markdown",
   "metadata": {},
   "source": [
    "Access modes govern the type of operations possible in the opened file. It refers to how the file will be used once it’s opened. These modes also define the location of the File Handle in the file. File handle is like a cursor, which defines from where the data has to be read or written in the file. Different access modes for reading a file are:\n",
    "\n",
    "* **Read Only ('r'):** Open the file for reading. We can read the contents, but cannot update it. The handle is positioned at the beginning of the file. This is the default mode i.e., if mode is not mentioned then the file will be opened in read mode.\n",
    "* **Write Only (‘w’):** Open the file for writing. For an existing file, the data is truncated and over-written. The handle is positioned at the beginning of the file. Creates the file if the file does not exist.\n",
    "* **Write and Read (‘w+’):** Open the file for reading and writing. For an existing file, data is truncated and over-written. The handle is positioned at the beginning of the file.\n",
    "* **Append Only (‘a’):** Open the file for writing. The file is created if it does not exist. The handle is positioned at the end of the file. The data being written will be inserted at the end, after the existing data.\n",
    "\n",
    "You can learn about other modes [here](https://www.tutorialspoint.com/python/python_files_io.htm)."
   ]
  },
  {
   "cell_type": "markdown",
   "metadata": {},
   "source": [
    "## File Operations\n",
    "\n",
    "To go through the file operations, we will first create a file and save it to the disk. Then we will open the file that we created and print the contents of the file. \n",
    "\n",
    "There are two ways to write in a file.\n",
    "\n",
    "* **write():** Inserts the string `str1` in a single line in the text file.\n",
    "  ```File_object.write(str1)```\n",
    "* **writelines():** For a list of string elements, each string is inserted in the text file. Used to insert multiple strings at a single time.\n",
    "  ```File_object.writelines(L)```, where  ```L = [str1, str2, str3]``` "
   ]
  },
  {
   "cell_type": "code",
   "execution_count": null,
   "metadata": {},
   "outputs": [],
   "source": [
    "filepath = \"mydata/files/myfile01.txt\"\n",
    "\n",
    "# Note that we don't have temp directory here. We can either manually or programatically create it.\n",
    "# For creating the directory programatically we can take advantage of `os` package\n",
    "import os\n",
    "os.makedirs(\"mydata/files\", exist_ok=True)\n",
    "# once the above line is executed, you will see two dirs are created within labs dir: files dir within mydata\n",
    "\n",
    "# open the file in write mode\n",
    "fh = open(filepath, 'w')  \n",
    "\n",
    "\n",
    "# fh stands for file handle. You can treat this as a file object. Apply methods on the object \n",
    "# to perform various file operations\n",
    "\n",
    "# Writing a string to file\n",
    "fh.write(\"PREAMBLE\")\n",
    "\n",
    "# write doesn't insert a new line (\\n). You need to add it at end of the string (e.g., \"PREAMBLE\\n\" )\n",
    "# or you can call the write function again\n",
    "fh.write(\"\\n\")\n",
    "\n",
    "# Writing a string to file \n",
    "fh.write(\"\"\"We the People of the United States, in Order to form a more perfect Union, establish Justice, \n",
    "insure domestic Tranquility, provide for the common defense, promote the general Welfare, and \n",
    "secure the Blessings of Liberty to ourselves and our Posterity, do ordain and establish this \n",
    "Constitution for the United States of America.\\n\"\"\")\n",
    "\n",
    "# Writing multiple strings \n",
    "# at a time \n",
    "fh.writelines(['ARTICLE I\\n', 'SECTION 1\\n', \n",
    "               \"\"\"All legislative Powers herein granted shall be vested in a Congress of the United States, \n",
    "which shall consist of a Senate and House of Representatives.\\n\"\"\"])\n",
    "\n",
    "text = [\"SECTION 2\\n\", \"\"\"The House of Representatives shall be composed of Members chosen every second Year by the \n",
    "People of the several States, and the Electors in each State shall have the Qualifications requisite for Electors \n",
    "of the most numerous Branch of the State Legislature.\"\"\"]\n",
    "\n",
    "for line in text:\n",
    "    fh.write(line)\n",
    "    \n",
    "\n",
    "# Closing file. (very important)\n",
    "fh.close() \n",
    "\n"
   ]
  },
  {
   "cell_type": "markdown",
   "metadata": {},
   "source": [
    "<mark>With the above syntaxt, it is crucial that you close the file you have opened. The close() method of a file object flushes any unwritten information and closes the file object, after which no more writing can be done.</mark>\n",
    "\n",
    "As we tend to forget closing a file, Python offers `with` statement (see Lesson M2-L1 on [Flow Control](../../Module2/labs/M2-L1-ControlStructures.ipynb#The-with-control-statement). Using `with` statement, the interpretter makes sure that certain clean-up actions (e.g., closing a file) are taken.\n",
    "\n",
    "Let's open the above file append mode ('a') using with statement.\n"
   ]
  },
  {
   "cell_type": "code",
   "execution_count": null,
   "metadata": {},
   "outputs": [],
   "source": [
    "with open(filepath, 'a') as fh:\n",
    "    fh.write(\"\\n\")\n",
    "    fh.write(\"\"\"No Person shall be a Representative who shall not have attained to the Age of twenty five Years, \n",
    "and been seven Years a Citizen of the United States, and who shall not, when elected, be an Inhabitant of that \n",
    "State in which he shall be chosen.\"\"\")"
   ]
  },
  {
   "cell_type": "markdown",
   "metadata": {},
   "source": [
    "You can check the content by opening the file. \n",
    "\n",
    "Now we will open this file in read mode, and print the contents line by line. "
   ]
  },
  {
   "cell_type": "code",
   "execution_count": null,
   "metadata": {},
   "outputs": [],
   "source": [
    "with open(filepath, 'r') as fh:\n",
    "    for line in fh:  # reading line by line\n",
    "        print(line)\n",
    "\n",
    "# Note: we don't need to close the file here as with statement will take care of that"
   ]
  },
  {
   "cell_type": "markdown",
   "metadata": {},
   "source": [
    "We can also use `readline()` or `readlines()` methods to read files line by line."
   ]
  },
  {
   "cell_type": "code",
   "execution_count": null,
   "metadata": {},
   "outputs": [],
   "source": [
    "with open(filepath, 'r') as fh:\n",
    "    line = fh.readline()  # read a line\n",
    "    while line:  # continue untill the line is EOF (end of file)\n",
    "        print(line)\n",
    "        line = fh.readline()\n",
    "\n",
    "# Note: we don't need to close the file here as with statement will take care of that"
   ]
  },
  {
   "cell_type": "code",
   "execution_count": null,
   "metadata": {},
   "outputs": [],
   "source": [
    "# it possible to read all of the lines at once\n",
    "\n",
    "with open(filepath, 'r') as fh:\n",
    "    lines = fh.readlines()  # read all the lines and store them to a list\n",
    "    print(lines)\n",
    "    \n",
    "print(\"--\" * 50)\n",
    "with open(filepath, 'r') as fh:\n",
    "    block = fh.read()  # read a line as a string\n",
    "    print(block)\n",
    "    \n",
    "    lines = block.split(\"\\n\") # split the block into lines\n",
    "    print(lines)\n"
   ]
  },
  {
   "cell_type": "markdown",
   "metadata": {},
   "source": [
    "## Handling special types of files\n",
    "\n",
    "Although the above methods are sufficient to read/write almost any types of files, some types of files have special purpose, and it is better to use advanced packages to handle such files as it makes the code simpler.\n",
    "\n",
    "The following examples show how to read and write different types of text files: a) csv and b) json. We will be usign two libraries `csv` and `json` to deal with these kind of files. Note that there are libraries to read and write both csv and json files. In the next lesson we will see how to use `pandas` to read and write csv files. \n",
    "\n",
    "### CSV File\n",
    "A comma-separated values or csv files is a text file where each line represents a record and the values within a  record are separated with commas. \n",
    "\n",
    "Reading data from a CSV file and printing it with line numbers:"
   ]
  },
  {
   "cell_type": "code",
   "execution_count": null,
   "metadata": {},
   "outputs": [],
   "source": [
    "# importing csv package/library\n",
    "import csv  \n",
    "\n",
    "filepath = \"/dsa/data/all_datasets/SyriaIDPSites2015LateJunHIUDoS.csv\"\n",
    "\n",
    "line_number = 0\n",
    "fh = open(filepath, encoding='latin-1')\n",
    "\n",
    "file_data = csv.reader(fh)  # creating a csv reader object, which will process each line\n",
    "\n",
    "for data_row in file_data:\n",
    "    line_number += 1\n",
    "    print(f'{line_number:0>4} {data_row}')\n",
    "    # here {line_number:0>4} means the line number should be printed with 4 digit space. \n",
    "    # if the line number doesn't have 4 digits, use 0 to pad, and > indicates right alignment.\n",
    "\n",
    "fh.close()\n"
   ]
  },
  {
   "cell_type": "markdown",
   "metadata": {},
   "source": [
    "### JSON File\n",
    "\n",
    "**JavaScript Object Notation (JSON) is a increasingly popular data interchange format.** There are a variety of specialty derivatives of JSON, such as GeoJSON.  JSON objects are constructed of key => value pairs, written like this: `{ \"key1\" : \"value1\", \"key2\" : \"value2\" }`. Values can also be lists of objects in the form of arrays, where the `{...}` represents an object in the array : `[ {...}, {...} ]`. This data format is pretty close to Python dictionary. \n",
    " \n",
    "In the following exercise, we will be reading data from a CSV and writing to a JavaScript Object Notation (JSON) file:\n",
    "\n"
   ]
  },
  {
   "cell_type": "code",
   "execution_count": null,
   "metadata": {},
   "outputs": [],
   "source": [
    "import csv\n",
    "import json\n",
    "\n",
    "filepath = \"/dsa/data/all_datasets/SyriaIDPSites2015LateJunHIUDoS.csv\"\n",
    "\n",
    "# Open an output file, in write 'w' mode\n",
    "jsonfile = open('mydata/files/myjson.json', 'w')\n",
    "\n",
    "\n",
    "# Read File Data, using the dictionary reader\n",
    "# Define the field names.  Look into CSV library deeper for details\n",
    "fieldnames = ('Description', 'Country', 'ADM1', 'ADM2', 'ADM3', 'ADM4', 'Latitude', 'Longitude', 'Name', \n",
    "              'pcode', 'fips', 'iso_alpha2', 'iso_alpha3', 'iso_num', 'stanag', 'tld')\n",
    "\n",
    "fh = open(filepath, encoding='latin-1')\n",
    "file_data = csv.DictReader(fh, fieldnames)\n",
    "\n",
    "# Now transform\n",
    "for data_row in file_data:\n",
    "    json.dump(data_row, jsonfile)\n",
    "    jsonfile.write('\\n')\n",
    "    \n",
    "jsonfile.close()\n",
    "fh.close()"
   ]
  },
  {
   "cell_type": "code",
   "execution_count": null,
   "metadata": {},
   "outputs": [],
   "source": [
    "# read the above json file\n",
    "import json\n",
    "\n",
    "with open('mydata/files/myjson.json', encoding='latin-1') as fh:\n",
    "    for line in fh:\n",
    "        file_data = json.loads(line)\n",
    "        print(file_data)"
   ]
  },
  {
   "cell_type": "markdown",
   "metadata": {},
   "source": [
    "JSON data are very similar to Python data when Python data are printed. Something to remember is the equivalent names between JSON and Python\n",
    "\n",
    "**JSON Object = Python (Dict) Dictionary, i.e., *name - value* pairs**\n",
    "\n",
    "  * Read more about Dict here : https://docs.python.org/3.3/library/stdtypes.html#dict\n",
    "\n",
    "**JSON Array = Python list**\n",
    "\n",
    "  * Read more about List here : https://docs.python.org/3.3/library/stdtypes.html#lists\n",
    "\n",
    "A common operation is to produce JSON formatted files from other data, such as CSV files\n"
   ]
  }
 ],
 "metadata": {
  "kernelspec": {
   "display_name": "Python 3",
   "language": "python",
   "name": "python3"
  },
  "language_info": {
   "codemirror_mode": {
    "name": "ipython",
    "version": 3
   },
   "file_extension": ".py",
   "mimetype": "text/x-python",
   "name": "python",
   "nbconvert_exporter": "python",
   "pygments_lexer": "ipython3",
   "version": "3.7.3"
  }
 },
 "nbformat": 4,
 "nbformat_minor": 1
}
