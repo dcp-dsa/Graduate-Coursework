{
 "cells": [
  {
   "cell_type": "markdown",
   "metadata": {},
   "source": [
    "#  Loading data from json files using `pandas` \n",
    "\n",
    "## What is a `JSON` file?\n",
    "\n",
    "`JSON` is a file format that encodes data structures as strings to ensure readability by a computer. It stands for **J**ava**S**cript **O**bject **N**otation and is often used to store data that is *unstructured*, i.e. the data is not organized in a pre-defined manner.\n",
    "\n",
    "In this notebook, we are going to take a look at how to read a `JSON` file into `Python` and explore its contents. We'll then compare this to using `pandas` to read in the same file.\n",
    "\n",
    "### Table of Contents\n",
    "\n",
    "1. [Reading the `JSON` file with `pandas`](#json_pandas)\n",
    "1. [Reading a `JSON` file with `json` (optional)](#file_read)\n",
    "1. [Exploring the file contents with `json` (optional)](#file_explore)\n",
    "\n",
    "----\n",
    "\n",
    "### About the Data \n",
    "\n",
    "**Located:** `/dsa/data/all_datasets/inc5000_2016.json`\n",
    "\n",
    "This is a file containing data on the fastest growing private companies in the United States. The file was obtained through a data sharing website called [`Data.World`](https://data.world) and the file can be found [here](http://www.inc.com/inc5000list/json/inc5000_2016.json).\n",
    "\n",
    "Attribute | Description\n",
    "----------|------------\n",
    "`city`      | company's city\n",
    "`company`   | company name\n",
    "`growth  `  | growth of the company\n",
    "`id      `  | company file id \n",
    "`industry`  | type of company\n",
    "`metro   `  | metro area that the company belongs to\n",
    "`rank    `  | rank in terms of growth\n",
    "`revenue `  | revenue of the company\n",
    "`state_l `  | state abbreviation\n",
    "`state_s `  | state name\n",
    "`url     `  | company website\n",
    "`workers `  | number of workers\n",
    "`yrs_on_list`| how long it has been on this list\n",
    "`"
   ]
  },
  {
   "cell_type": "markdown",
   "metadata": {},
   "source": [
    "<a id='json_pandas'></a>\n",
    "## Reading a `JSON` file with `pandas`\n",
    "\n",
    "The `json` library isn't the only library capable of handling the `JSON` format. \n",
    "`pandas` can also handle `JSON` and it reads the data into the easy-to-read data frame object. \n",
    "Not only is it more visually appealing for humans, but the data frame also provides flexible data manipulation capabilities, the ability to story records of differing data types (i.e. `string`, `int`), and intuitive indexing. \n",
    "Also, reading in the file is as simple as calling the `read_json()` method and passing the file as the argument."
   ]
  },
  {
   "cell_type": "code",
   "execution_count": null,
   "metadata": {},
   "outputs": [],
   "source": [
    "import pandas as pd\n",
    "\n",
    "df = pd.read_json('/dsa/data/all_datasets/inc5000_2016.json')\n",
    "\n",
    "df.head()"
   ]
  },
  {
   "cell_type": "markdown",
   "metadata": {
    "collapsed": true
   },
   "source": [
    "And now we have a data frame where the column headers are the keys to the data and each record becomes a row in the frame.\n",
    "\n",
    "All things you have learned or will learn using pandas data frames are now available on the data."
   ]
  },
  {
   "cell_type": "markdown",
   "metadata": {},
   "source": [
    "<a id='file_read'></a>\n",
    "## Reading a `JSON` file with `json` (optional)\n",
    "\n",
    "`Python` has a library made for reading in `JSON` files; it is called ** `json` **. \n",
    "The `json` library comes with a method called `.load()`, which we will use to read in our `inc5000_2016.json` file. "
   ]
  },
  {
   "cell_type": "code",
   "execution_count": null,
   "metadata": {},
   "outputs": [],
   "source": [
    "import json\n",
    "\n",
    "with open('/dsa/data/all_datasets/inc5000_2016.json') as f:\n",
    "    file = json.load(f)\n",
    "    print(file)"
   ]
  },
  {
   "cell_type": "markdown",
   "metadata": {},
   "source": [
    "Notice how we used the `with open(...) as` syntax. \n",
    "What this does is:\n",
    "  1. opens the file, \n",
    "  2. process its contents, and then \n",
    "  3. closes it after the final function. \n",
    "In this case, it opens ** '../../../datasets/inc5000_2016.json'**, loads it into memory with the `json.load()` method by assigning it to the variable `file`, and then finally, prints out the `file` contents.\n",
    "\n",
    "At the moment, it looks rather messy, but let's take a closer look at its contents."
   ]
  },
  {
   "cell_type": "markdown",
   "metadata": {},
   "source": [
    "<a id='file_explore'></a>\n",
    "## Exploring the file contents with `json` (optional)\n",
    "\n",
    "In the previous code block, we read in the contents of the **inc5000_2016.json** file and saved it to a variable called, `file`. \n",
    "We can now access different components of the `file` variable, but first we should better understand we are working with. \n",
    "Let's see what type of object the `file` is as well as the items within the `file` object."
   ]
  },
  {
   "cell_type": "code",
   "execution_count": null,
   "metadata": {},
   "outputs": [],
   "source": [
    "file_type = file.__class__.__name__ # find the object type of 'file'\n",
    "item_type = file[0].__class__.__name__ # find the object type of the items in 'file'\n",
    "\n",
    "print(\"the object, 'file', is a {} and its items are {}s\".format(\n",
    "        file_type,item_type))"
   ]
  },
  {
   "cell_type": "markdown",
   "metadata": {},
   "source": [
    "Now we see we are working with a list of dictionaries, which means that we can access a record by specifying an index of the object `file`, which is essentially the line number. \n",
    "Let's take a look at the first three records..."
   ]
  },
  {
   "cell_type": "code",
   "execution_count": null,
   "metadata": {},
   "outputs": [],
   "source": [
    "file[0:3]"
   ]
  },
  {
   "cell_type": "markdown",
   "metadata": {},
   "source": [
    "In the output above, each new record is encapsulated by curly brackets **`{  }`**, and is therefore a Dict data structure.\n",
    "We can see that in each record, data are stored in key-value pairs where the key is the attribute and the value is the assigned value for that record. \n",
    "Keep in mind that we can access an attributes value by referencing the key of that particular record. \n",
    "Imagine that we wanted to grab the value of the \"metro\" attribute of the first record."
   ]
  },
  {
   "cell_type": "code",
   "execution_count": null,
   "metadata": {},
   "outputs": [],
   "source": [
    "file[0]['metro']"
   ]
  },
  {
   "cell_type": "markdown",
   "metadata": {},
   "source": [
    "In the above example, `file[0]` is a reference to the dictionary object that is our first record in the file, i.e., conceptually the first line of the file. \n",
    "By specifying `['metro']` on this object, we are referencing the key of the `file[0]` dictionary, which returns the value for \"metro\" for the first record. "
   ]
  },
  {
   "cell_type": "markdown",
   "metadata": {},
   "source": [
    "# Save your notebook, then `File > Close and Halt`"
   ]
  }
 ],
 "metadata": {
  "kernelspec": {
   "display_name": "Python 3",
   "language": "python",
   "name": "python3"
  },
  "language_info": {
   "codemirror_mode": {
    "name": "ipython",
    "version": 3
   },
   "file_extension": ".py",
   "mimetype": "text/x-python",
   "name": "python",
   "nbconvert_exporter": "python",
   "pygments_lexer": "ipython3",
   "version": "3.7.3"
  }
 },
 "nbformat": 4,
 "nbformat_minor": 1
}
