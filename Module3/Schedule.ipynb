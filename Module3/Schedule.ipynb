{
 "cells": [
  {
   "cell_type": "markdown",
   "metadata": {},
   "source": [
    "# Module 3: Numpy, Pandas, and Data Scraping\n",
    "\n",
    "\n",
    "## Topics covered\n",
    "\n",
    "1. <a href=\"#fileio\">L1: File Input/Ouput</a>\n",
    "1. <a href=\"#numpy-pandas\">L2: Numpy and Pandas</a>\n",
    "1. <a href=\"#et\">L2: Data Extraction and Transformation</a>\n",
    "1. [Exercises](#Exercises)\n",
    "\n",
    "\n",
    "\n",
    "## Resources used\n",
    "\n",
    " * Free course book: [Think Python](../Resources/thinkpython.pdf)\n",
    " * Previous modules' labs and readings\n",
    "\n",
    "\n"
   ]
  },
  {
   "cell_type": "markdown",
   "metadata": {},
   "source": [
    "---\n",
    "\n",
    "## A Note on material\n",
    "\n",
    "The course will escalate away from small isolated code snippets to more complex techniques.\n",
    "This is a necessary progression, as we must build upon the first two modules to use libraries and techniques of the rest of the course.\n",
    "\n",
    "---"
   ]
  },
  {
   "cell_type": "markdown",
   "metadata": {},
   "source": [
    "# Self-Paced Labs and Readings\n",
    "\n",
    "<a id=\"fileio\"></a>\n",
    "## Lesson 1: File Input/Ouput\n",
    "1. Readings\n",
    "    1. [Think Python](../Resources/thinkpython.pdf) Chapter 14: Files, Sections 14.1 - 14.11 \n",
    "    \n",
    "1. Labs\n",
    "    1. [Files Input and Output](./labs/M3-L1-FilesIO.ipynb)\n",
    "    1. [Parsing Files](./labs/M3-L1-Parsing_Files.ipynb)\n",
    "1. Practices\n",
    "    1. [File loading and parsing](./practices/M3-P1-Basic-FileProcessing.ipynb)\n",
    "\n",
    "<a id=\"numpy-pandas\"></a>\n",
    "## Lesson 2: Numpy and Pandas\n",
    "\n",
    "1. Numpy\n",
    "    1. Readings\n",
    "        1. [Quickstart Tutorial](https://numpy.org/devdocs/user/quickstart.html)\n",
    "        1. [numpy cheat sheet](https://s3.amazonaws.com/assets.datacamp.com/blog_assets/Numpy_Python_Cheat_Sheet.pdf)\n",
    "        1. (Optional) [Numpy for Matlab users](https://docs.scipy.org/doc/numpy/user/numpy-for-matlab-users.html)\n",
    "        <!-- https://s3.amazonaws.com/dq-blog-files/numpy-cheat-sheet.pdf -->\n",
    "    1. Labs\n",
    "        1. [Overview of numpy](./labs/M3-L2-numpy-overview.ipynb)\n",
    "1. Pandas\n",
    "    1. Readings\n",
    "        1. [A brief intro to pandas](https://pandas.pydata.org/pandas-docs/stable/getting_started/10min.html)\n",
    "        1. [Data structures in pandas](https://pandas.pydata.org/pandas-docs/stable/getting_started/dsintro.html)\n",
    "        1. Review: [Loading Packages and Libraries](../Module2/labs/M2-L3-LoadPackages.ipynb)\n",
    "        1. [pandas cheat sheet](https://pandas.pydata.org/Pandas_Cheat_Sheet.pdf)\n",
    "    1. Labs\n",
    "        1. [Overview of pandas](./labs/M3-L2-pandas-overview.ipynb)\n",
    "        1. Data Loading\n",
    "            1. [Loading data from CSV into Pandas](./labs/M3-L2-LoadData-Pandas-CSV.ipynb)\n",
    "            1. [Loading data from TSV into Pandas](./labs/M3-L2-LoadData-pandas-tsv.ipynb)\n",
    "            1. [Loading data from JSON into Pandas](./labs/M3-L2-LoadData-pandas-json.ipynb)\n",
    "            1. [Loading data from Excel into Pandas](./labs/M3-L2-LoadData-pandas-excel.ipynb) \n",
    "    1. Practices\n",
    "        1. [Analyze GDP of countries](./practices/M3-P2-Analyze-GDP-with-Pandas.ipynb)"
   ]
  },
  {
   "cell_type": "markdown",
   "metadata": {},
   "source": [
    "<a id=\"et\"></a>\n",
    "## Lesson 3: Data Extraction, Transforms, and Loading\n",
    "\n",
    "1. Reading\n",
    "    1. [Advanced Data parsing modules and packages](./resources/AdvancedDataParsing.ipynb)\n",
    "    1. [Python for Data Extraction, Transforms, and Loading](./resources/ETL.ipynb)\n",
    "1. Labs\n",
    "    1. Scraping Web Data\n",
    "        1. [HTML scraping with Beautiful Soup](./labs/M3-L3-Tutorial-BeautifulSoup.ipynb)\n",
    "        1. [Brief Summary of HTML Structure, Tables](https://web.dsa.missouri.edu/static/PDF/HTMLQuickGuide.pdf)\n",
    "        1. [How to Inspect a Web  Page Source for Scraper Development](https://web.dsa.missouri.edu/static/PDF/AnalyzingHTMLwithTheWebInspector.pdf)\n",
    "    1. [Advanced JSON parsing](./labs/M3-L3-Advanced-JSON-Parsing.ipynb)\n",
    "1. Practices:\n",
    "     1. [Scraping with Beautiful Soup and Storing Structured Data](./practices/M3-P3-BS_practice.ipynb)\n",
    "\n",
    "  \n",
    "\n"
   ]
  },
  {
   "cell_type": "markdown",
   "metadata": {},
   "source": [
    "## Exercises\n",
    "\n",
    "1. [Indexing a book with Python](./exercises/M3-E1-Advanced-FileProcessing.ipynb)\n",
    "1. [A Search Tool for Data Files](./exercises/M3-E2-FormattedFileProcessing.ipynb)\n"
   ]
  },
  {
   "cell_type": "markdown",
   "metadata": {},
   "source": [
    "## If you want to try submitting work\n",
    "\n",
    "If you want to try submitting work, you can attempt the steps below.\n",
    "<!--We will go over this in more detail the first couple weeks of the semester in the _Introduction to Data Science and Analytics_ as well.-->\n",
    "\n",
    "Open a Terminal, see the second link for day's activities.\n",
    "\n",
    "  * Review our work  (**Note: substitute course folder name below**)  \n",
    "```\n",
    "cd course_folder_name\n",
    "git status\n",
    "```\n",
    "  * Stage Changes\n",
    "```\n",
    "git add Module1\n",
    "```\n",
    "  * Create a commit (i.e., a save point)\n",
    "```\n",
    "git commit -m \"This is my Module 1 work\"\n",
    "```\n",
    "  * Send these changes to the server for safe keeping (i.e., publish)\n",
    "```\n",
    "git push\n",
    "```\n",
    "  * Confirm our working folder is clean and all work is tracked\n",
    "```\n",
    "git status\n",
    "```"
   ]
  },
  {
   "cell_type": "markdown",
   "metadata": {},
   "source": [
    "----"
   ]
  }
 ],
 "metadata": {
  "kernelspec": {
   "display_name": "Python 3",
   "language": "python",
   "name": "python3"
  },
  "language_info": {
   "codemirror_mode": {
    "name": "ipython",
    "version": 3
   },
   "file_extension": ".py",
   "mimetype": "text/x-python",
   "name": "python",
   "nbconvert_exporter": "python",
   "pygments_lexer": "ipython3",
   "version": "3.7.3"
  }
 },
 "nbformat": 4,
 "nbformat_minor": 1
}
