{
 "cells": [
  {
   "cell_type": "markdown",
   "metadata": {},
   "source": [
    "# Python for Data Extraction, Transforms, and Loading\n",
    "\n",
    "Data wrangling is one of the most critical skills of a data scientist!  Data can be found in a very wide variety of formats and often the veracity of data varies greatly from source to source. Consequently, Python has become one of the most important tools in the data scientist's toolbox, mainly because of its flexibility, extensibility, and ease-of-use.\n",
    "\n",
    "## Extraction\n",
    "\n",
    "Data can come in a variety of _styles_ and a key to choosing the right tool is to recognize the data style then choosing the appropriate tool.\n",
    "These varieties include:\n",
    "\n",
    "\n",
    " * Structured vs. Unstructured\n",
    " * Flat vs. Hierarchical\n",
    " * Strong vs. Weak Semantics\n",
    " "
   ]
  },
  {
   "cell_type": "markdown",
   "metadata": {},
   "source": [
    "\n",
    "For example, _comma separated values_ (CSV) files are **weak-semantic structured flat** files.\n",
    "The data are arranged in rows and columns, conceptually similar to a spreadsheet or single database table.\n",
    "These files are considered **flat** because there is no parent-child relationship implicit in the structure of the file. \n",
    "They are **structured** precisely because you know the commas are field separators and the rows are records.\n",
    "These files have **weak semantics**, as the column headings (if available) provide only names, not format and data type constraints.\n",
    "\n",
    " \n",
    "\n",
    "The _eXtensible Markup Language_ (XML) is an example of a class of **_structured, hierarchical_**, and possibly **_strongly semantic_** file formats. \n",
    "Examples may include XML, HTML, KML, and many others. \n",
    "These files are composed of _entities_ that have two sets of children:\n",
    "\n",
    " * Attributes : Key==> Value pairs\n",
    " * Child Entities\n",
    "\n",
    "The format supports document type definitions (DTD) and/or schema definitions (XSD), as well as other formats. These defining, related documents provide strong semantic meaning to elements and attributes within the document, including permissible children of each type for all entity types.\n",
    "\n",
    " \n",
    "\n",
    "On the other end of the spectrum, you may encounter **_unstructured, flat_** log files. \n",
    "Log files come from a variety of sources, include transaction systems, monitoring systems, sensors, etc.\n",
    "These are the most challenging files to extract data from; but also can be very rich sources of information.\n",
    "\n",
    " \n",
    "\n"
   ]
  },
  {
   "cell_type": "markdown",
   "metadata": {},
   "source": [
    "## Libraries:\n",
    "\n",
    " * lxml (low-level XML DOM Parser/Writer/Serializer/Deserializer): http://lxml.de/index.html\n",
    " * \n",
    " BeautifulSoup (Wrapper around lxml and other helpers) : http://www.crummy.com/software/BeautifulSoup/\n",
    "\n",
    "Please read about HTML Scraping : http://docs.python-guide.org/en/latest/scenarios/scrape/\n",
    "\n",
    " \n"
   ]
  },
  {
   "cell_type": "markdown",
   "metadata": {},
   "source": [
    "## Transforming Data\n",
    "\n",
    "Often, once you have developed a suitable parsing for a set of files, you must then transform them into a usable format for subsequent analysis.  This can include merging data from multiple files, slicing out rows or columns, or even numerical transformations.\n",
    "\n",
    "## Loading Data\n",
    "\n",
    "Once you have transformed data, you may want to automatically load it into a data repository.  \n",
    "These repositories come in a variety of flavors; for our examples here we will use the ubiquitous SQL database. \n",
    "Specifically, we will load the data into an SQLite database file.\n",
    "\n",
    "A common scenario is the use of Python to extract data from hierarchical, structured data and load it into a series of CSV data files, then into a database; or directly into a database.\n",
    "\n"
   ]
  }
 ],
 "metadata": {
  "kernelspec": {
   "display_name": "Python 3",
   "language": "python",
   "name": "python3"
  },
  "language_info": {
   "codemirror_mode": {
    "name": "ipython",
    "version": 3
   },
   "file_extension": ".py",
   "mimetype": "text/x-python",
   "name": "python",
   "nbconvert_exporter": "python",
   "pygments_lexer": "ipython3",
   "version": "3.7.3"
  }
 },
 "nbformat": 4,
 "nbformat_minor": 1
}
