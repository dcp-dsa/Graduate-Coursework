{
 "cells": [
  {
   "cell_type": "markdown",
   "metadata": {
    "collapsed": true
   },
   "source": [
    "# Saving Your Work Using Git\n",
    "\n",
    "Git and version control is discussed in the PSDS1000 Introduction to Data Science course.\n",
    "Below is a refresher for students having taken PSDS1000, and for those who haven't this will be new material.\n",
    "\n",
    "\n",
    "## Basic Concepts + Git Workflow\n",
    "Submitting work through git requires a few steps that make safe and easy to keep track of your work and revert to a previous state if needed. Simply put, Git works by keeping track of byte-level changes in each line of a file. This means, that Git will let you know of all changes in your course directory, listing the files that have changed, and letting you choose the ones you would like to upload.\n",
    "\n",
    "Submitting your work through Git (and understanding the concept) follows three simple rules. First, adding (or 'staging' in Git terms) the files that you've made changes on and would like to upload. Second, saving ('committing') the state of these changed files. And third, uploading or 'pushing' these changed files.\n",
    "\n",
    "\n",
    "## Terminal Access to the Server\n",
    "To perform these steps you have to use a Linux terminal session.\n",
    "JupyterHub provides a basic one for us under 'New > Terminal'\n",
    "\n",
    "![JH Terminal](../images/Starting_A_Terminal.png)\n",
    "\n",
    "\n",
    "### Terminal Screen\n",
    "\n",
    "Once opened, your new terminal window should look like this:\n",
    "\n",
    "![JH Terminal](../images/JH_Terminal.png)\n",
    "\n",
    "\n",
    "\n",
    "##  Review Your Work    \n",
    "To review your work, you will need to first navigate to your directory (using `cd` and the name of your folder). Once you are in the right directory, `git status` will display the changes in each file that have yet to be submitted. For example, the screenshot below shows the changes for the files in the `PSDS2100` directory by using these two commands:\n",
    "\n",
    "```\n",
    "cd PSDS2100*\n",
    "git status\n",
    "```\n",
    "\n",
    "![JH Terminal](../images/JH_Terminal_Git_Status.png)\n",
    "\n",
    "The first list includes the files whose changes are being tracked, while the second one includes files that have changed but are untracked. Adding file to the first list can be done by staging changes.\n",
    "\n",
    "\n",
    "##  Stage Changes\n",
    "Changes to files in the directory can be staged using `git add` and the name of the file or folder (Using the folder name will stage all files in it) like this:\n",
    "\n",
    "```\n",
    "git add FILE_OR_FOLDER_TO_ADD\n",
    "```\n",
    "Files that are staged are still not saved as commit (permanent log), but are listed under 'Changes to be committed'. As shown in the screenshot, you can always use `git reset HEAD <file_name>` to 'unstage' files added by mistake. Doing so will put the file under 'Changes not staged for commit'. \n",
    "\n",
    "<span style=\"background:yellow;\">** NOTE **: Using `git checkout file_name` will not only unstage a file, but also reset any changes made within the file.\n",
    "\n",
    "<span style=\"background:yellow;\">** NOTE **: Do not add database files, *.db, your repository. Just add notebooks, ending in `.ipynb`</span>\n",
    "    \n",
    "##  Create a commit (i.e., a save point)\n",
    "Once your changes are staged and correct, commit them with `git commit -m` followed by a message that can help you keep track of your work. For example:\n",
    "\n",
    "```\n",
    "git commit -m \"This is my Day 1 and Day 2 work\"\n",
    "```\n",
    "### <span style=\"background:yellow;\">NOTE: If you forget the `-m` option and message</span>  \n",
    "### <span style=\"background:yellow;\">you will get launched into a terminal text editor from the 1970's </span>\n",
    "### <span style=\"background:yellow;\">as punishment by the system.\n",
    "\n",
    "    \n",
    "## Send these changes to the server for safe keeping (i.e., publish)\n",
    "The changes that you committed in the previously step can then be published using\n",
    "\n",
    "```\n",
    "git push\n",
    "```\n",
    "\n",
    "## Confirm our working folder is clean and all work is tracked\n",
    "After pushing, running\n",
    "```\n",
    "git status\n",
    "```\n",
    "should give you a message saying that you are up to date with the remote server and there are no changes to be committed.\n",
    "\n",
    "## Basic Git Workflow\n",
    "In general, submitting your work will only use a few commands, including the ones explained above. Once you are comfortable using git, your workflow should look somewhat similar to this:\n",
    "\n",
    "0. Create/edit/work on notebooks, etc..\n",
    "1. `git status`: Check changes in directory.\n",
    "2. `git add`:    Add changed notebook files (for grading).\n",
    "3. `git status`: Check if the list of added files is correct\n",
    "4. `git commit`: Commit added files\n",
    "5. `git push`:   Push changed files to server for grading.\n",
    "\n",
    "\n",
    "## Checking commit history\n",
    "```\n",
    "git log\n",
    "```\n",
    "lists the commit history. Once you type `git log` you can exit the history by typing `q`. Alternatively you can use `git log --oneline` to list commits as a single line with their corresponding message and exit with `q`.\n",
    "\n",
    "## Undoing changes\n",
    "The commit id's listed by `git log` can be used to revert to a previous state, undoing work committed or even published. There are several ways to do this with more advanced commands such as `git checkout`, `git revert`, or `git reset`. A more detailed explanation on how to undo changes that have already been committed can be found in this [link](https://www.atlassian.com/git/tutorials/undoing-changes)\n"
   ]
  },
  {
   "cell_type": "markdown",
   "metadata": {},
   "source": [
    "---\n",
    "## Summary of Commands\n",
    "* `git status`: Check changes in directory\n",
    "* `git log`: List commit history\n",
    "* `git add <file/dir>`: Stage files/changes for commit\n",
    "* `git reset HEAD <file/dir>`: Unstage files/changes\n",
    "* `git checkout <file/dir>`:  Unstage and discard changes to file \n",
    "* `git commit -m`: Commit changes to log\n",
    "* `git push`: Push changes"
   ]
  },
  {
   "cell_type": "markdown",
   "metadata": {},
   "source": [
    "For use of this editor, refer to the getting started guide."
   ]
  },
  {
   "cell_type": "markdown",
   "metadata": {},
   "source": [
    "# You have saved your work and published to the server!"
   ]
  }
 ],
 "metadata": {
  "kernelspec": {
   "display_name": "Python 3",
   "language": "python",
   "name": "python3"
  },
  "language_info": {
   "codemirror_mode": {
    "name": "ipython",
    "version": 3
   },
   "file_extension": ".py",
   "mimetype": "text/x-python",
   "name": "python",
   "nbconvert_exporter": "python",
   "pygments_lexer": "ipython3",
   "version": "3.7.3"
  }
 },
 "nbformat": 4,
 "nbformat_minor": 1
}
