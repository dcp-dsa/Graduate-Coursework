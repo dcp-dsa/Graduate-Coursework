{
 "cells": [
  {
   "cell_type": "markdown",
   "metadata": {},
   "source": [
    "\n",
    "# Frequently Asked Questions Day 3\n",
    "\n"
   ]
  },
  {
   "cell_type": "markdown",
   "metadata": {},
   "source": [
    "\n",
    "## Are we supposed to complete the practices exercises that are not on the schedule?  \n",
    "***\n",
    "Some exercises were pulled to help with the work load.  \n",
    "Feel free to complete the extra exercises if you want.  \n",
    "Practicing coding is a good way to get better.\n"
   ]
  },
  {
   "cell_type": "markdown",
   "metadata": {},
   "source": [
    "\n",
    "## My solutions don't match the solutions posted. Is this a problem?  \n",
    "***\n",
    "The solutions we provide are just one of the ways to finish the problem.  \n",
    "Feel free to program in your style and use our solutions to reverse engineering a solution in your process.  \n"
   ]
  },
  {
   "cell_type": "markdown",
   "metadata": {},
   "source": [
    "## What does 'your branch is ahead of origin master..' mean?  \n",
    "***\n",
    "This is telling you that you have distinct groups of committed changes that have not been published to your repository.  \n",
    "By using the 'git log' command, you can pull up a detailed list of your past commits.  \n",
    "To submit your completed coursework, use the 'git push' command to publish your commits to your repository"
   ]
  },
  {
   "cell_type": "markdown",
   "metadata": {},
   "source": [
    "## Link to Pandas documentation.  \n",
    "***\n",
    "[Link to Pandas documentation](https://pandas.pydata.org/pandas-docs/stable/tutorials.html)"
   ]
  },
  {
   "cell_type": "markdown",
   "metadata": {},
   "source": [
    "## What is going on in the following code: no_ignores = [x for x in f if x not in ignore_words]  \n",
    "***\n",
    "The above code is using Python list comprehension. It's conceptually following:  \n",
    "> no_ignores = [] &nbsp;&nbsp; #empty list  \n",
    "> for each x in f:  \n",
    "> &nbsp;&nbsp;&nbsp;&nbsp;if x not in ignore_words:  \n",
    "> &nbsp;&nbsp;&nbsp;&nbsp;&nbsp;&nbsp;&nbsp;&nbsp; no_ignores.append[x] &nbsp;&nbsp; #add word to end of list  \n",
    "\n",
    "Which can also be thought of as:  \n",
    "\n",
    "> no_ignores = [x &nbsp;&nbsp;#empty list  \n",
    "> &nbsp;&nbsp;&nbsp;&nbsp;(for x in f if x not in ignore_words)\n"
   ]
  },
  {
   "cell_type": "markdown",
   "metadata": {},
   "source": [
    "## Is there a way to check my code for small errors? I keep messing up on small things.  \n",
    "***\n",
    "If you want, you can try typing your code in an IDE or text editor, and then copy pasting into the notebook.  \n",
    "Some Integrated Development Environments (IDEs) support debugging tools and predictive text.  \n",
    "For example, this is a picture from Atom using the autcomplete-python package.  \n",
    "![atomPredictiveText](files/images/atomPred.png)  \n",
    "This is telling me that x.upper() is a command I can perform on x.  \n"
   ]
  },
  {
   "cell_type": "code",
   "execution_count": null,
   "metadata": {
    "collapsed": true
   },
   "outputs": [],
   "source": [
    "x = ('hello')\n",
    "print (x)\n",
    "print (x.upper())"
   ]
  },
  {
   "cell_type": "markdown",
   "metadata": {},
   "source": [
    "Which if you run the code above, you can see capitalizes every letter in the string.  \n",
    "It may also tell you when something you're doing it wrong or suggest a change.  \n",
    "While not required for this course, finding a IDE or text editor that you like can really help as you continue on with programming.  \n",
    "#### Keep in mind that your IDE will not have the same files (csvs, pandas, etc) that the Jupyter Notebook contains.  \n"
   ]
  },
  {
   "cell_type": "markdown",
   "metadata": {},
   "source": [
    "## What does the '¥' symbol in Module3/Lesson3 stand for?  \n",
    "***\n",
    "The Japanese Yen symbol was used by the original lab developer to be used as a delimiting character."
   ]
  },
  {
   "cell_type": "markdown",
   "metadata": {},
   "source": [
    "## What does the Census table look like?  \n",
    "***\n",
    "You can use this [link](https://indigo.sgn.missouri.edu/static/mirror_sites/factfinder.census.gov/bkmk/table/1.0/en/GEP/2014/00A4/0100000US) to look at the Census data.  \n",
    "Or if you're looking at the web page, use [these instructions](https://indigo.sgn.missouri.edu/static/PDF/AnalyzingHTMLwithTheWebInspector.pdf) to inspect the html."
   ]
  },
  {
   "cell_type": "markdown",
   "metadata": {},
   "source": [
    "## The database is having issues with my table headers.  \n",
    "***\n",
    "The database does not like the '-' character. You can use quotes in the commands to solve this,  \n",
    "i.e. name-of-table changed to 'name-of-table'  \n",
    "However, it's probably easier to use the '_' character."
   ]
  }
 ],
 "metadata": {
  "kernelspec": {
   "display_name": "Python 3",
   "language": "python",
   "name": "python3"
  },
  "language_info": {
   "codemirror_mode": {
    "name": "ipython",
    "version": 3
   },
   "file_extension": ".py",
   "mimetype": "text/x-python",
   "name": "python",
   "nbconvert_exporter": "python",
   "pygments_lexer": "ipython3",
   "version": "3.7.3"
  }
 },
 "nbformat": 4,
 "nbformat_minor": 1
}
