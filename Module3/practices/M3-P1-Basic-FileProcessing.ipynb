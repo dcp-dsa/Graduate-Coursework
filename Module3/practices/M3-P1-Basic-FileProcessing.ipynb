{
 "cells": [
  {
   "cell_type": "markdown",
   "metadata": {},
   "source": [
    "# Counting occurrences of words in a file\n",
    "\n",
    "In this practice, we open a textual file and then process the words within the file. \n",
    "\n",
    "### Data File: \n",
    "File path: **`/dsa/data/all_datasets/hamilton-federalist-548.txt`**\n",
    "\n",
    "Contains the text of Federalist paper written by Alexander Hamilton. \n",
    "\n",
    "### Algorithm\n",
    "\n",
    "An algorithm is essentially a set of rules/steps that are followed in solving a problem. \n",
    "\n",
    "1. Open File\n",
    "2. Parse file into a list of lists, variable named: `file_data`, where every line is a list of words.\n",
    "3. Iterate through the file_data, and count two separate things:\n",
    "   * Number of lines that contain the word `UNION` in any case\n",
    "   * Number of instances of the word of `UNION` in any case\n",
    "\n",
    "**Hints:** Check the [File Input and Output](../resources/FilesIO.ipynb) reference notebook for more syntax and help.\n",
    "To read the file, we will be using the `with` control statment as described in Lesson M2-L1 on [Flow Control](../../Module2/labs/M2-L1-ControlStructures.ipynb#The-with-control-statement), as reviewed below.\n",
    "\n",
    "```python\n",
    "with open('test.file', 'r') as fh:  # here `test.file` can be replaced with any filepath \n",
    "                                    # & fh is a file handle object; you can give any names\n",
    "    lines = fh.readlines()\n",
    "\n",
    "for line in lines:\n",
    "    print(line)\n",
    "```\n",
    "\n",
    "Also in [Strings and Dictionaries](../../Module1/labs/M1-L3-DS-Strings-Dictionaries.ipynb) we had learned the string method `.split` and in [Strings and Data Structures](../../Module1/practices/M1-P2-Data-Structures.ipynb) we used it on a string input with a `:` colon delimiter. This time we are splitting in between words, so we split on a space `' '`."
   ]
  },
  {
   "cell_type": "code",
   "execution_count": null,
   "metadata": {},
   "outputs": [],
   "source": [
    "# Open file and parse into file_data in this cell\n",
    "# ---------------------------------\n",
    "\n",
    "# hint, file_data starts as an empty list. It is our container for keeping the file contents.\n",
    "file_data = []\n",
    "\n",
    "#hint, each item/cell in this list will contain a list of words we can do this by splitting each line \n",
    "# and adding the result to the list\n",
    "with open('/dsa/data/all_datasets/hamilton-federalist-548.txt', 'r') as fh:\n",
    "    lines = fh.readlines()\n"
   ]
  },
  {
   "cell_type": "code",
   "execution_count": null,
   "metadata": {},
   "outputs": [],
   "source": [
    "# Examine lines to figure what to do with it\n",
    "print(type(lines))  # what is the type of data returned by readlines()?\n",
    "print(lines[:10])  # print the first 10 lines to get an idea\n",
    "print(\"-\" * 100)\n",
    "\n",
    "# We can loop over each line by \n",
    "with open('/dsa/data/all_datasets/hamilton-federalist-548.txt', 'r') as fh:\n",
    "    for line in fh:\n",
    "        print(line)"
   ]
  },
  {
   "cell_type": "markdown",
   "metadata": {},
   "source": [
    "**Your Turn**: See the comments below in the following cells. Write necessary code to accomplish tasks. Feel free to add more cells for inreased readability. "
   ]
  },
  {
   "cell_type": "code",
   "execution_count": null,
   "metadata": {},
   "outputs": [],
   "source": [
    "# Task: Loop over lines and store the words as a list in file_data\n",
    "\n",
    "# hint, file_data starts as an empty list. It is our container for keeping the file contents.\n",
    "file_data = []\n",
    "\n",
    "# Algorithm\n",
    "# Step 1: open the federalist file again as shown above examples\n",
    "# Step 2: loop over the lines\n",
    "# We want to split on the ' ' or space so we can divide the them into an array of words\n",
    "\n",
    "# ------------ Add your code below --------------\n",
    "\n",
    "\n",
    "\n",
    "# ------------ =================== --------------\n",
    "\n",
    "print(file_data[12])\n"
   ]
  },
  {
   "cell_type": "code",
   "execution_count": null,
   "metadata": {},
   "outputs": [],
   "source": [
    "# Test a method for detecting union\n",
    "'UNION,' in file_data[12]        # Note the comma.  Just \"union\" without a comma will give False."
   ]
  },
  {
   "cell_type": "markdown",
   "metadata": {},
   "source": [
    "The above exercise was done for a sanity check: we can loop over the lines of a file, split the lines into words, and check whether a particular word (in the above case, `UNION,`) is present in a particular line (in the above case, 12). Now, can we build upon the above code to accomplish the following tasks?\n",
    "\n",
    "* Loop through the line and split the line into word\n",
    "* Check whether the word `union` is occurred or not in a line (notice the word is in lower case)\n",
    "    * if there is a match, then count that line as one where this word has occurred\n",
    "    * Also the number of times a word has occurred"
   ]
  },
  {
   "cell_type": "code",
   "execution_count": null,
   "metadata": {},
   "outputs": [],
   "source": [
    "# Iterate through file data and \n",
    "# compute your counts in this cell\n",
    "# ---------------------------------\n",
    "\n",
    "target_word = 'union'\n",
    "\n",
    "line_count = 0  # counter for num of lines in which the target word occurred in the entire document\n",
    "word_count = 0  # counter for num of times the target word occurred in the entire document\n",
    "\n",
    "for line in file_data:\n",
    "    \n",
    "    this_line_count = 0  # contains the number of times the target word occurred in the current line\n",
    "    \n",
    "    # ------------ Add your code below --------------\n",
    "    \n",
    "    # Loop through the array of words in this 'line'\n",
    "    \n",
    "    # check if this word is contains 'union'\n",
    "    \n",
    "    # if it's a match this_line_count++\n",
    "        \n",
    "    \n",
    "    # at the end of the loop add this_line_count to word_count\n",
    "        \n",
    "    \n",
    "    #if this_line_count isn't 0, line_count would increment by one    \n",
    "\n",
    "    # ------------ =================== --------------\n",
    "\n",
    "    \n",
    "# end for\n",
    "\n",
    "print(f'#Lines: {line_count}; Words: {word_count}')\n"
   ]
  },
  {
   "cell_type": "markdown",
   "metadata": {},
   "source": [
    "# Approximate Answers \n",
    "\n",
    "Your answers will vary based on your implementation and any extra steps taken.  The goal is the construction of the code and understanding of the file processing mechanics. Please do not stress over the finer points of case-insensitivity and punctuation at this point in time. You can revisit this later if you decide to tackle those challenges.\n",
    "\n",
    "#### Using terminal\n",
    "\n",
    "```bash\n",
    "# Lines with any case spelling of UNION\n",
    "$ grep -i union /dsa/data/all_datasets/hamilton-federalist-548.txt | wc -l\n",
    "389\n",
    "\n",
    "# Instances any case spelling of UNION\n",
    "$ grep -i union /dsa/data/all_datasets/hamilton-federalist-548.txt  | sed -e 's/ /\\n/g' |grep -i union | wc -l \n",
    "392\n",
    "```"
   ]
  },
  {
   "cell_type": "markdown",
   "metadata": {},
   "source": [
    "# SAVE YOUR NOTEBOOK"
   ]
  }
 ],
 "metadata": {
  "kernelspec": {
   "display_name": "Python 3",
   "language": "python",
   "name": "python3"
  },
  "language_info": {
   "codemirror_mode": {
    "name": "ipython",
    "version": 3
   },
   "file_extension": ".py",
   "mimetype": "text/x-python",
   "name": "python",
   "nbconvert_exporter": "python",
   "pygments_lexer": "ipython3",
   "version": "3.7.3"
  }
 },
 "nbformat": 4,
 "nbformat_minor": 1
}
