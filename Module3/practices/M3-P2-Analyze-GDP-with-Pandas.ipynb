{
 "cells": [
  {
   "cell_type": "markdown",
   "metadata": {},
   "source": [
    "# Goal of this practice\n",
    "\n",
    "In this practice, we will learn several pandas DataFrame operations for transforming data. We will use data from the World Bank that gives yearly GDP per country since 1960. We can formulate various tasks with this data. Right now we will foucus on inspecting and getting basic stats from this data."
   ]
  },
  {
   "cell_type": "markdown",
   "metadata": {},
   "source": [
    "# Import pandas"
   ]
  },
  {
   "cell_type": "code",
   "execution_count": null,
   "metadata": {},
   "outputs": [],
   "source": [
    "import pandas as pd\n",
    "\n",
    "data_path = \"../resources/gdp.csv\"\n"
   ]
  },
  {
   "cell_type": "markdown",
   "metadata": {},
   "source": [
    "# Load the data\n",
    "\n",
    "Before loading any data file, we should open the file in a simple text editor if the file is small. If the file is large, we can use `head` or `less` functions in a **terminal** to read the first few lines. This will give us an idea whether we need to skip some rows in order to load the data. E.g., the following code will throw an error as the data is not in expected format.\n"
   ]
  },
  {
   "cell_type": "code",
   "execution_count": null,
   "metadata": {},
   "outputs": [],
   "source": [
    "gdp_df = pd.read_csv(data_path)"
   ]
  },
  {
   "cell_type": "markdown",
   "metadata": {},
   "source": [
    "Let's open the terminal and change to `Module3/resources`. If we execture `head -n 5 gdp.csv` (i.e read the first 5 lines) we will see that the first 4 lines are meta data and we need to skip these rows. "
   ]
  },
  {
   "cell_type": "code",
   "execution_count": null,
   "metadata": {},
   "outputs": [],
   "source": [
    "gdp_df = pd.read_csv(data_path, skiprows=4)"
   ]
  },
  {
   "cell_type": "markdown",
   "metadata": {},
   "source": [
    "## Inspect the data frame"
   ]
  },
  {
   "cell_type": "code",
   "execution_count": null,
   "metadata": {},
   "outputs": [],
   "source": [
    "# write your code here\n",
    "\n",
    "# Task: print firt two rows of data\n",
    "\n",
    "# Task: What is shape the of the data?\n",
    "\n",
    "# Task: print the column names\n",
    "\n",
    "# Task: show the data types\n"
   ]
  },
  {
   "cell_type": "markdown",
   "metadata": {},
   "source": [
    "# Remove unnecessary columns"
   ]
  },
  {
   "cell_type": "code",
   "execution_count": null,
   "metadata": {},
   "outputs": [],
   "source": [
    "# TODO: drop 'Country Code', 'Indicator Name', 'Indicator Code' columns with drop function\n",
    "gdp_transpose = gdp_df.drop(<write your code>)"
   ]
  },
  {
   "cell_type": "markdown",
   "metadata": {},
   "source": [
    "## Get country wise stats\n",
    "\n",
    "Pandas `describe` method operated over columns. Right now country data is row-wise. We need to make them column-wise."
   ]
  },
  {
   "cell_type": "code",
   "execution_count": null,
   "metadata": {},
   "outputs": [],
   "source": [
    "# Set the Index on Country Name - previously was numeric.\n",
    "gdp_transpose = gdp_df.set_index('Country Name')\n",
    "\n",
    "# TODO: Transpose the index (i.e. country) and columns (year)\n"
   ]
  },
  {
   "cell_type": "code",
   "execution_count": null,
   "metadata": {},
   "outputs": [],
   "source": [
    "# apply the describe function\n",
    "gdp_transpose.describe()"
   ]
  },
  {
   "cell_type": "markdown",
   "metadata": {},
   "source": [
    "## Repeat the above exercise. This time only focus on the last 10 years of data. \n"
   ]
  },
  {
   "cell_type": "code",
   "execution_count": null,
   "metadata": {},
   "outputs": [],
   "source": []
  },
  {
   "cell_type": "markdown",
   "metadata": {},
   "source": [
    "## Extract the following information from this data"
   ]
  },
  {
   "cell_type": "code",
   "execution_count": null,
   "metadata": {},
   "outputs": [],
   "source": [
    "# Task: which country has the maximum GDP in 2011?\n",
    "\n",
    "# Task: get the avg GDP of France from the year 2001 to 2010\n",
    "\n",
    "# Task: show country-wise pecent change in GDP with `pct_change()` function \n"
   ]
  }
 ],
 "metadata": {
  "kernelspec": {
   "display_name": "Python 3",
   "language": "python",
   "name": "python3"
  },
  "language_info": {
   "codemirror_mode": {
    "name": "ipython",
    "version": 3
   },
   "file_extension": ".py",
   "mimetype": "text/x-python",
   "name": "python",
   "nbconvert_exporter": "python",
   "pygments_lexer": "ipython3",
   "version": "3.7.3"
  }
 },
 "nbformat": 4,
 "nbformat_minor": 2
}
