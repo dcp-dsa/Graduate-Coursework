{
 "cells": [
  {
   "cell_type": "markdown",
   "metadata": {
    "collapsed": true
   },
   "source": [
    "# Practice with Beautiful Soup and ETL"
   ]
  },
  {
   "cell_type": "markdown",
   "metadata": {
    "collapsed": true
   },
   "source": [
    "Construct a series of cells that will pull this URL and ingest it into SQLite3 database\n",
    "\n",
    "https://factfinder.census.gov/bkmk/table/1.0/en/GEP/2014/00A4/0100000US\n",
    "\n",
    "Because the table is loaded via scripts, you'll want to use the following for parsing:\n",
    "https://indigo.sgn.missouri.edu/static/mirror_sites/factfinder.census.gov/bkmk/table/1.0/en/GEP/2014/00A4/0100000US\n",
    "\n",
    "\n",
    "![Census Data](../images/census_data_look.png)\n"
   ]
  },
  {
   "cell_type": "markdown",
   "metadata": {
    "collapsed": true
   },
   "source": [
    "### Data table element\n",
    "```\n",
    "<table id=\"data\" class=\"stat-tbl\">\n",
    "```\n",
    "\n",
    "**Please organize your code in the cells below.** "
   ]
  },
  {
   "cell_type": "code",
   "execution_count": null,
   "metadata": {
    "collapsed": true
   },
   "outputs": [],
   "source": [
    "# Import libraries \n",
    "\n",
    "\n",
    "# Pull the HTML link into a local file or buffer\n",
    "#   and then parse with the BeautifulSoup library\n",
    "# ------------------------------------------------\n",
    "\n",
    "\n",
    "\n",
    "\n",
    "\n",
    "\n"
   ]
  },
  {
   "cell_type": "code",
   "execution_count": null,
   "metadata": {
    "collapsed": true
   },
   "outputs": [],
   "source": [
    "# Convert the data into a list of dictionaries\n",
    "#   or some other structure you can convert into\n",
    "#   pandas Data Frame\n",
    "# ------------------------------------------------\n",
    "\n",
    "\n"
   ]
  },
  {
   "cell_type": "code",
   "execution_count": null,
   "metadata": {
    "collapsed": true
   },
   "outputs": [],
   "source": [
    "# Save data into two formats: csv and json\n",
    "# ------------------------------------------------\n",
    "\n",
    "\n",
    "\n",
    "\n",
    "\n",
    "\n"
   ]
  },
  {
   "cell_type": "markdown",
   "metadata": {},
   "source": [
    "# Save your notebook, then `File > Close and Halt`"
   ]
  }
 ],
 "metadata": {
  "kernelspec": {
   "display_name": "Python 3",
   "language": "python",
   "name": "python3"
  },
  "language_info": {
   "codemirror_mode": {
    "name": "ipython",
    "version": 3
   },
   "file_extension": ".py",
   "mimetype": "text/x-python",
   "name": "python",
   "nbconvert_exporter": "python",
   "pygments_lexer": "ipython3",
   "version": "3.7.3"
  }
 },
 "nbformat": 4,
 "nbformat_minor": 1
}
