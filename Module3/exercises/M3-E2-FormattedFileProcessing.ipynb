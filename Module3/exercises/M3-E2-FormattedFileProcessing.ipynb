{
 "cells": [
  {
   "cell_type": "markdown",
   "metadata": {},
   "source": [
    "# A Search Tool for Data Files\n",
    "\n",
    "Build a function that can search through a Panda data frame for specific values, optionally limiting the search to a particular column by name.  By default, the function will search the entire data frame, i.e., all columns.\n",
    "\n",
    "### Data File: \n",
    "\n",
    "**'/dsa/data/all_datasets/inc5000_2016.json'**\n",
    "\n",
    "### Algorithm\n",
    "\n",
    "1. Read the file into a Panda data frame\n",
    "3. Develop Python code that can search the data frame for the first occurrence value 'Prime Time Healthcare'\n",
    "  1. Print out the position: line number and column name.\n",
    "\n",
    "---\n",
    "\n",
    "* After you have developed the code, modularize your search code into a function that takes the following arguments\n",
    "  1. Panda data frame\n",
    "  2. Search term"
   ]
  },
  {
   "cell_type": "code",
   "execution_count": null,
   "metadata": {},
   "outputs": [],
   "source": []
  },
  {
   "cell_type": "code",
   "execution_count": null,
   "metadata": {
    "collapsed": true
   },
   "outputs": [],
   "source": [
    "# Import any libraries in this cell\n",
    "# Read the file using Pandas\n",
    "# ---------------------------------\n",
    "\n",
    "\n",
    "\n",
    "\n"
   ]
  },
  {
   "cell_type": "code",
   "execution_count": null,
   "metadata": {
    "collapsed": true
   },
   "outputs": [],
   "source": [
    "# Develop code to search the data \n",
    "#  frame for the value: 'Prime Time Healthcare'\n",
    "# ---------------------------------\n",
    "\n",
    "\n"
   ]
  },
  {
   "cell_type": "code",
   "execution_count": null,
   "metadata": {
    "collapsed": true
   },
   "outputs": [],
   "source": [
    "# Copy the code from the cell above!\n",
    "# Change the code to search the data \n",
    "#  frame for the value: 'Zurixx'\n",
    "# ---------------------------------\n",
    "\n",
    "\n",
    "\n",
    "\n"
   ]
  },
  {
   "cell_type": "code",
   "execution_count": null,
   "metadata": {
    "collapsed": true
   },
   "outputs": [],
   "source": [
    "# Copy the code from the cell above!\n",
    "#  Compare the two code cells above\n",
    "# Use a variable for the difference,\n",
    "#  then wrap the code into a function\n",
    "#  definition.\n",
    "# ---------------------------------\n",
    "\n",
    "# hint, def search_df( ??? )\n",
    "\n",
    "\n"
   ]
  },
  {
   "cell_type": "code",
   "execution_count": null,
   "metadata": {
    "collapsed": true
   },
   "outputs": [],
   "source": [
    "# Copy the code from the cell above!\n",
    "# Change the function to use a third\n",
    "# parameter to determine the search \n",
    "# column\n",
    "# --------------------------------\n",
    "\n",
    "\n",
    "\n",
    "\n",
    "\n",
    "\n"
   ]
  },
  {
   "cell_type": "code",
   "execution_count": null,
   "metadata": {
    "collapsed": true
   },
   "outputs": [],
   "source": [
    "# Search for the following terms\n",
    "#    AppLovin\n",
    "#    Nutanix\n",
    "#    TickPick\n",
    "# --------------------------------\n",
    "\n",
    "\n",
    "\n"
   ]
  },
  {
   "cell_type": "markdown",
   "metadata": {},
   "source": [
    "# Save your notebook"
   ]
  }
 ],
 "metadata": {
  "kernelspec": {
   "display_name": "Python 3",
   "language": "python",
   "name": "python3"
  },
  "language_info": {
   "codemirror_mode": {
    "name": "ipython",
    "version": 3
   },
   "file_extension": ".py",
   "mimetype": "text/x-python",
   "name": "python",
   "nbconvert_exporter": "python",
   "pygments_lexer": "ipython3",
   "version": "3.7.3"
  }
 },
 "nbformat": 4,
 "nbformat_minor": 1
}
