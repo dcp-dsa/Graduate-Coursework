{
 "cells": [
  {
   "cell_type": "markdown",
   "metadata": {},
   "source": [
    "# Module One: Introduction to Python and the JupyterHub Learning Environment\n",
    "\n",
    "\n",
    "## Topics covered\n",
    "\n",
    "1. <a href=\"#jupyterhub\">L1: Introduction to the JupyterHub Learning Environment</a>\n",
    "1. <a href=\"#VOOI\">L2: Programming Basics: Variables, Operators, Output, and Input</a>\n",
    "1. <a href=\"#ds\">L3: Data Structures</a>\n",
    "1. <a href=\"#overview\">L4: Programming Overview</a>\n",
    "1. <a href=\"#exercises\">Exercies</a>\n",
    "\n",
    "\n",
    "## Resources used\n",
    "\n",
    "  * JupyterHub : Python, and Terminal environments\n",
    "  * Gitlab : Distributed Code Repository, Development Collaboration\n",
    "  * Free course book: [Think Python](../Resources/thinkpython.pdf) (Right click and download if it doesn't open on the browser)\n",
    "  "
   ]
  },
  {
   "cell_type": "markdown",
   "metadata": {},
   "source": [
    "\n",
    "# Python : A Swiss Army Knife for Data Science\n",
    "\n",
    "Python is a widely used general-purpose, high-level programming language. Python supports multiple programming paradigms, including object-oriented, imperative and functional programming or procedural styles. It features a dynamic type system and automatic memory management and has a large and comprehensive standard library.  Python is an interpreted language, so you can simply write and run: you do not need to compile your code.  Additionally, Python environments have a kernel execution giving you a command prompt to type in Python commands. \n",
    "\n",
    "In this program, we will use Python via the JupyterHub environment. \n",
    "\n",
    "Thanks to the DSA JupyterHub environment, you will not need to worry about software installations or library compatibilities.  We have taken care of that for you!\n",
    "\n",
    "With this boot camp, you can read through the modules and work through a series of Python Notebooks.  There are two sets of notebooks.  One set is from an open source of simple Python lessons. The other set is the end of module learning exercises developed to lead you into data science readiness.\n",
    "\n",
    "<!-- #### Note: There is no grading of these materials.  You have access to the solutions for the labs and the practices. -->\n",
    "\n",
    "The purpose of having both labs, practices, and exercies in the boot camps will help you learn what to expect in regular MU DSA courses."
   ]
  },
  {
   "cell_type": "markdown",
   "metadata": {},
   "source": [
    "<a id='jupyterhub'></a>\n",
    "## Lesson 1: Jupyterhub Computing Framework \n",
    " * Reading: [JupyterHub  System](./resources/JupyterHub_Learning.ipynb)     \n",
    " * Reading: [JupyterHub Usage](./resources/JupyterHub_Usage.ipynb)\n",
    "     * Reading: [Some Hints and Tips on Using Jupyter Hub](./resources/jupyter_tips.ipynb)\n",
    "     * Reading: [Text formatting in Markdown Cells](./https://www.datacamp.com/community/tutorials/markdown-in-jupyter-notebook)\n",
    " * Reading: [Submission of Work](./resources/CommittingWork.ipynb) (This will be helpful when you submit your assignment)\n",
    " * Reading: [FAQ](Day1FAQ.ipynb)\n",
    "\n",
    "<a id='vooi'></a>\n",
    "## Lesson 2: Programming Basics: Variables, Operators, Output, and Input  \n",
    "* Reading : [Think Python](../Resources/thinkpython.pdf) **NOTE:** Do not do the practices in the book, just read.\n",
    "    * Chapter 1: Introduction, Sections 1.3 - 1.8\n",
    "    * Chapter 2: Variables, expressions and statements, Sections 2.1 - 2.3 and 2.5 - 2.8\n",
    "* Labs: \n",
    "    * [Variables and Operators](./labs/M1-L2-Variables-Operators-Output-Input.ipynb)\n",
    "    * [Printing-Detailed](./labs/M1-L2-Print.ipynb) \n",
    "* Practice: \n",
    "    * [Variables, Operators, and Printing](./practices/M1-P1-Variables-Operators-and-Printing.ipynb)"
   ]
  },
  {
   "cell_type": "markdown",
   "metadata": {},
   "source": [
    "<a id='ds'></a>\n",
    "## Lesson 3: Data Structures\n",
    "* Reading : [Think Python](../resources/thinkpython2.pdf) **NOTE:** Do not do practices in the book, just read.\n",
    "    * Chapter 8: Strings, Sections 8.1 - 8.12\n",
    "    * Chapter 10: Lists, Sections 10.1 - 10.14\n",
    "    * Chapter 11: Dictionaries, Sections 11.1 - 11.9\n",
    "* Labs:\n",
    "    * [Data Structures: List, Tuple, and Set](./labs/M1-L3-DS-List-Tuple-Set.ipynb)\n",
    "    * [Data Structures: Strings and Dictionaries](./labs/M1-L3-DS-Strings-Dictionaries.ipynb)\n",
    "        * [Reading : String Formatting](https://indigo.sgn.missouri.edu/static/mirror_sites/pyformat.info/index.html) \n",
    "* Practice:\n",
    "    * [Data Structures](./practices/M1-P2-Data-Structures.ipynb)"
   ]
  },
  {
   "cell_type": "markdown",
   "metadata": {},
   "source": [
    "<a id='overview'></a>\n",
    "## Lesson 4: Programming Overview (Reading Only; No labs or Exercises)\n",
    "\n",
    "* Reading: [Computer Programming Overview](./resources/ComputerProgrammingPreview.ipynb)\n"
   ]
  },
  {
   "cell_type": "markdown",
   "metadata": {},
   "source": [
    "<a id='exercises'></a>\n",
    "## Exercises\n",
    "\n",
    "* [Variables, Operators, and Data Structures](./exercises/M1-E1-Variables-Operators-Data-Structures.ipynb)\n"
   ]
  },
  {
   "cell_type": "markdown",
   "metadata": {},
   "source": [
    "## If you want to try submitting work\n",
    "\n",
    "If you want to try submitting work, you can attempt the steps below.\n",
    "<!--We will go over this in more detail the first couple weeks of the semester in the _Introduction to Data Science and Analytics_ as well.-->\n",
    "\n",
    "Open a Terminal, see the second link for day's activities.\n",
    "\n",
    "  * Review our work  (**Note: substitute course folder name below**)  \n",
    "```\n",
    "cd course_folder_name\n",
    "git status\n",
    "```\n",
    "  * Stage Changes\n",
    "```\n",
    "git add Module1\n",
    "```\n",
    "  * Create a commit (i.e., a save point)\n",
    "```\n",
    "git commit -m \"This is my Module 1 work\"\n",
    "```\n",
    "  * Send these changes to the server for safe keeping (i.e., publish)\n",
    "```\n",
    "git push\n",
    "```\n",
    "  * Confirm our working folder is clean and all work is tracked\n",
    "```\n",
    "git status\n",
    "```\n",
    "  "
   ]
  },
  {
   "cell_type": "markdown",
   "metadata": {},
   "source": [
    "---"
   ]
  }
 ],
 "metadata": {
  "kernelspec": {
   "display_name": "Python 3",
   "language": "python",
   "name": "python3"
  },
  "language_info": {
   "codemirror_mode": {
    "name": "ipython",
    "version": 3
   },
   "file_extension": ".py",
   "mimetype": "text/x-python",
   "name": "python",
   "nbconvert_exporter": "python",
   "pygments_lexer": "ipython3",
   "version": "3.7.3"
  }
 },
 "nbformat": 4,
 "nbformat_minor": 1
}
