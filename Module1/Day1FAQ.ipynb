{
 "cells": [
  {
   "cell_type": "markdown",
   "metadata": {},
   "source": [
    "\n",
    "# Frequently Asked Questions Module 1\n",
    "\n"
   ]
  },
  {
   "cell_type": "markdown",
   "metadata": {},
   "source": [
    "\n",
    "This section pulls questions and answers from past discussion boards and adds them to this document.  \n",
    "\n",
    "If there's a delay in the dicussion board, feel free to check in here to see if it's been answered before.  \n"
   ]
  },
  {
   "cell_type": "markdown",
   "metadata": {},
   "source": [
    "\n",
    "## I've never touched programming before, where is a good place to start?  \n",
    "***\n",
    "If this is your first time programming please look at [this](https://wiki.python.org/moin/BeginnersGuide/NonProgrammers)  \n",
    "If you're an experienced programmer, but first time on Python, please look at [this](https://wiki.python.org/moin/BeginnersGuide/Programmers)  \n"
   ]
  },
  {
   "cell_type": "markdown",
   "metadata": {},
   "source": [
    "\n",
    "## I'm having this issue on my Internet Explorer/Firefox browser...  \n",
    "***\n",
    "These courses have been optimized for Google Chrome.  \n"
   ]
  },
  {
   "cell_type": "markdown",
   "metadata": {},
   "source": [
    "\n",
    "## The Jupyter Notebook became unresponsive. Nothing happens when I try to run a block.  \n",
    "***\n",
    "\n",
    "This issue could be caused by a kernel failure.  \n",
    "Please save the notebook and then use the menu option:  \n",
    "'Kernel' > 'Restart' or 'Kernel' > 'Restart & Clear Output'\n",
    "![alt text](files/images/kernelRestart.png)\n"
   ]
  },
  {
   "cell_type": "markdown",
   "metadata": {},
   "source": [
    "\n",
    "## Should I use white spaces or tabs in Python?  \n",
    "***\n",
    "\n",
    "Either is fine as long as you stick with one. Combining them will cause errors.  \n",
    "Outside of this course, it's best to use spaces. Tabs can be wrongly converted during copy and paste operations or display differently on different systems\n",
    "\n"
   ]
  },
  {
   "cell_type": "markdown",
   "metadata": {},
   "source": [
    "## In the problem 'print(15%10)', what is the % doing?  \n",
    "***\n",
    "The % is the modulo operation. Given two numbers, a % b, would evaluate the remainder of b dividing a.  \n",
    "For example, the earlier example of 15%10, will return 5. This is because the 10 goes into 15 once with a remainder of 5.  \n",
    "The equation 9 % 3 would return 0, as 3 goes into 9 three times without a remainder."
   ]
  },
  {
   "cell_type": "markdown",
   "metadata": {},
   "source": [
    "\n",
    "## Why isn't my while loop or if statement working?  \n",
    "***\n",
    "\n",
    "Programming blocks are denoted by indentation in Python.  \n",
    "Make sure that the inner block is a different indention than the following statement\n"
   ]
  },
  {
   "cell_type": "markdown",
   "metadata": {},
   "source": [
    "\n",
    "The first code will print 1-10 as the inner block is properly indented\n"
   ]
  },
  {
   "cell_type": "code",
   "execution_count": null,
   "metadata": {
    "collapsed": true
   },
   "outputs": [],
   "source": [
    "counter = 0\n",
    "while counter < 10:\n",
    "    counter = counter + 1\n",
    "    print(counter)\n"
   ]
  },
  {
   "cell_type": "markdown",
   "metadata": {},
   "source": [
    "\n",
    "This code will cause an error as Python is expecting indentation but does not find it.\n"
   ]
  },
  {
   "cell_type": "code",
   "execution_count": null,
   "metadata": {
    "collapsed": true
   },
   "outputs": [],
   "source": [
    "counter = 0\n",
    "while counter < 10:\n",
    "counter = counter + 1\n",
    "print(counter)\n"
   ]
  },
  {
   "cell_type": "markdown",
   "metadata": {},
   "source": [
    "## Do you have any suggestions for editors if I want to program outside of Jupyter Notebook?  \n",
    "***\n",
    "Some editors are platform specific so I divided them into operating systems:  \n",
    "#### Cross Platform:  \n",
    "* Atom\n",
    "* Eclipse\n",
    "* PyCharm (Pay or free version)\n",
    "* Visual Studio Code\n",
    "\n",
    "#### Windows:  \n",
    "* Visual Studio IDE\n",
    "* Notepad++\n",
    "\n",
    "#### Macintosh:  \n",
    "* Xcode\n",
    "* MacPython IDE\n",
    "\n",
    "#### Linux:  \n",
    "* Beaver\n",
    "\n",
    "Keep in mind this just a suggested list. There are a ton of resources out there so be sure to choose what you're most comfortable with.  \n",
    "Also, there may be difficulty in setting up all of the supportive libraries we use in this class."
   ]
  },
  {
   "cell_type": "markdown",
   "metadata": {},
   "source": [
    "## I don't see the Module 2 folder.  \n",
    "***\n",
    " \n",
    "\n",
    "#### If it is past the correct day and time please try the following:  \n",
    "Inside Jupyter Hub, go to `'New' > 'Terminal'`  \n",
    "Issue the command: `cd sp20dsa7002*`  \n",
    "and then issue the command: `git pull --no-edit upstream master`  \n"
   ]
  }
 ],
 "metadata": {
  "kernelspec": {
   "display_name": "Python 3",
   "language": "python",
   "name": "python3"
  },
  "language_info": {
   "codemirror_mode": {
    "name": "ipython",
    "version": 3
   },
   "file_extension": ".py",
   "mimetype": "text/x-python",
   "name": "python",
   "nbconvert_exporter": "python",
   "pygments_lexer": "ipython3",
   "version": "3.7.3"
  }
 },
 "nbformat": 4,
 "nbformat_minor": 1
}
