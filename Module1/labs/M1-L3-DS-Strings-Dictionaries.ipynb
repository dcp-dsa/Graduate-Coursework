{
 "cells": [
  {
   "cell_type": "markdown",
   "metadata": {},
   "source": [
    "# Data Structures: Strings and Dictionaries\n",
    "This Notebook is derived from the [Python Lecture Series](https://github.com/rajathkumarmp/Python-Lectures)  \n",
    "\n",
    "## Table of Contents\n",
    "* [Strings](#Strings)\n",
    "    * [String Built-in Functions](#String-Built-in-Functions)\n",
    "* [Dictionaries](#Dictionaries)\n",
    "    * [Dictionary Built-in Functions](#Dictionary-Built-in-Functions)\n"
   ]
  },
  {
   "cell_type": "markdown",
   "metadata": {},
   "source": [
    "## Strings\n",
    "<div style=\"text-align:right\"><a href=\"#Table-of-Contents\">[toc]</a></div>\n",
    "Strings are ordered, text-based data that are represented by enclosing the text in single, double, or triple quotes."
   ]
  },
  {
   "cell_type": "code",
   "execution_count": 1,
   "metadata": {},
   "outputs": [],
   "source": [
    "String0 = 'The St. Louis Cardinals are terrific'\n",
    "String1 = \"The St. Louis Cardinals are terrific\"\n",
    "String2 = '''The St. Louis Cardinals\n",
    "are\n",
    "terrific'''"
   ]
  },
  {
   "cell_type": "code",
   "execution_count": 2,
   "metadata": {},
   "outputs": [
    {
     "name": "stdout",
     "output_type": "stream",
     "text": [
      "<class 'str'>\n",
      "The St. Louis Cardinals are terrific\n",
      "<class 'str'>\n",
      "The St. Louis Cardinals are terrific\n",
      "<class 'str'>\n",
      "The St. Louis Cardinals\n",
      "are\n",
      "terrific\n"
     ]
    }
   ],
   "source": [
    "print(type(String0))\n",
    "print(String0)\n",
    "print(type(String1))\n",
    "print(String1)\n",
    "print(type(String2))\n",
    "print(String2)"
   ]
  },
  {
   "cell_type": "markdown",
   "metadata": {},
   "source": [
    "String indexing and string slicing are similar to indexing and slicing for lists which were explained in detail earlier."
   ]
  },
  {
   "cell_type": "code",
   "execution_count": 3,
   "metadata": {},
   "outputs": [
    {
     "name": "stdout",
     "output_type": "stream",
     "text": [
      "The St. Louis Cardinals are terrific\n",
      "T\n",
      "S\n",
      "St. Louis Cardinals are terrific\n"
     ]
    }
   ],
   "source": [
    "print(String0)\n",
    "print(String0[0])\n",
    "print(String0[4])\n",
    "print(String0[4:])"
   ]
  },
  {
   "cell_type": "markdown",
   "metadata": {},
   "source": [
    "### String Built-in Functions\n",
    "<div style=\"text-align:right\"><a href=\"#Table-of-Contents\">[toc]</a></div>"
   ]
  },
  {
   "cell_type": "markdown",
   "metadata": {},
   "source": [
    "The **find( )** function returns the index value of the given data that is found in the string. If the data is not found it returns **-1**. Do not confuse the returned **-1** with a reverse indexing value."
   ]
  },
  {
   "cell_type": "code",
   "execution_count": 4,
   "metadata": {},
   "outputs": [
    {
     "name": "stdout",
     "output_type": "stream",
     "text": [
      "The St. Louis Cardinals are terrific\n",
      "4\n",
      "24\n",
      "-1\n"
     ]
    }
   ],
   "source": [
    "print(String0)\n",
    "print(String0.find('St'))\n",
    "print(String0.find('are'))\n",
    "print(String0.find('terrible'))"
   ]
  },
  {
   "cell_type": "markdown",
   "metadata": {},
   "source": [
    "The index value returned is the index of the **first occurrence of the element** in the input data."
   ]
  },
  {
   "cell_type": "code",
   "execution_count": 5,
   "metadata": {},
   "outputs": [
    {
     "name": "stdout",
     "output_type": "stream",
     "text": [
      "5\n"
     ]
    }
   ],
   "source": [
    "print(String0.find('t'))"
   ]
  },
  {
   "cell_type": "markdown",
   "metadata": {},
   "source": [
    "One can also tell the **find( )** function how to search between index values."
   ]
  },
  {
   "cell_type": "code",
   "execution_count": 6,
   "metadata": {},
   "outputs": [
    {
     "name": "stdout",
     "output_type": "stream",
     "text": [
      "The St. Louis Cardinals are terrific\n",
      "4\n",
      "-1\n",
      "14\n"
     ]
    }
   ],
   "source": [
    "print(String0)\n",
    "print(String0.find('S',1,5))\n",
    "print(String0.find('S',5,))\n",
    "print(String0.find('C',10,))"
   ]
  },
  {
   "cell_type": "markdown",
   "metadata": {},
   "source": [
    "**capitalize( )** is used to capitalize the **first** element in a string."
   ]
  },
  {
   "cell_type": "code",
   "execution_count": 7,
   "metadata": {},
   "outputs": [
    {
     "name": "stdout",
     "output_type": "stream",
     "text": [
      "Observe the first letter in this sentence.\n"
     ]
    }
   ],
   "source": [
    "String3 = 'observe the first letter in this sentence.'\n",
    "print(String3.capitalize())"
   ]
  },
  {
   "cell_type": "markdown",
   "metadata": {},
   "source": [
    "**center( )** is used to center align a string by specifying a field width."
   ]
  },
  {
   "cell_type": "code",
   "execution_count": 8,
   "metadata": {},
   "outputs": [
    {
     "data": {
      "text/plain": [
       "'                 The St. Louis Cardinals are terrific                 '"
      ]
     },
     "execution_count": 8,
     "metadata": {},
     "output_type": "execute_result"
    }
   ],
   "source": [
    "String0.center(70)"
   ]
  },
  {
   "cell_type": "markdown",
   "metadata": {},
   "source": [
    "One can also fill the spaces used to center the string with any other character."
   ]
  },
  {
   "cell_type": "code",
   "execution_count": 9,
   "metadata": {},
   "outputs": [
    {
     "data": {
      "text/plain": [
       "'-----------------The St. Louis Cardinals are terrific-----------------'"
      ]
     },
     "execution_count": 9,
     "metadata": {},
     "output_type": "execute_result"
    }
   ],
   "source": [
    "String0.center(70,'-')\n"
   ]
  },
  {
   "cell_type": "markdown",
   "metadata": {},
   "source": [
    "**zfill( )** is used for prepending zeros to the string by specifying the field width."
   ]
  },
  {
   "cell_type": "code",
   "execution_count": 10,
   "metadata": {},
   "outputs": [
    {
     "data": {
      "text/plain": [
       "'00000000000000The St. Louis Cardinals are terrific'"
      ]
     },
     "execution_count": 10,
     "metadata": {},
     "output_type": "execute_result"
    }
   ],
   "source": [
    "String0.zfill(50)"
   ]
  },
  {
   "cell_type": "markdown",
   "metadata": {},
   "source": [
    "**expandtabs( )** allows you to change the spacing of the tab character '\\t', which is by default set to 8 spaces."
   ]
  },
  {
   "cell_type": "code",
   "execution_count": 13,
   "metadata": {},
   "outputs": [
    {
     "name": "stdout",
     "output_type": "stream",
     "text": [
      "h\te\tl\tl\to\n",
      "h e l l o\n",
      "h       e       l       l       o\n",
      "hello\n"
     ]
    }
   ],
   "source": [
    "s = 'h\\te\\tl\\tl\\to'\n",
    "print(s)\n",
    "print(s.expandtabs(1))\n",
    "print(s.expandtabs())\n",
    "print(s.expandtabs(0))"
   ]
  },
  {
   "cell_type": "markdown",
   "metadata": {
    "collapsed": true
   },
   "source": [
    "**index( )** works in a similar way as the **find( )** function, but an important difference is **find( )** returns '-1' when the input element is not found in the string while the **index( )** function throws a ValueError."
   ]
  },
  {
   "cell_type": "code",
   "execution_count": 14,
   "metadata": {},
   "outputs": [
    {
     "name": "stdout",
     "output_type": "stream",
     "text": [
      "The St. Louis Cardinals are terrific\n",
      "8\n",
      "14\n",
      "8\n"
     ]
    },
    {
     "ename": "ValueError",
     "evalue": "substring not found",
     "output_type": "error",
     "traceback": [
      "\u001b[0;31m---------------------------------------------------------------------------\u001b[0m",
      "\u001b[0;31mValueError\u001b[0m                                Traceback (most recent call last)",
      "\u001b[0;32m<ipython-input-14-2e92d030ba57>\u001b[0m in \u001b[0;36m<module>\u001b[0;34m\u001b[0m\n\u001b[1;32m      5\u001b[0m \u001b[0;34m\u001b[0m\u001b[0m\n\u001b[1;32m      6\u001b[0m \u001b[0;31m# This line expected to error:  Why ?\u001b[0m\u001b[0;34m\u001b[0m\u001b[0;34m\u001b[0m\u001b[0;34m\u001b[0m\u001b[0m\n\u001b[0;32m----> 7\u001b[0;31m \u001b[0mprint\u001b[0m\u001b[0;34m(\u001b[0m\u001b[0mString0\u001b[0m\u001b[0;34m.\u001b[0m\u001b[0mindex\u001b[0m\u001b[0;34m(\u001b[0m\u001b[0;34m'Louis'\u001b[0m\u001b[0;34m,\u001b[0m\u001b[0;36m20\u001b[0m\u001b[0;34m,\u001b[0m\u001b[0;36m40\u001b[0m\u001b[0;34m)\u001b[0m\u001b[0;34m)\u001b[0m\u001b[0;34m\u001b[0m\u001b[0;34m\u001b[0m\u001b[0m\n\u001b[0m",
      "\u001b[0;31mValueError\u001b[0m: substring not found"
     ]
    }
   ],
   "source": [
    "print(String0)\n",
    "print(String0.index('Louis'))\n",
    "print(String0.index('Card',0))\n",
    "print(String0.index('Louis',2,40))\n",
    "\n",
    "# This line expected to error:  Why ?\n",
    "print(String0.index('Louis',20,40))"
   ]
  },
  {
   "cell_type": "markdown",
   "metadata": {},
   "source": [
    "**endswith( )** is used to check if the given string ends with the particular character which is given as input."
   ]
  },
  {
   "cell_type": "code",
   "execution_count": 15,
   "metadata": {},
   "outputs": [
    {
     "name": "stdout",
     "output_type": "stream",
     "text": [
      "The St. Louis Cardinals are terrific\n",
      "False\n"
     ]
    }
   ],
   "source": [
    "print(String0)\n",
    "print(String0.endswith('z'))"
   ]
  },
  {
   "cell_type": "markdown",
   "metadata": {},
   "source": [
    "The start and stop index values can also be specified."
   ]
  },
  {
   "cell_type": "code",
   "execution_count": 16,
   "metadata": {},
   "outputs": [
    {
     "name": "stdout",
     "output_type": "stream",
     "text": [
      "The St. Louis Cardinals are terrific\n",
      "False\n",
      "True\n",
      "True\n"
     ]
    }
   ],
   "source": [
    "print(String0)\n",
    "print(String0.endswith('t',0))\n",
    "print(String0.endswith('c',0))\n",
    "print(String0.endswith('S',0,5))"
   ]
  },
  {
   "cell_type": "markdown",
   "metadata": {},
   "source": [
    "Note that the stop index value of 5 as used above means that the **index element 4 will be checked** for the character 'S', i.e. the stop index value - 1.\n",
    "\n",
    "**count( )** counts the number of characters in the given string. The start and the stop index can also be specified or left blank. These are implicit arguments which will be explained later when we cover functions."
   ]
  },
  {
   "cell_type": "code",
   "execution_count": 17,
   "metadata": {},
   "outputs": [
    {
     "name": "stdout",
     "output_type": "stream",
     "text": [
      "The St. Louis Cardinals are terrific\n",
      "3\n",
      "1\n",
      "0\n",
      "1\n"
     ]
    }
   ],
   "source": [
    "print(String0)\n",
    "print(String0.count('a',0))\n",
    "print(String0.count('a',10,20))\n",
    "print(String0.count('C',0,5))\n",
    "print(String0.count('C',10,20))"
   ]
  },
  {
   "cell_type": "markdown",
   "metadata": {},
   "source": [
    "**join( )** is used to add a character in between the elements of the input string."
   ]
  },
  {
   "cell_type": "code",
   "execution_count": 18,
   "metadata": {},
   "outputs": [
    {
     "data": {
      "text/plain": [
       "'?a&a%'"
      ]
     },
     "execution_count": 18,
     "metadata": {},
     "output_type": "execute_result"
    }
   ],
   "source": [
    "'a'.join('?&%')"
   ]
  },
  {
   "cell_type": "markdown",
   "metadata": {},
   "source": [
    "'?&%' is the input string and the character 'a' is added in between each element"
   ]
  },
  {
   "cell_type": "markdown",
   "metadata": {},
   "source": [
    "**join( )** can also be used to convert a list into a string."
   ]
  },
  {
   "cell_type": "code",
   "execution_count": 19,
   "metadata": {},
   "outputs": [
    {
     "name": "stdout",
     "output_type": "stream",
     "text": [
      "The St. Louis Cardinals are terrific\n",
      "['T', 'h', 'e', ' ', 'S', 't', '.', ' ', 'L', 'o', 'u', 'i', 's', ' ', 'C', 'a', 'r', 'd', 'i', 'n', 'a', 'l', 's', ' ', 'a', 'r', 'e', ' ', 't', 'e', 'r', 'r', 'i', 'f', 'i', 'c']\n",
      "The St. Louis Cardinals are terrific\n",
      "T h e   S t .   L o u i s   C a r d i n a l s   a r e   t e r r i f i c\n"
     ]
    }
   ],
   "source": [
    "print(String0)\n",
    "a = list(String0)\n",
    "print(a)\n",
    "b = ''.join(a)\n",
    "print(b)\n",
    "b = ' '.join(a)\n",
    "print(b)"
   ]
  },
  {
   "cell_type": "markdown",
   "metadata": {},
   "source": [
    "Before converting the input into a string, the **join( )** function can be used to insert any character in between the list elements."
   ]
  },
  {
   "cell_type": "code",
   "execution_count": 20,
   "metadata": {},
   "outputs": [
    {
     "name": "stdout",
     "output_type": "stream",
     "text": [
      "['T', 'h', 'e', ' ', 'S', 't', '.', ' ', 'L', 'o', 'u', 'i', 's', ' ', 'C', 'a', 'r', 'd', 'i', 'n', 'a', 'l', 's', ' ', 'a', 'r', 'e', ' ', 't', 'e', 'r', 'r', 'i', 'f', 'i', 'c']\n",
      "T/h/e/ /S/t/./ /L/o/u/i/s/ /C/a/r/d/i/n/a/l/s/ /a/r/e/ /t/e/r/r/i/f/i/c\n"
     ]
    }
   ],
   "source": [
    "print(a)\n",
    "c = '/'.join(a)\n",
    "print(c)"
   ]
  },
  {
   "cell_type": "markdown",
   "metadata": {},
   "source": [
    "**split( )** is used to convert a string back to a list. Think of it as the opposite of the **join()** function."
   ]
  },
  {
   "cell_type": "code",
   "execution_count": 21,
   "metadata": {},
   "outputs": [
    {
     "name": "stdout",
     "output_type": "stream",
     "text": [
      "T/h/e/ /S/t/./ /L/o/u/i/s/ /C/a/r/d/i/n/a/l/s/ /a/r/e/ /t/e/r/r/i/f/i/c\n",
      "['T', 'h', 'e', ' ', 'S', 't', '.', ' ', 'L', 'o', 'u', 'i', 's', ' ', 'C', 'a', 'r', 'd', 'i', 'n', 'a', 'l', 's', ' ', 'a', 'r', 'e', ' ', 't', 'e', 'r', 'r', 'i', 'f', 'i', 'c']\n"
     ]
    }
   ],
   "source": [
    "print(c)\n",
    "d = c.split('/')\n",
    "print(d)"
   ]
  },
  {
   "cell_type": "markdown",
   "metadata": {},
   "source": [
    "One can also specify the number of times you want to **split( )** the string or the number of elements that the new returned list should contain. The number of elements is always **one more** than the specified number because it is split the number of times specified."
   ]
  },
  {
   "cell_type": "code",
   "execution_count": 22,
   "metadata": {},
   "outputs": [
    {
     "name": "stdout",
     "output_type": "stream",
     "text": [
      "['T', 'h', 'e', ' /S/t/./ /L/o/u/i/s/ /C/a/r/d/i/n/a/l/s/ /a/r/e/ /t/e/r/r/i/f/i/c']\n",
      "4\n",
      "['T', 'h', 'e', ' ', 'S', 't', '.', ' ', 'L', 'o/u/i/s/ /C/a/r/d/i/n/a/l/s/ /a/r/e/ /t/e/r/r/i/f/i/c']\n",
      "10\n"
     ]
    }
   ],
   "source": [
    "e = c.split('/',3)\n",
    "print(e)\n",
    "print(len(e))\n",
    "e = c.split('/',9)\n",
    "print(e)\n",
    "print(len(e))"
   ]
  },
  {
   "cell_type": "markdown",
   "metadata": {},
   "source": [
    "**lower( )** converts any capital letter in the string to a small letter."
   ]
  },
  {
   "cell_type": "code",
   "execution_count": 23,
   "metadata": {},
   "outputs": [
    {
     "name": "stdout",
     "output_type": "stream",
     "text": [
      "The St. Louis Cardinals are terrific\n",
      "the st. louis cardinals are terrific\n"
     ]
    }
   ],
   "source": [
    "print(String0)\n",
    "print(String0.lower())"
   ]
  },
  {
   "cell_type": "markdown",
   "metadata": {},
   "source": [
    "**upper( )** converts any small letter in the string to a capital letter."
   ]
  },
  {
   "cell_type": "code",
   "execution_count": 24,
   "metadata": {},
   "outputs": [
    {
     "data": {
      "text/plain": [
       "'THE ST. LOUIS CARDINALS ARE TERRIFIC'"
      ]
     },
     "execution_count": 24,
     "metadata": {},
     "output_type": "execute_result"
    }
   ],
   "source": [
    "String0.upper()"
   ]
  },
  {
   "cell_type": "markdown",
   "metadata": {},
   "source": [
    "**replace( )** replaces the element with another element."
   ]
  },
  {
   "cell_type": "code",
   "execution_count": 25,
   "metadata": {},
   "outputs": [
    {
     "data": {
      "text/plain": [
       "'The Kansas City Royals are terrific'"
      ]
     },
     "execution_count": 25,
     "metadata": {},
     "output_type": "execute_result"
    }
   ],
   "source": [
    "String0.replace('St. Louis Cardinals','Kansas City Royals')"
   ]
  },
  {
   "cell_type": "markdown",
   "metadata": {},
   "source": [
    "**strip( )** is used to delete elements from the right and left ends of the string that are not required."
   ]
  },
  {
   "cell_type": "code",
   "execution_count": 26,
   "metadata": {},
   "outputs": [],
   "source": [
    "f = '    hello      '"
   ]
  },
  {
   "cell_type": "markdown",
   "metadata": {},
   "source": [
    "If no character is specified it will delete all spaces that are present in the right and left hand side of the string."
   ]
  },
  {
   "cell_type": "code",
   "execution_count": 27,
   "metadata": {},
   "outputs": [
    {
     "data": {
      "text/plain": [
       "'hello'"
      ]
     },
     "execution_count": 27,
     "metadata": {},
     "output_type": "execute_result"
    }
   ],
   "source": [
    "f.strip()"
   ]
  },
  {
   "cell_type": "markdown",
   "metadata": {},
   "source": [
    "When a character is specified in the **strip( )** function  it deletes that character if it is present in the two ends of the specified string."
   ]
  },
  {
   "cell_type": "code",
   "execution_count": 28,
   "metadata": {},
   "outputs": [],
   "source": [
    "f = '   ***----hello---*******     '"
   ]
  },
  {
   "cell_type": "code",
   "execution_count": 29,
   "metadata": {},
   "outputs": [
    {
     "data": {
      "text/plain": [
       "'   ***----hello---*******     '"
      ]
     },
     "execution_count": 29,
     "metadata": {},
     "output_type": "execute_result"
    }
   ],
   "source": [
    "f.strip('*')"
   ]
  },
  {
   "cell_type": "markdown",
   "metadata": {},
   "source": [
    "In the above code snippet, the intent was to delete the asterisks but they were not. This is because there are spaces in both the right and left hand sides. To remedy this the characters to be stripped should be input in the specific order in which they are present, as shown below."
   ]
  },
  {
   "cell_type": "code",
   "execution_count": 30,
   "metadata": {},
   "outputs": [
    {
     "name": "stdout",
     "output_type": "stream",
     "text": [
      "   ***----hello---*******     \n",
      "***----hello---*******\n",
      "----hello---\n",
      "hello\n"
     ]
    }
   ],
   "source": [
    "print(f)\n",
    "print (f.strip(' '))\n",
    "print (f.strip(' *'))\n",
    "print (f.strip(' *-'))"
   ]
  },
  {
   "cell_type": "markdown",
   "metadata": {},
   "source": [
    "**lstrip( )** and **rstrip( )** functions have the same functionality as the **strip( )** function, but **lstrip( )** deletes only from the left side and **rstrip( )** from the right side of the string."
   ]
  },
  {
   "cell_type": "code",
   "execution_count": 31,
   "metadata": {},
   "outputs": [
    {
     "name": "stdout",
     "output_type": "stream",
     "text": [
      "   ***----hello---*******     \n",
      "----hello---*******     \n",
      "   ***----hello---\n",
      "hello---*******     \n",
      "   ***----hello\n"
     ]
    }
   ],
   "source": [
    "print(f)\n",
    "print(f.lstrip(' *'))\n",
    "print(f.rstrip(' *'))\n",
    "print(f.lstrip(' *-'))\n",
    "print(f.rstrip(' *-'))"
   ]
  },
  {
   "cell_type": "markdown",
   "metadata": {},
   "source": [
    "## Dictionaries\n",
    "<div style=\"text-align:right\"><a href=\"#Table-of-Contents\">[toc]</a></div>"
   ]
  },
  {
   "cell_type": "markdown",
   "metadata": {},
   "source": [
    "Dictionaries are a 'key-value' data store that can be indexed by any immutable class type, e.g. a tuple. Most commonly, strings are used."
   ]
  },
  {
   "cell_type": "markdown",
   "metadata": {},
   "source": [
    "To define a dictionary simply equate a variable to { } or dict()"
   ]
  },
  {
   "cell_type": "code",
   "execution_count": 32,
   "metadata": {},
   "outputs": [
    {
     "name": "stdout",
     "output_type": "stream",
     "text": [
      "<class 'dict'> <class 'dict'>\n"
     ]
    }
   ],
   "source": [
    "d0 = {}\n",
    "d1 = dict()\n",
    "print(type(d0), type(d1))"
   ]
  },
  {
   "cell_type": "markdown",
   "metadata": {},
   "source": [
    "A dictionary works somewhat like a list but with an added capability of assigning its own custom index style."
   ]
  },
  {
   "cell_type": "code",
   "execution_count": 33,
   "metadata": {},
   "outputs": [
    {
     "name": "stdout",
     "output_type": "stream",
     "text": [
      "{'One': 1, 'OneTwo': 12}\n"
     ]
    }
   ],
   "source": [
    "d0['One'] = 1\n",
    "d0['OneTwo'] = 12 \n",
    "print(d0)"
   ]
  },
  {
   "cell_type": "markdown",
   "metadata": {},
   "source": [
    "As shown above, a dictionary is represented as { 'key1' : value1, 'key2' : value2, ...}. Once this dictionary is defined you are able to access the value '1' by the index value 'One'."
   ]
  },
  {
   "cell_type": "code",
   "execution_count": 34,
   "metadata": {},
   "outputs": [
    {
     "name": "stdout",
     "output_type": "stream",
     "text": [
      "1\n"
     ]
    }
   ],
   "source": [
    "print(d0['One'])"
   ]
  },
  {
   "cell_type": "markdown",
   "metadata": {},
   "source": [
    "Two lists that are related can be merged to form a dictionary."
   ]
  },
  {
   "cell_type": "code",
   "execution_count": 35,
   "metadata": {},
   "outputs": [],
   "source": [
    "names = ['One', 'Two', 'Three', 'Four', 'Five']\n",
    "numbers = [1, 2, 3, 4, 5]"
   ]
  },
  {
   "cell_type": "markdown",
   "metadata": {},
   "source": [
    "**zip( )** can be used to combine the two lists from the above code."
   ]
  },
  {
   "cell_type": "code",
   "execution_count": 36,
   "metadata": {},
   "outputs": [
    {
     "name": "stdout",
     "output_type": "stream",
     "text": [
      "<class 'zip'>\n",
      "('One', 1)\n",
      "('Two', 2)\n",
      "('Three', 3)\n",
      "('Four', 4)\n",
      "('Five', 5)\n"
     ]
    }
   ],
   "source": [
    "d2 = zip(names,numbers)\n",
    "print(type(d2))\n",
    "for item in d2:\n",
    "    print (item)"
   ]
  },
  {
   "cell_type": "markdown",
   "metadata": {},
   "source": [
    "The two lists are combined to form a single zip list where each element is associated with its respective element from the other list.  Note that each element in this zip list is a tuple. A tuple is used since the value in a dictionary should not change, i.e. it is immutable."
   ]
  },
  {
   "cell_type": "markdown",
   "metadata": {},
   "source": [
    "### Dictionary Built-in Functions\n",
    "<div style=\"text-align:right\"><a href=\"#Table-of-Contents\">[toc]</a></div>"
   ]
  },
  {
   "cell_type": "markdown",
   "metadata": {},
   "source": [
    "**clear( )** can be used to erase the entire dictionary data store that was created."
   ]
  },
  {
   "cell_type": "code",
   "execution_count": 37,
   "metadata": {},
   "outputs": [
    {
     "name": "stdout",
     "output_type": "stream",
     "text": [
      "{'One': 1, 'Two': 2, 'Three': 3}\n",
      "{}\n"
     ]
    }
   ],
   "source": [
    "a1 = {'One': 1, 'Two': 2, 'Three': 3}\n",
    "print(a1)\n",
    "a1.clear()\n",
    "print(a1)"
   ]
  },
  {
   "cell_type": "markdown",
   "metadata": {},
   "source": [
    "A dictionary can also be built using 'for' loops."
   ]
  },
  {
   "cell_type": "code",
   "execution_count": 38,
   "metadata": {},
   "outputs": [
    {
     "name": "stdout",
     "output_type": "stream",
     "text": [
      "['One', 'Two', 'Three', 'Four', 'Five']\n",
      "[1, 2, 3, 4, 5]\n",
      "5\n",
      "{'One': 1, 'Two': 2, 'Three': 3, 'Four': 4, 'Five': 5}\n"
     ]
    }
   ],
   "source": [
    "print(names)\n",
    "print(numbers)\n",
    "print(len(names))\n",
    "\n",
    "for i in range(len(names)):\n",
    "    a1[names[i]] = numbers[i]\n",
    "print(a1)"
   ]
  },
  {
   "cell_type": "markdown",
   "metadata": {},
   "source": [
    "**values( )** returns a list with all the assigned data values in the Dictionary."
   ]
  },
  {
   "cell_type": "code",
   "execution_count": 39,
   "metadata": {},
   "outputs": [
    {
     "data": {
      "text/plain": [
       "dict_values([1, 2, 3, 4, 5])"
      ]
     },
     "execution_count": 39,
     "metadata": {},
     "output_type": "execute_result"
    }
   ],
   "source": [
    "a1.values()"
   ]
  },
  {
   "cell_type": "markdown",
   "metadata": {},
   "source": [
    "**keys( )** returns all the index values or  'keys' that contain the values they were assigned."
   ]
  },
  {
   "cell_type": "code",
   "execution_count": 40,
   "metadata": {},
   "outputs": [
    {
     "data": {
      "text/plain": [
       "dict_keys(['One', 'Two', 'Three', 'Four', 'Five'])"
      ]
     },
     "execution_count": 40,
     "metadata": {},
     "output_type": "execute_result"
    }
   ],
   "source": [
    "a1.keys()"
   ]
  },
  {
   "cell_type": "markdown",
   "metadata": {},
   "source": [
    "**items( )** returns a list containing a tuple list of each element in the dictionary. This is same result obtained when the zip function was used above."
   ]
  },
  {
   "cell_type": "code",
   "execution_count": 47,
   "metadata": {},
   "outputs": [
    {
     "data": {
      "text/plain": [
       "dict_items([('One', 1), ('Two', 2), ('Four', 4), ('Five', 5)])"
      ]
     },
     "execution_count": 47,
     "metadata": {},
     "output_type": "execute_result"
    }
   ],
   "source": [
    "a1.items()"
   ]
  },
  {
   "cell_type": "markdown",
   "metadata": {},
   "source": [
    "**pop( )** can be used to remove a particular element from the dictionary. The removed dictionary element can be assigned to a new variable, but only the value is stored and **not the key**."
   ]
  },
  {
   "cell_type": "code",
   "execution_count": 48,
   "metadata": {},
   "outputs": [
    {
     "name": "stdout",
     "output_type": "stream",
     "text": [
      "{'One': 1, 'Two': 2, 'Four': 4, 'Five': 5}\n"
     ]
    },
    {
     "ename": "KeyError",
     "evalue": "'Three'",
     "output_type": "error",
     "traceback": [
      "\u001b[0;31m---------------------------------------------------------------------------\u001b[0m",
      "\u001b[0;31mKeyError\u001b[0m                                  Traceback (most recent call last)",
      "\u001b[0;32m<ipython-input-48-3db838453374>\u001b[0m in \u001b[0;36m<module>\u001b[0;34m\u001b[0m\n\u001b[1;32m      1\u001b[0m \u001b[0mprint\u001b[0m\u001b[0;34m(\u001b[0m\u001b[0ma1\u001b[0m\u001b[0;34m)\u001b[0m\u001b[0;34m\u001b[0m\u001b[0;34m\u001b[0m\u001b[0m\n\u001b[0;32m----> 2\u001b[0;31m \u001b[0ma2\u001b[0m \u001b[0;34m=\u001b[0m \u001b[0ma1\u001b[0m\u001b[0;34m.\u001b[0m\u001b[0mpop\u001b[0m\u001b[0;34m(\u001b[0m\u001b[0;34m'Three'\u001b[0m\u001b[0;34m)\u001b[0m\u001b[0;34m\u001b[0m\u001b[0;34m\u001b[0m\u001b[0m\n\u001b[0m\u001b[1;32m      3\u001b[0m \u001b[0mprint\u001b[0m\u001b[0;34m(\u001b[0m\u001b[0ma1\u001b[0m\u001b[0;34m)\u001b[0m\u001b[0;34m\u001b[0m\u001b[0;34m\u001b[0m\u001b[0m\n\u001b[1;32m      4\u001b[0m \u001b[0mprint\u001b[0m\u001b[0;34m(\u001b[0m\u001b[0ma2\u001b[0m\u001b[0;34m)\u001b[0m\u001b[0;34m\u001b[0m\u001b[0;34m\u001b[0m\u001b[0m\n",
      "\u001b[0;31mKeyError\u001b[0m: 'Three'"
     ]
    }
   ],
   "source": [
    "print(a1)\n",
    "a2 = a1.pop('Three')\n",
    "print(a1)\n",
    "print(a2)"
   ]
  },
  {
   "cell_type": "code",
   "execution_count": null,
   "metadata": {},
   "outputs": [],
   "source": []
  },
  {
   "cell_type": "code",
   "execution_count": null,
   "metadata": {},
   "outputs": [],
   "source": []
  }
 ],
 "metadata": {
  "kernelspec": {
   "display_name": "Python 3",
   "language": "python",
   "name": "python3"
  },
  "language_info": {
   "codemirror_mode": {
    "name": "ipython",
    "version": 3
   },
   "file_extension": ".py",
   "mimetype": "text/x-python",
   "name": "python",
   "nbconvert_exporter": "python",
   "pygments_lexer": "ipython3",
   "version": "3.7.3"
  }
 },
 "nbformat": 4,
 "nbformat_minor": 1
}
