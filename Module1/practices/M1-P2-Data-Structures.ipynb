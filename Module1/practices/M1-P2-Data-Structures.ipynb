{
 "cells": [
  {
   "cell_type": "markdown",
   "metadata": {
    "collapsed": true
   },
   "source": [
    "# Strings and Data Structures"
   ]
  },
  {
   "cell_type": "markdown",
   "metadata": {
    "collapsed": true
   },
   "source": [
    "## 1\n",
    "Read a string from the user and, using slices, print the first three and last three characters  \n",
    "\n",
    "Example Output:  \n",
    "Str (at least five characters): Strings and Data Structures  \n",
    "Str  \n",
    "res  "
   ]
  },
  {
   "cell_type": "code",
   "execution_count": null,
   "metadata": {
    "scrolled": false
   },
   "outputs": [],
   "source": [
    "string = input(\"Str (at least five characters): \")\n",
    "# You code between these lines\n",
    "# ----------------------------\n",
    "\n",
    "\n",
    "\n",
    "\n",
    "\n",
    "# ----------------------------\n"
   ]
  },
  {
   "cell_type": "markdown",
   "metadata": {},
   "source": [
    "# 2\n",
    "Read a string and print every other character, once starting with the first character, and once starting with the second character  \n",
    "  \n",
    "Example Output:  \n",
    "Str: Banana  \n",
    "Bnn  \n",
    "aaa  "
   ]
  },
  {
   "cell_type": "code",
   "execution_count": null,
   "metadata": {},
   "outputs": [],
   "source": [
    "string = input(\"Str: \")\n",
    "# You code between these lines\n",
    "# ----------------------------\n",
    "\n",
    "\n",
    "\n",
    "\n",
    "\n",
    "# ----------------------------\n"
   ]
  },
  {
   "cell_type": "markdown",
   "metadata": {
    "collapsed": true
   },
   "source": [
    "## 3\n",
    "Read four numbers from the user into a set and print it when finished:\n",
    "\n",
    "Example Output:  \n",
    "Number: 2  \n",
    "Number: 3  \n",
    "Number: 4  \n",
    "Number: 5  \n",
    "{2, 3, 4, 5}"
   ]
  },
  {
   "cell_type": "code",
   "execution_count": null,
   "metadata": {},
   "outputs": [],
   "source": [
    "numbers = set()\n",
    "\n",
    "# You code between these lines\n",
    "# ----------------------------\n",
    "\n",
    "\n",
    "\n",
    "\n",
    "\n",
    "# ----------------------------\n",
    "print(numbers)"
   ]
  },
  {
   "cell_type": "markdown",
   "metadata": {},
   "source": [
    "## 4\n",
    "\n",
    "Construct two sets, A and B, each containing four numbers. Print their union and their intersection.  \n",
    "Hint: You can use a `for` or `while` loop to loop 4 times to get each number.  The `.add()` method adds a number to a set  \n",
    "\n",
    "Example Output:  \n",
    "A Number: 1  \n",
    "A Number: 2  \n",
    "A Number: 3  \n",
    "A Number: 5  \n",
    "B Number: 2  \n",
    "B Number: 4  \n",
    "B Number: 6  \n",
    "B Number: 8  \n",
    "Union: {1, 2, 3, 4, 5, 6, 8}  \n",
    "Intersection: {2}"
   ]
  },
  {
   "cell_type": "code",
   "execution_count": null,
   "metadata": {},
   "outputs": [],
   "source": [
    "A = set()\n",
    "B = set()\n",
    "\n",
    "# You code between these lines\n",
    "# ----------------------------\n",
    "\n",
    "\n",
    "\n",
    "\n",
    "\n",
    "# ----------------------------\n"
   ]
  },
  {
   "cell_type": "markdown",
   "metadata": {},
   "source": [
    "## 5\n",
    "Create a phonebook entry using a dictionary. Ask the user for their name, city, and phone number. Use the dictionary to map 'name' to their name, 'number' to their phone number, and 'city' to their city. Print the record when finished.  \n",
    "\n",
    "Example Output:  \n",
    "Name: John   \n",
    "Number: 5739999999  \n",
    "City: Columbia  \n",
    "{'city': 'Columbia', 'name': 'John', 'number': '5739999999'}"
   ]
  },
  {
   "cell_type": "code",
   "execution_count": null,
   "metadata": {},
   "outputs": [],
   "source": [
    "entry = {}\n",
    "# You code between these lines\n",
    "# ----------------------------\n",
    "\n",
    "\n",
    "\n",
    "\n",
    "\n",
    "# ----------------------------\n"
   ]
  },
  {
   "cell_type": "markdown",
   "metadata": {},
   "source": [
    "## 6\n",
    "Modify the previous solution to create a record from a **single line** of input, using the delimiter character ':' Read and print one entry.  \n",
    "When you enter input you will literally type \"John:5739999999:Columbia\" or something similar with a ':' between each name, number, and city.\n",
    "\n",
    "Example Output:  \n",
    "name:number:city John:5739999999:Columbia  \n",
    "{'city': 'Columbia', 'name': 'John', 'number': '5739999999'}  "
   ]
  },
  {
   "cell_type": "code",
   "execution_count": null,
   "metadata": {},
   "outputs": [],
   "source": [
    "entry = {}\n",
    "# You code between these lines\n",
    "# ----------------------------\n",
    "\n",
    "\n",
    "\n",
    "\n",
    "\n",
    "# ----------------------------\n"
   ]
  },
  {
   "cell_type": "markdown",
   "metadata": {},
   "source": [
    "## 7\n",
    "Modify the previous code to create a phonebook mapping a name to a number and city. That is, create a dictionary mapping the name to a dictionary containing their city and phone number. **Read three records and print the complete phonebook.**\n",
    "\n",
    "So the name 'John', will be mapped to an entry which will contain only their number and city. \n",
    "For example, if I wanted to map an animal's fur color, breed, and type to a animal's name:  \n",
    "entry = {'fur': 'yellow', 'breed': 'lab','type': 'dog'}  \n",
    "book['Charlie'] = entry\n",
    "\n",
    "Example Output:  \n",
    "name:number:city John:5739999999:Columbia  \n",
    "name:number:city Sydney:5738888888:Columbia  \n",
    "name:number:city Aaron:5737777777:Columbia  \n",
    "{\n",
    "    'Aaron': {'number': '5737777777', 'city': 'Columbia'}, \n",
    "    'Sydney': {'number': '5738888888', 'city': 'Columbia'}, \n",
    "    'John': {'number': '5739999999', 'city': 'Columbia'}\n",
    "}"
   ]
  },
  {
   "cell_type": "code",
   "execution_count": null,
   "metadata": {},
   "outputs": [],
   "source": [
    "book = {}\n",
    "\n",
    "# You code between these lines\n",
    "# ----------------------------\n",
    "\n",
    "def create_an_inner_dict(input_str):\n",
    "    name = ..\n",
    "    city = \n",
    "    num = \n",
    "    \n",
    "    return (name, {\"num\": num, \"city\": city})\n",
    "\n",
    "x = input(..)\n",
    "\n",
    "key, val = create_an_inner_dict(x)\n",
    "\n",
    "outer_dict = {}\n",
    "outer_dict[key] = val\n",
    "\n",
    "\n",
    "# ----------------------------"
   ]
  },
  {
   "cell_type": "markdown",
   "metadata": {},
   "source": [
    "# Save your Notebook"
   ]
  }
 ],
 "metadata": {
  "kernelspec": {
   "display_name": "Python 3",
   "language": "python",
   "name": "python3"
  },
  "language_info": {
   "codemirror_mode": {
    "name": "ipython",
    "version": 3
   },
   "file_extension": ".py",
   "mimetype": "text/x-python",
   "name": "python",
   "nbconvert_exporter": "python",
   "pygments_lexer": "ipython3",
   "version": "3.7.3"
  }
 },
 "nbformat": 4,
 "nbformat_minor": 1
}
