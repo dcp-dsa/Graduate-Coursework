{
 "cells": [
  {
   "cell_type": "markdown",
   "metadata": {
    "collapsed": true
   },
   "source": [
    "# Variables, Operators, and Printing"
   ]
  },
  {
   "cell_type": "markdown",
   "metadata": {},
   "source": [
    "This is designed as a basic practice just to get you comfortable writing some  code segments"
   ]
  },
  {
   "cell_type": "markdown",
   "metadata": {},
   "source": [
    "## 1\n",
    "Experiment with input. Prompt for a name and print a greeting\n",
    "\n",
    "Example Output:  \n",
    "Name: Steve Carell  \n",
    "Hello, Steve Carell"
   ]
  },
  {
   "cell_type": "code",
   "execution_count": 2,
   "metadata": {},
   "outputs": [
    {
     "name": "stdout",
     "output_type": "stream",
     "text": [
      "Name: Dave\n",
      "Hello  Dave !\n"
     ]
    }
   ],
   "source": [
    "name = input(\"Name: \")\n",
    "\n",
    "# Add your code below\n",
    "# -------------------\n",
    "\n",
    "print(\"Hello \", name, \"!\")\n",
    "\n"
   ]
  },
  {
   "cell_type": "markdown",
   "metadata": {},
   "source": [
    "## 2\n",
    "Experiment with printing. Print the greeting three different ways"
   ]
  },
  {
   "cell_type": "code",
   "execution_count": null,
   "metadata": {},
   "outputs": [],
   "source": [
    "name = input(\"Name: \")\n",
    "\n",
    "# Add your code below\n",
    "# -------------------\n",
    "\n"
   ]
  },
  {
   "cell_type": "markdown",
   "metadata": {},
   "source": [
    "## 3\n",
    "\n",
    "Read two numbers, a and b, and print their sum and difference.  \n",
    "**Hint**: The difference is the distance between two numbers or the `abs(x,y)` computes the absolute value.    \n",
    "\n",
    "Example Output:  \n",
    "A: 10  \n",
    "B: 6  \n",
    "Sum: 16    \n",
    "Diff: 4"
   ]
  },
  {
   "cell_type": "code",
   "execution_count": null,
   "metadata": {},
   "outputs": [],
   "source": [
    "a = int(input(\"A: \"))\n",
    "b = int(input(\"B: \"))\n",
    "\n",
    "# Add your code below\n",
    "# -------------------\n",
    "\n",
    "\n"
   ]
  },
  {
   "cell_type": "markdown",
   "metadata": {
    "collapsed": true
   },
   "source": [
    "## 4\n",
    "\n",
    "Read two numbers, a and b, and print the min and max of the two.  \n",
    "**Hint**: The function `max(x,y)` computes the maximum of two values. What do you think computes the minimum?  \n",
    "  \n",
    "Example Output:  \n",
    "A: 6  \n",
    "B: 10  \n",
    "Min: 6  \n",
    "Max: 10"
   ]
  },
  {
   "cell_type": "code",
   "execution_count": null,
   "metadata": {},
   "outputs": [],
   "source": [
    "a = int(input(\"A: \"))\n",
    "b = int(input(\"B: \"))\n",
    "\n",
    "# Add your code below\n",
    "# -------------------\n",
    "\n",
    "\n"
   ]
  },
  {
   "cell_type": "markdown",
   "metadata": {},
   "source": [
    "## 5\n",
    "Read a name and a birth year, print a greeting and say what year they will turn 100:  \n",
    "  \n",
    "Example Output:  \n",
    "Name: Steve Carell  \n",
    "Year: 1962  \n",
    "Steve Carell is 100 @ 2062"
   ]
  },
  {
   "cell_type": "code",
   "execution_count": null,
   "metadata": {},
   "outputs": [],
   "source": [
    "name = input(\"Name: \")\n",
    "\n",
    "# Add your code below\n",
    "# -------------------\n",
    "\n",
    "\n",
    "\n",
    "\n",
    "\n"
   ]
  },
  {
   "cell_type": "markdown",
   "metadata": {
    "collapsed": true
   },
   "source": [
    "## 6\n",
    "Read a number and print it in binary, octal, and hex  \n",
    "  \n",
    "Example Output:  \n",
    "Number: 23  \n",
    "B: 0b10111  \n",
    "O: 0o27  \n",
    "H: 0x17  "
   ]
  },
  {
   "cell_type": "code",
   "execution_count": null,
   "metadata": {},
   "outputs": [],
   "source": [
    "num = int(input(\"Number: \"))\n",
    "\n",
    "# Add your code below\n",
    "# -------------------\n",
    "\n",
    "\n",
    "\n",
    "\n"
   ]
  },
  {
   "cell_type": "markdown",
   "metadata": {},
   "source": [
    "## 7\n",
    "\n",
    "Read two numbers, a and b, and print the integer quotient and remainder:\n",
    "\n",
    "Example Output:  \n",
    "A: 23  \n",
    "B: 7  \n",
    "Q: 3  \n",
    "R: 2  "
   ]
  },
  {
   "cell_type": "code",
   "execution_count": null,
   "metadata": {},
   "outputs": [],
   "source": [
    "a = int(input(\"A: \"))\n",
    "b = int(input(\"B: \"))\n",
    "\n",
    "# Add your code below\n",
    "# -------------------\n",
    "\n",
    "\n",
    "\n"
   ]
  },
  {
   "cell_type": "markdown",
   "metadata": {
    "collapsed": true
   },
   "source": [
    "# Save your notebook!"
   ]
  }
 ],
 "metadata": {
  "kernelspec": {
   "display_name": "Python 3",
   "language": "python",
   "name": "python3"
  },
  "language_info": {
   "codemirror_mode": {
    "name": "ipython",
    "version": 3
   },
   "file_extension": ".py",
   "mimetype": "text/x-python",
   "name": "python",
   "nbconvert_exporter": "python",
   "pygments_lexer": "ipython3",
   "version": "3.7.3"
  }
 },
 "nbformat": 4,
 "nbformat_minor": 1
}
