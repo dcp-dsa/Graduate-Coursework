{
 "cells": [
  {
   "cell_type": "markdown",
   "metadata": {},
   "source": [
    "# Variables, Operators, and Data Structures"
   ]
  },
  {
   "cell_type": "markdown",
   "metadata": {},
   "source": [
    "**While answering the questions, feel free to add cells if it is required. If you wish to write textual formatted output, then use a `Markdown` cell. You can change the cell type from the drop-down menu above.**"
   ]
  },
  {
   "cell_type": "markdown",
   "metadata": {},
   "source": [
    "**1. Assume that we execute the following assignment statements:**\n",
    "```python\n",
    "width = 17\n",
    "height = 12.0\n",
    "delimiter = '*'\n",
    "```\n",
    "**For each of the following expressions, write codes to store the value of the expression and then print the value and the type of the value.**\n",
    "\n",
    "```python\n",
    "1. width/2\n",
    "2. width/2.0\n",
    "3. height/3\n",
    "4. 1 + 2 * 5\n",
    "5. delimiter * 5\n",
    "```"
   ]
  },
  {
   "cell_type": "code",
   "execution_count": null,
   "metadata": {},
   "outputs": [],
   "source": [
    "# write your code below"
   ]
  },
  {
   "cell_type": "markdown",
   "metadata": {},
   "source": [
    "**2. Consider the following list variable:**\n",
    "\n",
    "```python\n",
    "country_list = ['USA', 'Germany', 'England', 'Germany', 'France', 'Russia', 'USA']\n",
    "```\n",
    "\n",
    "**Perform the following tasks:**\n",
    "* **What is the length of the list?**\n",
    "* **Use a built-in list method to show the number of occurrences for `Germany` and `Japan`**\n",
    "* **Which data structure stores only unique elements? Use that data structure to identify the unique elements in the list.** \n"
   ]
  },
  {
   "cell_type": "code",
   "execution_count": null,
   "metadata": {},
   "outputs": [],
   "source": [
    "# write your code below\n"
   ]
  },
  {
   "cell_type": "markdown",
   "metadata": {},
   "source": [
    "**3. The following code tries to modify the third element of the tuple variable and generates an error.**\n",
    "```python\n",
    "student = ('John', 'Biochem', 30)\n",
    "student[2] = 28\n",
    "```\n",
    "**Output:**\n",
    "```bash\n",
    "---------------------------------------------------------------------------\n",
    "TypeError                                 Traceback (most recent call last)\n",
    "<ipython-input-12-4178f53e2d31> in <module>\n",
    "      1 student = ('John', 'Biochem', 30)\n",
    "----> 2 student[2] = 28\n",
    "\n",
    "TypeError: 'tuple' object does not support item assignment\n",
    "```\n",
    "\n",
    "**Perform the following tasks:**\n",
    "* **Why is this error happening?**\n",
    "* **Modify this student info to any other data structures which allow such updates. When the update is done, transform the updated variable into a tuple variable.**\n",
    "\n"
   ]
  },
  {
   "cell_type": "code",
   "execution_count": 1,
   "metadata": {},
   "outputs": [
    {
     "ename": "TypeError",
     "evalue": "'tuple' object does not support item assignment",
     "output_type": "error",
     "traceback": [
      "\u001b[0;31m---------------------------------------------------------------------------\u001b[0m",
      "\u001b[0;31mTypeError\u001b[0m                                 Traceback (most recent call last)",
      "\u001b[0;32m<ipython-input-1-763e22b25bfb>\u001b[0m in \u001b[0;36m<module>\u001b[0;34m\u001b[0m\n\u001b[1;32m      1\u001b[0m \u001b[0;31m# Write your code below\u001b[0m\u001b[0;34m\u001b[0m\u001b[0;34m\u001b[0m\u001b[0;34m\u001b[0m\u001b[0m\n\u001b[1;32m      2\u001b[0m \u001b[0mstudent\u001b[0m \u001b[0;34m=\u001b[0m \u001b[0;34m(\u001b[0m\u001b[0;34m'John'\u001b[0m\u001b[0;34m,\u001b[0m \u001b[0;34m'Biochem'\u001b[0m\u001b[0;34m,\u001b[0m \u001b[0;36m30\u001b[0m\u001b[0;34m)\u001b[0m\u001b[0;34m\u001b[0m\u001b[0;34m\u001b[0m\u001b[0m\n\u001b[0;32m----> 3\u001b[0;31m \u001b[0mstudent\u001b[0m\u001b[0;34m[\u001b[0m\u001b[0;36m2\u001b[0m\u001b[0;34m]\u001b[0m \u001b[0;34m=\u001b[0m \u001b[0;36m28\u001b[0m\u001b[0;34m\u001b[0m\u001b[0;34m\u001b[0m\u001b[0m\n\u001b[0m",
      "\u001b[0;31mTypeError\u001b[0m: 'tuple' object does not support item assignment"
     ]
    }
   ],
   "source": [
    "# Write your code below\n",
    "student = ('John', 'Biochem', 30)\n",
    "student[2] = 28"
   ]
  },
  {
   "cell_type": "markdown",
   "metadata": {},
   "source": [
    "**4. The following code tries to correct the spelling mistake in the string variable without reassigning the variable with a new value and receives an error.**\n",
    "\n",
    "```python\n",
    "country = \"Canoda\"\n",
    "country[3] = 'a'\n",
    "```\n",
    "**Output:**\n",
    "```\n",
    "---------------------------------------------------------------------------\n",
    "TypeError                                 Traceback (most recent call last)\n",
    "<ipython-input-18-22ec8ecdac8d> in <module>\n",
    "      1 country = \"Canoda\"\n",
    "----> 2 country[3] = 'a'\n",
    "\n",
    "TypeError: 'str' object does not support item assignment\n",
    "\n",
    "```\n",
    "**Perform the following tasks:**\n",
    "* **Why is this error happening?**\n",
    "* **Modify this country variable to any other data structures which allow such updates. When the update is done, transform the updated variable into a string variable.**\n",
    "\n",
    "\n"
   ]
  },
  {
   "cell_type": "code",
   "execution_count": null,
   "metadata": {},
   "outputs": [],
   "source": [
    "# write your code below"
   ]
  },
  {
   "cell_type": "markdown",
   "metadata": {},
   "source": [
    "**5. Suppose we need to store information about about employees in a company. For each eamployee we need to store the following attributes:**\n",
    "\n",
    "* Employee Id (string)\n",
    "* First Name (string)\n",
    "* Last Name (string)\n",
    "* Salary (Float or Integer)\n",
    "\n",
    "**In addition to storing info about an employee, we also wish to lookup of an employee info with the employee id attribute.**\n",
    "\n",
    "**Now, perform the following tasks:**\n",
    "\n",
    "* **Which data structure (aka type) will you use to store such data? Why?**\n",
    "* **Create an empty variable with your choosen data type to store employee information**\n",
    "* **Update the empty variable with information on three employees with randomly choosen values for the attributes**\n",
    "* **Print the updated variable**\n",
    "\n"
   ]
  },
  {
   "cell_type": "code",
   "execution_count": null,
   "metadata": {},
   "outputs": [],
   "source": [
    "# write your code "
   ]
  }
 ],
 "metadata": {
  "kernelspec": {
   "display_name": "Python 3",
   "language": "python",
   "name": "python3"
  },
  "language_info": {
   "codemirror_mode": {
    "name": "ipython",
    "version": 3
   },
   "file_extension": ".py",
   "mimetype": "text/x-python",
   "name": "python",
   "nbconvert_exporter": "python",
   "pygments_lexer": "ipython3",
   "version": "3.7.3"
  }
 },
 "nbformat": 4,
 "nbformat_minor": 2
}
