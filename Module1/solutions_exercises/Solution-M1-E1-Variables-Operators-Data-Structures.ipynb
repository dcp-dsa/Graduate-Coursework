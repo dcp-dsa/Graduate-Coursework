{
 "cells": [
  {
   "cell_type": "markdown",
   "metadata": {},
   "source": [
    "# Variables, Operators, and Data Structures"
   ]
  },
  {
   "cell_type": "markdown",
   "metadata": {},
   "source": [
    "**While answering the questions, feel free to add cells if it is required. If you wish to write textual formatted output, then use a `Markdown` cell. You can change the cell type from the drop-down menu above.**"
   ]
  },
  {
   "cell_type": "markdown",
   "metadata": {},
   "source": [
    "**1. Assume that we execute the following assignment statements:**\n",
    "```python\n",
    "width = 17\n",
    "height = 12.0\n",
    "delimiter = '*'\n",
    "```\n",
    "**For each of the following expressions, write codes to store the value of the expression and then print the value and the type of the value.**\n",
    "\n",
    "```python\n",
    "1. width/2\n",
    "2. width/2.0\n",
    "3. height/3\n",
    "4. 1 + 2 * 5\n",
    "5. delimiter * 5\n",
    "```"
   ]
  },
  {
   "cell_type": "code",
   "execution_count": 4,
   "metadata": {},
   "outputs": [
    {
     "name": "stdout",
     "output_type": "stream",
     "text": [
      "Expression 1 value = 8.5, type = <class 'float'>\n",
      "Expression 2 value = 8.5, type = <class 'float'>\n",
      "Expression 3 value = 4.0, type = <class 'float'>\n",
      "Expression 4 value = 11, type = <class 'int'>\n",
      "Expression 5 value = *****, type = <class 'str'>\n",
      "value: 8.5, type: <class 'float'>\n",
      "value: 8.5, type: <class 'float'>\n",
      "value: 4.0, type: <class 'float'>\n",
      "value: 11, type: <class 'int'>\n",
      "value: *****, type: <class 'str'>\n"
     ]
    }
   ],
   "source": [
    "# write your code below\n",
    "width = 17\n",
    "height = 12.0\n",
    "delimiter = '*'\n",
    "\n",
    "exp1 = width/2\n",
    "print(f\"Expression 1 value = {exp1}, type = {type(exp1)}\")\n",
    "exp2 = width/2.0\n",
    "print(f\"Expression 2 value = {exp2}, type = {type(exp2)}\")\n",
    "exp3 = height/3\n",
    "print(f\"Expression 3 value = {exp3}, type = {type(exp3)}\")\n",
    "exp4 = 1 + 2 * 5\n",
    "print(f\"Expression 4 value = {exp4}, type = {type(exp4)}\")\n",
    "exp5 = delimiter * 5\n",
    "print(f\"Expression 5 value = {exp5}, type = {type(exp5)}\")\n"
   ]
  },
  {
   "cell_type": "markdown",
   "metadata": {},
   "source": [
    "**Alternative solution:**\n",
    "Once you are done with M2, you will like to solve the same thing as follows to avoid typing of many print statements. Not required for this module. "
   ]
  },
  {
   "cell_type": "code",
   "execution_count": 4,
   "metadata": {},
   "outputs": [
    {
     "name": "stdout",
     "output_type": "stream",
     "text": [
      "[8.5, 8.5, 4.0, 11, '*****']\n",
      "Expression 0 value: 8.5, type: <class 'float'>\n",
      "Expression 1 value: 8.5, type: <class 'float'>\n",
      "Expression 2 value: 4.0, type: <class 'float'>\n",
      "Expression 3 value: 11, type: <class 'int'>\n",
      "Expression 4 value: *****, type: <class 'str'>\n"
     ]
    }
   ],
   "source": [
    "width = 17\n",
    "height = 12.0\n",
    "delimiter = '*'\n",
    "\n",
    "exp = []  # heterogeneous data structure\n",
    "exp.append(width/2)\n",
    "exp.append(width/2.0)\n",
    "exp.append(height/3)\n",
    "exp.append(1 + 2 * 5)\n",
    "exp.append(delimiter * 5)\n",
    "\n",
    "# print(exp)\n",
    "\n",
    "for indx, item in enumerate(exp):\n",
    "    print(f\"Expression {indx } value: {item}, type: {type(item)}\")\n"
   ]
  },
  {
   "cell_type": "markdown",
   "metadata": {},
   "source": [
    "**2. Consider the following list variable:**\n",
    "\n",
    "```python\n",
    "country_list = ['USA', 'Germany', 'England', 'Germany', 'France', 'Russia', 'USA']\n",
    "```\n",
    "\n",
    "**Perform the following tasks:**\n",
    "* **What is the length of the list?**\n",
    "* **Use a built-in list method to show the number of occurrences for `Germany` and `Japan`**\n",
    "* **Which data structure stores only unique elements? Use that data structure to identify the unique elements in the list.** \n"
   ]
  },
  {
   "cell_type": "code",
   "execution_count": 1,
   "metadata": {},
   "outputs": [
    {
     "name": "stdout",
     "output_type": "stream",
     "text": [
      "Length of the list: 7\n",
      "Germany occurs 2 times\n",
      "Japan occurs 0 times\n",
      "Unique countries = {'USA', 'France', 'Germany', 'England', 'Russia'}\n"
     ]
    }
   ],
   "source": [
    "# write your code below\n",
    "\n",
    "country_list = ['USA', 'Germany', 'England', 'Germany', 'France', 'Russia', 'USA']\n",
    "print(f\"Length of the list: {len(country_list)}\")\n",
    "\n",
    "print(f\"Germany occurs {country_list.count('Germany')} times\")\n",
    "print(f\"Japan occurs {country_list.count('Japan')} times\")\n",
    "\n",
    "# set is that data structure that contains unique elements\n",
    "\n",
    "country_set = set(country_list)   # type casting \n",
    "print(f\"Unique countries = {country_set}\")\n"
   ]
  },
  {
   "cell_type": "markdown",
   "metadata": {},
   "source": [
    "**3. The following code tries to modify the third element of the tuple variable and generates an error.**\n",
    "```python\n",
    "student = ('John', 'Biochem', 30)\n",
    "student[2] = 28\n",
    "```\n",
    "**Output:**\n",
    "```bash\n",
    "---------------------------------------------------------------------------\n",
    "TypeError                                 Traceback (most recent call last)\n",
    "<ipython-input-12-4178f53e2d31> in <module>\n",
    "      1 student = ('John', 'Biochem', 30)\n",
    "----> 2 student[2] = 28\n",
    "\n",
    "TypeError: 'tuple' object does not support item assignment\n",
    "```\n",
    "\n",
    "**Perform the following tasks:**\n",
    "* **Why is this error happening?**\n",
    "* **Modify this student info to any other data structures which allow such updates. When the update is done, transform the updated variable into a tuple variable.**\n",
    "\n"
   ]
  },
  {
   "cell_type": "code",
   "execution_count": 15,
   "metadata": {},
   "outputs": [
    {
     "name": "stdout",
     "output_type": "stream",
     "text": [
      "Updated record = ('John', 'Biochem', 28)\n"
     ]
    }
   ],
   "source": [
    "# Write your code below\n",
    "\n",
    "# Tuple is and immutable data structrue: once we define a tuple, we cannot modify the elements\n",
    "# inside the tuple\n",
    "\n",
    "student = ('John', 'Biochem', 30)\n",
    "\n",
    "slist = list(student)\n",
    "slist[2] = 28\n",
    "student = tuple(slist)\n",
    "\n",
    "print(f\"Updated record = {student}\")"
   ]
  },
  {
   "cell_type": "markdown",
   "metadata": {},
   "source": [
    "**4. The following code tries to correct the spelling mistake in the string variable without reassigning the variable with a new value and receives an error.**\n",
    "\n",
    "```python\n",
    "country = \"Canoda\"\n",
    "country[3] = 'a'\n",
    "```\n",
    "**Output:**\n",
    "```\n",
    "---------------------------------------------------------------------------\n",
    "TypeError                                 Traceback (most recent call last)\n",
    "<ipython-input-18-22ec8ecdac8d> in <module>\n",
    "      1 country = \"Canoda\"\n",
    "----> 2 country[3] = 'a'\n",
    "\n",
    "TypeError: 'str' object does not support item assignment\n",
    "\n",
    "```\n",
    "**Perform the following tasks:**\n",
    "* **Why is this error happening?**\n",
    "* **Modify this country variable to any other data structures which allow such updates. When the update is done, transform the updated variable into a string variable.**\n",
    "\n",
    "\n"
   ]
  },
  {
   "cell_type": "code",
   "execution_count": 2,
   "metadata": {},
   "outputs": [
    {
     "name": "stdout",
     "output_type": "stream",
     "text": [
      "['C', 'a', 'n', 'o', 'd', 'a']\n",
      "Canada\n",
      "Canada\n"
     ]
    }
   ],
   "source": [
    "# write your code below\n",
    "\n",
    "## String is also an immutable data structure like tuple; so we can cannot modify a string by accessing \n",
    "# the individual char of a string\n",
    "\n",
    "# solution 1\n",
    "country = \"Canoda\"\n",
    "\n",
    "clist = list(country)\n",
    "print(clist)\n",
    "clist[3] = 'a'\n",
    "country = ''.join(clist)\n",
    "print(country)\n",
    "\n",
    "# solution 2\n",
    "country = \"Canoda\"\n",
    "country = country.replace(\"o\", \"a\")\n",
    "print(country)"
   ]
  },
  {
   "cell_type": "markdown",
   "metadata": {},
   "source": [
    "**5. Suppose we need to store information about about employees in a company. For each eamployee we need to store the following attributes:**\n",
    "\n",
    "* Employee Id (string)\n",
    "* First Name (string)\n",
    "* Last Name (string)\n",
    "* Salary (Float or Integer)\n",
    "\n",
    "**In addition to storing info about an employee, we also wish to lookup of an employee info with the employee id attribute.**\n",
    "\n",
    "**Now, perform the following tasks:**\n",
    "\n",
    "* **Which data structure (aka type) will you use to store such data? Why?**\n",
    "* **Create an empty variable with your choosen data type to store employee information**\n",
    "* **Update the empty variable with information on three employees with randomly choosen values for the attributes**\n",
    "* **Print the updated variable**\n",
    "\n"
   ]
  },
  {
   "cell_type": "code",
   "execution_count": 4,
   "metadata": {},
   "outputs": [
    {
     "name": "stdout",
     "output_type": "stream",
     "text": [
      "{'01': {'Employee-ID': '01',\n",
      "        'First-Name': 'Jack',\n",
      "        'Last-Name': 'Ryan',\n",
      "        'Salary': 100000.0},\n",
      " '02': {'Employee-ID': '02',\n",
      "        'First-Name': 'Ronald',\n",
      "        'Last-Name': 'McDonald',\n",
      "        'Salary': 60000.0},\n",
      " '03': {'Employee-ID': '03',\n",
      "        'First-Name': 'Steve',\n",
      "        'Last-Name': 'Carell',\n",
      "        'Salary': 350000.0}}\n",
      "**************************************************\n",
      "Printing infor of the employee with id 02\n",
      "{'Employee-ID': '02',\n",
      " 'First-Name': 'Ronald',\n",
      " 'Last-Name': 'McDonald',\n",
      " 'Salary': 60000.0}\n"
     ]
    }
   ],
   "source": [
    "# write your code \n",
    "\n",
    "## A dictionary goes well with the settings mentioned in the question, as it \n",
    "## stores as (key, value) pair and offer efficient search with key. Here employee id\n",
    "## will be the key. \n",
    "\n",
    "import pprint as pp\n",
    "\n",
    "employees = {}\n",
    "# or\n",
    "# employees = dict() \n",
    "\n",
    "\n",
    "employees['01'] = {\n",
    "    'Employee-ID': '01',\n",
    "    'First-Name': 'Jack',\n",
    "    'Last-Name': 'Ryan',\n",
    "    'Salary': 100000.0\n",
    "}\n",
    "\n",
    "employees['02'] = {\n",
    "    'Employee-ID': '02',\n",
    "    'First-Name': 'Ronald',\n",
    "    'Last-Name': 'McDonald',\n",
    "    'Salary': 60000.0\n",
    "}\n",
    "\n",
    "employees['03'] = {\n",
    "    'Employee-ID': '03',\n",
    "    'First-Name': 'Steve',\n",
    "    'Last-Name': 'Carell',\n",
    "    'Salary': 350000.0\n",
    "}\n",
    "\n",
    "pp.pprint(employees)\n",
    "\n",
    "print(\"*\" * 50)\n",
    "print('Printing infor of the employee with id 02')\n",
    "pp.pprint(employees['02'])"
   ]
  },
  {
   "cell_type": "markdown",
   "metadata": {},
   "source": [
    "**Efficient Solution:**"
   ]
  },
  {
   "cell_type": "code",
   "execution_count": null,
   "metadata": {},
   "outputs": [],
   "source": [
    "employees = {}\n",
    "# or\n",
    "# employees = dict() \n",
    "\n",
    "n_employees = 3\n",
    "\n",
    "for i in range(n_employees):\n",
    "    input_str = input(\"Employee-ID,First-Name,Last-Name,Salary(Separate values by comma): \")\n",
    "    attrs = input_str.split(\",\")\n",
    "#     print(attrs)\n",
    "    employees[attrs[0]] = {\n",
    "        'Employee-ID': attrs[0],\n",
    "        'First-Name': attrs[1],\n",
    "        'Last-Name': attrs[2],\n",
    "        'Salary': attrs[3]\n",
    "    }\n",
    "pp.print(employees)"
   ]
  }
 ],
 "metadata": {
  "kernelspec": {
   "display_name": "Python 3",
   "language": "python",
   "name": "python3"
  },
  "language_info": {
   "codemirror_mode": {
    "name": "ipython",
    "version": 3
   },
   "file_extension": ".py",
   "mimetype": "text/x-python",
   "name": "python",
   "nbconvert_exporter": "python",
   "pygments_lexer": "ipython3",
   "version": "3.7.3"
  }
 },
 "nbformat": 4,
 "nbformat_minor": 2
}
