{
 "cells": [
  {
   "cell_type": "markdown",
   "metadata": {},
   "source": [
    "# Descriptive Statistics with `R` Exercises"
   ]
  },
  {
   "cell_type": "markdown",
   "metadata": {},
   "source": [
    "Like last week, all of the concepts in the exercise will be familiar in the sense that it will mirror the concepts that we learned throughout the labs and practices. This includes the concepts that we worked through in module 1.\n",
    "\n",
    "There could be multiple ways to solve a single answer, some more elegant than others. Revisit older notebooks for guidance, ask questions along the way, and don't be afraid to search the internet. Chances are that someone has had the same/similar issue.\n",
    "\n",
    "For this exercise, we will be working with the `congress-terms.csv`. \n",
    "Again, this is in the `/dsa/data/all_datasets/` directory."
   ]
  },
  {
   "cell_type": "markdown",
   "metadata": {},
   "source": [
    "**Exercise 1**: *Read in the `congress-terms.csv` file and name it `df`.*"
   ]
  },
  {
   "cell_type": "code",
   "execution_count": 2,
   "metadata": {},
   "outputs": [
    {
     "data": {
      "text/html": [
       "<table>\n",
       "<caption>A data.frame: 18635 × 13</caption>\n",
       "<thead>\n",
       "\t<tr><th scope=col>congress</th><th scope=col>chamber</th><th scope=col>bioguide</th><th scope=col>firstname</th><th scope=col>middlename</th><th scope=col>lastname</th><th scope=col>suffix</th><th scope=col>birthday</th><th scope=col>state</th><th scope=col>party</th><th scope=col>incumbent</th><th scope=col>termstart</th><th scope=col>age</th></tr>\n",
       "\t<tr><th scope=col>&lt;int&gt;</th><th scope=col>&lt;fct&gt;</th><th scope=col>&lt;fct&gt;</th><th scope=col>&lt;fct&gt;</th><th scope=col>&lt;fct&gt;</th><th scope=col>&lt;fct&gt;</th><th scope=col>&lt;fct&gt;</th><th scope=col>&lt;fct&gt;</th><th scope=col>&lt;fct&gt;</th><th scope=col>&lt;fct&gt;</th><th scope=col>&lt;fct&gt;</th><th scope=col>&lt;fct&gt;</th><th scope=col>&lt;dbl&gt;</th></tr>\n",
       "</thead>\n",
       "<tbody>\n",
       "\t<tr><td>80</td><td>house</td><td>M000112</td><td>Joseph  </td><td>Jefferson</td><td>Mansfield</td><td></td><td>1861-02-09</td><td>TX</td><td>D</td><td>Yes</td><td>1/3/47</td><td>85.9</td></tr>\n",
       "\t<tr><td>80</td><td>house</td><td>D000448</td><td>Robert  </td><td>Lee      </td><td>Doughton </td><td></td><td>1863-11-07</td><td>NC</td><td>D</td><td>Yes</td><td>1/3/47</td><td>83.2</td></tr>\n",
       "\t<tr><td>80</td><td>house</td><td>S000001</td><td>Adolph  </td><td>Joachim  </td><td>Sabath   </td><td></td><td>1866-04-04</td><td>IL</td><td>D</td><td>Yes</td><td>1/3/47</td><td>80.7</td></tr>\n",
       "\t<tr><td>80</td><td>house</td><td>E000023</td><td>Charles </td><td>Aubrey   </td><td>Eaton    </td><td></td><td>1868-03-29</td><td>NJ</td><td>R</td><td>Yes</td><td>1/3/47</td><td>78.8</td></tr>\n",
       "\t<tr><td>80</td><td>house</td><td>L000296</td><td>William </td><td>         </td><td>Lewis    </td><td></td><td>1868-09-22</td><td>KY</td><td>R</td><td>No </td><td>1/3/47</td><td>78.3</td></tr>\n",
       "\t<tr><td>80</td><td>house</td><td>G000017</td><td>James   </td><td>A.       </td><td>Gallagher</td><td></td><td>1869-01-16</td><td>PA</td><td>R</td><td>No </td><td>1/3/47</td><td>78.0</td></tr>\n",
       "\t<tr><td>80</td><td>house</td><td>W000265</td><td>Richard </td><td>Joseph   </td><td>Welch    </td><td></td><td>1869-02-13</td><td>CA</td><td>R</td><td>Yes</td><td>1/3/47</td><td>77.9</td></tr>\n",
       "\t<tr><td>80</td><td>house</td><td>B000565</td><td>Sol     </td><td>         </td><td>Bloom    </td><td></td><td>1870-03-09</td><td>NY</td><td>D</td><td>Yes</td><td>1/3/47</td><td>76.8</td></tr>\n",
       "\t<tr><td>80</td><td>house</td><td>H000943</td><td>Merlin  </td><td>         </td><td>Hull     </td><td></td><td>1870-12-18</td><td>WI</td><td>R</td><td>Yes</td><td>1/3/47</td><td>76.0</td></tr>\n",
       "\t<tr><td>80</td><td>house</td><td>G000169</td><td>Charles </td><td>Laceille </td><td>Gifford  </td><td></td><td>1871-03-15</td><td>MA</td><td>R</td><td>Yes</td><td>1/3/47</td><td>75.8</td></tr>\n",
       "\t<tr><td>80</td><td>house</td><td>B000545</td><td>Schuyler</td><td>Otis     </td><td>Bland    </td><td></td><td>1872-05-04</td><td>VA</td><td>D</td><td>Yes</td><td>1/3/47</td><td>74.7</td></tr>\n",
       "\t<tr><td>80</td><td>house</td><td>R000358</td><td>John    </td><td>Marshall </td><td>Robsion  </td><td></td><td>1873-01-02</td><td>KY</td><td>R</td><td>Yes</td><td>1/3/47</td><td>74.0</td></tr>\n",
       "\t<tr><td>80</td><td>house</td><td>L000501</td><td>Louis   </td><td>Leon     </td><td>Ludlow   </td><td></td><td>1873-06-24</td><td>IN</td><td>D</td><td>Yes</td><td>1/3/47</td><td>73.5</td></tr>\n",
       "\t<tr><td>80</td><td>house</td><td>K000138</td><td>John    </td><td>Hosea    </td><td>Kerr     </td><td></td><td>1873-12-31</td><td>NC</td><td>D</td><td>Yes</td><td>1/3/47</td><td>73.0</td></tr>\n",
       "\t<tr><td>80</td><td>house</td><td>C000932</td><td>Robert  </td><td>         </td><td>Crosser  </td><td></td><td>1874-06-07</td><td>OH</td><td>D</td><td>Yes</td><td>1/3/47</td><td>72.6</td></tr>\n",
       "\t<tr><td>80</td><td>house</td><td>L000163</td><td>Clarence</td><td>Frederick</td><td>Lea      </td><td></td><td>1874-07-11</td><td>CA</td><td>D</td><td>Yes</td><td>1/3/47</td><td>72.5</td></tr>\n",
       "\t<tr><td>80</td><td>house</td><td>K000039</td><td>John    </td><td>         </td><td>Kee      </td><td></td><td>1874-08-22</td><td>WV</td><td>D</td><td>Yes</td><td>1/3/47</td><td>72.4</td></tr>\n",
       "\t<tr><td>80</td><td>house</td><td>S000717</td><td>Brent   </td><td>         </td><td>Spence   </td><td></td><td>1874-12-24</td><td>KY</td><td>D</td><td>Yes</td><td>1/3/47</td><td>72.0</td></tr>\n",
       "\t<tr><td>80</td><td>house</td><td>A000257</td><td>Homer   </td><td>Daniel   </td><td>Angell   </td><td></td><td>1875-01-12</td><td>OR</td><td>R</td><td>Yes</td><td>1/3/47</td><td>72.0</td></tr>\n",
       "\t<tr><td>80</td><td>house</td><td>N000153</td><td>Mary    </td><td>Teresa   </td><td>Norton   </td><td></td><td>1875-03-07</td><td>NJ</td><td>D</td><td>Yes</td><td>1/3/47</td><td>71.8</td></tr>\n",
       "\t<tr><td>80</td><td>house</td><td>P000395</td><td>Charles </td><td>Albert   </td><td>Plumley  </td><td></td><td>1875-04-14</td><td>VT</td><td>R</td><td>Yes</td><td>1/3/47</td><td>71.7</td></tr>\n",
       "\t<tr><td>80</td><td>house</td><td>D000496</td><td>Patrick </td><td>Henry    </td><td>Drewry   </td><td></td><td>1875-05-24</td><td>VA</td><td>D</td><td>Yes</td><td>1/3/47</td><td>71.6</td></tr>\n",
       "\t<tr><td>80</td><td>house</td><td>H000683</td><td>Clare   </td><td>Eugene   </td><td>Hoffman  </td><td></td><td>1875-09-10</td><td>MI</td><td>R</td><td>Yes</td><td>1/3/47</td><td>71.3</td></tr>\n",
       "\t<tr><td>80</td><td>house</td><td>R000113</td><td>Daniel  </td><td>Alden    </td><td>Reed     </td><td></td><td>1875-09-15</td><td>NY</td><td>R</td><td>Yes</td><td>1/3/47</td><td>71.3</td></tr>\n",
       "\t<tr><td>80</td><td>house</td><td>B001214</td><td>William </td><td>Thomas   </td><td>Byrne    </td><td></td><td>1876-03-06</td><td>NY</td><td>D</td><td>Yes</td><td>1/3/47</td><td>70.8</td></tr>\n",
       "\t<tr><td>80</td><td>house</td><td>W000718</td><td>Roy     </td><td>Orchard  </td><td>Woodruff </td><td></td><td>1876-03-14</td><td>MI</td><td>R</td><td>Yes</td><td>1/3/47</td><td>70.8</td></tr>\n",
       "\t<tr><td>80</td><td>house</td><td>B000515</td><td>William </td><td>Wallace  </td><td>Blackney </td><td></td><td>1876-08-28</td><td>MI</td><td>R</td><td>Yes</td><td>1/3/47</td><td>70.3</td></tr>\n",
       "\t<tr><td>80</td><td>house</td><td>M000693</td><td>Earl    </td><td>Cory     </td><td>Michener </td><td></td><td>1876-11-30</td><td>MI</td><td>R</td><td>Yes</td><td>1/3/47</td><td>70.1</td></tr>\n",
       "\t<tr><td>80</td><td>house</td><td>C000590</td><td>Howard  </td><td>Aldridge </td><td>Coffin   </td><td></td><td>1877-06-11</td><td>MI</td><td>R</td><td>No </td><td>1/3/47</td><td>69.6</td></tr>\n",
       "\t<tr><td>80</td><td>house</td><td>M000374</td><td>Edward  </td><td>Oscar    </td><td>McCowen  </td><td></td><td>1877-06-29</td><td>OH</td><td>R</td><td>Yes</td><td>1/3/47</td><td>69.5</td></tr>\n",
       "\t<tr><td>⋮</td><td>⋮</td><td>⋮</td><td>⋮</td><td>⋮</td><td>⋮</td><td>⋮</td><td>⋮</td><td>⋮</td><td>⋮</td><td>⋮</td><td>⋮</td><td>⋮</td></tr>\n",
       "\t<tr><td>113</td><td>senate</td><td>K000360</td><td>Mark       </td><td>Steven </td><td>Kirk      </td><td>   </td><td>9/15/59 </td><td>IL</td><td>R</td><td>Yes</td><td>1/3/13</td><td>53.3</td></tr>\n",
       "\t<tr><td>113</td><td>senate</td><td>C001070</td><td>Robert     </td><td>P.     </td><td>Casey     </td><td>Jr.</td><td>4/13/60 </td><td>PA</td><td>D</td><td>Yes</td><td>1/3/13</td><td>52.7</td></tr>\n",
       "\t<tr><td>113</td><td>senate</td><td>H001041</td><td>Dean       </td><td>       </td><td>Heller    </td><td>   </td><td>5/10/60 </td><td>NV</td><td>R</td><td>Yes</td><td>1/3/13</td><td>52.7</td></tr>\n",
       "\t<tr><td>113</td><td>senate</td><td>K000367</td><td>Amy        </td><td>Jean   </td><td>Klobuchar </td><td>   </td><td>5/25/60 </td><td>MN</td><td>D</td><td>Yes</td><td>1/3/13</td><td>52.6</td></tr>\n",
       "\t<tr><td>113</td><td>senate</td><td>W000818</td><td>John       </td><td>E.     </td><td>Walsh     </td><td>   </td><td>11/3/60 </td><td>MT</td><td>D</td><td>No </td><td>1/3/13</td><td>52.2</td></tr>\n",
       "\t<tr><td>113</td><td>senate</td><td>T000250</td><td>John       </td><td>       </td><td>Thune     </td><td>   </td><td>1/7/61  </td><td>SD</td><td>R</td><td>Yes</td><td>1/3/13</td><td>52.0</td></tr>\n",
       "\t<tr><td>113</td><td>senate</td><td>V000127</td><td>David      </td><td>       </td><td>Vitter    </td><td>   </td><td>5/3/61  </td><td>LA</td><td>R</td><td>Yes</td><td>1/3/13</td><td>51.7</td></tr>\n",
       "\t<tr><td>113</td><td>senate</td><td>T000461</td><td>Patrick    </td><td>J.     </td><td>Toomey    </td><td>   </td><td>11/17/61</td><td>PA</td><td>R</td><td>Yes</td><td>1/3/13</td><td>51.1</td></tr>\n",
       "\t<tr><td>113</td><td>senate</td><td>B001230</td><td>Tammy      </td><td>       </td><td>Baldwin   </td><td>   </td><td>2/11/62 </td><td>WI</td><td>D</td><td>Yes</td><td>1/3/13</td><td>50.9</td></tr>\n",
       "\t<tr><td>113</td><td>senate</td><td>B001265</td><td>Mark       </td><td>       </td><td>Begich    </td><td>   </td><td>3/30/62 </td><td>AK</td><td>D</td><td>Yes</td><td>1/3/13</td><td>50.8</td></tr>\n",
       "\t<tr><td>113</td><td>senate</td><td>F000444</td><td>Jeff       </td><td>       </td><td>Flake     </td><td>   </td><td>12/31/62</td><td>AZ</td><td>R</td><td>Yes</td><td>1/3/13</td><td>50.0</td></tr>\n",
       "\t<tr><td>113</td><td>senate</td><td>P000603</td><td>Rand       </td><td>       </td><td>Paul      </td><td>   </td><td>1/7/63  </td><td>KY</td><td>R</td><td>Yes</td><td>1/3/13</td><td>50.0</td></tr>\n",
       "\t<tr><td>113</td><td>senate</td><td>P000590</td><td>Mark       </td><td>       </td><td>Pryor     </td><td>   </td><td>1/10/63 </td><td>AR</td><td>D</td><td>Yes</td><td>1/3/13</td><td>50.0</td></tr>\n",
       "\t<tr><td>113</td><td>senate</td><td>C001088</td><td>Chris      </td><td>Andrew </td><td>Coons     </td><td>   </td><td>9/9/63  </td><td>DE</td><td>D</td><td>Yes</td><td>1/3/13</td><td>49.3</td></tr>\n",
       "\t<tr><td>113</td><td>senate</td><td>B001267</td><td>Michael    </td><td>F.     </td><td>Bennet    </td><td>   </td><td>11/28/64</td><td>CO</td><td>D</td><td>Yes</td><td>1/3/13</td><td>48.1</td></tr>\n",
       "\t<tr><td>113</td><td>senate</td><td>S001184</td><td>Tim        </td><td>       </td><td>Scott     </td><td>   </td><td>9/19/65 </td><td>SC</td><td>R</td><td>Yes</td><td>1/3/13</td><td>47.3</td></tr>\n",
       "\t<tr><td>113</td><td>senate</td><td>G000555</td><td>Kirsten    </td><td>E.     </td><td>Gillibrand</td><td>   </td><td>12/9/66 </td><td>NY</td><td>D</td><td>Yes</td><td>1/3/13</td><td>46.1</td></tr>\n",
       "\t<tr><td>113</td><td>senate</td><td>A000368</td><td>Kelly      </td><td>       </td><td>Ayotte    </td><td>   </td><td>6/27/68 </td><td>NH</td><td>R</td><td>Yes</td><td>1/3/13</td><td>44.5</td></tr>\n",
       "\t<tr><td>113</td><td>senate</td><td>B001288</td><td>Cory       </td><td>Anthony</td><td>Booker    </td><td>   </td><td>4/27/69 </td><td>NJ</td><td>D</td><td>No </td><td>1/3/13</td><td>43.7</td></tr>\n",
       "\t<tr><td>113</td><td>senate</td><td>C001098</td><td>Ted        </td><td>       </td><td>Cruz      </td><td>   </td><td>12/22/70</td><td>TX</td><td>R</td><td>No </td><td>1/3/13</td><td>42.0</td></tr>\n",
       "\t<tr><td>113</td><td>senate</td><td>R000595</td><td>Marco      </td><td>       </td><td>Rubio     </td><td>   </td><td>5/28/71 </td><td>FL</td><td>R</td><td>Yes</td><td>1/3/13</td><td>41.6</td></tr>\n",
       "\t<tr><td>113</td><td>senate</td><td>L000577</td><td>Mike       </td><td>       </td><td>Lee       </td><td>   </td><td>6/4/71  </td><td>UT</td><td>R</td><td>Yes</td><td>1/3/13</td><td>41.6</td></tr>\n",
       "\t<tr><td>113</td><td>senate</td><td>H001046</td><td>Martin     </td><td>       </td><td>Heinrich  </td><td>   </td><td>10/17/71</td><td>NM</td><td>D</td><td>Yes</td><td>1/3/13</td><td>41.2</td></tr>\n",
       "\t<tr><td>113</td><td>senate</td><td>S001194</td><td>Brian      </td><td>Emanuel</td><td>Schatz    </td><td>   </td><td>10/20/72</td><td>HI</td><td>D</td><td>Yes</td><td>1/3/13</td><td>40.2</td></tr>\n",
       "\t<tr><td>113</td><td>senate</td><td>M001169</td><td>Christopher</td><td>S.     </td><td>Murphy    </td><td>   </td><td>8/3/73  </td><td>CT</td><td>D</td><td>Yes</td><td>1/3/13</td><td>39.4</td></tr>\n",
       "\t<tr><td>113</td><td>senate</td><td>B000243</td><td>Max        </td><td>S.     </td><td>Baucus    </td><td>   </td><td>12/10/37</td><td>MT</td><td>D</td><td>Yes</td><td>1/3/13</td><td>75.1</td></tr>\n",
       "\t<tr><td>113</td><td>senate</td><td>C001099</td><td>William    </td><td>       </td><td>Cowan     </td><td>   </td><td>4/3/65  </td><td>MA</td><td>D</td><td>No </td><td>1/3/13</td><td>47.8</td></tr>\n",
       "\t<tr><td>113</td><td>senate</td><td>C001100</td><td>Jeffrey    </td><td>Scott  </td><td>Chiesa    </td><td>   </td><td>6/21/61 </td><td>NJ</td><td>R</td><td>No </td><td>1/3/13</td><td>51.5</td></tr>\n",
       "\t<tr><td>113</td><td>senate</td><td>K000148</td><td>John       </td><td>Forbes </td><td>Kerry     </td><td>   </td><td>12/10/39</td><td>MA</td><td>D</td><td>Yes</td><td>1/3/13</td><td>73.1</td></tr>\n",
       "\t<tr><td>113</td><td>senate</td><td>L000123</td><td>Frank      </td><td>R.     </td><td>Lautenberg</td><td>   </td><td>1/22/20 </td><td>NJ</td><td>D</td><td>Yes</td><td>1/3/13</td><td>93.0</td></tr>\n",
       "</tbody>\n",
       "</table>\n"
      ],
      "text/latex": [
       "A data.frame: 18635 × 13\n",
       "\\begin{tabular}{r|lllllllllllll}\n",
       " congress & chamber & bioguide & firstname & middlename & lastname & suffix & birthday & state & party & incumbent & termstart & age\\\\\n",
       " <int> & <fct> & <fct> & <fct> & <fct> & <fct> & <fct> & <fct> & <fct> & <fct> & <fct> & <fct> & <dbl>\\\\\n",
       "\\hline\n",
       "\t 80 & house & M000112 & Joseph   & Jefferson & Mansfield &  & 1861-02-09 & TX & D & Yes & 1/3/47 & 85.9\\\\\n",
       "\t 80 & house & D000448 & Robert   & Lee       & Doughton  &  & 1863-11-07 & NC & D & Yes & 1/3/47 & 83.2\\\\\n",
       "\t 80 & house & S000001 & Adolph   & Joachim   & Sabath    &  & 1866-04-04 & IL & D & Yes & 1/3/47 & 80.7\\\\\n",
       "\t 80 & house & E000023 & Charles  & Aubrey    & Eaton     &  & 1868-03-29 & NJ & R & Yes & 1/3/47 & 78.8\\\\\n",
       "\t 80 & house & L000296 & William  &           & Lewis     &  & 1868-09-22 & KY & R & No  & 1/3/47 & 78.3\\\\\n",
       "\t 80 & house & G000017 & James    & A.        & Gallagher &  & 1869-01-16 & PA & R & No  & 1/3/47 & 78.0\\\\\n",
       "\t 80 & house & W000265 & Richard  & Joseph    & Welch     &  & 1869-02-13 & CA & R & Yes & 1/3/47 & 77.9\\\\\n",
       "\t 80 & house & B000565 & Sol      &           & Bloom     &  & 1870-03-09 & NY & D & Yes & 1/3/47 & 76.8\\\\\n",
       "\t 80 & house & H000943 & Merlin   &           & Hull      &  & 1870-12-18 & WI & R & Yes & 1/3/47 & 76.0\\\\\n",
       "\t 80 & house & G000169 & Charles  & Laceille  & Gifford   &  & 1871-03-15 & MA & R & Yes & 1/3/47 & 75.8\\\\\n",
       "\t 80 & house & B000545 & Schuyler & Otis      & Bland     &  & 1872-05-04 & VA & D & Yes & 1/3/47 & 74.7\\\\\n",
       "\t 80 & house & R000358 & John     & Marshall  & Robsion   &  & 1873-01-02 & KY & R & Yes & 1/3/47 & 74.0\\\\\n",
       "\t 80 & house & L000501 & Louis    & Leon      & Ludlow    &  & 1873-06-24 & IN & D & Yes & 1/3/47 & 73.5\\\\\n",
       "\t 80 & house & K000138 & John     & Hosea     & Kerr      &  & 1873-12-31 & NC & D & Yes & 1/3/47 & 73.0\\\\\n",
       "\t 80 & house & C000932 & Robert   &           & Crosser   &  & 1874-06-07 & OH & D & Yes & 1/3/47 & 72.6\\\\\n",
       "\t 80 & house & L000163 & Clarence & Frederick & Lea       &  & 1874-07-11 & CA & D & Yes & 1/3/47 & 72.5\\\\\n",
       "\t 80 & house & K000039 & John     &           & Kee       &  & 1874-08-22 & WV & D & Yes & 1/3/47 & 72.4\\\\\n",
       "\t 80 & house & S000717 & Brent    &           & Spence    &  & 1874-12-24 & KY & D & Yes & 1/3/47 & 72.0\\\\\n",
       "\t 80 & house & A000257 & Homer    & Daniel    & Angell    &  & 1875-01-12 & OR & R & Yes & 1/3/47 & 72.0\\\\\n",
       "\t 80 & house & N000153 & Mary     & Teresa    & Norton    &  & 1875-03-07 & NJ & D & Yes & 1/3/47 & 71.8\\\\\n",
       "\t 80 & house & P000395 & Charles  & Albert    & Plumley   &  & 1875-04-14 & VT & R & Yes & 1/3/47 & 71.7\\\\\n",
       "\t 80 & house & D000496 & Patrick  & Henry     & Drewry    &  & 1875-05-24 & VA & D & Yes & 1/3/47 & 71.6\\\\\n",
       "\t 80 & house & H000683 & Clare    & Eugene    & Hoffman   &  & 1875-09-10 & MI & R & Yes & 1/3/47 & 71.3\\\\\n",
       "\t 80 & house & R000113 & Daniel   & Alden     & Reed      &  & 1875-09-15 & NY & R & Yes & 1/3/47 & 71.3\\\\\n",
       "\t 80 & house & B001214 & William  & Thomas    & Byrne     &  & 1876-03-06 & NY & D & Yes & 1/3/47 & 70.8\\\\\n",
       "\t 80 & house & W000718 & Roy      & Orchard   & Woodruff  &  & 1876-03-14 & MI & R & Yes & 1/3/47 & 70.8\\\\\n",
       "\t 80 & house & B000515 & William  & Wallace   & Blackney  &  & 1876-08-28 & MI & R & Yes & 1/3/47 & 70.3\\\\\n",
       "\t 80 & house & M000693 & Earl     & Cory      & Michener  &  & 1876-11-30 & MI & R & Yes & 1/3/47 & 70.1\\\\\n",
       "\t 80 & house & C000590 & Howard   & Aldridge  & Coffin    &  & 1877-06-11 & MI & R & No  & 1/3/47 & 69.6\\\\\n",
       "\t 80 & house & M000374 & Edward   & Oscar     & McCowen   &  & 1877-06-29 & OH & R & Yes & 1/3/47 & 69.5\\\\\n",
       "\t ⋮ & ⋮ & ⋮ & ⋮ & ⋮ & ⋮ & ⋮ & ⋮ & ⋮ & ⋮ & ⋮ & ⋮ & ⋮\\\\\n",
       "\t 113 & senate & K000360 & Mark        & Steven  & Kirk       &     & 9/15/59  & IL & R & Yes & 1/3/13 & 53.3\\\\\n",
       "\t 113 & senate & C001070 & Robert      & P.      & Casey      & Jr. & 4/13/60  & PA & D & Yes & 1/3/13 & 52.7\\\\\n",
       "\t 113 & senate & H001041 & Dean        &         & Heller     &     & 5/10/60  & NV & R & Yes & 1/3/13 & 52.7\\\\\n",
       "\t 113 & senate & K000367 & Amy         & Jean    & Klobuchar  &     & 5/25/60  & MN & D & Yes & 1/3/13 & 52.6\\\\\n",
       "\t 113 & senate & W000818 & John        & E.      & Walsh      &     & 11/3/60  & MT & D & No  & 1/3/13 & 52.2\\\\\n",
       "\t 113 & senate & T000250 & John        &         & Thune      &     & 1/7/61   & SD & R & Yes & 1/3/13 & 52.0\\\\\n",
       "\t 113 & senate & V000127 & David       &         & Vitter     &     & 5/3/61   & LA & R & Yes & 1/3/13 & 51.7\\\\\n",
       "\t 113 & senate & T000461 & Patrick     & J.      & Toomey     &     & 11/17/61 & PA & R & Yes & 1/3/13 & 51.1\\\\\n",
       "\t 113 & senate & B001230 & Tammy       &         & Baldwin    &     & 2/11/62  & WI & D & Yes & 1/3/13 & 50.9\\\\\n",
       "\t 113 & senate & B001265 & Mark        &         & Begich     &     & 3/30/62  & AK & D & Yes & 1/3/13 & 50.8\\\\\n",
       "\t 113 & senate & F000444 & Jeff        &         & Flake      &     & 12/31/62 & AZ & R & Yes & 1/3/13 & 50.0\\\\\n",
       "\t 113 & senate & P000603 & Rand        &         & Paul       &     & 1/7/63   & KY & R & Yes & 1/3/13 & 50.0\\\\\n",
       "\t 113 & senate & P000590 & Mark        &         & Pryor      &     & 1/10/63  & AR & D & Yes & 1/3/13 & 50.0\\\\\n",
       "\t 113 & senate & C001088 & Chris       & Andrew  & Coons      &     & 9/9/63   & DE & D & Yes & 1/3/13 & 49.3\\\\\n",
       "\t 113 & senate & B001267 & Michael     & F.      & Bennet     &     & 11/28/64 & CO & D & Yes & 1/3/13 & 48.1\\\\\n",
       "\t 113 & senate & S001184 & Tim         &         & Scott      &     & 9/19/65  & SC & R & Yes & 1/3/13 & 47.3\\\\\n",
       "\t 113 & senate & G000555 & Kirsten     & E.      & Gillibrand &     & 12/9/66  & NY & D & Yes & 1/3/13 & 46.1\\\\\n",
       "\t 113 & senate & A000368 & Kelly       &         & Ayotte     &     & 6/27/68  & NH & R & Yes & 1/3/13 & 44.5\\\\\n",
       "\t 113 & senate & B001288 & Cory        & Anthony & Booker     &     & 4/27/69  & NJ & D & No  & 1/3/13 & 43.7\\\\\n",
       "\t 113 & senate & C001098 & Ted         &         & Cruz       &     & 12/22/70 & TX & R & No  & 1/3/13 & 42.0\\\\\n",
       "\t 113 & senate & R000595 & Marco       &         & Rubio      &     & 5/28/71  & FL & R & Yes & 1/3/13 & 41.6\\\\\n",
       "\t 113 & senate & L000577 & Mike        &         & Lee        &     & 6/4/71   & UT & R & Yes & 1/3/13 & 41.6\\\\\n",
       "\t 113 & senate & H001046 & Martin      &         & Heinrich   &     & 10/17/71 & NM & D & Yes & 1/3/13 & 41.2\\\\\n",
       "\t 113 & senate & S001194 & Brian       & Emanuel & Schatz     &     & 10/20/72 & HI & D & Yes & 1/3/13 & 40.2\\\\\n",
       "\t 113 & senate & M001169 & Christopher & S.      & Murphy     &     & 8/3/73   & CT & D & Yes & 1/3/13 & 39.4\\\\\n",
       "\t 113 & senate & B000243 & Max         & S.      & Baucus     &     & 12/10/37 & MT & D & Yes & 1/3/13 & 75.1\\\\\n",
       "\t 113 & senate & C001099 & William     &         & Cowan      &     & 4/3/65   & MA & D & No  & 1/3/13 & 47.8\\\\\n",
       "\t 113 & senate & C001100 & Jeffrey     & Scott   & Chiesa     &     & 6/21/61  & NJ & R & No  & 1/3/13 & 51.5\\\\\n",
       "\t 113 & senate & K000148 & John        & Forbes  & Kerry      &     & 12/10/39 & MA & D & Yes & 1/3/13 & 73.1\\\\\n",
       "\t 113 & senate & L000123 & Frank       & R.      & Lautenberg &     & 1/22/20  & NJ & D & Yes & 1/3/13 & 93.0\\\\\n",
       "\\end{tabular}\n"
      ],
      "text/markdown": [
       "\n",
       "A data.frame: 18635 × 13\n",
       "\n",
       "| congress &lt;int&gt; | chamber &lt;fct&gt; | bioguide &lt;fct&gt; | firstname &lt;fct&gt; | middlename &lt;fct&gt; | lastname &lt;fct&gt; | suffix &lt;fct&gt; | birthday &lt;fct&gt; | state &lt;fct&gt; | party &lt;fct&gt; | incumbent &lt;fct&gt; | termstart &lt;fct&gt; | age &lt;dbl&gt; |\n",
       "|---|---|---|---|---|---|---|---|---|---|---|---|---|\n",
       "| 80 | house | M000112 | Joseph   | Jefferson | Mansfield | <!----> | 1861-02-09 | TX | D | Yes | 1/3/47 | 85.9 |\n",
       "| 80 | house | D000448 | Robert   | Lee       | Doughton  | <!----> | 1863-11-07 | NC | D | Yes | 1/3/47 | 83.2 |\n",
       "| 80 | house | S000001 | Adolph   | Joachim   | Sabath    | <!----> | 1866-04-04 | IL | D | Yes | 1/3/47 | 80.7 |\n",
       "| 80 | house | E000023 | Charles  | Aubrey    | Eaton     | <!----> | 1868-03-29 | NJ | R | Yes | 1/3/47 | 78.8 |\n",
       "| 80 | house | L000296 | William  | <!----> | Lewis     | <!----> | 1868-09-22 | KY | R | No  | 1/3/47 | 78.3 |\n",
       "| 80 | house | G000017 | James    | A.        | Gallagher | <!----> | 1869-01-16 | PA | R | No  | 1/3/47 | 78.0 |\n",
       "| 80 | house | W000265 | Richard  | Joseph    | Welch     | <!----> | 1869-02-13 | CA | R | Yes | 1/3/47 | 77.9 |\n",
       "| 80 | house | B000565 | Sol      | <!----> | Bloom     | <!----> | 1870-03-09 | NY | D | Yes | 1/3/47 | 76.8 |\n",
       "| 80 | house | H000943 | Merlin   | <!----> | Hull      | <!----> | 1870-12-18 | WI | R | Yes | 1/3/47 | 76.0 |\n",
       "| 80 | house | G000169 | Charles  | Laceille  | Gifford   | <!----> | 1871-03-15 | MA | R | Yes | 1/3/47 | 75.8 |\n",
       "| 80 | house | B000545 | Schuyler | Otis      | Bland     | <!----> | 1872-05-04 | VA | D | Yes | 1/3/47 | 74.7 |\n",
       "| 80 | house | R000358 | John     | Marshall  | Robsion   | <!----> | 1873-01-02 | KY | R | Yes | 1/3/47 | 74.0 |\n",
       "| 80 | house | L000501 | Louis    | Leon      | Ludlow    | <!----> | 1873-06-24 | IN | D | Yes | 1/3/47 | 73.5 |\n",
       "| 80 | house | K000138 | John     | Hosea     | Kerr      | <!----> | 1873-12-31 | NC | D | Yes | 1/3/47 | 73.0 |\n",
       "| 80 | house | C000932 | Robert   | <!----> | Crosser   | <!----> | 1874-06-07 | OH | D | Yes | 1/3/47 | 72.6 |\n",
       "| 80 | house | L000163 | Clarence | Frederick | Lea       | <!----> | 1874-07-11 | CA | D | Yes | 1/3/47 | 72.5 |\n",
       "| 80 | house | K000039 | John     | <!----> | Kee       | <!----> | 1874-08-22 | WV | D | Yes | 1/3/47 | 72.4 |\n",
       "| 80 | house | S000717 | Brent    | <!----> | Spence    | <!----> | 1874-12-24 | KY | D | Yes | 1/3/47 | 72.0 |\n",
       "| 80 | house | A000257 | Homer    | Daniel    | Angell    | <!----> | 1875-01-12 | OR | R | Yes | 1/3/47 | 72.0 |\n",
       "| 80 | house | N000153 | Mary     | Teresa    | Norton    | <!----> | 1875-03-07 | NJ | D | Yes | 1/3/47 | 71.8 |\n",
       "| 80 | house | P000395 | Charles  | Albert    | Plumley   | <!----> | 1875-04-14 | VT | R | Yes | 1/3/47 | 71.7 |\n",
       "| 80 | house | D000496 | Patrick  | Henry     | Drewry    | <!----> | 1875-05-24 | VA | D | Yes | 1/3/47 | 71.6 |\n",
       "| 80 | house | H000683 | Clare    | Eugene    | Hoffman   | <!----> | 1875-09-10 | MI | R | Yes | 1/3/47 | 71.3 |\n",
       "| 80 | house | R000113 | Daniel   | Alden     | Reed      | <!----> | 1875-09-15 | NY | R | Yes | 1/3/47 | 71.3 |\n",
       "| 80 | house | B001214 | William  | Thomas    | Byrne     | <!----> | 1876-03-06 | NY | D | Yes | 1/3/47 | 70.8 |\n",
       "| 80 | house | W000718 | Roy      | Orchard   | Woodruff  | <!----> | 1876-03-14 | MI | R | Yes | 1/3/47 | 70.8 |\n",
       "| 80 | house | B000515 | William  | Wallace   | Blackney  | <!----> | 1876-08-28 | MI | R | Yes | 1/3/47 | 70.3 |\n",
       "| 80 | house | M000693 | Earl     | Cory      | Michener  | <!----> | 1876-11-30 | MI | R | Yes | 1/3/47 | 70.1 |\n",
       "| 80 | house | C000590 | Howard   | Aldridge  | Coffin    | <!----> | 1877-06-11 | MI | R | No  | 1/3/47 | 69.6 |\n",
       "| 80 | house | M000374 | Edward   | Oscar     | McCowen   | <!----> | 1877-06-29 | OH | R | Yes | 1/3/47 | 69.5 |\n",
       "| ⋮ | ⋮ | ⋮ | ⋮ | ⋮ | ⋮ | ⋮ | ⋮ | ⋮ | ⋮ | ⋮ | ⋮ | ⋮ |\n",
       "| 113 | senate | K000360 | Mark        | Steven  | Kirk       | <!----> | 9/15/59  | IL | R | Yes | 1/3/13 | 53.3 |\n",
       "| 113 | senate | C001070 | Robert      | P.      | Casey      | Jr. | 4/13/60  | PA | D | Yes | 1/3/13 | 52.7 |\n",
       "| 113 | senate | H001041 | Dean        | <!----> | Heller     | <!----> | 5/10/60  | NV | R | Yes | 1/3/13 | 52.7 |\n",
       "| 113 | senate | K000367 | Amy         | Jean    | Klobuchar  | <!----> | 5/25/60  | MN | D | Yes | 1/3/13 | 52.6 |\n",
       "| 113 | senate | W000818 | John        | E.      | Walsh      | <!----> | 11/3/60  | MT | D | No  | 1/3/13 | 52.2 |\n",
       "| 113 | senate | T000250 | John        | <!----> | Thune      | <!----> | 1/7/61   | SD | R | Yes | 1/3/13 | 52.0 |\n",
       "| 113 | senate | V000127 | David       | <!----> | Vitter     | <!----> | 5/3/61   | LA | R | Yes | 1/3/13 | 51.7 |\n",
       "| 113 | senate | T000461 | Patrick     | J.      | Toomey     | <!----> | 11/17/61 | PA | R | Yes | 1/3/13 | 51.1 |\n",
       "| 113 | senate | B001230 | Tammy       | <!----> | Baldwin    | <!----> | 2/11/62  | WI | D | Yes | 1/3/13 | 50.9 |\n",
       "| 113 | senate | B001265 | Mark        | <!----> | Begich     | <!----> | 3/30/62  | AK | D | Yes | 1/3/13 | 50.8 |\n",
       "| 113 | senate | F000444 | Jeff        | <!----> | Flake      | <!----> | 12/31/62 | AZ | R | Yes | 1/3/13 | 50.0 |\n",
       "| 113 | senate | P000603 | Rand        | <!----> | Paul       | <!----> | 1/7/63   | KY | R | Yes | 1/3/13 | 50.0 |\n",
       "| 113 | senate | P000590 | Mark        | <!----> | Pryor      | <!----> | 1/10/63  | AR | D | Yes | 1/3/13 | 50.0 |\n",
       "| 113 | senate | C001088 | Chris       | Andrew  | Coons      | <!----> | 9/9/63   | DE | D | Yes | 1/3/13 | 49.3 |\n",
       "| 113 | senate | B001267 | Michael     | F.      | Bennet     | <!----> | 11/28/64 | CO | D | Yes | 1/3/13 | 48.1 |\n",
       "| 113 | senate | S001184 | Tim         | <!----> | Scott      | <!----> | 9/19/65  | SC | R | Yes | 1/3/13 | 47.3 |\n",
       "| 113 | senate | G000555 | Kirsten     | E.      | Gillibrand | <!----> | 12/9/66  | NY | D | Yes | 1/3/13 | 46.1 |\n",
       "| 113 | senate | A000368 | Kelly       | <!----> | Ayotte     | <!----> | 6/27/68  | NH | R | Yes | 1/3/13 | 44.5 |\n",
       "| 113 | senate | B001288 | Cory        | Anthony | Booker     | <!----> | 4/27/69  | NJ | D | No  | 1/3/13 | 43.7 |\n",
       "| 113 | senate | C001098 | Ted         | <!----> | Cruz       | <!----> | 12/22/70 | TX | R | No  | 1/3/13 | 42.0 |\n",
       "| 113 | senate | R000595 | Marco       | <!----> | Rubio      | <!----> | 5/28/71  | FL | R | Yes | 1/3/13 | 41.6 |\n",
       "| 113 | senate | L000577 | Mike        | <!----> | Lee        | <!----> | 6/4/71   | UT | R | Yes | 1/3/13 | 41.6 |\n",
       "| 113 | senate | H001046 | Martin      | <!----> | Heinrich   | <!----> | 10/17/71 | NM | D | Yes | 1/3/13 | 41.2 |\n",
       "| 113 | senate | S001194 | Brian       | Emanuel | Schatz     | <!----> | 10/20/72 | HI | D | Yes | 1/3/13 | 40.2 |\n",
       "| 113 | senate | M001169 | Christopher | S.      | Murphy     | <!----> | 8/3/73   | CT | D | Yes | 1/3/13 | 39.4 |\n",
       "| 113 | senate | B000243 | Max         | S.      | Baucus     | <!----> | 12/10/37 | MT | D | Yes | 1/3/13 | 75.1 |\n",
       "| 113 | senate | C001099 | William     | <!----> | Cowan      | <!----> | 4/3/65   | MA | D | No  | 1/3/13 | 47.8 |\n",
       "| 113 | senate | C001100 | Jeffrey     | Scott   | Chiesa     | <!----> | 6/21/61  | NJ | R | No  | 1/3/13 | 51.5 |\n",
       "| 113 | senate | K000148 | John        | Forbes  | Kerry      | <!----> | 12/10/39 | MA | D | Yes | 1/3/13 | 73.1 |\n",
       "| 113 | senate | L000123 | Frank       | R.      | Lautenberg | <!----> | 1/22/20  | NJ | D | Yes | 1/3/13 | 93.0 |\n",
       "\n"
      ],
      "text/plain": [
       "      congress chamber bioguide firstname   middlename lastname   suffix\n",
       "1     80       house   M000112  Joseph      Jefferson  Mansfield        \n",
       "2     80       house   D000448  Robert      Lee        Doughton         \n",
       "3     80       house   S000001  Adolph      Joachim    Sabath           \n",
       "4     80       house   E000023  Charles     Aubrey     Eaton            \n",
       "5     80       house   L000296  William                Lewis            \n",
       "6     80       house   G000017  James       A.         Gallagher        \n",
       "7     80       house   W000265  Richard     Joseph     Welch            \n",
       "8     80       house   B000565  Sol                    Bloom            \n",
       "9     80       house   H000943  Merlin                 Hull             \n",
       "10    80       house   G000169  Charles     Laceille   Gifford          \n",
       "11    80       house   B000545  Schuyler    Otis       Bland            \n",
       "12    80       house   R000358  John        Marshall   Robsion          \n",
       "13    80       house   L000501  Louis       Leon       Ludlow           \n",
       "14    80       house   K000138  John        Hosea      Kerr             \n",
       "15    80       house   C000932  Robert                 Crosser          \n",
       "16    80       house   L000163  Clarence    Frederick  Lea              \n",
       "17    80       house   K000039  John                   Kee              \n",
       "18    80       house   S000717  Brent                  Spence           \n",
       "19    80       house   A000257  Homer       Daniel     Angell           \n",
       "20    80       house   N000153  Mary        Teresa     Norton           \n",
       "21    80       house   P000395  Charles     Albert     Plumley          \n",
       "22    80       house   D000496  Patrick     Henry      Drewry           \n",
       "23    80       house   H000683  Clare       Eugene     Hoffman          \n",
       "24    80       house   R000113  Daniel      Alden      Reed             \n",
       "25    80       house   B001214  William     Thomas     Byrne            \n",
       "26    80       house   W000718  Roy         Orchard    Woodruff         \n",
       "27    80       house   B000515  William     Wallace    Blackney         \n",
       "28    80       house   M000693  Earl        Cory       Michener         \n",
       "29    80       house   C000590  Howard      Aldridge   Coffin           \n",
       "30    80       house   M000374  Edward      Oscar      McCowen          \n",
       "⋮     ⋮        ⋮       ⋮        ⋮           ⋮          ⋮          ⋮     \n",
       "18606 113      senate  K000360  Mark        Steven     Kirk             \n",
       "18607 113      senate  C001070  Robert      P.         Casey      Jr.   \n",
       "18608 113      senate  H001041  Dean                   Heller           \n",
       "18609 113      senate  K000367  Amy         Jean       Klobuchar        \n",
       "18610 113      senate  W000818  John        E.         Walsh            \n",
       "18611 113      senate  T000250  John                   Thune            \n",
       "18612 113      senate  V000127  David                  Vitter           \n",
       "18613 113      senate  T000461  Patrick     J.         Toomey           \n",
       "18614 113      senate  B001230  Tammy                  Baldwin          \n",
       "18615 113      senate  B001265  Mark                   Begich           \n",
       "18616 113      senate  F000444  Jeff                   Flake            \n",
       "18617 113      senate  P000603  Rand                   Paul             \n",
       "18618 113      senate  P000590  Mark                   Pryor            \n",
       "18619 113      senate  C001088  Chris       Andrew     Coons            \n",
       "18620 113      senate  B001267  Michael     F.         Bennet           \n",
       "18621 113      senate  S001184  Tim                    Scott            \n",
       "18622 113      senate  G000555  Kirsten     E.         Gillibrand       \n",
       "18623 113      senate  A000368  Kelly                  Ayotte           \n",
       "18624 113      senate  B001288  Cory        Anthony    Booker           \n",
       "18625 113      senate  C001098  Ted                    Cruz             \n",
       "18626 113      senate  R000595  Marco                  Rubio            \n",
       "18627 113      senate  L000577  Mike                   Lee              \n",
       "18628 113      senate  H001046  Martin                 Heinrich         \n",
       "18629 113      senate  S001194  Brian       Emanuel    Schatz           \n",
       "18630 113      senate  M001169  Christopher S.         Murphy           \n",
       "18631 113      senate  B000243  Max         S.         Baucus           \n",
       "18632 113      senate  C001099  William                Cowan            \n",
       "18633 113      senate  C001100  Jeffrey     Scott      Chiesa           \n",
       "18634 113      senate  K000148  John        Forbes     Kerry            \n",
       "18635 113      senate  L000123  Frank       R.         Lautenberg       \n",
       "      birthday   state party incumbent termstart age \n",
       "1     1861-02-09 TX    D     Yes       1/3/47    85.9\n",
       "2     1863-11-07 NC    D     Yes       1/3/47    83.2\n",
       "3     1866-04-04 IL    D     Yes       1/3/47    80.7\n",
       "4     1868-03-29 NJ    R     Yes       1/3/47    78.8\n",
       "5     1868-09-22 KY    R     No        1/3/47    78.3\n",
       "6     1869-01-16 PA    R     No        1/3/47    78.0\n",
       "7     1869-02-13 CA    R     Yes       1/3/47    77.9\n",
       "8     1870-03-09 NY    D     Yes       1/3/47    76.8\n",
       "9     1870-12-18 WI    R     Yes       1/3/47    76.0\n",
       "10    1871-03-15 MA    R     Yes       1/3/47    75.8\n",
       "11    1872-05-04 VA    D     Yes       1/3/47    74.7\n",
       "12    1873-01-02 KY    R     Yes       1/3/47    74.0\n",
       "13    1873-06-24 IN    D     Yes       1/3/47    73.5\n",
       "14    1873-12-31 NC    D     Yes       1/3/47    73.0\n",
       "15    1874-06-07 OH    D     Yes       1/3/47    72.6\n",
       "16    1874-07-11 CA    D     Yes       1/3/47    72.5\n",
       "17    1874-08-22 WV    D     Yes       1/3/47    72.4\n",
       "18    1874-12-24 KY    D     Yes       1/3/47    72.0\n",
       "19    1875-01-12 OR    R     Yes       1/3/47    72.0\n",
       "20    1875-03-07 NJ    D     Yes       1/3/47    71.8\n",
       "21    1875-04-14 VT    R     Yes       1/3/47    71.7\n",
       "22    1875-05-24 VA    D     Yes       1/3/47    71.6\n",
       "23    1875-09-10 MI    R     Yes       1/3/47    71.3\n",
       "24    1875-09-15 NY    R     Yes       1/3/47    71.3\n",
       "25    1876-03-06 NY    D     Yes       1/3/47    70.8\n",
       "26    1876-03-14 MI    R     Yes       1/3/47    70.8\n",
       "27    1876-08-28 MI    R     Yes       1/3/47    70.3\n",
       "28    1876-11-30 MI    R     Yes       1/3/47    70.1\n",
       "29    1877-06-11 MI    R     No        1/3/47    69.6\n",
       "30    1877-06-29 OH    R     Yes       1/3/47    69.5\n",
       "⋮     ⋮          ⋮     ⋮     ⋮         ⋮         ⋮   \n",
       "18606 9/15/59    IL    R     Yes       1/3/13    53.3\n",
       "18607 4/13/60    PA    D     Yes       1/3/13    52.7\n",
       "18608 5/10/60    NV    R     Yes       1/3/13    52.7\n",
       "18609 5/25/60    MN    D     Yes       1/3/13    52.6\n",
       "18610 11/3/60    MT    D     No        1/3/13    52.2\n",
       "18611 1/7/61     SD    R     Yes       1/3/13    52.0\n",
       "18612 5/3/61     LA    R     Yes       1/3/13    51.7\n",
       "18613 11/17/61   PA    R     Yes       1/3/13    51.1\n",
       "18614 2/11/62    WI    D     Yes       1/3/13    50.9\n",
       "18615 3/30/62    AK    D     Yes       1/3/13    50.8\n",
       "18616 12/31/62   AZ    R     Yes       1/3/13    50.0\n",
       "18617 1/7/63     KY    R     Yes       1/3/13    50.0\n",
       "18618 1/10/63    AR    D     Yes       1/3/13    50.0\n",
       "18619 9/9/63     DE    D     Yes       1/3/13    49.3\n",
       "18620 11/28/64   CO    D     Yes       1/3/13    48.1\n",
       "18621 9/19/65    SC    R     Yes       1/3/13    47.3\n",
       "18622 12/9/66    NY    D     Yes       1/3/13    46.1\n",
       "18623 6/27/68    NH    R     Yes       1/3/13    44.5\n",
       "18624 4/27/69    NJ    D     No        1/3/13    43.7\n",
       "18625 12/22/70   TX    R     No        1/3/13    42.0\n",
       "18626 5/28/71    FL    R     Yes       1/3/13    41.6\n",
       "18627 6/4/71     UT    R     Yes       1/3/13    41.6\n",
       "18628 10/17/71   NM    D     Yes       1/3/13    41.2\n",
       "18629 10/20/72   HI    D     Yes       1/3/13    40.2\n",
       "18630 8/3/73     CT    D     Yes       1/3/13    39.4\n",
       "18631 12/10/37   MT    D     Yes       1/3/13    75.1\n",
       "18632 4/3/65     MA    D     No        1/3/13    47.8\n",
       "18633 6/21/61    NJ    R     No        1/3/13    51.5\n",
       "18634 12/10/39   MA    D     Yes       1/3/13    73.1\n",
       "18635 1/22/20    NJ    D     Yes       1/3/13    93.0"
      ]
     },
     "metadata": {},
     "output_type": "display_data"
    }
   ],
   "source": [
    "# Exercise 1 code goes here\n",
    "# -------------------------\n",
    "\n",
    "df <- read.csv('/dsa/data/all_datasets/congress-terms.csv')\n",
    "df"
   ]
  },
  {
   "cell_type": "markdown",
   "metadata": {},
   "source": [
    "**Exercise 2**: On average, does the house or the senate have older members? What statistics could you use to find this?"
   ]
  },
  {
   "cell_type": "code",
   "execution_count": 3,
   "metadata": {},
   "outputs": [
    {
     "data": {
      "text/html": [
       "52.3666114168269"
      ],
      "text/latex": [
       "52.3666114168269"
      ],
      "text/markdown": [
       "52.3666114168269"
      ],
      "text/plain": [
       "[1] 52.36661"
      ]
     },
     "metadata": {},
     "output_type": "display_data"
    },
    {
     "data": {
      "text/html": [
       "57.3355292792793"
      ],
      "text/latex": [
       "57.3355292792793"
      ],
      "text/markdown": [
       "57.3355292792793"
      ],
      "text/plain": [
       "[1] 57.33553"
      ]
     },
     "metadata": {},
     "output_type": "display_data"
    }
   ],
   "source": [
    "# Exercise 2 code goes here\n",
    "# -------------------------\n",
    "\n",
    "df1 <- split(df, df$chamber)\n",
    "\n",
    "house <- df1$house\n",
    "senate <- df1$senate\n",
    "\n",
    "mean(house$age)\n",
    "mean(senate$age)"
   ]
  },
  {
   "cell_type": "raw",
   "metadata": {},
   "source": [
    "Answer the question above here.\n",
    "2. Using the mean statistics, the senate has older members on average."
   ]
  },
  {
   "cell_type": "markdown",
   "metadata": {},
   "source": [
    "**Exercise 3**: Who is the oldest person in this dataset? The youngest?"
   ]
  },
  {
   "cell_type": "code",
   "execution_count": 4,
   "metadata": {},
   "outputs": [
    {
     "name": "stderr",
     "output_type": "stream",
     "text": [
      "\n",
      "Attaching package: ‘dplyr’\n",
      "\n",
      "The following objects are masked from ‘package:stats’:\n",
      "\n",
      "    filter, lag\n",
      "\n",
      "The following objects are masked from ‘package:base’:\n",
      "\n",
      "    intersect, setdiff, setequal, union\n",
      "\n"
     ]
    },
    {
     "data": {
      "text/html": [
       "<table>\n",
       "<caption>A data.frame: 1 × 13</caption>\n",
       "<thead>\n",
       "\t<tr><th scope=col>congress</th><th scope=col>chamber</th><th scope=col>bioguide</th><th scope=col>firstname</th><th scope=col>middlename</th><th scope=col>lastname</th><th scope=col>suffix</th><th scope=col>birthday</th><th scope=col>state</th><th scope=col>party</th><th scope=col>incumbent</th><th scope=col>termstart</th><th scope=col>age</th></tr>\n",
       "\t<tr><th scope=col>&lt;int&gt;</th><th scope=col>&lt;fct&gt;</th><th scope=col>&lt;fct&gt;</th><th scope=col>&lt;fct&gt;</th><th scope=col>&lt;fct&gt;</th><th scope=col>&lt;fct&gt;</th><th scope=col>&lt;fct&gt;</th><th scope=col>&lt;fct&gt;</th><th scope=col>&lt;fct&gt;</th><th scope=col>&lt;fct&gt;</th><th scope=col>&lt;fct&gt;</th><th scope=col>&lt;fct&gt;</th><th scope=col>&lt;dbl&gt;</th></tr>\n",
       "</thead>\n",
       "<tbody>\n",
       "\t<tr><td>107</td><td>senate</td><td>T000254</td><td>J.</td><td>Strom</td><td>Thurmond</td><td></td><td>1902-12-05</td><td>SC</td><td>R</td><td>Yes</td><td>1/3/01</td><td>98.1</td></tr>\n",
       "</tbody>\n",
       "</table>\n"
      ],
      "text/latex": [
       "A data.frame: 1 × 13\n",
       "\\begin{tabular}{r|lllllllllllll}\n",
       " congress & chamber & bioguide & firstname & middlename & lastname & suffix & birthday & state & party & incumbent & termstart & age\\\\\n",
       " <int> & <fct> & <fct> & <fct> & <fct> & <fct> & <fct> & <fct> & <fct> & <fct> & <fct> & <fct> & <dbl>\\\\\n",
       "\\hline\n",
       "\t 107 & senate & T000254 & J. & Strom & Thurmond &  & 1902-12-05 & SC & R & Yes & 1/3/01 & 98.1\\\\\n",
       "\\end{tabular}\n"
      ],
      "text/markdown": [
       "\n",
       "A data.frame: 1 × 13\n",
       "\n",
       "| congress &lt;int&gt; | chamber &lt;fct&gt; | bioguide &lt;fct&gt; | firstname &lt;fct&gt; | middlename &lt;fct&gt; | lastname &lt;fct&gt; | suffix &lt;fct&gt; | birthday &lt;fct&gt; | state &lt;fct&gt; | party &lt;fct&gt; | incumbent &lt;fct&gt; | termstart &lt;fct&gt; | age &lt;dbl&gt; |\n",
       "|---|---|---|---|---|---|---|---|---|---|---|---|---|\n",
       "| 107 | senate | T000254 | J. | Strom | Thurmond | <!----> | 1902-12-05 | SC | R | Yes | 1/3/01 | 98.1 |\n",
       "\n"
      ],
      "text/plain": [
       "  congress chamber bioguide firstname middlename lastname suffix birthday  \n",
       "1 107      senate  T000254  J.        Strom      Thurmond        1902-12-05\n",
       "  state party incumbent termstart age \n",
       "1 SC    R     Yes       1/3/01    98.1"
      ]
     },
     "metadata": {},
     "output_type": "display_data"
    },
    {
     "data": {
      "text/html": [
       "<table>\n",
       "<caption>A data.frame: 1 × 13</caption>\n",
       "<thead>\n",
       "\t<tr><th scope=col>congress</th><th scope=col>chamber</th><th scope=col>bioguide</th><th scope=col>firstname</th><th scope=col>middlename</th><th scope=col>lastname</th><th scope=col>suffix</th><th scope=col>birthday</th><th scope=col>state</th><th scope=col>party</th><th scope=col>incumbent</th><th scope=col>termstart</th><th scope=col>age</th></tr>\n",
       "\t<tr><th scope=col>&lt;int&gt;</th><th scope=col>&lt;fct&gt;</th><th scope=col>&lt;fct&gt;</th><th scope=col>&lt;fct&gt;</th><th scope=col>&lt;fct&gt;</th><th scope=col>&lt;fct&gt;</th><th scope=col>&lt;fct&gt;</th><th scope=col>&lt;fct&gt;</th><th scope=col>&lt;fct&gt;</th><th scope=col>&lt;fct&gt;</th><th scope=col>&lt;fct&gt;</th><th scope=col>&lt;fct&gt;</th><th scope=col>&lt;dbl&gt;</th></tr>\n",
       "</thead>\n",
       "<tbody>\n",
       "\t<tr><td>89</td><td>house</td><td>J000151</td><td>Jed</td><td>Joseph</td><td>Johnson</td><td>Jr.</td><td>12/27/39</td><td>OK</td><td>D</td><td>No</td><td>1/4/65</td><td>25</td></tr>\n",
       "</tbody>\n",
       "</table>\n"
      ],
      "text/latex": [
       "A data.frame: 1 × 13\n",
       "\\begin{tabular}{r|lllllllllllll}\n",
       " congress & chamber & bioguide & firstname & middlename & lastname & suffix & birthday & state & party & incumbent & termstart & age\\\\\n",
       " <int> & <fct> & <fct> & <fct> & <fct> & <fct> & <fct> & <fct> & <fct> & <fct> & <fct> & <fct> & <dbl>\\\\\n",
       "\\hline\n",
       "\t 89 & house & J000151 & Jed & Joseph & Johnson & Jr. & 12/27/39 & OK & D & No & 1/4/65 & 25\\\\\n",
       "\\end{tabular}\n"
      ],
      "text/markdown": [
       "\n",
       "A data.frame: 1 × 13\n",
       "\n",
       "| congress &lt;int&gt; | chamber &lt;fct&gt; | bioguide &lt;fct&gt; | firstname &lt;fct&gt; | middlename &lt;fct&gt; | lastname &lt;fct&gt; | suffix &lt;fct&gt; | birthday &lt;fct&gt; | state &lt;fct&gt; | party &lt;fct&gt; | incumbent &lt;fct&gt; | termstart &lt;fct&gt; | age &lt;dbl&gt; |\n",
       "|---|---|---|---|---|---|---|---|---|---|---|---|---|\n",
       "| 89 | house | J000151 | Jed | Joseph | Johnson | Jr. | 12/27/39 | OK | D | No | 1/4/65 | 25 |\n",
       "\n"
      ],
      "text/plain": [
       "  congress chamber bioguide firstname middlename lastname suffix birthday state\n",
       "1 89       house   J000151  Jed       Joseph     Johnson  Jr.    12/27/39 OK   \n",
       "  party incumbent termstart age\n",
       "1 D     No        1/4/65    25 "
      ]
     },
     "metadata": {},
     "output_type": "display_data"
    }
   ],
   "source": [
    "# Exercise 3 code goes here\n",
    "# -------------------------\n",
    "\n",
    "library(dplyr)\n",
    "\n",
    "oldest <- df %>% filter(age == max(age))\n",
    "oldest\n",
    "\n",
    "youngest <- df %>% filter(age == min(age))\n",
    "youngest"
   ]
  },
  {
   "cell_type": "raw",
   "metadata": {},
   "source": [
    "Answer the question above here.\n",
    "3. The oldest is J. Strom Thurmond, and the youngest is Jed Joseph Johnson."
   ]
  },
  {
   "cell_type": "markdown",
   "metadata": {},
   "source": [
    "**Exercise 4**: Who is the oldest and youngest person per political party?"
   ]
  },
  {
   "cell_type": "code",
   "execution_count": 5,
   "metadata": {},
   "outputs": [
    {
     "data": {
      "text/html": [
       "<table>\n",
       "<caption>A grouped_df: 7 × 13</caption>\n",
       "<thead>\n",
       "\t<tr><th scope=col>congress</th><th scope=col>chamber</th><th scope=col>bioguide</th><th scope=col>firstname</th><th scope=col>middlename</th><th scope=col>lastname</th><th scope=col>suffix</th><th scope=col>birthday</th><th scope=col>state</th><th scope=col>party</th><th scope=col>incumbent</th><th scope=col>termstart</th><th scope=col>age</th></tr>\n",
       "\t<tr><th scope=col>&lt;int&gt;</th><th scope=col>&lt;fct&gt;</th><th scope=col>&lt;fct&gt;</th><th scope=col>&lt;fct&gt;</th><th scope=col>&lt;fct&gt;</th><th scope=col>&lt;fct&gt;</th><th scope=col>&lt;fct&gt;</th><th scope=col>&lt;fct&gt;</th><th scope=col>&lt;fct&gt;</th><th scope=col>&lt;fct&gt;</th><th scope=col>&lt;fct&gt;</th><th scope=col>&lt;fct&gt;</th><th scope=col>&lt;dbl&gt;</th></tr>\n",
       "</thead>\n",
       "<tbody>\n",
       "\t<tr><td> 80</td><td>house </td><td>I000046</td><td>Leo     </td><td>         </td><td>Isacson  </td><td>   </td><td>4/20/10 </td><td>NY</td><td>AL</td><td>No</td><td>1/3/47 </td><td>36.7</td></tr>\n",
       "\t<tr><td> 81</td><td>house </td><td>R000425</td><td>Franklin</td><td>Delano   </td><td>Roosevelt</td><td>Jr.</td><td>8/17/14 </td><td>NY</td><td>L </td><td>No</td><td>1/3/49 </td><td>34.4</td></tr>\n",
       "\t<tr><td> 86</td><td>house </td><td>A000105</td><td>Thomas  </td><td>Dale     </td><td>Alford   </td><td>   </td><td>1/28/16 </td><td>AR</td><td>ID</td><td>No</td><td>1/7/59 </td><td>42.9</td></tr>\n",
       "\t<tr><td> 88</td><td>senate</td><td>M000851</td><td>Walter  </td><td>Frederick</td><td>Mondale  </td><td>   </td><td>1/5/28  </td><td>MN</td><td>I </td><td>No</td><td>1/9/63 </td><td>35.0</td></tr>\n",
       "\t<tr><td> 89</td><td>house </td><td>J000151</td><td>Jed     </td><td>Joseph   </td><td>Johnson  </td><td>Jr.</td><td>12/27/39</td><td>OK</td><td>D </td><td>No</td><td>1/4/65 </td><td>25.0</td></tr>\n",
       "\t<tr><td> 94</td><td>house </td><td>E000175</td><td>David   </td><td>Farnham  </td><td>Emery    </td><td>   </td><td>9/1/48  </td><td>ME</td><td>R </td><td>No</td><td>1/14/75</td><td>26.4</td></tr>\n",
       "\t<tr><td>107</td><td>house </td><td>P000586</td><td>Adam    </td><td>H.       </td><td>Putnam   </td><td>   </td><td>7/31/74 </td><td>FL</td><td>R </td><td>No</td><td>1/3/01 </td><td>26.4</td></tr>\n",
       "</tbody>\n",
       "</table>\n"
      ],
      "text/latex": [
       "A grouped_df: 7 × 13\n",
       "\\begin{tabular}{r|lllllllllllll}\n",
       " congress & chamber & bioguide & firstname & middlename & lastname & suffix & birthday & state & party & incumbent & termstart & age\\\\\n",
       " <int> & <fct> & <fct> & <fct> & <fct> & <fct> & <fct> & <fct> & <fct> & <fct> & <fct> & <fct> & <dbl>\\\\\n",
       "\\hline\n",
       "\t  80 & house  & I000046 & Leo      &           & Isacson   &     & 4/20/10  & NY & AL & No & 1/3/47  & 36.7\\\\\n",
       "\t  81 & house  & R000425 & Franklin & Delano    & Roosevelt & Jr. & 8/17/14  & NY & L  & No & 1/3/49  & 34.4\\\\\n",
       "\t  86 & house  & A000105 & Thomas   & Dale      & Alford    &     & 1/28/16  & AR & ID & No & 1/7/59  & 42.9\\\\\n",
       "\t  88 & senate & M000851 & Walter   & Frederick & Mondale   &     & 1/5/28   & MN & I  & No & 1/9/63  & 35.0\\\\\n",
       "\t  89 & house  & J000151 & Jed      & Joseph    & Johnson   & Jr. & 12/27/39 & OK & D  & No & 1/4/65  & 25.0\\\\\n",
       "\t  94 & house  & E000175 & David    & Farnham   & Emery     &     & 9/1/48   & ME & R  & No & 1/14/75 & 26.4\\\\\n",
       "\t 107 & house  & P000586 & Adam     & H.        & Putnam    &     & 7/31/74  & FL & R  & No & 1/3/01  & 26.4\\\\\n",
       "\\end{tabular}\n"
      ],
      "text/markdown": [
       "\n",
       "A grouped_df: 7 × 13\n",
       "\n",
       "| congress &lt;int&gt; | chamber &lt;fct&gt; | bioguide &lt;fct&gt; | firstname &lt;fct&gt; | middlename &lt;fct&gt; | lastname &lt;fct&gt; | suffix &lt;fct&gt; | birthday &lt;fct&gt; | state &lt;fct&gt; | party &lt;fct&gt; | incumbent &lt;fct&gt; | termstart &lt;fct&gt; | age &lt;dbl&gt; |\n",
       "|---|---|---|---|---|---|---|---|---|---|---|---|---|\n",
       "|  80 | house  | I000046 | Leo      | <!----> | Isacson   | <!----> | 4/20/10  | NY | AL | No | 1/3/47  | 36.7 |\n",
       "|  81 | house  | R000425 | Franklin | Delano    | Roosevelt | Jr. | 8/17/14  | NY | L  | No | 1/3/49  | 34.4 |\n",
       "|  86 | house  | A000105 | Thomas   | Dale      | Alford    | <!----> | 1/28/16  | AR | ID | No | 1/7/59  | 42.9 |\n",
       "|  88 | senate | M000851 | Walter   | Frederick | Mondale   | <!----> | 1/5/28   | MN | I  | No | 1/9/63  | 35.0 |\n",
       "|  89 | house  | J000151 | Jed      | Joseph    | Johnson   | Jr. | 12/27/39 | OK | D  | No | 1/4/65  | 25.0 |\n",
       "|  94 | house  | E000175 | David    | Farnham   | Emery     | <!----> | 9/1/48   | ME | R  | No | 1/14/75 | 26.4 |\n",
       "| 107 | house  | P000586 | Adam     | H.        | Putnam    | <!----> | 7/31/74  | FL | R  | No | 1/3/01  | 26.4 |\n",
       "\n"
      ],
      "text/plain": [
       "  congress chamber bioguide firstname middlename lastname  suffix birthday\n",
       "1  80      house   I000046  Leo                  Isacson          4/20/10 \n",
       "2  81      house   R000425  Franklin  Delano     Roosevelt Jr.    8/17/14 \n",
       "3  86      house   A000105  Thomas    Dale       Alford           1/28/16 \n",
       "4  88      senate  M000851  Walter    Frederick  Mondale          1/5/28  \n",
       "5  89      house   J000151  Jed       Joseph     Johnson   Jr.    12/27/39\n",
       "6  94      house   E000175  David     Farnham    Emery            9/1/48  \n",
       "7 107      house   P000586  Adam      H.         Putnam           7/31/74 \n",
       "  state party incumbent termstart age \n",
       "1 NY    AL    No        1/3/47    36.7\n",
       "2 NY    L     No        1/3/49    34.4\n",
       "3 AR    ID    No        1/7/59    42.9\n",
       "4 MN    I     No        1/9/63    35.0\n",
       "5 OK    D     No        1/4/65    25.0\n",
       "6 ME    R     No        1/14/75   26.4\n",
       "7 FL    R     No        1/3/01    26.4"
      ]
     },
     "metadata": {},
     "output_type": "display_data"
    },
    {
     "data": {
      "text/html": [
       "<table>\n",
       "<caption>A grouped_df: 6 × 13</caption>\n",
       "<thead>\n",
       "\t<tr><th scope=col>congress</th><th scope=col>chamber</th><th scope=col>bioguide</th><th scope=col>firstname</th><th scope=col>middlename</th><th scope=col>lastname</th><th scope=col>suffix</th><th scope=col>birthday</th><th scope=col>state</th><th scope=col>party</th><th scope=col>incumbent</th><th scope=col>termstart</th><th scope=col>age</th></tr>\n",
       "\t<tr><th scope=col>&lt;int&gt;</th><th scope=col>&lt;fct&gt;</th><th scope=col>&lt;fct&gt;</th><th scope=col>&lt;fct&gt;</th><th scope=col>&lt;fct&gt;</th><th scope=col>&lt;fct&gt;</th><th scope=col>&lt;fct&gt;</th><th scope=col>&lt;fct&gt;</th><th scope=col>&lt;fct&gt;</th><th scope=col>&lt;fct&gt;</th><th scope=col>&lt;fct&gt;</th><th scope=col>&lt;fct&gt;</th><th scope=col>&lt;dbl&gt;</th></tr>\n",
       "</thead>\n",
       "<tbody>\n",
       "\t<tr><td> 81</td><td>house </td><td>M000122</td><td>Vito    </td><td>Anthony</td><td>Marcantonio</td><td>   </td><td>1902-12-10</td><td>NY</td><td>AL</td><td>Yes</td><td>1/3/49</td><td>46.1</td></tr>\n",
       "\t<tr><td> 81</td><td>house </td><td>R000425</td><td>Franklin</td><td>Delano </td><td>Roosevelt  </td><td>Jr.</td><td>8/17/14   </td><td>NY</td><td>L </td><td>No </td><td>1/3/49</td><td>34.4</td></tr>\n",
       "\t<tr><td>107</td><td>senate</td><td>T000254</td><td>J.      </td><td>Strom  </td><td>Thurmond   </td><td>   </td><td>1902-12-05</td><td>SC</td><td>R </td><td>Yes</td><td>1/3/01</td><td>98.1</td></tr>\n",
       "\t<tr><td>111</td><td>senate</td><td>L000304</td><td>Joseph  </td><td>I.     </td><td>Lieberman  </td><td>   </td><td>2/24/42   </td><td>CT</td><td>ID</td><td>Yes</td><td>1/6/09</td><td>66.9</td></tr>\n",
       "\t<tr><td>111</td><td>senate</td><td>B001210</td><td>Robert  </td><td>C.     </td><td>Byrd       </td><td>   </td><td>11/19/13  </td><td>WV</td><td>D </td><td>Yes</td><td>1/6/09</td><td>95.1</td></tr>\n",
       "\t<tr><td>113</td><td>senate</td><td>S000033</td><td>Bernard </td><td>       </td><td>Sanders    </td><td>   </td><td>9/8/41    </td><td>VT</td><td>I </td><td>Yes</td><td>1/3/13</td><td>71.3</td></tr>\n",
       "</tbody>\n",
       "</table>\n"
      ],
      "text/latex": [
       "A grouped_df: 6 × 13\n",
       "\\begin{tabular}{r|lllllllllllll}\n",
       " congress & chamber & bioguide & firstname & middlename & lastname & suffix & birthday & state & party & incumbent & termstart & age\\\\\n",
       " <int> & <fct> & <fct> & <fct> & <fct> & <fct> & <fct> & <fct> & <fct> & <fct> & <fct> & <fct> & <dbl>\\\\\n",
       "\\hline\n",
       "\t  81 & house  & M000122 & Vito     & Anthony & Marcantonio &     & 1902-12-10 & NY & AL & Yes & 1/3/49 & 46.1\\\\\n",
       "\t  81 & house  & R000425 & Franklin & Delano  & Roosevelt   & Jr. & 8/17/14    & NY & L  & No  & 1/3/49 & 34.4\\\\\n",
       "\t 107 & senate & T000254 & J.       & Strom   & Thurmond    &     & 1902-12-05 & SC & R  & Yes & 1/3/01 & 98.1\\\\\n",
       "\t 111 & senate & L000304 & Joseph   & I.      & Lieberman   &     & 2/24/42    & CT & ID & Yes & 1/6/09 & 66.9\\\\\n",
       "\t 111 & senate & B001210 & Robert   & C.      & Byrd        &     & 11/19/13   & WV & D  & Yes & 1/6/09 & 95.1\\\\\n",
       "\t 113 & senate & S000033 & Bernard  &         & Sanders     &     & 9/8/41     & VT & I  & Yes & 1/3/13 & 71.3\\\\\n",
       "\\end{tabular}\n"
      ],
      "text/markdown": [
       "\n",
       "A grouped_df: 6 × 13\n",
       "\n",
       "| congress &lt;int&gt; | chamber &lt;fct&gt; | bioguide &lt;fct&gt; | firstname &lt;fct&gt; | middlename &lt;fct&gt; | lastname &lt;fct&gt; | suffix &lt;fct&gt; | birthday &lt;fct&gt; | state &lt;fct&gt; | party &lt;fct&gt; | incumbent &lt;fct&gt; | termstart &lt;fct&gt; | age &lt;dbl&gt; |\n",
       "|---|---|---|---|---|---|---|---|---|---|---|---|---|\n",
       "|  81 | house  | M000122 | Vito     | Anthony | Marcantonio | <!----> | 1902-12-10 | NY | AL | Yes | 1/3/49 | 46.1 |\n",
       "|  81 | house  | R000425 | Franklin | Delano  | Roosevelt   | Jr. | 8/17/14    | NY | L  | No  | 1/3/49 | 34.4 |\n",
       "| 107 | senate | T000254 | J.       | Strom   | Thurmond    | <!----> | 1902-12-05 | SC | R  | Yes | 1/3/01 | 98.1 |\n",
       "| 111 | senate | L000304 | Joseph   | I.      | Lieberman   | <!----> | 2/24/42    | CT | ID | Yes | 1/6/09 | 66.9 |\n",
       "| 111 | senate | B001210 | Robert   | C.      | Byrd        | <!----> | 11/19/13   | WV | D  | Yes | 1/6/09 | 95.1 |\n",
       "| 113 | senate | S000033 | Bernard  | <!----> | Sanders     | <!----> | 9/8/41     | VT | I  | Yes | 1/3/13 | 71.3 |\n",
       "\n"
      ],
      "text/plain": [
       "  congress chamber bioguide firstname middlename lastname    suffix birthday  \n",
       "1  81      house   M000122  Vito      Anthony    Marcantonio        1902-12-10\n",
       "2  81      house   R000425  Franklin  Delano     Roosevelt   Jr.    8/17/14   \n",
       "3 107      senate  T000254  J.        Strom      Thurmond           1902-12-05\n",
       "4 111      senate  L000304  Joseph    I.         Lieberman          2/24/42   \n",
       "5 111      senate  B001210  Robert    C.         Byrd               11/19/13  \n",
       "6 113      senate  S000033  Bernard              Sanders            9/8/41    \n",
       "  state party incumbent termstart age \n",
       "1 NY    AL    Yes       1/3/49    46.1\n",
       "2 NY    L     No        1/3/49    34.4\n",
       "3 SC    R     Yes       1/3/01    98.1\n",
       "4 CT    ID    Yes       1/6/09    66.9\n",
       "5 WV    D     Yes       1/6/09    95.1\n",
       "6 VT    I     Yes       1/3/13    71.3"
      ]
     },
     "metadata": {},
     "output_type": "display_data"
    }
   ],
   "source": [
    "# Exercise 4 code goes here\n",
    "# -------------------------\n",
    "\n",
    "library(dplyr)\n",
    "\n",
    "youngest <- df %>% group_by(party) %>% filter(age == min(age))\n",
    "youngest\n",
    "\n",
    "oldest <- df %>% group_by(party) %>% filter(age == max(age))\n",
    "oldest"
   ]
  },
  {
   "cell_type": "raw",
   "metadata": {},
   "source": [
    "Answer the question above here.\n",
    "4.\n",
    "\n",
    "Oldest congressmen per party:\n",
    "AL: Vito Anthony Marcantonio\n",
    "L: Franklin Delano Roosevelt Jr.\n",
    "R: J. Strom Thurmond\n",
    "ID: Joseph I. Lieberman\n",
    "D: Robert C. Byrd\n",
    "I: Bernard Sanders\n",
    "\n",
    "Youngest congressmen per party:\n",
    "AL: Leo Isacson\n",
    "L: Franklin Delano Roosevelt Jr.\n",
    "ID: Thomas Dale Alford\n",
    "I: Walter Frederick Mondale\n",
    "D: Jed Joseph Johnson\n",
    "R: (tie) David Farnham Emery, Adam H. Putnam"
   ]
  },
  {
   "cell_type": "markdown",
   "metadata": {},
   "source": [
    "There is a column in this data frame called `bioguide`. This is a unique id for each individual in the data set. As you are probably aware, many politicians have multiple terms.\n",
    "\n",
    "**Exercise 5**: Who is the politician with the most terms?"
   ]
  },
  {
   "cell_type": "code",
   "execution_count": 6,
   "metadata": {},
   "outputs": [
    {
     "data": {
      "text/html": [
       "<table>\n",
       "<caption>A data.frame: 1 × 13</caption>\n",
       "<thead>\n",
       "\t<tr><th scope=col>congress</th><th scope=col>chamber</th><th scope=col>bioguide</th><th scope=col>firstname</th><th scope=col>middlename</th><th scope=col>lastname</th><th scope=col>suffix</th><th scope=col>birthday</th><th scope=col>state</th><th scope=col>party</th><th scope=col>incumbent</th><th scope=col>termstart</th><th scope=col>age</th></tr>\n",
       "\t<tr><th scope=col>&lt;int&gt;</th><th scope=col>&lt;fct&gt;</th><th scope=col>&lt;fct&gt;</th><th scope=col>&lt;fct&gt;</th><th scope=col>&lt;fct&gt;</th><th scope=col>&lt;fct&gt;</th><th scope=col>&lt;fct&gt;</th><th scope=col>&lt;fct&gt;</th><th scope=col>&lt;fct&gt;</th><th scope=col>&lt;fct&gt;</th><th scope=col>&lt;fct&gt;</th><th scope=col>&lt;fct&gt;</th><th scope=col>&lt;dbl&gt;</th></tr>\n",
       "</thead>\n",
       "<tbody>\n",
       "\t<tr><td>113</td><td>house</td><td>D000355</td><td>John</td><td>D.</td><td>Dingell</td><td></td><td>7/8/26</td><td>MI</td><td>D</td><td>Yes</td><td>1/3/13</td><td>86.5</td></tr>\n",
       "</tbody>\n",
       "</table>\n"
      ],
      "text/latex": [
       "A data.frame: 1 × 13\n",
       "\\begin{tabular}{r|lllllllllllll}\n",
       " congress & chamber & bioguide & firstname & middlename & lastname & suffix & birthday & state & party & incumbent & termstart & age\\\\\n",
       " <int> & <fct> & <fct> & <fct> & <fct> & <fct> & <fct> & <fct> & <fct> & <fct> & <fct> & <fct> & <dbl>\\\\\n",
       "\\hline\n",
       "\t 113 & house & D000355 & John & D. & Dingell &  & 7/8/26 & MI & D & Yes & 1/3/13 & 86.5\\\\\n",
       "\\end{tabular}\n"
      ],
      "text/markdown": [
       "\n",
       "A data.frame: 1 × 13\n",
       "\n",
       "| congress &lt;int&gt; | chamber &lt;fct&gt; | bioguide &lt;fct&gt; | firstname &lt;fct&gt; | middlename &lt;fct&gt; | lastname &lt;fct&gt; | suffix &lt;fct&gt; | birthday &lt;fct&gt; | state &lt;fct&gt; | party &lt;fct&gt; | incumbent &lt;fct&gt; | termstart &lt;fct&gt; | age &lt;dbl&gt; |\n",
       "|---|---|---|---|---|---|---|---|---|---|---|---|---|\n",
       "| 113 | house | D000355 | John | D. | Dingell | <!----> | 7/8/26 | MI | D | Yes | 1/3/13 | 86.5 |\n",
       "\n"
      ],
      "text/plain": [
       "  congress chamber bioguide firstname middlename lastname suffix birthday state\n",
       "1 113      house   D000355  John      D.         Dingell         7/8/26   MI   \n",
       "  party incumbent termstart age \n",
       "1 D     Yes       1/3/13    86.5"
      ]
     },
     "metadata": {},
     "output_type": "display_data"
    }
   ],
   "source": [
    "# Exercise 5 code goes here\n",
    "# -------------------------\n",
    "\n",
    "getmode <- function(v) {\n",
    "   uniqv <- unique(v)\n",
    "   uniqv[which.max(tabulate(match(v, uniqv)))]\n",
    "}\n",
    "\n",
    "most_terms <- getmode(df$bioguide)\n",
    "\n",
    "library(dplyr)\n",
    "df3 <- df %>% filter(bioguide == most_terms) %>% filter(congress == max(congress))\n",
    "df3"
   ]
  },
  {
   "cell_type": "raw",
   "metadata": {},
   "source": [
    "Answer the question above here.\n",
    "5. John D. Dingell has served the most terms."
   ]
  },
  {
   "cell_type": "markdown",
   "metadata": {},
   "source": [
    "**Exercise 6**: Who has had the most Senate terms? House terms?"
   ]
  },
  {
   "cell_type": "code",
   "execution_count": 7,
   "metadata": {},
   "outputs": [
    {
     "data": {
      "text/html": [
       "<table>\n",
       "<caption>A data.frame: 1 × 13</caption>\n",
       "<thead>\n",
       "\t<tr><th scope=col>congress</th><th scope=col>chamber</th><th scope=col>bioguide</th><th scope=col>firstname</th><th scope=col>middlename</th><th scope=col>lastname</th><th scope=col>suffix</th><th scope=col>birthday</th><th scope=col>state</th><th scope=col>party</th><th scope=col>incumbent</th><th scope=col>termstart</th><th scope=col>age</th></tr>\n",
       "\t<tr><th scope=col>&lt;int&gt;</th><th scope=col>&lt;fct&gt;</th><th scope=col>&lt;fct&gt;</th><th scope=col>&lt;fct&gt;</th><th scope=col>&lt;fct&gt;</th><th scope=col>&lt;fct&gt;</th><th scope=col>&lt;fct&gt;</th><th scope=col>&lt;fct&gt;</th><th scope=col>&lt;fct&gt;</th><th scope=col>&lt;fct&gt;</th><th scope=col>&lt;fct&gt;</th><th scope=col>&lt;fct&gt;</th><th scope=col>&lt;dbl&gt;</th></tr>\n",
       "</thead>\n",
       "<tbody>\n",
       "\t<tr><td>84</td><td>house</td><td>D000355</td><td>John</td><td>D.</td><td>Dingell</td><td></td><td>7/8/26</td><td>MI</td><td>D</td><td>No</td><td>1/5/55</td><td>28.5</td></tr>\n",
       "</tbody>\n",
       "</table>\n"
      ],
      "text/latex": [
       "A data.frame: 1 × 13\n",
       "\\begin{tabular}{r|lllllllllllll}\n",
       " congress & chamber & bioguide & firstname & middlename & lastname & suffix & birthday & state & party & incumbent & termstart & age\\\\\n",
       " <int> & <fct> & <fct> & <fct> & <fct> & <fct> & <fct> & <fct> & <fct> & <fct> & <fct> & <fct> & <dbl>\\\\\n",
       "\\hline\n",
       "\t 84 & house & D000355 & John & D. & Dingell &  & 7/8/26 & MI & D & No & 1/5/55 & 28.5\\\\\n",
       "\\end{tabular}\n"
      ],
      "text/markdown": [
       "\n",
       "A data.frame: 1 × 13\n",
       "\n",
       "| congress &lt;int&gt; | chamber &lt;fct&gt; | bioguide &lt;fct&gt; | firstname &lt;fct&gt; | middlename &lt;fct&gt; | lastname &lt;fct&gt; | suffix &lt;fct&gt; | birthday &lt;fct&gt; | state &lt;fct&gt; | party &lt;fct&gt; | incumbent &lt;fct&gt; | termstart &lt;fct&gt; | age &lt;dbl&gt; |\n",
       "|---|---|---|---|---|---|---|---|---|---|---|---|---|\n",
       "| 84 | house | D000355 | John | D. | Dingell | <!----> | 7/8/26 | MI | D | No | 1/5/55 | 28.5 |\n",
       "\n"
      ],
      "text/plain": [
       "  congress chamber bioguide firstname middlename lastname suffix birthday state\n",
       "1 84       house   D000355  John      D.         Dingell         7/8/26   MI   \n",
       "  party incumbent termstart age \n",
       "1 D     No        1/5/55    28.5"
      ]
     },
     "metadata": {},
     "output_type": "display_data"
    },
    {
     "data": {
      "text/html": [
       "<table>\n",
       "<caption>A data.frame: 1 × 13</caption>\n",
       "<thead>\n",
       "\t<tr><th scope=col>congress</th><th scope=col>chamber</th><th scope=col>bioguide</th><th scope=col>firstname</th><th scope=col>middlename</th><th scope=col>lastname</th><th scope=col>suffix</th><th scope=col>birthday</th><th scope=col>state</th><th scope=col>party</th><th scope=col>incumbent</th><th scope=col>termstart</th><th scope=col>age</th></tr>\n",
       "\t<tr><th scope=col>&lt;int&gt;</th><th scope=col>&lt;fct&gt;</th><th scope=col>&lt;fct&gt;</th><th scope=col>&lt;fct&gt;</th><th scope=col>&lt;fct&gt;</th><th scope=col>&lt;fct&gt;</th><th scope=col>&lt;fct&gt;</th><th scope=col>&lt;fct&gt;</th><th scope=col>&lt;fct&gt;</th><th scope=col>&lt;fct&gt;</th><th scope=col>&lt;fct&gt;</th><th scope=col>&lt;fct&gt;</th><th scope=col>&lt;dbl&gt;</th></tr>\n",
       "</thead>\n",
       "<tbody>\n",
       "\t<tr><td>83</td><td>senate</td><td>T000254</td><td>J.</td><td>Strom</td><td>Thurmond</td><td></td><td>1902-12-05</td><td>SC</td><td>D</td><td>No</td><td>1/3/53</td><td>50.1</td></tr>\n",
       "</tbody>\n",
       "</table>\n"
      ],
      "text/latex": [
       "A data.frame: 1 × 13\n",
       "\\begin{tabular}{r|lllllllllllll}\n",
       " congress & chamber & bioguide & firstname & middlename & lastname & suffix & birthday & state & party & incumbent & termstart & age\\\\\n",
       " <int> & <fct> & <fct> & <fct> & <fct> & <fct> & <fct> & <fct> & <fct> & <fct> & <fct> & <fct> & <dbl>\\\\\n",
       "\\hline\n",
       "\t 83 & senate & T000254 & J. & Strom & Thurmond &  & 1902-12-05 & SC & D & No & 1/3/53 & 50.1\\\\\n",
       "\\end{tabular}\n"
      ],
      "text/markdown": [
       "\n",
       "A data.frame: 1 × 13\n",
       "\n",
       "| congress &lt;int&gt; | chamber &lt;fct&gt; | bioguide &lt;fct&gt; | firstname &lt;fct&gt; | middlename &lt;fct&gt; | lastname &lt;fct&gt; | suffix &lt;fct&gt; | birthday &lt;fct&gt; | state &lt;fct&gt; | party &lt;fct&gt; | incumbent &lt;fct&gt; | termstart &lt;fct&gt; | age &lt;dbl&gt; |\n",
       "|---|---|---|---|---|---|---|---|---|---|---|---|---|\n",
       "| 83 | senate | T000254 | J. | Strom | Thurmond | <!----> | 1902-12-05 | SC | D | No | 1/3/53 | 50.1 |\n",
       "\n"
      ],
      "text/plain": [
       "  congress chamber bioguide firstname middlename lastname suffix birthday  \n",
       "1 83       senate  T000254  J.        Strom      Thurmond        1902-12-05\n",
       "  state party incumbent termstart age \n",
       "1 SC    D     No        1/3/53    50.1"
      ]
     },
     "metadata": {},
     "output_type": "display_data"
    }
   ],
   "source": [
    "# Exercise 6 code goes here\n",
    "# -------------------------\n",
    "\n",
    "most_senate <- getmode(senate$bioguide)\n",
    "most_house <- getmode(house$bioguide)\n",
    "\n",
    "df4 <- df %>% filter(bioguide == most_house) %>% filter(congress == min(congress))\n",
    "df4\n",
    "\n",
    "df5 <- df %>% filter(bioguide == most_senate) %>% filter(congress == min(congress))\n",
    "df5"
   ]
  },
  {
   "cell_type": "raw",
   "metadata": {},
   "source": [
    "Answer the question above here.\n",
    "6. John D. Dingell has served the most house terms and J. Strom Thurmond has served the most senate terms."
   ]
  },
  {
   "cell_type": "markdown",
   "metadata": {},
   "source": [
    "**Challenge Exercise 1**: Using the mean, which party on average holds a higher number of terms per politician? "
   ]
  },
  {
   "cell_type": "code",
   "execution_count": 8,
   "metadata": {},
   "outputs": [
    {
     "data": {
      "text/html": [
       "5.34151065203357"
      ],
      "text/latex": [
       "5.34151065203357"
      ],
      "text/markdown": [
       "5.34151065203357"
      ],
      "text/plain": [
       "[1] 5.341511"
      ]
     },
     "metadata": {},
     "output_type": "display_data"
    },
    {
     "data": {
      "text/html": [
       "6.21376811594203"
      ],
      "text/latex": [
       "6.21376811594203"
      ],
      "text/markdown": [
       "6.21376811594203"
      ],
      "text/plain": [
       "[1] 6.213768"
      ]
     },
     "metadata": {},
     "output_type": "display_data"
    },
    {
     "data": {
      "text/html": [
       "1.5"
      ],
      "text/latex": [
       "1.5"
      ],
      "text/markdown": [
       "1.5"
      ],
      "text/plain": [
       "[1] 1.5"
      ]
     },
     "metadata": {},
     "output_type": "display_data"
    },
    {
     "data": {
      "text/html": [
       "1"
      ],
      "text/latex": [
       "1"
      ],
      "text/markdown": [
       "1"
      ],
      "text/plain": [
       "[1] 1"
      ]
     },
     "metadata": {},
     "output_type": "display_data"
    },
    {
     "data": {
      "text/html": [
       "1.33333333333333"
      ],
      "text/latex": [
       "1.33333333333333"
      ],
      "text/markdown": [
       "1.33333333333333"
      ],
      "text/plain": [
       "[1] 1.333333"
      ]
     },
     "metadata": {},
     "output_type": "display_data"
    },
    {
     "data": {
      "text/html": [
       "3.5"
      ],
      "text/latex": [
       "3.5"
      ],
      "text/markdown": [
       "3.5"
      ],
      "text/plain": [
       "[1] 3.5"
      ]
     },
     "metadata": {},
     "output_type": "display_data"
    }
   ],
   "source": [
    "# Challenge Exercise 1 code goes here\n",
    "# -----------------------------------\n",
    "\n",
    "df6 <- split(df, df$party)\n",
    "republican <- df6$R\n",
    "democrat <- df6$D\n",
    "american_labor <- df6$AL\n",
    "liberal <- df6$L\n",
    "id <- df6$ID\n",
    "independent <- df6$I\n",
    "\n",
    "uniq_r <- length(unique(republican$bioguide))\n",
    "nrow(republican)/uniq_r\n",
    "\n",
    "uniq_d <- length(unique(democrat$bioguide))\n",
    "nrow(democrat)/uniq_d\n",
    "\n",
    "uniq_al <- length(unique(american_labor$bioguide))\n",
    "nrow(american_labor)/uniq_al\n",
    "\n",
    "uniq_l <- length(unique(liberal$bioguide))\n",
    "nrow(liberal)/uniq_l\n",
    "\n",
    "uniq_id <- length(unique(id$bioguide))\n",
    "nrow(id)/uniq_id\n",
    "\n",
    "uniq_i <- length(unique(independent$bioguide))\n",
    "nrow(independent)/uniq_i\n"
   ]
  },
  {
   "cell_type": "raw",
   "metadata": {},
   "source": [
    "Answer the question above here.\n",
    "1. On average, the Democrats hold a higher number of terms per politician"
   ]
  },
  {
   "cell_type": "markdown",
   "metadata": {},
   "source": [
    "**Challenge Exercise 2**: Using the median age, what condition has the strongest linear relationship: Congress Number and Republican House age, Congress Number and Republican Senate age, Congress Number and Democratic House age, or Congress Number and Democratic Senate age."
   ]
  },
  {
   "cell_type": "code",
   "execution_count": 11,
   "metadata": {},
   "outputs": [
    {
     "data": {
      "text/plain": [
       "\n",
       "\tPearson's product-moment correlation\n",
       "\n",
       "data:  r_house_med$congress and r_house_med$med_age\n",
       "t = 0.70255, df = 32, p-value = 0.4874\n",
       "alternative hypothesis: true correlation is not equal to 0\n",
       "95 percent confidence interval:\n",
       " -0.2242654  0.4429516\n",
       "sample estimates:\n",
       "      cor \n",
       "0.1232472 \n"
      ]
     },
     "metadata": {},
     "output_type": "display_data"
    },
    {
     "data": {
      "text/plain": [
       "\n",
       "\tPearson's product-moment correlation\n",
       "\n",
       "data:  d_house_med$congress and d_house_med$med_age\n",
       "t = 5.3054, df = 32, p-value = 8.172e-06\n",
       "alternative hypothesis: true correlation is not equal to 0\n",
       "95 percent confidence interval:\n",
       " 0.4500236 0.8301969\n",
       "sample estimates:\n",
       "      cor \n",
       "0.6840837 \n"
      ]
     },
     "metadata": {},
     "output_type": "display_data"
    },
    {
     "data": {
      "text/plain": [
       "\n",
       "\tPearson's product-moment correlation\n",
       "\n",
       "data:  r_senate_med$congress and r_senate_med$med_age\n",
       "t = 1.1032, df = 32, p-value = 0.2782\n",
       "alternative hypothesis: true correlation is not equal to 0\n",
       "95 percent confidence interval:\n",
       " -0.1569145  0.4973794\n",
       "sample estimates:\n",
       "      cor \n",
       "0.1914079 \n"
      ]
     },
     "metadata": {},
     "output_type": "display_data"
    },
    {
     "data": {
      "text/plain": [
       "\n",
       "\tPearson's product-moment correlation\n",
       "\n",
       "data:  d_senate_med$congress and d_senate_med$med_age\n",
       "t = 4.1838, df = 32, p-value = 0.0002084\n",
       "alternative hypothesis: true correlation is not equal to 0\n",
       "95 percent confidence interval:\n",
       " 0.3210183 0.7766299\n",
       "sample estimates:\n",
       "      cor \n",
       "0.5946323 \n"
      ]
     },
     "metadata": {},
     "output_type": "display_data"
    },
    {
     "data": {
      "text/html": [
       "<table>\n",
       "<caption>A tibble: 34 × 2</caption>\n",
       "<thead>\n",
       "\t<tr><th scope=col>congress</th><th scope=col>med_age</th></tr>\n",
       "\t<tr><th scope=col>&lt;int&gt;</th><th scope=col>&lt;dbl&gt;</th></tr>\n",
       "</thead>\n",
       "<tbody>\n",
       "\t<tr><td> 80</td><td>51.90</td></tr>\n",
       "\t<tr><td> 81</td><td>54.30</td></tr>\n",
       "\t<tr><td> 82</td><td>53.70</td></tr>\n",
       "\t<tr><td> 83</td><td>53.60</td></tr>\n",
       "\t<tr><td> 84</td><td>54.75</td></tr>\n",
       "\t<tr><td> 85</td><td>55.10</td></tr>\n",
       "\t<tr><td> 86</td><td>54.10</td></tr>\n",
       "\t<tr><td> 87</td><td>53.50</td></tr>\n",
       "\t<tr><td> 88</td><td>49.55</td></tr>\n",
       "\t<tr><td> 89</td><td>49.10</td></tr>\n",
       "\t<tr><td> 90</td><td>49.00</td></tr>\n",
       "\t<tr><td> 91</td><td>49.80</td></tr>\n",
       "\t<tr><td> 92</td><td>50.55</td></tr>\n",
       "\t<tr><td> 93</td><td>49.80</td></tr>\n",
       "\t<tr><td> 94</td><td>48.75</td></tr>\n",
       "\t<tr><td> 95</td><td>49.20</td></tr>\n",
       "\t<tr><td> 96</td><td>49.40</td></tr>\n",
       "\t<tr><td> 97</td><td>48.20</td></tr>\n",
       "\t<tr><td> 98</td><td>48.50</td></tr>\n",
       "\t<tr><td> 99</td><td>49.50</td></tr>\n",
       "\t<tr><td>100</td><td>51.20</td></tr>\n",
       "\t<tr><td>101</td><td>51.00</td></tr>\n",
       "\t<tr><td>102</td><td>53.85</td></tr>\n",
       "\t<tr><td>103</td><td>50.70</td></tr>\n",
       "\t<tr><td>104</td><td>49.40</td></tr>\n",
       "\t<tr><td>105</td><td>49.80</td></tr>\n",
       "\t<tr><td>106</td><td>51.70</td></tr>\n",
       "\t<tr><td>107</td><td>52.55</td></tr>\n",
       "\t<tr><td>108</td><td>53.25</td></tr>\n",
       "\t<tr><td>109</td><td>54.45</td></tr>\n",
       "\t<tr><td>110</td><td>55.70</td></tr>\n",
       "\t<tr><td>111</td><td>55.50</td></tr>\n",
       "\t<tr><td>112</td><td>54.40</td></tr>\n",
       "\t<tr><td>113</td><td>55.30</td></tr>\n",
       "</tbody>\n",
       "</table>\n"
      ],
      "text/latex": [
       "A tibble: 34 × 2\n",
       "\\begin{tabular}{r|ll}\n",
       " congress & med\\_age\\\\\n",
       " <int> & <dbl>\\\\\n",
       "\\hline\n",
       "\t  80 & 51.90\\\\\n",
       "\t  81 & 54.30\\\\\n",
       "\t  82 & 53.70\\\\\n",
       "\t  83 & 53.60\\\\\n",
       "\t  84 & 54.75\\\\\n",
       "\t  85 & 55.10\\\\\n",
       "\t  86 & 54.10\\\\\n",
       "\t  87 & 53.50\\\\\n",
       "\t  88 & 49.55\\\\\n",
       "\t  89 & 49.10\\\\\n",
       "\t  90 & 49.00\\\\\n",
       "\t  91 & 49.80\\\\\n",
       "\t  92 & 50.55\\\\\n",
       "\t  93 & 49.80\\\\\n",
       "\t  94 & 48.75\\\\\n",
       "\t  95 & 49.20\\\\\n",
       "\t  96 & 49.40\\\\\n",
       "\t  97 & 48.20\\\\\n",
       "\t  98 & 48.50\\\\\n",
       "\t  99 & 49.50\\\\\n",
       "\t 100 & 51.20\\\\\n",
       "\t 101 & 51.00\\\\\n",
       "\t 102 & 53.85\\\\\n",
       "\t 103 & 50.70\\\\\n",
       "\t 104 & 49.40\\\\\n",
       "\t 105 & 49.80\\\\\n",
       "\t 106 & 51.70\\\\\n",
       "\t 107 & 52.55\\\\\n",
       "\t 108 & 53.25\\\\\n",
       "\t 109 & 54.45\\\\\n",
       "\t 110 & 55.70\\\\\n",
       "\t 111 & 55.50\\\\\n",
       "\t 112 & 54.40\\\\\n",
       "\t 113 & 55.30\\\\\n",
       "\\end{tabular}\n"
      ],
      "text/markdown": [
       "\n",
       "A tibble: 34 × 2\n",
       "\n",
       "| congress &lt;int&gt; | med_age &lt;dbl&gt; |\n",
       "|---|---|\n",
       "|  80 | 51.90 |\n",
       "|  81 | 54.30 |\n",
       "|  82 | 53.70 |\n",
       "|  83 | 53.60 |\n",
       "|  84 | 54.75 |\n",
       "|  85 | 55.10 |\n",
       "|  86 | 54.10 |\n",
       "|  87 | 53.50 |\n",
       "|  88 | 49.55 |\n",
       "|  89 | 49.10 |\n",
       "|  90 | 49.00 |\n",
       "|  91 | 49.80 |\n",
       "|  92 | 50.55 |\n",
       "|  93 | 49.80 |\n",
       "|  94 | 48.75 |\n",
       "|  95 | 49.20 |\n",
       "|  96 | 49.40 |\n",
       "|  97 | 48.20 |\n",
       "|  98 | 48.50 |\n",
       "|  99 | 49.50 |\n",
       "| 100 | 51.20 |\n",
       "| 101 | 51.00 |\n",
       "| 102 | 53.85 |\n",
       "| 103 | 50.70 |\n",
       "| 104 | 49.40 |\n",
       "| 105 | 49.80 |\n",
       "| 106 | 51.70 |\n",
       "| 107 | 52.55 |\n",
       "| 108 | 53.25 |\n",
       "| 109 | 54.45 |\n",
       "| 110 | 55.70 |\n",
       "| 111 | 55.50 |\n",
       "| 112 | 54.40 |\n",
       "| 113 | 55.30 |\n",
       "\n"
      ],
      "text/plain": [
       "   congress med_age\n",
       "1   80      51.90  \n",
       "2   81      54.30  \n",
       "3   82      53.70  \n",
       "4   83      53.60  \n",
       "5   84      54.75  \n",
       "6   85      55.10  \n",
       "7   86      54.10  \n",
       "8   87      53.50  \n",
       "9   88      49.55  \n",
       "10  89      49.10  \n",
       "11  90      49.00  \n",
       "12  91      49.80  \n",
       "13  92      50.55  \n",
       "14  93      49.80  \n",
       "15  94      48.75  \n",
       "16  95      49.20  \n",
       "17  96      49.40  \n",
       "18  97      48.20  \n",
       "19  98      48.50  \n",
       "20  99      49.50  \n",
       "21 100      51.20  \n",
       "22 101      51.00  \n",
       "23 102      53.85  \n",
       "24 103      50.70  \n",
       "25 104      49.40  \n",
       "26 105      49.80  \n",
       "27 106      51.70  \n",
       "28 107      52.55  \n",
       "29 108      53.25  \n",
       "30 109      54.45  \n",
       "31 110      55.70  \n",
       "32 111      55.50  \n",
       "33 112      54.40  \n",
       "34 113      55.30  "
      ]
     },
     "metadata": {},
     "output_type": "display_data"
    }
   ],
   "source": [
    "# Challenge Exercise 2 code goes here\n",
    "# -----------------------------------\n",
    "\n",
    "df7 <- split(house, house$party)\n",
    "r_house <- df7$R\n",
    "d_house <- df7$D\n",
    "\n",
    "df8 <- split(senate, senate$party)\n",
    "r_senate <- df8$R\n",
    "d_senate <- df8$D\n",
    "\n",
    "r_house_med <- r_house %>% group_by(congress) %>% summarise(med_age = median(age))\n",
    "d_house_med <- d_house %>% group_by(congress) %>% summarise(med_age = median(age)) \n",
    "r_senate_med <- r_senate %>% group_by(congress) %>% summarise(med_age = median(age))\n",
    "d_senate_med <- d_senate %>% group_by(congress) %>% summarise(med_age = median(age))\n",
    "\n",
    "cor.test(r_house_med$congress, r_house_med$med_age)\n",
    "cor.test(d_house_med$congress, d_house_med$med_age)\n",
    "cor.test(r_senate_med$congress, r_senate_med$med_age)\n",
    "cor.test(d_senate_med$congress, d_senate_med$med_age)\n",
    "\n",
    "r_house_med"
   ]
  },
  {
   "cell_type": "raw",
   "metadata": {},
   "source": [
    "Answer the question above here.\n",
    "2. The strongest linear relationshp is seen between Congress Number and Democratic House age"
   ]
  },
  {
   "cell_type": "markdown",
   "metadata": {},
   "source": [
    "**Exercise 7**: Plot the relationship with the strongest linear relationship to visualize the results."
   ]
  },
  {
   "cell_type": "code",
   "execution_count": 10,
   "metadata": {},
   "outputs": [
    {
     "data": {
      "image/png": "[encoded data removed]",
      "text/plain": [
       "plot without title"
      ]
     },
     "metadata": {},
     "output_type": "display_data"
    }
   ],
   "source": [
    "# Exercise 7 code goes here\n",
    "# -------------------------\n",
    "\n",
    "plot(d_house_med$congress, d_house_med$med_age)"
   ]
  },
  {
   "cell_type": "markdown",
   "metadata": {},
   "source": [
    "# Save your notebook, then `File > Close and Halt`"
   ]
  }
 ],
 "metadata": {
  "kernelspec": {
   "display_name": "R",
   "language": "R",
   "name": "ir"
  },
  "language_info": {
   "codemirror_mode": "r",
   "file_extension": ".r",
   "mimetype": "text/x-r-source",
   "name": "R",
   "pygments_lexer": "r",
   "version": "3.5.1"
  }
 },
 "nbformat": 4,
 "nbformat_minor": 2
}
