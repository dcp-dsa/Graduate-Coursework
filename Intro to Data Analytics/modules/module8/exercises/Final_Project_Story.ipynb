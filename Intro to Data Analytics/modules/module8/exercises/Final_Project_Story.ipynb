{
 "cells": [
  {
   "cell_type": "markdown",
   "metadata": {},
   "source": [
    "# Final Project\n",
    "\n",
    "You have made it to the end of the course.\n",
    "In the labs, you saw a couple simplified examples of constructing data stories.\n",
    "\n",
    "For the final project, you will \n",
    " 1. find some data, \n",
    " 2. upload it to JupyterHub\n",
    " 3. construct a data story\n",
    "\n",
    "---"
   ]
  },
  {
   "cell_type": "markdown",
   "metadata": {},
   "source": [
    "## Step 0: Choose your Language for this Adventure:\n",
    "\n",
    "You can do this project in either *R* or *Python*.\n",
    "\n",
    "To change the kernel of this notebook, do the following with the `Kernel` menu.\n",
    "\n",
    " * `Kernel > Change Kernel > Python 3`\n",
    " * `Kernel > Change Kernel > R`\n",
    "\n",
    "![FP_Change_Kernel.png MISSING](../images/FP_Change_Kernel.png)\n"
   ]
  },
  {
   "cell_type": "markdown",
   "metadata": {},
   "source": [
    "---\n",
    "## Step 1: Find a Story\n",
    "\n",
    "Think back to any of the data files we have used in this class. \n",
    "Alternatively, you can search online for potential data and story ideas.\n",
    "\n",
    "In the cell below, please detail the source of your data (with link).\n",
    "Additionally, preview your story you hope to uncover."
   ]
  },
  {
   "cell_type": "raw",
   "metadata": {
    "collapsed": true
   },
   "source": [
    "/dsa/data/all_datasets/congress-terms.csv\n",
    "\n",
    "For my Data Story, I plan on exploring the congress-terms data set to analyze the voting preferences of people around the country. I want to see if certain states are more friendly to a particular party, and if that has changed over time or remained consistent. I also want to see which states are most pro Democrat and most pro Republican. I don't know if political preferences are uniform around the country, or if there are clear differences.\n"
   ]
  },
  {
   "cell_type": "markdown",
   "metadata": {},
   "source": [
    "## Step 2: Remember your Audience\n",
    "\n",
    "In the cell below, describe your audience!\n",
    " * Who will the audience be?\n",
    " * What value will they derive from your story?"
   ]
  },
  {
   "cell_type": "raw",
   "metadata": {
    "collapsed": true
   },
   "source": [
    "As I consider myself somewhat of a novice on this topic, my audience will be the generalist. I understand how the electoral process works, and I would expect the audience to as well. I'm hoping that I and my audience will be able to learn more about the distribution of the parties' political power around the country.\n",
    "\n",
    "\n",
    "\n",
    "\n"
   ]
  },
  {
   "cell_type": "markdown",
   "metadata": {},
   "source": [
    "## Step 3: Find and Stage Your Data\n",
    "\n",
    "If you data is from another source, such as Kaggle, you must download it to your local computer, then upload the data to JuptyerHub.\n",
    "\n",
    "#### If you are uploading files:\n",
    " * Use folder navigation of your first JupyterTab to get to course's `/modules/module8/exercises/` folder.\n",
    "![FP_Folder_Navigation.png MISSING](../images/FP_Folder_Navigation.png)\n",
    " * Click the Upload Button and Choose File(s)\n",
    "![FP_Upload_Button.png MISSING](../images/FP_Upload_Button.png)\n",
    " * Activate the upload\n",
    "![FP_UploadFile_2.png MISSING](../images/FP_UploadFile_2.png)\n",
    " \n",
    "\n",
    "### In the cell below, please list the name of the file that is now accessible on the JupyterHub environment.\n",
    "\n",
    "**Note**: \n",
    "If you uploaded a file to your `module8/exercises` folder, the file name is all you need to load it into the a data frame in the usual manner.\n",
    "If you are using a file from another module of the course, you should be able to copy the full pathname and use it as is in this notebook."
   ]
  },
  {
   "cell_type": "raw",
   "metadata": {
    "collapsed": true
   },
   "source": [
    "/dsa/data/all_datasets/congress-terms.csv\n",
    "\n"
   ]
  },
  {
   "cell_type": "markdown",
   "metadata": {},
   "source": [
    "## Step 4: Vet Data Sources\n",
    "\n",
    "Use the cells below to load the data, inspect it, and perform some exploratory data analysis.  \n",
    "\n",
    "Add more cells (`Insert > Insert Cell Below`) if you want additional cells."
   ]
  },
  {
   "cell_type": "code",
   "execution_count": 1,
   "metadata": {},
   "outputs": [
    {
     "data": {
      "text/html": [
       "<table>\n",
       "<caption>A data.frame: 6 × 13</caption>\n",
       "<thead>\n",
       "\t<tr><th scope=col>congress</th><th scope=col>chamber</th><th scope=col>bioguide</th><th scope=col>firstname</th><th scope=col>middlename</th><th scope=col>lastname</th><th scope=col>suffix</th><th scope=col>birthday</th><th scope=col>state</th><th scope=col>party</th><th scope=col>incumbent</th><th scope=col>termstart</th><th scope=col>age</th></tr>\n",
       "\t<tr><th scope=col>&lt;int&gt;</th><th scope=col>&lt;fct&gt;</th><th scope=col>&lt;fct&gt;</th><th scope=col>&lt;fct&gt;</th><th scope=col>&lt;fct&gt;</th><th scope=col>&lt;fct&gt;</th><th scope=col>&lt;fct&gt;</th><th scope=col>&lt;fct&gt;</th><th scope=col>&lt;fct&gt;</th><th scope=col>&lt;fct&gt;</th><th scope=col>&lt;fct&gt;</th><th scope=col>&lt;fct&gt;</th><th scope=col>&lt;dbl&gt;</th></tr>\n",
       "</thead>\n",
       "<tbody>\n",
       "\t<tr><td>80</td><td>house</td><td>M000112</td><td>Joseph </td><td>Jefferson</td><td>Mansfield</td><td></td><td>1861-02-09</td><td>TX</td><td>D</td><td>Yes</td><td>1/3/47</td><td>85.9</td></tr>\n",
       "\t<tr><td>80</td><td>house</td><td>D000448</td><td>Robert </td><td>Lee      </td><td>Doughton </td><td></td><td>1863-11-07</td><td>NC</td><td>D</td><td>Yes</td><td>1/3/47</td><td>83.2</td></tr>\n",
       "\t<tr><td>80</td><td>house</td><td>S000001</td><td>Adolph </td><td>Joachim  </td><td>Sabath   </td><td></td><td>1866-04-04</td><td>IL</td><td>D</td><td>Yes</td><td>1/3/47</td><td>80.7</td></tr>\n",
       "\t<tr><td>80</td><td>house</td><td>E000023</td><td>Charles</td><td>Aubrey   </td><td>Eaton    </td><td></td><td>1868-03-29</td><td>NJ</td><td>R</td><td>Yes</td><td>1/3/47</td><td>78.8</td></tr>\n",
       "\t<tr><td>80</td><td>house</td><td>L000296</td><td>William</td><td>         </td><td>Lewis    </td><td></td><td>1868-09-22</td><td>KY</td><td>R</td><td>No </td><td>1/3/47</td><td>78.3</td></tr>\n",
       "\t<tr><td>80</td><td>house</td><td>G000017</td><td>James  </td><td>A.       </td><td>Gallagher</td><td></td><td>1869-01-16</td><td>PA</td><td>R</td><td>No </td><td>1/3/47</td><td>78.0</td></tr>\n",
       "</tbody>\n",
       "</table>\n"
      ],
      "text/latex": [
       "A data.frame: 6 × 13\n",
       "\\begin{tabular}{r|lllllllllllll}\n",
       " congress & chamber & bioguide & firstname & middlename & lastname & suffix & birthday & state & party & incumbent & termstart & age\\\\\n",
       " <int> & <fct> & <fct> & <fct> & <fct> & <fct> & <fct> & <fct> & <fct> & <fct> & <fct> & <fct> & <dbl>\\\\\n",
       "\\hline\n",
       "\t 80 & house & M000112 & Joseph  & Jefferson & Mansfield &  & 1861-02-09 & TX & D & Yes & 1/3/47 & 85.9\\\\\n",
       "\t 80 & house & D000448 & Robert  & Lee       & Doughton  &  & 1863-11-07 & NC & D & Yes & 1/3/47 & 83.2\\\\\n",
       "\t 80 & house & S000001 & Adolph  & Joachim   & Sabath    &  & 1866-04-04 & IL & D & Yes & 1/3/47 & 80.7\\\\\n",
       "\t 80 & house & E000023 & Charles & Aubrey    & Eaton     &  & 1868-03-29 & NJ & R & Yes & 1/3/47 & 78.8\\\\\n",
       "\t 80 & house & L000296 & William &           & Lewis     &  & 1868-09-22 & KY & R & No  & 1/3/47 & 78.3\\\\\n",
       "\t 80 & house & G000017 & James   & A.        & Gallagher &  & 1869-01-16 & PA & R & No  & 1/3/47 & 78.0\\\\\n",
       "\\end{tabular}\n"
      ],
      "text/markdown": [
       "\n",
       "A data.frame: 6 × 13\n",
       "\n",
       "| congress &lt;int&gt; | chamber &lt;fct&gt; | bioguide &lt;fct&gt; | firstname &lt;fct&gt; | middlename &lt;fct&gt; | lastname &lt;fct&gt; | suffix &lt;fct&gt; | birthday &lt;fct&gt; | state &lt;fct&gt; | party &lt;fct&gt; | incumbent &lt;fct&gt; | termstart &lt;fct&gt; | age &lt;dbl&gt; |\n",
       "|---|---|---|---|---|---|---|---|---|---|---|---|---|\n",
       "| 80 | house | M000112 | Joseph  | Jefferson | Mansfield | <!----> | 1861-02-09 | TX | D | Yes | 1/3/47 | 85.9 |\n",
       "| 80 | house | D000448 | Robert  | Lee       | Doughton  | <!----> | 1863-11-07 | NC | D | Yes | 1/3/47 | 83.2 |\n",
       "| 80 | house | S000001 | Adolph  | Joachim   | Sabath    | <!----> | 1866-04-04 | IL | D | Yes | 1/3/47 | 80.7 |\n",
       "| 80 | house | E000023 | Charles | Aubrey    | Eaton     | <!----> | 1868-03-29 | NJ | R | Yes | 1/3/47 | 78.8 |\n",
       "| 80 | house | L000296 | William | <!----> | Lewis     | <!----> | 1868-09-22 | KY | R | No  | 1/3/47 | 78.3 |\n",
       "| 80 | house | G000017 | James   | A.        | Gallagher | <!----> | 1869-01-16 | PA | R | No  | 1/3/47 | 78.0 |\n",
       "\n"
      ],
      "text/plain": [
       "  congress chamber bioguide firstname middlename lastname  suffix birthday  \n",
       "1 80       house   M000112  Joseph    Jefferson  Mansfield        1861-02-09\n",
       "2 80       house   D000448  Robert    Lee        Doughton         1863-11-07\n",
       "3 80       house   S000001  Adolph    Joachim    Sabath           1866-04-04\n",
       "4 80       house   E000023  Charles   Aubrey     Eaton            1868-03-29\n",
       "5 80       house   L000296  William              Lewis            1868-09-22\n",
       "6 80       house   G000017  James     A.         Gallagher        1869-01-16\n",
       "  state party incumbent termstart age \n",
       "1 TX    D     Yes       1/3/47    85.9\n",
       "2 NC    D     Yes       1/3/47    83.2\n",
       "3 IL    D     Yes       1/3/47    80.7\n",
       "4 NJ    R     Yes       1/3/47    78.8\n",
       "5 KY    R     No        1/3/47    78.3\n",
       "6 PA    R     No        1/3/47    78.0"
      ]
     },
     "metadata": {},
     "output_type": "display_data"
    }
   ],
   "source": [
    "df <- read.csv('/dsa/data/all_datasets/congress-terms.csv')\n",
    "head(df)"
   ]
  },
  {
   "cell_type": "code",
   "execution_count": 2,
   "metadata": {},
   "outputs": [
    {
     "data": {
      "text/html": [
       "'There are 8274 Republicans'"
      ],
      "text/latex": [
       "'There are 8274 Republicans'"
      ],
      "text/markdown": [
       "'There are 8274 Republicans'"
      ],
      "text/plain": [
       "[1] \"There are 8274 Republicans\""
      ]
     },
     "metadata": {},
     "output_type": "display_data"
    },
    {
     "data": {
      "text/html": [
       "'There are 10290 Democrats'"
      ],
      "text/latex": [
       "'There are 10290 Democrats'"
      ],
      "text/markdown": [
       "'There are 10290 Democrats'"
      ],
      "text/plain": [
       "[1] \"There are 10290 Democrats\""
      ]
     },
     "metadata": {},
     "output_type": "display_data"
    }
   ],
   "source": [
    "# Let's see how many Democrats and Republicans there are.\n",
    "\n",
    "df1 <- split(df, df$party)\n",
    "Republican <- df1$R\n",
    "Democrat <- df1$D\n",
    "\n",
    "Rs <- nrow(Republican)\n",
    "Ds <- nrow(Democrat)\n",
    "\n",
    "paste(\"There are\", Rs, \"Republicans\")\n",
    "paste(\"There are\", Ds, \"Democrats\")"
   ]
  },
  {
   "cell_type": "code",
   "execution_count": 3,
   "metadata": {},
   "outputs": [
    {
     "data": {
      "text/html": [
       "'There were 306 Republicans in 1947, and 283 in 2013'"
      ],
      "text/latex": [
       "'There were 306 Republicans in 1947, and 283 in 2013'"
      ],
      "text/markdown": [
       "'There were 306 Republicans in 1947, and 283 in 2013'"
      ],
      "text/plain": [
       "[1] \"There were 306 Republicans in 1947, and 283 in 2013\""
      ]
     },
     "metadata": {},
     "output_type": "display_data"
    },
    {
     "data": {
      "text/html": [
       "'There were 247 Democrats in 1947, and 259 in 2013'"
      ],
      "text/latex": [
       "'There were 247 Democrats in 1947, and 259 in 2013'"
      ],
      "text/markdown": [
       "'There were 247 Democrats in 1947, and 259 in 2013'"
      ],
      "text/plain": [
       "[1] \"There were 247 Democrats in 1947, and 259 in 2013\""
      ]
     },
     "metadata": {},
     "output_type": "display_data"
    }
   ],
   "source": [
    "# Now let's see if the makeup has changed over time\n",
    "\n",
    "df2 <- split(df, df$congress)\n",
    "eighty <- df2$'80'\n",
    "onethirteen <- df2$'113'\n",
    "df3 <- split(eighty, eighty$party)\n",
    "R80 <- df3$R\n",
    "D80 <- df3$D\n",
    "df4 <- split(onethirteen, onethirteen$party)\n",
    "R113 <- df4$R\n",
    "D113 <- df4$D\n",
    "\n",
    "R1947 <- nrow(R80)\n",
    "D1947 <- nrow(D80)\n",
    "R2013 <- nrow(R113)\n",
    "D2013 <- nrow(D113)\n",
    "\n",
    "paste(\"There were\", R1947, \"Republicans in 1947, and\", R2013, \"Republicans in 2013\")\n",
    "paste(\"There were\", D1947, \"Democrats in 1947, and\", D2013, \"Democrats in 2013\")\n",
    "\n",
    "\n",
    "# Compared to in 1947, the congress was a bit more balanced in 2013. However, it looks like there has always been a fairly\n",
    "# even split between Democrats and Republicans in congress."
   ]
  },
  {
   "cell_type": "code",
   "execution_count": 4,
   "metadata": {},
   "outputs": [
    {
     "name": "stderr",
     "output_type": "stream",
     "text": [
      "\n",
      "Attaching package: ‘dplyr’\n",
      "\n",
      "The following objects are masked from ‘package:stats’:\n",
      "\n",
      "    filter, lag\n",
      "\n",
      "The following objects are masked from ‘package:base’:\n",
      "\n",
      "    intersect, setdiff, setequal, union\n",
      "\n"
     ]
    },
    {
     "data": {
      "text/html": [
       "<table>\n",
       "<caption>A data.frame: 6 × 13</caption>\n",
       "<thead>\n",
       "\t<tr><th scope=col>congress</th><th scope=col>chamber</th><th scope=col>bioguide</th><th scope=col>firstname</th><th scope=col>middlename</th><th scope=col>lastname</th><th scope=col>suffix</th><th scope=col>birthday</th><th scope=col>state</th><th scope=col>party</th><th scope=col>incumbent</th><th scope=col>termstart</th><th scope=col>age</th></tr>\n",
       "\t<tr><th scope=col>&lt;int&gt;</th><th scope=col>&lt;fct&gt;</th><th scope=col>&lt;fct&gt;</th><th scope=col>&lt;fct&gt;</th><th scope=col>&lt;fct&gt;</th><th scope=col>&lt;fct&gt;</th><th scope=col>&lt;fct&gt;</th><th scope=col>&lt;fct&gt;</th><th scope=col>&lt;fct&gt;</th><th scope=col>&lt;fct&gt;</th><th scope=col>&lt;fct&gt;</th><th scope=col>&lt;fct&gt;</th><th scope=col>&lt;dbl&gt;</th></tr>\n",
       "</thead>\n",
       "<tbody>\n",
       "\t<tr><td>80</td><td>house</td><td>L000163</td><td>Clarence</td><td>Frederick</td><td>Lea     </td><td></td><td>1874-07-11</td><td>CA</td><td>D</td><td>Yes</td><td>1/3/47</td><td>72.5</td></tr>\n",
       "\t<tr><td>80</td><td>house</td><td>H000356</td><td>Franck  </td><td>Roberts  </td><td>Havenner</td><td></td><td>1882-09-20</td><td>CA</td><td>D</td><td>Yes</td><td>1/3/47</td><td>64.3</td></tr>\n",
       "\t<tr><td>80</td><td>house</td><td>S000335</td><td>Harry   </td><td>Richard  </td><td>Sheppard</td><td></td><td>1885-01-10</td><td>CA</td><td>D</td><td>Yes</td><td>1/3/47</td><td>62.0</td></tr>\n",
       "\t<tr><td>80</td><td>house</td><td>M000727</td><td>George  </td><td>Paul     </td><td>Miller  </td><td></td><td>1891-01-15</td><td>CA</td><td>D</td><td>Yes</td><td>1/3/47</td><td>56.0</td></tr>\n",
       "\t<tr><td>80</td><td>house</td><td>E000119</td><td>Alfred  </td><td>James    </td><td>Elliott </td><td></td><td>1895-06-01</td><td>CA</td><td>D</td><td>Yes</td><td>1/3/47</td><td>51.6</td></tr>\n",
       "\t<tr><td>80</td><td>house</td><td>K000196</td><td>Cecil   </td><td>Rhodes   </td><td>King    </td><td></td><td>1898-01-13</td><td>CA</td><td>D</td><td>Yes</td><td>1/3/47</td><td>49.0</td></tr>\n",
       "</tbody>\n",
       "</table>\n"
      ],
      "text/latex": [
       "A data.frame: 6 × 13\n",
       "\\begin{tabular}{r|lllllllllllll}\n",
       " congress & chamber & bioguide & firstname & middlename & lastname & suffix & birthday & state & party & incumbent & termstart & age\\\\\n",
       " <int> & <fct> & <fct> & <fct> & <fct> & <fct> & <fct> & <fct> & <fct> & <fct> & <fct> & <fct> & <dbl>\\\\\n",
       "\\hline\n",
       "\t 80 & house & L000163 & Clarence & Frederick & Lea      &  & 1874-07-11 & CA & D & Yes & 1/3/47 & 72.5\\\\\n",
       "\t 80 & house & H000356 & Franck   & Roberts   & Havenner &  & 1882-09-20 & CA & D & Yes & 1/3/47 & 64.3\\\\\n",
       "\t 80 & house & S000335 & Harry    & Richard   & Sheppard &  & 1885-01-10 & CA & D & Yes & 1/3/47 & 62.0\\\\\n",
       "\t 80 & house & M000727 & George   & Paul      & Miller   &  & 1891-01-15 & CA & D & Yes & 1/3/47 & 56.0\\\\\n",
       "\t 80 & house & E000119 & Alfred   & James     & Elliott  &  & 1895-06-01 & CA & D & Yes & 1/3/47 & 51.6\\\\\n",
       "\t 80 & house & K000196 & Cecil    & Rhodes    & King     &  & 1898-01-13 & CA & D & Yes & 1/3/47 & 49.0\\\\\n",
       "\\end{tabular}\n"
      ],
      "text/markdown": [
       "\n",
       "A data.frame: 6 × 13\n",
       "\n",
       "| congress &lt;int&gt; | chamber &lt;fct&gt; | bioguide &lt;fct&gt; | firstname &lt;fct&gt; | middlename &lt;fct&gt; | lastname &lt;fct&gt; | suffix &lt;fct&gt; | birthday &lt;fct&gt; | state &lt;fct&gt; | party &lt;fct&gt; | incumbent &lt;fct&gt; | termstart &lt;fct&gt; | age &lt;dbl&gt; |\n",
       "|---|---|---|---|---|---|---|---|---|---|---|---|---|\n",
       "| 80 | house | L000163 | Clarence | Frederick | Lea      | <!----> | 1874-07-11 | CA | D | Yes | 1/3/47 | 72.5 |\n",
       "| 80 | house | H000356 | Franck   | Roberts   | Havenner | <!----> | 1882-09-20 | CA | D | Yes | 1/3/47 | 64.3 |\n",
       "| 80 | house | S000335 | Harry    | Richard   | Sheppard | <!----> | 1885-01-10 | CA | D | Yes | 1/3/47 | 62.0 |\n",
       "| 80 | house | M000727 | George   | Paul      | Miller   | <!----> | 1891-01-15 | CA | D | Yes | 1/3/47 | 56.0 |\n",
       "| 80 | house | E000119 | Alfred   | James     | Elliott  | <!----> | 1895-06-01 | CA | D | Yes | 1/3/47 | 51.6 |\n",
       "| 80 | house | K000196 | Cecil    | Rhodes    | King     | <!----> | 1898-01-13 | CA | D | Yes | 1/3/47 | 49.0 |\n",
       "\n"
      ],
      "text/plain": [
       "  congress chamber bioguide firstname middlename lastname suffix birthday  \n",
       "1 80       house   L000163  Clarence  Frederick  Lea             1874-07-11\n",
       "2 80       house   H000356  Franck    Roberts    Havenner        1882-09-20\n",
       "3 80       house   S000335  Harry     Richard    Sheppard        1885-01-10\n",
       "4 80       house   M000727  George    Paul       Miller          1891-01-15\n",
       "5 80       house   E000119  Alfred    James      Elliott         1895-06-01\n",
       "6 80       house   K000196  Cecil     Rhodes     King            1898-01-13\n",
       "  state party incumbent termstart age \n",
       "1 CA    D     Yes       1/3/47    72.5\n",
       "2 CA    D     Yes       1/3/47    64.3\n",
       "3 CA    D     Yes       1/3/47    62.0\n",
       "4 CA    D     Yes       1/3/47    56.0\n",
       "5 CA    D     Yes       1/3/47    51.6\n",
       "6 CA    D     Yes       1/3/47    49.0"
      ]
     },
     "metadata": {},
     "output_type": "display_data"
    },
    {
     "data": {
      "text/html": [
       "<table>\n",
       "<caption>A data.frame: 6 × 13</caption>\n",
       "<thead>\n",
       "\t<tr><th scope=col>congress</th><th scope=col>chamber</th><th scope=col>bioguide</th><th scope=col>firstname</th><th scope=col>middlename</th><th scope=col>lastname</th><th scope=col>suffix</th><th scope=col>birthday</th><th scope=col>state</th><th scope=col>party</th><th scope=col>incumbent</th><th scope=col>termstart</th><th scope=col>age</th></tr>\n",
       "\t<tr><th scope=col>&lt;int&gt;</th><th scope=col>&lt;fct&gt;</th><th scope=col>&lt;fct&gt;</th><th scope=col>&lt;fct&gt;</th><th scope=col>&lt;fct&gt;</th><th scope=col>&lt;fct&gt;</th><th scope=col>&lt;fct&gt;</th><th scope=col>&lt;fct&gt;</th><th scope=col>&lt;fct&gt;</th><th scope=col>&lt;fct&gt;</th><th scope=col>&lt;fct&gt;</th><th scope=col>&lt;fct&gt;</th><th scope=col>&lt;dbl&gt;</th></tr>\n",
       "</thead>\n",
       "<tbody>\n",
       "\t<tr><td>80</td><td>house</td><td>W000265</td><td>Richard </td><td>Joseph       </td><td>Welch   </td><td></td><td>1869-02-13</td><td>CA</td><td>R</td><td>Yes</td><td>1/3/47</td><td>77.9</td></tr>\n",
       "\t<tr><td>80</td><td>house</td><td>B000750</td><td>Willis  </td><td>Winter       </td><td>Bradley </td><td></td><td>1884-06-28</td><td>CA</td><td>R</td><td>No </td><td>1/3/47</td><td>62.5</td></tr>\n",
       "\t<tr><td>80</td><td>house</td><td>P000309</td><td>John    </td><td>             </td><td>Phillips</td><td></td><td>1887-09-11</td><td>CA</td><td>R</td><td>Yes</td><td>1/3/47</td><td>59.3</td></tr>\n",
       "\t<tr><td>80</td><td>house</td><td>J000157</td><td>Justin  </td><td>Leroy        </td><td>Johnson </td><td></td><td>1888-04-08</td><td>CA</td><td>R</td><td>Yes</td><td>1/3/47</td><td>58.7</td></tr>\n",
       "\t<tr><td>80</td><td>house</td><td>G000111</td><td>Bertrand</td><td>Wesley       </td><td>Gearhart</td><td></td><td>1890-05-31</td><td>CA</td><td>R</td><td>Yes</td><td>1/3/47</td><td>56.6</td></tr>\n",
       "\t<tr><td>80</td><td>house</td><td>H000640</td><td>John    </td><td>Carl Williams</td><td>Hinshaw </td><td></td><td>1894-07-28</td><td>CA</td><td>R</td><td>Yes</td><td>1/3/47</td><td>52.4</td></tr>\n",
       "</tbody>\n",
       "</table>\n"
      ],
      "text/latex": [
       "A data.frame: 6 × 13\n",
       "\\begin{tabular}{r|lllllllllllll}\n",
       " congress & chamber & bioguide & firstname & middlename & lastname & suffix & birthday & state & party & incumbent & termstart & age\\\\\n",
       " <int> & <fct> & <fct> & <fct> & <fct> & <fct> & <fct> & <fct> & <fct> & <fct> & <fct> & <fct> & <dbl>\\\\\n",
       "\\hline\n",
       "\t 80 & house & W000265 & Richard  & Joseph        & Welch    &  & 1869-02-13 & CA & R & Yes & 1/3/47 & 77.9\\\\\n",
       "\t 80 & house & B000750 & Willis   & Winter        & Bradley  &  & 1884-06-28 & CA & R & No  & 1/3/47 & 62.5\\\\\n",
       "\t 80 & house & P000309 & John     &               & Phillips &  & 1887-09-11 & CA & R & Yes & 1/3/47 & 59.3\\\\\n",
       "\t 80 & house & J000157 & Justin   & Leroy         & Johnson  &  & 1888-04-08 & CA & R & Yes & 1/3/47 & 58.7\\\\\n",
       "\t 80 & house & G000111 & Bertrand & Wesley        & Gearhart &  & 1890-05-31 & CA & R & Yes & 1/3/47 & 56.6\\\\\n",
       "\t 80 & house & H000640 & John     & Carl Williams & Hinshaw  &  & 1894-07-28 & CA & R & Yes & 1/3/47 & 52.4\\\\\n",
       "\\end{tabular}\n"
      ],
      "text/markdown": [
       "\n",
       "A data.frame: 6 × 13\n",
       "\n",
       "| congress &lt;int&gt; | chamber &lt;fct&gt; | bioguide &lt;fct&gt; | firstname &lt;fct&gt; | middlename &lt;fct&gt; | lastname &lt;fct&gt; | suffix &lt;fct&gt; | birthday &lt;fct&gt; | state &lt;fct&gt; | party &lt;fct&gt; | incumbent &lt;fct&gt; | termstart &lt;fct&gt; | age &lt;dbl&gt; |\n",
       "|---|---|---|---|---|---|---|---|---|---|---|---|---|\n",
       "| 80 | house | W000265 | Richard  | Joseph        | Welch    | <!----> | 1869-02-13 | CA | R | Yes | 1/3/47 | 77.9 |\n",
       "| 80 | house | B000750 | Willis   | Winter        | Bradley  | <!----> | 1884-06-28 | CA | R | No  | 1/3/47 | 62.5 |\n",
       "| 80 | house | P000309 | John     | <!----> | Phillips | <!----> | 1887-09-11 | CA | R | Yes | 1/3/47 | 59.3 |\n",
       "| 80 | house | J000157 | Justin   | Leroy         | Johnson  | <!----> | 1888-04-08 | CA | R | Yes | 1/3/47 | 58.7 |\n",
       "| 80 | house | G000111 | Bertrand | Wesley        | Gearhart | <!----> | 1890-05-31 | CA | R | Yes | 1/3/47 | 56.6 |\n",
       "| 80 | house | H000640 | John     | Carl Williams | Hinshaw  | <!----> | 1894-07-28 | CA | R | Yes | 1/3/47 | 52.4 |\n",
       "\n"
      ],
      "text/plain": [
       "  congress chamber bioguide firstname middlename    lastname suffix birthday  \n",
       "1 80       house   W000265  Richard   Joseph        Welch           1869-02-13\n",
       "2 80       house   B000750  Willis    Winter        Bradley         1884-06-28\n",
       "3 80       house   P000309  John                    Phillips        1887-09-11\n",
       "4 80       house   J000157  Justin    Leroy         Johnson         1888-04-08\n",
       "5 80       house   G000111  Bertrand  Wesley        Gearhart        1890-05-31\n",
       "6 80       house   H000640  John      Carl Williams Hinshaw         1894-07-28\n",
       "  state party incumbent termstart age \n",
       "1 CA    R     Yes       1/3/47    77.9\n",
       "2 CA    R     No        1/3/47    62.5\n",
       "3 CA    R     Yes       1/3/47    59.3\n",
       "4 CA    R     Yes       1/3/47    58.7\n",
       "5 CA    R     Yes       1/3/47    56.6\n",
       "6 CA    R     Yes       1/3/47    52.4"
      ]
     },
     "metadata": {},
     "output_type": "display_data"
    }
   ],
   "source": [
    "#Let's see which state has sent the most Republicans and Democrats to congress\n",
    "\n",
    "library(dplyr)\n",
    "\n",
    "getmode <- function(v) {\n",
    "   uniqv <- unique(v)\n",
    "   uniqv[which.max(tabulate(match(v, uniqv)))]\n",
    "}\n",
    "\n",
    "most_dems <- getmode(Democrat$state)\n",
    "most_reps <- getmode(Republican$state)\n",
    "\n",
    "library(dplyr)\n",
    "df5 <- Democrat %>% filter(state == most_dems)\n",
    "head(df5)\n",
    "\n",
    "df6 <- Republican %>% filter(state == most_reps)\n",
    "head(df6)\n"
   ]
  },
  {
   "cell_type": "code",
   "execution_count": 5,
   "metadata": {},
   "outputs": [],
   "source": [
    "# This clearly is not very useful. Since the number of representatives a state gets is based on its population, CA has the most\n",
    "# from each party. Therefore, we are instead going to focus on senators, for which there are two per state"
   ]
  },
  {
   "cell_type": "markdown",
   "metadata": {},
   "source": [
    "## Step 5: Filter Results\n",
    "\n",
    "Perform you data carpentry that helps in your story telling here.\n",
    "\n",
    "Add more cells (`Insert > Insert Cell Below`) if you want additional cells."
   ]
  },
  {
   "cell_type": "code",
   "execution_count": 6,
   "metadata": {},
   "outputs": [
    {
     "data": {
      "text/html": [
       "<table>\n",
       "<caption>A data.frame: 3552 × 13</caption>\n",
       "<thead>\n",
       "\t<tr><th></th><th scope=col>congress</th><th scope=col>chamber</th><th scope=col>bioguide</th><th scope=col>firstname</th><th scope=col>middlename</th><th scope=col>lastname</th><th scope=col>suffix</th><th scope=col>birthday</th><th scope=col>state</th><th scope=col>party</th><th scope=col>incumbent</th><th scope=col>termstart</th><th scope=col>age</th></tr>\n",
       "\t<tr><th></th><th scope=col>&lt;int&gt;</th><th scope=col>&lt;fct&gt;</th><th scope=col>&lt;fct&gt;</th><th scope=col>&lt;fct&gt;</th><th scope=col>&lt;fct&gt;</th><th scope=col>&lt;fct&gt;</th><th scope=col>&lt;fct&gt;</th><th scope=col>&lt;fct&gt;</th><th scope=col>&lt;fct&gt;</th><th scope=col>&lt;fct&gt;</th><th scope=col>&lt;fct&gt;</th><th scope=col>&lt;fct&gt;</th><th scope=col>&lt;dbl&gt;</th></tr>\n",
       "</thead>\n",
       "<tbody>\n",
       "\t<tr><th scope=row>454</th><td>80</td><td>senate</td><td>C000133</td><td>Arthur  </td><td>         </td><td>Capper    </td><td>   </td><td>1865-07-14</td><td>KS</td><td>R</td><td>Yes</td><td>1/3/47</td><td>81.5</td></tr>\n",
       "\t<tr><th scope=row>455</th><td>80</td><td>senate</td><td>G000418</td><td>Theodore</td><td>Francis  </td><td>Green     </td><td>   </td><td>1867-10-02</td><td>RI</td><td>D</td><td>Yes</td><td>1/3/47</td><td>79.3</td></tr>\n",
       "\t<tr><th scope=row>456</th><td>80</td><td>senate</td><td>M000499</td><td>Kenneth </td><td>Douglas  </td><td>McKellar  </td><td>   </td><td>1869-01-29</td><td>TN</td><td>D</td><td>Yes</td><td>1/3/47</td><td>77.9</td></tr>\n",
       "\t<tr><th scope=row>457</th><td>80</td><td>senate</td><td>R000112</td><td>Clyde   </td><td>Martin   </td><td>Reed      </td><td>   </td><td>1871-10-19</td><td>KS</td><td>R</td><td>Yes</td><td>1/3/47</td><td>75.2</td></tr>\n",
       "\t<tr><th scope=row>458</th><td>80</td><td>senate</td><td>M000895</td><td>Edward  </td><td>Hall     </td><td>Moore     </td><td>   </td><td>1871-11-19</td><td>OK</td><td>R</td><td>Yes</td><td>1/3/47</td><td>75.1</td></tr>\n",
       "\t<tr><th scope=row>459</th><td>80</td><td>senate</td><td>O000146</td><td>John    </td><td>Holmes   </td><td>Overton   </td><td>   </td><td>1875-09-17</td><td>LA</td><td>D</td><td>Yes</td><td>1/3/47</td><td>71.3</td></tr>\n",
       "\t<tr><th scope=row>460</th><td>80</td><td>senate</td><td>M001108</td><td>James   </td><td>Edward   </td><td>Murray    </td><td>   </td><td>1876-05-03</td><td>MT</td><td>D</td><td>Yes</td><td>1/3/47</td><td>70.7</td></tr>\n",
       "\t<tr><th scope=row>461</th><td>80</td><td>senate</td><td>M000308</td><td>Patrick </td><td>Anthony  </td><td>McCarran  </td><td>   </td><td>1876-08-08</td><td>NV</td><td>D</td><td>Yes</td><td>1/3/47</td><td>70.4</td></tr>\n",
       "\t<tr><th scope=row>462</th><td>80</td><td>senate</td><td>T000165</td><td>Elmer   </td><td>         </td><td>Thomas    </td><td>   </td><td>1876-09-08</td><td>OK</td><td>D</td><td>Yes</td><td>1/3/47</td><td>70.3</td></tr>\n",
       "\t<tr><th scope=row>463</th><td>80</td><td>senate</td><td>W000021</td><td>Robert  </td><td>Ferdinand</td><td>Wagner    </td><td>   </td><td>1877-06-08</td><td>NY</td><td>D</td><td>Yes</td><td>1/3/47</td><td>69.6</td></tr>\n",
       "\t<tr><th scope=row>464</th><td>80</td><td>senate</td><td>W000396</td><td>Wallace </td><td>Humphrey </td><td>White     </td><td>Jr.</td><td>1877-08-06</td><td>ME</td><td>R</td><td>Yes</td><td>1/3/47</td><td>69.4</td></tr>\n",
       "\t<tr><th scope=row>465</th><td>80</td><td>senate</td><td>C000684</td><td>Thomas  </td><td>Terry    </td><td>Connally  </td><td>   </td><td>1877-08-19</td><td>TX</td><td>D</td><td>Yes</td><td>1/3/47</td><td>69.4</td></tr>\n",
       "\t<tr><th scope=row>466</th><td>80</td><td>senate</td><td>H000385</td><td>Carl    </td><td>Trumbull </td><td>Hayden    </td><td>   </td><td>1877-10-02</td><td>AZ</td><td>D</td><td>Yes</td><td>1/3/47</td><td>69.3</td></tr>\n",
       "\t<tr><th scope=row>467</th><td>80</td><td>senate</td><td>B000460</td><td>Theodore</td><td>Gilmore  </td><td>Bilbo     </td><td>   </td><td>1877-10-13</td><td>MS</td><td>D</td><td>Yes</td><td>1/3/47</td><td>69.2</td></tr>\n",
       "\t<tr><th scope=row>468</th><td>80</td><td>senate</td><td>B000145</td><td>Alben   </td><td>William  </td><td>Barkley   </td><td>   </td><td>1877-11-24</td><td>KY</td><td>D</td><td>Yes</td><td>1/3/47</td><td>69.1</td></tr>\n",
       "\t<tr><th scope=row>469</th><td>80</td><td>senate</td><td>H000679</td><td>Clyde   </td><td>Roark    </td><td>Hoey      </td><td>   </td><td>1877-12-11</td><td>NC</td><td>D</td><td>Yes</td><td>1/3/47</td><td>69.1</td></tr>\n",
       "\t<tr><th scope=row>470</th><td>80</td><td>senate</td><td>G000131</td><td>Walter  </td><td>Franklin </td><td>George    </td><td>   </td><td>1878-01-29</td><td>GA</td><td>D</td><td>Yes</td><td>1/3/47</td><td>68.9</td></tr>\n",
       "\t<tr><th scope=row>471</th><td>80</td><td>senate</td><td>B001177</td><td>Hugh    </td><td>Alfred   </td><td>Butler    </td><td>   </td><td>1878-02-28</td><td>NE</td><td>R</td><td>Yes</td><td>1/3/47</td><td>68.8</td></tr>\n",
       "\t<tr><th scope=row>472</th><td>80</td><td>senate</td><td>H000365</td><td>Albert  </td><td>Wahl     </td><td>Hawkes    </td><td>   </td><td>1878-11-20</td><td>NJ</td><td>R</td><td>Yes</td><td>1/3/47</td><td>68.1</td></tr>\n",
       "\t<tr><th scope=row>473</th><td>80</td><td>senate</td><td>M000177</td><td>Edward  </td><td>         </td><td>Martin    </td><td>   </td><td>1879-09-18</td><td>PA</td><td>R</td><td>No </td><td>1/3/47</td><td>67.3</td></tr>\n",
       "\t<tr><th scope=row>474</th><td>80</td><td>senate</td><td>S000553</td><td>Howard  </td><td>Alexander</td><td>Smith     </td><td>   </td><td>1880-01-30</td><td>NJ</td><td>R</td><td>Yes</td><td>1/3/47</td><td>66.9</td></tr>\n",
       "\t<tr><th scope=row>475</th><td>80</td><td>senate</td><td>T000289</td><td>Charles </td><td>William  </td><td>Tobey     </td><td>   </td><td>1880-07-22</td><td>NH</td><td>R</td><td>Yes</td><td>1/3/47</td><td>66.4</td></tr>\n",
       "\t<tr><th scope=row>476</th><td>80</td><td>senate</td><td>F000190</td><td>Ralph   </td><td>Edward   </td><td>Flanders  </td><td>   </td><td>1880-09-28</td><td>VT</td><td>R</td><td>Yes</td><td>1/3/47</td><td>66.3</td></tr>\n",
       "\t<tr><th scope=row>477</th><td>80</td><td>senate</td><td>R000320</td><td>Edward  </td><td>Vivian   </td><td>Robertson </td><td>   </td><td>1881-05-27</td><td>WY</td><td>R</td><td>Yes</td><td>1/3/47</td><td>65.6</td></tr>\n",
       "\t<tr><th scope=row>478</th><td>80</td><td>senate</td><td>B001168</td><td>Harlan  </td><td>John     </td><td>Bushfield </td><td>   </td><td>1882-08-06</td><td>SD</td><td>R</td><td>Yes</td><td>1/3/47</td><td>64.4</td></tr>\n",
       "\t<tr><th scope=row>479</th><td>80</td><td>senate</td><td>T000164</td><td>Elbert  </td><td>Duncan   </td><td>Thomas    </td><td>   </td><td>1883-06-17</td><td>UT</td><td>D</td><td>Yes</td><td>1/3/47</td><td>63.5</td></tr>\n",
       "\t<tr><th scope=row>480</th><td>80</td><td>senate</td><td>J000127</td><td>Edwin   </td><td>Carl     </td><td>Johnson   </td><td>   </td><td>1884-01-01</td><td>CO</td><td>D</td><td>Yes</td><td>1/3/47</td><td>63.0</td></tr>\n",
       "\t<tr><th scope=row>481</th><td>80</td><td>senate</td><td>D000469</td><td>Sheridan</td><td>         </td><td>Downey    </td><td>   </td><td>1884-03-11</td><td>CA</td><td>D</td><td>Yes</td><td>1/3/47</td><td>62.8</td></tr>\n",
       "\t<tr><th scope=row>482</th><td>80</td><td>senate</td><td>V000025</td><td>Arthur  </td><td>Hendrick </td><td>Vandenberg</td><td>   </td><td>1884-03-22</td><td>MI</td><td>R</td><td>Yes</td><td>1/3/47</td><td>62.8</td></tr>\n",
       "\t<tr><th scope=row>483</th><td>80</td><td>senate</td><td>W000581</td><td>George  </td><td>Allison  </td><td>Wilson    </td><td>   </td><td>1884-04-01</td><td>IA</td><td>R</td><td>Yes</td><td>1/3/47</td><td>62.8</td></tr>\n",
       "\t<tr><th scope=row>⋮</th><td>⋮</td><td>⋮</td><td>⋮</td><td>⋮</td><td>⋮</td><td>⋮</td><td>⋮</td><td>⋮</td><td>⋮</td><td>⋮</td><td>⋮</td><td>⋮</td><td>⋮</td></tr>\n",
       "\t<tr><th scope=row>18606</th><td>113</td><td>senate</td><td>K000360</td><td>Mark       </td><td>Steven </td><td>Kirk      </td><td>   </td><td>9/15/59 </td><td>IL</td><td>R</td><td>Yes</td><td>1/3/13</td><td>53.3</td></tr>\n",
       "\t<tr><th scope=row>18607</th><td>113</td><td>senate</td><td>C001070</td><td>Robert     </td><td>P.     </td><td>Casey     </td><td>Jr.</td><td>4/13/60 </td><td>PA</td><td>D</td><td>Yes</td><td>1/3/13</td><td>52.7</td></tr>\n",
       "\t<tr><th scope=row>18608</th><td>113</td><td>senate</td><td>H001041</td><td>Dean       </td><td>       </td><td>Heller    </td><td>   </td><td>5/10/60 </td><td>NV</td><td>R</td><td>Yes</td><td>1/3/13</td><td>52.7</td></tr>\n",
       "\t<tr><th scope=row>18609</th><td>113</td><td>senate</td><td>K000367</td><td>Amy        </td><td>Jean   </td><td>Klobuchar </td><td>   </td><td>5/25/60 </td><td>MN</td><td>D</td><td>Yes</td><td>1/3/13</td><td>52.6</td></tr>\n",
       "\t<tr><th scope=row>18610</th><td>113</td><td>senate</td><td>W000818</td><td>John       </td><td>E.     </td><td>Walsh     </td><td>   </td><td>11/3/60 </td><td>MT</td><td>D</td><td>No </td><td>1/3/13</td><td>52.2</td></tr>\n",
       "\t<tr><th scope=row>18611</th><td>113</td><td>senate</td><td>T000250</td><td>John       </td><td>       </td><td>Thune     </td><td>   </td><td>1/7/61  </td><td>SD</td><td>R</td><td>Yes</td><td>1/3/13</td><td>52.0</td></tr>\n",
       "\t<tr><th scope=row>18612</th><td>113</td><td>senate</td><td>V000127</td><td>David      </td><td>       </td><td>Vitter    </td><td>   </td><td>5/3/61  </td><td>LA</td><td>R</td><td>Yes</td><td>1/3/13</td><td>51.7</td></tr>\n",
       "\t<tr><th scope=row>18613</th><td>113</td><td>senate</td><td>T000461</td><td>Patrick    </td><td>J.     </td><td>Toomey    </td><td>   </td><td>11/17/61</td><td>PA</td><td>R</td><td>Yes</td><td>1/3/13</td><td>51.1</td></tr>\n",
       "\t<tr><th scope=row>18614</th><td>113</td><td>senate</td><td>B001230</td><td>Tammy      </td><td>       </td><td>Baldwin   </td><td>   </td><td>2/11/62 </td><td>WI</td><td>D</td><td>Yes</td><td>1/3/13</td><td>50.9</td></tr>\n",
       "\t<tr><th scope=row>18615</th><td>113</td><td>senate</td><td>B001265</td><td>Mark       </td><td>       </td><td>Begich    </td><td>   </td><td>3/30/62 </td><td>AK</td><td>D</td><td>Yes</td><td>1/3/13</td><td>50.8</td></tr>\n",
       "\t<tr><th scope=row>18616</th><td>113</td><td>senate</td><td>F000444</td><td>Jeff       </td><td>       </td><td>Flake     </td><td>   </td><td>12/31/62</td><td>AZ</td><td>R</td><td>Yes</td><td>1/3/13</td><td>50.0</td></tr>\n",
       "\t<tr><th scope=row>18617</th><td>113</td><td>senate</td><td>P000603</td><td>Rand       </td><td>       </td><td>Paul      </td><td>   </td><td>1/7/63  </td><td>KY</td><td>R</td><td>Yes</td><td>1/3/13</td><td>50.0</td></tr>\n",
       "\t<tr><th scope=row>18618</th><td>113</td><td>senate</td><td>P000590</td><td>Mark       </td><td>       </td><td>Pryor     </td><td>   </td><td>1/10/63 </td><td>AR</td><td>D</td><td>Yes</td><td>1/3/13</td><td>50.0</td></tr>\n",
       "\t<tr><th scope=row>18619</th><td>113</td><td>senate</td><td>C001088</td><td>Chris      </td><td>Andrew </td><td>Coons     </td><td>   </td><td>9/9/63  </td><td>DE</td><td>D</td><td>Yes</td><td>1/3/13</td><td>49.3</td></tr>\n",
       "\t<tr><th scope=row>18620</th><td>113</td><td>senate</td><td>B001267</td><td>Michael    </td><td>F.     </td><td>Bennet    </td><td>   </td><td>11/28/64</td><td>CO</td><td>D</td><td>Yes</td><td>1/3/13</td><td>48.1</td></tr>\n",
       "\t<tr><th scope=row>18621</th><td>113</td><td>senate</td><td>S001184</td><td>Tim        </td><td>       </td><td>Scott     </td><td>   </td><td>9/19/65 </td><td>SC</td><td>R</td><td>Yes</td><td>1/3/13</td><td>47.3</td></tr>\n",
       "\t<tr><th scope=row>18622</th><td>113</td><td>senate</td><td>G000555</td><td>Kirsten    </td><td>E.     </td><td>Gillibrand</td><td>   </td><td>12/9/66 </td><td>NY</td><td>D</td><td>Yes</td><td>1/3/13</td><td>46.1</td></tr>\n",
       "\t<tr><th scope=row>18623</th><td>113</td><td>senate</td><td>A000368</td><td>Kelly      </td><td>       </td><td>Ayotte    </td><td>   </td><td>6/27/68 </td><td>NH</td><td>R</td><td>Yes</td><td>1/3/13</td><td>44.5</td></tr>\n",
       "\t<tr><th scope=row>18624</th><td>113</td><td>senate</td><td>B001288</td><td>Cory       </td><td>Anthony</td><td>Booker    </td><td>   </td><td>4/27/69 </td><td>NJ</td><td>D</td><td>No </td><td>1/3/13</td><td>43.7</td></tr>\n",
       "\t<tr><th scope=row>18625</th><td>113</td><td>senate</td><td>C001098</td><td>Ted        </td><td>       </td><td>Cruz      </td><td>   </td><td>12/22/70</td><td>TX</td><td>R</td><td>No </td><td>1/3/13</td><td>42.0</td></tr>\n",
       "\t<tr><th scope=row>18626</th><td>113</td><td>senate</td><td>R000595</td><td>Marco      </td><td>       </td><td>Rubio     </td><td>   </td><td>5/28/71 </td><td>FL</td><td>R</td><td>Yes</td><td>1/3/13</td><td>41.6</td></tr>\n",
       "\t<tr><th scope=row>18627</th><td>113</td><td>senate</td><td>L000577</td><td>Mike       </td><td>       </td><td>Lee       </td><td>   </td><td>6/4/71  </td><td>UT</td><td>R</td><td>Yes</td><td>1/3/13</td><td>41.6</td></tr>\n",
       "\t<tr><th scope=row>18628</th><td>113</td><td>senate</td><td>H001046</td><td>Martin     </td><td>       </td><td>Heinrich  </td><td>   </td><td>10/17/71</td><td>NM</td><td>D</td><td>Yes</td><td>1/3/13</td><td>41.2</td></tr>\n",
       "\t<tr><th scope=row>18629</th><td>113</td><td>senate</td><td>S001194</td><td>Brian      </td><td>Emanuel</td><td>Schatz    </td><td>   </td><td>10/20/72</td><td>HI</td><td>D</td><td>Yes</td><td>1/3/13</td><td>40.2</td></tr>\n",
       "\t<tr><th scope=row>18630</th><td>113</td><td>senate</td><td>M001169</td><td>Christopher</td><td>S.     </td><td>Murphy    </td><td>   </td><td>8/3/73  </td><td>CT</td><td>D</td><td>Yes</td><td>1/3/13</td><td>39.4</td></tr>\n",
       "\t<tr><th scope=row>18631</th><td>113</td><td>senate</td><td>B000243</td><td>Max        </td><td>S.     </td><td>Baucus    </td><td>   </td><td>12/10/37</td><td>MT</td><td>D</td><td>Yes</td><td>1/3/13</td><td>75.1</td></tr>\n",
       "\t<tr><th scope=row>18632</th><td>113</td><td>senate</td><td>C001099</td><td>William    </td><td>       </td><td>Cowan     </td><td>   </td><td>4/3/65  </td><td>MA</td><td>D</td><td>No </td><td>1/3/13</td><td>47.8</td></tr>\n",
       "\t<tr><th scope=row>18633</th><td>113</td><td>senate</td><td>C001100</td><td>Jeffrey    </td><td>Scott  </td><td>Chiesa    </td><td>   </td><td>6/21/61 </td><td>NJ</td><td>R</td><td>No </td><td>1/3/13</td><td>51.5</td></tr>\n",
       "\t<tr><th scope=row>18634</th><td>113</td><td>senate</td><td>K000148</td><td>John       </td><td>Forbes </td><td>Kerry     </td><td>   </td><td>12/10/39</td><td>MA</td><td>D</td><td>Yes</td><td>1/3/13</td><td>73.1</td></tr>\n",
       "\t<tr><th scope=row>18635</th><td>113</td><td>senate</td><td>L000123</td><td>Frank      </td><td>R.     </td><td>Lautenberg</td><td>   </td><td>1/22/20 </td><td>NJ</td><td>D</td><td>Yes</td><td>1/3/13</td><td>93.0</td></tr>\n",
       "</tbody>\n",
       "</table>\n"
      ],
      "text/latex": [
       "A data.frame: 3552 × 13\n",
       "\\begin{tabular}{r|lllllllllllll}\n",
       "  & congress & chamber & bioguide & firstname & middlename & lastname & suffix & birthday & state & party & incumbent & termstart & age\\\\\n",
       "  & <int> & <fct> & <fct> & <fct> & <fct> & <fct> & <fct> & <fct> & <fct> & <fct> & <fct> & <fct> & <dbl>\\\\\n",
       "\\hline\n",
       "\t454 & 80 & senate & C000133 & Arthur   &           & Capper     &     & 1865-07-14 & KS & R & Yes & 1/3/47 & 81.5\\\\\n",
       "\t455 & 80 & senate & G000418 & Theodore & Francis   & Green      &     & 1867-10-02 & RI & D & Yes & 1/3/47 & 79.3\\\\\n",
       "\t456 & 80 & senate & M000499 & Kenneth  & Douglas   & McKellar   &     & 1869-01-29 & TN & D & Yes & 1/3/47 & 77.9\\\\\n",
       "\t457 & 80 & senate & R000112 & Clyde    & Martin    & Reed       &     & 1871-10-19 & KS & R & Yes & 1/3/47 & 75.2\\\\\n",
       "\t458 & 80 & senate & M000895 & Edward   & Hall      & Moore      &     & 1871-11-19 & OK & R & Yes & 1/3/47 & 75.1\\\\\n",
       "\t459 & 80 & senate & O000146 & John     & Holmes    & Overton    &     & 1875-09-17 & LA & D & Yes & 1/3/47 & 71.3\\\\\n",
       "\t460 & 80 & senate & M001108 & James    & Edward    & Murray     &     & 1876-05-03 & MT & D & Yes & 1/3/47 & 70.7\\\\\n",
       "\t461 & 80 & senate & M000308 & Patrick  & Anthony   & McCarran   &     & 1876-08-08 & NV & D & Yes & 1/3/47 & 70.4\\\\\n",
       "\t462 & 80 & senate & T000165 & Elmer    &           & Thomas     &     & 1876-09-08 & OK & D & Yes & 1/3/47 & 70.3\\\\\n",
       "\t463 & 80 & senate & W000021 & Robert   & Ferdinand & Wagner     &     & 1877-06-08 & NY & D & Yes & 1/3/47 & 69.6\\\\\n",
       "\t464 & 80 & senate & W000396 & Wallace  & Humphrey  & White      & Jr. & 1877-08-06 & ME & R & Yes & 1/3/47 & 69.4\\\\\n",
       "\t465 & 80 & senate & C000684 & Thomas   & Terry     & Connally   &     & 1877-08-19 & TX & D & Yes & 1/3/47 & 69.4\\\\\n",
       "\t466 & 80 & senate & H000385 & Carl     & Trumbull  & Hayden     &     & 1877-10-02 & AZ & D & Yes & 1/3/47 & 69.3\\\\\n",
       "\t467 & 80 & senate & B000460 & Theodore & Gilmore   & Bilbo      &     & 1877-10-13 & MS & D & Yes & 1/3/47 & 69.2\\\\\n",
       "\t468 & 80 & senate & B000145 & Alben    & William   & Barkley    &     & 1877-11-24 & KY & D & Yes & 1/3/47 & 69.1\\\\\n",
       "\t469 & 80 & senate & H000679 & Clyde    & Roark     & Hoey       &     & 1877-12-11 & NC & D & Yes & 1/3/47 & 69.1\\\\\n",
       "\t470 & 80 & senate & G000131 & Walter   & Franklin  & George     &     & 1878-01-29 & GA & D & Yes & 1/3/47 & 68.9\\\\\n",
       "\t471 & 80 & senate & B001177 & Hugh     & Alfred    & Butler     &     & 1878-02-28 & NE & R & Yes & 1/3/47 & 68.8\\\\\n",
       "\t472 & 80 & senate & H000365 & Albert   & Wahl      & Hawkes     &     & 1878-11-20 & NJ & R & Yes & 1/3/47 & 68.1\\\\\n",
       "\t473 & 80 & senate & M000177 & Edward   &           & Martin     &     & 1879-09-18 & PA & R & No  & 1/3/47 & 67.3\\\\\n",
       "\t474 & 80 & senate & S000553 & Howard   & Alexander & Smith      &     & 1880-01-30 & NJ & R & Yes & 1/3/47 & 66.9\\\\\n",
       "\t475 & 80 & senate & T000289 & Charles  & William   & Tobey      &     & 1880-07-22 & NH & R & Yes & 1/3/47 & 66.4\\\\\n",
       "\t476 & 80 & senate & F000190 & Ralph    & Edward    & Flanders   &     & 1880-09-28 & VT & R & Yes & 1/3/47 & 66.3\\\\\n",
       "\t477 & 80 & senate & R000320 & Edward   & Vivian    & Robertson  &     & 1881-05-27 & WY & R & Yes & 1/3/47 & 65.6\\\\\n",
       "\t478 & 80 & senate & B001168 & Harlan   & John      & Bushfield  &     & 1882-08-06 & SD & R & Yes & 1/3/47 & 64.4\\\\\n",
       "\t479 & 80 & senate & T000164 & Elbert   & Duncan    & Thomas     &     & 1883-06-17 & UT & D & Yes & 1/3/47 & 63.5\\\\\n",
       "\t480 & 80 & senate & J000127 & Edwin    & Carl      & Johnson    &     & 1884-01-01 & CO & D & Yes & 1/3/47 & 63.0\\\\\n",
       "\t481 & 80 & senate & D000469 & Sheridan &           & Downey     &     & 1884-03-11 & CA & D & Yes & 1/3/47 & 62.8\\\\\n",
       "\t482 & 80 & senate & V000025 & Arthur   & Hendrick  & Vandenberg &     & 1884-03-22 & MI & R & Yes & 1/3/47 & 62.8\\\\\n",
       "\t483 & 80 & senate & W000581 & George   & Allison   & Wilson     &     & 1884-04-01 & IA & R & Yes & 1/3/47 & 62.8\\\\\n",
       "\t⋮ & ⋮ & ⋮ & ⋮ & ⋮ & ⋮ & ⋮ & ⋮ & ⋮ & ⋮ & ⋮ & ⋮ & ⋮ & ⋮\\\\\n",
       "\t18606 & 113 & senate & K000360 & Mark        & Steven  & Kirk       &     & 9/15/59  & IL & R & Yes & 1/3/13 & 53.3\\\\\n",
       "\t18607 & 113 & senate & C001070 & Robert      & P.      & Casey      & Jr. & 4/13/60  & PA & D & Yes & 1/3/13 & 52.7\\\\\n",
       "\t18608 & 113 & senate & H001041 & Dean        &         & Heller     &     & 5/10/60  & NV & R & Yes & 1/3/13 & 52.7\\\\\n",
       "\t18609 & 113 & senate & K000367 & Amy         & Jean    & Klobuchar  &     & 5/25/60  & MN & D & Yes & 1/3/13 & 52.6\\\\\n",
       "\t18610 & 113 & senate & W000818 & John        & E.      & Walsh      &     & 11/3/60  & MT & D & No  & 1/3/13 & 52.2\\\\\n",
       "\t18611 & 113 & senate & T000250 & John        &         & Thune      &     & 1/7/61   & SD & R & Yes & 1/3/13 & 52.0\\\\\n",
       "\t18612 & 113 & senate & V000127 & David       &         & Vitter     &     & 5/3/61   & LA & R & Yes & 1/3/13 & 51.7\\\\\n",
       "\t18613 & 113 & senate & T000461 & Patrick     & J.      & Toomey     &     & 11/17/61 & PA & R & Yes & 1/3/13 & 51.1\\\\\n",
       "\t18614 & 113 & senate & B001230 & Tammy       &         & Baldwin    &     & 2/11/62  & WI & D & Yes & 1/3/13 & 50.9\\\\\n",
       "\t18615 & 113 & senate & B001265 & Mark        &         & Begich     &     & 3/30/62  & AK & D & Yes & 1/3/13 & 50.8\\\\\n",
       "\t18616 & 113 & senate & F000444 & Jeff        &         & Flake      &     & 12/31/62 & AZ & R & Yes & 1/3/13 & 50.0\\\\\n",
       "\t18617 & 113 & senate & P000603 & Rand        &         & Paul       &     & 1/7/63   & KY & R & Yes & 1/3/13 & 50.0\\\\\n",
       "\t18618 & 113 & senate & P000590 & Mark        &         & Pryor      &     & 1/10/63  & AR & D & Yes & 1/3/13 & 50.0\\\\\n",
       "\t18619 & 113 & senate & C001088 & Chris       & Andrew  & Coons      &     & 9/9/63   & DE & D & Yes & 1/3/13 & 49.3\\\\\n",
       "\t18620 & 113 & senate & B001267 & Michael     & F.      & Bennet     &     & 11/28/64 & CO & D & Yes & 1/3/13 & 48.1\\\\\n",
       "\t18621 & 113 & senate & S001184 & Tim         &         & Scott      &     & 9/19/65  & SC & R & Yes & 1/3/13 & 47.3\\\\\n",
       "\t18622 & 113 & senate & G000555 & Kirsten     & E.      & Gillibrand &     & 12/9/66  & NY & D & Yes & 1/3/13 & 46.1\\\\\n",
       "\t18623 & 113 & senate & A000368 & Kelly       &         & Ayotte     &     & 6/27/68  & NH & R & Yes & 1/3/13 & 44.5\\\\\n",
       "\t18624 & 113 & senate & B001288 & Cory        & Anthony & Booker     &     & 4/27/69  & NJ & D & No  & 1/3/13 & 43.7\\\\\n",
       "\t18625 & 113 & senate & C001098 & Ted         &         & Cruz       &     & 12/22/70 & TX & R & No  & 1/3/13 & 42.0\\\\\n",
       "\t18626 & 113 & senate & R000595 & Marco       &         & Rubio      &     & 5/28/71  & FL & R & Yes & 1/3/13 & 41.6\\\\\n",
       "\t18627 & 113 & senate & L000577 & Mike        &         & Lee        &     & 6/4/71   & UT & R & Yes & 1/3/13 & 41.6\\\\\n",
       "\t18628 & 113 & senate & H001046 & Martin      &         & Heinrich   &     & 10/17/71 & NM & D & Yes & 1/3/13 & 41.2\\\\\n",
       "\t18629 & 113 & senate & S001194 & Brian       & Emanuel & Schatz     &     & 10/20/72 & HI & D & Yes & 1/3/13 & 40.2\\\\\n",
       "\t18630 & 113 & senate & M001169 & Christopher & S.      & Murphy     &     & 8/3/73   & CT & D & Yes & 1/3/13 & 39.4\\\\\n",
       "\t18631 & 113 & senate & B000243 & Max         & S.      & Baucus     &     & 12/10/37 & MT & D & Yes & 1/3/13 & 75.1\\\\\n",
       "\t18632 & 113 & senate & C001099 & William     &         & Cowan      &     & 4/3/65   & MA & D & No  & 1/3/13 & 47.8\\\\\n",
       "\t18633 & 113 & senate & C001100 & Jeffrey     & Scott   & Chiesa     &     & 6/21/61  & NJ & R & No  & 1/3/13 & 51.5\\\\\n",
       "\t18634 & 113 & senate & K000148 & John        & Forbes  & Kerry      &     & 12/10/39 & MA & D & Yes & 1/3/13 & 73.1\\\\\n",
       "\t18635 & 113 & senate & L000123 & Frank       & R.      & Lautenberg &     & 1/22/20  & NJ & D & Yes & 1/3/13 & 93.0\\\\\n",
       "\\end{tabular}\n"
      ],
      "text/markdown": [
       "\n",
       "A data.frame: 3552 × 13\n",
       "\n",
       "| <!--/--> | congress &lt;int&gt; | chamber &lt;fct&gt; | bioguide &lt;fct&gt; | firstname &lt;fct&gt; | middlename &lt;fct&gt; | lastname &lt;fct&gt; | suffix &lt;fct&gt; | birthday &lt;fct&gt; | state &lt;fct&gt; | party &lt;fct&gt; | incumbent &lt;fct&gt; | termstart &lt;fct&gt; | age &lt;dbl&gt; |\n",
       "|---|---|---|---|---|---|---|---|---|---|---|---|---|---|\n",
       "| 454 | 80 | senate | C000133 | Arthur   | <!----> | Capper     | <!----> | 1865-07-14 | KS | R | Yes | 1/3/47 | 81.5 |\n",
       "| 455 | 80 | senate | G000418 | Theodore | Francis   | Green      | <!----> | 1867-10-02 | RI | D | Yes | 1/3/47 | 79.3 |\n",
       "| 456 | 80 | senate | M000499 | Kenneth  | Douglas   | McKellar   | <!----> | 1869-01-29 | TN | D | Yes | 1/3/47 | 77.9 |\n",
       "| 457 | 80 | senate | R000112 | Clyde    | Martin    | Reed       | <!----> | 1871-10-19 | KS | R | Yes | 1/3/47 | 75.2 |\n",
       "| 458 | 80 | senate | M000895 | Edward   | Hall      | Moore      | <!----> | 1871-11-19 | OK | R | Yes | 1/3/47 | 75.1 |\n",
       "| 459 | 80 | senate | O000146 | John     | Holmes    | Overton    | <!----> | 1875-09-17 | LA | D | Yes | 1/3/47 | 71.3 |\n",
       "| 460 | 80 | senate | M001108 | James    | Edward    | Murray     | <!----> | 1876-05-03 | MT | D | Yes | 1/3/47 | 70.7 |\n",
       "| 461 | 80 | senate | M000308 | Patrick  | Anthony   | McCarran   | <!----> | 1876-08-08 | NV | D | Yes | 1/3/47 | 70.4 |\n",
       "| 462 | 80 | senate | T000165 | Elmer    | <!----> | Thomas     | <!----> | 1876-09-08 | OK | D | Yes | 1/3/47 | 70.3 |\n",
       "| 463 | 80 | senate | W000021 | Robert   | Ferdinand | Wagner     | <!----> | 1877-06-08 | NY | D | Yes | 1/3/47 | 69.6 |\n",
       "| 464 | 80 | senate | W000396 | Wallace  | Humphrey  | White      | Jr. | 1877-08-06 | ME | R | Yes | 1/3/47 | 69.4 |\n",
       "| 465 | 80 | senate | C000684 | Thomas   | Terry     | Connally   | <!----> | 1877-08-19 | TX | D | Yes | 1/3/47 | 69.4 |\n",
       "| 466 | 80 | senate | H000385 | Carl     | Trumbull  | Hayden     | <!----> | 1877-10-02 | AZ | D | Yes | 1/3/47 | 69.3 |\n",
       "| 467 | 80 | senate | B000460 | Theodore | Gilmore   | Bilbo      | <!----> | 1877-10-13 | MS | D | Yes | 1/3/47 | 69.2 |\n",
       "| 468 | 80 | senate | B000145 | Alben    | William   | Barkley    | <!----> | 1877-11-24 | KY | D | Yes | 1/3/47 | 69.1 |\n",
       "| 469 | 80 | senate | H000679 | Clyde    | Roark     | Hoey       | <!----> | 1877-12-11 | NC | D | Yes | 1/3/47 | 69.1 |\n",
       "| 470 | 80 | senate | G000131 | Walter   | Franklin  | George     | <!----> | 1878-01-29 | GA | D | Yes | 1/3/47 | 68.9 |\n",
       "| 471 | 80 | senate | B001177 | Hugh     | Alfred    | Butler     | <!----> | 1878-02-28 | NE | R | Yes | 1/3/47 | 68.8 |\n",
       "| 472 | 80 | senate | H000365 | Albert   | Wahl      | Hawkes     | <!----> | 1878-11-20 | NJ | R | Yes | 1/3/47 | 68.1 |\n",
       "| 473 | 80 | senate | M000177 | Edward   | <!----> | Martin     | <!----> | 1879-09-18 | PA | R | No  | 1/3/47 | 67.3 |\n",
       "| 474 | 80 | senate | S000553 | Howard   | Alexander | Smith      | <!----> | 1880-01-30 | NJ | R | Yes | 1/3/47 | 66.9 |\n",
       "| 475 | 80 | senate | T000289 | Charles  | William   | Tobey      | <!----> | 1880-07-22 | NH | R | Yes | 1/3/47 | 66.4 |\n",
       "| 476 | 80 | senate | F000190 | Ralph    | Edward    | Flanders   | <!----> | 1880-09-28 | VT | R | Yes | 1/3/47 | 66.3 |\n",
       "| 477 | 80 | senate | R000320 | Edward   | Vivian    | Robertson  | <!----> | 1881-05-27 | WY | R | Yes | 1/3/47 | 65.6 |\n",
       "| 478 | 80 | senate | B001168 | Harlan   | John      | Bushfield  | <!----> | 1882-08-06 | SD | R | Yes | 1/3/47 | 64.4 |\n",
       "| 479 | 80 | senate | T000164 | Elbert   | Duncan    | Thomas     | <!----> | 1883-06-17 | UT | D | Yes | 1/3/47 | 63.5 |\n",
       "| 480 | 80 | senate | J000127 | Edwin    | Carl      | Johnson    | <!----> | 1884-01-01 | CO | D | Yes | 1/3/47 | 63.0 |\n",
       "| 481 | 80 | senate | D000469 | Sheridan | <!----> | Downey     | <!----> | 1884-03-11 | CA | D | Yes | 1/3/47 | 62.8 |\n",
       "| 482 | 80 | senate | V000025 | Arthur   | Hendrick  | Vandenberg | <!----> | 1884-03-22 | MI | R | Yes | 1/3/47 | 62.8 |\n",
       "| 483 | 80 | senate | W000581 | George   | Allison   | Wilson     | <!----> | 1884-04-01 | IA | R | Yes | 1/3/47 | 62.8 |\n",
       "| ⋮ | ⋮ | ⋮ | ⋮ | ⋮ | ⋮ | ⋮ | ⋮ | ⋮ | ⋮ | ⋮ | ⋮ | ⋮ | ⋮ |\n",
       "| 18606 | 113 | senate | K000360 | Mark        | Steven  | Kirk       | <!----> | 9/15/59  | IL | R | Yes | 1/3/13 | 53.3 |\n",
       "| 18607 | 113 | senate | C001070 | Robert      | P.      | Casey      | Jr. | 4/13/60  | PA | D | Yes | 1/3/13 | 52.7 |\n",
       "| 18608 | 113 | senate | H001041 | Dean        | <!----> | Heller     | <!----> | 5/10/60  | NV | R | Yes | 1/3/13 | 52.7 |\n",
       "| 18609 | 113 | senate | K000367 | Amy         | Jean    | Klobuchar  | <!----> | 5/25/60  | MN | D | Yes | 1/3/13 | 52.6 |\n",
       "| 18610 | 113 | senate | W000818 | John        | E.      | Walsh      | <!----> | 11/3/60  | MT | D | No  | 1/3/13 | 52.2 |\n",
       "| 18611 | 113 | senate | T000250 | John        | <!----> | Thune      | <!----> | 1/7/61   | SD | R | Yes | 1/3/13 | 52.0 |\n",
       "| 18612 | 113 | senate | V000127 | David       | <!----> | Vitter     | <!----> | 5/3/61   | LA | R | Yes | 1/3/13 | 51.7 |\n",
       "| 18613 | 113 | senate | T000461 | Patrick     | J.      | Toomey     | <!----> | 11/17/61 | PA | R | Yes | 1/3/13 | 51.1 |\n",
       "| 18614 | 113 | senate | B001230 | Tammy       | <!----> | Baldwin    | <!----> | 2/11/62  | WI | D | Yes | 1/3/13 | 50.9 |\n",
       "| 18615 | 113 | senate | B001265 | Mark        | <!----> | Begich     | <!----> | 3/30/62  | AK | D | Yes | 1/3/13 | 50.8 |\n",
       "| 18616 | 113 | senate | F000444 | Jeff        | <!----> | Flake      | <!----> | 12/31/62 | AZ | R | Yes | 1/3/13 | 50.0 |\n",
       "| 18617 | 113 | senate | P000603 | Rand        | <!----> | Paul       | <!----> | 1/7/63   | KY | R | Yes | 1/3/13 | 50.0 |\n",
       "| 18618 | 113 | senate | P000590 | Mark        | <!----> | Pryor      | <!----> | 1/10/63  | AR | D | Yes | 1/3/13 | 50.0 |\n",
       "| 18619 | 113 | senate | C001088 | Chris       | Andrew  | Coons      | <!----> | 9/9/63   | DE | D | Yes | 1/3/13 | 49.3 |\n",
       "| 18620 | 113 | senate | B001267 | Michael     | F.      | Bennet     | <!----> | 11/28/64 | CO | D | Yes | 1/3/13 | 48.1 |\n",
       "| 18621 | 113 | senate | S001184 | Tim         | <!----> | Scott      | <!----> | 9/19/65  | SC | R | Yes | 1/3/13 | 47.3 |\n",
       "| 18622 | 113 | senate | G000555 | Kirsten     | E.      | Gillibrand | <!----> | 12/9/66  | NY | D | Yes | 1/3/13 | 46.1 |\n",
       "| 18623 | 113 | senate | A000368 | Kelly       | <!----> | Ayotte     | <!----> | 6/27/68  | NH | R | Yes | 1/3/13 | 44.5 |\n",
       "| 18624 | 113 | senate | B001288 | Cory        | Anthony | Booker     | <!----> | 4/27/69  | NJ | D | No  | 1/3/13 | 43.7 |\n",
       "| 18625 | 113 | senate | C001098 | Ted         | <!----> | Cruz       | <!----> | 12/22/70 | TX | R | No  | 1/3/13 | 42.0 |\n",
       "| 18626 | 113 | senate | R000595 | Marco       | <!----> | Rubio      | <!----> | 5/28/71  | FL | R | Yes | 1/3/13 | 41.6 |\n",
       "| 18627 | 113 | senate | L000577 | Mike        | <!----> | Lee        | <!----> | 6/4/71   | UT | R | Yes | 1/3/13 | 41.6 |\n",
       "| 18628 | 113 | senate | H001046 | Martin      | <!----> | Heinrich   | <!----> | 10/17/71 | NM | D | Yes | 1/3/13 | 41.2 |\n",
       "| 18629 | 113 | senate | S001194 | Brian       | Emanuel | Schatz     | <!----> | 10/20/72 | HI | D | Yes | 1/3/13 | 40.2 |\n",
       "| 18630 | 113 | senate | M001169 | Christopher | S.      | Murphy     | <!----> | 8/3/73   | CT | D | Yes | 1/3/13 | 39.4 |\n",
       "| 18631 | 113 | senate | B000243 | Max         | S.      | Baucus     | <!----> | 12/10/37 | MT | D | Yes | 1/3/13 | 75.1 |\n",
       "| 18632 | 113 | senate | C001099 | William     | <!----> | Cowan      | <!----> | 4/3/65   | MA | D | No  | 1/3/13 | 47.8 |\n",
       "| 18633 | 113 | senate | C001100 | Jeffrey     | Scott   | Chiesa     | <!----> | 6/21/61  | NJ | R | No  | 1/3/13 | 51.5 |\n",
       "| 18634 | 113 | senate | K000148 | John        | Forbes  | Kerry      | <!----> | 12/10/39 | MA | D | Yes | 1/3/13 | 73.1 |\n",
       "| 18635 | 113 | senate | L000123 | Frank       | R.      | Lautenberg | <!----> | 1/22/20  | NJ | D | Yes | 1/3/13 | 93.0 |\n",
       "\n"
      ],
      "text/plain": [
       "      congress chamber bioguide firstname   middlename lastname   suffix\n",
       "454   80       senate  C000133  Arthur                 Capper           \n",
       "455   80       senate  G000418  Theodore    Francis    Green            \n",
       "456   80       senate  M000499  Kenneth     Douglas    McKellar         \n",
       "457   80       senate  R000112  Clyde       Martin     Reed             \n",
       "458   80       senate  M000895  Edward      Hall       Moore            \n",
       "459   80       senate  O000146  John        Holmes     Overton          \n",
       "460   80       senate  M001108  James       Edward     Murray           \n",
       "461   80       senate  M000308  Patrick     Anthony    McCarran         \n",
       "462   80       senate  T000165  Elmer                  Thomas           \n",
       "463   80       senate  W000021  Robert      Ferdinand  Wagner           \n",
       "464   80       senate  W000396  Wallace     Humphrey   White      Jr.   \n",
       "465   80       senate  C000684  Thomas      Terry      Connally         \n",
       "466   80       senate  H000385  Carl        Trumbull   Hayden           \n",
       "467   80       senate  B000460  Theodore    Gilmore    Bilbo            \n",
       "468   80       senate  B000145  Alben       William    Barkley          \n",
       "469   80       senate  H000679  Clyde       Roark      Hoey             \n",
       "470   80       senate  G000131  Walter      Franklin   George           \n",
       "471   80       senate  B001177  Hugh        Alfred     Butler           \n",
       "472   80       senate  H000365  Albert      Wahl       Hawkes           \n",
       "473   80       senate  M000177  Edward                 Martin           \n",
       "474   80       senate  S000553  Howard      Alexander  Smith            \n",
       "475   80       senate  T000289  Charles     William    Tobey            \n",
       "476   80       senate  F000190  Ralph       Edward     Flanders         \n",
       "477   80       senate  R000320  Edward      Vivian     Robertson        \n",
       "478   80       senate  B001168  Harlan      John       Bushfield        \n",
       "479   80       senate  T000164  Elbert      Duncan     Thomas           \n",
       "480   80       senate  J000127  Edwin       Carl       Johnson          \n",
       "481   80       senate  D000469  Sheridan               Downey           \n",
       "482   80       senate  V000025  Arthur      Hendrick   Vandenberg       \n",
       "483   80       senate  W000581  George      Allison    Wilson           \n",
       "⋮     ⋮        ⋮       ⋮        ⋮           ⋮          ⋮          ⋮     \n",
       "18606 113      senate  K000360  Mark        Steven     Kirk             \n",
       "18607 113      senate  C001070  Robert      P.         Casey      Jr.   \n",
       "18608 113      senate  H001041  Dean                   Heller           \n",
       "18609 113      senate  K000367  Amy         Jean       Klobuchar        \n",
       "18610 113      senate  W000818  John        E.         Walsh            \n",
       "18611 113      senate  T000250  John                   Thune            \n",
       "18612 113      senate  V000127  David                  Vitter           \n",
       "18613 113      senate  T000461  Patrick     J.         Toomey           \n",
       "18614 113      senate  B001230  Tammy                  Baldwin          \n",
       "18615 113      senate  B001265  Mark                   Begich           \n",
       "18616 113      senate  F000444  Jeff                   Flake            \n",
       "18617 113      senate  P000603  Rand                   Paul             \n",
       "18618 113      senate  P000590  Mark                   Pryor            \n",
       "18619 113      senate  C001088  Chris       Andrew     Coons            \n",
       "18620 113      senate  B001267  Michael     F.         Bennet           \n",
       "18621 113      senate  S001184  Tim                    Scott            \n",
       "18622 113      senate  G000555  Kirsten     E.         Gillibrand       \n",
       "18623 113      senate  A000368  Kelly                  Ayotte           \n",
       "18624 113      senate  B001288  Cory        Anthony    Booker           \n",
       "18625 113      senate  C001098  Ted                    Cruz             \n",
       "18626 113      senate  R000595  Marco                  Rubio            \n",
       "18627 113      senate  L000577  Mike                   Lee              \n",
       "18628 113      senate  H001046  Martin                 Heinrich         \n",
       "18629 113      senate  S001194  Brian       Emanuel    Schatz           \n",
       "18630 113      senate  M001169  Christopher S.         Murphy           \n",
       "18631 113      senate  B000243  Max         S.         Baucus           \n",
       "18632 113      senate  C001099  William                Cowan            \n",
       "18633 113      senate  C001100  Jeffrey     Scott      Chiesa           \n",
       "18634 113      senate  K000148  John        Forbes     Kerry            \n",
       "18635 113      senate  L000123  Frank       R.         Lautenberg       \n",
       "      birthday   state party incumbent termstart age \n",
       "454   1865-07-14 KS    R     Yes       1/3/47    81.5\n",
       "455   1867-10-02 RI    D     Yes       1/3/47    79.3\n",
       "456   1869-01-29 TN    D     Yes       1/3/47    77.9\n",
       "457   1871-10-19 KS    R     Yes       1/3/47    75.2\n",
       "458   1871-11-19 OK    R     Yes       1/3/47    75.1\n",
       "459   1875-09-17 LA    D     Yes       1/3/47    71.3\n",
       "460   1876-05-03 MT    D     Yes       1/3/47    70.7\n",
       "461   1876-08-08 NV    D     Yes       1/3/47    70.4\n",
       "462   1876-09-08 OK    D     Yes       1/3/47    70.3\n",
       "463   1877-06-08 NY    D     Yes       1/3/47    69.6\n",
       "464   1877-08-06 ME    R     Yes       1/3/47    69.4\n",
       "465   1877-08-19 TX    D     Yes       1/3/47    69.4\n",
       "466   1877-10-02 AZ    D     Yes       1/3/47    69.3\n",
       "467   1877-10-13 MS    D     Yes       1/3/47    69.2\n",
       "468   1877-11-24 KY    D     Yes       1/3/47    69.1\n",
       "469   1877-12-11 NC    D     Yes       1/3/47    69.1\n",
       "470   1878-01-29 GA    D     Yes       1/3/47    68.9\n",
       "471   1878-02-28 NE    R     Yes       1/3/47    68.8\n",
       "472   1878-11-20 NJ    R     Yes       1/3/47    68.1\n",
       "473   1879-09-18 PA    R     No        1/3/47    67.3\n",
       "474   1880-01-30 NJ    R     Yes       1/3/47    66.9\n",
       "475   1880-07-22 NH    R     Yes       1/3/47    66.4\n",
       "476   1880-09-28 VT    R     Yes       1/3/47    66.3\n",
       "477   1881-05-27 WY    R     Yes       1/3/47    65.6\n",
       "478   1882-08-06 SD    R     Yes       1/3/47    64.4\n",
       "479   1883-06-17 UT    D     Yes       1/3/47    63.5\n",
       "480   1884-01-01 CO    D     Yes       1/3/47    63.0\n",
       "481   1884-03-11 CA    D     Yes       1/3/47    62.8\n",
       "482   1884-03-22 MI    R     Yes       1/3/47    62.8\n",
       "483   1884-04-01 IA    R     Yes       1/3/47    62.8\n",
       "⋮     ⋮          ⋮     ⋮     ⋮         ⋮         ⋮   \n",
       "18606 9/15/59    IL    R     Yes       1/3/13    53.3\n",
       "18607 4/13/60    PA    D     Yes       1/3/13    52.7\n",
       "18608 5/10/60    NV    R     Yes       1/3/13    52.7\n",
       "18609 5/25/60    MN    D     Yes       1/3/13    52.6\n",
       "18610 11/3/60    MT    D     No        1/3/13    52.2\n",
       "18611 1/7/61     SD    R     Yes       1/3/13    52.0\n",
       "18612 5/3/61     LA    R     Yes       1/3/13    51.7\n",
       "18613 11/17/61   PA    R     Yes       1/3/13    51.1\n",
       "18614 2/11/62    WI    D     Yes       1/3/13    50.9\n",
       "18615 3/30/62    AK    D     Yes       1/3/13    50.8\n",
       "18616 12/31/62   AZ    R     Yes       1/3/13    50.0\n",
       "18617 1/7/63     KY    R     Yes       1/3/13    50.0\n",
       "18618 1/10/63    AR    D     Yes       1/3/13    50.0\n",
       "18619 9/9/63     DE    D     Yes       1/3/13    49.3\n",
       "18620 11/28/64   CO    D     Yes       1/3/13    48.1\n",
       "18621 9/19/65    SC    R     Yes       1/3/13    47.3\n",
       "18622 12/9/66    NY    D     Yes       1/3/13    46.1\n",
       "18623 6/27/68    NH    R     Yes       1/3/13    44.5\n",
       "18624 4/27/69    NJ    D     No        1/3/13    43.7\n",
       "18625 12/22/70   TX    R     No        1/3/13    42.0\n",
       "18626 5/28/71    FL    R     Yes       1/3/13    41.6\n",
       "18627 6/4/71     UT    R     Yes       1/3/13    41.6\n",
       "18628 10/17/71   NM    D     Yes       1/3/13    41.2\n",
       "18629 10/20/72   HI    D     Yes       1/3/13    40.2\n",
       "18630 8/3/73     CT    D     Yes       1/3/13    39.4\n",
       "18631 12/10/37   MT    D     Yes       1/3/13    75.1\n",
       "18632 4/3/65     MA    D     No        1/3/13    47.8\n",
       "18633 6/21/61    NJ    R     No        1/3/13    51.5\n",
       "18634 12/10/39   MA    D     Yes       1/3/13    73.1\n",
       "18635 1/22/20    NJ    D     Yes       1/3/13    93.0"
      ]
     },
     "metadata": {},
     "output_type": "display_data"
    }
   ],
   "source": [
    "# We are going to focus on senators because there are fewer of them, and they are elected statewide. Therefore they are a better\n",
    "# indicator of a states' overall voting preference\n",
    "\n",
    "df7 <- split(df, df$chamber)\n",
    "\n",
    "Senate <- df7$senate\n",
    "Senate\n",
    "\n"
   ]
  },
  {
   "cell_type": "code",
   "execution_count": 7,
   "metadata": {},
   "outputs": [
    {
     "data": {
      "text/html": [
       "<table>\n",
       "<caption>A data.frame: 6 × 13</caption>\n",
       "<thead>\n",
       "\t<tr><th scope=col>congress</th><th scope=col>chamber</th><th scope=col>bioguide</th><th scope=col>firstname</th><th scope=col>middlename</th><th scope=col>lastname</th><th scope=col>suffix</th><th scope=col>birthday</th><th scope=col>state</th><th scope=col>party</th><th scope=col>incumbent</th><th scope=col>termstart</th><th scope=col>age</th></tr>\n",
       "\t<tr><th scope=col>&lt;int&gt;</th><th scope=col>&lt;fct&gt;</th><th scope=col>&lt;fct&gt;</th><th scope=col>&lt;fct&gt;</th><th scope=col>&lt;fct&gt;</th><th scope=col>&lt;fct&gt;</th><th scope=col>&lt;fct&gt;</th><th scope=col>&lt;fct&gt;</th><th scope=col>&lt;fct&gt;</th><th scope=col>&lt;fct&gt;</th><th scope=col>&lt;fct&gt;</th><th scope=col>&lt;fct&gt;</th><th scope=col>&lt;dbl&gt;</th></tr>\n",
       "</thead>\n",
       "<tbody>\n",
       "\t<tr><td>80</td><td>senate</td><td>K000176</td><td>Harley </td><td>Martin   </td><td>Kilgore</td><td></td><td>1893-01-11</td><td>WV</td><td>D</td><td>Yes</td><td>1/3/47</td><td>54.0</td></tr>\n",
       "\t<tr><td>81</td><td>senate</td><td>N000023</td><td>Matthew</td><td>Mansfield</td><td>Neely  </td><td></td><td>1874-11-09</td><td>WV</td><td>D</td><td>No </td><td>1/3/49</td><td>74.1</td></tr>\n",
       "\t<tr><td>81</td><td>senate</td><td>K000176</td><td>Harley </td><td>Martin   </td><td>Kilgore</td><td></td><td>1893-01-11</td><td>WV</td><td>D</td><td>Yes</td><td>1/3/49</td><td>56.0</td></tr>\n",
       "\t<tr><td>82</td><td>senate</td><td>N000023</td><td>Matthew</td><td>Mansfield</td><td>Neely  </td><td></td><td>1874-11-09</td><td>WV</td><td>D</td><td>Yes</td><td>1/3/51</td><td>76.1</td></tr>\n",
       "\t<tr><td>82</td><td>senate</td><td>K000176</td><td>Harley </td><td>Martin   </td><td>Kilgore</td><td></td><td>1893-01-11</td><td>WV</td><td>D</td><td>Yes</td><td>1/3/51</td><td>58.0</td></tr>\n",
       "\t<tr><td>83</td><td>senate</td><td>N000023</td><td>Matthew</td><td>Mansfield</td><td>Neely  </td><td></td><td>1874-11-09</td><td>WV</td><td>D</td><td>Yes</td><td>1/3/53</td><td>78.1</td></tr>\n",
       "</tbody>\n",
       "</table>\n"
      ],
      "text/latex": [
       "A data.frame: 6 × 13\n",
       "\\begin{tabular}{r|lllllllllllll}\n",
       " congress & chamber & bioguide & firstname & middlename & lastname & suffix & birthday & state & party & incumbent & termstart & age\\\\\n",
       " <int> & <fct> & <fct> & <fct> & <fct> & <fct> & <fct> & <fct> & <fct> & <fct> & <fct> & <fct> & <dbl>\\\\\n",
       "\\hline\n",
       "\t 80 & senate & K000176 & Harley  & Martin    & Kilgore &  & 1893-01-11 & WV & D & Yes & 1/3/47 & 54.0\\\\\n",
       "\t 81 & senate & N000023 & Matthew & Mansfield & Neely   &  & 1874-11-09 & WV & D & No  & 1/3/49 & 74.1\\\\\n",
       "\t 81 & senate & K000176 & Harley  & Martin    & Kilgore &  & 1893-01-11 & WV & D & Yes & 1/3/49 & 56.0\\\\\n",
       "\t 82 & senate & N000023 & Matthew & Mansfield & Neely   &  & 1874-11-09 & WV & D & Yes & 1/3/51 & 76.1\\\\\n",
       "\t 82 & senate & K000176 & Harley  & Martin    & Kilgore &  & 1893-01-11 & WV & D & Yes & 1/3/51 & 58.0\\\\\n",
       "\t 83 & senate & N000023 & Matthew & Mansfield & Neely   &  & 1874-11-09 & WV & D & Yes & 1/3/53 & 78.1\\\\\n",
       "\\end{tabular}\n"
      ],
      "text/markdown": [
       "\n",
       "A data.frame: 6 × 13\n",
       "\n",
       "| congress &lt;int&gt; | chamber &lt;fct&gt; | bioguide &lt;fct&gt; | firstname &lt;fct&gt; | middlename &lt;fct&gt; | lastname &lt;fct&gt; | suffix &lt;fct&gt; | birthday &lt;fct&gt; | state &lt;fct&gt; | party &lt;fct&gt; | incumbent &lt;fct&gt; | termstart &lt;fct&gt; | age &lt;dbl&gt; |\n",
       "|---|---|---|---|---|---|---|---|---|---|---|---|---|\n",
       "| 80 | senate | K000176 | Harley  | Martin    | Kilgore | <!----> | 1893-01-11 | WV | D | Yes | 1/3/47 | 54.0 |\n",
       "| 81 | senate | N000023 | Matthew | Mansfield | Neely   | <!----> | 1874-11-09 | WV | D | No  | 1/3/49 | 74.1 |\n",
       "| 81 | senate | K000176 | Harley  | Martin    | Kilgore | <!----> | 1893-01-11 | WV | D | Yes | 1/3/49 | 56.0 |\n",
       "| 82 | senate | N000023 | Matthew | Mansfield | Neely   | <!----> | 1874-11-09 | WV | D | Yes | 1/3/51 | 76.1 |\n",
       "| 82 | senate | K000176 | Harley  | Martin    | Kilgore | <!----> | 1893-01-11 | WV | D | Yes | 1/3/51 | 58.0 |\n",
       "| 83 | senate | N000023 | Matthew | Mansfield | Neely   | <!----> | 1874-11-09 | WV | D | Yes | 1/3/53 | 78.1 |\n",
       "\n"
      ],
      "text/plain": [
       "  congress chamber bioguide firstname middlename lastname suffix birthday  \n",
       "1 80       senate  K000176  Harley    Martin     Kilgore         1893-01-11\n",
       "2 81       senate  N000023  Matthew   Mansfield  Neely           1874-11-09\n",
       "3 81       senate  K000176  Harley    Martin     Kilgore         1893-01-11\n",
       "4 82       senate  N000023  Matthew   Mansfield  Neely           1874-11-09\n",
       "5 82       senate  K000176  Harley    Martin     Kilgore         1893-01-11\n",
       "6 83       senate  N000023  Matthew   Mansfield  Neely           1874-11-09\n",
       "  state party incumbent termstart age \n",
       "1 WV    D     Yes       1/3/47    54.0\n",
       "2 WV    D     No        1/3/49    74.1\n",
       "3 WV    D     Yes       1/3/49    56.0\n",
       "4 WV    D     Yes       1/3/51    76.1\n",
       "5 WV    D     Yes       1/3/51    58.0\n",
       "6 WV    D     Yes       1/3/53    78.1"
      ]
     },
     "metadata": {},
     "output_type": "display_data"
    },
    {
     "data": {
      "text/html": [
       "<table>\n",
       "<caption>A data.frame: 6 × 13</caption>\n",
       "<thead>\n",
       "\t<tr><th scope=col>congress</th><th scope=col>chamber</th><th scope=col>bioguide</th><th scope=col>firstname</th><th scope=col>middlename</th><th scope=col>lastname</th><th scope=col>suffix</th><th scope=col>birthday</th><th scope=col>state</th><th scope=col>party</th><th scope=col>incumbent</th><th scope=col>termstart</th><th scope=col>age</th></tr>\n",
       "\t<tr><th scope=col>&lt;int&gt;</th><th scope=col>&lt;fct&gt;</th><th scope=col>&lt;fct&gt;</th><th scope=col>&lt;fct&gt;</th><th scope=col>&lt;fct&gt;</th><th scope=col>&lt;fct&gt;</th><th scope=col>&lt;fct&gt;</th><th scope=col>&lt;fct&gt;</th><th scope=col>&lt;fct&gt;</th><th scope=col>&lt;fct&gt;</th><th scope=col>&lt;fct&gt;</th><th scope=col>&lt;fct&gt;</th><th scope=col>&lt;dbl&gt;</th></tr>\n",
       "</thead>\n",
       "<tbody>\n",
       "\t<tr><td>80</td><td>senate</td><td>C000133</td><td>Arthur</td><td>      </td><td>Capper   </td><td></td><td>1865-07-14</td><td>KS</td><td>R</td><td>Yes</td><td>1/3/47</td><td>81.5</td></tr>\n",
       "\t<tr><td>80</td><td>senate</td><td>R000112</td><td>Clyde </td><td>Martin</td><td>Reed     </td><td></td><td>1871-10-19</td><td>KS</td><td>R</td><td>Yes</td><td>1/3/47</td><td>75.2</td></tr>\n",
       "\t<tr><td>81</td><td>senate</td><td>R000112</td><td>Clyde </td><td>Martin</td><td>Reed     </td><td></td><td>1871-10-19</td><td>KS</td><td>R</td><td>Yes</td><td>1/3/49</td><td>77.2</td></tr>\n",
       "\t<tr><td>81</td><td>senate</td><td>C000154</td><td>Frank </td><td>      </td><td>Carlson  </td><td></td><td>1893-01-23</td><td>KS</td><td>R</td><td>No </td><td>1/3/49</td><td>55.9</td></tr>\n",
       "\t<tr><td>81</td><td>senate</td><td>S000138</td><td>Andrew</td><td>Frank </td><td>Schoeppel</td><td></td><td>1894-11-23</td><td>KS</td><td>R</td><td>No </td><td>1/3/49</td><td>54.1</td></tr>\n",
       "\t<tr><td>81</td><td>senate</td><td>D000048</td><td>Harry </td><td>      </td><td>Darby    </td><td></td><td>1895-01-23</td><td>KS</td><td>R</td><td>No </td><td>1/3/49</td><td>53.9</td></tr>\n",
       "</tbody>\n",
       "</table>\n"
      ],
      "text/latex": [
       "A data.frame: 6 × 13\n",
       "\\begin{tabular}{r|lllllllllllll}\n",
       " congress & chamber & bioguide & firstname & middlename & lastname & suffix & birthday & state & party & incumbent & termstart & age\\\\\n",
       " <int> & <fct> & <fct> & <fct> & <fct> & <fct> & <fct> & <fct> & <fct> & <fct> & <fct> & <fct> & <dbl>\\\\\n",
       "\\hline\n",
       "\t 80 & senate & C000133 & Arthur &        & Capper    &  & 1865-07-14 & KS & R & Yes & 1/3/47 & 81.5\\\\\n",
       "\t 80 & senate & R000112 & Clyde  & Martin & Reed      &  & 1871-10-19 & KS & R & Yes & 1/3/47 & 75.2\\\\\n",
       "\t 81 & senate & R000112 & Clyde  & Martin & Reed      &  & 1871-10-19 & KS & R & Yes & 1/3/49 & 77.2\\\\\n",
       "\t 81 & senate & C000154 & Frank  &        & Carlson   &  & 1893-01-23 & KS & R & No  & 1/3/49 & 55.9\\\\\n",
       "\t 81 & senate & S000138 & Andrew & Frank  & Schoeppel &  & 1894-11-23 & KS & R & No  & 1/3/49 & 54.1\\\\\n",
       "\t 81 & senate & D000048 & Harry  &        & Darby     &  & 1895-01-23 & KS & R & No  & 1/3/49 & 53.9\\\\\n",
       "\\end{tabular}\n"
      ],
      "text/markdown": [
       "\n",
       "A data.frame: 6 × 13\n",
       "\n",
       "| congress &lt;int&gt; | chamber &lt;fct&gt; | bioguide &lt;fct&gt; | firstname &lt;fct&gt; | middlename &lt;fct&gt; | lastname &lt;fct&gt; | suffix &lt;fct&gt; | birthday &lt;fct&gt; | state &lt;fct&gt; | party &lt;fct&gt; | incumbent &lt;fct&gt; | termstart &lt;fct&gt; | age &lt;dbl&gt; |\n",
       "|---|---|---|---|---|---|---|---|---|---|---|---|---|\n",
       "| 80 | senate | C000133 | Arthur | <!----> | Capper    | <!----> | 1865-07-14 | KS | R | Yes | 1/3/47 | 81.5 |\n",
       "| 80 | senate | R000112 | Clyde  | Martin | Reed      | <!----> | 1871-10-19 | KS | R | Yes | 1/3/47 | 75.2 |\n",
       "| 81 | senate | R000112 | Clyde  | Martin | Reed      | <!----> | 1871-10-19 | KS | R | Yes | 1/3/49 | 77.2 |\n",
       "| 81 | senate | C000154 | Frank  | <!----> | Carlson   | <!----> | 1893-01-23 | KS | R | No  | 1/3/49 | 55.9 |\n",
       "| 81 | senate | S000138 | Andrew | Frank  | Schoeppel | <!----> | 1894-11-23 | KS | R | No  | 1/3/49 | 54.1 |\n",
       "| 81 | senate | D000048 | Harry  | <!----> | Darby     | <!----> | 1895-01-23 | KS | R | No  | 1/3/49 | 53.9 |\n",
       "\n"
      ],
      "text/plain": [
       "  congress chamber bioguide firstname middlename lastname  suffix birthday  \n",
       "1 80       senate  C000133  Arthur               Capper           1865-07-14\n",
       "2 80       senate  R000112  Clyde     Martin     Reed             1871-10-19\n",
       "3 81       senate  R000112  Clyde     Martin     Reed             1871-10-19\n",
       "4 81       senate  C000154  Frank                Carlson          1893-01-23\n",
       "5 81       senate  S000138  Andrew    Frank      Schoeppel        1894-11-23\n",
       "6 81       senate  D000048  Harry                Darby            1895-01-23\n",
       "  state party incumbent termstart age \n",
       "1 KS    R     Yes       1/3/47    81.5\n",
       "2 KS    R     Yes       1/3/47    75.2\n",
       "3 KS    R     Yes       1/3/49    77.2\n",
       "4 KS    R     No        1/3/49    55.9\n",
       "5 KS    R     No        1/3/49    54.1\n",
       "6 KS    R     No        1/3/49    53.9"
      ]
     },
     "metadata": {},
     "output_type": "display_data"
    }
   ],
   "source": [
    "# Now we'll do the same analysis, but only using senate data\n",
    "\n",
    "df8 <- split(Senate, Senate$party)\n",
    "Senate_Dems <- df8$D\n",
    "Senate_Reps <- df8$R\n",
    "\n",
    "most_dems <- getmode(Senate_Dems$state)\n",
    "most_reps <- getmode(Senate_Reps$state)\n",
    "\n",
    "df9 <- Senate_Dems %>% filter(state == most_dems)\n",
    "head(df9)\n",
    "\n",
    "df10 <- Senate_Reps %>% filter(state == most_reps)\n",
    "head(df10)"
   ]
  },
  {
   "cell_type": "code",
   "execution_count": 8,
   "metadata": {},
   "outputs": [
    {
     "data": {
      "text/html": [
       "<table>\n",
       "<caption>A tibble: 50 × 3</caption>\n",
       "<thead>\n",
       "\t<tr><th scope=col>state</th><th scope=col>Republicans</th><th scope=col>Democrats</th></tr>\n",
       "\t<tr><th scope=col>&lt;fct&gt;</th><th scope=col>&lt;int&gt;</th><th scope=col>&lt;int&gt;</th></tr>\n",
       "</thead>\n",
       "<tbody>\n",
       "\t<tr><td>AK</td><td>39</td><td>19</td></tr>\n",
       "\t<tr><td>AL</td><td>23</td><td>48</td></tr>\n",
       "\t<tr><td>AR</td><td> 5</td><td>64</td></tr>\n",
       "\t<tr><td>AZ</td><td>45</td><td>23</td></tr>\n",
       "\t<tr><td>CA</td><td>31</td><td>45</td></tr>\n",
       "\t<tr><td>CO</td><td>40</td><td>29</td></tr>\n",
       "\t<tr><td>CT</td><td>21</td><td>47</td></tr>\n",
       "\t<tr><td>DE</td><td>35</td><td>36</td></tr>\n",
       "\t<tr><td>FL</td><td>19</td><td>52</td></tr>\n",
       "\t<tr><td>GA</td><td>18</td><td>53</td></tr>\n",
       "\t<tr><td>HI</td><td> 9</td><td>49</td></tr>\n",
       "\t<tr><td>IA</td><td>41</td><td>27</td></tr>\n",
       "\t<tr><td>ID</td><td>55</td><td>15</td></tr>\n",
       "\t<tr><td>IL</td><td>27</td><td>44</td></tr>\n",
       "\t<tr><td>IN</td><td>43</td><td>25</td></tr>\n",
       "\t<tr><td>KS</td><td>74</td><td> 0</td></tr>\n",
       "\t<tr><td>KY</td><td>45</td><td>31</td></tr>\n",
       "\t<tr><td>LA</td><td> 5</td><td>67</td></tr>\n",
       "\t<tr><td>MA</td><td>21</td><td>53</td></tr>\n",
       "\t<tr><td>MD</td><td>24</td><td>44</td></tr>\n",
       "\t<tr><td>ME</td><td>46</td><td>22</td></tr>\n",
       "\t<tr><td>MI</td><td>21</td><td>51</td></tr>\n",
       "\t<tr><td>MN</td><td>29</td><td>16</td></tr>\n",
       "\t<tr><td>MO</td><td>35</td><td>37</td></tr>\n",
       "\t<tr><td>MS</td><td>33</td><td>38</td></tr>\n",
       "\t<tr><td>MT</td><td>12</td><td>60</td></tr>\n",
       "\t<tr><td>NC</td><td>30</td><td>46</td></tr>\n",
       "\t<tr><td>ND</td><td>30</td><td>41</td></tr>\n",
       "\t<tr><td>NE</td><td>49</td><td>28</td></tr>\n",
       "\t<tr><td>NH</td><td>60</td><td>15</td></tr>\n",
       "\t<tr><td>NJ</td><td>24</td><td>48</td></tr>\n",
       "\t<tr><td>NM</td><td>23</td><td>46</td></tr>\n",
       "\t<tr><td>NV</td><td>25</td><td>47</td></tr>\n",
       "\t<tr><td>NY</td><td>33</td><td>36</td></tr>\n",
       "\t<tr><td>OH</td><td>32</td><td>41</td></tr>\n",
       "\t<tr><td>OK</td><td>38</td><td>32</td></tr>\n",
       "\t<tr><td>OR</td><td>42</td><td>28</td></tr>\n",
       "\t<tr><td>PA</td><td>54</td><td>15</td></tr>\n",
       "\t<tr><td>RI</td><td>17</td><td>55</td></tr>\n",
       "\t<tr><td>SC</td><td>31</td><td>43</td></tr>\n",
       "\t<tr><td>SD</td><td>41</td><td>30</td></tr>\n",
       "\t<tr><td>TN</td><td>33</td><td>38</td></tr>\n",
       "\t<tr><td>TX</td><td>39</td><td>36</td></tr>\n",
       "\t<tr><td>UT</td><td>58</td><td>11</td></tr>\n",
       "\t<tr><td>VA</td><td>25</td><td>40</td></tr>\n",
       "\t<tr><td>VT</td><td>42</td><td>20</td></tr>\n",
       "\t<tr><td>WA</td><td>17</td><td>54</td></tr>\n",
       "\t<tr><td>WI</td><td>22</td><td>47</td></tr>\n",
       "\t<tr><td>WV</td><td> 4</td><td>70</td></tr>\n",
       "\t<tr><td>WY</td><td>53</td><td>20</td></tr>\n",
       "</tbody>\n",
       "</table>\n"
      ],
      "text/latex": [
       "A tibble: 50 × 3\n",
       "\\begin{tabular}{r|lll}\n",
       " state & Republicans & Democrats\\\\\n",
       " <fct> & <int> & <int>\\\\\n",
       "\\hline\n",
       "\t AK & 39 & 19\\\\\n",
       "\t AL & 23 & 48\\\\\n",
       "\t AR &  5 & 64\\\\\n",
       "\t AZ & 45 & 23\\\\\n",
       "\t CA & 31 & 45\\\\\n",
       "\t CO & 40 & 29\\\\\n",
       "\t CT & 21 & 47\\\\\n",
       "\t DE & 35 & 36\\\\\n",
       "\t FL & 19 & 52\\\\\n",
       "\t GA & 18 & 53\\\\\n",
       "\t HI &  9 & 49\\\\\n",
       "\t IA & 41 & 27\\\\\n",
       "\t ID & 55 & 15\\\\\n",
       "\t IL & 27 & 44\\\\\n",
       "\t IN & 43 & 25\\\\\n",
       "\t KS & 74 &  0\\\\\n",
       "\t KY & 45 & 31\\\\\n",
       "\t LA &  5 & 67\\\\\n",
       "\t MA & 21 & 53\\\\\n",
       "\t MD & 24 & 44\\\\\n",
       "\t ME & 46 & 22\\\\\n",
       "\t MI & 21 & 51\\\\\n",
       "\t MN & 29 & 16\\\\\n",
       "\t MO & 35 & 37\\\\\n",
       "\t MS & 33 & 38\\\\\n",
       "\t MT & 12 & 60\\\\\n",
       "\t NC & 30 & 46\\\\\n",
       "\t ND & 30 & 41\\\\\n",
       "\t NE & 49 & 28\\\\\n",
       "\t NH & 60 & 15\\\\\n",
       "\t NJ & 24 & 48\\\\\n",
       "\t NM & 23 & 46\\\\\n",
       "\t NV & 25 & 47\\\\\n",
       "\t NY & 33 & 36\\\\\n",
       "\t OH & 32 & 41\\\\\n",
       "\t OK & 38 & 32\\\\\n",
       "\t OR & 42 & 28\\\\\n",
       "\t PA & 54 & 15\\\\\n",
       "\t RI & 17 & 55\\\\\n",
       "\t SC & 31 & 43\\\\\n",
       "\t SD & 41 & 30\\\\\n",
       "\t TN & 33 & 38\\\\\n",
       "\t TX & 39 & 36\\\\\n",
       "\t UT & 58 & 11\\\\\n",
       "\t VA & 25 & 40\\\\\n",
       "\t VT & 42 & 20\\\\\n",
       "\t WA & 17 & 54\\\\\n",
       "\t WI & 22 & 47\\\\\n",
       "\t WV &  4 & 70\\\\\n",
       "\t WY & 53 & 20\\\\\n",
       "\\end{tabular}\n"
      ],
      "text/markdown": [
       "\n",
       "A tibble: 50 × 3\n",
       "\n",
       "| state &lt;fct&gt; | Republicans &lt;int&gt; | Democrats &lt;int&gt; |\n",
       "|---|---|---|\n",
       "| AK | 39 | 19 |\n",
       "| AL | 23 | 48 |\n",
       "| AR |  5 | 64 |\n",
       "| AZ | 45 | 23 |\n",
       "| CA | 31 | 45 |\n",
       "| CO | 40 | 29 |\n",
       "| CT | 21 | 47 |\n",
       "| DE | 35 | 36 |\n",
       "| FL | 19 | 52 |\n",
       "| GA | 18 | 53 |\n",
       "| HI |  9 | 49 |\n",
       "| IA | 41 | 27 |\n",
       "| ID | 55 | 15 |\n",
       "| IL | 27 | 44 |\n",
       "| IN | 43 | 25 |\n",
       "| KS | 74 |  0 |\n",
       "| KY | 45 | 31 |\n",
       "| LA |  5 | 67 |\n",
       "| MA | 21 | 53 |\n",
       "| MD | 24 | 44 |\n",
       "| ME | 46 | 22 |\n",
       "| MI | 21 | 51 |\n",
       "| MN | 29 | 16 |\n",
       "| MO | 35 | 37 |\n",
       "| MS | 33 | 38 |\n",
       "| MT | 12 | 60 |\n",
       "| NC | 30 | 46 |\n",
       "| ND | 30 | 41 |\n",
       "| NE | 49 | 28 |\n",
       "| NH | 60 | 15 |\n",
       "| NJ | 24 | 48 |\n",
       "| NM | 23 | 46 |\n",
       "| NV | 25 | 47 |\n",
       "| NY | 33 | 36 |\n",
       "| OH | 32 | 41 |\n",
       "| OK | 38 | 32 |\n",
       "| OR | 42 | 28 |\n",
       "| PA | 54 | 15 |\n",
       "| RI | 17 | 55 |\n",
       "| SC | 31 | 43 |\n",
       "| SD | 41 | 30 |\n",
       "| TN | 33 | 38 |\n",
       "| TX | 39 | 36 |\n",
       "| UT | 58 | 11 |\n",
       "| VA | 25 | 40 |\n",
       "| VT | 42 | 20 |\n",
       "| WA | 17 | 54 |\n",
       "| WI | 22 | 47 |\n",
       "| WV |  4 | 70 |\n",
       "| WY | 53 | 20 |\n",
       "\n"
      ],
      "text/plain": [
       "   state Republicans Democrats\n",
       "1  AK    39          19       \n",
       "2  AL    23          48       \n",
       "3  AR     5          64       \n",
       "4  AZ    45          23       \n",
       "5  CA    31          45       \n",
       "6  CO    40          29       \n",
       "7  CT    21          47       \n",
       "8  DE    35          36       \n",
       "9  FL    19          52       \n",
       "10 GA    18          53       \n",
       "11 HI     9          49       \n",
       "12 IA    41          27       \n",
       "13 ID    55          15       \n",
       "14 IL    27          44       \n",
       "15 IN    43          25       \n",
       "16 KS    74           0       \n",
       "17 KY    45          31       \n",
       "18 LA     5          67       \n",
       "19 MA    21          53       \n",
       "20 MD    24          44       \n",
       "21 ME    46          22       \n",
       "22 MI    21          51       \n",
       "23 MN    29          16       \n",
       "24 MO    35          37       \n",
       "25 MS    33          38       \n",
       "26 MT    12          60       \n",
       "27 NC    30          46       \n",
       "28 ND    30          41       \n",
       "29 NE    49          28       \n",
       "30 NH    60          15       \n",
       "31 NJ    24          48       \n",
       "32 NM    23          46       \n",
       "33 NV    25          47       \n",
       "34 NY    33          36       \n",
       "35 OH    32          41       \n",
       "36 OK    38          32       \n",
       "37 OR    42          28       \n",
       "38 PA    54          15       \n",
       "39 RI    17          55       \n",
       "40 SC    31          43       \n",
       "41 SD    41          30       \n",
       "42 TN    33          38       \n",
       "43 TX    39          36       \n",
       "44 UT    58          11       \n",
       "45 VA    25          40       \n",
       "46 VT    42          20       \n",
       "47 WA    17          54       \n",
       "48 WI    22          47       \n",
       "49 WV     4          70       \n",
       "50 WY    53          20       "
      ]
     },
     "metadata": {},
     "output_type": "display_data"
    }
   ],
   "source": [
    "# This is a bit better. This tells us that since 1947, Kansas has elected the most Republicans to the US senate and West\n",
    "# Virginia has elected the most Democrats. We are getting closer to our answer of which have been the most Democrat-friendly\n",
    "# and Republican-friendly states.\n",
    "\n",
    "party_count <- Senate %>% group_by(state) %>% summarise(Republicans = length(which(party == 'R')), Democrats = length(which(party == 'D')))\n",
    "party_count"
   ]
  },
  {
   "cell_type": "code",
   "execution_count": 9,
   "metadata": {},
   "outputs": [],
   "source": [
    "# Now we can see the exact number of Republicans and Democrats elected from each state from 1947 to 2013. "
   ]
  },
  {
   "cell_type": "markdown",
   "metadata": {},
   "source": [
    "## Step 6: Visuals \n",
    "\n",
    "Build up your key visual story elements!\n",
    "\n",
    "Add more cells (`Insert > Insert Cell Below`) if you want additional cells."
   ]
  },
  {
   "cell_type": "code",
   "execution_count": 10,
   "metadata": {},
   "outputs": [
    {
     "data": {
      "image/png": "[encoded data removed]",
      "text/plain": [
       "plot without title"
      ]
     },
     "metadata": {},
     "output_type": "display_data"
    },
    {
     "data": {
      "image/png": "[encoded data removed]",
      "text/plain": [
       "plot without title"
      ]
     },
     "metadata": {},
     "output_type": "display_data"
    }
   ],
   "source": [
    "# Now we will make graphs of all the states ordered by number of senators they have had per party\n",
    "\n",
    "library(ggplot2)\n",
    "\n",
    "r_graph <- ggplot(data=party_count, aes(x=reorder(state, Republicans), y=Republicans)) + \n",
    "    geom_bar(stat=\"identity\", fill=\"red\", width=0.5) +\n",
    "    xlab(\"State\") + ylab(\"Number of Republican Senators\") +\n",
    "    theme(axis.text.x = element_text(size=5))\n",
    "r_graph\n",
    "\n",
    "d_graph <- ggplot(data=party_count, aes(x=reorder(state, -Democrats), y=Democrats)) +\n",
    "    geom_bar(stat=\"identity\", fill=\"blue\", width=0.5) +\n",
    "    xlab(\"State\") + ylab(\"Number of Democratic Senators\") +\n",
    "    theme(axis.text.x = element_text(size=5))\n",
    "d_graph\n",
    "\n"
   ]
  },
  {
   "cell_type": "code",
   "execution_count": 11,
   "metadata": {},
   "outputs": [
    {
     "data": {
      "image/png": "[encoded data removed]",
      "text/plain": [
       "plot without title"
      ]
     },
     "metadata": {},
     "output_type": "display_data"
    },
    {
     "data": {
      "image/png": "[encoded data removed]",
      "text/plain": [
       "plot without title"
      ]
     },
     "metadata": {},
     "output_type": "display_data"
    }
   ],
   "source": [
    "# Looking at the x-axis, we can see that the ordering of both graphs is very similar, but not identical. From these we can see\n",
    "# which states have elected the most and fewest of each party, but not necessarily their D to R proportions.\n",
    "\n",
    "party_count$R_to_D <- party_count$Republicans/(party_count$Republicans + party_count$Democrats)\n",
    "party_count$D_to_R <- party_count$Democrats/(party_count$Democrats + party_count$Republicans)\n",
    "\n",
    "# If we use the ratios rather than the raw totals, the axes of our two graphs should match up perfectly now\n",
    "\n",
    "r_graph2 <- ggplot(data=party_count, aes(x=reorder(state, R_to_D), y=R_to_D)) + \n",
    "    geom_bar(stat=\"identity\", fill=\"red\", width=0.5) +\n",
    "    xlab(\"State\") + ylab(\"Ratio of Republicans to Democrats\") +\n",
    "    theme(axis.text.x = element_text(size=5))\n",
    "r_graph2\n",
    "\n",
    "d_graph2 <- ggplot(data=party_count, aes(x=reorder(state, -D_to_R), y=D_to_R)) +\n",
    "    geom_bar(stat=\"identity\", fill=\"blue\", width=0.5) +\n",
    "    xlab(\"State\") + ylab(\"Ratio of Democrats to Republicans\") +\n",
    "    theme(axis.text.x = element_text(size=5))\n",
    "d_graph2\n",
    "\n",
    "# They do! Now we can conclusively order all 50 states by their party preference."
   ]
  },
  {
   "cell_type": "code",
   "execution_count": 28,
   "metadata": {},
   "outputs": [
    {
     "data": {
      "image/png": "[encoded data removed]",
      "text/plain": [
       "plot without title"
      ]
     },
     "metadata": {},
     "output_type": "display_data"
    }
   ],
   "source": [
    "# Now that the axes match up, we can plot them on a single graph. The state with the most purple should give us the most \n",
    "# politically balanced state during this time period.\n",
    "\n",
    "blue <- rgb(0, 0, 1, alpha=0.5)\n",
    "red <- rgb(1, 0, 0, alpha=0.5)\n",
    "\n",
    "r_to_d_graph <- ggplot(data=party_count, aes(x=reorder(state, R_to_D))) + \n",
    "    geom_bar(aes(y = R_to_D), stat=\"identity\", fill=red, width=0.5) +\n",
    "    geom_bar(aes(y = D_to_R), stat=\"identity\", fill=blue, width=0.5) +\n",
    "    xlab(\"State\") + ylab(\"Republicans vs Democrats\") + ggtitle(\"1947-2015\") +\n",
    "    theme(axis.text.x = element_text(size=5), plot.title = element_text(hjust=0.5))\n",
    "r_to_d_graph\n",
    "\n",
    "# As we can see, the most Democrat-friendly state has been West Virginia, the most Republican-friendly state has been Kansas,\n",
    "# and the most \"politically balanced\" state has been Delaware."
   ]
  },
  {
   "cell_type": "code",
   "execution_count": 27,
   "metadata": {},
   "outputs": [
    {
     "data": {
      "image/png": "[encoded data removed]",
      "text/plain": [
       "plot without title"
      ]
     },
     "metadata": {},
     "output_type": "display_data"
    },
    {
     "data": {
      "image/png": "[encoded data removed]",
      "text/plain": [
       "plot without title"
      ]
     },
     "metadata": {},
     "output_type": "display_data"
    }
   ],
   "source": [
    "# The last thing I want to find out is if the political preferences of the states have changed over time. So we will just\n",
    "# split the original data set by in half congress and recreate the same graph.\n",
    "\n",
    "Senate1 <- Senate %>% filter(congress < 97)\n",
    "Senate2 <- Senate %>% filter(congress > 96)\n",
    "\n",
    "party_count1 <- Senate1 %>% group_by(state) %>% summarise(Republicans = length(which(party == 'R')), Democrats = length(which(party == 'D')))\n",
    "party_count1$R_to_D <- party_count1$Republicans/(party_count1$Republicans + party_count1$Democrats)\n",
    "party_count1$D_to_R <- party_count1$Democrats/(party_count1$Democrats + party_count1$Republicans)\n",
    "\n",
    "party_count2 <- Senate2 %>% group_by(state) %>% summarise(Republicans = length(which(party == 'R')), Democrats = length(which(party == 'D')))\n",
    "party_count2$R_to_D <- party_count2$Republicans/(party_count2$Republicans + party_count2$Democrats)\n",
    "party_count2$D_to_R <- party_count2$Democrats/(party_count2$Democrats + party_count2$Republicans)\n",
    "\n",
    "r_to_d_graph1 <- ggplot(data=party_count1, aes(x=reorder(state, R_to_D))) + \n",
    "    geom_bar(aes(y = R_to_D), stat=\"identity\", fill=red, width=0.5) +\n",
    "    geom_bar(aes(y = D_to_R), stat=\"identity\", fill=blue, width=0.5) +\n",
    "    xlab(\"State\") + ylab(\"Republicans vs Democrats\") + ggtitle(\"1947-1981\") +\n",
    "    theme(axis.text.x = element_text(size=5), plot.title = element_text(hjust=0.5))\n",
    "r_to_d_graph1\n",
    "\n",
    "r_to_d_graph2 <- ggplot(data=party_count2, aes(x=reorder(state, R_to_D))) + \n",
    "    geom_bar(aes(y = R_to_D), stat=\"identity\", fill=red, width=0.5) +\n",
    "    geom_bar(aes(y = D_to_R), stat=\"identity\", fill=blue, width=0.5) +\n",
    "    xlab(\"State\") + ylab(\"Republicans vs Democrats\") + ggtitle(\"1981-2015\") +\n",
    "    theme(axis.text.x = element_text(size=5), plot.title = element_text(hjust=0.5))\n",
    "r_to_d_graph2"
   ]
  },
  {
   "cell_type": "markdown",
   "metadata": {},
   "source": [
    "## Conclusion: Tell the Story\n",
    "In a few paragraphs, describe the story the data tells. \n",
    "\n",
    "Additionally, post your most compelling visual and provide a brief description of what it conveys on to our mutual aid channel. \n",
    "\n",
    "Feel free to post more examples for people to look at and give feedback about. Your classmates will be vital providers of feedback in this process. Utilize them."
   ]
  },
  {
   "cell_type": "raw",
   "metadata": {
    "collapsed": true
   },
   "source": [
    "When we analyze this dataset, we see a very clear pattern of political preferences by state. The first 4 graphs, which measure each party individually, show quite clearly that the states can be ranked in terms of their favorability towards a particularly party. I wasn't sure whether I should have expected that, or a graph with a very low slope, which would have indicated a more uniform distribution around the country. However, one thing I did find interesting is that, when analyzing all of the senate data, going back to 1947, we don't see a very clear pattern in terms of the regions of the country. This actually suggests that both parties have enjoyed support in all regions of the country during this time period.\n",
    "\n",
    "Graphing the ratios together on a single plot give us an even clearer picture, as all of the states are ranked in order by their political preferences. We can also see which states have been the most balanced, and precisely which is the \"tipping point\". I found it interesting that the most balanced state was Delaware (a northeastern/midatlantic state), but yet the nearby state of Pennsylvania has been among the most Republican, while nearby West Virginia has been the most Democratic. We clearly do see preferences by state, but not a particularly clear geographic pattern. I thought breaking the dataset up by the first 16 congresses, and the last 17 congresses would let us see if the states political preferences had changed over time. Originally, I was inclined to think that they would not have. However, after seeing a rather inexplicable lack of geographic pattern, I thought this could have potentially been explained by change over time.\n",
    "\n",
    "From 1947 to 1981, we do see more of a pattern, at least on the Democratic side. There are 4 states tied for the most Democratic-friendly: Alabama, Arkansas, Georgia, and Louisiana, with Mississippi in 5th. All 5 of these states are in the southeast, so this data shows that the Democrats dominated politics in this region for the middle of the 20th century (at least until 1981). It also looks like their dominance was more pronounced than Republican dominance, as we see much more purple towards the right side of the graph. That said, the top 5 most Republican states were Minnesota, Kansas, Vermont, Nebraska, and Pennsylvania. Looking at the top 10 most Republican states, we see that they were most popular in the midwest and the northeast. Overall, we see a bit less polarization during this time period, as there are 9 states whose proportions of Republicans to Democrats were roughly even, and they were distributed all around the country (though mostly in the great lakes region).\n",
    "\n",
    "When we look at the 17 congresses beginning 1981 and ending in 2015, we see some very stark shifts. In particular, Wyoming went from being one of the most politically balanced states to being tied for the most Republican state. They were not represented by a single Democrat in the Senate during this time period. Likewise, Georgia was tied for the most Democrat-friendly state, and become the single most politically balanced state from 1983 until 2015. On the opposite side, Massachusetts went from being one of the most balanced states (though slightly Republican) to being overwhemingly Democratic. Maryland's shift towards the Democrats was even more pronounced, as it went from being roughly 62% Republican to being around 90% Democrat\n",
    "\n",
    "Overall, it appears that since 1947, the country has become a bit more polarised. Although there certainly were strong Republican and strong Democratic states earlier in the 20th century, we see much less purple around the center in recent years. Also, for whatever reason, Kansas and West Virginia are about the only two states in the country that have remained completely loyal to their preferred party over the years.\n",
    "\n",
    "\n",
    "\n",
    "\n",
    "\n",
    "\n",
    "\n"
   ]
  },
  {
   "cell_type": "markdown",
   "metadata": {},
   "source": [
    "# Save your notebook, then `File > Close and Halt`"
   ]
  }
 ],
 "metadata": {
  "kernelspec": {
   "display_name": "R",
   "language": "R",
   "name": "ir"
  },
  "language_info": {
   "codemirror_mode": "r",
   "file_extension": ".r",
   "mimetype": "text/x-r-source",
   "name": "R",
   "pygments_lexer": "r",
   "version": "3.5.1"
  }
 },
 "nbformat": 4,
 "nbformat_minor": 2
}
