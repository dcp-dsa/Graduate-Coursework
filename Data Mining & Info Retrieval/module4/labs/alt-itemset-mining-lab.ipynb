{
 "cells": [
  {
   "cell_type": "markdown",
   "metadata": {},
   "source": [
    "# Frequent Itemset Mining: Apriori Alternatives"
   ]
  },
  {
   "cell_type": "markdown",
   "metadata": {},
   "source": [
    "In Module 3, we explored **apriori** method for mining frequent itemsets and inferring association rules. The key advantage of applying the apriori principle is that this method prunes a good amount of infrequent itemsets and rules. It is the first association rule mining algorithm that uses support-based pruning to systematically control the exponential growth of candidate itemsets.\n",
    "\n",
    "**Apriori principle:** If an itemset is frequent, then all of its subsets must also be frequent. In other words, if an itemset is infrequent, then its supersets cannot be frequent. \n",
    "\n",
    "Despite its significant performance improvement, the apriori algorithm still incurs considerable I/O overhead since it requires making several passes over the transaction data set. E.g., let's think that the transaction database is a PostgreSQL database, and scanning a database is a costly operation. Several alternative methods have been developed to overcome these limitations and improve the efficiency of the apriori algorithm. In this notebook, we will explore **FP-Growth**. Also, we will explore **maximal frequent itemsets**, a compact representation for frequent itemsets. "
   ]
  },
  {
   "cell_type": "markdown",
   "metadata": {},
   "source": [
    "## Frequent Pattern Growth (FP-Growth)\n",
    "\n",
    "This section presents an alternative algorithm called FP-growth that takes a different approach to indetifying frequent itemsets. Like the apriori method, this algorithm does not generate and test frequent itemsets. Instead, it encodes the dataset using a compact data structure called a frequent pattern tree (FP-tree) and extracts frequent itemsets directly from this structure. "
   ]
  },
  {
   "cell_type": "markdown",
   "metadata": {},
   "source": [
    "<img src=\"../images/fp-growth.png\" height=400 width=600 />\n",
    "\n",
    "*Fig. Frequent pattern growth method. The tree express the entire dataset as a compact representation. Here null is the root. We can traverse this tree from the root and identify frequent itemsets.*"
   ]
  },
  {
   "cell_type": "markdown",
   "metadata": {},
   "source": [
    "The above fig shows a dataset that contains ten transactions and five items. Initially, the FP-tree contains only the root node represented by the null symbol. This fig shows the state of the tree after reading the first three and last transactions. Each node in the tree contains the label of an item and its count. The FP-tree is created by scanning the database twice. \n",
    "\n",
    "1. The data set is scanned once to determine the support count of each item. Infrequent items are discarded, while the frequent items are sorted in decreasing support counts \n",
    "2. Every transaction of the dataset is mapped onto one of the paths given in the FP-tree."
   ]
  },
  {
   "cell_type": "markdown",
   "metadata": {},
   "source": [
    "For this module we will be using [mlxtend](https://rasbt.github.io/mlxtend/user_guide/frequent_patterns/) python package to demonstrate frequent pattern mining and association rule mining. In this notebook we explore a copmputer sales data, a toy one. "
   ]
  },
  {
   "cell_type": "markdown",
   "metadata": {},
   "source": [
    " ## Import required Libraries"
   ]
  },
  {
   "cell_type": "code",
   "execution_count": 1,
   "metadata": {},
   "outputs": [],
   "source": [
    "import pandas as pd\n",
    "import numpy as np\n",
    "from mlxtend.preprocessing import TransactionEncoder\n",
    "from mlxtend.frequent_patterns import apriori, association_rules, fpgrowth, fpmax\n",
    "import matplotlib.pyplot as plt\n",
    "from fim import eclat\n",
    "from sklearn.preprocessing import OneHotEncoder\n",
    "%matplotlib inline"
   ]
  },
  {
   "cell_type": "markdown",
   "metadata": {},
   "source": [
    "## Data Loading\n",
    "\n",
    "The data is located here: `/dsa/data/DSA-8410/association-mining/computer-sales.csv`\n"
   ]
  },
  {
   "cell_type": "code",
   "execution_count": 2,
   "metadata": {},
   "outputs": [
    {
     "data": {
      "text/html": [
       "<div>\n",
       "<style scoped>\n",
       "    .dataframe tbody tr th:only-of-type {\n",
       "        vertical-align: middle;\n",
       "    }\n",
       "\n",
       "    .dataframe tbody tr th {\n",
       "        vertical-align: top;\n",
       "    }\n",
       "\n",
       "    .dataframe thead th {\n",
       "        text-align: right;\n",
       "    }\n",
       "</style>\n",
       "<table border=\"1\" class=\"dataframe\">\n",
       "  <thead>\n",
       "    <tr style=\"text-align: right;\">\n",
       "      <th></th>\n",
       "      <th>age</th>\n",
       "      <th>income</th>\n",
       "      <th>student</th>\n",
       "      <th>credit_rating</th>\n",
       "      <th>buys_computer</th>\n",
       "    </tr>\n",
       "  </thead>\n",
       "  <tbody>\n",
       "    <tr>\n",
       "      <th>0</th>\n",
       "      <td>Youth</td>\n",
       "      <td>high</td>\n",
       "      <td>no</td>\n",
       "      <td>fair</td>\n",
       "      <td>no</td>\n",
       "    </tr>\n",
       "    <tr>\n",
       "      <th>1</th>\n",
       "      <td>Youth</td>\n",
       "      <td>high</td>\n",
       "      <td>no</td>\n",
       "      <td>excellent</td>\n",
       "      <td>no</td>\n",
       "    </tr>\n",
       "    <tr>\n",
       "      <th>2</th>\n",
       "      <td>middle</td>\n",
       "      <td>high</td>\n",
       "      <td>no</td>\n",
       "      <td>fair</td>\n",
       "      <td>yes</td>\n",
       "    </tr>\n",
       "    <tr>\n",
       "      <th>3</th>\n",
       "      <td>senior</td>\n",
       "      <td>medium</td>\n",
       "      <td>no</td>\n",
       "      <td>fair</td>\n",
       "      <td>yes</td>\n",
       "    </tr>\n",
       "    <tr>\n",
       "      <th>4</th>\n",
       "      <td>senior</td>\n",
       "      <td>low</td>\n",
       "      <td>yes</td>\n",
       "      <td>fair</td>\n",
       "      <td>yes</td>\n",
       "    </tr>\n",
       "  </tbody>\n",
       "</table>\n",
       "</div>"
      ],
      "text/plain": [
       "      age  income student credit_rating buys_computer\n",
       "0   Youth    high      no          fair            no\n",
       "1   Youth    high      no     excellent            no\n",
       "2  middle    high      no          fair           yes\n",
       "3  senior  medium      no          fair           yes\n",
       "4  senior     low     yes          fair           yes"
      ]
     },
     "execution_count": 2,
     "metadata": {},
     "output_type": "execute_result"
    }
   ],
   "source": [
    "df = pd.read_csv('/dsa/data/DSA-8410/association-mining/computer-sales.csv') \n",
    "df.head()"
   ]
  },
  {
   "cell_type": "code",
   "execution_count": 3,
   "metadata": {},
   "outputs": [
    {
     "name": "stdout",
     "output_type": "stream",
     "text": [
      "Num of transactions = 28\n",
      "Maximum num of items per transaction = 5\n"
     ]
    }
   ],
   "source": [
    "print(f\"Num of transactions = {df.shape[0]}\")\n",
    "print(f\"Maximum num of items per transaction = {df.shape[1]}\")"
   ]
  },
  {
   "cell_type": "markdown",
   "metadata": {},
   "source": [
    "## Preprocessing \n",
    "\n",
    "To apply `apriori`, `fpgrowth`, and other frequent pattern methods, we need to convert the dataset to a binary incidence matrix. We can use pandas `get_dummies` method for this conversion."
   ]
  },
  {
   "cell_type": "code",
   "execution_count": 4,
   "metadata": {},
   "outputs": [],
   "source": [
    "df = pd.get_dummies(df)"
   ]
  },
  {
   "cell_type": "code",
   "execution_count": 5,
   "metadata": {},
   "outputs": [
    {
     "data": {
      "text/html": [
       "<div>\n",
       "<style scoped>\n",
       "    .dataframe tbody tr th:only-of-type {\n",
       "        vertical-align: middle;\n",
       "    }\n",
       "\n",
       "    .dataframe tbody tr th {\n",
       "        vertical-align: top;\n",
       "    }\n",
       "\n",
       "    .dataframe thead th {\n",
       "        text-align: right;\n",
       "    }\n",
       "</style>\n",
       "<table border=\"1\" class=\"dataframe\">\n",
       "  <thead>\n",
       "    <tr style=\"text-align: right;\">\n",
       "      <th></th>\n",
       "      <th>age_Youth</th>\n",
       "      <th>age_middle</th>\n",
       "      <th>age_senior</th>\n",
       "      <th>income_high</th>\n",
       "      <th>income_low</th>\n",
       "      <th>income_medium</th>\n",
       "      <th>student_no</th>\n",
       "      <th>student_yes</th>\n",
       "      <th>credit_rating_excellent</th>\n",
       "      <th>credit_rating_fair</th>\n",
       "      <th>buys_computer_no</th>\n",
       "      <th>buys_computer_yes</th>\n",
       "    </tr>\n",
       "  </thead>\n",
       "  <tbody>\n",
       "    <tr>\n",
       "      <th>0</th>\n",
       "      <td>1</td>\n",
       "      <td>0</td>\n",
       "      <td>0</td>\n",
       "      <td>1</td>\n",
       "      <td>0</td>\n",
       "      <td>0</td>\n",
       "      <td>1</td>\n",
       "      <td>0</td>\n",
       "      <td>0</td>\n",
       "      <td>1</td>\n",
       "      <td>1</td>\n",
       "      <td>0</td>\n",
       "    </tr>\n",
       "    <tr>\n",
       "      <th>1</th>\n",
       "      <td>1</td>\n",
       "      <td>0</td>\n",
       "      <td>0</td>\n",
       "      <td>1</td>\n",
       "      <td>0</td>\n",
       "      <td>0</td>\n",
       "      <td>1</td>\n",
       "      <td>0</td>\n",
       "      <td>1</td>\n",
       "      <td>0</td>\n",
       "      <td>1</td>\n",
       "      <td>0</td>\n",
       "    </tr>\n",
       "    <tr>\n",
       "      <th>2</th>\n",
       "      <td>0</td>\n",
       "      <td>1</td>\n",
       "      <td>0</td>\n",
       "      <td>1</td>\n",
       "      <td>0</td>\n",
       "      <td>0</td>\n",
       "      <td>1</td>\n",
       "      <td>0</td>\n",
       "      <td>0</td>\n",
       "      <td>1</td>\n",
       "      <td>0</td>\n",
       "      <td>1</td>\n",
       "    </tr>\n",
       "    <tr>\n",
       "      <th>3</th>\n",
       "      <td>0</td>\n",
       "      <td>0</td>\n",
       "      <td>1</td>\n",
       "      <td>0</td>\n",
       "      <td>0</td>\n",
       "      <td>1</td>\n",
       "      <td>1</td>\n",
       "      <td>0</td>\n",
       "      <td>0</td>\n",
       "      <td>1</td>\n",
       "      <td>0</td>\n",
       "      <td>1</td>\n",
       "    </tr>\n",
       "    <tr>\n",
       "      <th>4</th>\n",
       "      <td>0</td>\n",
       "      <td>0</td>\n",
       "      <td>1</td>\n",
       "      <td>0</td>\n",
       "      <td>1</td>\n",
       "      <td>0</td>\n",
       "      <td>0</td>\n",
       "      <td>1</td>\n",
       "      <td>0</td>\n",
       "      <td>1</td>\n",
       "      <td>0</td>\n",
       "      <td>1</td>\n",
       "    </tr>\n",
       "  </tbody>\n",
       "</table>\n",
       "</div>"
      ],
      "text/plain": [
       "   age_Youth  age_middle  age_senior  income_high  income_low  income_medium  \\\n",
       "0          1           0           0            1           0              0   \n",
       "1          1           0           0            1           0              0   \n",
       "2          0           1           0            1           0              0   \n",
       "3          0           0           1            0           0              1   \n",
       "4          0           0           1            0           1              0   \n",
       "\n",
       "   student_no  student_yes  credit_rating_excellent  credit_rating_fair  \\\n",
       "0           1            0                        0                   1   \n",
       "1           1            0                        1                   0   \n",
       "2           1            0                        0                   1   \n",
       "3           1            0                        0                   1   \n",
       "4           0            1                        0                   1   \n",
       "\n",
       "   buys_computer_no  buys_computer_yes  \n",
       "0                 1                  0  \n",
       "1                 1                  0  \n",
       "2                 0                  1  \n",
       "3                 0                  1  \n",
       "4                 0                  1  "
      ]
     },
     "execution_count": 5,
     "metadata": {},
     "output_type": "execute_result"
    }
   ],
   "source": [
    "df.head()"
   ]
  },
  {
   "cell_type": "markdown",
   "metadata": {},
   "source": [
    "## A. Frequent Patterns with Apriori Method\n",
    "\n",
    "Apriori module from mlxtend library provides fast and efficient apriori implementation.\n",
    "\n",
    "```\n",
    "Default Parameters: apriori(df, min_support=0.5, use_colnames=False, max_len=None, verbose=0, low_memory=False)\"\n",
    "```\n"
   ]
  },
  {
   "cell_type": "code",
   "execution_count": 6,
   "metadata": {},
   "outputs": [
    {
     "name": "stdout",
     "output_type": "stream",
     "text": [
      "\r",
      "Processing 132 combinations | Sampling itemset size 2\r",
      "Processing 159 combinations | Sampling itemset size 3\r",
      "Processing 4 combinations | Sampling itemset size 4\n"
     ]
    },
    {
     "data": {
      "text/plain": [
       "(42, 2)"
      ]
     },
     "execution_count": 6,
     "metadata": {},
     "output_type": "execute_result"
    }
   ],
   "source": [
    "freq_items = apriori(df, min_support=0.2, use_colnames=True, verbose=1)\n",
    "freq_items.shape"
   ]
  },
  {
   "cell_type": "code",
   "execution_count": 7,
   "metadata": {},
   "outputs": [
    {
     "data": {
      "text/html": [
       "<div>\n",
       "<style scoped>\n",
       "    .dataframe tbody tr th:only-of-type {\n",
       "        vertical-align: middle;\n",
       "    }\n",
       "\n",
       "    .dataframe tbody tr th {\n",
       "        vertical-align: top;\n",
       "    }\n",
       "\n",
       "    .dataframe thead th {\n",
       "        text-align: right;\n",
       "    }\n",
       "</style>\n",
       "<table border=\"1\" class=\"dataframe\">\n",
       "  <thead>\n",
       "    <tr style=\"text-align: right;\">\n",
       "      <th></th>\n",
       "      <th>support</th>\n",
       "      <th>itemsets</th>\n",
       "    </tr>\n",
       "  </thead>\n",
       "  <tbody>\n",
       "    <tr>\n",
       "      <th>0</th>\n",
       "      <td>0.357143</td>\n",
       "      <td>(age_Youth)</td>\n",
       "    </tr>\n",
       "    <tr>\n",
       "      <th>1</th>\n",
       "      <td>0.285714</td>\n",
       "      <td>(age_middle)</td>\n",
       "    </tr>\n",
       "    <tr>\n",
       "      <th>2</th>\n",
       "      <td>0.357143</td>\n",
       "      <td>(age_senior)</td>\n",
       "    </tr>\n",
       "    <tr>\n",
       "      <th>3</th>\n",
       "      <td>0.285714</td>\n",
       "      <td>(income_high)</td>\n",
       "    </tr>\n",
       "    <tr>\n",
       "      <th>4</th>\n",
       "      <td>0.285714</td>\n",
       "      <td>(income_low)</td>\n",
       "    </tr>\n",
       "  </tbody>\n",
       "</table>\n",
       "</div>"
      ],
      "text/plain": [
       "    support       itemsets\n",
       "0  0.357143    (age_Youth)\n",
       "1  0.285714   (age_middle)\n",
       "2  0.357143   (age_senior)\n",
       "3  0.285714  (income_high)\n",
       "4  0.285714   (income_low)"
      ]
     },
     "execution_count": 7,
     "metadata": {},
     "output_type": "execute_result"
    }
   ],
   "source": [
    "freq_items.head()"
   ]
  },
  {
   "cell_type": "markdown",
   "metadata": {},
   "source": [
    "For readability, let's swap the two columns. "
   ]
  },
  {
   "cell_type": "code",
   "execution_count": 8,
   "metadata": {
    "tags": []
   },
   "outputs": [],
   "source": [
    "freq_items = freq_items.reindex(columns=['itemsets', 'support'])\n",
    "freq_items['length'] = freq_items['itemsets'].apply(lambda x: len(x))"
   ]
  },
  {
   "cell_type": "code",
   "execution_count": 9,
   "metadata": {},
   "outputs": [
    {
     "name": "stdout",
     "output_type": "stream",
     "text": [
      "Total number of frequent itemsets = 42\n"
     ]
    },
    {
     "data": {
      "text/html": [
       "<div>\n",
       "<style scoped>\n",
       "    .dataframe tbody tr th:only-of-type {\n",
       "        vertical-align: middle;\n",
       "    }\n",
       "\n",
       "    .dataframe tbody tr th {\n",
       "        vertical-align: top;\n",
       "    }\n",
       "\n",
       "    .dataframe thead th {\n",
       "        text-align: right;\n",
       "    }\n",
       "</style>\n",
       "<table border=\"1\" class=\"dataframe\">\n",
       "  <thead>\n",
       "    <tr style=\"text-align: right;\">\n",
       "      <th></th>\n",
       "      <th>itemsets</th>\n",
       "      <th>support</th>\n",
       "      <th>length</th>\n",
       "    </tr>\n",
       "  </thead>\n",
       "  <tbody>\n",
       "    <tr>\n",
       "      <th>37</th>\n",
       "      <td>(credit_rating_fair, buys_computer_yes)</td>\n",
       "      <td>0.428571</td>\n",
       "      <td>2</td>\n",
       "    </tr>\n",
       "    <tr>\n",
       "      <th>38</th>\n",
       "      <td>(student_no, age_Youth, buys_computer_no)</td>\n",
       "      <td>0.214286</td>\n",
       "      <td>3</td>\n",
       "    </tr>\n",
       "    <tr>\n",
       "      <th>39</th>\n",
       "      <td>(credit_rating_fair, age_senior, buys_computer...</td>\n",
       "      <td>0.214286</td>\n",
       "      <td>3</td>\n",
       "    </tr>\n",
       "    <tr>\n",
       "      <th>40</th>\n",
       "      <td>(income_low, buys_computer_yes, student_yes)</td>\n",
       "      <td>0.214286</td>\n",
       "      <td>3</td>\n",
       "    </tr>\n",
       "    <tr>\n",
       "      <th>41</th>\n",
       "      <td>(credit_rating_fair, buys_computer_yes, studen...</td>\n",
       "      <td>0.285714</td>\n",
       "      <td>3</td>\n",
       "    </tr>\n",
       "  </tbody>\n",
       "</table>\n",
       "</div>"
      ],
      "text/plain": [
       "                                             itemsets   support  length\n",
       "37            (credit_rating_fair, buys_computer_yes)  0.428571       2\n",
       "38          (student_no, age_Youth, buys_computer_no)  0.214286       3\n",
       "39  (credit_rating_fair, age_senior, buys_computer...  0.214286       3\n",
       "40       (income_low, buys_computer_yes, student_yes)  0.214286       3\n",
       "41  (credit_rating_fair, buys_computer_yes, studen...  0.285714       3"
      ]
     },
     "execution_count": 9,
     "metadata": {},
     "output_type": "execute_result"
    }
   ],
   "source": [
    "print(f\"Total number of frequent itemsets = {freq_items.shape[0]}\")\n",
    "freq_items.tail()"
   ]
  },
  {
   "cell_type": "markdown",
   "metadata": {},
   "source": [
    "### Rules from Frequent Itemsets\n",
    "\n",
    "Once the frequent itemsets from transactions in a database have been found, it is straightforward to generate strong association rules from them (where strong association rules satisfy both minimum support and minimum confidence). This can be done using  confidence, which we show again here for completeness:\n",
    "\n",
    "$\\text{conf}(X \\Rightarrow Y ) = P(Y|X) = \\frac{\\text{sup}(X \\cup Y )}{\\text{sup}(X)} = \\frac{\\text{count}(X \\cup Y )}{\\text{count}(X)}$. \n",
    "\n",
    "\n",
    "We now apply `association_rules` on the frequent itemsets found in the earlier step. The function definition is as follows: \n",
    "\n",
    "```\n",
    "association_rules(df, metric=’confidence’, min_threshold=0.8, support_only=False)\n",
    "```\n",
    "\n",
    "Metric can be set to `confidence`, `lift`, `support`, `leverage` and `conviction`."
   ]
  },
  {
   "cell_type": "code",
   "execution_count": 10,
   "metadata": {},
   "outputs": [
    {
     "name": "stdout",
     "output_type": "stream",
     "text": [
      "Total number of rules = 17\n"
     ]
    },
    {
     "data": {
      "text/html": [
       "<div>\n",
       "<style scoped>\n",
       "    .dataframe tbody tr th:only-of-type {\n",
       "        vertical-align: middle;\n",
       "    }\n",
       "\n",
       "    .dataframe tbody tr th {\n",
       "        vertical-align: top;\n",
       "    }\n",
       "\n",
       "    .dataframe thead th {\n",
       "        text-align: right;\n",
       "    }\n",
       "</style>\n",
       "<table border=\"1\" class=\"dataframe\">\n",
       "  <thead>\n",
       "    <tr style=\"text-align: right;\">\n",
       "      <th></th>\n",
       "      <th>antecedents</th>\n",
       "      <th>consequents</th>\n",
       "      <th>antecedent support</th>\n",
       "      <th>consequent support</th>\n",
       "      <th>support</th>\n",
       "      <th>confidence</th>\n",
       "      <th>lift</th>\n",
       "      <th>leverage</th>\n",
       "      <th>conviction</th>\n",
       "    </tr>\n",
       "  </thead>\n",
       "  <tbody>\n",
       "    <tr>\n",
       "      <th>0</th>\n",
       "      <td>(age_middle)</td>\n",
       "      <td>(buys_computer_yes)</td>\n",
       "      <td>0.285714</td>\n",
       "      <td>0.642857</td>\n",
       "      <td>0.285714</td>\n",
       "      <td>1.00</td>\n",
       "      <td>1.555556</td>\n",
       "      <td>0.102041</td>\n",
       "      <td>inf</td>\n",
       "    </tr>\n",
       "    <tr>\n",
       "      <th>1</th>\n",
       "      <td>(income_high)</td>\n",
       "      <td>(student_no)</td>\n",
       "      <td>0.285714</td>\n",
       "      <td>0.500000</td>\n",
       "      <td>0.214286</td>\n",
       "      <td>0.75</td>\n",
       "      <td>1.500000</td>\n",
       "      <td>0.071429</td>\n",
       "      <td>2.000000</td>\n",
       "    </tr>\n",
       "    <tr>\n",
       "      <th>2</th>\n",
       "      <td>(income_high)</td>\n",
       "      <td>(credit_rating_fair)</td>\n",
       "      <td>0.285714</td>\n",
       "      <td>0.571429</td>\n",
       "      <td>0.214286</td>\n",
       "      <td>0.75</td>\n",
       "      <td>1.312500</td>\n",
       "      <td>0.051020</td>\n",
       "      <td>1.714286</td>\n",
       "    </tr>\n",
       "    <tr>\n",
       "      <th>3</th>\n",
       "      <td>(income_low)</td>\n",
       "      <td>(student_yes)</td>\n",
       "      <td>0.285714</td>\n",
       "      <td>0.500000</td>\n",
       "      <td>0.285714</td>\n",
       "      <td>1.00</td>\n",
       "      <td>2.000000</td>\n",
       "      <td>0.142857</td>\n",
       "      <td>inf</td>\n",
       "    </tr>\n",
       "    <tr>\n",
       "      <th>4</th>\n",
       "      <td>(income_low)</td>\n",
       "      <td>(buys_computer_yes)</td>\n",
       "      <td>0.285714</td>\n",
       "      <td>0.642857</td>\n",
       "      <td>0.214286</td>\n",
       "      <td>0.75</td>\n",
       "      <td>1.166667</td>\n",
       "      <td>0.030612</td>\n",
       "      <td>1.428571</td>\n",
       "    </tr>\n",
       "  </tbody>\n",
       "</table>\n",
       "</div>"
      ],
      "text/plain": [
       "     antecedents           consequents  antecedent support  \\\n",
       "0   (age_middle)   (buys_computer_yes)            0.285714   \n",
       "1  (income_high)          (student_no)            0.285714   \n",
       "2  (income_high)  (credit_rating_fair)            0.285714   \n",
       "3   (income_low)         (student_yes)            0.285714   \n",
       "4   (income_low)   (buys_computer_yes)            0.285714   \n",
       "\n",
       "   consequent support   support  confidence      lift  leverage  conviction  \n",
       "0            0.642857  0.285714        1.00  1.555556  0.102041         inf  \n",
       "1            0.500000  0.214286        0.75  1.500000  0.071429    2.000000  \n",
       "2            0.571429  0.214286        0.75  1.312500  0.051020    1.714286  \n",
       "3            0.500000  0.285714        1.00  2.000000  0.142857         inf  \n",
       "4            0.642857  0.214286        0.75  1.166667  0.030612    1.428571  "
      ]
     },
     "execution_count": 10,
     "metadata": {},
     "output_type": "execute_result"
    }
   ],
   "source": [
    "rules = association_rules(freq_items, metric=\"confidence\", min_threshold=0.75)\n",
    "print(f\"Total number of rules = {rules.shape[0]}\")\n",
    "rules.head()"
   ]
  },
  {
   "cell_type": "markdown",
   "metadata": {},
   "source": [
    "Based on the given measures such as supports, confidence, lift, leverage, and conviction, we can subset rules and inspect them. E.g, let's see the rules that has occured at least 20% of the time with at least 80% of confidence. \n"
   ]
  },
  {
   "cell_type": "code",
   "execution_count": 11,
   "metadata": {},
   "outputs": [
    {
     "data": {
      "text/html": [
       "<div>\n",
       "<style scoped>\n",
       "    .dataframe tbody tr th:only-of-type {\n",
       "        vertical-align: middle;\n",
       "    }\n",
       "\n",
       "    .dataframe tbody tr th {\n",
       "        vertical-align: top;\n",
       "    }\n",
       "\n",
       "    .dataframe thead th {\n",
       "        text-align: right;\n",
       "    }\n",
       "</style>\n",
       "<table border=\"1\" class=\"dataframe\">\n",
       "  <thead>\n",
       "    <tr style=\"text-align: right;\">\n",
       "      <th></th>\n",
       "      <th>antecedents</th>\n",
       "      <th>consequents</th>\n",
       "      <th>antecedent support</th>\n",
       "      <th>consequent support</th>\n",
       "      <th>support</th>\n",
       "      <th>confidence</th>\n",
       "      <th>lift</th>\n",
       "      <th>leverage</th>\n",
       "      <th>conviction</th>\n",
       "    </tr>\n",
       "  </thead>\n",
       "  <tbody>\n",
       "    <tr>\n",
       "      <th>0</th>\n",
       "      <td>(age_middle)</td>\n",
       "      <td>(buys_computer_yes)</td>\n",
       "      <td>0.285714</td>\n",
       "      <td>0.642857</td>\n",
       "      <td>0.285714</td>\n",
       "      <td>1.000000</td>\n",
       "      <td>1.555556</td>\n",
       "      <td>0.102041</td>\n",
       "      <td>inf</td>\n",
       "    </tr>\n",
       "    <tr>\n",
       "      <th>3</th>\n",
       "      <td>(income_low)</td>\n",
       "      <td>(student_yes)</td>\n",
       "      <td>0.285714</td>\n",
       "      <td>0.500000</td>\n",
       "      <td>0.285714</td>\n",
       "      <td>1.000000</td>\n",
       "      <td>2.000000</td>\n",
       "      <td>0.142857</td>\n",
       "      <td>inf</td>\n",
       "    </tr>\n",
       "    <tr>\n",
       "      <th>6</th>\n",
       "      <td>(student_yes)</td>\n",
       "      <td>(buys_computer_yes)</td>\n",
       "      <td>0.500000</td>\n",
       "      <td>0.642857</td>\n",
       "      <td>0.428571</td>\n",
       "      <td>0.857143</td>\n",
       "      <td>1.333333</td>\n",
       "      <td>0.107143</td>\n",
       "      <td>2.5</td>\n",
       "    </tr>\n",
       "    <tr>\n",
       "      <th>8</th>\n",
       "      <td>(student_no, age_Youth)</td>\n",
       "      <td>(buys_computer_no)</td>\n",
       "      <td>0.214286</td>\n",
       "      <td>0.357143</td>\n",
       "      <td>0.214286</td>\n",
       "      <td>1.000000</td>\n",
       "      <td>2.800000</td>\n",
       "      <td>0.137755</td>\n",
       "      <td>inf</td>\n",
       "    </tr>\n",
       "    <tr>\n",
       "      <th>10</th>\n",
       "      <td>(age_Youth, buys_computer_no)</td>\n",
       "      <td>(student_no)</td>\n",
       "      <td>0.214286</td>\n",
       "      <td>0.500000</td>\n",
       "      <td>0.214286</td>\n",
       "      <td>1.000000</td>\n",
       "      <td>2.000000</td>\n",
       "      <td>0.107143</td>\n",
       "      <td>inf</td>\n",
       "    </tr>\n",
       "    <tr>\n",
       "      <th>11</th>\n",
       "      <td>(credit_rating_fair, age_senior)</td>\n",
       "      <td>(buys_computer_yes)</td>\n",
       "      <td>0.214286</td>\n",
       "      <td>0.642857</td>\n",
       "      <td>0.214286</td>\n",
       "      <td>1.000000</td>\n",
       "      <td>1.555556</td>\n",
       "      <td>0.076531</td>\n",
       "      <td>inf</td>\n",
       "    </tr>\n",
       "    <tr>\n",
       "      <th>12</th>\n",
       "      <td>(age_senior, buys_computer_yes)</td>\n",
       "      <td>(credit_rating_fair)</td>\n",
       "      <td>0.214286</td>\n",
       "      <td>0.571429</td>\n",
       "      <td>0.214286</td>\n",
       "      <td>1.000000</td>\n",
       "      <td>1.750000</td>\n",
       "      <td>0.091837</td>\n",
       "      <td>inf</td>\n",
       "    </tr>\n",
       "    <tr>\n",
       "      <th>13</th>\n",
       "      <td>(income_low, buys_computer_yes)</td>\n",
       "      <td>(student_yes)</td>\n",
       "      <td>0.214286</td>\n",
       "      <td>0.500000</td>\n",
       "      <td>0.214286</td>\n",
       "      <td>1.000000</td>\n",
       "      <td>2.000000</td>\n",
       "      <td>0.107143</td>\n",
       "      <td>inf</td>\n",
       "    </tr>\n",
       "    <tr>\n",
       "      <th>16</th>\n",
       "      <td>(credit_rating_fair, student_yes)</td>\n",
       "      <td>(buys_computer_yes)</td>\n",
       "      <td>0.285714</td>\n",
       "      <td>0.642857</td>\n",
       "      <td>0.285714</td>\n",
       "      <td>1.000000</td>\n",
       "      <td>1.555556</td>\n",
       "      <td>0.102041</td>\n",
       "      <td>inf</td>\n",
       "    </tr>\n",
       "  </tbody>\n",
       "</table>\n",
       "</div>"
      ],
      "text/plain": [
       "                          antecedents           consequents  \\\n",
       "0                        (age_middle)   (buys_computer_yes)   \n",
       "3                        (income_low)         (student_yes)   \n",
       "6                       (student_yes)   (buys_computer_yes)   \n",
       "8             (student_no, age_Youth)    (buys_computer_no)   \n",
       "10      (age_Youth, buys_computer_no)          (student_no)   \n",
       "11   (credit_rating_fair, age_senior)   (buys_computer_yes)   \n",
       "12    (age_senior, buys_computer_yes)  (credit_rating_fair)   \n",
       "13    (income_low, buys_computer_yes)         (student_yes)   \n",
       "16  (credit_rating_fair, student_yes)   (buys_computer_yes)   \n",
       "\n",
       "    antecedent support  consequent support   support  confidence      lift  \\\n",
       "0             0.285714            0.642857  0.285714    1.000000  1.555556   \n",
       "3             0.285714            0.500000  0.285714    1.000000  2.000000   \n",
       "6             0.500000            0.642857  0.428571    0.857143  1.333333   \n",
       "8             0.214286            0.357143  0.214286    1.000000  2.800000   \n",
       "10            0.214286            0.500000  0.214286    1.000000  2.000000   \n",
       "11            0.214286            0.642857  0.214286    1.000000  1.555556   \n",
       "12            0.214286            0.571429  0.214286    1.000000  1.750000   \n",
       "13            0.214286            0.500000  0.214286    1.000000  2.000000   \n",
       "16            0.285714            0.642857  0.285714    1.000000  1.555556   \n",
       "\n",
       "    leverage  conviction  \n",
       "0   0.102041         inf  \n",
       "3   0.142857         inf  \n",
       "6   0.107143         2.5  \n",
       "8   0.137755         inf  \n",
       "10  0.107143         inf  \n",
       "11  0.076531         inf  \n",
       "12  0.091837         inf  \n",
       "13  0.107143         inf  \n",
       "16  0.102041         inf  "
      ]
     },
     "execution_count": 11,
     "metadata": {},
     "output_type": "execute_result"
    }
   ],
   "source": [
    "rules[(rules['support'] >= .20) & (rules['confidence'] >= .80)]"
   ]
  },
  {
   "cell_type": "markdown",
   "metadata": {},
   "source": [
    "We can see all but one rules have the highest confidence and coviction. We should not take this result seriously as there are only 28 transactions. Let's explore some surprising patterns with lift and leverage. "
   ]
  },
  {
   "cell_type": "code",
   "execution_count": 12,
   "metadata": {},
   "outputs": [
    {
     "data": {
      "image/png": "[encoded data removed]",
      "text/plain": [
       "<Figure size 432x288 with 1 Axes>"
      ]
     },
     "metadata": {
      "needs_background": "light"
     },
     "output_type": "display_data"
    }
   ],
   "source": [
    "plt.scatter(rules['lift'], rules['leverage'], alpha=0.5)\n",
    "plt.xlabel('lift')\n",
    "plt.ylabel('leverage')\n",
    "plt.title('Lift vs Leverage');\n",
    "plt.show()"
   ]
  },
  {
   "cell_type": "code",
   "execution_count": 13,
   "metadata": {},
   "outputs": [
    {
     "data": {
      "text/html": [
       "<div>\n",
       "<style scoped>\n",
       "    .dataframe tbody tr th:only-of-type {\n",
       "        vertical-align: middle;\n",
       "    }\n",
       "\n",
       "    .dataframe tbody tr th {\n",
       "        vertical-align: top;\n",
       "    }\n",
       "\n",
       "    .dataframe thead th {\n",
       "        text-align: right;\n",
       "    }\n",
       "</style>\n",
       "<table border=\"1\" class=\"dataframe\">\n",
       "  <thead>\n",
       "    <tr style=\"text-align: right;\">\n",
       "      <th></th>\n",
       "      <th>antecedents</th>\n",
       "      <th>consequents</th>\n",
       "      <th>antecedent support</th>\n",
       "      <th>consequent support</th>\n",
       "      <th>support</th>\n",
       "      <th>confidence</th>\n",
       "      <th>lift</th>\n",
       "      <th>leverage</th>\n",
       "      <th>conviction</th>\n",
       "    </tr>\n",
       "  </thead>\n",
       "  <tbody>\n",
       "    <tr>\n",
       "      <th>3</th>\n",
       "      <td>(income_low)</td>\n",
       "      <td>(student_yes)</td>\n",
       "      <td>0.285714</td>\n",
       "      <td>0.500000</td>\n",
       "      <td>0.285714</td>\n",
       "      <td>1.00</td>\n",
       "      <td>2.0</td>\n",
       "      <td>0.142857</td>\n",
       "      <td>inf</td>\n",
       "    </tr>\n",
       "    <tr>\n",
       "      <th>8</th>\n",
       "      <td>(student_no, age_Youth)</td>\n",
       "      <td>(buys_computer_no)</td>\n",
       "      <td>0.214286</td>\n",
       "      <td>0.357143</td>\n",
       "      <td>0.214286</td>\n",
       "      <td>1.00</td>\n",
       "      <td>2.8</td>\n",
       "      <td>0.137755</td>\n",
       "      <td>inf</td>\n",
       "    </tr>\n",
       "    <tr>\n",
       "      <th>9</th>\n",
       "      <td>(student_no, buys_computer_no)</td>\n",
       "      <td>(age_Youth)</td>\n",
       "      <td>0.285714</td>\n",
       "      <td>0.357143</td>\n",
       "      <td>0.214286</td>\n",
       "      <td>0.75</td>\n",
       "      <td>2.1</td>\n",
       "      <td>0.112245</td>\n",
       "      <td>2.571429</td>\n",
       "    </tr>\n",
       "    <tr>\n",
       "      <th>10</th>\n",
       "      <td>(age_Youth, buys_computer_no)</td>\n",
       "      <td>(student_no)</td>\n",
       "      <td>0.214286</td>\n",
       "      <td>0.500000</td>\n",
       "      <td>0.214286</td>\n",
       "      <td>1.00</td>\n",
       "      <td>2.0</td>\n",
       "      <td>0.107143</td>\n",
       "      <td>inf</td>\n",
       "    </tr>\n",
       "    <tr>\n",
       "      <th>13</th>\n",
       "      <td>(income_low, buys_computer_yes)</td>\n",
       "      <td>(student_yes)</td>\n",
       "      <td>0.214286</td>\n",
       "      <td>0.500000</td>\n",
       "      <td>0.214286</td>\n",
       "      <td>1.00</td>\n",
       "      <td>2.0</td>\n",
       "      <td>0.107143</td>\n",
       "      <td>inf</td>\n",
       "    </tr>\n",
       "  </tbody>\n",
       "</table>\n",
       "</div>"
      ],
      "text/plain": [
       "                        antecedents         consequents  antecedent support  \\\n",
       "3                      (income_low)       (student_yes)            0.285714   \n",
       "8           (student_no, age_Youth)  (buys_computer_no)            0.214286   \n",
       "9    (student_no, buys_computer_no)         (age_Youth)            0.285714   \n",
       "10    (age_Youth, buys_computer_no)        (student_no)            0.214286   \n",
       "13  (income_low, buys_computer_yes)       (student_yes)            0.214286   \n",
       "\n",
       "    consequent support   support  confidence  lift  leverage  conviction  \n",
       "3             0.500000  0.285714        1.00   2.0  0.142857         inf  \n",
       "8             0.357143  0.214286        1.00   2.8  0.137755         inf  \n",
       "9             0.357143  0.214286        0.75   2.1  0.112245    2.571429  \n",
       "10            0.500000  0.214286        1.00   2.0  0.107143         inf  \n",
       "13            0.500000  0.214286        1.00   2.0  0.107143         inf  "
      ]
     },
     "execution_count": 13,
     "metadata": {},
     "output_type": "execute_result"
    }
   ],
   "source": [
    "rules[(rules['lift'] >= 2) & (rules['leverage'] >= .10)]"
   ]
  },
  {
   "cell_type": "markdown",
   "metadata": {},
   "source": [
    "Now, we will explore the FP-Growth method, which does not employ candidate generation and testing strategy. Instead, this method infers a compact tree (aka FP tree) representation of the entire dataset and provides rules by traversing this dataset. This method usually runs much faster than the apriori method. "
   ]
  },
  {
   "cell_type": "markdown",
   "metadata": {},
   "source": [
    "## B. Frequent Patterns with FP-Growth\n",
    "\n"
   ]
  },
  {
   "cell_type": "code",
   "execution_count": 14,
   "metadata": {},
   "outputs": [],
   "source": [
    "freq_items_fp = fpgrowth(df, min_support=0.2, use_colnames=True)\n",
    "\n",
    "# swap columns for readability \n",
    "freq_items_fp = freq_items_fp.reindex(columns=['itemsets', 'support'])\n",
    "freq_items_fp['length'] = freq_items_fp['itemsets'].apply(lambda x: len(x))"
   ]
  },
  {
   "cell_type": "code",
   "execution_count": 15,
   "metadata": {},
   "outputs": [
    {
     "name": "stdout",
     "output_type": "stream",
     "text": [
      "Total number of frequent itemsets = 42\n"
     ]
    },
    {
     "data": {
      "text/html": [
       "<div>\n",
       "<style scoped>\n",
       "    .dataframe tbody tr th:only-of-type {\n",
       "        vertical-align: middle;\n",
       "    }\n",
       "\n",
       "    .dataframe tbody tr th {\n",
       "        vertical-align: top;\n",
       "    }\n",
       "\n",
       "    .dataframe thead th {\n",
       "        text-align: right;\n",
       "    }\n",
       "</style>\n",
       "<table border=\"1\" class=\"dataframe\">\n",
       "  <thead>\n",
       "    <tr style=\"text-align: right;\">\n",
       "      <th></th>\n",
       "      <th>itemsets</th>\n",
       "      <th>support</th>\n",
       "      <th>length</th>\n",
       "    </tr>\n",
       "  </thead>\n",
       "  <tbody>\n",
       "    <tr>\n",
       "      <th>37</th>\n",
       "      <td>(credit_rating_fair, student_yes)</td>\n",
       "      <td>0.285714</td>\n",
       "      <td>2</td>\n",
       "    </tr>\n",
       "    <tr>\n",
       "      <th>38</th>\n",
       "      <td>(credit_rating_fair, buys_computer_yes, studen...</td>\n",
       "      <td>0.285714</td>\n",
       "      <td>3</td>\n",
       "    </tr>\n",
       "    <tr>\n",
       "      <th>39</th>\n",
       "      <td>(income_low, student_yes)</td>\n",
       "      <td>0.285714</td>\n",
       "      <td>2</td>\n",
       "    </tr>\n",
       "    <tr>\n",
       "      <th>40</th>\n",
       "      <td>(income_low, buys_computer_yes)</td>\n",
       "      <td>0.214286</td>\n",
       "      <td>2</td>\n",
       "    </tr>\n",
       "    <tr>\n",
       "      <th>41</th>\n",
       "      <td>(income_low, buys_computer_yes, student_yes)</td>\n",
       "      <td>0.214286</td>\n",
       "      <td>3</td>\n",
       "    </tr>\n",
       "  </tbody>\n",
       "</table>\n",
       "</div>"
      ],
      "text/plain": [
       "                                             itemsets   support  length\n",
       "37                  (credit_rating_fair, student_yes)  0.285714       2\n",
       "38  (credit_rating_fair, buys_computer_yes, studen...  0.285714       3\n",
       "39                          (income_low, student_yes)  0.285714       2\n",
       "40                    (income_low, buys_computer_yes)  0.214286       2\n",
       "41       (income_low, buys_computer_yes, student_yes)  0.214286       3"
      ]
     },
     "execution_count": 15,
     "metadata": {},
     "output_type": "execute_result"
    }
   ],
   "source": [
    "print(f\"Total number of frequent itemsets = {freq_items_fp.shape[0]}\")\n",
    "freq_items_fp.tail()"
   ]
  },
  {
   "cell_type": "markdown",
   "metadata": {},
   "source": [
    "As expected, we get the 42 frequent patterns like the apriori method. Now we can pass these frequent patterns to `association_rules` method for inferring rules. "
   ]
  },
  {
   "cell_type": "code",
   "execution_count": 16,
   "metadata": {},
   "outputs": [
    {
     "name": "stdout",
     "output_type": "stream",
     "text": [
      "Total number of rules = 17\n"
     ]
    },
    {
     "data": {
      "text/html": [
       "<div>\n",
       "<style scoped>\n",
       "    .dataframe tbody tr th:only-of-type {\n",
       "        vertical-align: middle;\n",
       "    }\n",
       "\n",
       "    .dataframe tbody tr th {\n",
       "        vertical-align: top;\n",
       "    }\n",
       "\n",
       "    .dataframe thead th {\n",
       "        text-align: right;\n",
       "    }\n",
       "</style>\n",
       "<table border=\"1\" class=\"dataframe\">\n",
       "  <thead>\n",
       "    <tr style=\"text-align: right;\">\n",
       "      <th></th>\n",
       "      <th>antecedents</th>\n",
       "      <th>consequents</th>\n",
       "      <th>antecedent support</th>\n",
       "      <th>consequent support</th>\n",
       "      <th>support</th>\n",
       "      <th>confidence</th>\n",
       "      <th>lift</th>\n",
       "      <th>leverage</th>\n",
       "      <th>conviction</th>\n",
       "    </tr>\n",
       "  </thead>\n",
       "  <tbody>\n",
       "    <tr>\n",
       "      <th>0</th>\n",
       "      <td>(credit_rating_fair)</td>\n",
       "      <td>(buys_computer_yes)</td>\n",
       "      <td>0.571429</td>\n",
       "      <td>0.642857</td>\n",
       "      <td>0.428571</td>\n",
       "      <td>0.75</td>\n",
       "      <td>1.166667</td>\n",
       "      <td>0.061224</td>\n",
       "      <td>1.428571</td>\n",
       "    </tr>\n",
       "    <tr>\n",
       "      <th>1</th>\n",
       "      <td>(buys_computer_no)</td>\n",
       "      <td>(student_no)</td>\n",
       "      <td>0.357143</td>\n",
       "      <td>0.500000</td>\n",
       "      <td>0.285714</td>\n",
       "      <td>0.80</td>\n",
       "      <td>1.600000</td>\n",
       "      <td>0.107143</td>\n",
       "      <td>2.500000</td>\n",
       "    </tr>\n",
       "    <tr>\n",
       "      <th>2</th>\n",
       "      <td>(student_no, age_Youth)</td>\n",
       "      <td>(buys_computer_no)</td>\n",
       "      <td>0.214286</td>\n",
       "      <td>0.357143</td>\n",
       "      <td>0.214286</td>\n",
       "      <td>1.00</td>\n",
       "      <td>2.800000</td>\n",
       "      <td>0.137755</td>\n",
       "      <td>inf</td>\n",
       "    </tr>\n",
       "    <tr>\n",
       "      <th>3</th>\n",
       "      <td>(student_no, buys_computer_no)</td>\n",
       "      <td>(age_Youth)</td>\n",
       "      <td>0.285714</td>\n",
       "      <td>0.357143</td>\n",
       "      <td>0.214286</td>\n",
       "      <td>0.75</td>\n",
       "      <td>2.100000</td>\n",
       "      <td>0.112245</td>\n",
       "      <td>2.571429</td>\n",
       "    </tr>\n",
       "    <tr>\n",
       "      <th>4</th>\n",
       "      <td>(age_Youth, buys_computer_no)</td>\n",
       "      <td>(student_no)</td>\n",
       "      <td>0.214286</td>\n",
       "      <td>0.500000</td>\n",
       "      <td>0.214286</td>\n",
       "      <td>1.00</td>\n",
       "      <td>2.000000</td>\n",
       "      <td>0.107143</td>\n",
       "      <td>inf</td>\n",
       "    </tr>\n",
       "  </tbody>\n",
       "</table>\n",
       "</div>"
      ],
      "text/plain": [
       "                      antecedents          consequents  antecedent support  \\\n",
       "0            (credit_rating_fair)  (buys_computer_yes)            0.571429   \n",
       "1              (buys_computer_no)         (student_no)            0.357143   \n",
       "2         (student_no, age_Youth)   (buys_computer_no)            0.214286   \n",
       "3  (student_no, buys_computer_no)          (age_Youth)            0.285714   \n",
       "4   (age_Youth, buys_computer_no)         (student_no)            0.214286   \n",
       "\n",
       "   consequent support   support  confidence      lift  leverage  conviction  \n",
       "0            0.642857  0.428571        0.75  1.166667  0.061224    1.428571  \n",
       "1            0.500000  0.285714        0.80  1.600000  0.107143    2.500000  \n",
       "2            0.357143  0.214286        1.00  2.800000  0.137755         inf  \n",
       "3            0.357143  0.214286        0.75  2.100000  0.112245    2.571429  \n",
       "4            0.500000  0.214286        1.00  2.000000  0.107143         inf  "
      ]
     },
     "execution_count": 16,
     "metadata": {},
     "output_type": "execute_result"
    }
   ],
   "source": [
    "rules_fp = association_rules(freq_items_fp, metric=\"confidence\", min_threshold=0.75)\n",
    "print(f\"Total number of rules = {rules_fp.shape[0]}\")\n",
    "rules_fp.head()"
   ]
  },
  {
   "cell_type": "markdown",
   "metadata": {},
   "source": [
    "## Apriori vs FP-Growth \n",
    "\n",
    "Why use FP-Growth. As FP-Growth doesn't require creating candidate sets explicitly, it can be magnitudes faster than the alternative Apriori algorithm. For instance, the following cells compare the performance of the Apriori algorithm to the performance of FP-Growth -- even in this very simple retail dataset scenario, FP-Growth is about 2 times faster."
   ]
  },
  {
   "cell_type": "code",
   "execution_count": 17,
   "metadata": {},
   "outputs": [
    {
     "name": "stdout",
     "output_type": "stream",
     "text": [
      "4.82 ms ± 48.8 µs per loop (mean ± std. dev. of 10 runs, 100 loops each)\n"
     ]
    }
   ],
   "source": [
    "## Time taken by apriori: n: inner loop; r: outer loop\n",
    "%timeit -n 100 -r 10 apriori(df, min_support=0.2)\n",
    "\n"
   ]
  },
  {
   "cell_type": "code",
   "execution_count": 18,
   "metadata": {},
   "outputs": [
    {
     "name": "stdout",
     "output_type": "stream",
     "text": [
      "2.54 ms ± 64 µs per loop (mean ± std. dev. of 10 runs, 100 loops each)\n"
     ]
    }
   ],
   "source": [
    "## Time taken by FP-Growth\n",
    "%timeit -n 100 -r 10 fpgrowth(df, min_support=0.2)"
   ]
  },
  {
   "cell_type": "markdown",
   "metadata": {},
   "source": [
    "## C. Compact Representation of Frequent Itemsets"
   ]
  },
  {
   "cell_type": "markdown",
   "metadata": {},
   "source": [
    "In a real-world scenario, the number of frequent itemsets produced could be very large. It is useful to identify a small representative set of itemsets from which all other frequent itemsets can be derived. Two such representations are **maximal** and **closed** frequent itemsets. \n",
    "\n",
    "### Maximal Frequent Itemsets\n",
    "\n",
    "A **maximal frequent itemset** is defined as a frequent itemset for which none of its immediate supersets are frequent. Maximal frequent itemsets effectively provide a compact representation of frequent itemsets. We can derive all frequent itemsets from a maximal frequent itemsets. \n"
   ]
  },
  {
   "cell_type": "markdown",
   "metadata": {},
   "source": [
    "\n",
    "<img src=\"../images/maximal-itemset.png\" height=400, width=600 />\n",
    "\n",
    "**Fig. Maximal frequent itemset.** _This figure shows the lattice of itemsets for five items {a, b, c, d, e}. In this toy example the boundary between frequent and infrequent itemsets are shown. An itemset such as {a,d} is maximal frequent because all of its immediate supersets, {a,b,d}, {a,c,d}, and {a,d,e}, are infrequent. In contrast, {a,c} is non-maximal becauseone of its immediate supersets, {a,c,e}, is frequent. (source: Intro to Data Mining byTan et al.)_"
   ]
  },
  {
   "cell_type": "markdown",
   "metadata": {},
   "source": [
    "The sizeof an FP-tree is typically smaller than the size of the uncompressed data because many transactions in market basket data often share a few items in common."
   ]
  },
  {
   "cell_type": "markdown",
   "metadata": {},
   "source": [
    "### Closed Frequent Itemsets\n",
    "\n",
    "An **closed itemset** is the one for which none of its immediate supersets has the same support count as the itemset. In other words, an itemsetset X is not closed if at least one of its immediate supersets has the same support count as X. \n",
    "\n",
    "An itemset is a **closed frequent itemset** if it is closed and its support is greater than or equal to user-defined minimum support."
   ]
  },
  {
   "cell_type": "markdown",
   "metadata": {},
   "source": [
    "<img src=\"../images/closed-itemset.png\" height=400 width = 600 />\n",
    "\n",
    "**Fig. Example of closed frequent itemsets.** _As the node { b, c }  is associated with transaction ids 1, 2, and 3, its support count is equal to three. From the transactions given in this diagram, notice that every transaction that contains b also contains c. Consequently,the support for {b} is identical to {b, c} and {b} should not be considered a closed itemset. On the other hand, {b, c} is a closed itemset because it does not have the same support count as any of its supersets._"
   ]
  },
  {
   "cell_type": "markdown",
   "metadata": {},
   "source": [
    "**Maximal frequent itemsets are subset of closed frequent itemsets.** Now, we use `fpmax` method to identify all maximal frequent patterns with min support 0.2 for this dataset."
   ]
  },
  {
   "cell_type": "code",
   "execution_count": 19,
   "metadata": {},
   "outputs": [],
   "source": [
    "max_patterns = fpmax(df, min_support=0.2, use_colnames=True)"
   ]
  },
  {
   "cell_type": "code",
   "execution_count": 20,
   "metadata": {},
   "outputs": [],
   "source": [
    "# for readability \n",
    "max_patterns = max_patterns.reindex(columns=['itemsets', 'support'])\n",
    "max_patterns['length'] = max_patterns['itemsets'].apply(lambda x: len(x))"
   ]
  },
  {
   "cell_type": "code",
   "execution_count": 21,
   "metadata": {},
   "outputs": [
    {
     "name": "stdout",
     "output_type": "stream",
     "text": [
      "Total number of maximal frequent patterns = 20\n"
     ]
    },
    {
     "data": {
      "text/html": [
       "<div>\n",
       "<style scoped>\n",
       "    .dataframe tbody tr th:only-of-type {\n",
       "        vertical-align: middle;\n",
       "    }\n",
       "\n",
       "    .dataframe tbody tr th {\n",
       "        vertical-align: top;\n",
       "    }\n",
       "\n",
       "    .dataframe thead th {\n",
       "        text-align: right;\n",
       "    }\n",
       "</style>\n",
       "<table border=\"1\" class=\"dataframe\">\n",
       "  <thead>\n",
       "    <tr style=\"text-align: right;\">\n",
       "      <th></th>\n",
       "      <th>itemsets</th>\n",
       "      <th>support</th>\n",
       "      <th>length</th>\n",
       "    </tr>\n",
       "  </thead>\n",
       "  <tbody>\n",
       "    <tr>\n",
       "      <th>0</th>\n",
       "      <td>(age_middle, buys_computer_yes)</td>\n",
       "      <td>0.285714</td>\n",
       "      <td>2</td>\n",
       "    </tr>\n",
       "    <tr>\n",
       "      <th>1</th>\n",
       "      <td>(credit_rating_fair, income_high)</td>\n",
       "      <td>0.214286</td>\n",
       "      <td>2</td>\n",
       "    </tr>\n",
       "    <tr>\n",
       "      <th>2</th>\n",
       "      <td>(student_no, income_high)</td>\n",
       "      <td>0.214286</td>\n",
       "      <td>2</td>\n",
       "    </tr>\n",
       "    <tr>\n",
       "      <th>3</th>\n",
       "      <td>(income_low, buys_computer_yes, student_yes)</td>\n",
       "      <td>0.214286</td>\n",
       "      <td>3</td>\n",
       "    </tr>\n",
       "    <tr>\n",
       "      <th>4</th>\n",
       "      <td>(age_Youth, credit_rating_fair)</td>\n",
       "      <td>0.214286</td>\n",
       "      <td>2</td>\n",
       "    </tr>\n",
       "    <tr>\n",
       "      <th>5</th>\n",
       "      <td>(student_no, age_Youth, buys_computer_no)</td>\n",
       "      <td>0.214286</td>\n",
       "      <td>3</td>\n",
       "    </tr>\n",
       "    <tr>\n",
       "      <th>6</th>\n",
       "      <td>(credit_rating_fair, age_senior, buys_computer...</td>\n",
       "      <td>0.214286</td>\n",
       "      <td>3</td>\n",
       "    </tr>\n",
       "    <tr>\n",
       "      <th>7</th>\n",
       "      <td>(age_senior, income_medium)</td>\n",
       "      <td>0.214286</td>\n",
       "      <td>2</td>\n",
       "    </tr>\n",
       "    <tr>\n",
       "      <th>8</th>\n",
       "      <td>(age_senior, student_yes)</td>\n",
       "      <td>0.214286</td>\n",
       "      <td>2</td>\n",
       "    </tr>\n",
       "    <tr>\n",
       "      <th>9</th>\n",
       "      <td>(credit_rating_excellent, buys_computer_no)</td>\n",
       "      <td>0.214286</td>\n",
       "      <td>2</td>\n",
       "    </tr>\n",
       "    <tr>\n",
       "      <th>10</th>\n",
       "      <td>(credit_rating_fair, income_medium)</td>\n",
       "      <td>0.214286</td>\n",
       "      <td>2</td>\n",
       "    </tr>\n",
       "    <tr>\n",
       "      <th>11</th>\n",
       "      <td>(credit_rating_excellent, income_medium)</td>\n",
       "      <td>0.214286</td>\n",
       "      <td>2</td>\n",
       "    </tr>\n",
       "    <tr>\n",
       "      <th>12</th>\n",
       "      <td>(income_medium, buys_computer_yes)</td>\n",
       "      <td>0.285714</td>\n",
       "      <td>2</td>\n",
       "    </tr>\n",
       "    <tr>\n",
       "      <th>13</th>\n",
       "      <td>(student_no, income_medium)</td>\n",
       "      <td>0.285714</td>\n",
       "      <td>2</td>\n",
       "    </tr>\n",
       "    <tr>\n",
       "      <th>14</th>\n",
       "      <td>(student_no, credit_rating_excellent)</td>\n",
       "      <td>0.214286</td>\n",
       "      <td>2</td>\n",
       "    </tr>\n",
       "    <tr>\n",
       "      <th>15</th>\n",
       "      <td>(credit_rating_excellent, student_yes)</td>\n",
       "      <td>0.214286</td>\n",
       "      <td>2</td>\n",
       "    </tr>\n",
       "    <tr>\n",
       "      <th>16</th>\n",
       "      <td>(credit_rating_excellent, buys_computer_yes)</td>\n",
       "      <td>0.214286</td>\n",
       "      <td>2</td>\n",
       "    </tr>\n",
       "    <tr>\n",
       "      <th>17</th>\n",
       "      <td>(student_no, buys_computer_yes)</td>\n",
       "      <td>0.214286</td>\n",
       "      <td>2</td>\n",
       "    </tr>\n",
       "    <tr>\n",
       "      <th>18</th>\n",
       "      <td>(student_no, credit_rating_fair)</td>\n",
       "      <td>0.285714</td>\n",
       "      <td>2</td>\n",
       "    </tr>\n",
       "    <tr>\n",
       "      <th>19</th>\n",
       "      <td>(credit_rating_fair, buys_computer_yes, studen...</td>\n",
       "      <td>0.285714</td>\n",
       "      <td>3</td>\n",
       "    </tr>\n",
       "  </tbody>\n",
       "</table>\n",
       "</div>"
      ],
      "text/plain": [
       "                                             itemsets   support  length\n",
       "0                     (age_middle, buys_computer_yes)  0.285714       2\n",
       "1                   (credit_rating_fair, income_high)  0.214286       2\n",
       "2                           (student_no, income_high)  0.214286       2\n",
       "3        (income_low, buys_computer_yes, student_yes)  0.214286       3\n",
       "4                     (age_Youth, credit_rating_fair)  0.214286       2\n",
       "5           (student_no, age_Youth, buys_computer_no)  0.214286       3\n",
       "6   (credit_rating_fair, age_senior, buys_computer...  0.214286       3\n",
       "7                         (age_senior, income_medium)  0.214286       2\n",
       "8                           (age_senior, student_yes)  0.214286       2\n",
       "9         (credit_rating_excellent, buys_computer_no)  0.214286       2\n",
       "10                (credit_rating_fair, income_medium)  0.214286       2\n",
       "11           (credit_rating_excellent, income_medium)  0.214286       2\n",
       "12                 (income_medium, buys_computer_yes)  0.285714       2\n",
       "13                        (student_no, income_medium)  0.285714       2\n",
       "14              (student_no, credit_rating_excellent)  0.214286       2\n",
       "15             (credit_rating_excellent, student_yes)  0.214286       2\n",
       "16       (credit_rating_excellent, buys_computer_yes)  0.214286       2\n",
       "17                    (student_no, buys_computer_yes)  0.214286       2\n",
       "18                   (student_no, credit_rating_fair)  0.285714       2\n",
       "19  (credit_rating_fair, buys_computer_yes, studen...  0.285714       3"
      ]
     },
     "execution_count": 21,
     "metadata": {},
     "output_type": "execute_result"
    }
   ],
   "source": [
    "print(f\"Total number of maximal frequent patterns = {max_patterns.shape[0]}\")\n",
    "max_patterns"
   ]
  },
  {
   "cell_type": "markdown",
   "metadata": {},
   "source": [
    "There are 20 maximal frequent itemsets which are almost half of the total number (42) of frequent patterns. "
   ]
  },
  {
   "cell_type": "code",
   "execution_count": 22,
   "metadata": {},
   "outputs": [
    {
     "name": "stdout",
     "output_type": "stream",
     "text": [
      "2.7 ms ± 57.8 µs per loop (mean ± std. dev. of 10 runs, 100 loops each)\n"
     ]
    }
   ],
   "source": [
    "%timeit -n 100 -r 10 fpmax(df, min_support=0.2)"
   ]
  },
  {
   "cell_type": "markdown",
   "metadata": {},
   "source": [
    "The method runs as fast as the FP-Growth method. "
   ]
  }
 ],
 "metadata": {
  "kernelspec": {
   "display_name": "Python 3",
   "language": "python",
   "name": "python3"
  },
  "language_info": {
   "codemirror_mode": {
    "name": "ipython",
    "version": 3
   },
   "file_extension": ".py",
   "mimetype": "text/x-python",
   "name": "python",
   "nbconvert_exporter": "python",
   "pygments_lexer": "ipython3",
   "version": "3.7.3"
  }
 },
 "nbformat": 4,
 "nbformat_minor": 4
}
