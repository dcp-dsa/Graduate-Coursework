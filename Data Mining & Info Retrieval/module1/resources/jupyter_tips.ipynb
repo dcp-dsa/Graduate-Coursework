{
 "cells": [
  {
   "cell_type": "markdown",
   "metadata": {
    "toc": "true"
   },
   "source": [
    "# Table of Contents\n",
    " <p><div class=\"lev1 toc-item\"><a href=\"#Some-Hints-and-Tips-on-Using-Jupyter-Hub\" data-toc-modified-id=\"Some-Hints-and-Tips-on-Using-Jupyter-Hub-1\"><span class=\"toc-item-num\">1&nbsp;&nbsp;</span>Some Hints and Tips on Using Jupyter Hub</a></div><div class=\"lev2 toc-item\"><a href=\"#Changes-cells-from-&quot;Code&quot;-to-&quot;Markdown&quot;\" data-toc-modified-id=\"Changes-cells-from-&quot;Code&quot;-to-&quot;Markdown&quot;-11\"><span class=\"toc-item-num\">1.1&nbsp;&nbsp;</span>Changes cells from \"Code\" to \"Markdown\"</a></div><div class=\"lev2 toc-item\"><a href=\"#Formatting-Text-Options-in-Markdown-Cells\" data-toc-modified-id=\"Formatting-Text-Options-in-Markdown-Cells-12\"><span class=\"toc-item-num\">1.2&nbsp;&nbsp;</span>Formatting Text Options in Markdown Cells</a></div><div class=\"lev2 toc-item\"><a href=\"#Wrapping-items-in-Quotes\" data-toc-modified-id=\"Wrapping-items-in-Quotes-13\"><span class=\"toc-item-num\">1.3&nbsp;&nbsp;</span>Wrapping items in Quotes</a></div><div class=\"lev2 toc-item\"><a href=\"#Tab-complete\" data-toc-modified-id=\"Tab-complete-14\"><span class=\"toc-item-num\">1.4&nbsp;&nbsp;</span>Tab complete</a></div>"
   ]
  },
  {
   "cell_type": "markdown",
   "metadata": {},
   "source": [
    "# Some Hints and Tips on Using Jupyter Hub"
   ]
  },
  {
   "cell_type": "markdown",
   "metadata": {},
   "source": [
    "## Changes cells from \"Code\" to \"Markdown\"\n",
    "\n",
    "Markdown is a convenient way to format text and Jupyter comes with a nice extension to change your cells from being \"code\" cells to \"markdown\" cells. This comes in handy when you are trying to explain aspects of your code and you don't want to rely purely on code comments. It also tidies things up and makes your text more readable by including things features like headers or text emphasis (italics or bolding).\n",
    "\n",
    "The cells in Jupyter are defaulted to being code cells. However, you can simply change the the cell type in the top bar by changing the drop down box from \"Code\" to \"Markdown\" (*See the gif below for guidance*). Once the cell has been shifted to Markdown, you can then run the cell and it will render in a more reader friendly format.  "
   ]
  },
  {
   "cell_type": "markdown",
   "metadata": {},
   "source": [
    "<img src=\"../images/code_to_md.gif\" loop=\"-1\">"
   ]
  },
  {
   "cell_type": "markdown",
   "metadata": {},
   "source": [
    "## Formatting Text Options in Markdown Cells\n",
    "\n",
    "The beauty of using markdown cells is the simple text formatting capabilities that it provides you. Below is are the most common formatting options that will make reading text a lot more simple."
   ]
  },
  {
   "cell_type": "markdown",
   "metadata": {},
   "source": [
    "<img src=\"../images/md_formatting.gif\">"
   ]
  },
  {
   "cell_type": "markdown",
   "metadata": {},
   "source": [
    "## Wrapping items in Quotes\n",
    "\n",
    "Did you forget to wrap a string in quotes and getting some errors because of it? Well, you can simply highlight the area that you want to convert to a string and press the `\"` or `'` key. This also works for wrapping text in brackets `{}`, square brackets `[]` or parantheses `()`."
   ]
  },
  {
   "cell_type": "markdown",
   "metadata": {},
   "source": [
    "<img src=\"../images/string_complete.gif\">"
   ]
  },
  {
   "cell_type": "markdown",
   "metadata": {},
   "source": [
    "## Tab complete \n",
    "\n",
    "Looking for a function, method, or object but don't feel like typing it out (or forget exactly what it is). Well, you can just start typing the name of the object, function or method and press `<tab>` on your keyboard to drop down a menu with options to select from."
   ]
  },
  {
   "cell_type": "markdown",
   "metadata": {},
   "source": [
    "<img src=\"../images/tab_options.gif\">"
   ]
  }
 ],
 "metadata": {
  "kernelspec": {
   "display_name": "Python 3",
   "language": "python",
   "name": "python3"
  },
  "language_info": {
   "codemirror_mode": {
    "name": "ipython",
    "version": 3
   },
   "file_extension": ".py",
   "mimetype": "text/x-python",
   "name": "python",
   "nbconvert_exporter": "python",
   "pygments_lexer": "ipython3",
   "version": "3.7.7"
  },
  "latex_envs": {
   "LaTeX_envs_menu_present": true,
   "bibliofile": "biblio.bib",
   "cite_by": "apalike",
   "current_citInitial": 1,
   "eqLabelWithNumbers": true,
   "eqNumInitial": 1,
   "labels_anchors": false,
   "latex_user_defs": false,
   "report_style_numbering": false,
   "user_envs_cfg": false
  },
  "toc": {
   "colors": {
    "hover_highlight": "#DAA520",
    "running_highlight": "#FF0000",
    "selected_highlight": "#FFD700"
   },
   "moveMenuLeft": true,
   "nav_menu": {
    "height": "102.898px",
    "width": "251.989px"
   },
   "navigate_menu": true,
   "number_sections": true,
   "sideBar": true,
   "threshold": 4,
   "toc_cell": true,
   "toc_section_display": "block",
   "toc_window_display": false
  }
 },
 "nbformat": 4,
 "nbformat_minor": 2
}
