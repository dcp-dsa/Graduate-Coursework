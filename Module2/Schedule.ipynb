{
 "cells": [
  {
   "cell_type": "markdown",
   "metadata": {},
   "source": [
    "\n",
    "# Module Two: Intermediate Python\n",
    "\n",
    "## Topics covered\n",
    "1. <a href=\"#flow-control\">L1: Control Structures</a>\n",
    "1. <a href=\"#functions\">L2: Functions</a>\n",
    "1. <a href=\"#package-module\">L3: Modules and Packages</a>\n",
    "\n",
    "<!-- 1. Brief introduction to object-oriented programming -->\n",
    "\n",
    "\n",
    "## Resources used\n",
    "\n",
    " * Free course book: [Think Python](../resources/thinkpython.pdf)\n",
    " * Previous day's labs and readings\n"
   ]
  },
  {
   "cell_type": "markdown",
   "metadata": {},
   "source": [
    "---\n",
    "# Self-Paced Labs and Readings\n",
    "\n",
    "<a id=\"flow-control\"></a>\n",
    "**Lesson 1: A Brief Introduction to Control Structures**  \n",
    "1. Reading \n",
    "    1. [Truthy and Falsy Values in Python: A Detailed Introduction](https://www.freecodecamp.org/news/truthy-and-falsy-values-in-python/)\n",
    "    1. [Conditionals](http://openbookproject.net/thinkcs/python/english3e/conditionals.html)\n",
    "    1. [Think Python](../resources/thinkpython.pdf)\n",
    "        1. Chapter 5: Conditionals and Recursion, Sections 5.1 - 5.13\n",
    "        1. Chapter 7: Iteration, Sections 7.1 - 7.8\n",
    "1. Labs\n",
    "    1. [Flow Control](./labs/M2-L1-ControlStructures.ipynb)\n",
    "1. Practice\n",
    "    1. [Flow control](./practices/M2-P1-Flow-Control.ipynb)\n",
    "\n",
    "<a id=\"functions\"></a>\n",
    "**Lesson 2: Functions**  \n",
    "1. Reading\n",
    "    1. Chapter 3: Functions, Sections 3.1 - 3.13\n",
    "    2. Chapter 4: Case Study: Interface Design, Sections 4.1 - 4.11\n",
    "    3. Chapter 6: Fruitful Functions: , Sections 6.1 - 6.10\n",
    "1. Labs\n",
    "    1. [Introduction to functions](./labs/M2-L2-Functions.ipynb)\n",
    "    1. [Lambda functions, map-filter-reduce, and list comprehension](./labs/M2-L2-Lambdas-Map-Filter-Reduce.ipynb)\n",
    "1. Practice\n",
    "    1. [Functions, map-filter-reduce, and list comprehension](./practices/M2-P2-Function-Map-Filter-List-Comprehension.ipynb)\n",
    "\n",
    "<a id=\"package-module\"></a>\n",
    "**Lesson 3: Modules and Packages**  \n",
    "\n",
    "1. Reading\n",
    "    1. [Python Modular Programming](https://indigo.sgn.missouri.edu/static/readings/Python_Modular_Programming.pdf)\n",
    "1. Labs\n",
    "    1. [Loading Packages and Libraries](./labs/M2-L3-LoadPackages.ipynb)\n",
    "\n",
    "**Exercises**\n",
    "1. [Python control structure and functions](./exercises/M2-E1-Control-Structure-Functions.ipynb)"
   ]
  },
  {
   "cell_type": "markdown",
   "metadata": {},
   "source": [
    "<!--\n",
    "** Optional Advanced Lesson 7 ** : Brief introduction to object-oriented programming  \n",
    "    Reading / walk-through:\n",
    "  1. [Object Oriented Concepts](./labs/D2L7-OOP_Concepts.ipynb) \n",
    "  1. [Object Oriented Programming Basics](./labs/D2L7-OOP_basic.ipynb)\n",
    "  1. [Object Oriented Programming Advanced](./labs/D2L7-OOP_advanced.ipynb)\n",
    "\n",
    "#### Optional/Extra Practice\n",
    "  1. [OOP](./practices/OOP.ipynb)\n",
    "-->\n"
   ]
  },
  {
   "cell_type": "markdown",
   "metadata": {},
   "source": [
    "## How to submit work\n",
    "\n",
    "## If you want to try submitting work\n",
    "\n",
    "If you want to try submitting work, you can attempt the steps below.\n",
    "<!--We will go over this in more detail the first couple weeks of the semester in the _Introduction to Data Science and Analytics_ as well.-->\n",
    "\n",
    "Open a Terminal, see the second link for day's activities.\n",
    "\n",
    "  * Review our work  (**Note: substitute course folder name below**)  \n",
    "```\n",
    "cd course_folder_name\n",
    "git status\n",
    "```\n",
    "  * Stage Changes\n",
    "```\n",
    "git add Module1\n",
    "```\n",
    "  * Create a commit (i.e., a save point)\n",
    "```\n",
    "git commit -m \"This is my Module 1 work\"\n",
    "```\n",
    "  * Send these changes to the server for safe keeping (i.e., publish)\n",
    "```\n",
    "git push\n",
    "```\n",
    "  * Confirm our working folder is clean and all work is tracked\n",
    "```\n",
    "git status\n",
    "```\n",
    "  "
   ]
  },
  {
   "cell_type": "markdown",
   "metadata": {},
   "source": [
    "---"
   ]
  }
 ],
 "metadata": {
  "kernelspec": {
   "display_name": "Python 3",
   "language": "python",
   "name": "python3"
  },
  "language_info": {
   "codemirror_mode": {
    "name": "ipython",
    "version": 3
   },
   "file_extension": ".py",
   "mimetype": "text/x-python",
   "name": "python",
   "nbconvert_exporter": "python",
   "pygments_lexer": "ipython3",
   "version": "3.7.3"
  }
 },
 "nbformat": 4,
 "nbformat_minor": 1
}
