{
 "cells": [
  {
   "cell_type": "markdown",
   "metadata": {},
   "source": [
    "### 1. The following code is written with an aim to create a list `B` from `A` and make updates in `B`. Do you think the code is correct? If not, why? Can you fix it? Use the text box below the code cell to write your explanation. "
   ]
  },
  {
   "cell_type": "code",
   "execution_count": null,
   "metadata": {},
   "outputs": [],
   "source": [
    "A = [1, 3, 5, 7, 9, 11]\n",
    "B = A\n",
    "B[-2] = 11  # B is accessed via reverse index  \n",
    "B[-1] = 13\n",
    "\n",
    "print(A)\n",
    "print(B)\n",
    "\n"
   ]
  },
  {
   "cell_type": "markdown",
   "metadata": {},
   "source": [
    "**Write your explanation below:**"
   ]
  },
  {
   "cell_type": "markdown",
   "metadata": {},
   "source": []
  },
  {
   "cell_type": "markdown",
   "metadata": {},
   "source": [
    "### 2. The following two code cells define two types of variables tuple and string, respectively. The code cells attempt to correct the spelling mistakes but show the same error in both cases. Why? Can you fix it? While fixing comment out the part of the code causing the error, and write your own code. "
   ]
  },
  {
   "cell_type": "code",
   "execution_count": null,
   "metadata": {},
   "outputs": [],
   "source": [
    "avar = (1, 'Jonh', 35, 'Columbia', 'MO')  # a variable of type tuple\n",
    "avar[1] = 'John'  # trying to correct the spelling mistake"
   ]
  },
  {
   "cell_type": "code",
   "execution_count": null,
   "metadata": {},
   "outputs": [],
   "source": [
    "astr = \"Colombia\"\n",
    "astr[3] = \"u\"\n"
   ]
  },
  {
   "cell_type": "markdown",
   "metadata": {},
   "source": [
    "**Write your explanation here**"
   ]
  },
  {
   "cell_type": "markdown",
   "metadata": {},
   "source": []
  },
  {
   "cell_type": "markdown",
   "metadata": {},
   "source": [
    "### 3. The following practice will shows the significance of using map and filter. The first part of the code defines two functions, square and even, and a list. The 2nd part of the code squares each value of the list if the value is even. The third part of the code asks you to accomplish the same task in part 2 using map and filter functions. Th fourth part of the code asks you to accomplish the same task using list comprehension."
   ]
  },
  {
   "cell_type": "code",
   "execution_count": null,
   "metadata": {},
   "outputs": [],
   "source": [
    "def square(x):\n",
    "    return x ** 2\n",
    "\n",
    "def even(x):\n",
    "    return x % 2 == 0\n",
    "\n",
    "alist = list(range(10))  # given list\n",
    "\n",
    "# -------------------------------------------------------------------------------------------\n",
    "# The following code iterates over this list, and each value is squared and added to a list if the value is even\n",
    "\n",
    "alist_even_squared = []\n",
    "\n",
    "for aval in alist:\n",
    "    if even(aval):  # check if the val is even\n",
    "        temp_var = square(aval)  # square the value\n",
    "        alist_even_squared.append(temp_var)\n",
    "        \n",
    "print(alist_even_squared)\n",
    "\n",
    "# -------------------------------------------------------------------------------------------\n",
    "\n",
    "# Q. Write 1 or 2 lines of codes that accomplish the above task using filter and map functions?\n",
    "\n",
    "\n",
    "# -------------------------------------------------------------------------------------------\n",
    "# Q. Write 1 or 2 lines of codes that accomplish the above task using list comprehension?\n"
   ]
  },
  {
   "cell_type": "markdown",
   "metadata": {},
   "source": [
    "### 4. In the examples below, without running the code blocks try to decide why we will not get the required answer. Run each, one at a time, and then correct them. "
   ]
  },
  {
   "cell_type": "code",
   "execution_count": null,
   "metadata": {},
   "outputs": [],
   "source": [
    "# while loop - summing the numbers 1 to 10\n",
    "n = 10\n",
    "cur_sum = 0\n",
    "# sum of n  numbers\n",
    "i = 0\n",
    "while  i <= n :\n",
    "    i = i + 1\n",
    "    cur_sum = cur_sum + i\n",
    "    \n",
    "print(\"The sum of the numbers from 1 to\", n, \"is \", cur_sum)\n"
   ]
  },
  {
   "cell_type": "code",
   "execution_count": null,
   "metadata": {},
   "outputs": [],
   "source": [
    "# while loop - summing the numbers 1 to 10\n",
    "n = 10\n",
    "cur_sum = 0\n",
    "# sum of n  numbers\n",
    "i = 0\n",
    "while  i != n :\n",
    "    cur_sum = cur_sum + i\n",
    "    i = i + 1\n",
    "\n",
    "print(\"The sum of the numbers from 1 to\", n, \"is \", cur_sum)"
   ]
  },
  {
   "cell_type": "markdown",
   "metadata": {},
   "source": [
    "### 5. What will be the outuput of the following code? The objective of the code is to convert each string in list to a upper case one. If the following code doesn't achieve the task, then modify the code to accomplish the task."
   ]
  },
  {
   "cell_type": "code",
   "execution_count": null,
   "metadata": {},
   "outputs": [],
   "source": [
    "x = ['ab', 'cd']\n",
    "for i in x:\n",
    "    x.append(i.upper())\n",
    "print(x)"
   ]
  },
  {
   "cell_type": "markdown",
   "metadata": {},
   "source": [
    "**Write your explanation here:**"
   ]
  },
  {
   "cell_type": "markdown",
   "metadata": {},
   "source": []
  }
 ],
 "metadata": {
  "kernelspec": {
   "display_name": "Python 3",
   "language": "python",
   "name": "python3"
  },
  "language_info": {
   "codemirror_mode": {
    "name": "ipython",
    "version": 3
   },
   "file_extension": ".py",
   "mimetype": "text/x-python",
   "name": "python",
   "nbconvert_exporter": "python",
   "pygments_lexer": "ipython3",
   "version": "3.7.3"
  }
 },
 "nbformat": 4,
 "nbformat_minor": 2
}
