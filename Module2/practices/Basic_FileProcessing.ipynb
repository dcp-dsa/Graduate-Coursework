{
 "cells": [
  {
   "cell_type": "markdown",
   "metadata": {},
   "source": [
    "# Practice\n",
    "\n",
    "## Counting occurrences of things in a file\n",
    "\n",
    "### Data File: \n",
    "Use the file path: ** `/dsa/data/all_datasets/hamilton-federalist-548.txt` **\n",
    "\n",
    "### Algorithm\n",
    "\n",
    "An algorithm is essentially a set of rules/steps that are followed in solving a problem. \n",
    "\n",
    "1. Open File\n",
    "2. Parse file into a list of lists, variable named: `file_data`, where every line is a list of words.\n",
    "3. Iterate through the file_data, and count two separate things:\n",
    "   * Number of lines that contain the word UNION in any case\n",
    "   * Number of instances of the word of UNION in any case\n",
    "\n",
    "Hints: Check the [File Input and Output](../resources/FilesIO.ipynb) reference notebook for more syntax and help.\n",
    "To read the file, use the syntax as described in Lesson 4 on [Flow Control](../../Day1/labs/D1L4-ControlStructures.ipynb), as reviewed below.\n",
    "\n",
    "```\n",
    "with open('test.file', 'r') as file:\n",
    "    lines = file.readlines()\n",
    "\n",
    "for line in lines:\n",
    "    print(line)\n",
    "```\n",
    "\n",
    "Also in [Strings and Dictionaries](../../Day1/labs/D1L2-Strings_Dictionaries.ipynb) we had learned the string method `.split` and in [Strings and Data Structures](../../Day1/practices/SDS.ipynb) we used it on a string input with a ':' colon delimiter. This time we are splitting in between words, so we split on a space `' '`"
   ]
  },
  {
   "cell_type": "code",
   "execution_count": null,
   "metadata": {},
   "outputs": [],
   "source": [
    "# Open file and parse into \n",
    "#  file_data in this cell\n",
    "# ---------------------------------\n",
    "\n",
    "#hint, file_data starts as an empty list\n",
    "file_data = []\n",
    "\n",
    "#hint, each item/cell in this list will contain a list of words we can do this by splitting each line \n",
    "# and adding the result to the list\n",
    "with open('/dsa/data/all_datasets/hamilton-federalist-548.txt', 'r') as file:\n",
    "    lines = file.readlines()\n"
   ]
  },
  {
   "cell_type": "code",
   "execution_count": null,
   "metadata": {},
   "outputs": [],
   "source": [
    "# Examine lines to figure what to do with it\n",
    "print(type(lines))\n",
    "print(lines[:10])\n",
    "\n",
    "# We can loop over each line by \n",
    "with open('/dsa/data/all_datasets/hamilton-federalist-548.txt', 'r') as file:\n",
    "    for line in file:\n",
    "        print(line)"
   ]
  },
  {
   "cell_type": "code",
   "execution_count": null,
   "metadata": {},
   "outputs": [],
   "source": [
    "# Loop over lines and store the words as a list in file_data\n",
    "\n",
    "# ------------ Add your code below --------------\n",
    "\n",
    "#open the file again like before\n",
    "\n",
    "#loop over the lines\n",
    "\n",
    "#we want to split on the ' ' or space so we can divide the them into an array of words\n",
    "\n",
    "# ------------ =================== --------------\n",
    "\n",
    "print(file_data[12])\n"
   ]
  },
  {
   "cell_type": "code",
   "execution_count": null,
   "metadata": {},
   "outputs": [],
   "source": [
    "# Test a method for detecting union\n",
    "'UNION,' in file_data[12]        # Note the comma.  Just \"union\" without a comma will not be included in the count."
   ]
  },
  {
   "cell_type": "code",
   "execution_count": null,
   "metadata": {},
   "outputs": [],
   "source": [
    "# Iterate through file data and \n",
    "#  compute your counts in this cell\n",
    "# ---------------------------------\n",
    "\n",
    "#hint, for line in file_data:\n",
    "line_count = 0\n",
    "word_count = 0\n",
    "for line in file_data:\n",
    "    this_line_count = 0\n",
    "    \n",
    "# ------------ Add your code below --------------\n",
    "    #Loop through the array of words in the 'line'\n",
    "    \n",
    "    #For each word in the array, test it to 'union'\n",
    "    \n",
    "    #if it's a match this_line_count++\n",
    "\n",
    "    #at the end of the loop add this_line_count to word_count\n",
    "\n",
    "# ------------ =================== --------------\n",
    "    \n",
    "    #if this_line_count isn't 0, line_count would increment by one    \n",
    "    if this_line_count:\n",
    "        line_count += 1\n",
    "    # end if\n",
    "# end for\n",
    "\n",
    "print('Lines: {}; Words: {}'.format(line_count, word_count))\n",
    "    \n",
    "\n"
   ]
  },
  {
   "cell_type": "markdown",
   "metadata": {},
   "source": [
    "# Approximate Answers \n",
    "\n",
    "Your answers will vary based on your implementation and any extra steps taken.  \n",
    "The goal is the construction of the code and understanding of the file processing mechanics. \n",
    "Please do not stress over the finer points of case-insensitivity and punctuation at this point in time.\n",
    "You can revisit this later if you decide to tackle those challenges.\n",
    "\n",
    "#### using an independent tool of Unix/Linux OS\n",
    "\n",
    "```bash\n",
    "# Lines with any case spelling of UNION\n",
    "$ grep -i union hamilton-federalist-548.txt  | wc -l\n",
    "389\n",
    "\n",
    "# Instances any case spelling of UNION\n",
    "$ grep -i union hamilton-federalist-548.txt  | sed -e 's/ /\\n/g' |grep -i union | wc -l \n",
    "392\n",
    "```"
   ]
  },
  {
   "cell_type": "markdown",
   "metadata": {},
   "source": [
    "# SAVE YOUR NOTEBOOK"
   ]
  }
 ],
 "metadata": {
  "kernelspec": {
   "display_name": "Python 3",
   "language": "python",
   "name": "python3"
  },
  "language_info": {
   "codemirror_mode": {
    "name": "ipython",
    "version": 3
   },
   "file_extension": ".py",
   "mimetype": "text/x-python",
   "name": "python",
   "nbconvert_exporter": "python",
   "pygments_lexer": "ipython3",
   "version": "3.7.3"
  }
 },
 "nbformat": 4,
 "nbformat_minor": 1
}
