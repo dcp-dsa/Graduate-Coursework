{
 "cells": [
  {
   "cell_type": "markdown",
   "metadata": {},
   "source": [
    "**1. Define a function `greet` that takes a name and a message as arguments, print the name followed by a colon \":\" and the msg. If no message is passed to the function, then a default message \"How are you?\" is shown.**"
   ]
  },
  {
   "cell_type": "code",
   "execution_count": 4,
   "metadata": {},
   "outputs": [
    {
     "name": "stdout",
     "output_type": "stream",
     "text": [
      "Daniel : what's good?\n"
     ]
    }
   ],
   "source": [
    "def greet(name, message = \"How are you?\"):\n",
    "    print(name, ':', message)"
   ]
  },
  {
   "cell_type": "markdown",
   "metadata": {},
   "source": [
    "**2. Write a function named `main` that takes two numbers from a user, then call another funciton named `myprod` to multiply these two numbers, and finally print the output. Initiate the execution by calling the `main` funciton.**"
   ]
  },
  {
   "cell_type": "code",
   "execution_count": 5,
   "metadata": {},
   "outputs": [
    {
     "name": "stdout",
     "output_type": "stream",
     "text": [
      "6\n"
     ]
    }
   ],
   "source": [
    "def main(x, y):\n",
    "    def myprod(x, y):\n",
    "        return x * y\n",
    "    print(myprod(x, y))\n",
    "    \n",
    "main(2, 3)"
   ]
  },
  {
   "cell_type": "markdown",
   "metadata": {},
   "source": [
    "**3. Write a function called `first_diff` that is given two strings and returns the first location in which the strings differ. If the strings are identical, it should return -1.**"
   ]
  },
  {
   "cell_type": "code",
   "execution_count": 16,
   "metadata": {},
   "outputs": [
    {
     "name": "stdout",
     "output_type": "stream",
     "text": [
      "-1\n"
     ]
    }
   ],
   "source": [
    "def first_diff(myString1, myString2):\n",
    "    if myString1 != myString2:\n",
    "        for i in range(len(myString1)):\n",
    "            if myString1[i] == myString2[i]:\n",
    "                continue\n",
    "            else:\n",
    "                return i\n",
    "    else:\n",
    "        return -1\n",
    "    \n",
    "string1 = 'hello'\n",
    "string2 = 'hello'\n",
    "\n",
    "print(first_diff(string1, string2))"
   ]
  },
  {
   "cell_type": "markdown",
   "metadata": {},
   "source": [
    "**4. The following code is supposed to compute the product of the numbers in a list. For instance product([5, 4,\n",
    "6]) should calculate and return 5*4*6=120. What went wrong? Fix it.**"
   ]
  },
  {
   "cell_type": "code",
   "execution_count": 21,
   "metadata": {},
   "outputs": [
    {
     "data": {
      "text/plain": [
       "120"
      ]
     },
     "execution_count": 21,
     "metadata": {},
     "output_type": "execute_result"
    }
   ],
   "source": [
    "def product(nums):\n",
    "    prod = 1\n",
    "    for n in nums:\n",
    "        prod = prod * n\n",
    "    return prod\n",
    "product([5, 4, 6])"
   ]
  },
  {
   "cell_type": "markdown",
   "metadata": {},
   "source": [
    "**5. Define a function that takes an integer as an argument and returns True if the number is divisibale by 3; otherwise returns False. Iterate over numebers from 1 to 30, identify all the numbers that are divisible 3 using filter and list comprehension.**"
   ]
  },
  {
   "cell_type": "code",
   "execution_count": 33,
   "metadata": {},
   "outputs": [
    {
     "name": "stdout",
     "output_type": "stream",
     "text": [
      "3\n",
      "6\n",
      "9\n",
      "12\n",
      "15\n",
      "18\n",
      "21\n",
      "24\n",
      "27\n"
     ]
    }
   ],
   "source": [
    "def myFunc(x):\n",
    "    if x % 3 == 0:\n",
    "        return True\n",
    "    else:\n",
    "        return False\n",
    "    \n",
    "for i in range (1, 30):\n",
    "    if myFunc(i) == True:\n",
    "        print(i)"
   ]
  },
  {
   "cell_type": "markdown",
   "metadata": {},
   "source": [
    "**6. Define a function that takes a string as a parameter and returns the lower case of a string. Given the list of states codes, perform the following tasks:**\n",
    "\n",
    "* Task1: Write a for loop that iterates over the list of state codes and create another list of codes with lower case\n",
    "* Task2: Use the `map` function to accomplish Task 1\n",
    "* Task3: Use list comprhension to accomplish Task 1\n"
   ]
  },
  {
   "cell_type": "code",
   "execution_count": 44,
   "metadata": {},
   "outputs": [
    {
     "name": "stdout",
     "output_type": "stream",
     "text": [
      "['al', 'ak', 'az', 'ar', 'ca', 'co', 'ct', 'dc', 'de', 'fl', 'ga', 'hi', 'id', 'il', 'in', 'ia', 'ks', 'ky', 'la', 'me', 'md', 'ma', 'mi', 'mn', 'ms', 'mo', 'mt', 'ne', 'nv', 'nh', 'nj', 'nm', 'ny', 'nc', 'nd', 'oh', 'ok', 'or', 'pa', 'ri', 'sc', 'sd', 'tn', 'tx', 'ut', 'vt', 'va', 'wa', 'wv', 'wi', 'wy']\n",
      "\n",
      "\n",
      "['al', 'ak', 'az', 'ar', 'ca', 'co', 'ct', 'dc', 'de', 'fl', 'ga', 'hi', 'id', 'il', 'in', 'ia', 'ks', 'ky', 'la', 'me', 'md', 'ma', 'mi', 'mn', 'ms', 'mo', 'mt', 'ne', 'nv', 'nh', 'nj', 'nm', 'ny', 'nc', 'nd', 'oh', 'ok', 'or', 'pa', 'ri', 'sc', 'sd', 'tn', 'tx', 'ut', 'vt', 'va', 'wa', 'wv', 'wi', 'wy']\n",
      "\n",
      "\n",
      "['al', 'ak', 'az', 'ar', 'ca', 'co', 'ct', 'dc', 'de', 'fl', 'ga', 'hi', 'id', 'il', 'in', 'ia', 'ks', 'ky', 'la', 'me', 'md', 'ma', 'mi', 'mn', 'ms', 'mo', 'mt', 'ne', 'nv', 'nh', 'nj', 'nm', 'ny', 'nc', 'nd', 'oh', 'ok', 'or', 'pa', 'ri', 'sc', 'sd', 'tn', 'tx', 'ut', 'vt', 'va', 'wa', 'wv', 'wi', 'wy']\n"
     ]
    }
   ],
   "source": [
    "states = [\"AL\", \"AK\", \"AZ\", \"AR\", \"CA\", \"CO\", \"CT\", \"DC\", \"DE\", \"FL\", \"GA\", \n",
    "          \"HI\", \"ID\", \"IL\", \"IN\", \"IA\", \"KS\", \"KY\", \"LA\", \"ME\", \"MD\", \n",
    "          \"MA\", \"MI\", \"MN\", \"MS\", \"MO\", \"MT\", \"NE\", \"NV\", \"NH\", \"NJ\", \n",
    "          \"NM\", \"NY\", \"NC\", \"ND\", \"OH\", \"OK\", \"OR\", \"PA\", \"RI\", \"SC\", \n",
    "          \"SD\", \"TN\", \"TX\", \"UT\", \"VT\", \"VA\", \"WA\", \"WV\", \"WI\", \"WY\"]\n",
    "\n",
    "#Task1\n",
    "\n",
    "littleStates = []\n",
    "\n",
    "for i in range(len(states)):\n",
    "    littleStates.append(states[i].lower())\n",
    "    \n",
    "print(littleStates)\n",
    "\n",
    "#Task2\n",
    "\n",
    "def little(str1):\n",
    "    return str1.lower()\n",
    "        \n",
    "result = map(little, states)\n",
    "\n",
    "print('\\n')\n",
    "print(list(result))\n",
    "\n",
    "#Task3\n",
    "\n",
    "comp = [x.lower() for x in states]\n",
    "\n",
    "print('\\n')\n",
    "print(comp)"
   ]
  },
  {
   "cell_type": "markdown",
   "metadata": {},
   "source": [
    "**7. Using lambda and filter, print the states codes that end with the letter J. Note: you learned how to perform this task with a for loop. Repeat this exercise with a list comprehension.**"
   ]
  },
  {
   "cell_type": "code",
   "execution_count": 6,
   "metadata": {},
   "outputs": [
    {
     "name": "stdout",
     "output_type": "stream",
     "text": [
      "['NJ']\n",
      "['NJ']\n"
     ]
    }
   ],
   "source": [
    "states = [\"AL\", \"AK\", \"AZ\", \"AR\", \"CA\", \"CO\", \"CT\", \"DC\", \"DE\", \"FL\", \"GA\", \n",
    "          \"HI\", \"ID\", \"IL\", \"IN\", \"IA\", \"KS\", \"KY\", \"LA\", \"ME\", \"MD\", \n",
    "          \"MA\", \"MI\", \"MN\", \"MS\", \"MO\", \"MT\", \"NE\", \"NV\", \"NH\", \"NJ\", \n",
    "          \"NM\", \"NY\", \"NC\", \"ND\", \"OH\", \"OK\", \"OR\", \"PA\", \"RI\", \"SC\", \n",
    "          \"SD\", \"TN\", \"TX\", \"UT\", \"VT\", \"VA\", \"WA\", \"WV\", \"WI\", \"WY\"]\n",
    "\n",
    "z = list(filter(lambda x:x[1] == 'J', states))\n",
    "\n",
    "print(z)\n",
    "\n",
    "a = [y for y in states if y[1] == 'J']\n",
    "\n",
    "print(a)"
   ]
  },
  {
   "cell_type": "markdown",
   "metadata": {},
   "source": [
    "**8. Create two list of integers of equal size using `range` method (see an example below). Then multiple them elmementwise using a for loop, map, and list comprehension.**"
   ]
  },
  {
   "cell_type": "code",
   "execution_count": 19,
   "metadata": {},
   "outputs": [
    {
     "name": "stdout",
     "output_type": "stream",
     "text": [
      "[1000, 4000, 9000, 16000, 25000, 36000, 49000, 64000, 81000]\n"
     ]
    }
   ],
   "source": [
    "list1 = list(range(10, 100, 10))  # start, end, step\n",
    "list2 = list(range(100, 1000, 100)) ## start, end, step\n",
    "#print(list1, len(list1))\n",
    "#print(list2, len(list2))\n",
    "\n",
    "list3 = []\n",
    "\n",
    "for i in range(len(list1)):\n",
    "    list3.append(list1[i] * list2[i])\n",
    "print(list3)\n",
    "\n",
    "def prod(lst1, lst2):\n",
    "    lst3"
   ]
  },
  {
   "cell_type": "markdown",
   "metadata": {},
   "source": [
    "**9. Print the first 10 Fibonacci numbers using map.**"
   ]
  },
  {
   "cell_type": "code",
   "execution_count": 1,
   "metadata": {},
   "outputs": [
    {
     "name": "stdout",
     "output_type": "stream",
     "text": [
      "[0, 1, 1, 2, 3, 5, 8, 13, 21, 34]\n"
     ]
    }
   ],
   "source": [
    "def fibonacci(x):\n",
    "    numbers = [0, 1]\n",
    "    any(map(lambda _: numbers.append(sum(numbers[-2:])), range(2, x)))\n",
    "    return numbers[:x]\n",
    "\n",
    "print(fibonacci(10))"
   ]
  },
  {
   "cell_type": "markdown",
   "metadata": {},
   "source": [
    "**10. Print the first 10 Fibonacci numbers using reduce.**"
   ]
  },
  {
   "cell_type": "code",
   "execution_count": 4,
   "metadata": {},
   "outputs": [
    {
     "name": "stdout",
     "output_type": "stream",
     "text": [
      "(0, 1, 1, 2, 3, 5, 8, 13, 21, 34)\n"
     ]
    }
   ],
   "source": [
    "from functools import reduce\n",
    "\n",
    "def fibonacci(x):\n",
    "    numbers = (0, 1)\n",
    "    \n",
    "    for i in range(2, x):\n",
    "        numbers += (reduce(lambda a, b: a + b, numbers[-2:]), )\n",
    "        \n",
    "    return numbers[:x]\n",
    "\n",
    "print(fibonacci(10))"
   ]
  },
  {
   "cell_type": "code",
   "execution_count": null,
   "metadata": {},
   "outputs": [],
   "source": []
  }
 ],
 "metadata": {
  "kernelspec": {
   "display_name": "Python 3",
   "language": "python",
   "name": "python3"
  },
  "language_info": {
   "codemirror_mode": {
    "name": "ipython",
    "version": 3
   },
   "file_extension": ".py",
   "mimetype": "text/x-python",
   "name": "python",
   "nbconvert_exporter": "python",
   "pygments_lexer": "ipython3",
   "version": "3.7.3"
  }
 },
 "nbformat": 4,
 "nbformat_minor": 2
}
