{
 "cells": [
  {
   "cell_type": "markdown",
   "metadata": {},
   "source": [
    "**1. Take a number from a user as input. Print whether the number is negative or positive.**"
   ]
  },
  {
   "cell_type": "code",
   "execution_count": 4,
   "metadata": {},
   "outputs": [
    {
     "name": "stdout",
     "output_type": "stream",
     "text": [
      "Enter a number:-2\n",
      "-2 is negative\n"
     ]
    }
   ],
   "source": [
    "x = int(input(\"Enter a number:\"))\n",
    "              \n",
    "if x >= 0:\n",
    "    print(x, \"is positive\")\n",
    "else:\n",
    "    print(x, \"is negative\")"
   ]
  },
  {
   "cell_type": "markdown",
   "metadata": {},
   "source": [
    "**2. Take a number from a user as input. If the number is negative then change the number to 0, otherwise check whether the number is 0, 1, or greater than 1. In all cases print messages to convey results.**"
   ]
  },
  {
   "cell_type": "code",
   "execution_count": null,
   "metadata": {},
   "outputs": [],
   "source": [
    "x = int(input(\"Enter a number:\"))\n",
    "\n",
    "if x < 1:\n",
    "    x = 0\n",
    "    \n",
    "if x == 0:\n",
    "    print(\"number is 0\")\n",
    "elif x == 1:\n",
    "    print(\"number is 1\")\n",
    "elif x > 1:\n",
    "    print(\"number is greater than 1\")"
   ]
  },
  {
   "cell_type": "markdown",
   "metadata": {},
   "source": [
    "**3. `range` function is a useful function. Perform the following tasks with the help of `range` function. See the definition of `range` [here](https://www.w3schools.com/python/ref_func_range.asp).**\n",
    "\n",
    "* Print integer from 0 to 10\n",
    "* Print even numbers from 0 to 15\n",
    "* Create a list of number starting from 6 to 20 with an step size of 3\n"
   ]
  },
  {
   "cell_type": "code",
   "execution_count": 8,
   "metadata": {},
   "outputs": [
    {
     "name": "stdout",
     "output_type": "stream",
     "text": [
      "0\n",
      "1\n",
      "2\n",
      "3\n",
      "4\n",
      "5\n",
      "6\n",
      "7\n",
      "8\n",
      "9\n",
      "10\n",
      "\n",
      "\n",
      "0\n",
      "2\n",
      "4\n",
      "6\n",
      "8\n",
      "10\n",
      "12\n",
      "14\n",
      "\n",
      "\n",
      "[6, 9, 12, 15, 18]\n"
     ]
    }
   ],
   "source": [
    "x = range(11)\n",
    "\n",
    "for n in x:\n",
    "    print(n)\n",
    "    \n",
    "print('\\n')\n",
    "    \n",
    "y = range(0, 16, 2)\n",
    "\n",
    "for n in y:\n",
    "    print(n)\n",
    "    \n",
    "print('\\n')\n",
    "\n",
    "z = range(6, 21, 3)\n",
    "\n",
    "a = []\n",
    "\n",
    "for n in z:\n",
    "    a.append(n)\n",
    "    \n",
    "print(a)\n",
    "    "
   ]
  },
  {
   "cell_type": "markdown",
   "metadata": {},
   "source": [
    "**4. Iterate over numebers from 1 to 30, identify all the numbers that are divisible 3, and append them to a list. After the iteration print the list as well as the length of the list**"
   ]
  },
  {
   "cell_type": "code",
   "execution_count": 12,
   "metadata": {},
   "outputs": [
    {
     "name": "stdout",
     "output_type": "stream",
     "text": [
      "[3, 6, 9, 12, 15, 18, 21, 24, 27] length= 9\n"
     ]
    }
   ],
   "source": [
    "x = range(1,30)\n",
    "\n",
    "a = []\n",
    "\n",
    "for n in x:\n",
    "    if n % 3 == 0:\n",
    "        a.append(n)\n",
    "        \n",
    "print(a, 'length=', len(a))\n"
   ]
  },
  {
   "cell_type": "markdown",
   "metadata": {},
   "source": [
    "**5. Here is a list of codes for the US states. Identify the statecodes that starts with the letter 'M', store them in a list, and print the list.**"
   ]
  },
  {
   "cell_type": "code",
   "execution_count": 36,
   "metadata": {},
   "outputs": [
    {
     "name": "stdout",
     "output_type": "stream",
     "text": [
      "['ME', 'MD', 'MA', 'MI', 'MN', 'MS', 'MO', 'MT']\n"
     ]
    }
   ],
   "source": [
    "states = [\"AL\", \"AK\", \"AZ\", \"AR\", \"CA\", \"CO\", \"CT\", \"DC\", \"DE\", \"FL\", \"GA\", \n",
    "          \"HI\", \"ID\", \"IL\", \"IN\", \"IA\", \"KS\", \"KY\", \"LA\", \"ME\", \"MD\", \n",
    "          \"MA\", \"MI\", \"MN\", \"MS\", \"MO\", \"MT\", \"NE\", \"NV\", \"NH\", \"NJ\", \n",
    "          \"NM\", \"NY\", \"NC\", \"ND\", \"OH\", \"OK\", \"OR\", \"PA\", \"RI\", \"SC\", \n",
    "          \"SD\", \"TN\", \"TX\", \"UT\", \"VT\", \"VA\", \"WA\", \"WV\", \"WI\", \"WY\"]\n",
    "# write your code below\n",
    "\n",
    "a = []\n",
    "\n",
    "for i in states:\n",
    "    if i[0] == 'M':\n",
    "        a.append(i)\n",
    "    \n",
    "print(a)\n",
    "\n"
   ]
  },
  {
   "cell_type": "markdown",
   "metadata": {},
   "source": [
    "**6. This question builds upon Q5. Print the states codes but exit when a state code that ends with the letter `J` is found.**"
   ]
  },
  {
   "cell_type": "code",
   "execution_count": 40,
   "metadata": {},
   "outputs": [
    {
     "name": "stdout",
     "output_type": "stream",
     "text": [
      "AL\n",
      "AK\n",
      "AZ\n",
      "AR\n",
      "CA\n",
      "CO\n",
      "CT\n",
      "DC\n",
      "DE\n",
      "FL\n",
      "GA\n",
      "HI\n",
      "ID\n",
      "IL\n",
      "IN\n",
      "IA\n",
      "KS\n",
      "KY\n",
      "LA\n",
      "ME\n",
      "MD\n",
      "MA\n",
      "MI\n",
      "MN\n",
      "MS\n",
      "MO\n",
      "MT\n",
      "NE\n",
      "NV\n",
      "NH\n"
     ]
    }
   ],
   "source": [
    "for x in states:\n",
    "    if x[1] != 'J':\n",
    "        print(x)\n",
    "    else:\n",
    "        break"
   ]
  },
  {
   "cell_type": "markdown",
   "metadata": {},
   "source": [
    "**7. This question builds upon Q5. Using `continue` statement print all the state codes except the one that starts with `M` or endswith `J`.**"
   ]
  },
  {
   "cell_type": "code",
   "execution_count": 45,
   "metadata": {},
   "outputs": [
    {
     "name": "stdout",
     "output_type": "stream",
     "text": [
      "AL\n",
      "AK\n",
      "AZ\n",
      "AR\n",
      "CA\n",
      "CO\n",
      "CT\n",
      "DC\n",
      "DE\n",
      "FL\n",
      "GA\n",
      "HI\n",
      "ID\n",
      "IL\n",
      "IN\n",
      "IA\n",
      "KS\n",
      "KY\n",
      "LA\n",
      "NE\n",
      "NV\n",
      "NH\n",
      "NM\n",
      "NY\n",
      "NC\n",
      "ND\n",
      "OH\n",
      "OK\n",
      "OR\n",
      "PA\n",
      "RI\n",
      "SC\n",
      "SD\n",
      "TN\n",
      "TX\n",
      "UT\n",
      "VT\n",
      "VA\n",
      "WA\n",
      "WV\n",
      "WI\n",
      "WY\n"
     ]
    }
   ],
   "source": [
    "for x in states:\n",
    "    if x[0] == 'M' or x[1] == 'J':\n",
    "        continue\n",
    "    print(x)"
   ]
  },
  {
   "cell_type": "markdown",
   "metadata": {},
   "source": [
    "**8. Here is a dictionary of US states with the name as key and the code as value. Iterate of the items in the dictionary and print the first five items (i.e., key, value pair).**"
   ]
  },
  {
   "cell_type": "code",
   "execution_count": 21,
   "metadata": {},
   "outputs": [
    {
     "name": "stdout",
     "output_type": "stream",
     "text": [
      "0 ('Alabama', 'AL')\n",
      "1 ('Alaska', 'AK')\n",
      "2 ('Arizona', 'AZ')\n",
      "3 ('Arkansas', 'AR')\n",
      "4 ('California', 'CA')\n"
     ]
    }
   ],
   "source": [
    "us_states = {'Alabama': 'AL','Alaska': 'AK', 'Arizona': 'AZ', 'Arkansas': 'AR', 'California': 'CA', 'Colorado': 'CO',\n",
    "             'Connecticut': 'CT', 'Delaware': 'DE', 'District of Columbia': 'DC', 'Florida': 'FL', 'Georgia': 'GA',\n",
    "             'Hawaii': 'HI', 'Idaho': 'ID', 'Illinois': 'IL', 'Indiana': 'IN', 'Iowa': 'IA', 'Kansas': 'KS', \n",
    "             'Kentucky': 'KY', 'Louisiana': 'LA', 'Maine': 'ME', 'Maryland': 'MD', 'Massachusetts': 'MA', \n",
    "             'Michigan': 'MI', 'Minnesota': 'MN', 'Mississippi': 'MS', 'Missouri': 'MO', 'Montana': 'MT',\n",
    "             'Nebraska': 'NE', 'Nevada': 'NV', 'New Hampshire': 'NH', 'New Jersey': 'NJ', 'New Mexico': 'NM',\n",
    "             'New York': 'NY', 'North Carolina': 'NC', 'North Dakota': 'ND', 'Ohio': 'OH', 'Oklahoma': 'OK', \n",
    "             'Oregon': 'OR', 'Pennsylvania': 'PA', 'Rhode Island': 'RI', 'South Carolina': 'SC',\n",
    "             'South Dakota': 'SD', 'Tennessee': 'TN', 'Texas': 'TX', 'Utah': 'UT', 'Vermont': 'VT', 'Virginia': 'VA',\n",
    "             'Washington': 'WA', 'West Virginia': 'WV', 'Wisconsin': 'WI', 'Wyoming': 'WY'\n",
    "}\n",
    "# write your code below\n",
    "\n",
    "for state, code in enumerate(us_states.items()):\n",
    "    if state >= 5:\n",
    "        break\n",
    "    print(state, code)\n",
    "    "
   ]
  },
  {
   "cell_type": "code",
   "execution_count": null,
   "metadata": {},
   "outputs": [],
   "source": []
  },
  {
   "cell_type": "markdown",
   "metadata": {},
   "source": [
    "**9. Write a while loop to print [Fibonacci number](https://www.mathsisfun.com/numbers/fibonacci-sequence.html) upto 10.**"
   ]
  },
  {
   "cell_type": "code",
   "execution_count": 36,
   "metadata": {},
   "outputs": [
    {
     "name": "stdout",
     "output_type": "stream",
     "text": [
      "0\n",
      "1\n",
      "1\n",
      "2\n",
      "3\n",
      "5\n",
      "8\n"
     ]
    }
   ],
   "source": [
    "f1 = 0\n",
    "f2 = 1\n",
    "\n",
    "print(f1)\n",
    "\n",
    "while(f2 <= 10):\n",
    "    print(f2)\n",
    "    f3 = f2 + f1\n",
    "    f1 = f2\n",
    "    f2 = f3\n"
   ]
  },
  {
   "cell_type": "markdown",
   "metadata": {},
   "source": [
    "**10. Write a for loop to print the first 10 [Fibonacci numbers](https://www.mathsisfun.com/numbers/fibonacci-sequence.html) as well as create a dictioary to store the items where key is the index and value is the Fibonacci number.**"
   ]
  },
  {
   "cell_type": "code",
   "execution_count": 44,
   "metadata": {},
   "outputs": [
    {
     "name": "stdout",
     "output_type": "stream",
     "text": [
      "0\n",
      "1\n",
      "1\n",
      "2\n",
      "3\n",
      "5\n",
      "8\n",
      "13\n",
      "21\n",
      "34\n",
      "\n",
      " {0: 1, 1: 1, 2: 2, 3: 3, 4: 5, 5: 8, 6: 13, 7: 21, 8: 34}\n"
     ]
    }
   ],
   "source": [
    "f1 = 0\n",
    "f2 = 1\n",
    "fibonacci = {}\n",
    "\n",
    "print(f1)\n",
    "\n",
    "for i in range(0, 9):\n",
    "    print(f2)\n",
    "    fibonacci[i] = f2\n",
    "    f3 = f2 + f1\n",
    "    f1 = f2\n",
    "    f2 = f3\n",
    "    \n",
    "print('\\n', fibonacci)"
   ]
  },
  {
   "cell_type": "code",
   "execution_count": null,
   "metadata": {},
   "outputs": [],
   "source": []
  }
 ],
 "metadata": {
  "kernelspec": {
   "display_name": "Python 3",
   "language": "python",
   "name": "python3"
  },
  "language_info": {
   "codemirror_mode": {
    "name": "ipython",
    "version": 3
   },
   "file_extension": ".py",
   "mimetype": "text/x-python",
   "name": "python",
   "nbconvert_exporter": "python",
   "pygments_lexer": "ipython3",
   "version": "3.7.3"
  }
 },
 "nbformat": 4,
 "nbformat_minor": 2
}
