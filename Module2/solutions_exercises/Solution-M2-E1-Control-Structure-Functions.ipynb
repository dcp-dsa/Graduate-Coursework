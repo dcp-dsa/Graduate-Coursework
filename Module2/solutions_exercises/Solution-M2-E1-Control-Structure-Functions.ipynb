{
 "cells": [
  {
   "cell_type": "markdown",
   "metadata": {},
   "source": [
    "**1. A store charges `$12` per item if you buy less than 10 items. If you buy between 10 and 99 items, the cost is `$10` per item. If you buy 100 or more items, the cost is `$7` per item. Write a program that asks the user how many items they are buying and prints the total cost.**\n"
   ]
  },
  {
   "cell_type": "code",
   "execution_count": 5,
   "metadata": {},
   "outputs": [
    {
     "name": "stdout",
     "output_type": "stream",
     "text": [
      "How many items? -1\n",
      "Not a valid input.\n",
      "Total cost = 0\n"
     ]
    }
   ],
   "source": [
    "n_items = int(input(\"How many items? \"))\n",
    "\n",
    "total_cost = 0\n",
    "\n",
    "if 0 <= n_items < 10:\n",
    "    total_cost = n_items * 12\n",
    "elif 10 <= n_items <= 99:\n",
    "    total_cost = n_items * 10\n",
    "elif n_items >= 100:\n",
    "    total_cost = n_items * 7\n",
    "else:\n",
    "    print(\"Not a valid input.\")\n",
    "\n",
    "print(f\"Total cost = {total_cost}\")"
   ]
  },
  {
   "cell_type": "markdown",
   "metadata": {},
   "source": [
    "**2.  Write a program that uses a for loop to print the numbers 100, 98, 96, . . . , 4, 2.**"
   ]
  },
  {
   "cell_type": "code",
   "execution_count": 14,
   "metadata": {},
   "outputs": [
    {
     "name": "stdout",
     "output_type": "stream",
     "text": [
      "100,98,96,94,92,90,88,86,84,82,80,78,76,74,72,70,68,66,64,62,60,58,56,54,52,50,48,46,44,42,40,38,36,34,32,30,28,26,24,22,20,18,16,14,12,10,8,6,4,2."
     ]
    }
   ],
   "source": [
    "for num in range(100, 0, -2):\n",
    "    if num == 2:\n",
    "        print(num, end=\".\")\n",
    "    else:\n",
    "        print(num, end=\",\")"
   ]
  },
  {
   "cell_type": "code",
   "execution_count": 3,
   "metadata": {},
   "outputs": [
    {
     "name": "stdout",
     "output_type": "stream",
     "text": [
      "100,98,96,94,92,90,88,86,84,82,80,78,76,74,72,70,68,66,64,62,60,58,56,54,52,50,48,46,44,42,40,38,36,34,32,30,28,26,24,22,20,18,16,14,12,10,8,6,4,2."
     ]
    }
   ],
   "source": [
    "seq_of_num_str = \",\".join([str(x) for x in range(100, 0, -2)])\n",
    "print(seq_of_num_str, end=\".\")\n"
   ]
  },
  {
   "cell_type": "markdown",
   "metadata": {},
   "source": [
    "**3. Use a for loop to print a box like the one below. Allow the user to specify how wide and how high the box should be.**\n",
    "\n",
    "```\n",
    "******************* \n",
    "*                 * \n",
    "*                 * \n",
    "*******************\n",
    "```"
   ]
  },
  {
   "cell_type": "code",
   "execution_count": 20,
   "metadata": {},
   "outputs": [
    {
     "name": "stdout",
     "output_type": "stream",
     "text": [
      "Width? 10\n",
      "Height? 5\n",
      "**********\n",
      "*        *\n",
      "*        *\n",
      "*        *\n",
      "**********\n",
      "**********\n",
      "*        *\n",
      "*        *\n",
      "*        *\n",
      "**********\n"
     ]
    }
   ],
   "source": [
    "width = int(input(\"Width? \"))\n",
    "height = int(input(\"Height? \"))\n",
    "\n",
    "# solution 1\n",
    "for rowid in range(height):\n",
    "    for colid in range(width):\n",
    "        if rowid == 0 or rowid == (height -1): # the first and the last row has all start\n",
    "            print(\"*\", end = \"\")\n",
    "        else:\n",
    "            if colid == 0 or colid == (width -1):\n",
    "                print(\"*\", end = \"\")\n",
    "            else:\n",
    "                print(\" \", end = \"\")\n",
    "    print(end = \"\\n\")\n",
    "\n",
    "\n",
    "# solution 2\n",
    "for rowid in range(height):\n",
    "    if rowid == 0 or rowid == (height -1):\n",
    "        for colid in range(width):\n",
    "            print(\"*\", end = \"\")\n",
    "        print()\n",
    "    else:\n",
    "        for colid in range(width):\n",
    "            if colid == 0 or colid == (width -1):\n",
    "                print(\"*\", end = \"\")\n",
    "            else:\n",
    "                print(\" \", end = \"\")\n",
    "        print()\n"
   ]
  },
  {
   "cell_type": "markdown",
   "metadata": {},
   "source": [
    "**4. In the examples below, each of the snippet tries to sun numbers from 1 to 10. Without running the code blocks try to decide why we will not get the correct answer. Run each, one at a time, and then correct them.**"
   ]
  },
  {
   "cell_type": "code",
   "execution_count": 21,
   "metadata": {},
   "outputs": [
    {
     "name": "stdout",
     "output_type": "stream",
     "text": [
      "The sum of the numbers from 1 to 10 is  66\n"
     ]
    }
   ],
   "source": [
    "# while loop - summing the numbers 1 to 10\n",
    "n = 10\n",
    "cur_sum = 0\n",
    "# sum of n  numbers\n",
    "i = 0\n",
    "while  i <= n :\n",
    "    i = i + 1\n",
    "    cur_sum = cur_sum + i\n",
    "    \n",
    "print(\"The sum of the numbers from 1 to\", n, \"is \", cur_sum)\n"
   ]
  },
  {
   "cell_type": "markdown",
   "metadata": {},
   "source": [
    "**Explantion:** Inside the while loop, the statement `i = i + 1` increases the value by 1, and the placement of this statement is causing the loop to calculate 1 to 11. This problem can solved by a) changing the looping condition `i <=n` to `i <n` or b) placing the statement `i = i + 1` after the summation operation. "
   ]
  },
  {
   "cell_type": "code",
   "execution_count": 22,
   "metadata": {},
   "outputs": [
    {
     "name": "stdout",
     "output_type": "stream",
     "text": [
      "The sum of the numbers from 1 to 10 is  55\n"
     ]
    }
   ],
   "source": [
    "## ==> Solution 1\n",
    "# while loop - summing the numbers 1 to 10\n",
    "n = 10\n",
    "cur_sum = 0\n",
    "# sum of n  numbers\n",
    "i = 0\n",
    "while  i < n :\n",
    "    i = i + 1\n",
    "    cur_sum = cur_sum + i\n",
    "    \n",
    "print(\"The sum of the numbers from 1 to\", n, \"is \", cur_sum)\n"
   ]
  },
  {
   "cell_type": "code",
   "execution_count": 23,
   "metadata": {},
   "outputs": [
    {
     "name": "stdout",
     "output_type": "stream",
     "text": [
      "The sum of the numbers from 1 to 10 is  55\n"
     ]
    }
   ],
   "source": [
    "## ==> Solution 2\n",
    "# while loop - summing the numbers 1 to 10\n",
    "n = 10\n",
    "cur_sum = 0\n",
    "# sum of n  numbers\n",
    "i = 0\n",
    "while  i <= n :\n",
    "    cur_sum = cur_sum + i\n",
    "    i = i + 1\n",
    "    \n",
    "print(\"The sum of the numbers from 1 to\", n, \"is \", cur_sum)\n"
   ]
  },
  {
   "cell_type": "code",
   "execution_count": 24,
   "metadata": {},
   "outputs": [
    {
     "name": "stdout",
     "output_type": "stream",
     "text": [
      "The sum of the numbers from 1 to 10 is  45\n"
     ]
    }
   ],
   "source": [
    "# while loop - summing the numbers 1 to 10\n",
    "n = 10\n",
    "cur_sum = 0\n",
    "# sum of n  numbers\n",
    "i = 0\n",
    "while  i != n :\n",
    "    cur_sum = cur_sum + i\n",
    "    i = i + 1\n",
    "\n",
    "print(\"The sum of the numbers from 1 to\", n, \"is \", cur_sum)"
   ]
  },
  {
   "cell_type": "markdown",
   "metadata": {},
   "source": [
    "**Explantion:** The while loop will exit when `i =  10`; so this loop executes for  0 to 9. This issue can be fixed  by a) placing the statement `i = i + 1` before the `cur_sum = cur_sum + i` statement or b) changing the condition `i != n` with `i != n+1`. "
   ]
  },
  {
   "cell_type": "markdown",
   "metadata": {},
   "source": [
    "**5. Write a function called `sum_digits` that is given an integer num and returns the sum of the digits of num.**"
   ]
  },
  {
   "cell_type": "code",
   "execution_count": 5,
   "metadata": {},
   "outputs": [
    {
     "name": "stdout",
     "output_type": "stream",
     "text": [
      "Given an integer: 002\n",
      "Sum of the digits = 2\n"
     ]
    }
   ],
   "source": [
    "def sum_digits(num_str):\n",
    "    digit_list = list(num_str)\n",
    "#     print(digit_list)\n",
    "    digits = [int(x) for x in digit_list]\n",
    "#     print(digits)\n",
    "    return sum(digits)\n",
    "\n",
    "num_str = input(\"Given an integer: \")    \n",
    "total = sum_digits(num_str)\n",
    "print(f\"Sum of the digits = {total}\")\n"
   ]
  },
  {
   "cell_type": "markdown",
   "metadata": {},
   "source": [
    "**6. Write a function called matches that takes two strings as arguments and returns how many matches there are between the strings. A match is where the two strings have the same character at the same index. For instance, 'python' and 'path' match in the first, third, and fourth characters, so the function should return 3.**\n"
   ]
  },
  {
   "cell_type": "code",
   "execution_count": 14,
   "metadata": {},
   "outputs": [
    {
     "name": "stdout",
     "output_type": "stream",
     "text": [
      "Num of matches = 3\n",
      "Matches occurr at indices: [0, 2, 3]\n"
     ]
    }
   ],
   "source": [
    "def matches(str1, str2):\n",
    "    matched_indx = [indx for indx, (x, y) in enumerate(zip(str1, str2)) if x == y]\n",
    "#     print(match)\n",
    "    return len(matched_indx), matched_indx\n",
    "\n",
    "str1 = \"python\"\n",
    "str2 = \"path\"\n",
    "n_matches, matched_indx = matches(str1, str2)\n",
    "print(f\"Num of matches = {n_matches}\\nMatches occurr at indices: {matched_indx}\")"
   ]
  },
  {
   "cell_type": "markdown",
   "metadata": {},
   "source": [
    "**7. The following practice will shows the significance of using map and filter. The first part of the code defines two functions, square and even, and a list. The 2nd part of the code squares each value of the list if the value is even.**"
   ]
  },
  {
   "cell_type": "code",
   "execution_count": 15,
   "metadata": {},
   "outputs": [
    {
     "name": "stdout",
     "output_type": "stream",
     "text": [
      "[0, 4, 16, 36, 64]\n"
     ]
    }
   ],
   "source": [
    "def square(x):\n",
    "    return x ** 2\n",
    "\n",
    "def even(x):\n",
    "    return x % 2 == 0\n",
    "\n",
    "alist = list(range(10))  # given list\n",
    "\n",
    "# -------------------------------------------------------------------------------------------\n",
    "# The following code iterates over this list, and each value is squared and added to a list if the value is even\n",
    "\n",
    "alist_even_squared = []\n",
    "\n",
    "for aval in alist:\n",
    "    if even(aval):  # check if the val is even\n",
    "        temp_var = square(aval)  # square the value\n",
    "        alist_even_squared.append(temp_var)\n",
    "        \n",
    "print(alist_even_squared)"
   ]
  },
  {
   "cell_type": "markdown",
   "metadata": {},
   "source": [
    "**Task 7.1: Accomplish the above task using map and filter functions along with square and even functions.**"
   ]
  },
  {
   "cell_type": "code",
   "execution_count": 16,
   "metadata": {},
   "outputs": [
    {
     "name": "stdout",
     "output_type": "stream",
     "text": [
      "[0, 4, 16, 36, 64]\n"
     ]
    }
   ],
   "source": [
    "alist_even_squared = list(map(square, filter(even, alist)))\n",
    "print(alist_even_squared)"
   ]
  },
  {
   "cell_type": "markdown",
   "metadata": {},
   "source": [
    "**Task 7.2: Accomplish the above task using list comprehension along with square and even functions.**"
   ]
  },
  {
   "cell_type": "code",
   "execution_count": 17,
   "metadata": {},
   "outputs": [
    {
     "name": "stdout",
     "output_type": "stream",
     "text": [
      "[0, 4, 16, 36, 64]\n"
     ]
    }
   ],
   "source": [
    "alist_even_squared = [square(x) for x in alist if even(x)]\n",
    "print(alist_even_squared)"
   ]
  }
 ],
 "metadata": {
  "kernelspec": {
   "display_name": "Python 3",
   "language": "python",
   "name": "python3"
  },
  "language_info": {
   "codemirror_mode": {
    "name": "ipython",
    "version": 3
   },
   "file_extension": ".py",
   "mimetype": "text/x-python",
   "name": "python",
   "nbconvert_exporter": "python",
   "pygments_lexer": "ipython3",
   "version": "3.7.3"
  }
 },
 "nbformat": 4,
 "nbformat_minor": 2
}
