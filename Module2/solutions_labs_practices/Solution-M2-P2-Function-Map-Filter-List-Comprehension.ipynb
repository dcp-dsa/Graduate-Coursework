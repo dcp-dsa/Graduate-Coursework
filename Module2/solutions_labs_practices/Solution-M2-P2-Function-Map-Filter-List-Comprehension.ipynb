{
 "cells": [
  {
   "cell_type": "markdown",
   "metadata": {},
   "source": [
    "**1. Define a function `greet` that takes a name and a message as arguments, print the name followed by a colon \":\" and the msg. If no message is passed to the function, then a default message \"How are you?\" is shown.**"
   ]
  },
  {
   "cell_type": "code",
   "execution_count": null,
   "metadata": {},
   "outputs": [],
   "source": [
    "def greet(name, msg=\"How are you?\"):\n",
    "    print(f\"Hi {name}: {msg}\")\n",
    "\n",
    "greet(\"David\")\n",
    "greet(\"David\", \"Good Morning!\")"
   ]
  },
  {
   "cell_type": "markdown",
   "metadata": {},
   "source": [
    "**2. Write a function named `main` that takes two numbers from a user, then call another funciton named `myprod` to multiply these two numbers, and finally print the output. Initiate the execution by calling the `main` funciton.**"
   ]
  },
  {
   "cell_type": "code",
   "execution_count": null,
   "metadata": {},
   "outputs": [],
   "source": [
    "def myprod(n1, n2):\n",
    "    return n1 * n2\n",
    "\n",
    "def main():\n",
    "    input_str = input(\"Given two numbers seperated by space: \")\n",
    "    print(input_str)\n",
    "    \n",
    "    # split the input string to extract numbers\n",
    "    input_num_str = input_str.split(\" \")\n",
    "    print(input_num_str)\n",
    "    \n",
    "    # convert the str numbers to float \n",
    "    input_nums = [float(x) for x in input_num_str]\n",
    "    \n",
    "    prod = myprod(input_nums[0], input_nums[1])  # calling the prod funciton\n",
    "    \n",
    "    print(f\"Product of {input_nums[0]} and {input_nums[1]} is {prod}.\")\n",
    "\n",
    "# call the main function()\n",
    "main()\n"
   ]
  },
  {
   "cell_type": "markdown",
   "metadata": {},
   "source": [
    "**3. Write a function called `first_diff` that is given two strings and returns the first location in which the strings differ. If the strings are identical, it should return -1.**"
   ]
  },
  {
   "cell_type": "code",
   "execution_count": null,
   "metadata": {},
   "outputs": [],
   "source": [
    "# we can make several assumptions and develop this program\n",
    "\n",
    "# assumption: both strings are equal in size (naive solution)\n",
    "def first_diff_v1(str1, str2): \n",
    "    for i in range(len(str1)):\n",
    "        if str1[i] == str2[i]:  # match found; so continue\n",
    "            continue\n",
    "        else:  # fist mismatch; return the index\n",
    "            return i\n",
    "    # if there is no mismatch found, then the following statement will be executed\n",
    "    return -1  \n",
    "\n",
    "# removing the above assumption\n",
    "def first_diff_v2(str1, str2): \n",
    "    # identify the short string and keep the short string as the first string\n",
    "    if len(str1) <= len(str2):\n",
    "        first_str = str1\n",
    "        second_str = str2\n",
    "    else:\n",
    "        first_str = str2\n",
    "        second_str = str1\n",
    "    \n",
    "    \n",
    "    for i in range(len(first_str)):\n",
    "        if str1[i] == str2[i]:  # match found; so continue\n",
    "            continue\n",
    "        else:  # fist mismatch; return the index\n",
    "            return i\n",
    "    \n",
    "    # at this line no mismatch found in the above for loop, i.e. the first_str is a substring of the 2nd string\n",
    "    if len(first_str) == len(second_str):\n",
    "        return -1  \n",
    "    else:\n",
    "        return len(second_str)\n",
    "\n",
    "ret = first_diff_v1('abc', 'abd')\n",
    "print(ret)\n",
    "ret = first_diff_v2('abc', 'abd')\n",
    "print(ret)\n",
    "ret = first_diff_v2('abc', 'abc')\n",
    "print(ret)\n",
    "ret = first_diff_v2('abc', 'abcd')\n",
    "print(ret)\n",
    "ret = first_diff_v2('abcd', 'abc')\n",
    "print(ret)"
   ]
  },
  {
   "cell_type": "markdown",
   "metadata": {},
   "source": [
    "**4. The following code is supposed to compute the product of the numbers in a list. For instance product([5, 4,\n",
    "6]) should calculate and return 5*4*6=120. What went wrong? Fix it.**"
   ]
  },
  {
   "cell_type": "code",
   "execution_count": null,
   "metadata": {},
   "outputs": [],
   "source": [
    "def product(nums):\n",
    "    for n in nums:\n",
    "        prod = 1\n",
    "        prod = prod*n \n",
    "    return prod\n",
    "product([5, 4, 6])"
   ]
  },
  {
   "cell_type": "code",
   "execution_count": null,
   "metadata": {},
   "outputs": [],
   "source": [
    "def product(nums):\n",
    "    prod = 1  # each time this variable was intialized as 1 inside the for loop. it should work as an accumulator\n",
    "    for n in nums:\n",
    "        prod = prod*n \n",
    "    return prod\n",
    "product([5, 4, 6])"
   ]
  },
  {
   "cell_type": "markdown",
   "metadata": {},
   "source": [
    "**5. Define a function that takes an integer as an argument and returns True if the number is divisibale by 3; otherwise returns False. Iterate over numebers from 1 to 30, identify all the numbers that are divisible 3 using filter and list comprehension.**"
   ]
  },
  {
   "cell_type": "code",
   "execution_count": null,
   "metadata": {},
   "outputs": [],
   "source": [
    "def is_divisible_by_k(num, divisor=3):\n",
    "    return num % divisor == 0\n",
    "\n",
    "\n",
    "\n",
    "# using for loop\n",
    "res = []\n",
    "for n in range(1, 31):\n",
    "    if is_divisible_by_k(n):\n",
    "        res.append(n)\n",
    "print(res)\n",
    "\n",
    "# using filter\n",
    "res = list(filter(is_divisible_by_k, range(1,31)))  # Note here we just need to give funciton name but No argument\n",
    "print(res)\n",
    "\n",
    "\n",
    "# using filter and lambda\n",
    "res = list(filter(lambda x: x%3==0, range(1,31)))\n",
    "print(res)\n",
    "\n",
    "# list comprehension\n",
    "res = [x for x in range(1, 31) if is_divisible_by_k(x)]\n",
    "print(res)\n",
    "\n",
    "\n"
   ]
  },
  {
   "cell_type": "markdown",
   "metadata": {},
   "source": [
    "**6. Define a function that takes a string as a parameter and returns the lower case of a string. Given the list of states codes, perform the following tasks:**\n",
    "\n",
    "* Task1: Write a for loop that iterates over the list of state codes and create another list of codes with lower case\n",
    "* Task2: Use the `map` function to accomplish Task 1\n",
    "* Task3: Use list comprhension to accomplish Task 1\n"
   ]
  },
  {
   "cell_type": "code",
   "execution_count": null,
   "metadata": {},
   "outputs": [],
   "source": [
    "states = [\"AL\", \"AK\", \"AZ\", \"AR\", \"CA\", \"CO\", \"CT\", \"DC\", \"DE\", \"FL\", \"GA\", \n",
    "          \"HI\", \"ID\", \"IL\", \"IN\", \"IA\", \"KS\", \"KY\", \"LA\", \"ME\", \"MD\", \n",
    "          \"MA\", \"MI\", \"MN\", \"MS\", \"MO\", \"MT\", \"NE\", \"NV\", \"NH\", \"NJ\", \n",
    "          \"NM\", \"NY\", \"NC\", \"ND\", \"OH\", \"OK\", \"OR\", \"PA\", \"RI\", \"SC\", \n",
    "          \"SD\", \"TN\", \"TX\", \"UT\", \"VT\", \"VA\", \"WA\", \"WV\", \"WI\", \"WY\"]"
   ]
  },
  {
   "cell_type": "code",
   "execution_count": null,
   "metadata": {},
   "outputs": [],
   "source": [
    "def make_lower(s):\n",
    "    return s.lower()\n",
    "\n",
    "# using for loop\n",
    "res = []\n",
    "\n",
    "for state_code in states:\n",
    "    res.append(make_lower(state_code))\n",
    "print(res)\n",
    "\n",
    "# using map\n",
    "\n",
    "res = list(map(make_lower, states))\n",
    "print(res)\n",
    "\n",
    "res = list(map(lambda x: x.lower(), states))\n",
    "print(res)\n",
    "\n",
    "# using list comprehension\n",
    "res = [make_lower(x) for x in states]\n",
    "print(res)\n",
    "\n",
    "res = [x.lower() for x in states]\n",
    "print(res)\n",
    "\n"
   ]
  },
  {
   "cell_type": "markdown",
   "metadata": {},
   "source": [
    "**7. Using lambda and filter, print the states codes that end with the letter J. Note: you learned how to perform this task with a for loop. Repeat this exercise with a list comprehension.**"
   ]
  },
  {
   "cell_type": "code",
   "execution_count": null,
   "metadata": {},
   "outputs": [],
   "source": [
    "# using filter and lamda\n",
    "for a in filter(lambda x: x.endswith('J'), states):\n",
    "    print(a)\n",
    "\n",
    "# using list comprehension\n",
    "[print(x) for x in states if x.endswith('J')]  # note we ignore the return val here"
   ]
  },
  {
   "cell_type": "markdown",
   "metadata": {},
   "source": [
    "**8. Create two list of integers of equal size using `range` method (see an example below). Then multiple them elmementwise using a for loop, map, and list comprehension.**"
   ]
  },
  {
   "cell_type": "code",
   "execution_count": null,
   "metadata": {},
   "outputs": [],
   "source": [
    "list1 = list(range(10, 100, 10))  # start, end, step\n",
    "list2 = list(range(100, 1000, 100)) ## start, end, step\n",
    "print(list1, len(list1))\n",
    "print(list2, len(list2))\n",
    "\n",
    "# using for loop \n",
    "res = []\n",
    "for i in range(len(list1)):\n",
    "    res.append(list1[i] * list2[i])\n",
    "print(res)\n",
    "\n",
    "\n",
    "res = []\n",
    "for x, y in zip(list1, list2):\n",
    "    res.append(x*y)\n",
    "print(res)\n",
    "\n",
    "# using map \n",
    "res = list(map(lambda x, y: x*y, list1, list2))\n",
    "print(res)\n",
    "\n",
    "# using list comprehension \n",
    "res = [x*y for x, y in zip(list1, list2)]\n",
    "print(res)\n"
   ]
  },
  {
   "cell_type": "markdown",
   "metadata": {},
   "source": [
    "**9. Print the first 10 Fibonacci numbers using map.**"
   ]
  },
  {
   "cell_type": "code",
   "execution_count": null,
   "metadata": {},
   "outputs": [],
   "source": [
    "def fibonacci_with_map(n): \n",
    "    fib_list = [0, 1] \n",
    "  \n",
    "    list(\n",
    "        map(\n",
    "            lambda _: fib_list.append(sum(fib_list[-2:])), range(2, n)\n",
    "        )\n",
    "    ) \n",
    "    \n",
    "    # observations:\n",
    "    # 1. lamba is ignoring the input as it is used only for iterating n-2 number of times\n",
    "    # 2. Here the last two elements of fib_list is used to caluculate the next Fibo num (notice the neg indexing)\n",
    "    # 3. fib_list is appended with nth Fibonacci number in each iteration\n",
    "    # 4. the list() method is used to make sure lambda funciton is called for each value as map uses lazy evaluation\n",
    "  \n",
    "    return fib_list\n",
    "\n",
    "fibs = fibonacci_with_map(n=10)\n",
    "print(fibs)"
   ]
  },
  {
   "cell_type": "markdown",
   "metadata": {},
   "source": [
    "**10. Print the first 10 Fibonacci numbers using reduce.**"
   ]
  },
  {
   "cell_type": "code",
   "execution_count": null,
   "metadata": {},
   "outputs": [],
   "source": [
    "from functools import reduce \n",
    "\n",
    "def fibonacci_with_reduce(n): \n",
    "\n",
    "    fib_list = reduce(\n",
    "        lambda x, _: x + [x[-1] + x[-2]], range(2, n), [0, 1]      \n",
    "    )\n",
    "    \n",
    "    # observations:\n",
    "    # 1. lamba is ignoring the 2nd input as it is used only for iterating from 2 to n\n",
    "    # 2. reduce can take three arguments: function, iterable, intial. Here intial is optional\n",
    "    # 3. initial (in this case list [0,1]) is assigned to x and the the other input from range(2, n) is ignored\n",
    "    # 4. the list x is appened with nth Fiboo num\n",
    "  \n",
    "    return fib_list\n",
    "\n",
    "fibs = fibonacci_with_reduce(n=10)\n",
    "print(fibs)"
   ]
  }
 ],
 "metadata": {
  "kernelspec": {
   "display_name": "Python 3",
   "language": "python",
   "name": "python3"
  },
  "language_info": {
   "codemirror_mode": {
    "name": "ipython",
    "version": 3
   },
   "file_extension": ".py",
   "mimetype": "text/x-python",
   "name": "python",
   "nbconvert_exporter": "python",
   "pygments_lexer": "ipython3",
   "version": "3.7.3"
  }
 },
 "nbformat": 4,
 "nbformat_minor": 2
}
