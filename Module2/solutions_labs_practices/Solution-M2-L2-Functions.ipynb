{
 "cells": [
  {
   "cell_type": "markdown",
   "metadata": {},
   "source": [
    "# Functions / Modular Programming\n",
    "-----\n",
    "This Notebook is derived from the [Python Lecture Series](https://github.com/rajathkumarmp/Python-Lectures).  \n",
    "\n",
    "Modular programming is a pillar of computer programming and computer science.  The general idea is that you should be able to reuse code you have written in multiple places.  At the highest level, programming libraries are collections of modular code functionalities.\n",
    "\n",
    "### Table of Contents\n",
    "* <a href=\"#func\">Functions</a>\n",
    "    * <a href=\"#return\">Return Statement</a>\n",
    "    * Function Arguments\n",
    "        * <a href=\"#implicit-arguments\">Implicit Arguments</a>\n",
    "        * <a href=\"#indefinite-arguments\">Any number of arguments</a>\n",
    "    * <a href=\"#global-local\">Global and local variables</a>\n",
    "\n",
    "<a id=\"func\"></a>\n",
    "## Functions\n",
    "<div style=\"text-align:right\"><a href=\"#Table-of-Contents\">[toc]</a></div>\n",
    "Functions are the most common encapsulation of a series of steps or algorithm.  A modular component of code, a function in this case, is an isolated series of steps that has a set of input parameters and produces output. \n",
    "The implementation of the functionality is generally agnostic to the input values, allowing a high level of code reuse with a wide variety of input.\n",
    "\n",
    "In many cases the statements in an algorithm are repeated many times and it would be a tedious job to type the same statements again and again.  \n",
    "This would unnecessarily consume a lot of memory (via program size) and is not efficient. \n",
    "Enter functions."
   ]
  },
  {
   "cell_type": "markdown",
   "metadata": {},
   "source": [
    "This is the basic syntax of a function:\n",
    "```python\n",
    "def <function name>([argument {, argument}]):\n",
    "    [\"\"\"Document String\"\"\"]\n",
    "        OR / AND\n",
    "    {action/algorithm/statements}\n",
    "        OR / AND\n",
    "    [return [value]]\n",
    "```\n",
    "\n",
    "Note: The above uses the same language-definition syntax introduced in the control-structures lesson [here](./labs/M2-L1-ControlStructures.ipynb). Here the parenthesis after the function name are **_not_** optional, even though the arguments are."
   ]
  },
  {
   "cell_type": "markdown",
   "metadata": {},
   "source": [
    "In the above syntax  a function by name \"function name\" is defined and it accepts an optional and variable number of input parameters.  \n",
    "The function can be documented by including a \"\"Document String\"\"\".  \n",
    "The function, after optionally executing a series of statements, optionally returns a \"value\".\n",
    "\n",
    "That last sentence might seem a little much to read, but the following well-defined function should highlight the fact that a function can be well-defined and empty.\n",
    "\n",
    "```Python\n",
    "#This is valid\n",
    "def test():\n",
    "    pass #single statement that does nothing\n",
    "    \n",
    "#This is also valid\n",
    "def test2():\n",
    "    return #return statement with no value, and no other statements\n",
    "    \n",
    "#This is also valid\n",
    "def test3():\n",
    "    \"\"\"An empty function declaration\"\"\"\n",
    "    \n",
    "#This is not valid though\n",
    "def test4():\n",
    "    #syntax error since the interpreter expects *something* \n",
    "    # after the function header\n",
    "```"
   ]
  },
  {
   "cell_type": "code",
   "execution_count": null,
   "metadata": {},
   "outputs": [],
   "source": [
    "print(\"Hey Grant!\")\n",
    "print(\"Grant, how are you doing?\")"
   ]
  },
  {
   "cell_type": "markdown",
   "metadata": {},
   "source": [
    "Instead of writing the above two statements over and over it can be replaced by defining a function which would do the job in just one line. \n",
    "\n",
    "Defining a function named firstfunc():"
   ]
  },
  {
   "cell_type": "code",
   "execution_count": null,
   "metadata": {},
   "outputs": [],
   "source": [
    "def firstfunc():\n",
    "    print(\"Hey Grant!\")\n",
    "    print(\"Grant, how are you doing?\")"
   ]
  },
  {
   "cell_type": "code",
   "execution_count": null,
   "metadata": {},
   "outputs": [],
   "source": [
    "firstfunc()"
   ]
  },
  {
   "cell_type": "markdown",
   "metadata": {},
   "source": [
    "**firstfunc()** above simply prints the message to a single person. However, we can easily extend **firstfunc()**  to accept arguments that will store the name and then print out the text with the accepted name. To do this, simply add a argument within the function as shown here."
   ]
  },
  {
   "cell_type": "code",
   "execution_count": null,
   "metadata": {},
   "outputs": [],
   "source": [
    "def firstfunc(username):\n",
    "    print(\"Hey\", username + '!')\n",
    "    print(username + ',' ,\"how are you doing?\")"
   ]
  },
  {
   "cell_type": "code",
   "execution_count": null,
   "metadata": {},
   "outputs": [],
   "source": [
    "name1 = input('Please enter your name : ')"
   ]
  },
  {
   "cell_type": "markdown",
   "metadata": {},
   "source": [
    "The name entered in the input box above is now stored in name1. After the name is input, we can pass the name1 variable to the function **firstfunc()** as the variable username because that is the variable that is defined for this function. i.e name1 is passed as username."
   ]
  },
  {
   "cell_type": "code",
   "execution_count": null,
   "metadata": {},
   "outputs": [],
   "source": [
    "firstfunc(name1)"
   ]
  },
  {
   "cell_type": "markdown",
   "metadata": {},
   "source": [
    "Let us simplify this even further by defining another function **secondfunc()** which accepts the name and stores it inside a variable and then calls **firstfunc()** from inside the function itself."
   ]
  },
  {
   "cell_type": "code",
   "execution_count": null,
   "metadata": {},
   "outputs": [],
   "source": [
    "def firstfunc(username):\n",
    "    print (\"Hey\", username + '!')\n",
    "    print (username + ',' ,\"how are you doing?\")\n",
    "def secondfunc():\n",
    "    name = input(\"Please enter your name : \")\n",
    "    firstfunc(name)"
   ]
  },
  {
   "cell_type": "code",
   "execution_count": null,
   "metadata": {},
   "outputs": [],
   "source": [
    "secondfunc()"
   ]
  },
  {
   "cell_type": "markdown",
   "metadata": {},
   "source": [
    "<a id=\"return\"></a>\n",
    "### Return Statement\n",
    "<div style=\"text-align:right\"><a href=\"#Table-of-Contents\">[toc]</a></div>"
   ]
  },
  {
   "cell_type": "markdown",
   "metadata": {},
   "source": [
    "When a function produces some final value that has to be stored in a variable or needs to be sent back or returned for further operation to the calling function, a return statement is used."
   ]
  },
  {
   "cell_type": "code",
   "execution_count": null,
   "metadata": {},
   "outputs": [],
   "source": [
    "def times(x,y):\n",
    "    z = x*y\n",
    "    return z"
   ]
  },
  {
   "cell_type": "markdown",
   "metadata": {},
   "source": [
    "The **`times()`** function accepts two arguments and returns the variable `z` that contains the result of the product of the two arguments"
   ]
  },
  {
   "cell_type": "code",
   "execution_count": null,
   "metadata": {},
   "outputs": [],
   "source": [
    "c = times(4,5)\n",
    "print(c)"
   ]
  },
  {
   "cell_type": "markdown",
   "metadata": {},
   "source": [
    "The z value computed in the function is now stored in variable c and can be used for further operations in the main program.  Note that `z` only exists within the `times()` function, and isn't available outside it.  In this case `z` is said to be a *local* variable.  This is discussed more below."
   ]
  },
  {
   "cell_type": "markdown",
   "metadata": {},
   "source": [
    "Instead of declaring a variable in the function the entire statement itself can be used in the return statement as shown."
   ]
  },
  {
   "cell_type": "code",
   "execution_count": null,
   "metadata": {},
   "outputs": [],
   "source": [
    "def times(x,y):\n",
    "    \"\"\"This multiplies the two input arguments\"\"\"\n",
    "    return x*y"
   ]
  },
  {
   "cell_type": "code",
   "execution_count": null,
   "metadata": {},
   "outputs": [],
   "source": [
    "c = times(4,5)\n",
    "print(c)"
   ]
  },
  {
   "cell_type": "markdown",
   "metadata": {},
   "source": [
    "Since  **times( )** is now defined, we can document it as shown above. \n",
    "This document is returned whenever **times( )** function is called under **help( )** function."
   ]
  },
  {
   "cell_type": "code",
   "execution_count": null,
   "metadata": {},
   "outputs": [],
   "source": [
    "help(times)"
   ]
  },
  {
   "cell_type": "markdown",
   "metadata": {},
   "source": [
    "Multiple variables can also be returned, but care must be taken in noting the proper order."
   ]
  },
  {
   "cell_type": "code",
   "execution_count": null,
   "metadata": {},
   "outputs": [],
   "source": [
    "exlist = [10,50,30,12,6,8,100]"
   ]
  },
  {
   "cell_type": "code",
   "execution_count": null,
   "metadata": {},
   "outputs": [],
   "source": [
    "def exfunc(exlist):\n",
    "    highest = max(exlist)\n",
    "    lowest = min(exlist)\n",
    "    first = exlist[0]\n",
    "    last = exlist[-1]\n",
    "    return highest,lowest,first,last"
   ]
  },
  {
   "cell_type": "markdown",
   "metadata": {},
   "source": [
    "If the function is called without any variable for it to be assigned to, the result is returned inside a tuple. \n",
    "But if the variables are mentioned then the result is assigned to the variable in a particular order that is declared *in the return statement.*"
   ]
  },
  {
   "cell_type": "code",
   "execution_count": null,
   "metadata": {},
   "outputs": [],
   "source": [
    "exfunc(exlist)"
   ]
  },
  {
   "cell_type": "code",
   "execution_count": null,
   "metadata": {},
   "outputs": [],
   "source": [
    "a,b,c,d = exfunc(exlist)\n",
    "print (' a =',a,'\\n b =',b,'\\n c =',c,'\\n d =',d)"
   ]
  },
  {
   "cell_type": "markdown",
   "metadata": {},
   "source": [
    "#### Try it:   Write a function that converts to Fahrenheit from Celsius.\n",
    "\n",
    "Include a docstring and verify that you did that correctly by calling help on your function.\n",
    "\n",
    "Hint: input multiplied by (9/5) plus 32"
   ]
  },
  {
   "cell_type": "code",
   "execution_count": null,
   "metadata": {},
   "outputs": [],
   "source": [
    "# Write your function below:\n",
    "# -----------------------------\n",
    "def c2f(x):\n",
    "    \"\"\"Returns a temperature converted to Fahrenheit\"\"\"\n",
    "    far = x * 9/5 + 32\n",
    "    return(far)\n",
    "# -----------------------------\n",
    "# Test your function here:\n",
    "print(c2f(100))\n",
    "print(c2f(0))\n",
    "help(c2f)\n"
   ]
  },
  {
   "cell_type": "markdown",
   "metadata": {},
   "source": [
    "#### Try it:   Write a function that converts to Celsius from Fahrenheit.\n",
    "\n",
    "Include a docstring and verify that you did that correctly by calling help on your function.\n",
    "\n",
    "Additionally, use your two methods to verify each other. You should be able to call `c_to_f(f_to_c(input)) == input` and get True as the result.  \n",
    "\n",
    "Hint: Undo what you did in the previous function."
   ]
  },
  {
   "cell_type": "code",
   "execution_count": null,
   "metadata": {},
   "outputs": [],
   "source": [
    "# Write your function below:\n",
    "# -----------------------------\n",
    "def f2c(x):\n",
    "    \"\"\"Returns a temperature converted to Celsius\"\"\"\n",
    "    cel = (x - 32) * 5/9\n",
    "    return(cel)\n",
    "# -----------------------------\n",
    "# Test your function here:\n",
    "print(f2c(212))\n",
    "print(f2c(32))\n",
    "print(c2f(f2c(32)))\n",
    "help(f2c)\n",
    "\n"
   ]
  },
  {
   "cell_type": "markdown",
   "metadata": {},
   "source": [
    "<a id=\"implicit-arguments\"></a>\n",
    "### Implicit Arguments\n",
    "<div style=\"text-align:right\"><a href=\"#Table-of-Contents\">[toc]</a></div>"
   ]
  },
  {
   "cell_type": "markdown",
   "metadata": {},
   "source": [
    "An implicit argument is the one with default values. When the value of an argument of a function is common in majority of the cases or it is \"implicit\" this concept is used."
   ]
  },
  {
   "cell_type": "code",
   "execution_count": null,
   "metadata": {},
   "outputs": [],
   "source": [
    "def implicitadd(x,y=3):  # y is the implicit argument\n",
    "    return x+y"
   ]
  },
  {
   "cell_type": "markdown",
   "metadata": {},
   "source": [
    "**implicitadd( )** is a function that accepts two arguments, but most of the time the number 3 has to be added to the first argument. \n",
    "Hence the second argument is assigned the value 3. \n",
    "Here the second argument is said to be implicit."
   ]
  },
  {
   "cell_type": "markdown",
   "metadata": {},
   "source": [
    "Now if the second argument is not defined when calling the **implicitadd( )** function then it will by default be set to the implicit value of 3."
   ]
  },
  {
   "cell_type": "code",
   "execution_count": null,
   "metadata": {},
   "outputs": [],
   "source": [
    "implicitadd(4)"
   ]
  },
  {
   "cell_type": "markdown",
   "metadata": {},
   "source": [
    "But if the second argument is specified then this value **overrides** the implicit value assigned to the argument."
   ]
  },
  {
   "cell_type": "code",
   "execution_count": null,
   "metadata": {},
   "outputs": [],
   "source": [
    "implicitadd(4,4)"
   ]
  },
  {
   "cell_type": "markdown",
   "metadata": {},
   "source": [
    "<a id=\"multiple-arguments\"></a>\n",
    "### Any Number of Arguments\n",
    "<div style=\"text-align:right\"><a href=\"#Table-of-Contents\">[toc]</a></div>"
   ]
  },
  {
   "cell_type": "markdown",
   "metadata": {},
   "source": [
    "If the number of arguments that is to be accepted by a function is not known then an asterisk symbol (e.g. wild card) is used *before* the argument."
   ]
  },
  {
   "cell_type": "code",
   "execution_count": null,
   "metadata": {},
   "outputs": [],
   "source": [
    "def add_n(*args):\n",
    "    res = 0\n",
    "    reslist = []\n",
    "    for i in args:\n",
    "        reslist.append(i)\n",
    "    print(reslist)\n",
    "    return sum(reslist)"
   ]
  },
  {
   "cell_type": "markdown",
   "metadata": {},
   "source": [
    "The above function accepts any number of arguments, defines a list and appends all the arguments into that list and returns the sum of all the arguments."
   ]
  },
  {
   "cell_type": "code",
   "execution_count": null,
   "metadata": {},
   "outputs": [],
   "source": [
    "add_n(1,2,3)"
   ]
  },
  {
   "cell_type": "code",
   "execution_count": null,
   "metadata": {},
   "outputs": [],
   "source": [
    "add_n(1,2,3,4,5,6)"
   ]
  },
  {
   "cell_type": "markdown",
   "metadata": {},
   "source": [
    "<a id=\"global-local\"></a>\n",
    "### Global and Local Variables\n",
    "<div style=\"text-align:right\"><a href=\"#Table-of-Contents\">[toc]</a></div>"
   ]
  },
  {
   "cell_type": "markdown",
   "metadata": {},
   "source": [
    "Whenever a variable is declared inside a function it is said to be a *local variable*, and conversely if it is declared outside the function it said to be a *global variable.*  We saw this above in the example of the `times()` function."
   ]
  },
  {
   "cell_type": "code",
   "execution_count": null,
   "metadata": {},
   "outputs": [],
   "source": [
    "def times(x, y):\n",
    "    z = x*y\n",
    "    return z"
   ]
  },
  {
   "cell_type": "markdown",
   "metadata": {},
   "source": [
    "In the example below, `g` and `h` are global variables, whereas `x`, `y`, and `z` are all local to the `times()` function.\n",
    "\n",
    "**ERROR EXPECTED**"
   ]
  },
  {
   "cell_type": "code",
   "execution_count": null,
   "metadata": {},
   "outputs": [],
   "source": [
    "g = 10\n",
    "h = 11\n",
    "c = times(g, h)\n",
    "print('The result of {} times {} is {}'.format(g, h, c))\n",
    "\n",
    "# an error is expected from this line below:\n",
    "print(z)"
   ]
  },
  {
   "cell_type": "markdown",
   "metadata": {},
   "source": [
    "Note that the NameError above is caused by trying to access the local variable `z` from *outside the function* where it was created, thereby resulting in the \"not defined\" error.\n",
    "\n",
    "If a **global** variable is defined in the function, as shown in the example below, then that variable can be called from anywhere, thereby fixing the error from above and making the variable z available to the main program."
   ]
  },
  {
   "cell_type": "code",
   "execution_count": null,
   "metadata": {},
   "outputs": [],
   "source": [
    "def times2(x, y):\n",
    "    global z\n",
    "    z = x*y\n",
    "    return z"
   ]
  },
  {
   "cell_type": "code",
   "execution_count": null,
   "metadata": {},
   "outputs": [],
   "source": [
    "c = times2(g, h)\n",
    "print(c)\n",
    "print(z)"
   ]
  },
  {
   "cell_type": "markdown",
   "metadata": {},
   "source": [
    "# Save your Notebook"
   ]
  }
 ],
 "metadata": {
  "kernelspec": {
   "display_name": "Python 3",
   "language": "python",
   "name": "python3"
  },
  "language_info": {
   "codemirror_mode": {
    "name": "ipython",
    "version": 3
   },
   "file_extension": ".py",
   "mimetype": "text/x-python",
   "name": "python",
   "nbconvert_exporter": "python",
   "pygments_lexer": "ipython3",
   "version": "3.7.3"
  }
 },
 "nbformat": 4,
 "nbformat_minor": 1
}
