{
 "cells": [
  {
   "cell_type": "markdown",
   "metadata": {},
   "source": [
    "**1. Take a number from a user as input. Print whether the number is negative or positive.**"
   ]
  },
  {
   "cell_type": "code",
   "execution_count": null,
   "metadata": {},
   "outputs": [],
   "source": [
    "anum = input(\"Type a number: \")\n",
    "anum = float(anum)\n",
    "\n",
    "if anum < 0: \n",
    "    print(\"The num is negative.\")\n",
    "else:\n",
    "    print(\"The num is positive.\")"
   ]
  },
  {
   "cell_type": "markdown",
   "metadata": {},
   "source": [
    "**2. Take a number from a user as input. If the number is negative then change the number to 0, otherwise check whether the number is 0, 1, or greater than 1. In all cases print messages to convey results.**"
   ]
  },
  {
   "cell_type": "code",
   "execution_count": null,
   "metadata": {},
   "outputs": [],
   "source": [
    "anum = input(\"Type a number: \")\n",
    "anum = float(anum)\n",
    "\n",
    "if anum < 0: \n",
    "    print(\"The num is negative. Setting the number to 0.\")\n",
    "    anum = 0\n",
    "else:\n",
    "    print(\"The num is positive.\")\n",
    "    if anum == 0:\n",
    "        print(\"The num is zero.\")\n",
    "    elif anum == 1:\n",
    "        print(\"The num is single.\")\n",
    "    else:\n",
    "        print(\"The num is more than 1.\")"
   ]
  },
  {
   "cell_type": "markdown",
   "metadata": {},
   "source": [
    "**3. `range` function is a useful function. Perform the following tasks with the help of `range` function. See the definition of `range` [here](https://www.w3schools.com/python/ref_func_range.asp).**\n",
    "\n",
    "* Print integer from 0 to 10\n",
    "* Print even numbers from 0 to 15\n",
    "* Create a list of number starting from 6 to 20 with an step size of 3\n"
   ]
  },
  {
   "cell_type": "code",
   "execution_count": null,
   "metadata": {},
   "outputs": [],
   "source": [
    "for i in range(11):\n",
    "    print(i)"
   ]
  },
  {
   "cell_type": "code",
   "execution_count": null,
   "metadata": {},
   "outputs": [],
   "source": [
    "for i in range(0, 15, 2):\n",
    "    print(i)"
   ]
  },
  {
   "cell_type": "code",
   "execution_count": null,
   "metadata": {},
   "outputs": [],
   "source": [
    "list1 = list(range(6, 21, 3))\n",
    "print(list1)"
   ]
  },
  {
   "cell_type": "markdown",
   "metadata": {},
   "source": [
    "**4. Iterate over numebers from 1 to 30, identify all the numbers that are divisible 3, and append them to a list. After the iteration print the list as well as the length of the list**"
   ]
  },
  {
   "cell_type": "code",
   "execution_count": null,
   "metadata": {},
   "outputs": [],
   "source": [
    "res = []  # empty list\n",
    "for num in range(1, 31):\n",
    "    if num % 3 == 0:\n",
    "        res.append(num)\n",
    "        \n",
    "print(f\"list = {res}\")\n",
    "print(f\"length = {len(res)}\")"
   ]
  },
  {
   "cell_type": "markdown",
   "metadata": {},
   "source": [
    "**5. Here is a list of codes for the US states. Identify the statecodes that starts with the letter 'M', store them in a list, and print the list.**"
   ]
  },
  {
   "cell_type": "code",
   "execution_count": null,
   "metadata": {},
   "outputs": [],
   "source": [
    "states = [\"AL\", \"AK\", \"AZ\", \"AR\", \"CA\", \"CO\", \"CT\", \"DC\", \"DE\", \"FL\", \"GA\", \n",
    "          \"HI\", \"ID\", \"IL\", \"IN\", \"IA\", \"KS\", \"KY\", \"LA\", \"ME\", \"MD\", \n",
    "          \"MA\", \"MI\", \"MN\", \"MS\", \"MO\", \"MT\", \"NE\", \"NV\", \"NH\", \"NJ\", \n",
    "          \"NM\", \"NY\", \"NC\", \"ND\", \"OH\", \"OK\", \"OR\", \"PA\", \"RI\", \"SC\", \n",
    "          \"SD\", \"TN\", \"TX\", \"UT\", \"VT\", \"VA\", \"WA\", \"WV\", \"WI\", \"WY\"]\n",
    "# write your code below\n",
    "res = []\n",
    "for state in states:\n",
    "    if state.startswith('M'):\n",
    "        res.append(state)\n",
    "print(res)"
   ]
  },
  {
   "cell_type": "markdown",
   "metadata": {},
   "source": [
    "**6. This question builds upon Q5. Print the states codes but exit when a state code that ends with the letter `J` is found.**"
   ]
  },
  {
   "cell_type": "code",
   "execution_count": null,
   "metadata": {},
   "outputs": [],
   "source": [
    "for state in states:\n",
    "    print(state)\n",
    "    if state.endswith('J'):\n",
    "        break"
   ]
  },
  {
   "cell_type": "markdown",
   "metadata": {},
   "source": [
    "**7. This question builds upon Q5. Using `continue` statement print all the state codes except the one that starts with `M` or endswith `J`.**"
   ]
  },
  {
   "cell_type": "code",
   "execution_count": null,
   "metadata": {},
   "outputs": [],
   "source": [
    "for state in states:\n",
    "    if state.startswith('M') or state.endswith('J'):\n",
    "        continue\n",
    "    print(state)"
   ]
  },
  {
   "cell_type": "markdown",
   "metadata": {},
   "source": [
    "**8. Here is a dictionary of US states with the name as key and the code as value. Iterate of the items in the dictionary and print the first five items (i.e., key, value pair).**"
   ]
  },
  {
   "cell_type": "code",
   "execution_count": 1,
   "metadata": {},
   "outputs": [
    {
     "name": "stdout",
     "output_type": "stream",
     "text": [
      "0 ('Alabama', 'AL')\n",
      "1 ('Alaska', 'AK')\n",
      "2 ('Arizona', 'AZ')\n",
      "3 ('Arkansas', 'AR')\n",
      "4 ('California', 'CA')\n"
     ]
    }
   ],
   "source": [
    "us_states = {'Alabama': 'AL','Alaska': 'AK', 'Arizona': 'AZ', 'Arkansas': 'AR', 'California': 'CA', 'Colorado': 'CO',\n",
    "             'Connecticut': 'CT', 'Delaware': 'DE', 'District of Columbia': 'DC', 'Florida': 'FL', 'Georgia': 'GA',\n",
    "             'Hawaii': 'HI', 'Idaho': 'ID', 'Illinois': 'IL', 'Indiana': 'IN', 'Iowa': 'IA', 'Kansas': 'KS', \n",
    "             'Kentucky': 'KY', 'Louisiana': 'LA', 'Maine': 'ME', 'Maryland': 'MD', 'Massachusetts': 'MA', \n",
    "             'Michigan': 'MI', 'Minnesota': 'MN', 'Mississippi': 'MS', 'Missouri': 'MO', 'Montana': 'MT',\n",
    "             'Nebraska': 'NE', 'Nevada': 'NV', 'New Hampshire': 'NH', 'New Jersey': 'NJ', 'New Mexico': 'NM',\n",
    "             'New York': 'NY', 'North Carolina': 'NC', 'North Dakota': 'ND', 'Ohio': 'OH', 'Oklahoma': 'OK', \n",
    "             'Oregon': 'OR', 'Pennsylvania': 'PA', 'Rhode Island': 'RI', 'South Carolina': 'SC',\n",
    "             'South Dakota': 'SD', 'Tennessee': 'TN', 'Texas': 'TX', 'Utah': 'UT', 'Vermont': 'VT', 'Virginia': 'VA',\n",
    "             'Washington': 'WA', 'West Virginia': 'WV', 'Wisconsin': 'WI', 'Wyoming': 'WY'\n",
    "}\n",
    "\n",
    "# write your code below\n",
    "for indx, item in enumerate(us_states.items()):\n",
    "    if indx >= 5:\n",
    "        break\n",
    "    print(indx, item)\n",
    "     "
   ]
  },
  {
   "cell_type": "markdown",
   "metadata": {},
   "source": [
    "**9. Write a while loop to print [Fibonacci number](https://www.mathsisfun.com/numbers/fibonacci-sequence.html) upto 10.**"
   ]
  },
  {
   "cell_type": "code",
   "execution_count": 1,
   "metadata": {},
   "outputs": [
    {
     "name": "stdout",
     "output_type": "stream",
     "text": [
      "0\n",
      "1\n",
      "1\n",
      "2\n",
      "3\n",
      "5\n",
      "8\n"
     ]
    }
   ],
   "source": [
    "# Each Fibonacci num is a summation of the immediate past two numbers\n",
    "x1 = 0  \n",
    "x2 = 1\n",
    "\n",
    "print(x1)\n",
    "while (x2 <= 10):\n",
    "    print(x2)\n",
    "    next_fibo_num = x1 + x2\n",
    "    # keep the last two numbers for caculating the next\n",
    "    x1 = x2\n",
    "    x2 = next_fibo_num"
   ]
  },
  {
   "cell_type": "markdown",
   "metadata": {},
   "source": [
    "**10. Write a for loop to print the first 10 [Fibonacci numbers](https://www.mathsisfun.com/numbers/fibonacci-sequence.html) as well as create a dictioary to store the items where key is the index and value is the Fibonacci number.**"
   ]
  },
  {
   "cell_type": "code",
   "execution_count": null,
   "metadata": {},
   "outputs": [],
   "source": [
    "# Each Fibonacci num is a summation of the immediate past two numbers\n",
    "x1 = 0  \n",
    "x2 = 1\n",
    "\n",
    "res = {}\n",
    "for i in range(0, 10):\n",
    "    print(f\"{i} ==> {x1}\")\n",
    "    res[i] = x1\n",
    "    next_fibo_num = x1 + x2\n",
    "    x1, x2 = x2, next_fibo_num  # peforming both ssignments in a statement\n",
    "        \n",
    "print(f\"Dictionary = {res}\")"
   ]
  }
 ],
 "metadata": {
  "kernelspec": {
   "display_name": "Python 3",
   "language": "python",
   "name": "python3"
  },
  "language_info": {
   "codemirror_mode": {
    "name": "ipython",
    "version": 3
   },
   "file_extension": ".py",
   "mimetype": "text/x-python",
   "name": "python",
   "nbconvert_exporter": "python",
   "pygments_lexer": "ipython3",
   "version": "3.7.3"
  }
 },
 "nbformat": 4,
 "nbformat_minor": 2
}
