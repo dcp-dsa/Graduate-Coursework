{
 "cells": [
  {
   "cell_type": "markdown",
   "metadata": {},
   "source": [
    "# Python Control Structures\n",
    "---\n",
    "\n",
    "This notebook is a reference notebook with syntax and usage examples.\n",
    "\n",
    "Flow control is critical for all true problem solving solutions developed using programming languages.  Therefore we provide some review and some additional, advanced flow control concepts.\n",
    " \n",
    " \n",
    "**Note:** We are politely ignoring exception handling and event-driven elements of advanced control structures, for the moment.\n",
    "\n",
    "### Table of Contents\n",
    "\n",
    "* [Condition](#Condition)\n",
    "* [Logic-based control flow](#Logic-based-control-flow)\n",
    "    * [if](#IF)\n",
    "    * [if-else](#IF-->-ELSE)\n",
    "    * [if-else if-else](#IF-->-ELSE-IF-->-ELSE)\n",
    "    * [Nested ifs](#Nested-ifs)\n",
    "* [Iteration or Looping](#Iteration or Looping)\n",
    "    * [For Loop](#FOR)\n",
    "        * [Enumeration](#Looping-with-enumerate)\n",
    "        * [Simple Repeat Loop](#Simple-Repeat-Loop)\n",
    "    * [While Loop](#WHILE)\n",
    "    * [Nested loops](#Nested-loops)\n",
    "* [Other control statement](#Other-control-statement)\n",
    "    * [Break statement](#The-break-statement)\n",
    "    * [Continue statement](#The-continue-statement)\n",
    "    * [With statement](#The-with-control-statement)"
   ]
  },
  {
   "cell_type": "markdown",
   "metadata": {},
   "source": [
    "## Condition\n",
    "<div style=\"text-align:right\"><a href=\"#Table-of-Contents\">[toc]</a></div>\n",
    "\n",
    "A condition is a boolean expression, which can be either `True` or `False`. The term `condition` is used extensively below; many of the following control statements use logical conditionals or relational conditionals. \n",
    "\n",
    "A `condition` is defined thus:\n",
    "\n",
    "```\n",
    "<condition> = True | False | <Evaluatable to True> | <Evaluatable to False>\n",
    "```\n",
    "\n",
    "A boolean expression can be formed in many way; two of them are as follows (also covered in Module 1). \n",
    "\n",
    "### Relational operators\n",
    "\n",
    "Relational operators or comparison operators produce boolean values. These operators include `==`, `!=`, `<`, `<=`, `>`, `>=`. E.g., if two variables `x`, and `y` has values 5 and 7, respectively, then the expression `x == y` will produce `False` value. \n",
    "\n",
    "A common error is to use a single equal sign (`=`) instead of a double equal sign (`==`). Remember that `=` is an assignment operator and `==` is a relational operator. There is no such thing as `=<` or `=>`.\n",
    "\n",
    "### Logical operators\n",
    "\n",
    "Logical operators are used to combine expressions. There are three logical operators: `and`, `or`, and `not`. E.g., the expression `not(x < 5 and x < 10)` will produce `True` and `False` for `x=6` and `x=3`, respectively. \n",
    "\n",
    "Other expressions that boolean values are identity operators and membership operators. See [here](https://www.w3schools.com/python/python_operators.asp) to learn more. \n",
    "\n",
    "\n",
    "### Truth values vs Truthy and Falsy values\n",
    "\n",
    "The above discussion of boolean expression is related to truth values. But there is another important concept in Python, which is truthy or falsy values, which can also be appear in condtion (we will see such examples in the following subsection). In Python, any individual values can evaluate to either True or False, and these individual values may NOT be a resultant of a boolean or relational expression. Any object can be tested for truth value. E.g., if x is numeric variable and `x=0`, then `x` will evaluated as `False`, and if `x` is any non-zero value then `x` will be evaluated to `True`. An empty list (`[]`) or dictionary (`{}`) is evaluated to be False; whereas, a non-empty list or dictionary is evaluated to be True. Read 1.A to learn more. \n",
    "\n",
    "Further, almost all statements, function calls, and values can be evaluated to True or False. Refer to the Python documentation for more, or simply try `bool(<expression>)` to see if it will work."
   ]
  },
  {
   "cell_type": "code",
   "execution_count": 9,
   "metadata": {},
   "outputs": [
    {
     "name": "stdout",
     "output_type": "stream",
     "text": [
      "True\n",
      "this is a list\n"
     ]
    }
   ],
   "source": [
    "x = 10\n",
    "y = 5\n",
    "\n",
    "ret = x > y\n",
    "# print(type(ret))\n",
    "ret\n",
    "\n",
    "ret = (x > 1) or (y > 5)  # logical: and, or, not\n",
    "ret\n",
    "\n",
    "l = [3, 4]\n",
    "\n",
    "print(bool(l))\n",
    "\n",
    "if l:\n",
    "    print('this is a list')\n"
   ]
  },
  {
   "cell_type": "markdown",
   "metadata": {},
   "source": [
    "## Logic-based control flow\n",
    "<div style=\"text-align:right\"><a href=\"#Table-of-Contents\">[toc]</a></div>\n",
    "\n",
    "We can control what code is executed by using the `if`, `if -> else`, and `if -> else if -> else` control structures. \n",
    "The format is generally the keyword (one of: if, elif, or else) followed by a condition. If that condition is true, the code in that block will be executed. Otherwise, the code is ignored. \n"
   ]
  },
  {
   "cell_type": "markdown",
   "metadata": {},
   "source": [
    "### IF\n",
    "<div style=\"text-align:right\"><a href=\"#Table-of-Contents\">[toc]</a></div>\n",
    "\n",
    "**Syntax:**\n",
    "```python\n",
    "if (<condition>):\n",
    "    <action/algorithm/a sequence of satement>\n",
    "```\n",
    "**<span style=\"background:yellow\">Reminder: The parenthesis are optional syntactically. We will use them occasionally.</span>** \n",
    "<!--They are usually helpful to have, and will be used in most examples in this course.-->"
   ]
  },
  {
   "cell_type": "code",
   "execution_count": null,
   "metadata": {
    "scrolled": false
   },
   "outputs": [],
   "source": [
    "if (True):\n",
    "    print('This will print.')\n",
    "    \n",
    "if (False):\n",
    "    print('This will not print.')\n",
    "\n",
    "x = 10\n",
    "\n",
    "if x > 10: \n",
    "    print('This will not print.')\n",
    "\n",
    "if x <= 10: \n",
    "    print('The value is less than 10. This will print.')\n",
    "    \n",
    "if x:  # Note this is not typical boolean or relation expration, but a variablte, which is evaluted to be true\n",
    "    print('This will print as x is evaluated to be true.')\n",
    "\n",
    "alist = []\n",
    "\n",
    "if alist:\n",
    "    print('This list is empty. This will not print.')\n",
    "\n",
    "aset = set([1, 3, 5])\n",
    "if aset:\n",
    "    print('This set is not empty. This will print.')\n",
    "\n",
    "\n",
    "x = 3\n",
    "if x in aset:  # membership operator    \n",
    "    print('This value belongs to the set. This will print.')\n",
    "\n",
    "y = x\n",
    "if x is y:\n",
    "    print('x and y are pointing to the same memory location which contains value 3. This will print')"
   ]
  },
  {
   "cell_type": "markdown",
   "metadata": {},
   "source": [
    "### IF -> ELSE\n",
    "<div style=\"text-align:right\"><a href=\"#Table-of-Contents\">[toc]</a></div>\n",
    "\n",
    "**Syntax:**\n",
    "```python\n",
    "if ({condition}):\n",
    "    <action/algorithm>\n",
    "else: \n",
    "    <action/algorithm>\n",
    "```\n",
    "Sometimes it is useful to cover both if a condition is true and if the condition is false. \n",
    "The if -> else syntax is great for this scenario."
   ]
  },
  {
   "cell_type": "code",
   "execution_count": null,
   "metadata": {
    "scrolled": false
   },
   "outputs": [],
   "source": [
    "# Try setting this to things other than 'yes' to see what happens...\n",
    "the_answer = 'yes'\n",
    "# the_answer = 'stop'\n",
    "if the_answer == 'yes':\n",
    "    print('The answer was yes!')\n",
    "else:\n",
    "    print('The answer was not yes.')\n",
    "    print('The answer was instead: ' + the_answer)"
   ]
  },
  {
   "cell_type": "markdown",
   "metadata": {},
   "source": [
    "### IF -> ELSE IF -> ELSE\n",
    "<div style=\"text-align:right\"><a href=\"#Table-of-Contents\">[toc]</a></div>\n",
    "\n",
    "**Syntax:**\n",
    "```python\n",
    "if (<condition>):\n",
    "    <action/algorithm>\n",
    "elif (<condition>): \n",
    "    <action/algorithm>\n",
    "else:\n",
    "    <action/algorithm>\n",
    "\n",
    "```\n",
    "\n",
    "To extend our previous line of reasoning, we also can use the if -> elif -> else structure. "
   ]
  },
  {
   "cell_type": "code",
   "execution_count": null,
   "metadata": {
    "scrolled": false
   },
   "outputs": [],
   "source": [
    "# We can have multiple if statements logically linked together...\n",
    "user_said = input(\"Should we keep going? (yes/no): \")\n",
    "\n",
    "if user_said == 'yes':\n",
    "    print('We will continue forward!')\n",
    "elif user_said == 'no':\n",
    "    print(\"Let's rest here for now.\")\n",
    "else:\n",
    "    print(\"I didn't understand the answer...\")"
   ]
  },
  {
   "cell_type": "markdown",
   "metadata": {},
   "source": [
    "There can be more than one `elif` statement."
   ]
  },
  {
   "cell_type": "code",
   "execution_count": null,
   "metadata": {},
   "outputs": [],
   "source": [
    "score = 86\n",
    "\n",
    "if score > 90:\n",
    "    print(\"Your grade is A.\")\n",
    "elif 80 < score <= 90:\n",
    "    print(\"Your grade is B.\")\n",
    "elif 70 < score <= 80:\n",
    "    print(\"Your grade is C.\")\n",
    "elif 60 < score <= 70:\n",
    "    print(\"Your grade is D.\")\n",
    "else:\n",
    "    print(\"Your grade is F.\")"
   ]
  },
  {
   "cell_type": "markdown",
   "metadata": {},
   "source": [
    "### Full Syntax\n",
    "<div style=\"text-align:right\"><a href=\"#Table-of-Contents\">[toc]</a></div>\n",
    "\n",
    "The observant student may have noticed that the if, elif, and else control structures are all related. \n",
    "Indeed, the if control structure can be succinctly defined like so:\n",
    "\n",
    "```python\n",
    "if (<condition>):\n",
    "   <action/algorithm>\n",
    "[elif (<condition>):\n",
    "    <action/algorithm>]  # this part can be repeated for more than one options\n",
    "[else:\n",
    "    <action/algorithm>]\n",
    "```\n",
    "\n",
    "When defined this way, you can see that `elif` and `else` are just optional parts of the `if` control structure. Here `[]` is used for showing that part to be optional.\n",
    "\n",
    "**Note:** There are other situations (e.g. with For loop) that the `else` keyword can be used; do not assume that it is only part of the `if` control structure."
   ]
  },
  {
   "cell_type": "markdown",
   "metadata": {},
   "source": [
    "### Nested ifs\n",
    "<div style=\"text-align:right\"><a href=\"#Table-of-Contents\">[toc]</a></div>\n",
    "\n",
    "If, if-else, and if-elif-else can also be placed within another if, elif, or else statement, and we call such a construct a nested ifs. \n",
    "\n",
    "See the below example:"
   ]
  },
  {
   "cell_type": "code",
   "execution_count": null,
   "metadata": {
    "scrolled": false
   },
   "outputs": [],
   "source": [
    "x = 10\n",
    "y = 12\n",
    "\n",
    "if x > y:\n",
    "    print(\"x > y\")\n",
    "elif x < y:\n",
    "    print(\"x < y\")\n",
    "    if x==10:\n",
    "        print(\"x = 10\")\n",
    "    else:\n",
    "        print(\"invalid\")\n",
    "else:\n",
    "    print(\"x = y\")"
   ]
  },
  {
   "cell_type": "markdown",
   "metadata": {},
   "source": [
    "## Iteration or Looping\n",
    "\n",
    "Computers are well-known for performing repeatitive task without any mistakes where humans do poorly. In this section we will learn about two looping mechanism: `for` and `while`. \n",
    "\n",
    "### FOR\n",
    "<div style=\"text-align:right\"><a href=\"#Table-of-Contents\">[toc]</a></div>\n",
    "\n",
    "A `for` loop is used to iterate over a collection or iterable (i.e, an object that we can iterate over). The collection can be a list, a number range, etc.\n",
    "\n",
    "The syntax is \n",
    "```python\n",
    "for <variable> {, variable} in <collection/iterable>:\n",
    "    <action/algorithm>\n",
    "```\n",
    "\n",
    "The above syntax is explained here and used throughout the course periodically:\n",
    "\n",
    " * Braces, `{` and `}`, mean that this part is _repeated_ 0 or more times. \n",
    " * Brackets, `[` and `]`, mean that this section is _optional_ and appears at most once.\n",
    " * Parenthesis, `(` and `),` are used for grouping, but can also be used to highlight optional syntax. We will do our best to be unambiguous where these are used.\n",
    " * Angle brackets, `<` and `>`, are used to denote a _required_ section\n",
    " * The words within each pair are an English description of that part, not literal syntax.\n",
    " * The rest of the syntax is literal and meant to be used verbatim.\n",
    "  \n",
    "  \n",
    "Hopefully this will be made clear in the following examples."
   ]
  },
  {
   "cell_type": "code",
   "execution_count": null,
   "metadata": {
    "scrolled": false
   },
   "outputs": [],
   "source": [
    "# printing every item in a list.\n",
    "fruit = ['Apple', 'Banana', 'Grape Fruit', 'Kiwi']\n",
    "for each_fruit in fruit:\n",
    "    print(each_fruit)\n",
    "    "
   ]
  },
  {
   "cell_type": "code",
   "execution_count": 10,
   "metadata": {},
   "outputs": [
    {
     "data": {
      "text/plain": [
       "[10, 14, 18, 22, 26]"
      ]
     },
     "execution_count": 10,
     "metadata": {},
     "output_type": "execute_result"
    }
   ],
   "source": [
    "l = list(range(10, 30, 4))\n",
    "l"
   ]
  },
  {
   "cell_type": "code",
   "execution_count": 11,
   "metadata": {},
   "outputs": [],
   "source": [
    "?range"
   ]
  },
  {
   "cell_type": "code",
   "execution_count": null,
   "metadata": {},
   "outputs": [],
   "source": [
    "\n",
    "# Using a range to run a loop a set number of times.\n",
    "for i in range(20):  # range is a handy function to iterate any number of times\n",
    "    print(i)\n",
    "print(\"-\" * 10)\n",
    "for i in range(1,11):  \n",
    "    print(i)\n"
   ]
  },
  {
   "cell_type": "code",
   "execution_count": null,
   "metadata": {},
   "outputs": [],
   "source": [
    "#It is possible to iterate over nested structures,\n",
    "# such as this list of lists\n",
    "list_of_lists = [[1, 2, 3], [4, 5, 6], [7, 8, 9]]\n",
    "for list1 in list_of_lists:\n",
    "        print(list1)"
   ]
  },
  {
   "cell_type": "code",
   "execution_count": null,
   "metadata": {},
   "outputs": [],
   "source": [
    "#Iterate over a list of tuples, unpacking their arguments. \n",
    "list_of_tuples = [(0,2),(3,5),(6,8)]\n",
    "for x, y in list_of_tuples:\n",
    "    print(\"x: {}, y: {}\".format(x,y))"
   ]
  },
  {
   "cell_type": "markdown",
   "metadata": {},
   "source": [
    "### Looping with enumerate\n",
    "<div style=\"text-align:right\"><a href=\"#Table-of-Contents\">[toc]</a></div>\n",
    "\n",
    "When we iterate over a collection (e.g. list), sometimes we need to access the element as well as the index of the element in that collection (which can be thought of as a counter). A built-in function `enumerate` is a handy one to provide such index automatically."
   ]
  },
  {
   "cell_type": "code",
   "execution_count": null,
   "metadata": {},
   "outputs": [],
   "source": [
    "for indx, value in enumerate(fruit):\n",
    "    print(f\"{indx}. {value}\")\n"
   ]
  },
  {
   "cell_type": "markdown",
   "metadata": {},
   "source": [
    "There is an optional argument in `enumerate` that allows us to tell enumerate from where to start the index. "
   ]
  },
  {
   "cell_type": "code",
   "execution_count": null,
   "metadata": {},
   "outputs": [],
   "source": [
    "for indx, value in enumerate(fruit, 100):\n",
    "    print(f\"{indx}. {value}\")\n"
   ]
  },
  {
   "cell_type": "markdown",
   "metadata": {},
   "source": [
    "### Simple Repeat Loop\n",
    "<div style=\"text-align:right\"><a href=\"#Table-of-Contents\">[toc]</a></div>\n",
    "\n",
    "The examples above all used the value of the variable in the for loop heading. An even simpler for loop usage is when you just want to repeat the exact same thing a specific number of times. In that case only the length of the sequence, not the individual elements are important. We have already seen that the `range` function provides an easy way to produce a sequence with a specified number of elements.\n"
   ]
  },
  {
   "cell_type": "code",
   "execution_count": null,
   "metadata": {},
   "outputs": [],
   "source": [
    "''' A simple repeat loop'''\n",
    "for i in range(5): \n",
    "    print('Hello')  # we haven't use the i variable here"
   ]
  },
  {
   "cell_type": "markdown",
   "metadata": {},
   "source": [
    "In this situation, the variable `i` is not used inside the body of the for-loop. \n",
    "\n",
    "When you are reading code, you look at variable names as they are introduced, and see where they are used later. In the simple repeat loops above, the loop variable i is introduced, because there must be a variable name there, but it is never used.\n",
    "\n",
    "One convention to indicate the simple repeat loop variable is never used again, is to use the special variable name _ (just an underscore), as in:"
   ]
  },
  {
   "cell_type": "code",
   "execution_count": null,
   "metadata": {},
   "outputs": [],
   "source": [
    "for _ in range(5): \n",
    "    print('Hello')"
   ]
  },
  {
   "cell_type": "markdown",
   "metadata": {},
   "source": [
    "### WHILE\n",
    "<div style=\"text-align:right\"><a href=\"#Table-of-Contents\">[toc]</a></div>\n",
    "\n",
    "A `while` loop can be used to repeat a block of code while the condition is true. \n",
    "\n",
    "The syntax is:\n",
    "\n",
    "```python\n",
    "while (<condition>):\n",
    "    <action/algorithm>\n",
    "```\n",
    "\n",
    "The parens `(` and `)` in the `while` control statement are optional. \n",
    "However, they are usually preferred since they are a minor inconvenience to type and add significant clarity to the code when the logic becomes complex."
   ]
  },
  {
   "cell_type": "code",
   "execution_count": null,
   "metadata": {
    "scrolled": false
   },
   "outputs": [],
   "source": [
    "# Using a while loop to loop until some condition is no longer true.\n",
    "x = 5\n",
    "while (x > 0):\n",
    "    print(x)\n",
    "    x = x - 1 # Decrement x so that the condition will eventually be false.\n"
   ]
  },
  {
   "cell_type": "code",
   "execution_count": null,
   "metadata": {},
   "outputs": [],
   "source": [
    "#The below example can be thought of as a \"do-while\" if you are familiar\n",
    "# with that control structure. In Python, this is the closest\n",
    "# you can come to a do-while.\n",
    "keep_going = input('Keep going?(y/n): ')\n",
    "while (keep_going == 'y'):\n",
    "    keep_going = input('Keep going?(y/n): ')\n"
   ]
  },
  {
   "cell_type": "markdown",
   "metadata": {},
   "source": [
    "## Nested loops\n",
    "\n",
    "It is possible to have loops inside a loop. This type of construct is called a nested loop. The following example iterates of numbers 1 to 7 and generates factorial for each of them. Factorial of positive integer $n$ is defined as $n! = n * (n-1) * ... * 1$\n"
   ]
  },
  {
   "cell_type": "code",
   "execution_count": 12,
   "metadata": {},
   "outputs": [
    {
     "name": "stdout",
     "output_type": "stream",
     "text": [
      "1 ==> 1\n",
      "2 ==> 2\n",
      "3 ==> 6\n",
      "4 ==> 24\n",
      "5 ==> 120\n",
      "6 ==> 720\n",
      "7 ==> 5040\n"
     ]
    }
   ],
   "source": [
    "for i in range(1, 8):\n",
    "    fact = 1\n",
    "    for j in range(1, i+1):\n",
    "        fact = fact * j\n",
    "    print(f\"{i} ==> {fact}\")"
   ]
  },
  {
   "cell_type": "markdown",
   "metadata": {},
   "source": [
    "It possible to have mixing of `while` and `for` loops. "
   ]
  },
  {
   "cell_type": "markdown",
   "metadata": {},
   "source": [
    "## Other control statement"
   ]
  },
  {
   "cell_type": "markdown",
   "metadata": {},
   "source": [
    "### The `break` statement\n",
    "<div style=\"text-align:right\"><a href=\"#Table-of-Contents\">[toc]</a></div>\n",
    "\n",
    "Sometimes we need to exit the loop if a condition is met. E.g., we are searching a word within a list of words using a for loop. If the word is present in this list and the word is not the last word in the list, then we will find a match before reaching the last word of the list. In this scenario, if we continue iterating over the list after the match is found, then it is not an efficient program. A break statement helps us to exit early.\n",
    "\n",
    "A break statement allows us to exit a loop in some way other than the loop declaration. It is a single keyword used where you want the loop to exit. This is an unconditional keyword; there is nothing about the break statement *itself* that does a comparison.\n",
    "\n",
    "This sort of \"default\" behavior of an unconditional exit is not usually very useful on its own.\n",
    "As a result, most of the time you will see the break statement used just after a conditional *if* statement. \n",
    "What this means is that we can conditionally exit from a loop based on something other than the conditions in the loop declaration. \n",
    "\n",
    "This effectively allows us to have multiple exit points for our loop. "
   ]
  },
  {
   "cell_type": "code",
   "execution_count": null,
   "metadata": {
    "scrolled": false
   },
   "outputs": [],
   "source": [
    "for i in range(100): # Here, the loop will exit when i reaches the value 100\n",
    "    print(i)\n",
    "    if i>=7:\n",
    "        # Because of this break and the preceding if \n",
    "        # the loop will exit when i reaches the value 7.\n",
    "        break "
   ]
  },
  {
   "cell_type": "markdown",
   "metadata": {},
   "source": [
    "The above example is a naive one, and it not usually very useful to use a break statement with the variable used in the loop declaration. \n",
    "Usually, programmers will use the loop declaration to unconditionally loop some number of times and use a conditional break in order to prematurely exit the loop based on the value of some *other* variable. "
   ]
  },
  {
   "cell_type": "markdown",
   "metadata": {},
   "source": [
    "### The `continue` statement\n",
    "----\n",
    "\n",
    "The `continue` statement is similar to the `break` statement, with one important exception. \n",
    "Rather than exit the loop entirely as in `break`, the `continue` statement returns to the top of the loop, skipping the body of the loop below it."
   ]
  },
  {
   "cell_type": "code",
   "execution_count": 13,
   "metadata": {
    "scrolled": false
   },
   "outputs": [
    {
     "name": "stdout",
     "output_type": "stream",
     "text": [
      "i: 4\n",
      "i: 5\n",
      "i: 6\n",
      "i: 7\n",
      "i: 8\n",
      "i: 9\n"
     ]
    }
   ],
   "source": [
    "for i in range(10):\n",
    "    if i < 4:\n",
    "        continue\n",
    "    #The below print is skipped when i is less than 4\n",
    "    print(\"i: {}\".format(i))"
   ]
  },
  {
   "cell_type": "markdown",
   "metadata": {},
   "source": [
    "### The `with` control statement\n",
    "----\n",
    "\n",
    "The `with` statement / control structure allows us to be certain that certain \"clean up\" actions are taken, even if an error occurs that would normally prevent those clean-up actions from happening. \n",
    "\n",
    "For example, when used with files, the `with` structure allows us to ensure that the file is always closed, even if something we do in the code block throws an error exception. We will learn about File Input/Output in Module 3. "
   ]
  },
  {
   "cell_type": "code",
   "execution_count": null,
   "metadata": {
    "scrolled": false
   },
   "outputs": [],
   "source": [
    "# Opening a file. \n",
    "with open('/dsa/data/all_datasets/gen_data.rb', 'r'):\n",
    "    print('The file is open!')\n",
    "    \n",
    "# After the with-block, the file is auto-magically closed.\n"
   ]
  },
  {
   "cell_type": "code",
   "execution_count": null,
   "metadata": {
    "scrolled": false
   },
   "outputs": [],
   "source": [
    "# What happens if we try to read a file that doesn't exist?\n",
    "with open('ThisFileDoesNotExist.example', 'r'):\n",
    "    print('The file is open!')\n"
   ]
  },
  {
   "cell_type": "markdown",
   "metadata": {},
   "source": [
    "As you can see, if an exception occurs while setting up a with-block, that exception is thrown and the code statements will not be run.  \n",
    "\n",
    "Below is some **unexecutable** example code for opening, reading from, and writing to files. Note that this code is for visual reference only, i.e. it will not execute.  We will learn about File Input/Output in Lesson 4. "
   ]
  },
  {
   "cell_type": "markdown",
   "metadata": {},
   "source": [
    "```python\n",
    "with open('test.file', 'w') as file:\n",
    "    file.write('This is the first line.\\n')\n",
    "    file.write('This is the second line.\\n')\n",
    "\n",
    "with open('test.file', 'r') as file:\n",
    "    lines = file.readlines()\n",
    "\n",
    "for line in lines:\n",
    "    print(line)\n",
    "```"
   ]
  },
  {
   "cell_type": "markdown",
   "metadata": {},
   "source": [
    "# Save your Notebook"
   ]
  }
 ],
 "metadata": {
  "kernelspec": {
   "display_name": "Python 3",
   "language": "python",
   "name": "python3"
  },
  "language_info": {
   "codemirror_mode": {
    "name": "ipython",
    "version": 3
   },
   "file_extension": ".py",
   "mimetype": "text/x-python",
   "name": "python",
   "nbconvert_exporter": "python",
   "pygments_lexer": "ipython3",
   "version": "3.7.3"
  }
 },
 "nbformat": 4,
 "nbformat_minor": 1
}
