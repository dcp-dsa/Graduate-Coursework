{
 "cells": [
  {
   "cell_type": "markdown",
   "metadata": {},
   "source": [
    "# Lambda Function, Map, Filter, Reduce, and List Comprehension\n",
    "\n",
    "In Lesson 1, we leaned how loop over a collection (e.g., List) with  a for loop or while loop. In this section we discuss a special type of function in Python called lambda function; two built-in functions that can apply functions on each elelement of a collection; and list comprehension, which allows to write a concise loop. "
   ]
  },
  {
   "cell_type": "markdown",
   "metadata": {},
   "source": [
    "### Table of Contents\n",
    "* [Lambda Functions](#Lambda-Functions)\n",
    "* [Map](#Map)\n",
    "* [Filter](#Filter)\n",
    "* [Reduce](#Reduce)\n",
    "* [List Comprehension](#List-Comprehension)"
   ]
  },
  {
   "cell_type": "markdown",
   "metadata": {},
   "source": [
    "## Lambda Functions\n",
    "<div style=\"text-align:right\"><a href=\"#Table-of-Contents\">[toc]</a></div>\n",
    "\n",
    "Lambda functions are **small functions** that are not defined with a specific name (**anonymous**) and **carry a single expression** whose result is then returned.\n",
    "Lambda functions are very handy when operating with lists and dictionary. \n",
    "These functions are defined by the keyword **lambda** followed by the variables, a colon, and the respective expression.\n",
    "\n",
    "In the statement below, the variable z is assigned a **lambda** function that takes a single argument x and generates the result of `x * x`, or x-squared."
   ]
  },
  {
   "cell_type": "code",
   "execution_count": null,
   "metadata": {},
   "outputs": [],
   "source": [
    "z = lambda x: x * x   # it is equivalent to math function: f(x) = x**2"
   ]
  },
  {
   "cell_type": "code",
   "execution_count": null,
   "metadata": {},
   "outputs": [],
   "source": [
    "print(z)\n",
    "print(z(2))\n",
    "print(z(4))"
   ]
  },
  {
   "cell_type": "markdown",
   "metadata": {},
   "source": [
    "## Map\n",
    "<div style=\"text-align:right\"><a href=\"#Table-of-Contents\">[toc]</a></div>\n",
    "\n",
    "**map( )** executes the function that is defined for each of the list's elements separately. The map function takes two arguments—a function and an iterable—and it applies the function to each element of the iterable, generating a new iterable.\n"
   ]
  },
  {
   "cell_type": "code",
   "execution_count": 7,
   "metadata": {},
   "outputs": [
    {
     "name": "stdout",
     "output_type": "stream",
     "text": [
      "[1, 2, 3, 4, 5, 6, 7, 8, 9]\n",
      "[1, 2, 3, 4, 5, 6, 7, 8, 9]\n"
     ]
    }
   ],
   "source": [
    "list1 = [1,2,3,4,5,6,7,8,9]\n",
    "print(list1)\n",
    "\n",
    "# we could have defined the above list as follows (which is concise and not a manual process)\n",
    "list1 = list(range(1, 10))\n",
    "print(list1)"
   ]
  },
  {
   "cell_type": "code",
   "execution_count": 5,
   "metadata": {},
   "outputs": [
    {
     "name": "stdout",
     "output_type": "stream",
     "text": [
      "[3, 4, 5, 6, 7, 8, 9, 10, 11]\n"
     ]
    }
   ],
   "source": [
    "ex = list(map(lambda x:x+2, list1))\n",
    "print(ex)"
   ]
  },
  {
   "cell_type": "markdown",
   "metadata": {},
   "source": [
    "Now compare the above with the following code which accomplishes the same thing. "
   ]
  },
  {
   "cell_type": "code",
   "execution_count": 4,
   "metadata": {},
   "outputs": [
    {
     "name": "stdout",
     "output_type": "stream",
     "text": [
      "[3, 4, 5, 6, 7, 8, 9, 10, 11]\n"
     ]
    }
   ],
   "source": [
    "res = []\n",
    "for x in list1:\n",
    "    res.append(x + 2)\n",
    "print(res)"
   ]
  },
  {
   "cell_type": "markdown",
   "metadata": {},
   "source": [
    "The key difference between `map` and `for` loop is that `map` accomplises the task in a line of code and usually runs faster than the for loop, but unlike `for` there is no early exit with `break` in `map`. "
   ]
  },
  {
   "cell_type": "markdown",
   "metadata": {},
   "source": [
    "You can also add two lists. Compare this implementation with `for` loop implmentation for the same task."
   ]
  },
  {
   "cell_type": "code",
   "execution_count": null,
   "metadata": {},
   "outputs": [],
   "source": [
    "list2 = [9,8,7,6,5,4,3,2,1]"
   ]
  },
  {
   "cell_type": "code",
   "execution_count": null,
   "metadata": {},
   "outputs": [],
   "source": [
    "ex2 = list(map(lambda x,y:x+y, list1,list2))  # apply the function f(x, y) = x + y on each element of the list\n",
    "print(ex2)"
   ]
  },
  {
   "cell_type": "markdown",
   "metadata": {},
   "source": [
    "Not that other built in functions can also be used just like lambda functions."
   ]
  },
  {
   "cell_type": "code",
   "execution_count": null,
   "metadata": {},
   "outputs": [],
   "source": [
    "ex3 = list(map(str,ex2))  # apply the built-in function `str` on each element of the list\n",
    "print(ex3)"
   ]
  },
  {
   "cell_type": "markdown",
   "metadata": {},
   "source": [
    "### Q. Can we use a named function instead of a lambda function?\n",
    "\n",
    "Yes, it is possible. See the following code. \n"
   ]
  },
  {
   "cell_type": "code",
   "execution_count": 13,
   "metadata": {},
   "outputs": [
    {
     "name": "stdout",
     "output_type": "stream",
     "text": [
      "[1, 4, 7, 10, 13]\n"
     ]
    },
    {
     "data": {
      "text/plain": [
       "[1, 16, 49, 100, 169]"
      ]
     },
     "execution_count": 13,
     "metadata": {},
     "output_type": "execute_result"
    }
   ],
   "source": [
    "def myfunc(x): \n",
    "    return x**2\n",
    "\n",
    "mylist = list(range(1, 15, 3))\n",
    "print(mylist)\n",
    "list(map(myfunc, mylist))"
   ]
  },
  {
   "cell_type": "markdown",
   "metadata": {},
   "source": [
    "## Filter\n",
    "<div style=\"text-align:right\"><a href=\"#Table-of-Contents\">[toc]</a></div>"
   ]
  },
  {
   "cell_type": "markdown",
   "metadata": {},
   "source": [
    "The funciton **filter( )** is used to filter out the values in a list. `filter` takes a function and an iterable and returns an iterable of all the elements of the list for which the function is true. The `filter` function returns an iterable. \n"
   ]
  },
  {
   "cell_type": "code",
   "execution_count": 5,
   "metadata": {},
   "outputs": [],
   "source": [
    "list1 = [1,2,3,4,5,6,7,8,9]"
   ]
  },
  {
   "cell_type": "markdown",
   "metadata": {},
   "source": [
    "The example below shows how to use filter to find the elements that are less than 5"
   ]
  },
  {
   "cell_type": "code",
   "execution_count": 18,
   "metadata": {},
   "outputs": [
    {
     "name": "stdout",
     "output_type": "stream",
     "text": [
      "[1, 2, 3, 4]\n",
      "<class 'list'>\n"
     ]
    }
   ],
   "source": [
    "res = list(filter(lambda x:x<5,list1))\n",
    "print(res)\n",
    "print(type(res))\n"
   ]
  },
  {
   "cell_type": "markdown",
   "metadata": {},
   "source": [
    "We can also use `map` and `filter` within `for` loop as they return iterables. E.g., "
   ]
  },
  {
   "cell_type": "code",
   "execution_count": 19,
   "metadata": {},
   "outputs": [
    {
     "name": "stdout",
     "output_type": "stream",
     "text": [
      "1\n",
      "2\n",
      "3\n",
      "4\n"
     ]
    }
   ],
   "source": [
    "for each in filter(lambda x:x<5,list1):\n",
    "    print(each)\n"
   ]
  },
  {
   "cell_type": "markdown",
   "metadata": {},
   "source": [
    "Notice what happens when **map()** is used instead of `filter`."
   ]
  },
  {
   "cell_type": "code",
   "execution_count": 7,
   "metadata": {},
   "outputs": [
    {
     "name": "stdout",
     "output_type": "stream",
     "text": [
      "True\n",
      "True\n",
      "True\n",
      "True\n",
      "False\n",
      "False\n",
      "False\n",
      "False\n",
      "False\n"
     ]
    }
   ],
   "source": [
    "for each in map(lambda x:x<5, list1):\n",
    "    print(each)"
   ]
  },
  {
   "cell_type": "markdown",
   "metadata": {},
   "source": [
    "From the above, we can see that whatever is returned as true in the **map( )** function that particular element is also returned when the **filter( )** function is used."
   ]
  },
  {
   "cell_type": "code",
   "execution_count": 13,
   "metadata": {},
   "outputs": [
    {
     "name": "stdout",
     "output_type": "stream",
     "text": [
      "4\n",
      "8\n"
     ]
    }
   ],
   "source": [
    "for each in filter(lambda x:x%4==0,list1):\n",
    "    print(each)"
   ]
  },
  {
   "cell_type": "markdown",
   "metadata": {},
   "source": [
    "Like we showed in `map`, we can use a named function instead of a filter. See the example below. "
   ]
  },
  {
   "cell_type": "code",
   "execution_count": 17,
   "metadata": {},
   "outputs": [
    {
     "name": "stdout",
     "output_type": "stream",
     "text": [
      "[1, 4, 7, 10, 13]\n"
     ]
    },
    {
     "data": {
      "text/plain": [
       "[4, 10]"
      ]
     },
     "execution_count": 17,
     "metadata": {},
     "output_type": "execute_result"
    }
   ],
   "source": [
    "def myfunc(x): \n",
    "    return x%2 == 0  # check if x is divisible by 2 (i.e even number)\n",
    "\n",
    "mylist = list(range(1, 15, 3))\n",
    "print(mylist)\n",
    "list(filter(myfunc, mylist))"
   ]
  },
  {
   "cell_type": "markdown",
   "metadata": {},
   "source": [
    "## <span style=\"background:yellow\">Your Turn</span>\n",
    "\n",
    "Check the statement in the cell above using the **map()** function...."
   ]
  },
  {
   "cell_type": "code",
   "execution_count": null,
   "metadata": {},
   "outputs": [],
   "source": [
    "# Write your function below:\n",
    "# -----------------------------\n",
    "\n"
   ]
  },
  {
   "cell_type": "markdown",
   "metadata": {},
   "source": [
    "## Reduce\n",
    "<div style=\"text-align:right\"><a href=\"#Table-of-Contents\">[toc]</a></div>\n",
    "\n",
    "The `reduce` function applies a function to the contents of a list. It used to be a built-in function, but in Python 3 it has also been moved to the functools module. In general, reduce takes a function and an iterable, and applies the function to the elements from left to right, accumulating the result. To understand it, first consider a simple example that adds up the numbers from 1 to 100."
   ]
  },
  {
   "cell_type": "code",
   "execution_count": 3,
   "metadata": {},
   "outputs": [
    {
     "name": "stdout",
     "output_type": "stream",
     "text": [
      "10\n",
      "10\n"
     ]
    }
   ],
   "source": [
    "from functools import reduce\n",
    "\n",
    "# the loop version for adding a set of numbers\n",
    "total = 0\n",
    "for i in range(1,5):\n",
    "    total = total + i\n",
    "print(total)\n",
    "\n",
    "# with reduce\n",
    "total = reduce(lambda x,y: x+y, range(1,5))\n",
    "print(total)"
   ]
  },
  {
   "cell_type": "markdown",
   "metadata": {},
   "source": [
    "## List Comprehension\n",
    "\n",
    "In the above discussion, we see that `map` and `filter` allow us to write concise, more readble, and faster code. It is also possible to accomplish all the functionality of these functions with list comprehension technique, which is creating new lists from other iterables. As list comprehensions return lists, they consist of brackets containing the expression, which is executed for each element along with the for loop to iterate over each element.\n",
    "\n",
    "Let's implement the list comprehension version of the first `map` example shown above. "
   ]
  },
  {
   "cell_type": "code",
   "execution_count": 23,
   "metadata": {},
   "outputs": [
    {
     "name": "stdout",
     "output_type": "stream",
     "text": [
      "[3, 4, 5, 6, 7, 8, 9, 10, 11]\n",
      "[3, 4, 5, 6, 7, 8, 9, 10, 11]\n",
      "[3, 4, 5, 6, 7, 8, 9, 10, 11]\n"
     ]
    }
   ],
   "source": [
    "list1 = list(range(1, 10))\n",
    "newlist1 = [x+2 for x in list1]  # f(x) = x + 2\n",
    "print(newlist1)\n",
    "\n",
    "# accomplishing the same task with a function\n",
    "def myfunc(x):\n",
    "    return x+2\n",
    "\n",
    "newlist2 = [myfunc(x) for x in list1]  # call myfunc for each x \n",
    "print(newlist2)\n",
    "\n",
    "# accomplishing the same task with a for loop \n",
    "newlist3 = []\n",
    "for x in list1:\n",
    "    newlist3.append(x+2)\n",
    "print(newlist3)"
   ]
  },
  {
   "cell_type": "markdown",
   "metadata": {},
   "source": [
    "As you can see the list comprehension is more concise and easier to read as compared to map and for loop. In addition, it can also perform filtering and reduce function. So this is a three-in-one technique. E.g., the first example for `filter` method can be done with list comprehension as follows: "
   ]
  },
  {
   "cell_type": "code",
   "execution_count": 24,
   "metadata": {},
   "outputs": [
    {
     "name": "stdout",
     "output_type": "stream",
     "text": [
      "[1, 2, 3, 4]\n"
     ]
    }
   ],
   "source": [
    "newlist4 = [x for x in list1 if x < 5]\n",
    "print(newlist4)"
   ]
  },
  {
   "cell_type": "markdown",
   "metadata": {},
   "source": [
    "From the above examples, we can see list comprehension has the following syntax with `if` condition.\n",
    "\n",
    "```python\n",
    "[f(x) for x in sequence if condition]\n",
    "```\n",
    "It is also possible to write a list comprehension with `if-else` condition also knows as [conditional expression](https://docs.python.org/3/reference/expressions.html#conditional-expressions). The syntax is as fllows: \n",
    "\n",
    "```python\n",
    "[f(x) if condition else g(x) for x in sequence]\n",
    "```\n",
    "\n",
    "E.g. the following snippet identifies whether the number in the list is odd or even. Here the part `'even' if x%2==0 else 'odd'` is called conditional expression."
   ]
  },
  {
   "cell_type": "code",
   "execution_count": 25,
   "metadata": {},
   "outputs": [
    {
     "name": "stdout",
     "output_type": "stream",
     "text": [
      "['odd', 'even', 'odd', 'even', 'odd', 'even', 'odd', 'even', 'odd']\n"
     ]
    }
   ],
   "source": [
    "newlist5 = ['even' if x%2==0 else 'odd' for x in list1]\n",
    "print(newlist5)"
   ]
  },
  {
   "cell_type": "markdown",
   "metadata": {},
   "source": [
    "**Q: How to iterate over two or more list simultaneously within list comprehension?**\n",
    "\n",
    "For working on more than one list simultaneosuly, we can take advantage of `zip` function. Python’s zip() function creates an iterator that will aggregate elements from two or more iterables. "
   ]
  },
  {
   "cell_type": "code",
   "execution_count": 31,
   "metadata": {},
   "outputs": [
    {
     "name": "stdout",
     "output_type": "stream",
     "text": [
      "[1, 2, 3, 4, 5, 6, 7, 8, 9]\n",
      "[9, 8, 7, 6, 5, 4, 3, 2, 1]\n",
      "[10, 10, 10, 10, 10, 10, 10, 10, 10]\n"
     ]
    }
   ],
   "source": [
    "list1 = list(range(1,10))\n",
    "list2 = list(range(9, 0, -1))\n",
    "print(list1)\n",
    "print(list2)\n",
    "\n",
    "newlist6 = [x+y for x, y in zip(list1,list2)]\n",
    "print(newlist6)"
   ]
  },
  {
   "cell_type": "markdown",
   "metadata": {},
   "source": [
    "**Note:** \n",
    "* **We cannot easily replace the `reduce` function with a list comprehenion.** \n",
    "* **Like list comprehension, there is a concept of dictionary comprehension. (Module 3)**"
   ]
  },
  {
   "cell_type": "markdown",
   "metadata": {},
   "source": [
    "## <span style=\"background:yellow\">Your Turn</span>\n",
    "\n",
    "Revisit the examples that are implemented with `map` and `filter` and try to reimplement them with list comprehension."
   ]
  },
  {
   "cell_type": "code",
   "execution_count": null,
   "metadata": {},
   "outputs": [],
   "source": []
  }
 ],
 "metadata": {
  "kernelspec": {
   "display_name": "Python 3",
   "language": "python",
   "name": "python3"
  },
  "language_info": {
   "codemirror_mode": {
    "name": "ipython",
    "version": 3
   },
   "file_extension": ".py",
   "mimetype": "text/x-python",
   "name": "python",
   "nbconvert_exporter": "python",
   "pygments_lexer": "ipython3",
   "version": "3.7.3"
  }
 },
 "nbformat": 4,
 "nbformat_minor": 2
}
