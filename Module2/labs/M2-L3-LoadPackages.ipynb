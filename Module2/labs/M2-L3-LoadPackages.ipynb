{
 "cells": [
  {
   "cell_type": "markdown",
   "metadata": {},
   "source": [
    "# Loading Packages into Python\n",
    "\n",
    "A package is a collection of Python modules: while a module is a single Python file, a package is a directory of Python modules. \n"
   ]
  },
  {
   "cell_type": "markdown",
   "metadata": {},
   "source": [
    "## The `import` statement \n",
    "\n",
    "A very thorough, and arguably authoritative, reference for `import` can be found here:  \n",
    "https://docs.python.org/3/reference/import.html  \n",
    "\n",
    "This lesson tries to summarize and add clarification to the official reference.\n",
    "\n",
    "\n",
    "In Python, the most common method to load someone else's pre-written code into our own program or script is through the `import` statement. There are a number of ways in which we can use the `import` statement, and we'll cover the most common uses below.\n",
    "\n",
    "In order to get some hands on examples, let's look at some modules that are included in the Python standard library. \n",
    "\n",
    "Note: The modules introduced below are included for examples of using import. For specific details about using each module, please refer to the official documentation for that module."
   ]
  },
  {
   "cell_type": "markdown",
   "metadata": {},
   "source": [
    "### The Pretty Print module\n",
    "\n",
    "The pretty print module is handy in that it provides a way for not-so-easy to read data structures to be printed in a human-readable format. "
   ]
  },
  {
   "cell_type": "code",
   "execution_count": null,
   "metadata": {
    "collapsed": true
   },
   "outputs": [],
   "source": [
    "# With the below syntax, we import the entire module and will have access to all of its functions. \n",
    "import pprint\n",
    "\n",
    "myList = ['I', 'do', 'not', 'like', 'green', 'eggs', 'and', 'ham', '.'] \n",
    "\n",
    "# Because we imported the whole module, we must specify that the function pprint() exists in the pprint module\n",
    "# An alternative syntax is introduced below\n",
    "pprint.pprint(myList)\n",
    "print(myList)"
   ]
  },
  {
   "cell_type": "markdown",
   "metadata": {},
   "source": [
    "As you can see, for our relatively small and simple list, there was no difference between calling print and calling the pprint method. The usefulness of the pprint module comes from its fine control of how things are printed, and its automatic formatting of otherwise unreadable data. Since this lesson focuses on importing, we will leave it to you to explore the pprint module further if you would like to."
   ]
  },
  {
   "cell_type": "code",
   "execution_count": null,
   "metadata": {
    "collapsed": true
   },
   "outputs": [],
   "source": [
    "# pretty print the list with a max width of 25 characters per line.\n",
    "pprint.pprint(myList, width=25)\n",
    "# Because it can not print the whole list on one line of 25 characters, it prints one entry per line\n",
    "\n",
    "print(myList) \n",
    "pprint.pprint(myList, width=80) "
   ]
  },
  {
   "cell_type": "markdown",
   "metadata": {},
   "source": [
    "Earlier, we mentioned an alternative import syntax that allowed us to not specify the module name when calling a function in that module. The pprint example is below:"
   ]
  },
  {
   "cell_type": "code",
   "execution_count": null,
   "metadata": {
    "collapsed": true
   },
   "outputs": [],
   "source": [
    "# from $module import $function\n",
    "from pprint import pprint\n",
    "\n",
    "# Notice, we no longer have to specify the pprint module first\n",
    "pprint(myList, width = 25)"
   ]
  },
  {
   "cell_type": "markdown",
   "metadata": {},
   "source": [
    "One caveat, and arguably nice feature, of the alternative syntax above is that *only* the function explicitly listed will be imported.  \n",
    "\n",
    "For example, in the below code we import the `ceil` function from the math library, but not the `floor` function, so we get a `NameError` exception."
   ]
  },
  {
   "cell_type": "code",
   "execution_count": null,
   "metadata": {
    "collapsed": true
   },
   "outputs": [],
   "source": [
    "from math import ceil\n",
    "print(ceil(5.5))\n",
    "print(floor(5.5)) # This will not work"
   ]
  },
  {
   "cell_type": "markdown",
   "metadata": {},
   "source": [
    "If, however, we import *both* functions, we can use them as you'd expect."
   ]
  },
  {
   "cell_type": "code",
   "execution_count": null,
   "metadata": {
    "collapsed": true
   },
   "outputs": [],
   "source": [
    "from math import ceil, floor\n",
    "print(ceil(5.5))\n",
    "print(floor(5.5))"
   ]
  },
  {
   "cell_type": "markdown",
   "metadata": {},
   "source": [
    "And one last reiteration just for posterity - here are the same operations with the originally proposed syntax:"
   ]
  },
  {
   "cell_type": "code",
   "execution_count": null,
   "metadata": {
    "collapsed": true
   },
   "outputs": [],
   "source": [
    "import math\n",
    "print(math.ceil(5.5))\n",
    "print(math.floor(5.5))"
   ]
  },
  {
   "cell_type": "markdown",
   "metadata": {},
   "source": [
    "## <span style=\"background:yellow\">You can try this now or we will come back on Module 3 when we learn about Pandas</span>\n",
    "\n",
    "Write some code that imports the [pandas library](https://pandas.pydata.org/), loads the provided dictionary into a **data frame**, and calculates the average of all person's incomes. \n",
    "For extra practice, pretty print the dictionary of dictionaries. \n",
    "The statistics module may also prove useful."
   ]
  },
  {
   "cell_type": "code",
   "execution_count": 6,
   "metadata": {},
   "outputs": [
    {
     "name": "stdout",
     "output_type": "stream",
     "text": [
      "                    Tyler                 Will                 Matt  \\\n",
      "Address  1453 Random Road  1424 Another Street  1323 Another Street   \n",
      "Salary             100000                 5000               100000   \n",
      "\n",
      "                     Richard  \n",
      "Address  1523 Another Street  \n",
      "Salary                  2000  \n",
      "--------------------------------------------------\n",
      "                     Address  Salary\n",
      "Tyler       1453 Random Road  100000\n",
      "Will     1424 Another Street    5000\n",
      "Matt     1323 Another Street  100000\n",
      "Richard  1523 Another Street    2000\n"
     ]
    }
   ],
   "source": [
    "# Some fake data to find an average from a pandas data frame after loading from a dictionary of dictionaries.\n",
    "\n",
    "employees = { \"Tyler\": { \"Address\": \"1453 Random Road\",\n",
    "                         \"Salary\": 100000\n",
    "                        },\n",
    "              \"Will\": { \"Address\": \"1424 Another Street\",\n",
    "                        \"Salary\": 5000\n",
    "                       },\n",
    "              \"Matt\": { \"Address\": \"1323 Another Street\",\n",
    "                        \"Salary\": 100000\n",
    "                       },\n",
    "              \"Richard\": { \"Address\": \"1523 Another Street\",\n",
    "                        \"Salary\": 2000\n",
    "                       }\n",
    "             }\n",
    "# -------------------------------\n",
    "# Add your code below this line\n",
    "# -------------------------------\n",
    "\n",
    "import pandas as pd\n",
    "\n",
    "data_frame = pd.DataFrame(employees)\n",
    "print(data_frame.head())\n",
    "\n",
    "print(\"-\" * 50)\n",
    "\n",
    "# transpose the data frame: make the rows column\n",
    "\n",
    "data_frame = data_frame.T\n",
    "print(data_frame.head())\n",
    "\n"
   ]
  },
  {
   "cell_type": "markdown",
   "metadata": {},
   "source": [
    "### Expected Sample Output\n",
    "\n",
    "Avg Salary is: 51750.0\n",
    "\n",
    "```\n",
    "{'Matt': {'Address': '1323 Another Street',\n",
    "          'Salary': 100000},\n",
    " 'Richard': {'Address': '1523 Another Street',\n",
    "             'Salary': 2000},\n",
    " 'Tyler': {'Address': '1453 Random Road',\n",
    "           'Salary': 100000},\n",
    " 'Will': {'Address': '1424 Another Street',\n",
    "          'Salary': 5000}}\n",
    "```"
   ]
  },
  {
   "cell_type": "markdown",
   "metadata": {
    "collapsed": true
   },
   "source": [
    "# Save your notebook!"
   ]
  }
 ],
 "metadata": {
  "kernelspec": {
   "display_name": "Python 3",
   "language": "python",
   "name": "python3"
  },
  "language_info": {
   "codemirror_mode": {
    "name": "ipython",
    "version": 3
   },
   "file_extension": ".py",
   "mimetype": "text/x-python",
   "name": "python",
   "nbconvert_exporter": "python",
   "pygments_lexer": "ipython3",
   "version": "3.7.3"
  }
 },
 "nbformat": 4,
 "nbformat_minor": 1
}
