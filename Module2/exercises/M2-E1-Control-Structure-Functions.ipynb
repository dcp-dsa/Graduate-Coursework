{
 "cells": [
  {
   "cell_type": "markdown",
   "metadata": {},
   "source": [
    "**1. A store charges `$12` per item if you buy less than 10 items. If you buy between 10 and 99 items, the cost is `$10` per item. If you buy 100 or more items, the cost is `$7` per item. Write a program that asks the user how many items they are buying and prints the total cost.**\n"
   ]
  },
  {
   "cell_type": "code",
   "execution_count": null,
   "metadata": {},
   "outputs": [],
   "source": []
  },
  {
   "cell_type": "markdown",
   "metadata": {},
   "source": [
    "**2.  Write a program that uses a for loop to print the numbers 100, 98, 96, . . . , 4, 2.**"
   ]
  },
  {
   "cell_type": "code",
   "execution_count": null,
   "metadata": {},
   "outputs": [],
   "source": []
  },
  {
   "cell_type": "markdown",
   "metadata": {},
   "source": [
    "**3. Use a for loop to print a box like the one below. Allow the user to specify how wide and how high the box should be.**\n",
    "\n",
    "```\n",
    "******************* \n",
    "*                 * \n",
    "*                 * \n",
    "*******************\n",
    "```"
   ]
  },
  {
   "cell_type": "code",
   "execution_count": null,
   "metadata": {},
   "outputs": [],
   "source": []
  },
  {
   "cell_type": "markdown",
   "metadata": {},
   "source": [
    "**4. In the examples below, each of the snippet tries to sun numbers from 1 to 10. Without running the code blocks try to decide why we will not get the correct answer. Run each, one at a time, and then correct them.**"
   ]
  },
  {
   "cell_type": "code",
   "execution_count": null,
   "metadata": {},
   "outputs": [],
   "source": [
    "# while loop - summing the numbers 1 to 10\n",
    "n = 10\n",
    "cur_sum = 0\n",
    "# sum of n  numbers\n",
    "i = 0\n",
    "while  i <= n :\n",
    "    i = i + 1\n",
    "    cur_sum = cur_sum + i\n",
    "    \n",
    "print(\"The sum of the numbers from 1 to\", n, \"is \", cur_sum)\n"
   ]
  },
  {
   "cell_type": "code",
   "execution_count": null,
   "metadata": {},
   "outputs": [],
   "source": [
    "# while loop - summing the numbers 1 to 10\n",
    "n = 10\n",
    "cur_sum = 0\n",
    "# sum of n  numbers\n",
    "i = 0\n",
    "while  i != n :\n",
    "    cur_sum = cur_sum + i\n",
    "    i = i + 1\n",
    "\n",
    "print(\"The sum of the numbers from 1 to\", n, \"is \", cur_sum)"
   ]
  },
  {
   "cell_type": "markdown",
   "metadata": {},
   "source": [
    "**5. Write a function called `sum_digits` that is given an integer num and returns the sum of the digits of num.**"
   ]
  },
  {
   "cell_type": "code",
   "execution_count": null,
   "metadata": {},
   "outputs": [],
   "source": []
  },
  {
   "cell_type": "markdown",
   "metadata": {},
   "source": [
    "**6. Write a function called matches that takes two strings as arguments and returns how many matches there are between the strings. A match is where the two strings have the same char- acter at the same index. For instance, 'python' and 'path' match in the first, third, and fourth characters, so the function should return 3.**\n"
   ]
  },
  {
   "cell_type": "code",
   "execution_count": null,
   "metadata": {},
   "outputs": [],
   "source": []
  },
  {
   "cell_type": "markdown",
   "metadata": {},
   "source": [
    "**7. The following practice will shows the significance of using map and filter. The first part of the code defines two functions, square and even, and a list. The 2nd part of the code squares each value of the list if the value is even.**"
   ]
  },
  {
   "cell_type": "code",
   "execution_count": null,
   "metadata": {},
   "outputs": [],
   "source": [
    "def square(x):\n",
    "    return x ** 2\n",
    "\n",
    "def even(x):\n",
    "    return x % 2 == 0\n",
    "\n",
    "alist = list(range(10))  # given list\n",
    "\n",
    "# -------------------------------------------------------------------------------------------\n",
    "# The following code iterates over this list, and each value is squared and added to a list if the value is even\n",
    "\n",
    "alist_even_squared = []\n",
    "\n",
    "for aval in alist:\n",
    "    if even(aval):  # check if the val is even\n",
    "        temp_var = square(aval)  # square the value\n",
    "        alist_even_squared.append(temp_var)\n",
    "        \n",
    "print(alist_even_squared)"
   ]
  },
  {
   "cell_type": "markdown",
   "metadata": {},
   "source": [
    "**Task 7.1: Accomplish the above task using map and filter functions along with square and even functions.**"
   ]
  },
  {
   "cell_type": "code",
   "execution_count": null,
   "metadata": {},
   "outputs": [],
   "source": []
  },
  {
   "cell_type": "markdown",
   "metadata": {},
   "source": [
    "**Task 7.2: Accomplish the above task using list comprehension along with square and even functions.**"
   ]
  },
  {
   "cell_type": "code",
   "execution_count": null,
   "metadata": {},
   "outputs": [],
   "source": []
  }
 ],
 "metadata": {
  "kernelspec": {
   "display_name": "Python 3",
   "language": "python",
   "name": "python3"
  },
  "language_info": {
   "codemirror_mode": {
    "name": "ipython",
    "version": 3
   },
   "file_extension": ".py",
   "mimetype": "text/x-python",
   "name": "python",
   "nbconvert_exporter": "python",
   "pygments_lexer": "ipython3",
   "version": "3.7.3"
  }
 },
 "nbformat": 4,
 "nbformat_minor": 2
}
