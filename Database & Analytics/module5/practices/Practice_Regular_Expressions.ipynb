{
 "cells": [
  {
   "cell_type": "markdown",
   "metadata": {},
   "source": [
    "# Text Processing: Regular Expressions\n",
    "\n",
    "Regular expressions (or _REGEX_) are fundamental parts of any text processing.\n",
    "Regular expressions represent a robust and flexible way to define patterns of characters within text documents.  \n",
    "There are many uses, such as pattern matching and term extraction.\n",
    "\n",
    "Below is some log information from the JupyterHub environment.\n",
    "The user ID as been changed to protect the innocent.\n",
    "The task is to extract the following into a data frame using **only** regular expressions for search and extract.\n",
    " * User ID\n",
    " * Time Stamp\n",
    " * Notebook Name\n",
    " * Day of the Course\n",
    " * Course ID\n",
    "\n",
    "\n",
    "**Resources:**\n",
    " * [Python Regular Expressions](https://docs.python.org/3/library/re.html)\n",
    " * https://www.debuggex.com/cheatsheet/regex/python\n"
   ]
  },
  {
   "cell_type": "code",
   "execution_count": 1,
   "metadata": {},
   "outputs": [],
   "source": [
    "import pandas as pd\n",
    "import numpy as np\n",
    "\n",
    "# The Python library\n",
    "import re\n"
   ]
  },
  {
   "cell_type": "markdown",
   "metadata": {},
   "source": [
    "## Data \n"
   ]
  },
  {
   "cell_type": "code",
   "execution_count": 2,
   "metadata": {},
   "outputs": [],
   "source": [
    "jupyter_log_data = \"\"\"1082,05:19:23.433 - debug: [ConfigProxy] PROXY WEB /user/gjs.0001/api/contents/PSDS2120OP2-4_gjs.0001/Day5/labs/L1_RLibraries.ipynb?content=0&_=1537784241735 to http://127.0.0.1:35215,2018-09-24T10:19:23.433Z\n",
    "1081,05:21:23.518 - debug: [ConfigProxy] PROXY WEB /user/gjs.0001/api/contents/PSDS2120OP2-4_gjs.0001/Day4/labs/L1_RLibraries.ipynb?content=0&_=1537784241736 to http://127.0.0.1:35215,2018-09-24T10:21:23.519Z\n",
    "1080,05:22:25.808 - debug: [ConfigProxy] PROXY WEB /user/gjs.0002/api/contents/PSDS2120OP2-4_gjs.0002/Day3/labs/L1_RLibraries.ipynb?content=0&_=1537784241737 to http://127.0.0.1:35215,2018-09-24T10:22:25.809Z\n",
    "1079,05:25:03.504 - debug: [ConfigProxy] PROXY WEB /user/gjs.0002/api/contents/PSDS2120OP2-4_gjs.0002/Day2/labs/L2_RBasicDataTypes.ipynb?content=0&_=1537784580735 to http://127.0.0.1:35215,2018-09-24T10:25:03.505Z\n",
    "1078,05:27:03.552 - debug: [ConfigProxy] PROXY WEB /user/gjs.0003/api/contents/PSDS2120OP2-4_gjs.0003/Day1/labs/L2_RBasicDataTypes.ipynb?content=0&_=1537784580736 to http://127.0.0.1:35215,2018-09-24T10:27:03.553Z\n",
    "1077,05:29:03.511 - debug: [ConfigProxy] PROXY WEB /user/gjs.0003/api/contents/PSDS2120OP2-4_gjs.0003/Day1/labs/L2_RBasicDataTypes.ipynb?content=0&_=1537784580737 to http://127.0.0.1:35215,2018-09-24T10:29:03.511Z\n",
    "1076,05:49:08.482 - debug: [ConfigProxy] PROXY WEB /user/gjs.0004/api/contents/PSDS2120OP2-4_gjs.0004/Day2/labs/L2_RBasicDataTypes.ipynb?content=0&_=1537784580738 to http://127.0.0.1:35215,2018-09-24T10:49:08.483Z\n",
    "1075,05:51:03.965 - debug: [ConfigProxy] PROXY WEB /user/gjs.0004/api/contents/PSDS2120OP2-4_gjs.0004/Day3/labs/L2_RBasicDataTypes.ipynb?content=0&_=1537784580739 to http://127.0.0.1:35215,2018-09-24T10:51:03.966Z\n",
    "1074,06:01:03.633 - debug: [ConfigProxy] PROXY WEB /user/gjs.0005/api/contents/PSDS2120OP2-4_gjs.0005/Day4/labs/L2_RBasicDataTypes.ipynb?content=0&_=1537784580740 to http://127.0.0.1:35215,2018-09-24T11:01:03.633Z\n",
    "1073,06:03:03.597 - debug: [ConfigProxy] PROXY WEB /user/gjs.0005/api/contents/PSDS2120OP2-4_gjs.0005/Day5/labs/L2_RBasicDataTypes.ipynb?content=0&_=1537784580741 to http://127.0.0.1:35215,2018-09-24T11:03:03.597Z\"\"\""
   ]
  },
  {
   "cell_type": "code",
   "execution_count": 3,
   "metadata": {},
   "outputs": [
    {
     "name": "stdout",
     "output_type": "stream",
     "text": [
      "1082,05:19:23.433 - debug: [ConfigProxy] PROXY WEB /user/gjs.0001/api/contents/PSDS2120OP2-4_gjs.0001/Day5/labs/L1_RLibraries.ipynb?content=0&_=1537784241735 to http://127.0.0.1:35215,2018-09-24T10:19:23.433Z\n",
      "1081,05:21:23.518 - debug: [ConfigProxy] PROXY WEB /user/gjs.0001/api/contents/PSDS2120OP2-4_gjs.0001/Day4/labs/L1_RLibraries.ipynb?content=0&_=1537784241736 to http://127.0.0.1:35215,2018-09-24T10:21:23.519Z\n",
      "1080,05:22:25.808 - debug: [ConfigProxy] PROXY WEB /user/gjs.0002/api/contents/PSDS2120OP2-4_gjs.0002/Day3/labs/L1_RLibraries.ipynb?content=0&_=1537784241737 to http://127.0.0.1:35215,2018-09-24T10:22:25.809Z\n",
      "1079,05:25:03.504 - debug: [ConfigProxy] PROXY WEB /user/gjs.0002/api/contents/PSDS2120OP2-4_gjs.0002/Day2/labs/L2_RBasicDataTypes.ipynb?content=0&_=1537784580735 to http://127.0.0.1:35215,2018-09-24T10:25:03.505Z\n",
      "1078,05:27:03.552 - debug: [ConfigProxy] PROXY WEB /user/gjs.0003/api/contents/PSDS2120OP2-4_gjs.0003/Day1/labs/L2_RBasicDataTypes.ipynb?content=0&_=1537784580736 to http://127.0.0.1:35215,2018-09-24T10:27:03.553Z\n",
      "1077,05:29:03.511 - debug: [ConfigProxy] PROXY WEB /user/gjs.0003/api/contents/PSDS2120OP2-4_gjs.0003/Day1/labs/L2_RBasicDataTypes.ipynb?content=0&_=1537784580737 to http://127.0.0.1:35215,2018-09-24T10:29:03.511Z\n",
      "1076,05:49:08.482 - debug: [ConfigProxy] PROXY WEB /user/gjs.0004/api/contents/PSDS2120OP2-4_gjs.0004/Day2/labs/L2_RBasicDataTypes.ipynb?content=0&_=1537784580738 to http://127.0.0.1:35215,2018-09-24T10:49:08.483Z\n",
      "1075,05:51:03.965 - debug: [ConfigProxy] PROXY WEB /user/gjs.0004/api/contents/PSDS2120OP2-4_gjs.0004/Day3/labs/L2_RBasicDataTypes.ipynb?content=0&_=1537784580739 to http://127.0.0.1:35215,2018-09-24T10:51:03.966Z\n",
      "1074,06:01:03.633 - debug: [ConfigProxy] PROXY WEB /user/gjs.0005/api/contents/PSDS2120OP2-4_gjs.0005/Day4/labs/L2_RBasicDataTypes.ipynb?content=0&_=1537784580740 to http://127.0.0.1:35215,2018-09-24T11:01:03.633Z\n",
      "1073,06:03:03.597 - debug: [ConfigProxy] PROXY WEB /user/gjs.0005/api/contents/PSDS2120OP2-4_gjs.0005/Day5/labs/L2_RBasicDataTypes.ipynb?content=0&_=1537784580741 to http://127.0.0.1:35215,2018-09-24T11:03:03.597Z\n"
     ]
    }
   ],
   "source": [
    "print(jupyter_log_data)"
   ]
  },
  {
   "cell_type": "markdown",
   "metadata": {},
   "source": [
    "## Task 1: Split the data into lines!\n"
   ]
  },
  {
   "cell_type": "code",
   "execution_count": 4,
   "metadata": {},
   "outputs": [
    {
     "name": "stdout",
     "output_type": "stream",
     "text": [
      "0: 1082,05:19:23.433 - debug: [ConfigProxy] PROXY WEB /user/gjs.0001/api/contents/PSDS2120OP2-4_gjs.0001/Day5/labs/L1_RLibraries.ipynb?content=0&_=1537784241735 to http://127.0.0.1:35215,2018-09-24T10:19:23.433Z\n",
      "1: 1081,05:21:23.518 - debug: [ConfigProxy] PROXY WEB /user/gjs.0001/api/contents/PSDS2120OP2-4_gjs.0001/Day4/labs/L1_RLibraries.ipynb?content=0&_=1537784241736 to http://127.0.0.1:35215,2018-09-24T10:21:23.519Z\n",
      "2: 1080,05:22:25.808 - debug: [ConfigProxy] PROXY WEB /user/gjs.0002/api/contents/PSDS2120OP2-4_gjs.0002/Day3/labs/L1_RLibraries.ipynb?content=0&_=1537784241737 to http://127.0.0.1:35215,2018-09-24T10:22:25.809Z\n",
      "3: 1079,05:25:03.504 - debug: [ConfigProxy] PROXY WEB /user/gjs.0002/api/contents/PSDS2120OP2-4_gjs.0002/Day2/labs/L2_RBasicDataTypes.ipynb?content=0&_=1537784580735 to http://127.0.0.1:35215,2018-09-24T10:25:03.505Z\n",
      "4: 1078,05:27:03.552 - debug: [ConfigProxy] PROXY WEB /user/gjs.0003/api/contents/PSDS2120OP2-4_gjs.0003/Day1/labs/L2_RBasicDataTypes.ipynb?content=0&_=1537784580736 to http://127.0.0.1:35215,2018-09-24T10:27:03.553Z\n",
      "5: 1077,05:29:03.511 - debug: [ConfigProxy] PROXY WEB /user/gjs.0003/api/contents/PSDS2120OP2-4_gjs.0003/Day1/labs/L2_RBasicDataTypes.ipynb?content=0&_=1537784580737 to http://127.0.0.1:35215,2018-09-24T10:29:03.511Z\n",
      "6: 1076,05:49:08.482 - debug: [ConfigProxy] PROXY WEB /user/gjs.0004/api/contents/PSDS2120OP2-4_gjs.0004/Day2/labs/L2_RBasicDataTypes.ipynb?content=0&_=1537784580738 to http://127.0.0.1:35215,2018-09-24T10:49:08.483Z\n",
      "7: 1075,05:51:03.965 - debug: [ConfigProxy] PROXY WEB /user/gjs.0004/api/contents/PSDS2120OP2-4_gjs.0004/Day3/labs/L2_RBasicDataTypes.ipynb?content=0&_=1537784580739 to http://127.0.0.1:35215,2018-09-24T10:51:03.966Z\n",
      "8: 1074,06:01:03.633 - debug: [ConfigProxy] PROXY WEB /user/gjs.0005/api/contents/PSDS2120OP2-4_gjs.0005/Day4/labs/L2_RBasicDataTypes.ipynb?content=0&_=1537784580740 to http://127.0.0.1:35215,2018-09-24T11:01:03.633Z\n"
     ]
    }
   ],
   "source": [
    "# Add code between comments:\n",
    "# -----------------------------\n",
    "\n",
    "line_break_pattern = r'(.*)\\n' \n",
    "\n",
    "lines = re.findall(line_break_pattern, jupyter_log_data)\n",
    "\n",
    "# -----------------------------\n",
    "for i,l in enumerate(lines):\n",
    "    print(\"{}: {}\".format(i,l))"
   ]
  },
  {
   "cell_type": "markdown",
   "metadata": {},
   "source": [
    "## Task 2: Develop some extract patterns"
   ]
  },
  {
   "cell_type": "code",
   "execution_count": 5,
   "metadata": {},
   "outputs": [
    {
     "name": "stdout",
     "output_type": "stream",
     "text": [
      "1082,05:19:23.433 - debug: [ConfigProxy] PROXY WEB /user/gjs.0001/api/contents/PSDS2120OP2-4_gjs.0001/Day5/labs/L1_RLibraries.ipynb?content=0&_=1537784241735 to http://127.0.0.1:35215,2018-09-24T10:19:23.433Z\n"
     ]
    }
   ],
   "source": [
    "test_line = lines[0]\n",
    "print(test_line)"
   ]
  },
  {
   "cell_type": "markdown",
   "metadata": {},
   "source": [
    "### 2.A: Develop an extract for User ID\n"
   ]
  },
  {
   "cell_type": "code",
   "execution_count": 8,
   "metadata": {},
   "outputs": [
    {
     "name": "stdout",
     "output_type": "stream",
     "text": [
      "1082,05:19:23.433 - debug: [ConfigProxy] PROXY WEB /user/gjs.0001/api/contents/PSDS2120OP2-4_gjs.0001/Day5/labs/L1_RLibraries.ipynb?content=0&_=1537784241735 to http://127.0.0.1:35215,2018-09-24T10:19:23.433Z\n",
      "['gjs.0001']\n"
     ]
    }
   ],
   "source": [
    "# Add code between comments:\n",
    "# -----------------------------\n",
    "\n",
    "pattern = r'\\/user\\/(.+)\\/api' \n",
    "\n",
    "test = re.findall(pattern,test_line)\n",
    "\n",
    "\n",
    "# -----------------------------\n",
    "print(test_line)\n",
    "print(test)"
   ]
  },
  {
   "cell_type": "markdown",
   "metadata": {},
   "source": [
    "### 2.B: Develop an extract for Date/Time stamp\n",
    "\n",
    "E.g., 2018-09-24T10:19:23"
   ]
  },
  {
   "cell_type": "code",
   "execution_count": 9,
   "metadata": {},
   "outputs": [
    {
     "name": "stdout",
     "output_type": "stream",
     "text": [
      "1082,05:19:23.433 - debug: [ConfigProxy] PROXY WEB /user/gjs.0001/api/contents/PSDS2120OP2-4_gjs.0001/Day5/labs/L1_RLibraries.ipynb?content=0&_=1537784241735 to http://127.0.0.1:35215,2018-09-24T10:19:23.433Z\n",
      "['2018-09-24T10:19:23']\n"
     ]
    }
   ],
   "source": [
    "# Add code between comments:\n",
    "# -----------------------------\n",
    "\n",
    "pattern = r',(\\d{4}-\\d{2}-\\d{2}T\\d{2}:\\d{2}:\\d{2})' \n",
    "\n",
    "test = re.findall(pattern,test_line)\n",
    "\n",
    "\n",
    "# -----------------------------\n",
    "print(test_line)\n",
    "print(test)"
   ]
  },
  {
   "cell_type": "markdown",
   "metadata": {},
   "source": [
    "### 2.C: Develop an extract for Notebook Name\n"
   ]
  },
  {
   "cell_type": "code",
   "execution_count": 10,
   "metadata": {},
   "outputs": [
    {
     "name": "stdout",
     "output_type": "stream",
     "text": [
      "1082,05:19:23.433 - debug: [ConfigProxy] PROXY WEB /user/gjs.0001/api/contents/PSDS2120OP2-4_gjs.0001/Day5/labs/L1_RLibraries.ipynb?content=0&_=1537784241735 to http://127.0.0.1:35215,2018-09-24T10:19:23.433Z\n",
      "['L1_RLibraries.ipynb']\n"
     ]
    }
   ],
   "source": [
    "# Add code between comments:\n",
    "# -----------------------------\n",
    "\n",
    "pattern = r'PROXY WEB .*\\/([\\w]*\\.ipynb)' \n",
    "\n",
    "test = re.findall(pattern,test_line)\n",
    "\n",
    "\n",
    "# -----------------------------\n",
    "print(test_line)\n",
    "print(test)"
   ]
  },
  {
   "cell_type": "markdown",
   "metadata": {},
   "source": [
    "### 2.D: Develop an extract for Day of the Course\n",
    "E.g., Day1, Day2, etc.\n"
   ]
  },
  {
   "cell_type": "code",
   "execution_count": 11,
   "metadata": {},
   "outputs": [
    {
     "name": "stdout",
     "output_type": "stream",
     "text": [
      "1082,05:19:23.433 - debug: [ConfigProxy] PROXY WEB /user/gjs.0001/api/contents/PSDS2120OP2-4_gjs.0001/Day5/labs/L1_RLibraries.ipynb?content=0&_=1537784241735 to http://127.0.0.1:35215,2018-09-24T10:19:23.433Z\n",
      "['5']\n"
     ]
    }
   ],
   "source": [
    "# Add code between comments:\n",
    "# -----------------------------\n",
    "\n",
    "\n",
    "pattern = r'Day(\\d)' \n",
    "\n",
    "test = re.findall(pattern,test_line)\n",
    "\n",
    "\n",
    "# -----------------------------\n",
    "print(test_line)\n",
    "print(test)"
   ]
  },
  {
   "cell_type": "markdown",
   "metadata": {},
   "source": [
    "### 2.E: Develop an extract for Course ID"
   ]
  },
  {
   "cell_type": "code",
   "execution_count": 12,
   "metadata": {},
   "outputs": [
    {
     "name": "stdout",
     "output_type": "stream",
     "text": [
      "1082,05:19:23.433 - debug: [ConfigProxy] PROXY WEB /user/gjs.0001/api/contents/PSDS2120OP2-4_gjs.0001/Day5/labs/L1_RLibraries.ipynb?content=0&_=1537784241735 to http://127.0.0.1:35215,2018-09-24T10:19:23.433Z\n",
      "['PSDS2120OP2-4']\n"
     ]
    }
   ],
   "source": [
    "# Add code between comments:\n",
    "# -----------------------------\n",
    "\n",
    "pattern = '/api/contents/([a-zA-Z0-9\\-]*)\\_' \n",
    "\n",
    "test = re.findall(pattern,test_line)\n",
    "\n",
    "\n",
    "# -----------------------------\n",
    "print(test_line)\n",
    "print(test)"
   ]
  },
  {
   "cell_type": "markdown",
   "metadata": {},
   "source": [
    "## 3: Construct a Data Frame\n",
    "\n",
    "We can start this step by loading the lines in the data frame,\n",
    "then use the Pandas Series `str.extract` functionality.\n",
    " * https://pandas.pydata.org/pandas-docs/stable/generated/pandas.Series.str.extract.html\n",
    " \n",
    "Create the following columns:\n",
    " * `uid :` User ID\n",
    " * `dttm:` Time Stamp\n",
    " * `nb  :` Notebook Name\n",
    " * `day :` Day of the Course\n",
    " * `cid :` Course ID"
   ]
  },
  {
   "cell_type": "code",
   "execution_count": 13,
   "metadata": {},
   "outputs": [
    {
     "data": {
      "text/html": [
       "<div>\n",
       "<style scoped>\n",
       "    .dataframe tbody tr th:only-of-type {\n",
       "        vertical-align: middle;\n",
       "    }\n",
       "\n",
       "    .dataframe tbody tr th {\n",
       "        vertical-align: top;\n",
       "    }\n",
       "\n",
       "    .dataframe thead th {\n",
       "        text-align: right;\n",
       "    }\n",
       "</style>\n",
       "<table border=\"1\" class=\"dataframe\">\n",
       "  <thead>\n",
       "    <tr style=\"text-align: right;\">\n",
       "      <th></th>\n",
       "      <th>logline</th>\n",
       "      <th>uid</th>\n",
       "      <th>dttm</th>\n",
       "      <th>nb</th>\n",
       "      <th>day</th>\n",
       "      <th>cid</th>\n",
       "    </tr>\n",
       "  </thead>\n",
       "  <tbody>\n",
       "    <tr>\n",
       "      <th>0</th>\n",
       "      <td>1082,05:19:23.433 - debug: [ConfigProxy] PROXY...</td>\n",
       "      <td>gjs.0001</td>\n",
       "      <td>2018-09-24T10:19:23</td>\n",
       "      <td>L1_RLibraries.ipynb</td>\n",
       "      <td>5</td>\n",
       "      <td>PSDS2120OP2-4</td>\n",
       "    </tr>\n",
       "    <tr>\n",
       "      <th>1</th>\n",
       "      <td>1081,05:21:23.518 - debug: [ConfigProxy] PROXY...</td>\n",
       "      <td>gjs.0001</td>\n",
       "      <td>2018-09-24T10:21:23</td>\n",
       "      <td>L1_RLibraries.ipynb</td>\n",
       "      <td>4</td>\n",
       "      <td>PSDS2120OP2-4</td>\n",
       "    </tr>\n",
       "    <tr>\n",
       "      <th>2</th>\n",
       "      <td>1080,05:22:25.808 - debug: [ConfigProxy] PROXY...</td>\n",
       "      <td>gjs.0002</td>\n",
       "      <td>2018-09-24T10:22:25</td>\n",
       "      <td>L1_RLibraries.ipynb</td>\n",
       "      <td>3</td>\n",
       "      <td>PSDS2120OP2-4</td>\n",
       "    </tr>\n",
       "    <tr>\n",
       "      <th>3</th>\n",
       "      <td>1079,05:25:03.504 - debug: [ConfigProxy] PROXY...</td>\n",
       "      <td>gjs.0002</td>\n",
       "      <td>2018-09-24T10:25:03</td>\n",
       "      <td>L2_RBasicDataTypes.ipynb</td>\n",
       "      <td>2</td>\n",
       "      <td>PSDS2120OP2-4</td>\n",
       "    </tr>\n",
       "    <tr>\n",
       "      <th>4</th>\n",
       "      <td>1078,05:27:03.552 - debug: [ConfigProxy] PROXY...</td>\n",
       "      <td>gjs.0003</td>\n",
       "      <td>2018-09-24T10:27:03</td>\n",
       "      <td>L2_RBasicDataTypes.ipynb</td>\n",
       "      <td>1</td>\n",
       "      <td>PSDS2120OP2-4</td>\n",
       "    </tr>\n",
       "    <tr>\n",
       "      <th>5</th>\n",
       "      <td>1077,05:29:03.511 - debug: [ConfigProxy] PROXY...</td>\n",
       "      <td>gjs.0003</td>\n",
       "      <td>2018-09-24T10:29:03</td>\n",
       "      <td>L2_RBasicDataTypes.ipynb</td>\n",
       "      <td>1</td>\n",
       "      <td>PSDS2120OP2-4</td>\n",
       "    </tr>\n",
       "    <tr>\n",
       "      <th>6</th>\n",
       "      <td>1076,05:49:08.482 - debug: [ConfigProxy] PROXY...</td>\n",
       "      <td>gjs.0004</td>\n",
       "      <td>2018-09-24T10:49:08</td>\n",
       "      <td>L2_RBasicDataTypes.ipynb</td>\n",
       "      <td>2</td>\n",
       "      <td>PSDS2120OP2-4</td>\n",
       "    </tr>\n",
       "    <tr>\n",
       "      <th>7</th>\n",
       "      <td>1075,05:51:03.965 - debug: [ConfigProxy] PROXY...</td>\n",
       "      <td>gjs.0004</td>\n",
       "      <td>2018-09-24T10:51:03</td>\n",
       "      <td>L2_RBasicDataTypes.ipynb</td>\n",
       "      <td>3</td>\n",
       "      <td>PSDS2120OP2-4</td>\n",
       "    </tr>\n",
       "    <tr>\n",
       "      <th>8</th>\n",
       "      <td>1074,06:01:03.633 - debug: [ConfigProxy] PROXY...</td>\n",
       "      <td>gjs.0005</td>\n",
       "      <td>2018-09-24T11:01:03</td>\n",
       "      <td>L2_RBasicDataTypes.ipynb</td>\n",
       "      <td>4</td>\n",
       "      <td>PSDS2120OP2-4</td>\n",
       "    </tr>\n",
       "  </tbody>\n",
       "</table>\n",
       "</div>"
      ],
      "text/plain": [
       "                                             logline       uid  \\\n",
       "0  1082,05:19:23.433 - debug: [ConfigProxy] PROXY...  gjs.0001   \n",
       "1  1081,05:21:23.518 - debug: [ConfigProxy] PROXY...  gjs.0001   \n",
       "2  1080,05:22:25.808 - debug: [ConfigProxy] PROXY...  gjs.0002   \n",
       "3  1079,05:25:03.504 - debug: [ConfigProxy] PROXY...  gjs.0002   \n",
       "4  1078,05:27:03.552 - debug: [ConfigProxy] PROXY...  gjs.0003   \n",
       "5  1077,05:29:03.511 - debug: [ConfigProxy] PROXY...  gjs.0003   \n",
       "6  1076,05:49:08.482 - debug: [ConfigProxy] PROXY...  gjs.0004   \n",
       "7  1075,05:51:03.965 - debug: [ConfigProxy] PROXY...  gjs.0004   \n",
       "8  1074,06:01:03.633 - debug: [ConfigProxy] PROXY...  gjs.0005   \n",
       "\n",
       "                  dttm                        nb day            cid  \n",
       "0  2018-09-24T10:19:23       L1_RLibraries.ipynb   5  PSDS2120OP2-4  \n",
       "1  2018-09-24T10:21:23       L1_RLibraries.ipynb   4  PSDS2120OP2-4  \n",
       "2  2018-09-24T10:22:25       L1_RLibraries.ipynb   3  PSDS2120OP2-4  \n",
       "3  2018-09-24T10:25:03  L2_RBasicDataTypes.ipynb   2  PSDS2120OP2-4  \n",
       "4  2018-09-24T10:27:03  L2_RBasicDataTypes.ipynb   1  PSDS2120OP2-4  \n",
       "5  2018-09-24T10:29:03  L2_RBasicDataTypes.ipynb   1  PSDS2120OP2-4  \n",
       "6  2018-09-24T10:49:08  L2_RBasicDataTypes.ipynb   2  PSDS2120OP2-4  \n",
       "7  2018-09-24T10:51:03  L2_RBasicDataTypes.ipynb   3  PSDS2120OP2-4  \n",
       "8  2018-09-24T11:01:03  L2_RBasicDataTypes.ipynb   4  PSDS2120OP2-4  "
      ]
     },
     "execution_count": 13,
     "metadata": {},
     "output_type": "execute_result"
    }
   ],
   "source": [
    "df = pd.DataFrame({'logline':lines})\n",
    "\n",
    "# Add code between comments:\n",
    "# -----------------------------\n",
    "\n",
    "# uid : User ID\n",
    "df['uid'] = df.logline.str.extract( r'\\/user\\/(.+)\\/api' \n",
    "                                , expand=False)\n",
    "\n",
    "# dttm: Time Stamp\n",
    "df['dttm'] = df.logline.str.extract( r',(\\d{4}-\\d{2}-\\d{2}T\\d{2}:\\d{2}:\\d{2})'\n",
    "                                , expand=False)\n",
    "\n",
    "# nb : Notebook Name\n",
    "df['nb'] = df.logline.str.extract(r'PROXY WEB .*\\/([\\w]*\\.ipynb)', expand=False)\n",
    "\n",
    "# day : Day of the Course\n",
    "df['day'] = df.logline.str.extract(r'Day(\\d)', expand=False)\n",
    "\n",
    "\n",
    "# cid : Course ID\n",
    "df['cid'] = df.logline.str.extract(r'/api/contents/([a-zA-Z0-9\\-]*)\\_', expand=False)\n",
    "\n",
    "\n",
    "# -----------------------------\n",
    "df.head(10)"
   ]
  },
  {
   "cell_type": "markdown",
   "metadata": {},
   "source": [
    "# Save your notebook, then `File > Close and Halt`"
   ]
  },
  {
   "cell_type": "markdown",
   "metadata": {},
   "source": [
    "## Optional: Decompose the Date/Time\n",
    "\n",
    "Change the extracted Date/Time into separate parts: \n",
    " 1. Time of day into a column, **`tod`**  \n",
    " 1. Date into a separate column, **`date`**\n"
   ]
  },
  {
   "cell_type": "code",
   "execution_count": 14,
   "metadata": {},
   "outputs": [
    {
     "data": {
      "text/html": [
       "<div>\n",
       "<style scoped>\n",
       "    .dataframe tbody tr th:only-of-type {\n",
       "        vertical-align: middle;\n",
       "    }\n",
       "\n",
       "    .dataframe tbody tr th {\n",
       "        vertical-align: top;\n",
       "    }\n",
       "\n",
       "    .dataframe thead th {\n",
       "        text-align: right;\n",
       "    }\n",
       "</style>\n",
       "<table border=\"1\" class=\"dataframe\">\n",
       "  <thead>\n",
       "    <tr style=\"text-align: right;\">\n",
       "      <th></th>\n",
       "      <th>logline</th>\n",
       "      <th>uid</th>\n",
       "      <th>dttm</th>\n",
       "      <th>nb</th>\n",
       "      <th>day</th>\n",
       "      <th>cid</th>\n",
       "      <th>tod</th>\n",
       "      <th>date</th>\n",
       "    </tr>\n",
       "  </thead>\n",
       "  <tbody>\n",
       "    <tr>\n",
       "      <th>0</th>\n",
       "      <td>1082,05:19:23.433 - debug: [ConfigProxy] PROXY...</td>\n",
       "      <td>gjs.0001</td>\n",
       "      <td>2018-09-24 10:19:23</td>\n",
       "      <td>L1_RLibraries.ipynb</td>\n",
       "      <td>5</td>\n",
       "      <td>PSDS2120OP2-4</td>\n",
       "      <td>10:19</td>\n",
       "      <td>2018-9-24</td>\n",
       "    </tr>\n",
       "    <tr>\n",
       "      <th>1</th>\n",
       "      <td>1081,05:21:23.518 - debug: [ConfigProxy] PROXY...</td>\n",
       "      <td>gjs.0001</td>\n",
       "      <td>2018-09-24 10:21:23</td>\n",
       "      <td>L1_RLibraries.ipynb</td>\n",
       "      <td>4</td>\n",
       "      <td>PSDS2120OP2-4</td>\n",
       "      <td>10:21</td>\n",
       "      <td>2018-9-24</td>\n",
       "    </tr>\n",
       "    <tr>\n",
       "      <th>2</th>\n",
       "      <td>1080,05:22:25.808 - debug: [ConfigProxy] PROXY...</td>\n",
       "      <td>gjs.0002</td>\n",
       "      <td>2018-09-24 10:22:25</td>\n",
       "      <td>L1_RLibraries.ipynb</td>\n",
       "      <td>3</td>\n",
       "      <td>PSDS2120OP2-4</td>\n",
       "      <td>10:22</td>\n",
       "      <td>2018-9-24</td>\n",
       "    </tr>\n",
       "    <tr>\n",
       "      <th>3</th>\n",
       "      <td>1079,05:25:03.504 - debug: [ConfigProxy] PROXY...</td>\n",
       "      <td>gjs.0002</td>\n",
       "      <td>2018-09-24 10:25:03</td>\n",
       "      <td>L2_RBasicDataTypes.ipynb</td>\n",
       "      <td>2</td>\n",
       "      <td>PSDS2120OP2-4</td>\n",
       "      <td>10:25</td>\n",
       "      <td>2018-9-24</td>\n",
       "    </tr>\n",
       "    <tr>\n",
       "      <th>4</th>\n",
       "      <td>1078,05:27:03.552 - debug: [ConfigProxy] PROXY...</td>\n",
       "      <td>gjs.0003</td>\n",
       "      <td>2018-09-24 10:27:03</td>\n",
       "      <td>L2_RBasicDataTypes.ipynb</td>\n",
       "      <td>1</td>\n",
       "      <td>PSDS2120OP2-4</td>\n",
       "      <td>10:27</td>\n",
       "      <td>2018-9-24</td>\n",
       "    </tr>\n",
       "    <tr>\n",
       "      <th>5</th>\n",
       "      <td>1077,05:29:03.511 - debug: [ConfigProxy] PROXY...</td>\n",
       "      <td>gjs.0003</td>\n",
       "      <td>2018-09-24 10:29:03</td>\n",
       "      <td>L2_RBasicDataTypes.ipynb</td>\n",
       "      <td>1</td>\n",
       "      <td>PSDS2120OP2-4</td>\n",
       "      <td>10:29</td>\n",
       "      <td>2018-9-24</td>\n",
       "    </tr>\n",
       "    <tr>\n",
       "      <th>6</th>\n",
       "      <td>1076,05:49:08.482 - debug: [ConfigProxy] PROXY...</td>\n",
       "      <td>gjs.0004</td>\n",
       "      <td>2018-09-24 10:49:08</td>\n",
       "      <td>L2_RBasicDataTypes.ipynb</td>\n",
       "      <td>2</td>\n",
       "      <td>PSDS2120OP2-4</td>\n",
       "      <td>10:49</td>\n",
       "      <td>2018-9-24</td>\n",
       "    </tr>\n",
       "    <tr>\n",
       "      <th>7</th>\n",
       "      <td>1075,05:51:03.965 - debug: [ConfigProxy] PROXY...</td>\n",
       "      <td>gjs.0004</td>\n",
       "      <td>2018-09-24 10:51:03</td>\n",
       "      <td>L2_RBasicDataTypes.ipynb</td>\n",
       "      <td>3</td>\n",
       "      <td>PSDS2120OP2-4</td>\n",
       "      <td>10:51</td>\n",
       "      <td>2018-9-24</td>\n",
       "    </tr>\n",
       "    <tr>\n",
       "      <th>8</th>\n",
       "      <td>1074,06:01:03.633 - debug: [ConfigProxy] PROXY...</td>\n",
       "      <td>gjs.0005</td>\n",
       "      <td>2018-09-24 11:01:03</td>\n",
       "      <td>L2_RBasicDataTypes.ipynb</td>\n",
       "      <td>4</td>\n",
       "      <td>PSDS2120OP2-4</td>\n",
       "      <td>11:1</td>\n",
       "      <td>2018-9-24</td>\n",
       "    </tr>\n",
       "  </tbody>\n",
       "</table>\n",
       "</div>"
      ],
      "text/plain": [
       "                                             logline       uid  \\\n",
       "0  1082,05:19:23.433 - debug: [ConfigProxy] PROXY...  gjs.0001   \n",
       "1  1081,05:21:23.518 - debug: [ConfigProxy] PROXY...  gjs.0001   \n",
       "2  1080,05:22:25.808 - debug: [ConfigProxy] PROXY...  gjs.0002   \n",
       "3  1079,05:25:03.504 - debug: [ConfigProxy] PROXY...  gjs.0002   \n",
       "4  1078,05:27:03.552 - debug: [ConfigProxy] PROXY...  gjs.0003   \n",
       "5  1077,05:29:03.511 - debug: [ConfigProxy] PROXY...  gjs.0003   \n",
       "6  1076,05:49:08.482 - debug: [ConfigProxy] PROXY...  gjs.0004   \n",
       "7  1075,05:51:03.965 - debug: [ConfigProxy] PROXY...  gjs.0004   \n",
       "8  1074,06:01:03.633 - debug: [ConfigProxy] PROXY...  gjs.0005   \n",
       "\n",
       "                 dttm                        nb day            cid    tod  \\\n",
       "0 2018-09-24 10:19:23       L1_RLibraries.ipynb   5  PSDS2120OP2-4  10:19   \n",
       "1 2018-09-24 10:21:23       L1_RLibraries.ipynb   4  PSDS2120OP2-4  10:21   \n",
       "2 2018-09-24 10:22:25       L1_RLibraries.ipynb   3  PSDS2120OP2-4  10:22   \n",
       "3 2018-09-24 10:25:03  L2_RBasicDataTypes.ipynb   2  PSDS2120OP2-4  10:25   \n",
       "4 2018-09-24 10:27:03  L2_RBasicDataTypes.ipynb   1  PSDS2120OP2-4  10:27   \n",
       "5 2018-09-24 10:29:03  L2_RBasicDataTypes.ipynb   1  PSDS2120OP2-4  10:29   \n",
       "6 2018-09-24 10:49:08  L2_RBasicDataTypes.ipynb   2  PSDS2120OP2-4  10:49   \n",
       "7 2018-09-24 10:51:03  L2_RBasicDataTypes.ipynb   3  PSDS2120OP2-4  10:51   \n",
       "8 2018-09-24 11:01:03  L2_RBasicDataTypes.ipynb   4  PSDS2120OP2-4   11:1   \n",
       "\n",
       "        date  \n",
       "0  2018-9-24  \n",
       "1  2018-9-24  \n",
       "2  2018-9-24  \n",
       "3  2018-9-24  \n",
       "4  2018-9-24  \n",
       "5  2018-9-24  \n",
       "6  2018-9-24  \n",
       "7  2018-9-24  \n",
       "8  2018-9-24  "
      ]
     },
     "execution_count": 14,
     "metadata": {},
     "output_type": "execute_result"
    }
   ],
   "source": [
    "# Add code between comments:\n",
    "# -----------------------------\n",
    "\n",
    "df['dttm'] = pd.to_datetime(df['dttm'])\n",
    "df['tod'] = [str(var.hour)+\":\"+str(var.minute) for var in df.dttm]\n",
    "df['date'] = [str(var.year)+\"-\"+str(var.month)+\"-\"+str(var.day) for var in df.dttm]\n",
    "\n",
    "\n",
    "# -----------------------------\n",
    "df.head(10)"
   ]
  },
  {
   "cell_type": "markdown",
   "metadata": {},
   "source": [
    "# Save your notebook, then `File > Close and Halt`"
   ]
  }
 ],
 "metadata": {
  "kernelspec": {
   "display_name": "Python 3",
   "language": "python",
   "name": "python3"
  },
  "language_info": {
   "codemirror_mode": {
    "name": "ipython",
    "version": 3
   },
   "file_extension": ".py",
   "mimetype": "text/x-python",
   "name": "python",
   "nbconvert_exporter": "python",
   "pygments_lexer": "ipython3",
   "version": "3.7.3"
  },
  "latex_envs": {
   "LaTeX_envs_menu_present": true,
   "bibliofile": "biblio.bib",
   "cite_by": "apalike",
   "current_citInitial": 1,
   "eqLabelWithNumbers": true,
   "eqNumInitial": 1,
   "labels_anchors": false,
   "latex_user_defs": false,
   "report_style_numbering": false,
   "user_envs_cfg": false
  },
  "toc": {
   "colors": {
    "hover_highlight": "#DAA520",
    "running_highlight": "#FF0000",
    "selected_highlight": "#FFD700"
   },
   "moveMenuLeft": true,
   "nav_menu": {
    "height": "284.716px",
    "width": "251.989px"
   },
   "navigate_menu": true,
   "number_sections": true,
   "sideBar": true,
   "threshold": 4,
   "toc_cell": true,
   "toc_section_display": "block",
   "toc_window_display": false
  }
 },
 "nbformat": 4,
 "nbformat_minor": 4
}
