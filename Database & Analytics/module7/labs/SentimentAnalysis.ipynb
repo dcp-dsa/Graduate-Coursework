{
 "cells": [
  {
   "cell_type": "markdown",
   "metadata": {},
   "source": [
    "# Computational Lingustics - Sentiment Analysis"
   ]
  },
  {
   "cell_type": "markdown",
   "metadata": {},
   "source": [
    "In this lab, we are going to explore some sentiment analysis.Sentiment analysis in text is typically achieved by learning to solve a classification problem. The classes are typically,\n",
    "\n",
    " * Positive\n",
    " * Negative\n",
    " * Neutral\n",
    "\n",
    "Let's take a look at some tweets from Donald Trump over the past year. Now we are going to use the [VADER sentiment analyzer](http://comp.social.gatech.edu/papers/icwsm14.vader.hutto.pdf).\n",
    "\n",
    "Read more about **VADER** (Valence Aware Dictionary and sEntiment Reasoner) [here](https://github.com/cjhutto/vaderSentiment/blob/master/README.rst).\n"
   ]
  },
  {
   "cell_type": "code",
   "execution_count": 1,
   "metadata": {},
   "outputs": [],
   "source": [
    "#All the packages we are using in this project\n",
    "import nltk, re, pprint\n",
    "\n",
    "from nltk.sentiment.vader import SentimentIntensityAnalyzer\n",
    "from nltk import word_tokenize\n",
    "from nltk import FreqDist\n",
    "\n",
    "## Lets import some libraries form mathplotlib ... it's helpful for plotting. \n",
    "%matplotlib inline\n",
    "\n",
    "import matplotlib\n",
    "import matplotlib.pyplot as plt\n",
    "\n",
    "import pandas as pd\n",
    "import numpy as np"
   ]
  },
  {
   "cell_type": "markdown",
   "metadata": {},
   "source": [
    "All tweets from Donald Trump are stored in the file 'realDonaldTrump_tweets.txt' listed below.\n",
    "\n",
    "## Text Analysis\n",
    "For this text analysis we will look at the following:\n",
    " - Text [collocations](https://en.wikipedia.org/wiki/Collocation) to find common words that go together\n",
    " - Regular expressions to parse out hashtags and high frequency user accounts"
   ]
  },
  {
   "cell_type": "code",
   "execution_count": 2,
   "metadata": {},
   "outputs": [],
   "source": [
    "file_path = '/dsa/data/all_datasets/linguistic/realDonaldTrump_tweets.txt'\n"
   ]
  },
  {
   "cell_type": "markdown",
   "metadata": {},
   "source": [
    "Each line in this file is a tweet. So we will read the file into a set of lines, then we can use regular expressions to strip away symbols and web links in the tweets."
   ]
  },
  {
   "cell_type": "code",
   "execution_count": 3,
   "metadata": {},
   "outputs": [
    {
     "name": "stdout",
     "output_type": "stream",
     "text": [
      "['It was a great honor to have spoken before the countries of the world at the United Nations ', ' USAatUNGA UNGA  ', 'God bless the people of Mexico City  We are with you and will be there for you ', 'As President of the United States of America  I will ALWAYS put  AmericaFirst UNGA', 'Full remarks   ', 'Thehas great strength  amp  patience  but if it is forced to defend itself or its allies  we will have no choice but  ', 'RT  IvankaTrump  I have long respected India s accomplished and charismatic Foreign Minister  SushmaSwaraj  and it was an honor to meet her', 'Big day at the United Nations   many good things  and some tricky ones  happening  We have a great team  Big speech at 10 00 A M ', ' USAatUNGA  UNGA  ', 'We call for the full restoration of democracy and political freedoms in Venezuela  and we want it to happen very  v  ']\n"
     ]
    }
   ],
   "source": [
    "with open(file_path, 'r') as f:\n",
    "    tweets = f.read().splitlines()\n",
    "    tweets = [re.sub(r'[^\\w]|https.*\\b', ' ', t) for t in tweets]\n",
    "\n",
    "print(tweets[0:10])  \n",
    "\n"
   ]
  },
  {
   "cell_type": "markdown",
   "metadata": {},
   "source": [
    "## Using the ` SentimentIntensityAnalyzer` to analyze tweets"
   ]
  },
  {
   "cell_type": "code",
   "execution_count": 4,
   "metadata": {},
   "outputs": [
    {
     "name": "stdout",
     "output_type": "stream",
     "text": [
      "<class 'dict'>\n",
      "It was a great honor to have spoken before the countries of the world at the United Nations  {'neg': 0.0, 'neu': 0.581, 'pos': 0.419, 'compound': 0.8779}\n"
     ]
    }
   ],
   "source": [
    "analyzer = SentimentIntensityAnalyzer()\n",
    "vs = analyzer.polarity_scores(tweets[0])\n",
    "print(type(vs))\n",
    "print(\"{:-<65} {}\".format(tweets[0], str(vs)))"
   ]
  },
  {
   "cell_type": "markdown",
   "metadata": {},
   "source": [
    "**Read about scoring here:**https://github.com/cjhutto/vaderSentiment/blob/master/README.rst#about-the-scoring\n",
    "\n",
    "If we process the entire tweet data set, maybe we can understand the trends!"
   ]
  },
  {
   "cell_type": "code",
   "execution_count": 5,
   "metadata": {},
   "outputs": [
    {
     "data": {
      "text/html": [
       "<div>\n",
       "<style scoped>\n",
       "    .dataframe tbody tr th:only-of-type {\n",
       "        vertical-align: middle;\n",
       "    }\n",
       "\n",
       "    .dataframe tbody tr th {\n",
       "        vertical-align: top;\n",
       "    }\n",
       "\n",
       "    .dataframe thead th {\n",
       "        text-align: right;\n",
       "    }\n",
       "</style>\n",
       "<table border=\"1\" class=\"dataframe\">\n",
       "  <thead>\n",
       "    <tr style=\"text-align: right;\">\n",
       "      <th></th>\n",
       "      <th>tweet</th>\n",
       "      <th>neg</th>\n",
       "      <th>neu</th>\n",
       "      <th>pos</th>\n",
       "      <th>compound</th>\n",
       "    </tr>\n",
       "  </thead>\n",
       "  <tbody>\n",
       "    <tr>\n",
       "      <th>0</th>\n",
       "      <td>It was a great honor to have spoken before the...</td>\n",
       "      <td>0.0</td>\n",
       "      <td>0.581</td>\n",
       "      <td>0.419</td>\n",
       "      <td>0.8779</td>\n",
       "    </tr>\n",
       "    <tr>\n",
       "      <th>1</th>\n",
       "      <td>USAatUNGA UNGA</td>\n",
       "      <td>0.0</td>\n",
       "      <td>1.000</td>\n",
       "      <td>0.000</td>\n",
       "      <td>0.0000</td>\n",
       "    </tr>\n",
       "    <tr>\n",
       "      <th>2</th>\n",
       "      <td>God bless the people of Mexico City  We are wi...</td>\n",
       "      <td>0.0</td>\n",
       "      <td>0.754</td>\n",
       "      <td>0.246</td>\n",
       "      <td>0.5994</td>\n",
       "    </tr>\n",
       "    <tr>\n",
       "      <th>3</th>\n",
       "      <td>As President of the United States of America  ...</td>\n",
       "      <td>0.0</td>\n",
       "      <td>0.811</td>\n",
       "      <td>0.189</td>\n",
       "      <td>0.4215</td>\n",
       "    </tr>\n",
       "    <tr>\n",
       "      <th>4</th>\n",
       "      <td>Full remarks</td>\n",
       "      <td>0.0</td>\n",
       "      <td>1.000</td>\n",
       "      <td>0.000</td>\n",
       "      <td>0.0000</td>\n",
       "    </tr>\n",
       "  </tbody>\n",
       "</table>\n",
       "</div>"
      ],
      "text/plain": [
       "                                               tweet  neg    neu    pos  \\\n",
       "0  It was a great honor to have spoken before the...  0.0  0.581  0.419   \n",
       "1                                   USAatUNGA UNGA    0.0  1.000  0.000   \n",
       "2  God bless the people of Mexico City  We are wi...  0.0  0.754  0.246   \n",
       "3  As President of the United States of America  ...  0.0  0.811  0.189   \n",
       "4                                    Full remarks     0.0  1.000  0.000   \n",
       "\n",
       "   compound  \n",
       "0    0.8779  \n",
       "1    0.0000  \n",
       "2    0.5994  \n",
       "3    0.4215  \n",
       "4    0.0000  "
      ]
     },
     "execution_count": 5,
     "metadata": {},
     "output_type": "execute_result"
    }
   ],
   "source": [
    "analyzer = SentimentIntensityAnalyzer()\n",
    "tweets_sentiment = [analyzer.polarity_scores(t) for t in tweets]\n",
    "\n",
    "df = pd.DataFrame(tweets_sentiment)\n",
    "df['tweet'] = tweets\n",
    "\n",
    "df = df[['tweet', 'neg', 'neu', 'pos', 'compound']]\n",
    "\n",
    "df.head()"
   ]
  },
  {
   "cell_type": "markdown",
   "metadata": {},
   "source": [
    "Let's look at the statistics of the measurements.\n"
   ]
  },
  {
   "cell_type": "code",
   "execution_count": 6,
   "metadata": {},
   "outputs": [
    {
     "data": {
      "text/html": [
       "<div>\n",
       "<style scoped>\n",
       "    .dataframe tbody tr th:only-of-type {\n",
       "        vertical-align: middle;\n",
       "    }\n",
       "\n",
       "    .dataframe tbody tr th {\n",
       "        vertical-align: top;\n",
       "    }\n",
       "\n",
       "    .dataframe thead th {\n",
       "        text-align: right;\n",
       "    }\n",
       "</style>\n",
       "<table border=\"1\" class=\"dataframe\">\n",
       "  <thead>\n",
       "    <tr style=\"text-align: right;\">\n",
       "      <th></th>\n",
       "      <th>neg</th>\n",
       "      <th>neu</th>\n",
       "      <th>pos</th>\n",
       "      <th>compound</th>\n",
       "    </tr>\n",
       "  </thead>\n",
       "  <tbody>\n",
       "    <tr>\n",
       "      <th>count</th>\n",
       "      <td>3998.000000</td>\n",
       "      <td>3998.000000</td>\n",
       "      <td>3998.000000</td>\n",
       "      <td>3998.000000</td>\n",
       "    </tr>\n",
       "    <tr>\n",
       "      <th>mean</th>\n",
       "      <td>0.068681</td>\n",
       "      <td>0.697906</td>\n",
       "      <td>0.143122</td>\n",
       "      <td>0.124816</td>\n",
       "    </tr>\n",
       "    <tr>\n",
       "      <th>std</th>\n",
       "      <td>0.114564</td>\n",
       "      <td>0.278912</td>\n",
       "      <td>0.169294</td>\n",
       "      <td>0.481096</td>\n",
       "    </tr>\n",
       "    <tr>\n",
       "      <th>min</th>\n",
       "      <td>0.000000</td>\n",
       "      <td>0.000000</td>\n",
       "      <td>0.000000</td>\n",
       "      <td>-0.973500</td>\n",
       "    </tr>\n",
       "    <tr>\n",
       "      <th>25%</th>\n",
       "      <td>0.000000</td>\n",
       "      <td>0.596000</td>\n",
       "      <td>0.000000</td>\n",
       "      <td>0.000000</td>\n",
       "    </tr>\n",
       "    <tr>\n",
       "      <th>50%</th>\n",
       "      <td>0.000000</td>\n",
       "      <td>0.739000</td>\n",
       "      <td>0.099000</td>\n",
       "      <td>0.000000</td>\n",
       "    </tr>\n",
       "    <tr>\n",
       "      <th>75%</th>\n",
       "      <td>0.121000</td>\n",
       "      <td>0.896000</td>\n",
       "      <td>0.242000</td>\n",
       "      <td>0.510600</td>\n",
       "    </tr>\n",
       "    <tr>\n",
       "      <th>max</th>\n",
       "      <td>0.796000</td>\n",
       "      <td>1.000000</td>\n",
       "      <td>1.000000</td>\n",
       "      <td>0.980000</td>\n",
       "    </tr>\n",
       "  </tbody>\n",
       "</table>\n",
       "</div>"
      ],
      "text/plain": [
       "               neg          neu          pos     compound\n",
       "count  3998.000000  3998.000000  3998.000000  3998.000000\n",
       "mean      0.068681     0.697906     0.143122     0.124816\n",
       "std       0.114564     0.278912     0.169294     0.481096\n",
       "min       0.000000     0.000000     0.000000    -0.973500\n",
       "25%       0.000000     0.596000     0.000000     0.000000\n",
       "50%       0.000000     0.739000     0.099000     0.000000\n",
       "75%       0.121000     0.896000     0.242000     0.510600\n",
       "max       0.796000     1.000000     1.000000     0.980000"
      ]
     },
     "execution_count": 6,
     "metadata": {},
     "output_type": "execute_result"
    }
   ],
   "source": [
    "df.describe()"
   ]
  },
  {
   "cell_type": "markdown",
   "metadata": {},
   "source": [
    "We see that the average compound score is 0.126, so slightly positive speech.\n",
    "\n",
    "Note from the documentation, the standard classification: \n",
    "\n",
    "1. positive sentiment: compound score >= 0.05\n",
    "1. neutral sentiment: (compound score > -0.05) and (compound score < 0.05)\n",
    "1. negative sentiment: compound score <= -0.05\n",
    "\n"
   ]
  },
  {
   "cell_type": "code",
   "execution_count": 7,
   "metadata": {},
   "outputs": [
    {
     "data": {
      "text/html": [
       "<div>\n",
       "<style scoped>\n",
       "    .dataframe tbody tr th:only-of-type {\n",
       "        vertical-align: middle;\n",
       "    }\n",
       "\n",
       "    .dataframe tbody tr th {\n",
       "        vertical-align: top;\n",
       "    }\n",
       "\n",
       "    .dataframe thead th {\n",
       "        text-align: right;\n",
       "    }\n",
       "</style>\n",
       "<table border=\"1\" class=\"dataframe\">\n",
       "  <thead>\n",
       "    <tr style=\"text-align: right;\">\n",
       "      <th></th>\n",
       "      <th>tweet</th>\n",
       "      <th>neg</th>\n",
       "      <th>neu</th>\n",
       "      <th>pos</th>\n",
       "      <th>compound</th>\n",
       "      <th>sentiment</th>\n",
       "    </tr>\n",
       "  </thead>\n",
       "  <tbody>\n",
       "    <tr>\n",
       "      <th>0</th>\n",
       "      <td>It was a great honor to have spoken before the...</td>\n",
       "      <td>0.0</td>\n",
       "      <td>0.581</td>\n",
       "      <td>0.419</td>\n",
       "      <td>0.8779</td>\n",
       "      <td>POS</td>\n",
       "    </tr>\n",
       "    <tr>\n",
       "      <th>1</th>\n",
       "      <td>USAatUNGA UNGA</td>\n",
       "      <td>0.0</td>\n",
       "      <td>1.000</td>\n",
       "      <td>0.000</td>\n",
       "      <td>0.0000</td>\n",
       "      <td>NEU</td>\n",
       "    </tr>\n",
       "    <tr>\n",
       "      <th>2</th>\n",
       "      <td>God bless the people of Mexico City  We are wi...</td>\n",
       "      <td>0.0</td>\n",
       "      <td>0.754</td>\n",
       "      <td>0.246</td>\n",
       "      <td>0.5994</td>\n",
       "      <td>POS</td>\n",
       "    </tr>\n",
       "    <tr>\n",
       "      <th>3</th>\n",
       "      <td>As President of the United States of America  ...</td>\n",
       "      <td>0.0</td>\n",
       "      <td>0.811</td>\n",
       "      <td>0.189</td>\n",
       "      <td>0.4215</td>\n",
       "      <td>POS</td>\n",
       "    </tr>\n",
       "    <tr>\n",
       "      <th>4</th>\n",
       "      <td>Full remarks</td>\n",
       "      <td>0.0</td>\n",
       "      <td>1.000</td>\n",
       "      <td>0.000</td>\n",
       "      <td>0.0000</td>\n",
       "      <td>NEU</td>\n",
       "    </tr>\n",
       "  </tbody>\n",
       "</table>\n",
       "</div>"
      ],
      "text/plain": [
       "                                               tweet  neg    neu    pos  \\\n",
       "0  It was a great honor to have spoken before the...  0.0  0.581  0.419   \n",
       "1                                   USAatUNGA UNGA    0.0  1.000  0.000   \n",
       "2  God bless the people of Mexico City  We are wi...  0.0  0.754  0.246   \n",
       "3  As President of the United States of America  ...  0.0  0.811  0.189   \n",
       "4                                    Full remarks     0.0  1.000  0.000   \n",
       "\n",
       "   compound sentiment  \n",
       "0    0.8779       POS  \n",
       "1    0.0000       NEU  \n",
       "2    0.5994       POS  \n",
       "3    0.4215       POS  \n",
       "4    0.0000       NEU  "
      ]
     },
     "execution_count": 7,
     "metadata": {},
     "output_type": "execute_result"
    }
   ],
   "source": [
    "df['sentiment'] = 'NEU'\n",
    "df.loc[df['compound'] > 0.05, 'sentiment'] = 'POS'\n",
    "df.loc[df['compound'] < -0.05, 'sentiment'] = 'NEG'\n",
    "\n",
    "df.head()"
   ]
  },
  {
   "cell_type": "markdown",
   "metadata": {},
   "source": [
    "---\n",
    "\n",
    "### Let's visualize!\n"
   ]
  },
  {
   "cell_type": "code",
   "execution_count": 8,
   "metadata": {},
   "outputs": [
    {
     "data": {
      "image/png": "[encoded data removed]",
      "text/plain": [
       "<Figure size 432x288 with 1 Axes>"
      ]
     },
     "metadata": {},
     "output_type": "display_data"
    }
   ],
   "source": [
    "import seaborn as sns\n",
    "sns.set()\n",
    "sns.boxplot(x=\"sentiment\", y=\"compound\", data=df);"
   ]
  },
  {
   "cell_type": "markdown",
   "metadata": {},
   "source": [
    "---\n",
    "# Save notebook, then `File > Close and Halt`"
   ]
  }
 ],
 "metadata": {
  "kernelspec": {
   "display_name": "Python 3",
   "language": "python",
   "name": "python3"
  },
  "language_info": {
   "codemirror_mode": {
    "name": "ipython",
    "version": 3
   },
   "file_extension": ".py",
   "mimetype": "text/x-python",
   "name": "python",
   "nbconvert_exporter": "python",
   "pygments_lexer": "ipython3",
   "version": "3.7.3"
  },
  "latex_envs": {
   "LaTeX_envs_menu_present": true,
   "bibliofile": "biblio.bib",
   "cite_by": "apalike",
   "current_citInitial": 1,
   "eqLabelWithNumbers": true,
   "eqNumInitial": 1,
   "labels_anchors": false,
   "latex_user_defs": false,
   "report_style_numbering": false,
   "user_envs_cfg": false
  },
  "toc": {
   "colors": {
    "hover_highlight": "#DAA520",
    "running_highlight": "#FF0000",
    "selected_highlight": "#FFD700"
   },
   "moveMenuLeft": true,
   "nav_menu": {
    "height": "175.625px",
    "width": "251.989px"
   },
   "navigate_menu": true,
   "number_sections": true,
   "sideBar": true,
   "threshold": 4,
   "toc_cell": true,
   "toc_section_display": "block",
   "toc_window_display": true
  }
 },
 "nbformat": 4,
 "nbformat_minor": 4
}
