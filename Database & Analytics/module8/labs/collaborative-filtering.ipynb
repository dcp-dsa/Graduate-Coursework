{
 "cells": [
  {
   "cell_type": "markdown",
   "metadata": {
    "_cell_guid": "989ca8ad-c205-4c89-95f5-0678f63e90c1",
    "_uuid": "9c02125458024687b9bc5e80309c0d73ad3bd822"
   },
   "source": [
    "# Recommender Systems in Python "
   ]
  },
  {
   "cell_type": "markdown",
   "metadata": {
    "_cell_guid": "e4fd4b09-74b8-4e31-a934-920bedb8dac6",
    "_uuid": "3f8d6760d36ba5a1ff7999831c6d893b2be6c94f"
   },
   "source": [
    "This notebook is adapted from [this](https://www.kaggle.com/gspmoreira/recommender-systems-in-python-101) Kaggle notebook which provides a practical introduction to the main recommender system (RecSys) techniques. "
   ]
  },
  {
   "cell_type": "markdown",
   "metadata": {
    "_cell_guid": "bd1c7313-f898-4d87-a281-b405ad2bb006",
    "_uuid": "23c5f6f635d1ede5e6fa2ebecb7b6a4ede99a50b"
   },
   "source": [
    "In this notebook, we use a dataset available on Kaggle Datasets: [Articles Sharing and Reading from CI&T Deskdrop](https://www.kaggle.com/gspmoreira/articles-sharing-reading-from-cit-deskdrop). We will demonstrate how to implement **popularity model**, **collaborative filtering**, **content-based filtering** and **hybrid methods** in Python, for the task of providing personalized recommendations to the users."
   ]
  },
  {
   "cell_type": "code",
   "execution_count": 1,
   "metadata": {
    "_cell_guid": "719f3966-e6fd-49c8-9f60-7bd741542450",
    "_uuid": "b61cd3125a7f8f991fc1bda85ae3cd26f74090ae"
   },
   "outputs": [],
   "source": [
    "import numpy as np\n",
    "import scipy\n",
    "import pandas as pd\n",
    "import math\n",
    "import random\n",
    "import sklearn\n",
    "from nltk.corpus import stopwords\n",
    "from scipy.sparse import csr_matrix\n",
    "from sklearn.model_selection import train_test_split\n",
    "from sklearn.feature_extraction.text import TfidfVectorizer\n",
    "from sklearn.metrics.pairwise import cosine_similarity\n",
    "from scipy.sparse.linalg import svds\n",
    "from sklearn.preprocessing import MinMaxScaler\n",
    "import matplotlib.pyplot as plt"
   ]
  },
  {
   "cell_type": "markdown",
   "metadata": {
    "_cell_guid": "5f5c826d-f3d5-42d3-a7e6-0343a44cdc9f",
    "_uuid": "26f1f70fd978957b26f8884fc5f82bfe9475c666"
   },
   "source": [
    "# Loading data: CI&T Deskdrop dataset"
   ]
  },
  {
   "cell_type": "markdown",
   "metadata": {
    "_cell_guid": "3c48b62c-ad3b-4218-8fb2-2f0e86a16edc",
    "_uuid": "650c279eddc846a48274346e045cfb6e1f8895d5"
   },
   "source": [
    "In this section, we load the [Deskdrop dataset](https://www.kaggle.com/gspmoreira/articles-sharing-reading-from-cit-deskdrop), which contains a real sample of 12 months logs (Mar. 2016 - Feb. 2017) from CI&T's Internal Communication platform (DeskDrop). It contains about 73k logged users interactions on more than 3k public articles shared in the platform.\n",
    "It is composed of two CSV files:  \n",
    "- **shared_articles.csv**\n",
    "- **users_interactions.csv**\n",
    "\n",
    "Take a look in this kernels for a better picture of the dataset: \n",
    "- Deskdrop datasets EDA \n",
    "- DeskDrop Articles Topic Modeling"
   ]
  },
  {
   "cell_type": "markdown",
   "metadata": {
    "_cell_guid": "c9ee29ff-1fee-4dc9-a3cb-e5301c17fded",
    "_uuid": "1e66e976d34d4e28f5a92241b0ea82a2a66363ea"
   },
   "source": [
    "## shared_articles.csv"
   ]
  },
  {
   "cell_type": "markdown",
   "metadata": {
    "_cell_guid": "f09d2247-a40c-4aaf-90ce-15a8721a3036",
    "_uuid": "e64f4fa8a4751274bd2d37a0f45d2d3d664d6c3e"
   },
   "source": [
    "Contains information about the articles shared in the platform. Each article has its sharing date (timestamp), the original url, title, content in plain text, the article' lang (Portuguese: pt or English: en) and information about the user who shared the article (author).\n",
    "\n",
    "There are two possible event types at a given timestamp: \n",
    "- CONTENT SHARED: The article was shared in the platform and is available for users. \n",
    "- CONTENT REMOVED: The article was removed from the platform and not available for further recommendation.\n",
    "\n",
    "For the sake of simplicity, we only consider here the \"CONTENT SHARED\" event type, assuming (naively) that all articles were available during the whole one year period. For a more precise evaluation (and higher accuracy), only articles that were available at a given time should be recommended, but we let this exercice for you."
   ]
  },
  {
   "cell_type": "code",
   "execution_count": 2,
   "metadata": {
    "_cell_guid": "e601f966-d03f-4edc-886f-ca3d511a8045",
    "_uuid": "569c301bd128f66f29b4d97c34171e4d1712015a"
   },
   "outputs": [
    {
     "name": "stdout",
     "output_type": "stream",
     "text": [
      "Number of articles = 3122\n",
      "Number of content shared type articles = 3047\n"
     ]
    },
    {
     "data": {
      "text/html": [
       "<div>\n",
       "<style scoped>\n",
       "    .dataframe tbody tr th:only-of-type {\n",
       "        vertical-align: middle;\n",
       "    }\n",
       "\n",
       "    .dataframe tbody tr th {\n",
       "        vertical-align: top;\n",
       "    }\n",
       "\n",
       "    .dataframe thead th {\n",
       "        text-align: right;\n",
       "    }\n",
       "</style>\n",
       "<table border=\"1\" class=\"dataframe\">\n",
       "  <thead>\n",
       "    <tr style=\"text-align: right;\">\n",
       "      <th></th>\n",
       "      <th>timestamp</th>\n",
       "      <th>eventType</th>\n",
       "      <th>contentId</th>\n",
       "      <th>authorPersonId</th>\n",
       "      <th>authorSessionId</th>\n",
       "      <th>authorUserAgent</th>\n",
       "      <th>authorRegion</th>\n",
       "      <th>authorCountry</th>\n",
       "      <th>contentType</th>\n",
       "      <th>url</th>\n",
       "      <th>title</th>\n",
       "      <th>text</th>\n",
       "      <th>lang</th>\n",
       "    </tr>\n",
       "  </thead>\n",
       "  <tbody>\n",
       "    <tr>\n",
       "      <th>1</th>\n",
       "      <td>1459193988</td>\n",
       "      <td>CONTENT SHARED</td>\n",
       "      <td>-4110354420726924665</td>\n",
       "      <td>4340306774493623681</td>\n",
       "      <td>8940341205206233829</td>\n",
       "      <td>NaN</td>\n",
       "      <td>NaN</td>\n",
       "      <td>NaN</td>\n",
       "      <td>HTML</td>\n",
       "      <td>http://www.nytimes.com/2016/03/28/business/dea...</td>\n",
       "      <td>Ethereum, a Virtual Currency, Enables Transact...</td>\n",
       "      <td>All of this work is still very early. The firs...</td>\n",
       "      <td>en</td>\n",
       "    </tr>\n",
       "  </tbody>\n",
       "</table>\n",
       "</div>"
      ],
      "text/plain": [
       "    timestamp       eventType            contentId       authorPersonId  \\\n",
       "1  1459193988  CONTENT SHARED -4110354420726924665  4340306774493623681   \n",
       "\n",
       "       authorSessionId authorUserAgent authorRegion authorCountry contentType  \\\n",
       "1  8940341205206233829             NaN          NaN           NaN        HTML   \n",
       "\n",
       "                                                 url  \\\n",
       "1  http://www.nytimes.com/2016/03/28/business/dea...   \n",
       "\n",
       "                                               title  \\\n",
       "1  Ethereum, a Virtual Currency, Enables Transact...   \n",
       "\n",
       "                                                text lang  \n",
       "1  All of this work is still very early. The firs...   en  "
      ]
     },
     "execution_count": 2,
     "metadata": {},
     "output_type": "execute_result"
    }
   ],
   "source": [
    "filepath = '/dsa/data/DSA-8410/deskdrop/shared_articles.csv'\n",
    "\n",
    "articles_df = pd.read_csv(filepath)\n",
    "print(f\"Number of articles = {articles_df.shape[0]}\")\n",
    "articles_df = articles_df[articles_df['eventType'] == 'CONTENT SHARED']\n",
    "print(f\"Number of content shared type articles = {articles_df.shape[0]}\")\n",
    "articles_df.head(1)"
   ]
  },
  {
   "cell_type": "code",
   "execution_count": 3,
   "metadata": {},
   "outputs": [
    {
     "name": "stdout",
     "output_type": "stream",
     "text": [
      "<class 'pandas.core.frame.DataFrame'>\n",
      "Int64Index: 3047 entries, 1 to 3121\n",
      "Data columns (total 13 columns):\n",
      " #   Column           Non-Null Count  Dtype \n",
      "---  ------           --------------  ----- \n",
      " 0   timestamp        3047 non-null   int64 \n",
      " 1   eventType        3047 non-null   object\n",
      " 2   contentId        3047 non-null   int64 \n",
      " 3   authorPersonId   3047 non-null   int64 \n",
      " 4   authorSessionId  3047 non-null   int64 \n",
      " 5   authorUserAgent  669 non-null    object\n",
      " 6   authorRegion     669 non-null    object\n",
      " 7   authorCountry    669 non-null    object\n",
      " 8   contentType      3047 non-null   object\n",
      " 9   url              3047 non-null   object\n",
      " 10  title            3047 non-null   object\n",
      " 11  text             3047 non-null   object\n",
      " 12  lang             3047 non-null   object\n",
      "dtypes: int64(4), object(9)\n",
      "memory usage: 333.3+ KB\n"
     ]
    }
   ],
   "source": [
    "articles_df.info()"
   ]
  },
  {
   "cell_type": "markdown",
   "metadata": {
    "_cell_guid": "487936d5-d7b3-487d-9ef1-e3ba1e4bc421",
    "_uuid": "3f96f2d88fa86814e2fa1273d80f26d2559823fd"
   },
   "source": [
    "## users_interactions.csv"
   ]
  },
  {
   "cell_type": "markdown",
   "metadata": {
    "_cell_guid": "325b8db8-ef44-4b59-8138-2a59bd02d66e",
    "_uuid": "86694f1b80b04b8f9b961148fb265f355f202b26"
   },
   "source": [
    "Contains logs of user interactions on shared articles. It can be joined to **articles_shared.csv** by **contentId** column.\n",
    "\n",
    "The eventType values are:  \n",
    "- **VIEW**: The user has opened the article. \n",
    "- **LIKE**: The user has liked the article. \n",
    "- **COMMENT CREATED**: The user created a comment in the article. \n",
    "- **FOLLOW**: The user chose to be notified on any new comment in the article. \n",
    "- **BOOKMARK**: The user has bookmarked the article for easy return in the future."
   ]
  },
  {
   "cell_type": "code",
   "execution_count": 4,
   "metadata": {
    "_cell_guid": "445d39ec-f6b0-4155-9f92-0a2540918bd1",
    "_uuid": "9829842326037e364de457f832deceae074d6164"
   },
   "outputs": [
    {
     "data": {
      "text/html": [
       "<div>\n",
       "<style scoped>\n",
       "    .dataframe tbody tr th:only-of-type {\n",
       "        vertical-align: middle;\n",
       "    }\n",
       "\n",
       "    .dataframe tbody tr th {\n",
       "        vertical-align: top;\n",
       "    }\n",
       "\n",
       "    .dataframe thead th {\n",
       "        text-align: right;\n",
       "    }\n",
       "</style>\n",
       "<table border=\"1\" class=\"dataframe\">\n",
       "  <thead>\n",
       "    <tr style=\"text-align: right;\">\n",
       "      <th></th>\n",
       "      <th>timestamp</th>\n",
       "      <th>eventType</th>\n",
       "      <th>contentId</th>\n",
       "      <th>personId</th>\n",
       "      <th>sessionId</th>\n",
       "      <th>userAgent</th>\n",
       "      <th>userRegion</th>\n",
       "      <th>userCountry</th>\n",
       "    </tr>\n",
       "  </thead>\n",
       "  <tbody>\n",
       "    <tr>\n",
       "      <th>0</th>\n",
       "      <td>1465413032</td>\n",
       "      <td>VIEW</td>\n",
       "      <td>-3499919498720038879</td>\n",
       "      <td>-8845298781299428018</td>\n",
       "      <td>1264196770339959068</td>\n",
       "      <td>NaN</td>\n",
       "      <td>NaN</td>\n",
       "      <td>NaN</td>\n",
       "    </tr>\n",
       "    <tr>\n",
       "      <th>1</th>\n",
       "      <td>1465412560</td>\n",
       "      <td>VIEW</td>\n",
       "      <td>8890720798209849691</td>\n",
       "      <td>-1032019229384696495</td>\n",
       "      <td>3621737643587579081</td>\n",
       "      <td>Mozilla/5.0 (Macintosh; Intel Mac OS X 10_11_2...</td>\n",
       "      <td>NY</td>\n",
       "      <td>US</td>\n",
       "    </tr>\n",
       "    <tr>\n",
       "      <th>2</th>\n",
       "      <td>1465416190</td>\n",
       "      <td>VIEW</td>\n",
       "      <td>310515487419366995</td>\n",
       "      <td>-1130272294246983140</td>\n",
       "      <td>2631864456530402479</td>\n",
       "      <td>NaN</td>\n",
       "      <td>NaN</td>\n",
       "      <td>NaN</td>\n",
       "    </tr>\n",
       "    <tr>\n",
       "      <th>3</th>\n",
       "      <td>1465413895</td>\n",
       "      <td>FOLLOW</td>\n",
       "      <td>310515487419366995</td>\n",
       "      <td>344280948527967603</td>\n",
       "      <td>-3167637573980064150</td>\n",
       "      <td>NaN</td>\n",
       "      <td>NaN</td>\n",
       "      <td>NaN</td>\n",
       "    </tr>\n",
       "    <tr>\n",
       "      <th>4</th>\n",
       "      <td>1465412290</td>\n",
       "      <td>VIEW</td>\n",
       "      <td>-7820640624231356730</td>\n",
       "      <td>-445337111692715325</td>\n",
       "      <td>5611481178424124714</td>\n",
       "      <td>NaN</td>\n",
       "      <td>NaN</td>\n",
       "      <td>NaN</td>\n",
       "    </tr>\n",
       "  </tbody>\n",
       "</table>\n",
       "</div>"
      ],
      "text/plain": [
       "    timestamp eventType            contentId             personId  \\\n",
       "0  1465413032      VIEW -3499919498720038879 -8845298781299428018   \n",
       "1  1465412560      VIEW  8890720798209849691 -1032019229384696495   \n",
       "2  1465416190      VIEW   310515487419366995 -1130272294246983140   \n",
       "3  1465413895    FOLLOW   310515487419366995   344280948527967603   \n",
       "4  1465412290      VIEW -7820640624231356730  -445337111692715325   \n",
       "\n",
       "             sessionId                                          userAgent  \\\n",
       "0  1264196770339959068                                                NaN   \n",
       "1  3621737643587579081  Mozilla/5.0 (Macintosh; Intel Mac OS X 10_11_2...   \n",
       "2  2631864456530402479                                                NaN   \n",
       "3 -3167637573980064150                                                NaN   \n",
       "4  5611481178424124714                                                NaN   \n",
       "\n",
       "  userRegion userCountry  \n",
       "0        NaN         NaN  \n",
       "1         NY          US  \n",
       "2        NaN         NaN  \n",
       "3        NaN         NaN  \n",
       "4        NaN         NaN  "
      ]
     },
     "execution_count": 4,
     "metadata": {},
     "output_type": "execute_result"
    }
   ],
   "source": [
    "\n",
    "filepath = '/dsa/data/DSA-8410/deskdrop/users_interactions.csv'\n",
    "\n",
    "\n",
    "interactions_df = pd.read_csv(filepath)\n",
    "interactions_df.head(5)"
   ]
  },
  {
   "cell_type": "markdown",
   "metadata": {
    "_cell_guid": "585f81a5-c6ff-4399-bbec-901c41fc7285",
    "_uuid": "6abb0af8474eabb50be7a9e6496bfa75ec1b2bd9"
   },
   "source": [
    "## Data munging"
   ]
  },
  {
   "cell_type": "markdown",
   "metadata": {
    "_cell_guid": "bad1a6c9-0258-4b89-85f9-bec89a523662",
    "_uuid": "84c2e91561d5de6afa7c45c173022193664c770e"
   },
   "source": [
    "As there are different interactions types, we associate them with a weight or strength, assuming that, for example, a comment in an article indicates a higher interest of the user on the item than a like, or than a simple view."
   ]
  },
  {
   "cell_type": "code",
   "execution_count": 5,
   "metadata": {
    "_cell_guid": "3239c376-05b8-4a58-9afc-f6f57f67405f",
    "_uuid": "b06f8c0b082f0ad07bf773a5ad2fae33c1f7acc2"
   },
   "outputs": [],
   "source": [
    "event_type_strength = {\n",
    "   'VIEW': 1.0,\n",
    "   'LIKE': 2.0, \n",
    "   'BOOKMARK': 2.5, \n",
    "   'FOLLOW': 3.0,\n",
    "   'COMMENT CREATED': 4.0,  \n",
    "}\n",
    "\n",
    "interactions_df['eventStrength'] = interactions_df['eventType'].apply(lambda x: event_type_strength[x])"
   ]
  },
  {
   "cell_type": "markdown",
   "metadata": {
    "_cell_guid": "5c92aa80-2926-44db-b358-c4c32de806c4",
    "_uuid": "91100a395fdf4fb20df02c8d248072457c980b5d"
   },
   "source": [
    "Recommender systems have a problem known as ***user cold-start***, in which is hard do provide personalized recommendations for users with none or a very few number of consumed items, due to the lack of information to model their preferences. For this reason, we are keeping in the dataset only users with at leas 5 interactions."
   ]
  },
  {
   "cell_type": "code",
   "execution_count": 6,
   "metadata": {
    "_cell_guid": "bad1d8ea-9b67-4a47-80c5-87a5e55c4f38",
    "_uuid": "1698c88340183baa7f3ebb8c3b60eaa8e6ca708f"
   },
   "outputs": [
    {
     "name": "stdout",
     "output_type": "stream",
     "text": [
      "# users: 1895\n",
      "# users with at least 5 interactions: 1140\n"
     ]
    }
   ],
   "source": [
    "users_interactions_count_df = interactions_df.groupby(['personId', 'contentId']).size() \\\n",
    "                                             .groupby('personId').size()\n",
    "print(f'# users: {len(users_interactions_count_df)}')\n",
    "users_with_enough_interactions_df = users_interactions_count_df[\n",
    "                                    users_interactions_count_df >= 5].reset_index()[['personId']]\n",
    "print(f'# users with at least 5 interactions: {len(users_with_enough_interactions_df)}')"
   ]
  },
  {
   "cell_type": "code",
   "execution_count": 7,
   "metadata": {
    "_cell_guid": "4e79a418-a9d6-4e01-9f38-9b290a645626",
    "_uuid": "0f428a4c6e76f95de7ea328dc33c6539389ae5f0"
   },
   "outputs": [
    {
     "name": "stdout",
     "output_type": "stream",
     "text": [
      "# of interactions: 72312\n",
      "# of interactions from users with at least 5 interactions: 69868\n"
     ]
    }
   ],
   "source": [
    "print(f'# of interactions: {len(interactions_df)}')\n",
    "interactions_from_selected_users_df = interactions_df.merge(users_with_enough_interactions_df, \n",
    "               how = 'right',\n",
    "               on = 'personId')\n",
    "print(f'# of interactions from users with at least 5 interactions: {len(interactions_from_selected_users_df)}')"
   ]
  },
  {
   "cell_type": "markdown",
   "metadata": {
    "_cell_guid": "b81f2aae-4672-4ae7-aee5-f2c8f49ed863",
    "_uuid": "db9ae42791a79461ff11a462d142eae3d6c23e88"
   },
   "source": [
    "In Deskdrop, users are allowed to view an article many times, and interact with them in different ways (eg. like or comment). Thus, to model the user interest on a given article, we aggregate all the interactions the user has performed in an item by a weighted sum of interaction type strength and apply a log transformation to smooth the distribution."
   ]
  },
  {
   "cell_type": "code",
   "execution_count": 8,
   "metadata": {
    "_cell_guid": "54c82dd1-1102-4f11-ac6a-7993f8e5e842",
    "_uuid": "dcd64b20b47cf2c365341303ff410626a801f7a6"
   },
   "outputs": [
    {
     "name": "stdout",
     "output_type": "stream",
     "text": [
      "# of unique user/item interactions: 39106\n"
     ]
    },
    {
     "data": {
      "text/html": [
       "<div>\n",
       "<style scoped>\n",
       "    .dataframe tbody tr th:only-of-type {\n",
       "        vertical-align: middle;\n",
       "    }\n",
       "\n",
       "    .dataframe tbody tr th {\n",
       "        vertical-align: top;\n",
       "    }\n",
       "\n",
       "    .dataframe thead th {\n",
       "        text-align: right;\n",
       "    }\n",
       "</style>\n",
       "<table border=\"1\" class=\"dataframe\">\n",
       "  <thead>\n",
       "    <tr style=\"text-align: right;\">\n",
       "      <th></th>\n",
       "      <th>personId</th>\n",
       "      <th>contentId</th>\n",
       "      <th>eventStrength</th>\n",
       "    </tr>\n",
       "  </thead>\n",
       "  <tbody>\n",
       "    <tr>\n",
       "      <th>0</th>\n",
       "      <td>-9223121837663643404</td>\n",
       "      <td>-8949113594875411859</td>\n",
       "      <td>1.000000</td>\n",
       "    </tr>\n",
       "    <tr>\n",
       "      <th>1</th>\n",
       "      <td>-9223121837663643404</td>\n",
       "      <td>-8377626164558006982</td>\n",
       "      <td>1.000000</td>\n",
       "    </tr>\n",
       "    <tr>\n",
       "      <th>2</th>\n",
       "      <td>-9223121837663643404</td>\n",
       "      <td>-8208801367848627943</td>\n",
       "      <td>1.000000</td>\n",
       "    </tr>\n",
       "    <tr>\n",
       "      <th>3</th>\n",
       "      <td>-9223121837663643404</td>\n",
       "      <td>-8187220755213888616</td>\n",
       "      <td>1.000000</td>\n",
       "    </tr>\n",
       "    <tr>\n",
       "      <th>4</th>\n",
       "      <td>-9223121837663643404</td>\n",
       "      <td>-7423191370472335463</td>\n",
       "      <td>3.169925</td>\n",
       "    </tr>\n",
       "  </tbody>\n",
       "</table>\n",
       "</div>"
      ],
      "text/plain": [
       "              personId            contentId  eventStrength\n",
       "0 -9223121837663643404 -8949113594875411859       1.000000\n",
       "1 -9223121837663643404 -8377626164558006982       1.000000\n",
       "2 -9223121837663643404 -8208801367848627943       1.000000\n",
       "3 -9223121837663643404 -8187220755213888616       1.000000\n",
       "4 -9223121837663643404 -7423191370472335463       3.169925"
      ]
     },
     "execution_count": 8,
     "metadata": {},
     "output_type": "execute_result"
    }
   ],
   "source": [
    "def smooth_user_preference(x):\n",
    "    return math.log(1+x, 2)    # 1 is added to avoid 0 score\n",
    "    \n",
    "interactions_full_df = interactions_from_selected_users_df \\\n",
    "                    .groupby(['personId', 'contentId'])['eventStrength'].sum() \\\n",
    "                    .apply(smooth_user_preference).reset_index()\n",
    "print(f'# of unique user/item interactions: {len(interactions_full_df)}')\n",
    "interactions_full_df.head(5)"
   ]
  },
  {
   "cell_type": "markdown",
   "metadata": {
    "_cell_guid": "7db22656-f1b2-4264-b74d-92ef7e03168e",
    "_uuid": "999dac17031a334be5a2245086e9c4655c5e8324"
   },
   "source": [
    "# Evaluation"
   ]
  },
  {
   "cell_type": "markdown",
   "metadata": {
    "_cell_guid": "4c67fc79-fb30-4bb0-837d-a3097bf8b9b4",
    "_uuid": "7951a4fce829b66e1c96ef81fd33b12dac5eae0f"
   },
   "source": [
    "We can split the data into train/test sets for evaluation. A more robust evaluation approach could be to split train and test sets by a reference date, where the train set is composed by all interactions before that date, and the test set are interactions after that date. For the sake of simplicity, we chose the first random approach for this notebook, but you may want to try the second approach to better simulate how the recsys would perform in production predicting \"future\" users interactions."
   ]
  },
  {
   "cell_type": "code",
   "execution_count": 9,
   "metadata": {
    "_cell_guid": "e594a5ef-255a-4d30-9ab2-7cebe12fe798",
    "_uuid": "babda61be5306281b34422dbded67675a0aab17d"
   },
   "outputs": [
    {
     "name": "stdout",
     "output_type": "stream",
     "text": [
      "# interactions on Train set: 31284\n",
      "# interactions on Test set: 7822\n"
     ]
    }
   ],
   "source": [
    "interactions_train_df, interactions_test_df = train_test_split(interactions_full_df,\n",
    "                                   stratify=interactions_full_df['personId'], \n",
    "                                   test_size=0.20,\n",
    "                                   random_state=42)\n",
    "\n",
    "print('# interactions on Train set: %d' % len(interactions_train_df))\n",
    "print('# interactions on Test set: %d' % len(interactions_test_df))"
   ]
  },
  {
   "cell_type": "markdown",
   "metadata": {
    "_cell_guid": "be788cfc-2733-4184-8dfb-24d789e3b7da",
    "_uuid": "9a1ce40c5b2b7f89c2e34a8fce1adbeb0cfabf46"
   },
   "source": [
    "In Recommender Systems, there are a set metrics commonly used for evaluation. We chose to work with **Top-N accuracy metrics**, which evaluates the accuracy of the top recommendations provided to a user, comparing to the items the user has actually interacted in test set.  \n",
    "This evaluation method works as follows:\n",
    "\n",
    "* For each user\n",
    "    * For each item the user has interacted in test set\n",
    "        * Sample 100 other items the user has never interacted.   \n",
    "        Ps. Here we naively assume those non interacted items are not relevant to the user, which might not be true, as the user may simply not be aware of those not interacted items. But let's keep this assumption.\n",
    "        * Ask the recommender model to produce a ranked list of recommended items, from a set composed one interacted item and the 100 non-interacted (\"non-relevant!) items\n",
    "        * Compute the Top-N accuracy metrics for this user and interacted item from the recommendations ranked list\n",
    "* Aggregate the global Top-N accuracy metrics"
   ]
  },
  {
   "cell_type": "markdown",
   "metadata": {
    "_cell_guid": "a6f711db-3848-42de-9cb1-8adbe9fffbbd",
    "_uuid": "cb9da9e9269f20d347c9a7d0320da02f5b5d9cda"
   },
   "source": [
    "The Top-N accuracy metric choosen was **Recall@N** which evaluates whether the interacted item is among the top N items (hit) in the ranked list of 101 recommendations for a user.  \n",
    "Ps. Other popular ranking metrics are **NDCG@N** and **MAP@N**, whose score calculation takes into account the position of the relevant item in the ranked list (max. value if relevant item is in the first position)."
   ]
  },
  {
   "cell_type": "code",
   "execution_count": 10,
   "metadata": {
    "_cell_guid": "5f08b8ac-00c7-43db-89b6-4c6637f92ec5",
    "_uuid": "b97d86eb838b7dc3ce70ce2bc460b37f643fbcbb"
   },
   "outputs": [],
   "source": [
    "#Indexing by personId to speed up the searches during evaluation\n",
    "interactions_full_indexed_df = interactions_full_df.set_index('personId')\n",
    "interactions_train_indexed_df = interactions_train_df.set_index('personId')\n",
    "interactions_test_indexed_df = interactions_test_df.set_index('personId')"
   ]
  },
  {
   "cell_type": "code",
   "execution_count": 11,
   "metadata": {
    "_cell_guid": "3ee4bdf5-fcde-418f-accc-c51421a71d75",
    "_uuid": "4c008550d5312b45c1786407cce587eaf19b565c"
   },
   "outputs": [],
   "source": [
    "def get_items_interacted(person_id, interactions_df):\n",
    "    # Get the user's data and merge in the article information.\n",
    "    interacted_items = interactions_df.loc[person_id]['contentId']\n",
    "    return set(interacted_items if type(interacted_items) == pd.Series else [interacted_items])"
   ]
  },
  {
   "cell_type": "code",
   "execution_count": 12,
   "metadata": {
    "_cell_guid": "0e0639e7-4041-473d-a090-cd0087ce92c3",
    "_uuid": "c9612b159a8d626fe986586230b829ce2e93aff7"
   },
   "outputs": [],
   "source": [
    "#Top-N accuracy metrics consts\n",
    "EVAL_RANDOM_SAMPLE_NON_INTERACTED_ITEMS = 100\n",
    "\n",
    "class ModelEvaluator:\n",
    "\n",
    "    def get_not_interacted_items_sample(self, person_id, sample_size, seed=42):\n",
    "        interacted_items = get_items_interacted(person_id, interactions_full_indexed_df)\n",
    "        all_items = set(articles_df['contentId'])\n",
    "        non_interacted_items = all_items - interacted_items\n",
    "\n",
    "        random.seed(seed)\n",
    "        non_interacted_items_sample = random.sample(list(non_interacted_items), sample_size)\n",
    "        return set(non_interacted_items_sample)\n",
    "\n",
    "    def _verify_hit_top_n(self, item_id, recommended_items, topn):        \n",
    "            try:\n",
    "                index = next(i for i, c in enumerate(recommended_items) if c == item_id)\n",
    "            except:\n",
    "                index = -1\n",
    "            hit = int(index in range(0, topn))\n",
    "            return hit, index\n",
    "\n",
    "    def evaluate_model_for_user(self, model, person_id):\n",
    "        #Getting the items in test set\n",
    "        interacted_values_testset = interactions_test_indexed_df.loc[person_id]\n",
    "        \n",
    "        if type(interacted_values_testset['contentId']) == pd.Series:\n",
    "            person_interacted_items_testset = set(interacted_values_testset['contentId'])\n",
    "        else:\n",
    "            person_interacted_items_testset = set([int(interacted_values_testset['contentId'])]) \n",
    "            \n",
    "        interacted_items_count_testset = len(person_interacted_items_testset) \n",
    "\n",
    "        #Getting a ranked recommendation list from a model for a given user\n",
    "        person_recs_df = model.recommend_items(person_id, items_to_ignore=get_items_interacted(\n",
    "                                               person_id, interactions_train_indexed_df), \n",
    "                                               topn=10000000000)\n",
    "\n",
    "        hits_at_5_count = 0\n",
    "        hits_at_10_count = 0\n",
    "        \n",
    "        #For each item the user has interacted in test set\n",
    "        for item_id in person_interacted_items_testset:\n",
    "            #Getting a random sample (100) items the user has not interacted \n",
    "            #(to represent items that are assumed to be no relevant to the user)\n",
    "            non_interacted_items_sample = self.get_not_interacted_items_sample(person_id, \n",
    "                                                                          sample_size=EVAL_RANDOM_SAMPLE_NON_INTERACTED_ITEMS, \n",
    "                                                                          seed=item_id%(2**32))\n",
    "\n",
    "            #Combining the current interacted item with the 100 random items\n",
    "            items_to_filter_recs = non_interacted_items_sample.union(set([item_id]))\n",
    "\n",
    "            #Filtering only recommendations that are either the interacted item or from a random sample of 100 non-interacted items\n",
    "            valid_recs_df = person_recs_df[person_recs_df['contentId'].isin(items_to_filter_recs)]                    \n",
    "            valid_recs = valid_recs_df['contentId'].values\n",
    "            #Verifying if the current interacted item is among the Top-N recommended items\n",
    "            hit_at_5, index_at_5 = self._verify_hit_top_n(item_id, valid_recs, 5)\n",
    "            hits_at_5_count += hit_at_5\n",
    "            hit_at_10, index_at_10 = self._verify_hit_top_n(item_id, valid_recs, 10)\n",
    "            hits_at_10_count += hit_at_10\n",
    "\n",
    "        #Recall is the rate of the interacted items that are ranked among the Top-N recommended items, \n",
    "        #when mixed with a set of non-relevant items\n",
    "        recall_at_5 = hits_at_5_count / float(interacted_items_count_testset)\n",
    "        recall_at_10 = hits_at_10_count / float(interacted_items_count_testset)\n",
    "\n",
    "        person_metrics = {'hits@5_count':hits_at_5_count, \n",
    "                          'hits@10_count':hits_at_10_count, \n",
    "                          'interacted_count': interacted_items_count_testset,\n",
    "                          'recall@5': recall_at_5,\n",
    "                          'recall@10': recall_at_10}\n",
    "        return person_metrics\n",
    "\n",
    "    def evaluate_model(self, model):\n",
    "        #print('Running evaluation for users')\n",
    "        people_metrics = []\n",
    "        for idx, person_id in enumerate(list(interactions_test_indexed_df.index.unique().values)):\n",
    "            #if idx % 100 == 0 and idx > 0:\n",
    "            #    print('%d users processed' % idx)\n",
    "            person_metrics = self.evaluate_model_for_user(model, person_id)  \n",
    "            person_metrics['_person_id'] = person_id\n",
    "            people_metrics.append(person_metrics)\n",
    "        print('%d users processed' % idx)\n",
    "\n",
    "        detailed_results_df = pd.DataFrame(people_metrics) \\\n",
    "                            .sort_values('interacted_count', ascending=False)\n",
    "        \n",
    "        global_recall_at_5 = detailed_results_df['hits@5_count'].sum() / float(detailed_results_df['interacted_count'].sum())\n",
    "        global_recall_at_10 = detailed_results_df['hits@10_count'].sum() / float(detailed_results_df['interacted_count'].sum())\n",
    "        \n",
    "        global_metrics = {'modelName': model.get_model_name(),\n",
    "                          'recall@5': global_recall_at_5,\n",
    "                          'recall@10': global_recall_at_10}    \n",
    "        return global_metrics, detailed_results_df\n",
    "    \n",
    "model_evaluator = ModelEvaluator()    "
   ]
  },
  {
   "cell_type": "markdown",
   "metadata": {
    "_cell_guid": "ffacb568-e972-4fc8-9b14-eb647c24a003",
    "_uuid": "a43201479e662d0b8d9bac847f990543cb77b11f"
   },
   "source": [
    "# Collaborative Filtering model"
   ]
  },
  {
   "cell_type": "markdown",
   "metadata": {
    "_cell_guid": "3a553e0a-c90a-4db7-b710-3458ec5f5a7c",
    "_uuid": "f26d31f4e99f358a5a393ee438a34cf812d4de39"
   },
   "source": [
    "Collaborative Filtering (CF) has two main implementation strategies:  \n",
    "- **Memory-based**: This approach uses the memory of previous users interactions to compute users similarities based on items they've interacted (user-based approach) or compute items similarities based on the users that have interacted with them (item-based approach).  \n",
    "A typical example of this approach is User Neighbourhood-based CF, in which the top-N similar users (usually computed using Pearson correlation) for a user are selected and used to recommend items those similar users liked, but the current user have not interacted yet. This approach is very simple to implement, but usually do not scale well for many users. A nice Python implementation of this approach in available in [Crab](http://muricoca.github.io/crab/).\n",
    "- **Model-based**: This approach, models are developed using different machine learning algorithms to recommend items to users. There are many model-based CF algorithms, like neural networks, bayesian networks, clustering models, and latent factor models such as Singular Value Decomposition (SVD) and, probabilistic latent semantic analysis."
   ]
  },
  {
   "cell_type": "markdown",
   "metadata": {
    "_cell_guid": "c7b68edb-45c7-44c7-bc0f-9a2d52e7f379",
    "_uuid": "bb26498296a6f90a0cb3c51e88b0ed39886c27ea"
   },
   "source": [
    "## Matrix Factorization"
   ]
  },
  {
   "cell_type": "markdown",
   "metadata": {
    "_cell_guid": "7847c5c0-1122-4ced-86d1-a91e427969c0",
    "_uuid": "cd46a8bc46b6731b9d7f4cc0bf2c23bc99f14e1f"
   },
   "source": [
    "Latent factor models compress user-item matrix into a low-dimensional representation in terms of latent factors. One advantage of using this approach is that instead of having a high dimensional matrix containing abundant number of missing values we will be dealing with a much smaller matrix in lower-dimensional space.  \n",
    "\n",
    "A reduced presentation could be utilized for either user-based or item-based neighborhood algorithms that are presented in the previous section. There are several advantages with this paradigm. It handles the sparsity of the original matrix better than memory based ones. Also comparing similarity on the resulting matrix is much more scalable especially in dealing with large sparse datasets.  "
   ]
  },
  {
   "cell_type": "markdown",
   "metadata": {
    "_cell_guid": "55cf72cb-61c0-4a38-a609-7283822ed052",
    "_uuid": "25d3c496a0e3e4935c906610dc97ed47e144c00f"
   },
   "source": [
    "Here we a use popular latent factor model named [Singular Value Decomposition (SVD)](https://en.wikipedia.org/wiki/Singular_value_decomposition). There are other matrix factorization frameworks more specific to CF you might try, like [surprise](https://github.com/NicolasHug/Surprise), [mrec](https://github.com/Mendeley/mrec) or [python-recsys](https://github.com/ocelma/python-recsys).\n",
    "P.s. See an example of SVD on a movies dataset in this [blog post](https://beckernick.github.io/matrix-factorization-recommender/).   "
   ]
  },
  {
   "cell_type": "markdown",
   "metadata": {
    "_cell_guid": "e6168cd2-eea8-40ea-a153-4473950cdf08",
    "_uuid": "155b5e4618ec533b546029f94f2d5ffe39e1116f"
   },
   "source": [
    "An important decision is the number of factors to factor the user-item matrix. The higher the number of factors, the more precise is the factorization in the original matrix reconstructions. Therefore, if the model is allowed to  memorize too much details of the original matrix, it may not generalize well for data it was not trained on. Reducing the number of factors increases the model generalization."
   ]
  },
  {
   "cell_type": "code",
   "execution_count": 13,
   "metadata": {
    "_cell_guid": "9e73bff0-3136-445a-b3d2-36b875681b8a",
    "_uuid": "4a69f34bfef5054abc9cf27769e4b563f004ed17"
   },
   "outputs": [
    {
     "data": {
      "text/html": [
       "<div>\n",
       "<style scoped>\n",
       "    .dataframe tbody tr th:only-of-type {\n",
       "        vertical-align: middle;\n",
       "    }\n",
       "\n",
       "    .dataframe tbody tr th {\n",
       "        vertical-align: top;\n",
       "    }\n",
       "\n",
       "    .dataframe thead th {\n",
       "        text-align: right;\n",
       "    }\n",
       "</style>\n",
       "<table border=\"1\" class=\"dataframe\">\n",
       "  <thead>\n",
       "    <tr style=\"text-align: right;\">\n",
       "      <th>contentId</th>\n",
       "      <th>-9222795471790223670</th>\n",
       "      <th>-9216926795620865886</th>\n",
       "      <th>-9194572880052200111</th>\n",
       "      <th>-9192549002213406534</th>\n",
       "      <th>-9190737901804729417</th>\n",
       "      <th>-9189659052158407108</th>\n",
       "      <th>-9176143510534135851</th>\n",
       "      <th>-9172673334835262304</th>\n",
       "      <th>-9171475473795142532</th>\n",
       "      <th>-9166778629773133902</th>\n",
       "      <th>...</th>\n",
       "      <th>9191014301634017491</th>\n",
       "      <th>9207286802575546269</th>\n",
       "      <th>9208127165664287660</th>\n",
       "      <th>9209629151177723638</th>\n",
       "      <th>9209886322932807692</th>\n",
       "      <th>9213260650272029784</th>\n",
       "      <th>9215261273565326920</th>\n",
       "      <th>9217155070834564627</th>\n",
       "      <th>9220445660318725468</th>\n",
       "      <th>9222265156747237864</th>\n",
       "    </tr>\n",
       "    <tr>\n",
       "      <th>personId</th>\n",
       "      <th></th>\n",
       "      <th></th>\n",
       "      <th></th>\n",
       "      <th></th>\n",
       "      <th></th>\n",
       "      <th></th>\n",
       "      <th></th>\n",
       "      <th></th>\n",
       "      <th></th>\n",
       "      <th></th>\n",
       "      <th></th>\n",
       "      <th></th>\n",
       "      <th></th>\n",
       "      <th></th>\n",
       "      <th></th>\n",
       "      <th></th>\n",
       "      <th></th>\n",
       "      <th></th>\n",
       "      <th></th>\n",
       "      <th></th>\n",
       "      <th></th>\n",
       "    </tr>\n",
       "  </thead>\n",
       "  <tbody>\n",
       "    <tr>\n",
       "      <th>-9223121837663643404</th>\n",
       "      <td>0.0</td>\n",
       "      <td>0.0</td>\n",
       "      <td>0.0</td>\n",
       "      <td>0.0</td>\n",
       "      <td>0.0</td>\n",
       "      <td>0.0</td>\n",
       "      <td>0.0</td>\n",
       "      <td>0.0</td>\n",
       "      <td>0.0</td>\n",
       "      <td>0.0</td>\n",
       "      <td>...</td>\n",
       "      <td>0.0</td>\n",
       "      <td>0.0</td>\n",
       "      <td>0.0</td>\n",
       "      <td>0.0</td>\n",
       "      <td>0.0</td>\n",
       "      <td>0.0</td>\n",
       "      <td>0.0</td>\n",
       "      <td>0.0</td>\n",
       "      <td>0.0</td>\n",
       "      <td>0.0</td>\n",
       "    </tr>\n",
       "    <tr>\n",
       "      <th>-9212075797126931087</th>\n",
       "      <td>0.0</td>\n",
       "      <td>0.0</td>\n",
       "      <td>0.0</td>\n",
       "      <td>0.0</td>\n",
       "      <td>0.0</td>\n",
       "      <td>0.0</td>\n",
       "      <td>0.0</td>\n",
       "      <td>0.0</td>\n",
       "      <td>0.0</td>\n",
       "      <td>0.0</td>\n",
       "      <td>...</td>\n",
       "      <td>0.0</td>\n",
       "      <td>0.0</td>\n",
       "      <td>0.0</td>\n",
       "      <td>0.0</td>\n",
       "      <td>0.0</td>\n",
       "      <td>0.0</td>\n",
       "      <td>0.0</td>\n",
       "      <td>0.0</td>\n",
       "      <td>0.0</td>\n",
       "      <td>0.0</td>\n",
       "    </tr>\n",
       "    <tr>\n",
       "      <th>-9207251133131336884</th>\n",
       "      <td>0.0</td>\n",
       "      <td>2.0</td>\n",
       "      <td>0.0</td>\n",
       "      <td>0.0</td>\n",
       "      <td>0.0</td>\n",
       "      <td>0.0</td>\n",
       "      <td>0.0</td>\n",
       "      <td>0.0</td>\n",
       "      <td>0.0</td>\n",
       "      <td>0.0</td>\n",
       "      <td>...</td>\n",
       "      <td>0.0</td>\n",
       "      <td>0.0</td>\n",
       "      <td>0.0</td>\n",
       "      <td>0.0</td>\n",
       "      <td>0.0</td>\n",
       "      <td>0.0</td>\n",
       "      <td>0.0</td>\n",
       "      <td>0.0</td>\n",
       "      <td>0.0</td>\n",
       "      <td>0.0</td>\n",
       "    </tr>\n",
       "    <tr>\n",
       "      <th>-9199575329909162940</th>\n",
       "      <td>0.0</td>\n",
       "      <td>0.0</td>\n",
       "      <td>0.0</td>\n",
       "      <td>0.0</td>\n",
       "      <td>0.0</td>\n",
       "      <td>0.0</td>\n",
       "      <td>0.0</td>\n",
       "      <td>0.0</td>\n",
       "      <td>0.0</td>\n",
       "      <td>0.0</td>\n",
       "      <td>...</td>\n",
       "      <td>0.0</td>\n",
       "      <td>0.0</td>\n",
       "      <td>0.0</td>\n",
       "      <td>0.0</td>\n",
       "      <td>0.0</td>\n",
       "      <td>0.0</td>\n",
       "      <td>0.0</td>\n",
       "      <td>0.0</td>\n",
       "      <td>0.0</td>\n",
       "      <td>0.0</td>\n",
       "    </tr>\n",
       "    <tr>\n",
       "      <th>-9196668942822132778</th>\n",
       "      <td>0.0</td>\n",
       "      <td>0.0</td>\n",
       "      <td>0.0</td>\n",
       "      <td>0.0</td>\n",
       "      <td>0.0</td>\n",
       "      <td>0.0</td>\n",
       "      <td>0.0</td>\n",
       "      <td>0.0</td>\n",
       "      <td>0.0</td>\n",
       "      <td>0.0</td>\n",
       "      <td>...</td>\n",
       "      <td>0.0</td>\n",
       "      <td>0.0</td>\n",
       "      <td>0.0</td>\n",
       "      <td>0.0</td>\n",
       "      <td>0.0</td>\n",
       "      <td>0.0</td>\n",
       "      <td>0.0</td>\n",
       "      <td>0.0</td>\n",
       "      <td>0.0</td>\n",
       "      <td>0.0</td>\n",
       "    </tr>\n",
       "    <tr>\n",
       "      <th>-9188188261933657343</th>\n",
       "      <td>0.0</td>\n",
       "      <td>0.0</td>\n",
       "      <td>0.0</td>\n",
       "      <td>0.0</td>\n",
       "      <td>0.0</td>\n",
       "      <td>0.0</td>\n",
       "      <td>0.0</td>\n",
       "      <td>0.0</td>\n",
       "      <td>0.0</td>\n",
       "      <td>0.0</td>\n",
       "      <td>...</td>\n",
       "      <td>0.0</td>\n",
       "      <td>0.0</td>\n",
       "      <td>0.0</td>\n",
       "      <td>0.0</td>\n",
       "      <td>0.0</td>\n",
       "      <td>0.0</td>\n",
       "      <td>0.0</td>\n",
       "      <td>0.0</td>\n",
       "      <td>0.0</td>\n",
       "      <td>0.0</td>\n",
       "    </tr>\n",
       "    <tr>\n",
       "      <th>-9172914609055320039</th>\n",
       "      <td>0.0</td>\n",
       "      <td>0.0</td>\n",
       "      <td>0.0</td>\n",
       "      <td>0.0</td>\n",
       "      <td>0.0</td>\n",
       "      <td>0.0</td>\n",
       "      <td>0.0</td>\n",
       "      <td>0.0</td>\n",
       "      <td>0.0</td>\n",
       "      <td>0.0</td>\n",
       "      <td>...</td>\n",
       "      <td>0.0</td>\n",
       "      <td>0.0</td>\n",
       "      <td>0.0</td>\n",
       "      <td>0.0</td>\n",
       "      <td>0.0</td>\n",
       "      <td>0.0</td>\n",
       "      <td>0.0</td>\n",
       "      <td>0.0</td>\n",
       "      <td>0.0</td>\n",
       "      <td>0.0</td>\n",
       "    </tr>\n",
       "    <tr>\n",
       "      <th>-9156344805277471150</th>\n",
       "      <td>0.0</td>\n",
       "      <td>0.0</td>\n",
       "      <td>0.0</td>\n",
       "      <td>0.0</td>\n",
       "      <td>0.0</td>\n",
       "      <td>0.0</td>\n",
       "      <td>0.0</td>\n",
       "      <td>0.0</td>\n",
       "      <td>0.0</td>\n",
       "      <td>0.0</td>\n",
       "      <td>...</td>\n",
       "      <td>0.0</td>\n",
       "      <td>0.0</td>\n",
       "      <td>0.0</td>\n",
       "      <td>0.0</td>\n",
       "      <td>0.0</td>\n",
       "      <td>0.0</td>\n",
       "      <td>0.0</td>\n",
       "      <td>0.0</td>\n",
       "      <td>0.0</td>\n",
       "      <td>0.0</td>\n",
       "    </tr>\n",
       "    <tr>\n",
       "      <th>-9120685872592674274</th>\n",
       "      <td>0.0</td>\n",
       "      <td>0.0</td>\n",
       "      <td>0.0</td>\n",
       "      <td>0.0</td>\n",
       "      <td>0.0</td>\n",
       "      <td>0.0</td>\n",
       "      <td>0.0</td>\n",
       "      <td>0.0</td>\n",
       "      <td>0.0</td>\n",
       "      <td>0.0</td>\n",
       "      <td>...</td>\n",
       "      <td>0.0</td>\n",
       "      <td>0.0</td>\n",
       "      <td>0.0</td>\n",
       "      <td>0.0</td>\n",
       "      <td>0.0</td>\n",
       "      <td>0.0</td>\n",
       "      <td>0.0</td>\n",
       "      <td>0.0</td>\n",
       "      <td>0.0</td>\n",
       "      <td>0.0</td>\n",
       "    </tr>\n",
       "    <tr>\n",
       "      <th>-9109785559521267180</th>\n",
       "      <td>0.0</td>\n",
       "      <td>0.0</td>\n",
       "      <td>0.0</td>\n",
       "      <td>0.0</td>\n",
       "      <td>0.0</td>\n",
       "      <td>0.0</td>\n",
       "      <td>0.0</td>\n",
       "      <td>0.0</td>\n",
       "      <td>0.0</td>\n",
       "      <td>0.0</td>\n",
       "      <td>...</td>\n",
       "      <td>0.0</td>\n",
       "      <td>0.0</td>\n",
       "      <td>0.0</td>\n",
       "      <td>0.0</td>\n",
       "      <td>0.0</td>\n",
       "      <td>0.0</td>\n",
       "      <td>0.0</td>\n",
       "      <td>0.0</td>\n",
       "      <td>0.0</td>\n",
       "      <td>0.0</td>\n",
       "    </tr>\n",
       "  </tbody>\n",
       "</table>\n",
       "<p>10 rows × 2926 columns</p>\n",
       "</div>"
      ],
      "text/plain": [
       "contentId             -9222795471790223670  -9216926795620865886  \\\n",
       "personId                                                           \n",
       "-9223121837663643404                   0.0                   0.0   \n",
       "-9212075797126931087                   0.0                   0.0   \n",
       "-9207251133131336884                   0.0                   2.0   \n",
       "-9199575329909162940                   0.0                   0.0   \n",
       "-9196668942822132778                   0.0                   0.0   \n",
       "-9188188261933657343                   0.0                   0.0   \n",
       "-9172914609055320039                   0.0                   0.0   \n",
       "-9156344805277471150                   0.0                   0.0   \n",
       "-9120685872592674274                   0.0                   0.0   \n",
       "-9109785559521267180                   0.0                   0.0   \n",
       "\n",
       "contentId             -9194572880052200111  -9192549002213406534  \\\n",
       "personId                                                           \n",
       "-9223121837663643404                   0.0                   0.0   \n",
       "-9212075797126931087                   0.0                   0.0   \n",
       "-9207251133131336884                   0.0                   0.0   \n",
       "-9199575329909162940                   0.0                   0.0   \n",
       "-9196668942822132778                   0.0                   0.0   \n",
       "-9188188261933657343                   0.0                   0.0   \n",
       "-9172914609055320039                   0.0                   0.0   \n",
       "-9156344805277471150                   0.0                   0.0   \n",
       "-9120685872592674274                   0.0                   0.0   \n",
       "-9109785559521267180                   0.0                   0.0   \n",
       "\n",
       "contentId             -9190737901804729417  -9189659052158407108  \\\n",
       "personId                                                           \n",
       "-9223121837663643404                   0.0                   0.0   \n",
       "-9212075797126931087                   0.0                   0.0   \n",
       "-9207251133131336884                   0.0                   0.0   \n",
       "-9199575329909162940                   0.0                   0.0   \n",
       "-9196668942822132778                   0.0                   0.0   \n",
       "-9188188261933657343                   0.0                   0.0   \n",
       "-9172914609055320039                   0.0                   0.0   \n",
       "-9156344805277471150                   0.0                   0.0   \n",
       "-9120685872592674274                   0.0                   0.0   \n",
       "-9109785559521267180                   0.0                   0.0   \n",
       "\n",
       "contentId             -9176143510534135851  -9172673334835262304  \\\n",
       "personId                                                           \n",
       "-9223121837663643404                   0.0                   0.0   \n",
       "-9212075797126931087                   0.0                   0.0   \n",
       "-9207251133131336884                   0.0                   0.0   \n",
       "-9199575329909162940                   0.0                   0.0   \n",
       "-9196668942822132778                   0.0                   0.0   \n",
       "-9188188261933657343                   0.0                   0.0   \n",
       "-9172914609055320039                   0.0                   0.0   \n",
       "-9156344805277471150                   0.0                   0.0   \n",
       "-9120685872592674274                   0.0                   0.0   \n",
       "-9109785559521267180                   0.0                   0.0   \n",
       "\n",
       "contentId             -9171475473795142532  -9166778629773133902  ...  \\\n",
       "personId                                                          ...   \n",
       "-9223121837663643404                   0.0                   0.0  ...   \n",
       "-9212075797126931087                   0.0                   0.0  ...   \n",
       "-9207251133131336884                   0.0                   0.0  ...   \n",
       "-9199575329909162940                   0.0                   0.0  ...   \n",
       "-9196668942822132778                   0.0                   0.0  ...   \n",
       "-9188188261933657343                   0.0                   0.0  ...   \n",
       "-9172914609055320039                   0.0                   0.0  ...   \n",
       "-9156344805277471150                   0.0                   0.0  ...   \n",
       "-9120685872592674274                   0.0                   0.0  ...   \n",
       "-9109785559521267180                   0.0                   0.0  ...   \n",
       "\n",
       "contentId              9191014301634017491   9207286802575546269  \\\n",
       "personId                                                           \n",
       "-9223121837663643404                   0.0                   0.0   \n",
       "-9212075797126931087                   0.0                   0.0   \n",
       "-9207251133131336884                   0.0                   0.0   \n",
       "-9199575329909162940                   0.0                   0.0   \n",
       "-9196668942822132778                   0.0                   0.0   \n",
       "-9188188261933657343                   0.0                   0.0   \n",
       "-9172914609055320039                   0.0                   0.0   \n",
       "-9156344805277471150                   0.0                   0.0   \n",
       "-9120685872592674274                   0.0                   0.0   \n",
       "-9109785559521267180                   0.0                   0.0   \n",
       "\n",
       "contentId              9208127165664287660   9209629151177723638  \\\n",
       "personId                                                           \n",
       "-9223121837663643404                   0.0                   0.0   \n",
       "-9212075797126931087                   0.0                   0.0   \n",
       "-9207251133131336884                   0.0                   0.0   \n",
       "-9199575329909162940                   0.0                   0.0   \n",
       "-9196668942822132778                   0.0                   0.0   \n",
       "-9188188261933657343                   0.0                   0.0   \n",
       "-9172914609055320039                   0.0                   0.0   \n",
       "-9156344805277471150                   0.0                   0.0   \n",
       "-9120685872592674274                   0.0                   0.0   \n",
       "-9109785559521267180                   0.0                   0.0   \n",
       "\n",
       "contentId              9209886322932807692   9213260650272029784  \\\n",
       "personId                                                           \n",
       "-9223121837663643404                   0.0                   0.0   \n",
       "-9212075797126931087                   0.0                   0.0   \n",
       "-9207251133131336884                   0.0                   0.0   \n",
       "-9199575329909162940                   0.0                   0.0   \n",
       "-9196668942822132778                   0.0                   0.0   \n",
       "-9188188261933657343                   0.0                   0.0   \n",
       "-9172914609055320039                   0.0                   0.0   \n",
       "-9156344805277471150                   0.0                   0.0   \n",
       "-9120685872592674274                   0.0                   0.0   \n",
       "-9109785559521267180                   0.0                   0.0   \n",
       "\n",
       "contentId              9215261273565326920   9217155070834564627  \\\n",
       "personId                                                           \n",
       "-9223121837663643404                   0.0                   0.0   \n",
       "-9212075797126931087                   0.0                   0.0   \n",
       "-9207251133131336884                   0.0                   0.0   \n",
       "-9199575329909162940                   0.0                   0.0   \n",
       "-9196668942822132778                   0.0                   0.0   \n",
       "-9188188261933657343                   0.0                   0.0   \n",
       "-9172914609055320039                   0.0                   0.0   \n",
       "-9156344805277471150                   0.0                   0.0   \n",
       "-9120685872592674274                   0.0                   0.0   \n",
       "-9109785559521267180                   0.0                   0.0   \n",
       "\n",
       "contentId              9220445660318725468   9222265156747237864  \n",
       "personId                                                          \n",
       "-9223121837663643404                   0.0                   0.0  \n",
       "-9212075797126931087                   0.0                   0.0  \n",
       "-9207251133131336884                   0.0                   0.0  \n",
       "-9199575329909162940                   0.0                   0.0  \n",
       "-9196668942822132778                   0.0                   0.0  \n",
       "-9188188261933657343                   0.0                   0.0  \n",
       "-9172914609055320039                   0.0                   0.0  \n",
       "-9156344805277471150                   0.0                   0.0  \n",
       "-9120685872592674274                   0.0                   0.0  \n",
       "-9109785559521267180                   0.0                   0.0  \n",
       "\n",
       "[10 rows x 2926 columns]"
      ]
     },
     "execution_count": 13,
     "metadata": {},
     "output_type": "execute_result"
    }
   ],
   "source": [
    "#Creating a sparse pivot table with users in rows and items in columns\n",
    "users_items_pivot_matrix_df = interactions_train_df.pivot(index='personId', \n",
    "                                                          columns='contentId', \n",
    "                                                          values='eventStrength').fillna(0)\n",
    "\n",
    "users_items_pivot_matrix_df.head(10)"
   ]
  },
  {
   "cell_type": "code",
   "execution_count": 14,
   "metadata": {
    "_cell_guid": "39c293cb-c8a7-49d1-a296-ade311bf2296",
    "_uuid": "38cc2200590bb84cd535669df8ee8177d81989eb"
   },
   "outputs": [
    {
     "data": {
      "text/plain": [
       "array([[0., 0., 0., ..., 0., 0., 0.],\n",
       "       [0., 0., 0., ..., 0., 0., 0.],\n",
       "       [0., 2., 0., ..., 0., 0., 0.],\n",
       "       ...,\n",
       "       [0., 0., 0., ..., 0., 0., 0.],\n",
       "       [0., 0., 0., ..., 0., 0., 0.],\n",
       "       [0., 0., 0., ..., 0., 0., 0.]])"
      ]
     },
     "execution_count": 14,
     "metadata": {},
     "output_type": "execute_result"
    }
   ],
   "source": [
    "users_items_pivot_matrix = users_items_pivot_matrix_df.values\n",
    "users_items_pivot_matrix[:10]"
   ]
  },
  {
   "cell_type": "code",
   "execution_count": 15,
   "metadata": {
    "_cell_guid": "782aee35-da8d-45de-83bd-da38e44b3a43",
    "_uuid": "00ff9564c711e3d95c8b9a893c04e613249be42b"
   },
   "outputs": [
    {
     "data": {
      "text/plain": [
       "[-9223121837663643404,\n",
       " -9212075797126931087,\n",
       " -9207251133131336884,\n",
       " -9199575329909162940,\n",
       " -9196668942822132778,\n",
       " -9188188261933657343,\n",
       " -9172914609055320039,\n",
       " -9156344805277471150,\n",
       " -9120685872592674274,\n",
       " -9109785559521267180]"
      ]
     },
     "execution_count": 15,
     "metadata": {},
     "output_type": "execute_result"
    }
   ],
   "source": [
    "users_ids = list(users_items_pivot_matrix_df.index)\n",
    "users_ids[:10]"
   ]
  },
  {
   "cell_type": "code",
   "execution_count": 16,
   "metadata": {},
   "outputs": [
    {
     "data": {
      "text/plain": [
       "<1140x2926 sparse matrix of type '<class 'numpy.float64'>'\n",
       "\twith 31284 stored elements in Compressed Sparse Row format>"
      ]
     },
     "execution_count": 16,
     "metadata": {},
     "output_type": "execute_result"
    }
   ],
   "source": [
    "users_items_pivot_sparse_matrix = csr_matrix(users_items_pivot_matrix)\n",
    "users_items_pivot_sparse_matrix"
   ]
  },
  {
   "cell_type": "code",
   "execution_count": 17,
   "metadata": {
    "_cell_guid": "8eb2f704-cbf4-4fe3-9532-baab1c8db872",
    "_uuid": "6322d8e7afa0ac49f0df5451e304b394f410a056"
   },
   "outputs": [],
   "source": [
    "#The number of factors to factor the user-item matrix.\n",
    "NUMBER_OF_FACTORS_MF = 15\n",
    "\n",
    "#Performs matrix factorization of the original user item matrix\n",
    "#U, sigma, Vt = svds(users_items_pivot_matrix, k = NUMBER_OF_FACTORS_MF)\n",
    "U, sigma, Vt = svds(users_items_pivot_sparse_matrix, k = NUMBER_OF_FACTORS_MF)"
   ]
  },
  {
   "cell_type": "code",
   "execution_count": 18,
   "metadata": {
    "_cell_guid": "9b0001e9-d560-4b6f-95a7-ae6605a72a2b",
    "_uuid": "7f6757eb2997a448537b4f59a77a6022f45edc87"
   },
   "outputs": [
    {
     "data": {
      "text/plain": [
       "(1140, 15)"
      ]
     },
     "execution_count": 18,
     "metadata": {},
     "output_type": "execute_result"
    }
   ],
   "source": [
    "U.shape"
   ]
  },
  {
   "cell_type": "code",
   "execution_count": 19,
   "metadata": {
    "_cell_guid": "d59bac45-f8ac-422f-9a1f-c66063ca8235",
    "_uuid": "f1d0ab3e77b1c118c4867f71a4b55534e8ceb2f9"
   },
   "outputs": [
    {
     "data": {
      "text/plain": [
       "(15, 2926)"
      ]
     },
     "execution_count": 19,
     "metadata": {},
     "output_type": "execute_result"
    }
   ],
   "source": [
    "Vt.shape"
   ]
  },
  {
   "cell_type": "code",
   "execution_count": 20,
   "metadata": {
    "_cell_guid": "98b34c7d-674d-4b83-93f9-54e6d19ae9df",
    "_uuid": "f0807b245c6f939daae6447ad00594eaabd2c134"
   },
   "outputs": [
    {
     "data": {
      "text/plain": [
       "(15, 15)"
      ]
     },
     "execution_count": 20,
     "metadata": {},
     "output_type": "execute_result"
    }
   ],
   "source": [
    "sigma = np.diag(sigma)\n",
    "sigma.shape"
   ]
  },
  {
   "cell_type": "markdown",
   "metadata": {
    "_cell_guid": "5cf974d4-ca0c-487a-8561-7952be1d2f16",
    "_uuid": "de8f01beee0d5fad5e4cfd614b7c86c36b827958"
   },
   "source": [
    "After the factorization, we try to to reconstruct the original matrix by multiplying its factors. The resulting matrix is not sparse any more. It was generated predictions for items the user have not yet interaction, which we will exploit for recommendations."
   ]
  },
  {
   "cell_type": "code",
   "execution_count": 21,
   "metadata": {
    "_cell_guid": "d8d09c7b-9a23-4e4f-a602-23ed20e18a1e",
    "_uuid": "66eafaba59d8ccf7dc1c02043881a64be1bba5d2"
   },
   "outputs": [
    {
     "data": {
      "text/plain": [
       "array([[ 0.01039915,  0.00081872, -0.01725263, ...,  0.00140708,\n",
       "         0.0110647 ,  0.00226063],\n",
       "       [-0.00019285, -0.00031318, -0.00264624, ...,  0.00251658,\n",
       "         0.00017609, -0.00189488],\n",
       "       [-0.01254721,  0.0065947 , -0.00590676, ...,  0.00698975,\n",
       "        -0.01015696,  0.01154572],\n",
       "       ...,\n",
       "       [-0.02995379,  0.00805715, -0.01846307, ..., -0.01083078,\n",
       "        -0.00118591,  0.0096798 ],\n",
       "       [-0.01845505,  0.00467019,  0.01219602, ...,  0.00409507,\n",
       "         0.00019482, -0.00752562],\n",
       "       [-0.01506374,  0.00327732,  0.13391269, ..., -0.01191815,\n",
       "         0.06422074,  0.01303244]])"
      ]
     },
     "execution_count": 21,
     "metadata": {},
     "output_type": "execute_result"
    }
   ],
   "source": [
    "all_user_predicted_ratings = np.dot(np.dot(U, sigma), Vt) \n",
    "all_user_predicted_ratings"
   ]
  },
  {
   "cell_type": "code",
   "execution_count": 22,
   "metadata": {},
   "outputs": [],
   "source": [
    "all_user_predicted_ratings_norm = (all_user_predicted_ratings - all_user_predicted_ratings.min()) \\\n",
    "                / (all_user_predicted_ratings.max() - all_user_predicted_ratings.min())"
   ]
  },
  {
   "cell_type": "code",
   "execution_count": 23,
   "metadata": {
    "_cell_guid": "6664c5e4-14ab-47e2-a8ae-63699a531983",
    "_uuid": "1e6420b17affd1c786847b3f272d65a7ebb6b08e"
   },
   "outputs": [
    {
     "data": {
      "text/html": [
       "<div>\n",
       "<style scoped>\n",
       "    .dataframe tbody tr th:only-of-type {\n",
       "        vertical-align: middle;\n",
       "    }\n",
       "\n",
       "    .dataframe tbody tr th {\n",
       "        vertical-align: top;\n",
       "    }\n",
       "\n",
       "    .dataframe thead th {\n",
       "        text-align: right;\n",
       "    }\n",
       "</style>\n",
       "<table border=\"1\" class=\"dataframe\">\n",
       "  <thead>\n",
       "    <tr style=\"text-align: right;\">\n",
       "      <th></th>\n",
       "      <th>-9223121837663643404</th>\n",
       "      <th>-9212075797126931087</th>\n",
       "      <th>-9207251133131336884</th>\n",
       "      <th>-9199575329909162940</th>\n",
       "      <th>-9196668942822132778</th>\n",
       "      <th>-9188188261933657343</th>\n",
       "      <th>-9172914609055320039</th>\n",
       "      <th>-9156344805277471150</th>\n",
       "      <th>-9120685872592674274</th>\n",
       "      <th>-9109785559521267180</th>\n",
       "      <th>...</th>\n",
       "      <th>9105269044962898535</th>\n",
       "      <th>9109075639526981934</th>\n",
       "      <th>9135582630122950040</th>\n",
       "      <th>9137372837662939523</th>\n",
       "      <th>9148269800512008413</th>\n",
       "      <th>9165571805999894845</th>\n",
       "      <th>9187866633451383747</th>\n",
       "      <th>9191849144618614467</th>\n",
       "      <th>9199170757466086545</th>\n",
       "      <th>9210530975708218054</th>\n",
       "    </tr>\n",
       "    <tr>\n",
       "      <th>contentId</th>\n",
       "      <th></th>\n",
       "      <th></th>\n",
       "      <th></th>\n",
       "      <th></th>\n",
       "      <th></th>\n",
       "      <th></th>\n",
       "      <th></th>\n",
       "      <th></th>\n",
       "      <th></th>\n",
       "      <th></th>\n",
       "      <th></th>\n",
       "      <th></th>\n",
       "      <th></th>\n",
       "      <th></th>\n",
       "      <th></th>\n",
       "      <th></th>\n",
       "      <th></th>\n",
       "      <th></th>\n",
       "      <th></th>\n",
       "      <th></th>\n",
       "      <th></th>\n",
       "    </tr>\n",
       "  </thead>\n",
       "  <tbody>\n",
       "    <tr>\n",
       "      <th>-9222795471790223670</th>\n",
       "      <td>0.139129</td>\n",
       "      <td>0.137930</td>\n",
       "      <td>0.136531</td>\n",
       "      <td>0.143948</td>\n",
       "      <td>0.136815</td>\n",
       "      <td>0.137339</td>\n",
       "      <td>0.137508</td>\n",
       "      <td>0.143534</td>\n",
       "      <td>0.136428</td>\n",
       "      <td>0.135681</td>\n",
       "      <td>...</td>\n",
       "      <td>0.137351</td>\n",
       "      <td>0.127822</td>\n",
       "      <td>0.137946</td>\n",
       "      <td>0.139653</td>\n",
       "      <td>0.140324</td>\n",
       "      <td>0.136888</td>\n",
       "      <td>0.135787</td>\n",
       "      <td>0.134560</td>\n",
       "      <td>0.135862</td>\n",
       "      <td>0.136246</td>\n",
       "    </tr>\n",
       "    <tr>\n",
       "      <th>-9216926795620865886</th>\n",
       "      <td>0.138044</td>\n",
       "      <td>0.137916</td>\n",
       "      <td>0.138698</td>\n",
       "      <td>0.137878</td>\n",
       "      <td>0.137969</td>\n",
       "      <td>0.137990</td>\n",
       "      <td>0.137974</td>\n",
       "      <td>0.138049</td>\n",
       "      <td>0.138217</td>\n",
       "      <td>0.138151</td>\n",
       "      <td>...</td>\n",
       "      <td>0.137962</td>\n",
       "      <td>0.139527</td>\n",
       "      <td>0.138009</td>\n",
       "      <td>0.138117</td>\n",
       "      <td>0.139634</td>\n",
       "      <td>0.138058</td>\n",
       "      <td>0.138222</td>\n",
       "      <td>0.138864</td>\n",
       "      <td>0.138480</td>\n",
       "      <td>0.138323</td>\n",
       "    </tr>\n",
       "    <tr>\n",
       "      <th>-9194572880052200111</th>\n",
       "      <td>0.135998</td>\n",
       "      <td>0.137652</td>\n",
       "      <td>0.137283</td>\n",
       "      <td>0.137536</td>\n",
       "      <td>0.140363</td>\n",
       "      <td>0.137807</td>\n",
       "      <td>0.141246</td>\n",
       "      <td>0.136284</td>\n",
       "      <td>0.135301</td>\n",
       "      <td>0.138512</td>\n",
       "      <td>...</td>\n",
       "      <td>0.139257</td>\n",
       "      <td>0.143161</td>\n",
       "      <td>0.139139</td>\n",
       "      <td>0.140077</td>\n",
       "      <td>0.154976</td>\n",
       "      <td>0.140109</td>\n",
       "      <td>0.140654</td>\n",
       "      <td>0.135861</td>\n",
       "      <td>0.139332</td>\n",
       "      <td>0.153114</td>\n",
       "    </tr>\n",
       "    <tr>\n",
       "      <th>-9192549002213406534</th>\n",
       "      <td>0.141924</td>\n",
       "      <td>0.137996</td>\n",
       "      <td>0.134663</td>\n",
       "      <td>0.137080</td>\n",
       "      <td>0.139946</td>\n",
       "      <td>0.138574</td>\n",
       "      <td>0.139473</td>\n",
       "      <td>0.144469</td>\n",
       "      <td>0.143333</td>\n",
       "      <td>0.138428</td>\n",
       "      <td>...</td>\n",
       "      <td>0.140233</td>\n",
       "      <td>0.167426</td>\n",
       "      <td>0.138849</td>\n",
       "      <td>0.137037</td>\n",
       "      <td>0.141820</td>\n",
       "      <td>0.139260</td>\n",
       "      <td>0.139513</td>\n",
       "      <td>0.136804</td>\n",
       "      <td>0.140862</td>\n",
       "      <td>0.148793</td>\n",
       "    </tr>\n",
       "    <tr>\n",
       "      <th>-9190737901804729417</th>\n",
       "      <td>0.140209</td>\n",
       "      <td>0.137408</td>\n",
       "      <td>0.138708</td>\n",
       "      <td>0.138672</td>\n",
       "      <td>0.137725</td>\n",
       "      <td>0.138218</td>\n",
       "      <td>0.138390</td>\n",
       "      <td>0.138418</td>\n",
       "      <td>0.134883</td>\n",
       "      <td>0.140193</td>\n",
       "      <td>...</td>\n",
       "      <td>0.138373</td>\n",
       "      <td>0.138459</td>\n",
       "      <td>0.138169</td>\n",
       "      <td>0.137990</td>\n",
       "      <td>0.134041</td>\n",
       "      <td>0.137820</td>\n",
       "      <td>0.138100</td>\n",
       "      <td>0.138286</td>\n",
       "      <td>0.138630</td>\n",
       "      <td>0.136178</td>\n",
       "    </tr>\n",
       "    <tr>\n",
       "      <th>-9189659052158407108</th>\n",
       "      <td>0.138932</td>\n",
       "      <td>0.138699</td>\n",
       "      <td>0.138117</td>\n",
       "      <td>0.137621</td>\n",
       "      <td>0.138920</td>\n",
       "      <td>0.137766</td>\n",
       "      <td>0.138568</td>\n",
       "      <td>0.138200</td>\n",
       "      <td>0.140572</td>\n",
       "      <td>0.140365</td>\n",
       "      <td>...</td>\n",
       "      <td>0.140725</td>\n",
       "      <td>0.148152</td>\n",
       "      <td>0.137645</td>\n",
       "      <td>0.138165</td>\n",
       "      <td>0.149152</td>\n",
       "      <td>0.138912</td>\n",
       "      <td>0.139595</td>\n",
       "      <td>0.139807</td>\n",
       "      <td>0.140419</td>\n",
       "      <td>0.145698</td>\n",
       "    </tr>\n",
       "    <tr>\n",
       "      <th>-9176143510534135851</th>\n",
       "      <td>0.143208</td>\n",
       "      <td>0.138673</td>\n",
       "      <td>0.139514</td>\n",
       "      <td>0.139114</td>\n",
       "      <td>0.137664</td>\n",
       "      <td>0.137447</td>\n",
       "      <td>0.139833</td>\n",
       "      <td>0.140564</td>\n",
       "      <td>0.144698</td>\n",
       "      <td>0.144440</td>\n",
       "      <td>...</td>\n",
       "      <td>0.138367</td>\n",
       "      <td>0.146220</td>\n",
       "      <td>0.136204</td>\n",
       "      <td>0.138087</td>\n",
       "      <td>0.137317</td>\n",
       "      <td>0.137917</td>\n",
       "      <td>0.138546</td>\n",
       "      <td>0.142601</td>\n",
       "      <td>0.141431</td>\n",
       "      <td>0.142154</td>\n",
       "    </tr>\n",
       "    <tr>\n",
       "      <th>-9172673334835262304</th>\n",
       "      <td>0.138527</td>\n",
       "      <td>0.138021</td>\n",
       "      <td>0.138274</td>\n",
       "      <td>0.137827</td>\n",
       "      <td>0.137997</td>\n",
       "      <td>0.138037</td>\n",
       "      <td>0.138104</td>\n",
       "      <td>0.138259</td>\n",
       "      <td>0.137633</td>\n",
       "      <td>0.138397</td>\n",
       "      <td>...</td>\n",
       "      <td>0.138588</td>\n",
       "      <td>0.140146</td>\n",
       "      <td>0.138013</td>\n",
       "      <td>0.137839</td>\n",
       "      <td>0.137033</td>\n",
       "      <td>0.137969</td>\n",
       "      <td>0.138337</td>\n",
       "      <td>0.138361</td>\n",
       "      <td>0.138813</td>\n",
       "      <td>0.137538</td>\n",
       "    </tr>\n",
       "    <tr>\n",
       "      <th>-9171475473795142532</th>\n",
       "      <td>0.140720</td>\n",
       "      <td>0.137865</td>\n",
       "      <td>0.138061</td>\n",
       "      <td>0.137633</td>\n",
       "      <td>0.138231</td>\n",
       "      <td>0.138089</td>\n",
       "      <td>0.139009</td>\n",
       "      <td>0.137552</td>\n",
       "      <td>0.137143</td>\n",
       "      <td>0.140581</td>\n",
       "      <td>...</td>\n",
       "      <td>0.139046</td>\n",
       "      <td>0.139895</td>\n",
       "      <td>0.138000</td>\n",
       "      <td>0.137958</td>\n",
       "      <td>0.136061</td>\n",
       "      <td>0.138183</td>\n",
       "      <td>0.138817</td>\n",
       "      <td>0.138060</td>\n",
       "      <td>0.139205</td>\n",
       "      <td>0.137198</td>\n",
       "    </tr>\n",
       "    <tr>\n",
       "      <th>-9166778629773133902</th>\n",
       "      <td>0.138989</td>\n",
       "      <td>0.137725</td>\n",
       "      <td>0.136520</td>\n",
       "      <td>0.137723</td>\n",
       "      <td>0.138559</td>\n",
       "      <td>0.137951</td>\n",
       "      <td>0.138189</td>\n",
       "      <td>0.138496</td>\n",
       "      <td>0.139470</td>\n",
       "      <td>0.137546</td>\n",
       "      <td>...</td>\n",
       "      <td>0.138233</td>\n",
       "      <td>0.144002</td>\n",
       "      <td>0.138050</td>\n",
       "      <td>0.137533</td>\n",
       "      <td>0.139036</td>\n",
       "      <td>0.138399</td>\n",
       "      <td>0.138330</td>\n",
       "      <td>0.137148</td>\n",
       "      <td>0.138027</td>\n",
       "      <td>0.140283</td>\n",
       "    </tr>\n",
       "  </tbody>\n",
       "</table>\n",
       "<p>10 rows × 1140 columns</p>\n",
       "</div>"
      ],
      "text/plain": [
       "                      -9223121837663643404  -9212075797126931087  \\\n",
       "contentId                                                          \n",
       "-9222795471790223670              0.139129              0.137930   \n",
       "-9216926795620865886              0.138044              0.137916   \n",
       "-9194572880052200111              0.135998              0.137652   \n",
       "-9192549002213406534              0.141924              0.137996   \n",
       "-9190737901804729417              0.140209              0.137408   \n",
       "-9189659052158407108              0.138932              0.138699   \n",
       "-9176143510534135851              0.143208              0.138673   \n",
       "-9172673334835262304              0.138527              0.138021   \n",
       "-9171475473795142532              0.140720              0.137865   \n",
       "-9166778629773133902              0.138989              0.137725   \n",
       "\n",
       "                      -9207251133131336884  -9199575329909162940  \\\n",
       "contentId                                                          \n",
       "-9222795471790223670              0.136531              0.143948   \n",
       "-9216926795620865886              0.138698              0.137878   \n",
       "-9194572880052200111              0.137283              0.137536   \n",
       "-9192549002213406534              0.134663              0.137080   \n",
       "-9190737901804729417              0.138708              0.138672   \n",
       "-9189659052158407108              0.138117              0.137621   \n",
       "-9176143510534135851              0.139514              0.139114   \n",
       "-9172673334835262304              0.138274              0.137827   \n",
       "-9171475473795142532              0.138061              0.137633   \n",
       "-9166778629773133902              0.136520              0.137723   \n",
       "\n",
       "                      -9196668942822132778  -9188188261933657343  \\\n",
       "contentId                                                          \n",
       "-9222795471790223670              0.136815              0.137339   \n",
       "-9216926795620865886              0.137969              0.137990   \n",
       "-9194572880052200111              0.140363              0.137807   \n",
       "-9192549002213406534              0.139946              0.138574   \n",
       "-9190737901804729417              0.137725              0.138218   \n",
       "-9189659052158407108              0.138920              0.137766   \n",
       "-9176143510534135851              0.137664              0.137447   \n",
       "-9172673334835262304              0.137997              0.138037   \n",
       "-9171475473795142532              0.138231              0.138089   \n",
       "-9166778629773133902              0.138559              0.137951   \n",
       "\n",
       "                      -9172914609055320039  -9156344805277471150  \\\n",
       "contentId                                                          \n",
       "-9222795471790223670              0.137508              0.143534   \n",
       "-9216926795620865886              0.137974              0.138049   \n",
       "-9194572880052200111              0.141246              0.136284   \n",
       "-9192549002213406534              0.139473              0.144469   \n",
       "-9190737901804729417              0.138390              0.138418   \n",
       "-9189659052158407108              0.138568              0.138200   \n",
       "-9176143510534135851              0.139833              0.140564   \n",
       "-9172673334835262304              0.138104              0.138259   \n",
       "-9171475473795142532              0.139009              0.137552   \n",
       "-9166778629773133902              0.138189              0.138496   \n",
       "\n",
       "                      -9120685872592674274  -9109785559521267180  ...  \\\n",
       "contentId                                                         ...   \n",
       "-9222795471790223670              0.136428              0.135681  ...   \n",
       "-9216926795620865886              0.138217              0.138151  ...   \n",
       "-9194572880052200111              0.135301              0.138512  ...   \n",
       "-9192549002213406534              0.143333              0.138428  ...   \n",
       "-9190737901804729417              0.134883              0.140193  ...   \n",
       "-9189659052158407108              0.140572              0.140365  ...   \n",
       "-9176143510534135851              0.144698              0.144440  ...   \n",
       "-9172673334835262304              0.137633              0.138397  ...   \n",
       "-9171475473795142532              0.137143              0.140581  ...   \n",
       "-9166778629773133902              0.139470              0.137546  ...   \n",
       "\n",
       "                       9105269044962898535   9109075639526981934  \\\n",
       "contentId                                                          \n",
       "-9222795471790223670              0.137351              0.127822   \n",
       "-9216926795620865886              0.137962              0.139527   \n",
       "-9194572880052200111              0.139257              0.143161   \n",
       "-9192549002213406534              0.140233              0.167426   \n",
       "-9190737901804729417              0.138373              0.138459   \n",
       "-9189659052158407108              0.140725              0.148152   \n",
       "-9176143510534135851              0.138367              0.146220   \n",
       "-9172673334835262304              0.138588              0.140146   \n",
       "-9171475473795142532              0.139046              0.139895   \n",
       "-9166778629773133902              0.138233              0.144002   \n",
       "\n",
       "                       9135582630122950040   9137372837662939523  \\\n",
       "contentId                                                          \n",
       "-9222795471790223670              0.137946              0.139653   \n",
       "-9216926795620865886              0.138009              0.138117   \n",
       "-9194572880052200111              0.139139              0.140077   \n",
       "-9192549002213406534              0.138849              0.137037   \n",
       "-9190737901804729417              0.138169              0.137990   \n",
       "-9189659052158407108              0.137645              0.138165   \n",
       "-9176143510534135851              0.136204              0.138087   \n",
       "-9172673334835262304              0.138013              0.137839   \n",
       "-9171475473795142532              0.138000              0.137958   \n",
       "-9166778629773133902              0.138050              0.137533   \n",
       "\n",
       "                       9148269800512008413   9165571805999894845  \\\n",
       "contentId                                                          \n",
       "-9222795471790223670              0.140324              0.136888   \n",
       "-9216926795620865886              0.139634              0.138058   \n",
       "-9194572880052200111              0.154976              0.140109   \n",
       "-9192549002213406534              0.141820              0.139260   \n",
       "-9190737901804729417              0.134041              0.137820   \n",
       "-9189659052158407108              0.149152              0.138912   \n",
       "-9176143510534135851              0.137317              0.137917   \n",
       "-9172673334835262304              0.137033              0.137969   \n",
       "-9171475473795142532              0.136061              0.138183   \n",
       "-9166778629773133902              0.139036              0.138399   \n",
       "\n",
       "                       9187866633451383747   9191849144618614467  \\\n",
       "contentId                                                          \n",
       "-9222795471790223670              0.135787              0.134560   \n",
       "-9216926795620865886              0.138222              0.138864   \n",
       "-9194572880052200111              0.140654              0.135861   \n",
       "-9192549002213406534              0.139513              0.136804   \n",
       "-9190737901804729417              0.138100              0.138286   \n",
       "-9189659052158407108              0.139595              0.139807   \n",
       "-9176143510534135851              0.138546              0.142601   \n",
       "-9172673334835262304              0.138337              0.138361   \n",
       "-9171475473795142532              0.138817              0.138060   \n",
       "-9166778629773133902              0.138330              0.137148   \n",
       "\n",
       "                       9199170757466086545   9210530975708218054  \n",
       "contentId                                                         \n",
       "-9222795471790223670              0.135862              0.136246  \n",
       "-9216926795620865886              0.138480              0.138323  \n",
       "-9194572880052200111              0.139332              0.153114  \n",
       "-9192549002213406534              0.140862              0.148793  \n",
       "-9190737901804729417              0.138630              0.136178  \n",
       "-9189659052158407108              0.140419              0.145698  \n",
       "-9176143510534135851              0.141431              0.142154  \n",
       "-9172673334835262304              0.138813              0.137538  \n",
       "-9171475473795142532              0.139205              0.137198  \n",
       "-9166778629773133902              0.138027              0.140283  \n",
       "\n",
       "[10 rows x 1140 columns]"
      ]
     },
     "execution_count": 23,
     "metadata": {},
     "output_type": "execute_result"
    }
   ],
   "source": [
    "#Converting the reconstructed matrix back to a Pandas dataframe\n",
    "cf_preds_df = pd.DataFrame(all_user_predicted_ratings_norm, \n",
    "                           columns = users_items_pivot_matrix_df.columns, \n",
    "                           index=users_ids).transpose()\n",
    "cf_preds_df.head(10)"
   ]
  },
  {
   "cell_type": "code",
   "execution_count": 24,
   "metadata": {
    "_cell_guid": "9641fbce-f667-48f7-9142-85e486cc201d",
    "_uuid": "d51ffda7cbeab216ad6e1b449a6cec5000c780f4"
   },
   "outputs": [
    {
     "data": {
      "text/plain": [
       "1140"
      ]
     },
     "execution_count": 24,
     "metadata": {},
     "output_type": "execute_result"
    }
   ],
   "source": [
    "len(cf_preds_df.columns)"
   ]
  },
  {
   "cell_type": "code",
   "execution_count": 25,
   "metadata": {
    "_cell_guid": "80f4d589-c8de-4fcf-b60e-e4576fe0b23a",
    "_uuid": "d25926c1a7bada2dee4aacefc93da38053341189"
   },
   "outputs": [],
   "source": [
    "class CFRecommender:\n",
    "    \n",
    "    MODEL_NAME = 'Collaborative Filtering'\n",
    "    \n",
    "    def __init__(self, cf_predictions_df, items_df=None):\n",
    "        self.cf_predictions_df = cf_predictions_df\n",
    "        self.items_df = items_df\n",
    "        \n",
    "    def get_model_name(self):\n",
    "        return self.MODEL_NAME\n",
    "        \n",
    "    def recommend_items(self, user_id, items_to_ignore=[], topn=10, verbose=False):\n",
    "        # Get and sort the user's predictions\n",
    "        sorted_user_predictions = self.cf_predictions_df[user_id].sort_values(ascending=False) \\\n",
    "                                    .reset_index().rename(columns={user_id: 'recStrength'})\n",
    "\n",
    "        # Recommend the highest predicted rating movies that the user hasn't seen yet.\n",
    "        recommendations_df = sorted_user_predictions[~sorted_user_predictions['contentId'].isin(\n",
    "                                items_to_ignore)] \\\n",
    "                               .sort_values('recStrength', ascending = False) \\\n",
    "                               .head(topn)\n",
    "\n",
    "        if verbose:\n",
    "            if self.items_df is None:\n",
    "                raise Exception('\"items_df\" is required in verbose mode')\n",
    "\n",
    "            recommendations_df = recommendations_df.merge(self.items_df, how = 'left', \n",
    "                                                          left_on = 'contentId', \n",
    "                                                          right_on = 'contentId')[[\n",
    "                                                          'recStrength', 'contentId', 'title', 'url', 'lang']]\n",
    "\n",
    "\n",
    "        return recommendations_df\n",
    "    \n",
    "cf_recommender_model = CFRecommender(cf_preds_df, articles_df)"
   ]
  },
  {
   "cell_type": "code",
   "execution_count": 26,
   "metadata": {
    "_cell_guid": "f4a2af7e-d368-432d-9ec5-d9229caf208a",
    "_uuid": "d80d307ff6b740b134ac2186f2659d468d3c2655"
   },
   "outputs": [
    {
     "name": "stdout",
     "output_type": "stream",
     "text": [
      "Evaluating Collaborative Filtering (SVD Matrix Factorization) model...\n",
      "1139 users processed\n",
      "\n",
      "Global metrics:\n",
      "{'modelName': 'Collaborative Filtering', 'recall@5': 0.33392994119151115, 'recall@10': 0.46803886474047557}\n"
     ]
    },
    {
     "data": {
      "text/html": [
       "<div>\n",
       "<style scoped>\n",
       "    .dataframe tbody tr th:only-of-type {\n",
       "        vertical-align: middle;\n",
       "    }\n",
       "\n",
       "    .dataframe tbody tr th {\n",
       "        vertical-align: top;\n",
       "    }\n",
       "\n",
       "    .dataframe thead th {\n",
       "        text-align: right;\n",
       "    }\n",
       "</style>\n",
       "<table border=\"1\" class=\"dataframe\">\n",
       "  <thead>\n",
       "    <tr style=\"text-align: right;\">\n",
       "      <th></th>\n",
       "      <th>hits@5_count</th>\n",
       "      <th>hits@10_count</th>\n",
       "      <th>interacted_count</th>\n",
       "      <th>recall@5</th>\n",
       "      <th>recall@10</th>\n",
       "      <th>_person_id</th>\n",
       "    </tr>\n",
       "  </thead>\n",
       "  <tbody>\n",
       "    <tr>\n",
       "      <th>76</th>\n",
       "      <td>21</td>\n",
       "      <td>46</td>\n",
       "      <td>192</td>\n",
       "      <td>0.109375</td>\n",
       "      <td>0.239583</td>\n",
       "      <td>3609194402293569455</td>\n",
       "    </tr>\n",
       "    <tr>\n",
       "      <th>17</th>\n",
       "      <td>30</td>\n",
       "      <td>56</td>\n",
       "      <td>134</td>\n",
       "      <td>0.223881</td>\n",
       "      <td>0.417910</td>\n",
       "      <td>-2626634673110551643</td>\n",
       "    </tr>\n",
       "    <tr>\n",
       "      <th>16</th>\n",
       "      <td>16</td>\n",
       "      <td>34</td>\n",
       "      <td>130</td>\n",
       "      <td>0.123077</td>\n",
       "      <td>0.261538</td>\n",
       "      <td>-1032019229384696495</td>\n",
       "    </tr>\n",
       "    <tr>\n",
       "      <th>10</th>\n",
       "      <td>38</td>\n",
       "      <td>51</td>\n",
       "      <td>117</td>\n",
       "      <td>0.324786</td>\n",
       "      <td>0.435897</td>\n",
       "      <td>-1443636648652872475</td>\n",
       "    </tr>\n",
       "    <tr>\n",
       "      <th>82</th>\n",
       "      <td>39</td>\n",
       "      <td>48</td>\n",
       "      <td>88</td>\n",
       "      <td>0.443182</td>\n",
       "      <td>0.545455</td>\n",
       "      <td>-2979881261169775358</td>\n",
       "    </tr>\n",
       "    <tr>\n",
       "      <th>161</th>\n",
       "      <td>22</td>\n",
       "      <td>34</td>\n",
       "      <td>80</td>\n",
       "      <td>0.275000</td>\n",
       "      <td>0.425000</td>\n",
       "      <td>-3596626804281480007</td>\n",
       "    </tr>\n",
       "    <tr>\n",
       "      <th>65</th>\n",
       "      <td>24</td>\n",
       "      <td>32</td>\n",
       "      <td>73</td>\n",
       "      <td>0.328767</td>\n",
       "      <td>0.438356</td>\n",
       "      <td>1116121227607581999</td>\n",
       "    </tr>\n",
       "    <tr>\n",
       "      <th>81</th>\n",
       "      <td>16</td>\n",
       "      <td>21</td>\n",
       "      <td>69</td>\n",
       "      <td>0.231884</td>\n",
       "      <td>0.304348</td>\n",
       "      <td>692689608292948411</td>\n",
       "    </tr>\n",
       "    <tr>\n",
       "      <th>106</th>\n",
       "      <td>20</td>\n",
       "      <td>28</td>\n",
       "      <td>69</td>\n",
       "      <td>0.289855</td>\n",
       "      <td>0.405797</td>\n",
       "      <td>-9016528795238256703</td>\n",
       "    </tr>\n",
       "    <tr>\n",
       "      <th>52</th>\n",
       "      <td>23</td>\n",
       "      <td>30</td>\n",
       "      <td>68</td>\n",
       "      <td>0.338235</td>\n",
       "      <td>0.441176</td>\n",
       "      <td>3636910968448833585</td>\n",
       "    </tr>\n",
       "  </tbody>\n",
       "</table>\n",
       "</div>"
      ],
      "text/plain": [
       "     hits@5_count  hits@10_count  interacted_count  recall@5  recall@10  \\\n",
       "76             21             46               192  0.109375   0.239583   \n",
       "17             30             56               134  0.223881   0.417910   \n",
       "16             16             34               130  0.123077   0.261538   \n",
       "10             38             51               117  0.324786   0.435897   \n",
       "82             39             48                88  0.443182   0.545455   \n",
       "161            22             34                80  0.275000   0.425000   \n",
       "65             24             32                73  0.328767   0.438356   \n",
       "81             16             21                69  0.231884   0.304348   \n",
       "106            20             28                69  0.289855   0.405797   \n",
       "52             23             30                68  0.338235   0.441176   \n",
       "\n",
       "              _person_id  \n",
       "76   3609194402293569455  \n",
       "17  -2626634673110551643  \n",
       "16  -1032019229384696495  \n",
       "10  -1443636648652872475  \n",
       "82  -2979881261169775358  \n",
       "161 -3596626804281480007  \n",
       "65   1116121227607581999  \n",
       "81    692689608292948411  \n",
       "106 -9016528795238256703  \n",
       "52   3636910968448833585  "
      ]
     },
     "execution_count": 26,
     "metadata": {},
     "output_type": "execute_result"
    }
   ],
   "source": [
    "print('Evaluating Collaborative Filtering (SVD Matrix Factorization) model...')\n",
    "cf_global_metrics, cf_detailed_results_df = model_evaluator.evaluate_model(cf_recommender_model)\n",
    "print('\\nGlobal metrics:\\n%s' % cf_global_metrics)\n",
    "cf_detailed_results_df.head(10)"
   ]
  },
  {
   "cell_type": "markdown",
   "metadata": {
    "_cell_guid": "8059422d-f93d-4879-a909-d22c8d746d60",
    "_uuid": "fe9beef019f59a65799ab58a1229874746c60765"
   },
   "source": [
    "Evaluating the Collaborative Filtering model (SVD matrix factorization), we observe that we got **Recall@5 (33%)** and **Recall@10 (46%)** values, much higher than Popularity model and Content-Based model."
   ]
  }
 ],
 "metadata": {
  "kernelspec": {
   "display_name": "Python 3",
   "language": "python",
   "name": "python3"
  },
  "language_info": {
   "codemirror_mode": {
    "name": "ipython",
    "version": 3
   },
   "file_extension": ".py",
   "mimetype": "text/x-python",
   "name": "python",
   "nbconvert_exporter": "python",
   "pygments_lexer": "ipython3",
   "version": "3.7.3"
  },
  "latex_envs": {
   "LaTeX_envs_menu_present": true,
   "bibliofile": "biblio.bib",
   "cite_by": "apalike",
   "current_citInitial": 1,
   "eqLabelWithNumbers": true,
   "eqNumInitial": 1,
   "labels_anchors": false,
   "latex_user_defs": false,
   "report_style_numbering": false,
   "user_envs_cfg": false
  },
  "toc": {
   "colors": {
    "hover_highlight": "#DAA520",
    "running_highlight": "#FF0000",
    "selected_highlight": "#FFD700"
   },
   "moveMenuLeft": true,
   "nav_menu": {
    "height": "266.534px",
    "width": "251.989px"
   },
   "navigate_menu": true,
   "number_sections": true,
   "sideBar": true,
   "threshold": 4,
   "toc_cell": true,
   "toc_section_display": "block",
   "toc_window_display": true
  }
 },
 "nbformat": 4,
 "nbformat_minor": 4
}
