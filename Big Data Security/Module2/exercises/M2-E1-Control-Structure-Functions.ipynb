{
 "cells": [
  {
   "cell_type": "markdown",
   "metadata": {},
   "source": [
    "**1. A store charges `$12` per item if you buy less than 10 items. If you buy between 10 and 99 items, the cost is `$10` per item. If you buy 100 or more items, the cost is `$7` per item. Write a program that asks the user how many items they are buying and prints the total cost.**\n"
   ]
  },
  {
   "cell_type": "code",
   "execution_count": 19,
   "metadata": {},
   "outputs": [
    {
     "name": "stdout",
     "output_type": "stream",
     "text": [
      "How many items would you like to buy?:60\n",
      "The total cost is 600\n"
     ]
    }
   ],
   "source": [
    "items = int(input(\"How many items would you like to buy?:\"))\n",
    "\n",
    "if items < 10:\n",
    "    price = 12 * items\n",
    "elif items >= 10 and items < 100:\n",
    "    price = 10 * items\n",
    "elif items >= 100:\n",
    "    price = 7 * items\n",
    "    \n",
    "print(\"The total cost is\", price)"
   ]
  },
  {
   "cell_type": "markdown",
   "metadata": {},
   "source": [
    "**2.  Write a program that uses a for loop to print the numbers 100, 98, 96, . . . , 4, 2.**"
   ]
  },
  {
   "cell_type": "code",
   "execution_count": 20,
   "metadata": {},
   "outputs": [
    {
     "name": "stdout",
     "output_type": "stream",
     "text": [
      "100\n",
      "98\n",
      "96\n",
      "94\n",
      "92\n",
      "90\n",
      "88\n",
      "86\n",
      "84\n",
      "82\n",
      "80\n",
      "78\n",
      "76\n",
      "74\n",
      "72\n",
      "70\n",
      "68\n",
      "66\n",
      "64\n",
      "62\n",
      "60\n",
      "58\n",
      "56\n",
      "54\n",
      "52\n",
      "50\n",
      "48\n",
      "46\n",
      "44\n",
      "42\n",
      "40\n",
      "38\n",
      "36\n",
      "34\n",
      "32\n",
      "30\n",
      "28\n",
      "26\n",
      "24\n",
      "22\n",
      "20\n",
      "18\n",
      "16\n",
      "14\n",
      "12\n",
      "10\n",
      "8\n",
      "6\n",
      "4\n",
      "2\n"
     ]
    }
   ],
   "source": [
    "for i in range(100,0,-2):\n",
    "    print(i)"
   ]
  },
  {
   "cell_type": "markdown",
   "metadata": {},
   "source": [
    "**3. Use a for loop to print a box like the one below. Allow the user to specify how wide and how high the box should be.**\n",
    "\n",
    "```\n",
    "******************* \n",
    "*                 * \n",
    "*                 * \n",
    "*******************\n",
    "```"
   ]
  },
  {
   "cell_type": "code",
   "execution_count": 21,
   "metadata": {},
   "outputs": [
    {
     "name": "stdout",
     "output_type": "stream",
     "text": [
      "enter desired width:100\n",
      "enter desired height:25\n",
      "****************************************************************************************************\n",
      "*                                                                                                  *\n",
      "*                                                                                                  *\n",
      "*                                                                                                  *\n",
      "*                                                                                                  *\n",
      "*                                                                                                  *\n",
      "*                                                                                                  *\n",
      "*                                                                                                  *\n",
      "*                                                                                                  *\n",
      "*                                                                                                  *\n",
      "*                                                                                                  *\n",
      "*                                                                                                  *\n",
      "*                                                                                                  *\n",
      "*                                                                                                  *\n",
      "*                                                                                                  *\n",
      "*                                                                                                  *\n",
      "*                                                                                                  *\n",
      "*                                                                                                  *\n",
      "*                                                                                                  *\n",
      "*                                                                                                  *\n",
      "*                                                                                                  *\n",
      "*                                                                                                  *\n",
      "*                                                                                                  *\n",
      "*                                                                                                  *\n",
      "****************************************************************************************************\n"
     ]
    }
   ],
   "source": [
    "import pprint\n",
    "\n",
    "w = int(input(\"enter desired width:\"))\n",
    "h = int(input(\"enter desired height:\"))\n",
    "\n",
    "print('*' * w)\n",
    "\n",
    "for i in range(h - 2):\n",
    "    print('*', ' ' * (w - 4), '*')\n",
    "    \n",
    "print('*' * w)"
   ]
  },
  {
   "cell_type": "markdown",
   "metadata": {},
   "source": [
    "**4. In the examples below, each of the snippet tries to sun numbers from 1 to 10. Without running the code blocks try to decide why we will not get the correct answer. Run each, one at a time, and then correct them.**"
   ]
  },
  {
   "cell_type": "code",
   "execution_count": 22,
   "metadata": {},
   "outputs": [
    {
     "name": "stdout",
     "output_type": "stream",
     "text": [
      "The sum of the numbers from 1 to 10 is  55\n"
     ]
    }
   ],
   "source": [
    "# while loop - summing the numbers 1 to 10\n",
    "n = 10\n",
    "cur_sum = 0\n",
    "# sum of n  numbers\n",
    "i = 0\n",
    "while  i <= n :\n",
    "    cur_sum = cur_sum + i\n",
    "    i = i + 1\n",
    "    \n",
    "print(\"The sum of the numbers from 1 to\", n, \"is \", cur_sum)\n"
   ]
  },
  {
   "cell_type": "code",
   "execution_count": 24,
   "metadata": {},
   "outputs": [
    {
     "name": "stdout",
     "output_type": "stream",
     "text": [
      "The sum of the numbers from 1 to 10 is  55\n"
     ]
    }
   ],
   "source": [
    "# while loop - summing the numbers 1 to 10\n",
    "n = 10\n",
    "cur_sum = 0\n",
    "# sum of n  numbers\n",
    "i = 0\n",
    "while  i <= n :\n",
    "    cur_sum = cur_sum + i\n",
    "    i = i + 1\n",
    "\n",
    "print(\"The sum of the numbers from 1 to\", n, \"is \", cur_sum)"
   ]
  },
  {
   "cell_type": "markdown",
   "metadata": {},
   "source": [
    "**5. Write a function called `sum_digits` that is given an integer num and returns the sum of the digits of num.**"
   ]
  },
  {
   "cell_type": "code",
   "execution_count": 28,
   "metadata": {},
   "outputs": [
    {
     "name": "stdout",
     "output_type": "stream",
     "text": [
      "enter an integer: 67\n",
      "13\n"
     ]
    }
   ],
   "source": [
    "def sum_digits(x):\n",
    "    sum = 0\n",
    "    for i in str(x):\n",
    "        sum = sum + int(i)\n",
    "    return sum\n",
    "\n",
    "a = int(input(\"enter an integer: \"))\n",
    "\n",
    "print(sum_digits(a))\n",
    "        "
   ]
  },
  {
   "cell_type": "markdown",
   "metadata": {},
   "source": [
    "**6. Write a function called matches that takes two strings as arguments and returns how many matches there are between the strings. A match is where the two strings have the same char- acter at the same index. For instance, 'python' and 'path' match in the first, third, and fourth characters, so the function should return 3.**\n"
   ]
  },
  {
   "cell_type": "code",
   "execution_count": 33,
   "metadata": {},
   "outputs": [
    {
     "name": "stdout",
     "output_type": "stream",
     "text": [
      "enter the first string: pyton\n",
      "enter the second string: path\n",
      "number of matches =  2\n",
      "matches occur at:  [0, 2]\n"
     ]
    }
   ],
   "source": [
    "def matches(str1, str2):\n",
    "    matched_indx = [indx for indx, (x, y) in enumerate(zip(str1, str2)) if x == y]\n",
    "#iterates through both strings and creates a list of the indexes where both strings match\n",
    "    return matched_indx\n",
    "#returns the list of the indexes\n",
    "\n",
    "str1 = str(input(\"enter the first string: \"))\n",
    "str2 = str(input(\"enter the second string: \"))\n",
    "\n",
    "ex_matches = matches(str1, str2)\n",
    "\n",
    "print(\"number of matches = \", len(ex_matches))\n",
    "print(\"matches occur at: \", ex_matches)"
   ]
  },
  {
   "cell_type": "markdown",
   "metadata": {},
   "source": [
    "**7. The following practice will shows the significance of using map and filter. The first part of the code defines two functions, square and even, and a list. The 2nd part of the code squares each value of the list if the value is even.**"
   ]
  },
  {
   "cell_type": "code",
   "execution_count": 34,
   "metadata": {},
   "outputs": [
    {
     "name": "stdout",
     "output_type": "stream",
     "text": [
      "[0, 4, 16, 36, 64]\n"
     ]
    }
   ],
   "source": [
    "def square(x):\n",
    "    return x ** 2\n",
    "\n",
    "def even(x):\n",
    "    return x % 2 == 0\n",
    "\n",
    "alist = list(range(10))  # given list\n",
    "\n",
    "# -------------------------------------------------------------------------------------------\n",
    "# The following code iterates over this list, and each value is squared and added to a list if the value is even\n",
    "\n",
    "alist_even_squared = []\n",
    "\n",
    "for aval in alist:\n",
    "    if even(aval):  # check if the val is even\n",
    "        temp_var = square(aval)  # square the value\n",
    "        alist_even_squared.append(temp_var)\n",
    "        \n",
    "print(alist_even_squared)"
   ]
  },
  {
   "cell_type": "markdown",
   "metadata": {},
   "source": [
    "**Task 7.1: Accomplish the above task using map and filter functions along with square and even functions.**"
   ]
  },
  {
   "cell_type": "code",
   "execution_count": 35,
   "metadata": {},
   "outputs": [
    {
     "name": "stdout",
     "output_type": "stream",
     "text": [
      "[0, 4, 16, 36, 64]\n"
     ]
    }
   ],
   "source": [
    "alist_even_squared = list(map(square, filter(even, alist)))\n",
    "print(alist_even_squared)"
   ]
  },
  {
   "cell_type": "markdown",
   "metadata": {},
   "source": [
    "**Task 7.2: Accomplish the above task using list comprehension along with square and even functions.**"
   ]
  },
  {
   "cell_type": "code",
   "execution_count": 36,
   "metadata": {},
   "outputs": [
    {
     "name": "stdout",
     "output_type": "stream",
     "text": [
      "[0, 4, 16, 36, 64]\n"
     ]
    }
   ],
   "source": [
    "alist_even_squared = [square(x) for x in alist if even(x)]\n",
    "print(alist_even_squared)"
   ]
  },
  {
   "cell_type": "code",
   "execution_count": null,
   "metadata": {},
   "outputs": [],
   "source": []
  }
 ],
 "metadata": {
  "kernelspec": {
   "display_name": "Python 3",
   "language": "python",
   "name": "python3"
  }
 },
 "nbformat": 4,
 "nbformat_minor": 2
}
