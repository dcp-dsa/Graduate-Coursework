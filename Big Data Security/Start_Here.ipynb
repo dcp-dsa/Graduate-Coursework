{
 "cells": [
  {
   "cell_type": "markdown",
   "metadata": {},
   "source": [
    "# Python Programming Boot Camp for Data Science\n",
    "\n",
    "__Synopsis:__ This course teaches participants how to program in Python, including the use of auxiliary libraries in various Python ecosystems. Participants are introduced to Jupyter notebook, an interactive programming environment, as well as Python’s use across the spectrum of data science courses and topics. Many activities are focused on data ingestion, cleaning, manipulation, and restructuring (e.g., ETL).\n",
    "\n",
    "__Course Design:__ This course has five modules. The fifth module is an optional one and will not be graded. \n",
    "This course is delivered with asynchronous online mode and activities using the JupyterHub learning environment.\n",
    "\n",
    "__Resources:__   \n",
    "  1. [Think Python v2, free PDF](http://greenteapress.com/thinkpython/thinkpython.pdf) (Text Book)\n"
   ]
  },
  {
   "cell_type": "markdown",
   "metadata": {},
   "source": [
    "---\n",
    "### Modules\n",
    "<!---Each week course material will be **released at 6 AM** on Saturday. Please see the MU DSA Boot Camp Guide for details on the Boot Camp courses and schedule.-->\n",
    "\n",
    "When a course day is available, you can click on the _Module X_ link below to launch that lesson's Schedule page."
   ]
  },
  {
   "cell_type": "markdown",
   "metadata": {},
   "source": [
    "<table border=1 cellpadding='5px'>\n",
    "  <tr align=\"center\">\n",
    "      <th style=\"text-align:left\"><a href=\"./Module1/Schedule.ipynb\" target=_new>Module 1</a> Self-paced</th>\n",
    "      <th style=\"text-align:left\"><a href=\"./Module2/Schedule.ipynb\" target=_new>Module 2</a> Self-paced</th>\n",
    "      <th style=\"text-align:left\"><a href=\"./Module3/Schedule.ipynb\" target=_new>Module 3</a> Self-paced</th>\n",
    "  </tr>\n",
    "  <tr align=\"center\">\n",
    "      <td align='left' valign='top'>\n",
    "          <h5 style=\"text-align:left\">Introducing Python</h5>\n",
    "              <p>1. JupyterHub Learning Environment</p>\n",
    "              <p>2. Variable, Operators, Input, Output</p>\n",
    "              <p>3. Data Structures: List, Tuple, Set, String, & Dictionary</p>\n",
    "      </td>\n",
    "      <td align='left' valign='top'>\n",
    "          <h5 style=\"text-align:left\">Intermediate Python</h5>\n",
    "              <p>1. Flow Control</p>\n",
    "              <p>2. Functions</p>\n",
    "              <p>3. Modules & Libraries</p>\n",
    "      </td>\n",
    "      <td align='left' valign='top'>\n",
    "         <h5 style=\"text-align:left\">Common Libraries &amp; Tasks</h5>\n",
    "              <p>1. File Input, Output, and Processing</p> \n",
    "              <p>2. Numpy & Pandas</p>\n",
    "              <p>3. Data Parsing</p>\n",
    "      </td>\n",
    "  </tr>\n",
    "</table>"
   ]
  },
  {
   "cell_type": "markdown",
   "metadata": {},
   "source": [
    "### Notes\n",
    "\n",
    "* In this course, we have students from diverse backgrounds. Although this course is asynchronous in style, we believe you can get the most out of this boot camp by interacting with the fellow studetns, TAs, and instructors. Please ask questions whenever you feel necessary. \n",
    "\n",
    "* It is not recommended to spend hours for a tech issue or an error in the code. Ask help in the discussion forum.\n",
    "\n",
    "* Please consult the material distributed to you with information on DSA systems and discussion forum access."
   ]
  },
  {
   "cell_type": "markdown",
   "metadata": {},
   "source": [
    "-----\n",
    "\n",
    "### The Ethic of Mutual Aid\n",
    "\n",
    "In each module it is important to ask and answer questions. \n",
    "All students should ask. Everyone should try to answer at least once. \n",
    "We learn by solving our own problems and helping others solve theirs.\n",
    "Social learning theory helps to explain the mechanics of how communicating with others aids learning.\n",
    "It suggests that people learn from one another, via observation, imitation, and modeling. \n",
    "The theory has often been called a bridge between behaviorist and cognitive learning theories because it encompasses attention, memory, and motivation. \n",
    "If you think about the most rewarding learning experiences in your life, \n",
    "its likely you will recall a time when you struggled, sought help, provided help and ultimately achieved your aims. \n",
    "And probably helped others achieve theirs.\n",
    "\n",
    "The instructors and TAs will help the discussions and mutual aid stay on track.\n",
    "We look forward to working with all of you!\n",
    "\n",
    "Mutual aid is a place to discuss the topic and issue you are having. It is not a place to post code, working or not for feedback or solutions. Posting code is counterproductive  in this type of Mutual Aid environment. \n",
    "\n",
    "-----\n",
    "\n",
    "### Resources\n",
    "\n",
    "Each module will have reading links and resources. Please consult the weekly Schedule notebook for details and modular particulars. "
   ]
  }
 ],
 "metadata": {
  "kernelspec": {
   "display_name": "Python 3",
   "language": "python",
   "name": "python3"
  },
  "language_info": {
   "codemirror_mode": {
    "name": "ipython",
    "version": 3
   },
   "file_extension": ".py",
   "mimetype": "text/x-python",
   "name": "python",
   "nbconvert_exporter": "python",
   "pygments_lexer": "ipython3",
   "version": "3.7.3"
  }
 },
 "nbformat": 4,
 "nbformat_minor": 1
}
