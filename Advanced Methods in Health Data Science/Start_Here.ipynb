{
 "cells": [
  {
   "cell_type": "markdown",
   "metadata": {},
   "source": [
    "# Advanced Methods in Heath Data Science\n",
    "\n",
    "This course covers some advanced statistical and machine learning methods for the analysis of health data. Topics include Survival analysis, time series data, patient generated data, image data, climical decision support, supervised and unsupervised machine learning methods, and association rule mining. Project work involves accessing and analyzing real (de-identified) health care data. All project work must be completed using Python and Jupyter Notebooks."
   ]
  },
  {
   "cell_type": "markdown",
   "metadata": {},
   "source": [
    "## Syllabus\n",
    "The syllabus is located here: [DATA_SCI 8140-Syllabus](./DATA_SCI-8140-Advanced-Methods-in-Health-Data-Science-Syllabus.docx)"
   ]
  },
  {
   "cell_type": "markdown",
   "metadata": {},
   "source": [
    "## Office Hours\n",
    "\n",
    "Office hours with the instructor are conducted on the Slack channel for this course.  See the Canvas site for this course for updated information on office hours.  Hours have been set to accommodate multiple time zones and working schedules. All other times are asynchronous over Slack, i.e. you may post a question and it will be answered at the earliest possible time (within 24 hours).\n",
    "\n",
    "TA's are available for general help with programming, jupyter, and the DSA environment via Slack.  "
   ]
  },
  {
   "cell_type": "markdown",
   "metadata": {},
   "source": [
    "## Course Module Schedule\n",
    "\n",
    "  1. [Health research informatics](./modules/module1/Schedule.ipynb)\n",
    "  2. [Survival analysis and repeated categorical analysis](./modules/module2/Schedule.ipynb)\n",
    "  3. [Time series analysis and mixed models](./modules/module3/Schedule.ipynb)\n",
    "  4. [Image data formats, processing and application of deep learning techniques ](./modules/module4/Schedule.ipynb)\n",
    "  5. [Clinical decision support, explainable AI, and business intelligence](./modules/module5/Schedule.ipynb)\n",
    "  6. [Applications of supervised methods](./modules/module6/Schedule.ipynb)\n",
    "  7. [Applications of unsupervised methods](./modules/module7/Schedule.ipynb)\n",
    "  8. [Applying association rule mining for hypothesis generation](./modules/module8/Schedule.ipynb)\n",
    "  \n",
    "### Weekly Module Download\n",
    "\n",
    "Each Saturday morning during the course, a new module will become available.\n",
    "You will be using Git Pull to acquire the module's learning activities.  \n",
    "Clicking on the modules above before the content is pulled is expected to give you a **404 Error**\n",
    "\n",
    "#### Steps:\n",
    "  1. Open Terminal in JupyterHub\n",
    "  1. Change into the course folder\n",
    "  1. Execute command:  \n",
    "  `git pull   --no-edit   upstream   master`"
   ]
  },
  {
   "cell_type": "markdown",
   "metadata": {},
   "source": [
    "## Technologies\n",
    "  * Pandas (Python)\n",
    "  * Scikit - Learn (Python)"
   ]
  },
  {
   "cell_type": "markdown",
   "metadata": {},
   "source": [
    "## Weekly Module Workload\n",
    "All material will be released at the beginning of each module, on Saturday at 6am to allow you to work through the week and manage your time as needed.\n",
    "\n",
    "Module exercises will be collected at midnight central time at the end of the following Saturday, giving you a little over 7.5 days to complete the exercises.\n",
    "\n",
    "Exercises should be submitted by way of Git : Add, Commit, Push. More details will be provided in the learning activities on JupyterHub."
   ]
  },
  {
   "cell_type": "markdown",
   "metadata": {},
   "source": [
    "## Resources\n",
    "\n",
    "Each module will have reading links and resources.\n",
    "Please consult the weekly `Schedule` notebook for details and module particulars."
   ]
  }
 ],
 "metadata": {
  "kernelspec": {
   "display_name": "Python 3",
   "language": "python",
   "name": "python3"
  },
  "language_info": {
   "codemirror_mode": {
    "name": "ipython",
    "version": 3
   },
   "file_extension": ".py",
   "mimetype": "text/x-python",
   "name": "python",
   "nbconvert_exporter": "python",
   "pygments_lexer": "ipython3",
   "version": "3.7.3"
  }
 },
 "nbformat": 4,
 "nbformat_minor": 2
}
