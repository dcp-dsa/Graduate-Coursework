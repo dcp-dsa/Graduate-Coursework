{
 "cells": [
  {
   "cell_type": "markdown",
   "metadata": {},
   "source": [
    "# Module 1 Lab 3 - Refresher on two-way contingency table analysis\n",
    "\n",
    "In this lab, we will see how to compare frequencies broken out by two variables that we have obtained from sampling a single population (a test of independence), or two sets of frequencies collected from two different populations (a test of homogeneity).  This method is known as a contingency table or a two-way frequency table.\n",
    "\n",
    "In the first section of this lab, we will take a look at data that was used to determine the effectiveness of the vaccine against polio developed in the mid 1950's by Dr. Jonas Salk.  This kind of contingency table analysis is frequently used in heath data analysis and survey analysis.  We will perform a test of independence, which is to say that of the two groups of data that are being compared, there is no association (dependency) between the row and column variables in the contingency table.\n",
    "\n",
    "In the second section of the lab, we will perform a test of homogeneity.  This test is used to determine if two populations have the same proportions across a given. As the name implies, we can use this to see of the two populations are homogenous with regards to the variable.  The procedure is the same as for the test of independence, but the interpretation differs."
   ]
  },
  {
   "cell_type": "code",
   "execution_count": 1,
   "metadata": {},
   "outputs": [
    {
     "name": "stderr",
     "output_type": "stream",
     "text": [
      "/opt/conda/lib/python3.7/site-packages/pandas/compat/_optional.py:138: UserWarning: Pandas requires version '2.7.0' or newer of 'numexpr' (version '2.6.9' currently installed).\n",
      "  warnings.warn(msg, UserWarning)\n"
     ]
    }
   ],
   "source": [
    "import pandas as pd\n",
    "import numpy as np"
   ]
  },
  {
   "cell_type": "markdown",
   "metadata": {},
   "source": [
    "## Assumptions for test of independence \n",
    "Before we can perform the $X^{2}$ test for independence, we must first check that we meet the basic assumptions:\n",
    "1. Each frequency count was obtained from independent observations\n",
    "1. Each data value can be described by two different variables\n",
    "1. The sample data are random\n",
    "1. For every cell in the table, the _expected_ frequency is at least 5.\n",
    "\n",
    "## Hypotheses\n",
    "### Null hypothesis\n",
    "The Null hypothesis is the statement that the rows and columns are independent.\n",
    "### Alternative hypothesis\n",
    "The Alternative hypothesis is the statement that the rows and columns are dependent.\n",
    "\n",
    "\n",
    "## Perform the test\n",
    "In this example, we already have data that has been summarized.\n",
    "The data are in a 2x2 contingency table represtenting the following:\n",
    "\n",
    "| Developed Polio? : | Yes | No |\n",
    "| --- | --- | --- |\n",
    "| Salk Vaccine | 33 | 200,712 |\n",
    "| Placebo | 115 | 201,114 |\n",
    "\n",
    "\n",
    "We are using scipy's function to do the $X^{2}$ test:\n",
    "\n",
    "https://docs.scipy.org/doc/scipy/reference/generated/scipy.stats.chi2_contingency.html\n",
    "\n",
    "This will return 4 values: \n",
    "1. the test statistic\n",
    "1. p value\n",
    "1. degrees of freedom (determines the shape of the $X^{2}$ distribution)\n",
    "1. The expected frequencies if there was an association between the two variables.  We can use this to ensure we meet the requirements for at least 5 expected in each cell.\n",
    "\n",
    "We will make the statement that assumptions one and three are met, as the study was collected as part of a clinical trial.  Assumption 2 is met because we have two variables describing our numbers: \n",
    "1. Received polio vaccine or placebo\n",
    "1. Developed polio yes or no\n",
    "\n",
    "We will run our $X^{2}$ test using an $\\alpha$ of 0.05."
   ]
  },
  {
   "cell_type": "code",
   "execution_count": 2,
   "metadata": {},
   "outputs": [
    {
     "name": "stdout",
     "output_type": "stream",
     "text": [
      "x2=44.15255846216504, p value=3.0375452398844475e-11\n",
      "\n",
      "Expected frequencies:\n",
      "[[    73.91 200671.09]\n",
      " [    74.09 201154.91]]\n"
     ]
    }
   ],
   "source": [
    "from scipy.stats import chi2_contingency\n",
    "np.set_printoptions(suppress=True) # to get non scientific notation when printing\n",
    "\n",
    "salk_data = [[33, 200712],\n",
    "             [115, 201114]]\n",
    "\n",
    "x2, pvalue, dof, expected = chi2_contingency(salk_data)\n",
    "\n",
    "print(f'x2={x2}, p value={pvalue}')\n",
    "print('\\nExpected frequencies:')\n",
    "print(np.round(expected, 2))"
   ]
  },
  {
   "cell_type": "markdown",
   "metadata": {},
   "source": [
    "## Interpretation\n",
    "This test is one of the simplest tests to make.  The interpretation is also straightforward.  If the p-value is less than $\\alpha$, then we reject the Null hypothesis and support the Alternative, otherwise we fail to reject the Null.\n",
    "\n",
    "First, we can verify our final assumption that the expected frequencies are at least 5 in each cell is true, since the smallest expected cell value is 73.91.\n",
    "\n",
    "Because the p value is less than 0.05, we reject the Null hypothesis that the rows and columns are independent.  In other words, we reject that whether a person gets the Salk vaccine or a placebo is independent of whether they develop polio.\n",
    "\n",
    "### Deeper understanding\n",
    "We get the output of expected frequencies if the Null hypothesis were true.  The expected frequencies represent equal probabilities for each cell, and form the basis of the Null hypothesis: that the frequencies are independent, and therefore the same.  We can interpret the expected frequencies this way:\n",
    "\n",
    "There were 401,974 people in the study, and 148 contracted polio (these are the facts irrespective of whether they got the vaccine or a placebo).  If getting the vaccine or not is independent of devloping polio, then we would have expected about 74 people in the treatment group to contract polio, and about 74 people in the plaebo group to contract polio (it's the total number of people who did contract polio divided by 2). Additionally, if 74 people had contracted polio with the vaccine, we would have expected the number of people not contracting polio to be 200,671 (subtract an additional 41 people (74-33) from the no polio group since they moved to the poio group), and for 74 people in the placebo group contracting polio, we would have expected 201,155 to not contract polio (again moving people from one group to the other to balance the total).  \n",
    "\n",
    "Instead, it was observed that only 33 people in the treatment group developed polio, and 115 in the placebo group developed polio.  Also 200,712 in the treatment group did not develop polio, and 201,114 in the placebo group did not develop polio.  \n",
    "\n",
    "These differences were found to be significant, and therefore led to rejection of  the Null hypothesis.\n"
   ]
  },
  {
   "cell_type": "markdown",
   "metadata": {},
   "source": [
    "## Test for homogeneity\n",
    "\n",
    "Now we will examine how to test samples from two independent populations.  Here we are testing that the two populations have the same proportions across two different variables.\n",
    "\n",
    "## Assumptions for test of homogeneity \n",
    "Before we can perform the $X^{2}$ test for independence, we must first check that we meet the basic assumptions:\n",
    "1. The data come from independent populations\n",
    "1. Each frequency count was obtained from independent observations\n",
    "1. Each data value can be described by two different variables\n",
    "1. The sample data are random\n",
    "1. For every cell in the table, the _expected_ frequency is at least 5.\n",
    "\n",
    "## Hypotheses\n",
    "### Null hypothesis\n",
    "The Null hypothesis is the statement that the proportions between the different populations are the same.\n",
    "### Alternative hypothesis\n",
    "The Alternative hypothesis is the statement that the proportions between the different populations are different.\n",
    "\n",
    "## Perform the test\n",
    "The procedure for this test is exactly the same as above for the test of independence.  The only thing that differs is the interpretation of the results, based on the comparison of different populations instead of one population.\n",
    "\n",
    "For this example, we will use data sampled from three populations across a single binary variable, as follows:\n",
    "\n",
    "| Experience level -> | 1-6 | 7-20 | >20 |\n",
    "| --- | --- | --- | --- |\n",
    "| **Does not use medical calculators** | 3 | 8 | 18\n",
    "| **Uses medical calculators** | 34 | 28 | 17\n",
    "\n",
    "This represents data collected from a survey of physicians af various experience levels.  They were asked whether they used medical calculators in practice as part of the survey. In this data, we have three different populations:\n",
    "\n",
    "1. Physicians with 1-6 years of experience (residents)\n",
    "1. Physicians with 7-20 years of experience (early to mid-career)\n",
    "1. Physicians with more than 20 years of experience (highly experienced)\n",
    "\n",
    "Assumption 1 is met, because we cannot have a physician with two differrent levels of experience.  Assumption 2 is met due to the nature of the survey (it was sent once to each physician, and only one response allowed).  Assumption 3 is met (level of experience and uses calculators are the two variables), and finally assumption 4 is met due to the nature of the survey administraion being to a random sample of physicians.\n",
    "\n",
    "We will run a $X^{2}$ test for homogeneity with $\\alpha$ = 0.05 to see if these physicians use medical calculators at different proportions depending on their experience level.\n",
    "\n",
    "Note that while we have one cell with less than 5 in it, we are not excluded from using the test yet.  The assumption applies to the _expected_ count, and not the measured count, in each cell.  We will verify that there are at least 5 _expected_ in each cell after the test is run.\n",
    "\n"
   ]
  },
  {
   "cell_type": "code",
   "execution_count": 3,
   "metadata": {},
   "outputs": [
    {
     "name": "stdout",
     "output_type": "stream",
     "text": [
      "x2=17.774117623266463, p value=0.000138165431520743\n",
      "\n",
      "Expected frequencies:\n",
      "[[ 9.94  9.67  9.4 ]\n",
      " [27.06 26.33 25.6 ]]\n"
     ]
    }
   ],
   "source": [
    "from scipy.stats import chi2_contingency\n",
    "\n",
    "data = [[3, 8, 18],\n",
    "        [34, 28, 17]]\n",
    "\n",
    "x2, pvalue, dof, expected = chi2_contingency(data)\n",
    "\n",
    "print(f'x2={x2}, p value={pvalue}')\n",
    "print('\\nExpected frequencies:')\n",
    "print(np.round(expected, 2))"
   ]
  },
  {
   "cell_type": "markdown",
   "metadata": {},
   "source": [
    "## Interpretation\n",
    "First, the expected frequencies show no cell with a value below 5, so this test meets the final basic assumption and is therefore valid.\n",
    "\n",
    "Our p value was less than 0.05, therefore we reject the Null that the proportions are equal, and support that the proportions are different.  We can calculate the proportions to see what they are:\n",
    "\n",
    "| experience level | proportion of use |\n",
    "| --- | --- |\n",
    "| 1-6 | 0.919 | \n",
    "| 7-20 | 0.777 |\n",
    "| >20 | 0.486 |\n",
    "\n",
    "\n",
    "We can conclude that the proportions are statistically different.  We cannot conclude that there is a causation between the two variables, however.  It is inappropriate to say that being a resident will cause you to use medical calculators, or being experienced will cause you to not use them, just that their use is dependent on level of experience.\n",
    "\n",
    "\n",
    "## If the assumptions fail\n",
    "In the case that the assumptions do not hold up, specifically the frequency > 5 assumption, then Fisher's exact test can be used, but **only** for a 2x2 contingency table.\n",
    "\n",
    "See [this link](https://docs.scipy.org/doc/scipy/reference/generated/scipy.stats.fisher_exact.html) for the scipy documentation on Fisher's exact.\n",
    "\n",
    "If the assumption that the data are independent fail, then the techniques for matched data analysis can be used, which is covered in the next lab."
   ]
  },
  {
   "cell_type": "code",
   "execution_count": null,
   "metadata": {},
   "outputs": [],
   "source": []
  }
 ],
 "metadata": {
  "kernelspec": {
   "display_name": "Python 3",
   "language": "python",
   "name": "python3"
  },
  "language_info": {
   "codemirror_mode": {
    "name": "ipython",
    "version": 3
   },
   "file_extension": ".py",
   "mimetype": "text/x-python",
   "name": "python",
   "nbconvert_exporter": "python",
   "pygments_lexer": "ipython3",
   "version": "3.7.3"
  }
 },
 "nbformat": 4,
 "nbformat_minor": 2
}
