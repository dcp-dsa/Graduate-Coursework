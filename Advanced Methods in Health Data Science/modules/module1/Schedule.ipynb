{
 "cells": [
  {
   "cell_type": "markdown",
   "metadata": {},
   "source": [
    "# Module 1: Health research informatics"
   ]
  },
  {
   "cell_type": "markdown",
   "metadata": {},
   "source": [
    "In this module you will learn about Clinical Research Informatics (CRI) processes and procedures, Electronic Data Capture (EDC), Clinical Trials Management Systems (CTMS), and electronic Case Report Forms (eCRF).  You will work with data from [REDCap](https://www.project-redcap.org/) and files in Study Data Tabulation Model (SDTM) format.\n"
   ]
  },
  {
   "cell_type": "markdown",
   "metadata": {},
   "source": [
    "## Module Topics\n",
    "1. Clinical Research Informatics, EDC, CTMS, and eCRF\n",
    "1. REDCap\n",
    "1. Clinical Data Interchange Standards Consortium (CDISC)\n",
    "1. Study Data Tabulation Model (SDTM)\n"
   ]
  },
  {
   "cell_type": "markdown",
   "metadata": {},
   "source": [
    "## Lectures\n",
    "Lectures are available on the Canvas site for this course, and cover the following topics:\n",
    "\n",
    "1. Research Informatics\n",
    "1. Electronic Data Capture and Survey Design\n"
   ]
  },
  {
   "cell_type": "markdown",
   "metadata": {},
   "source": [
    "## Reading and Videos\n",
    "* [REDCap Overview](https://redcap.vanderbilt.edu/consortium/videoplayer.php?video=redcap_overview_brief02.flv&title=Brief+Overview+of+REDCap+%285+min%29&text=This+quick+5-minute+video+gives+a+quick+run-down+of+what+REDCap+is+and+what+it+can+do.&referer=REDCAP_PUBLIC)\n",
    "* [An Introduction to SDTM](resources/IS04.pdf)\n",
    "* [Overview of SDTM define.xml (first 5 pages)](resources/PharmaSUG-2014-AD02.pdf)\n",
    "* For reference (you do not need to read the entire document, but you will need to refer to them to complete your work):\n",
    "    * [SDTM](resources/SDTM_v1.8.pdf)\n",
    "    * [SDTM Implementation Guide](resources/SDTMIG_v3.3_FINAL.pdf)\n"
   ]
  },
  {
   "cell_type": "markdown",
   "metadata": {},
   "source": [
    "## Labs\n",
    "* [Lab 1 - Reading the SDTM](labs/lab-01-01.ipynb)\n",
    "* [Lab 2 - Reading an export from REDCap](labs/lab-01-02.ipynb)\n",
    "* [Lab 3 - Refresher on two-way contingency table analysis](labs/lab-01-03.ipynb)\n"
   ]
  },
  {
   "cell_type": "markdown",
   "metadata": {},
   "source": [
    "## Practices\n",
    "  * [Practice 1 - Working with trial structure in the SDTM](practices/practice-01-01.ipynb) ([answers](practices/practice-answers-01-01.ipynb))\n",
    "  * [Practice 2 - Analyzing data from REDCap](practices/practice-01-02.ipynb) ([answers](practices/practice-answers-01-02.ipynb))"
   ]
  },
  {
   "cell_type": "markdown",
   "metadata": {},
   "source": [
    "## Exercises\n",
    "* [Exercise 1 - Analysis of adverse events](exercises/exercise-01-01.ipynb)\n",
    "* [Exercise 2 - Survey analysis](exercises/exercise-01-02.ipynb)"
   ]
  },
  {
   "cell_type": "markdown",
   "metadata": {},
   "source": [
    "## Quiz\n",
    "* See the canvas course module 1 for the quizzes for this week.  You must do each exercise prior to completing its quiz."
   ]
  },
  {
   "cell_type": "markdown",
   "metadata": {},
   "source": [
    "## Submitting your work\n",
    "\n",
    "#### Steps:\n",
    "1. Open Terminal in JupyterHub\n",
    "2. Change into the course folder\n",
    "3. Stage (Git Add) all work from the module \n",
    "    * `git add modules/module1`\n",
    "    * `git add output`\n",
    "4. Create your work snapshot (Git Commit)\n",
    "    * `git commit -m \"Module 1 submission\"`\n",
    "5. Upload the snapshot to the server (Git Push) \n",
    "    * `git push`\n"
   ]
  }
 ],
 "metadata": {
  "kernelspec": {
   "display_name": "Python 3",
   "language": "python",
   "name": "python3"
  },
  "language_info": {
   "codemirror_mode": {
    "name": "ipython",
    "version": 3
   },
   "file_extension": ".py",
   "mimetype": "text/x-python",
   "name": "python",
   "nbconvert_exporter": "python",
   "pygments_lexer": "ipython3",
   "version": "3.7.3"
  }
 },
 "nbformat": 4,
 "nbformat_minor": 2
}
