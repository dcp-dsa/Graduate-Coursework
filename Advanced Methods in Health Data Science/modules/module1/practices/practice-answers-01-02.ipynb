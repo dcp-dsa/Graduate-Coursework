{
 "cells": [
  {
   "cell_type": "markdown",
   "metadata": {},
   "source": [
    "# Module 1 Practice 2 Answers - Analyzing data from REDCap\n",
    "In this practice exercise, you will read data from a REDCap survey and perform some analysis.  This will require you to also understand the data dictionary for the REDCap data.  The purpose of this exercise is to reinforce the use of the data dictionary along with the data to create reusable code for analysis of REDCap data, and to minimize manual work.  A good workflow for analysis can be run again and again as new results come into the system without requiring any manual intervention, producing the results you are interested in.\n",
    "\n",
    "The data dictionary is in csv form and can be downloaded and opened in a spreadsheet for easier viewing.  We will use the same data as was used in Lab 02.\n",
    "  * [REDCap_Sample_DataDictionary.csv](../resources/REDCap/REDCap_Sample_DataDictionary.csv)"
   ]
  },
  {
   "cell_type": "code",
   "execution_count": null,
   "metadata": {},
   "outputs": [],
   "source": [
    "import pandas as pd\n",
    "import numpy as np\n",
    "data = pd.read_csv('../resources/REDCap/REDCap_Sample_DATA.csv')\n",
    "data_dict = pd.read_csv('../resources/REDCap/REDCap_Sample_DataDictionary.csv')\n",
    "display(data.head())"
   ]
  },
  {
   "cell_type": "markdown",
   "metadata": {},
   "source": [
    "## Perform a chi squared test of independence between years of experience and medical calculator use\n",
    "\n",
    "We would like to know if there is a potential relationship between experience level of physicians and use of medical calculators (`pre_calculator_use`).\n"
   ]
  },
  {
   "cell_type": "markdown",
   "metadata": {},
   "source": [
    "### Create categorical data for years of experience\n",
    "Using information from the data dictionary, create a new column in the data set that categorizes years of experience (`pre_yrs_experience`) into the following buckets:\n",
    "\n",
    "  * 0: 1-6 years of experience (residents/early career)\n",
    "  * 1: 7-20 years of experience (mid career)\n",
    "  * 2: > 20 years of experience (highly experienced)\n",
    "  \n",
    "The current years of experience measurement is already categorical, so you will need to translate those categories to these new categories.  "
   ]
  },
  {
   "cell_type": "markdown",
   "metadata": {},
   "source": [
    "We use a function from Lab 2 to make the dataframe column a `pd.Categorical`. Using `pd.Categorical` types will make the cross tab show more meaningful text descriptions instead of the numeric coded values for the data."
   ]
  },
  {
   "cell_type": "code",
   "execution_count": null,
   "metadata": {},
   "outputs": [],
   "source": [
    "def create_3_levels(row):\n",
    "    if row['pre_yrs_experience'] <= 6:\n",
    "        return 0\n",
    "    elif row['pre_yrs_experience'] <= 8:\n",
    "        return 1\n",
    "    else:\n",
    "        return 2\n",
    "\n",
    "def choice_to_dict(data_dict, variable_name):\n",
    "    field_type = data_dict[data_dict['Variable / Field Name'] == variable_name]['Field Type']\n",
    "\n",
    "    if field_type.values[0] == 'yesno':\n",
    "        choices = '1, yes | 0, no'\n",
    "    elif field_type.values[0] == 'truefalse':\n",
    "        choices = '1, true | 0, false'\n",
    "    else:\n",
    "        choices = data_dict[data_dict['Variable / Field Name'] == variable_name]['Choices, Calculations, OR Slider Labels'].values[0]\n",
    "    mapping = {}\n",
    "    for choice in choices.split('|'):\n",
    "        value_pair = choice.strip().split(',')\n",
    "        mapping[int(value_pair[0])] = value_pair[1].strip()\n",
    "    return mapping\n",
    "            \n",
    "def categorize(df, col_name, mapping=None):\n",
    "    if mapping:\n",
    "        df[col_name] = pd.Categorical(df[col_name].map(mapping))\n",
    "    else:\n",
    "        df[col_name] = pd.Categorical(df[col_name])\n",
    "        \n",
    "data['exp_3_levels'] = data.apply(create_3_levels, axis=1)\n",
    "\n",
    "categorize(data, 'exp_3_levels', {0:'1-6', 1:'7-20',2:'>20'})\n",
    "categorize(data, 'pre_calculator_use', choice_to_dict(data_dict, 'pre_calculator_use'))"
   ]
  },
  {
   "cell_type": "markdown",
   "metadata": {},
   "source": [
    "### Display a cross tab of the new 3 levels of experience column to calculator use\n",
    "The cross tab will provide a visual aid to go along with our statistical test.  In the cross tab, show counts or percents (or both if you're feeling adventurous) for each combination of variables.  To ease the interpretation, display the cross tab headers using text from the metadata rather than the raw numeric values. Refer to the [Pandas crosstab documentation](https://pandas.pydata.org/pandas-docs/stable/reference/api/pandas.crosstab.html) if necessary."
   ]
  },
  {
   "cell_type": "code",
   "execution_count": null,
   "metadata": {},
   "outputs": [],
   "source": [
    "def crosstab_with_pct(row, col):\n",
    "    cnt = pd.crosstab(row, col, margins=True, margins_name='Total')\n",
    "    pct = pd.crosstab(row, col, margins=True, margins_name='Total', normalize='index').round(3)*100\n",
    "    joint = cnt.join(pct, lsuffix='_cnt', rsuffix='_pct')\n",
    "    return joint\n",
    "\n",
    "display(crosstab_with_pct(data['exp_3_levels'], data['pre_calculator_use']))"
   ]
  },
  {
   "cell_type": "markdown",
   "metadata": {},
   "source": [
    "### Perform the statistical test\n",
    "Perform the chi-squared test for homogeneity and interpret the result.  Use $\\alpha = 0.05$ for the significance level.  You could use scipy's [implementation](https://docs.scipy.org/doc/scipy/reference/generated/scipy.stats.chi2_contingency.html) for the chi-squared test. Refer to [Lab 3](../labs/lab-01-03.ipynb) if necessary."
   ]
  },
  {
   "cell_type": "code",
   "execution_count": null,
   "metadata": {},
   "outputs": [],
   "source": [
    "from scipy import stats\n",
    "\n",
    "groupsizes = data.groupby(['exp_3_levels', 'pre_calculator_use']).size()\n",
    "ctsum = groupsizes.unstack('exp_3_levels')\n",
    "(chi_sq, p_value, degrees_freedom, expected) = list(stats.chi2_contingency(ctsum.fillna(0)))\n",
    "\n",
    "print('chi square statistic', chi_sq)\n",
    "print('p-value', p_value)\n",
    "print('\\nexpected frequencies:')\n",
    "print(expected)\n",
    "print('\\nactual frequencies:')\n",
    "print(ctsum)\n"
   ]
  },
  {
   "cell_type": "markdown",
   "metadata": {},
   "source": [
    "### Interpretation\n",
    "Given the p-value, is the null hypothesis rejected that the two variables are independent?"
   ]
  },
  {
   "cell_type": "markdown",
   "metadata": {},
   "source": [
    "Yes, the p-value is below 0.05, so we reject the null.  There is support in the data that years of experience and use of medical calculators are associated."
   ]
  }
 ],
 "metadata": {
  "kernelspec": {
   "display_name": "Python 3",
   "language": "python",
   "name": "python3"
  },
  "language_info": {
   "codemirror_mode": {
    "name": "ipython",
    "version": 3
   },
   "file_extension": ".py",
   "mimetype": "text/x-python",
   "name": "python",
   "nbconvert_exporter": "python",
   "pygments_lexer": "ipython3",
   "version": "3.7.3"
  }
 },
 "nbformat": 4,
 "nbformat_minor": 2
}
