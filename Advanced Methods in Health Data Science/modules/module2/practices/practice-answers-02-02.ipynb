{
 "cells": [
  {
   "cell_type": "markdown",
   "metadata": {},
   "source": [
    "# Module 2 Practice 2 Answers - One-Way Repeated Measures ANOVA\n",
    "\n",
    "In this practice exercise, you will perform a one-way Repeated Measures ANOVA on a dataset in long form.\n",
    "\n",
    "The data is documented [here](../resources/theoph.txt).\n",
    "\n",
    "Refer to the [documentation](https://pingouin-stats.org/generated/pingouin.rm_anova.html) for the pingouin rm_anova method for using data in a long format."
   ]
  },
  {
   "cell_type": "code",
   "execution_count": null,
   "metadata": {
    "scrolled": true
   },
   "outputs": [],
   "source": [
    "import pandas as pd\n",
    "import numpy as np\n",
    "import matplotlib.pyplot as plt\n",
    "import sys\n",
    "!{sys.executable} -m pip install pingouin\n",
    "import pingouin as pg\n",
    "\n",
    "pd.set_option('display.max_rows', None)"
   ]
  },
  {
   "cell_type": "code",
   "execution_count": null,
   "metadata": {},
   "outputs": [],
   "source": [
    "data = pd.read_csv('../resources/theoph.csv')\n",
    "\n",
    "data.head(10)"
   ]
  },
  {
   "cell_type": "markdown",
   "metadata": {},
   "source": [
    "## State the Null and Alternative Hpotheses\n",
    "The Null Hypothesis is that the means for theophylline clearance within subjects treated by theophylline given in conjunction with placebo, Pepcid, and Tagamet are equal.\n",
    "\n",
    "The Alterntive Hypothesis is that at least one of the means differs."
   ]
  },
  {
   "cell_type": "markdown",
   "metadata": {},
   "source": [
    "## Check for missing data\n"
   ]
  },
  {
   "cell_type": "code",
   "execution_count": null,
   "metadata": {},
   "outputs": [],
   "source": [
    "data[data.isna().any(axis=1)]"
   ]
  },
  {
   "cell_type": "markdown",
   "metadata": {},
   "source": [
    "## Check the distribution of data"
   ]
  },
  {
   "cell_type": "code",
   "execution_count": null,
   "metadata": {
    "scrolled": true
   },
   "outputs": [],
   "source": [
    "data['clearance'].hist()"
   ]
  },
  {
   "cell_type": "markdown",
   "metadata": {},
   "source": [
    "## Apply a transformation to normalize the data\n",
    "Some appropriate transformations for right tailed distributions are:\n",
    "1. log base 2 or log base 10 (cannot be used where data contains the value zero)\n",
    "1. root transformation - square root, cube root, or higher order roots\n",
    "1. inverse transformation"
   ]
  },
  {
   "cell_type": "code",
   "execution_count": null,
   "metadata": {
    "scrolled": true
   },
   "outputs": [],
   "source": [
    "## Show some possible transformations and their effect on the distribution.  Ultimately we go with the fourth root.\n",
    "\n",
    "data['clearance_trans'] = np.log10(data['clearance'])\n",
    "data['clearance_trans'].hist()\n",
    "plt.title('log base 10 transformation')\n",
    "plt.show()\n",
    "\n",
    "data['clearance_trans'] = 1/data['clearance']\n",
    "data['clearance_trans'].hist()\n",
    "plt.title('inverse transformation')\n",
    "plt.show()\n",
    "\n",
    "data['clearance_trans'] = np.sqrt(data['clearance'])\n",
    "data['clearance_trans'].hist()\n",
    "plt.title('square root transformation')\n",
    "plt.show()\n",
    "\n",
    "data['clearance_trans'] = data['clearance'].apply(lambda x: x**(1/4))\n",
    "data['clearance_trans'].hist()\n",
    "plt.title('fourth root transformation')\n",
    "plt.show()\n",
    "\n"
   ]
  },
  {
   "cell_type": "markdown",
   "metadata": {},
   "source": [
    "## Test the sphericity\n",
    "Use the significance level of $\\alpha$ = 0.05.\n",
    "Check the [documentation](https://pingouin-stats.org/generated/pingouin.sphericity.html) for the correct invocation of the method for data in long format.  The transformed clearance data should be used as the dependent variable."
   ]
  },
  {
   "cell_type": "code",
   "execution_count": null,
   "metadata": {},
   "outputs": [],
   "source": [
    "pg.sphericity(data, dv='clearance_trans', subject='subject', within='agent', alpha=0.05)"
   ]
  },
  {
   "cell_type": "markdown",
   "metadata": {},
   "source": [
    "## Does the data pass the sphericity test?  Do you expect a correction to be applied when running the Repeated Measures ANOVA?"
   ]
  },
  {
   "cell_type": "markdown",
   "metadata": {},
   "source": [
    "The data do pass the sphericity test, so we should not expect a correction to be applied when running ANOVARM."
   ]
  },
  {
   "cell_type": "markdown",
   "metadata": {},
   "source": [
    "## Perform a One-Way ANOVARM\n",
    "Use the significance level of $\\alpha$ = 0.05.\n",
    "\n",
    "Check the [documentation](https://pingouin-stats.org/generated/pingouin.rm_anova.html) for the correct invocation of the method for data in long format. It should be very similar to the parameters used to test sphericity."
   ]
  },
  {
   "cell_type": "code",
   "execution_count": null,
   "metadata": {},
   "outputs": [],
   "source": [
    "pg.rm_anova(data=data, dv='clearance_trans', subject='subject', within='agent')"
   ]
  },
  {
   "cell_type": "markdown",
   "metadata": {},
   "source": [
    "## Interpret the results\n",
    "Do we reject the Null Hypothesis?"
   ]
  },
  {
   "cell_type": "markdown",
   "metadata": {},
   "source": [
    "The p value of 0.00001 is signifcant at $\\alpha$ = 0.05.  Therefore, we reject the Null that the means for theophylline clearance within subjects treated by theophylline given in conjunction with placebo, Pepcid, and Tagamet are equal, and support that at least one of the means differs."
   ]
  },
  {
   "cell_type": "markdown",
   "metadata": {},
   "source": [
    "## Display an appropriate chart to highlight where there might be differences"
   ]
  },
  {
   "cell_type": "code",
   "execution_count": null,
   "metadata": {
    "scrolled": false
   },
   "outputs": [],
   "source": [
    "data.boxplot(column='clearance', by='agent')"
   ]
  },
  {
   "cell_type": "markdown",
   "metadata": {},
   "source": [
    "A box plot is appropriate for this type of ANOVARM.  Unlike in the lab, where we were looking at changes over time, here we are looking at changes within subjects based on three different treatments.  The box plot shows us the means, the spread, and the min and max outliers.  \n",
    "\n",
    "Also, note that the original, non-transformed clearance values should be plotted, and not the transformed values.  The transformed values would be difficult to interpret with regards to the clearance of Theophylline."
   ]
  }
 ],
 "metadata": {
  "kernelspec": {
   "display_name": "Python 3",
   "language": "python",
   "name": "python3"
  },
  "language_info": {
   "codemirror_mode": {
    "name": "ipython",
    "version": 3
   },
   "file_extension": ".py",
   "mimetype": "text/x-python",
   "name": "python",
   "nbconvert_exporter": "python",
   "pygments_lexer": "ipython3",
   "version": "3.7.3"
  }
 },
 "nbformat": 4,
 "nbformat_minor": 2
}
