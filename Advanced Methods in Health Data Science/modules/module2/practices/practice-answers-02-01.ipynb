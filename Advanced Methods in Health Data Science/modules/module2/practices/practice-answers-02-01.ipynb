{
 "cells": [
  {
   "cell_type": "markdown",
   "metadata": {},
   "source": [
    "# Module 2 Practice 1 Answers - Performing a Survival Analysis\n",
    "In this practice exercise, you will perform the steps of a survival analysis on a new dataset.\n",
    "\n",
    "The dataset we will be using is another leukemia survival.  In this data, the groups are denoted by a test result.  There is no censored data in this dataset, all patients died from acute myelogenous leukaemia and were recorded during the study.  There is an independent variable `wbc` - white blood cell count.\n",
    "\n",
    "Documentation is [here](../resources/leukaemia-wbc.html)"
   ]
  },
  {
   "cell_type": "code",
   "execution_count": null,
   "metadata": {},
   "outputs": [],
   "source": [
    "import pandas as pd\n",
    "import numpy as np\n",
    "import matplotlib.pyplot as plt\n",
    "import sys\n",
    "!{sys.executable} -m pip install lifelines\n",
    "from lifelines import KaplanMeierFitter\n",
    "from lifelines.statistics import logrank_test\n",
    "from lifelines import CoxPHFitter"
   ]
  },
  {
   "cell_type": "code",
   "execution_count": null,
   "metadata": {},
   "outputs": [],
   "source": [
    "data = pd.read_csv('../resources/leukaemia-wbc.csv', index_col=0)\n",
    "\n",
    "display(data)"
   ]
  },
  {
   "cell_type": "markdown",
   "metadata": {},
   "source": [
    "## Create a column to represent the event\n",
    "This will be a constant value since every patient died, but is needed for the `lifelines` methods."
   ]
  },
  {
   "cell_type": "code",
   "execution_count": null,
   "metadata": {},
   "outputs": [],
   "source": [
    "data['death'] = 1"
   ]
  },
  {
   "cell_type": "markdown",
   "metadata": {},
   "source": [
    "## Create a numeric category for the two groups\n",
    "Create a numeric column that can be used in regression to represent the two groups in the data"
   ]
  },
  {
   "cell_type": "code",
   "execution_count": null,
   "metadata": {},
   "outputs": [],
   "source": [
    "# create a binary numeric variable for the two groups\n",
    "# 0 = absent\n",
    "# 1 = present\n",
    "data['group'] = data['ag'].apply(lambda x: 1 if x == 'present' else 0)\n"
   ]
  },
  {
   "cell_type": "markdown",
   "metadata": {},
   "source": [
    "## Calculate the event tables for each group"
   ]
  },
  {
   "cell_type": "code",
   "execution_count": null,
   "metadata": {},
   "outputs": [],
   "source": [
    "# First we will break the data into two views for convenience\n",
    "data_present = data[data['ag'] == 'present']\n",
    "data_absent = data[data['ag'] == 'absent']\n",
    "\n",
    "# create two Kaplan-Meier fitters\n",
    "kmf_present = KaplanMeierFitter()\n",
    "kmf_absent = KaplanMeierFitter()\n",
    "\n",
    "kmf_present.fit(durations = data_present['time'], event_observed = data_present['death'], label='present')\n",
    "kmf_absent.fit(durations = data_absent['time'], event_observed = data_absent['death'], label='absent')\n",
    "\n",
    "event_table_present = kmf_present.event_table\n",
    "event_table_absent = kmf_absent.event_table"
   ]
  },
  {
   "cell_type": "markdown",
   "metadata": {},
   "source": [
    "## Add the cumulative survival probability to each event table and print them"
   ]
  },
  {
   "cell_type": "code",
   "execution_count": null,
   "metadata": {
    "scrolled": true
   },
   "outputs": [],
   "source": [
    "event_table_present['cumulative_S'] = kmf_present.survival_function_\n",
    "event_table_absent['cumulative_S'] = kmf_absent.survival_function_\n",
    "\n",
    "display(event_table_present)\n",
    "display(event_table_absent)"
   ]
  },
  {
   "cell_type": "markdown",
   "metadata": {},
   "source": [
    "## Plot the Kaplan-Meier curve for each group"
   ]
  },
  {
   "cell_type": "code",
   "execution_count": null,
   "metadata": {},
   "outputs": [],
   "source": [
    "kmf_present.plot()\n",
    "kmf_absent.plot()\n",
    "\n",
    "_ = plt.xlabel('Weeks')\n",
    "_ = plt.ylabel('Probability of Survival')"
   ]
  },
  {
   "cell_type": "markdown",
   "metadata": {},
   "source": [
    "## Test the hypothesis that the survival distribution is different for the two groups"
   ]
  },
  {
   "cell_type": "code",
   "execution_count": null,
   "metadata": {},
   "outputs": [],
   "source": [
    "results = logrank_test(data_present['time'], data_absent['time'], event_observed_A=data_present['death'], event_observed_B=data_absent['death'])\n",
    "\n",
    "results.print_summary()\n",
    "print(results.p_value)"
   ]
  },
  {
   "cell_type": "markdown",
   "metadata": {},
   "source": [
    "## Interpret the results using appropriate language"
   ]
  },
  {
   "cell_type": "markdown",
   "metadata": {},
   "source": [
    "The data support the hypothesis that the survival distribution is different for the two groups."
   ]
  },
  {
   "cell_type": "markdown",
   "metadata": {},
   "source": [
    "## Find the hazard ratio between the two groups"
   ]
  },
  {
   "cell_type": "code",
   "execution_count": null,
   "metadata": {
    "scrolled": false
   },
   "outputs": [],
   "source": [
    "cph = CoxPHFitter()\n",
    "cph.fit(data[['time', 'death', 'group']], duration_col='time', event_col='death')\n",
    "\n",
    "cph.print_summary()"
   ]
  },
  {
   "cell_type": "markdown",
   "metadata": {},
   "source": [
    "## Interpret the hazard ratio in written form"
   ]
  },
  {
   "cell_type": "markdown",
   "metadata": {},
   "source": [
    "Being in the group with a test result of absent (group = 0) increases the hazard of death by 0.31 times as compared to subjects with a test result of present (group = 1)."
   ]
  }
 ],
 "metadata": {
  "kernelspec": {
   "display_name": "Python 3",
   "language": "python",
   "name": "python3"
  },
  "language_info": {
   "codemirror_mode": {
    "name": "ipython",
    "version": 3
   },
   "file_extension": ".py",
   "mimetype": "text/x-python",
   "name": "python",
   "nbconvert_exporter": "python",
   "pygments_lexer": "ipython3",
   "version": "3.7.3"
  }
 },
 "nbformat": 4,
 "nbformat_minor": 2
}
