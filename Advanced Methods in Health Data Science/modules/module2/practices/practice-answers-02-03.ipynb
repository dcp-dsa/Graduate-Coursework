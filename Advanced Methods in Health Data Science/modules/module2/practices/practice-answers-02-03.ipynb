{
 "cells": [
  {
   "cell_type": "markdown",
   "metadata": {},
   "source": [
    "# Module 2 Practice 3 Answers - Perform a Generalized Estimating Equations analysis\n",
    "\n",
    "In this lab we will practice running a GEE.  In this case, the dependent variable is nominal, and contains counts.  Recall from the lab that count data fall under the Poisson distribution, so we will use that, and we will assume an Exchangeable covariance structure.\n",
    "\n",
    "Documentation for the data is [here](../resources/epil.html).\n",
    "\n",
    "We will model the variable `y`, which are the counts of seizures occurring during each two week period.  We will use the following as the independent variables:\n",
    "\n",
    "1. age\n",
    "1. trt\n",
    "1. base\n",
    "\n",
    "The variable `subject` identifies the groups."
   ]
  },
  {
   "cell_type": "code",
   "execution_count": null,
   "metadata": {},
   "outputs": [],
   "source": [
    "import numpy as np\n",
    "import pandas as pd\n",
    "import matplotlib.pyplot as plt\n",
    "import sys\n",
    "!{sys.executable} -m pip install --upgrade \"statsmodels>=0.11\"\n",
    "\n",
    "from statsmodels.genmod.generalized_estimating_equations import GEE\n",
    "from statsmodels.genmod.cov_struct import Exchangeable,Independence,Autoregressive\n",
    "from statsmodels.genmod.families import Poisson"
   ]
  },
  {
   "cell_type": "code",
   "execution_count": null,
   "metadata": {
    "scrolled": true
   },
   "outputs": [],
   "source": [
    "data = pd.read_csv('../resources/epil.csv', index_col=0)\n",
    "display(data.head())"
   ]
  },
  {
   "cell_type": "markdown",
   "metadata": {},
   "source": [
    "## Data visualization\n",
    "Create a scatter plot of the response variable `y` on the y axis, `period` on the x, and color by the variable `trt`"
   ]
  },
  {
   "cell_type": "code",
   "execution_count": null,
   "metadata": {
    "scrolled": true
   },
   "outputs": [],
   "source": [
    "data['trt'] = pd.Categorical(data['trt']) # creating a categorical from the strings gives us an easy way to refernce the values by text or by number\n",
    "\n",
    "plt.scatter(data['period'], data['y'], c=data['trt'].cat.codes, alpha=0.25, cmap='Spectral')"
   ]
  },
  {
   "cell_type": "markdown",
   "metadata": {},
   "source": [
    "Create a scatter plot of `y` versus `base`."
   ]
  },
  {
   "cell_type": "code",
   "execution_count": null,
   "metadata": {},
   "outputs": [],
   "source": [
    "plt.scatter(data['base'], data['y'], alpha=0.75)"
   ]
  },
  {
   "cell_type": "markdown",
   "metadata": {},
   "source": [
    "## Perform a GEE model\n",
    "See the introductory text for this practice exercise to help you decide which parameters you need.\n",
    "Print the results summary, and the QIC for the model.\n"
   ]
  },
  {
   "cell_type": "code",
   "execution_count": null,
   "metadata": {
    "scrolled": true
   },
   "outputs": [],
   "source": [
    "model = GEE.from_formula('y ~ age + trt + base', 'subject', data, cov_struct= Exchangeable(), family=Poisson())\n",
    "result = model.fit()\n",
    "print(result.summary())\n",
    "print(result.qic(result.scale))"
   ]
  },
  {
   "cell_type": "markdown",
   "metadata": {},
   "source": [
    "## Perform a GEE using a different correlation structure\n",
    "Run the GEE model again using an Independence correlation structure. Print the results summary, and the QIC for the model.\n"
   ]
  },
  {
   "cell_type": "code",
   "execution_count": null,
   "metadata": {},
   "outputs": [],
   "source": [
    "model = GEE.from_formula('y ~ age + trt + base', 'subject', data, cov_struct=Independence(), family=Poisson())\n",
    "result = model.fit()\n",
    "print(result.summary())\n",
    "print(result.qic(result.scale))"
   ]
  },
  {
   "cell_type": "markdown",
   "metadata": {},
   "source": [
    "## Interpretation\n",
    "Interpret the results.  \n",
    "\n",
    "Which model is better (Exchangeable or Independence)?\n",
    "\n",
    "In the better model, which features are significate at $\\alpha$ = 0.05?\n",
    "\n",
    "Of the significant features, are their effects positive or negative?\n",
    "\n",
    "Describe the effects in natural language."
   ]
  },
  {
   "cell_type": "markdown",
   "metadata": {},
   "source": [
    "The models are effectively equal. \n",
    "\n",
    "The significant features are:\n",
    "  * age\n",
    "  * base\n",
    "  \n",
    "The effects for age and base are both positive.  For each unit increase in age and base, there is an increase in the predicted count of siezures.\n",
    "\n",
    "Subjects with a higher number of seizures at the baseline are more likely to have increased seizure counts.  As subjects age, they are also more likely to have increased seizure counts.\n"
   ]
  }
 ],
 "metadata": {
  "kernelspec": {
   "display_name": "Python 3",
   "language": "python",
   "name": "python3"
  },
  "language_info": {
   "codemirror_mode": {
    "name": "ipython",
    "version": 3
   },
   "file_extension": ".py",
   "mimetype": "text/x-python",
   "name": "python",
   "nbconvert_exporter": "python",
   "pygments_lexer": "ipython3",
   "version": "3.7.3"
  }
 },
 "nbformat": 4,
 "nbformat_minor": 2
}
