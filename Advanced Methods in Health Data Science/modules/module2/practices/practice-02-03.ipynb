{
 "cells": [
  {
   "cell_type": "markdown",
   "metadata": {},
   "source": [
    "# Module 2 Practice 3 - Perform a Generalized Estimating Equations analysis\n",
    "\n",
    "In this lab we will practice running a GEE.  In this case, the dependent variable is nominal, and contains counts.  Recall from the lab that count data fall under the Poisson distribution, so we will use that, and we will assume an Exchangeable covariance structure.\n",
    "\n",
    "Documentation for the data is [here](../resources/epil.html).\n",
    "\n",
    "We will model the variable `y`, which are the counts of seizures occurring during each two week period.  We will use the following as the independent variables:\n",
    "\n",
    "1. age\n",
    "1. trt\n",
    "1. base\n",
    "\n",
    "The variable `subject` identifies the groups."
   ]
  },
  {
   "cell_type": "code",
   "execution_count": 1,
   "metadata": {},
   "outputs": [
    {
     "name": "stdout",
     "output_type": "stream",
     "text": [
      "Requirement already up-to-date: statsmodels>=0.11 in /opt/conda/lib/python3.7/site-packages (0.13.1)\n",
      "Requirement already satisfied, skipping upgrade: numpy>=1.17 in /opt/conda/lib/python3.7/site-packages (from statsmodels>=0.11) (1.17.3)\n",
      "Requirement already satisfied, skipping upgrade: pandas>=0.25 in /opt/conda/lib/python3.7/site-packages (from statsmodels>=0.11) (0.25.2)\n",
      "Requirement already satisfied, skipping upgrade: scipy>=1.3 in /opt/conda/lib/python3.7/site-packages (from statsmodels>=0.11) (1.7.3)\n",
      "Requirement already satisfied, skipping upgrade: patsy>=0.5.2 in /opt/conda/lib/python3.7/site-packages (from statsmodels>=0.11) (0.5.2)\n",
      "Requirement already satisfied, skipping upgrade: python-dateutil>=2.6.1 in /opt/conda/lib/python3.7/site-packages (from pandas>=0.25->statsmodels>=0.11) (2.8.0)\n",
      "Requirement already satisfied, skipping upgrade: pytz>=2017.2 in /opt/conda/lib/python3.7/site-packages (from pandas>=0.25->statsmodels>=0.11) (2019.2)\n",
      "Requirement already satisfied, skipping upgrade: six in /opt/conda/lib/python3.7/site-packages (from patsy>=0.5.2->statsmodels>=0.11) (1.12.0)\n"
     ]
    }
   ],
   "source": [
    "import numpy as np\n",
    "import pandas as pd\n",
    "import matplotlib.pyplot as plt\n",
    "import sys\n",
    "!{sys.executable} -m pip install --upgrade \"statsmodels>=0.11\"\n",
    "\n",
    "from statsmodels.genmod.generalized_estimating_equations import GEE\n",
    "from statsmodels.genmod.cov_struct import Exchangeable,Independence,Autoregressive\n",
    "from statsmodels.genmod.families import Poisson"
   ]
  },
  {
   "cell_type": "code",
   "execution_count": 2,
   "metadata": {
    "scrolled": true
   },
   "outputs": [
    {
     "data": {
      "text/html": [
       "<div>\n",
       "<style scoped>\n",
       "    .dataframe tbody tr th:only-of-type {\n",
       "        vertical-align: middle;\n",
       "    }\n",
       "\n",
       "    .dataframe tbody tr th {\n",
       "        vertical-align: top;\n",
       "    }\n",
       "\n",
       "    .dataframe thead th {\n",
       "        text-align: right;\n",
       "    }\n",
       "</style>\n",
       "<table border=\"1\" class=\"dataframe\">\n",
       "  <thead>\n",
       "    <tr style=\"text-align: right;\">\n",
       "      <th></th>\n",
       "      <th>y</th>\n",
       "      <th>trt</th>\n",
       "      <th>base</th>\n",
       "      <th>age</th>\n",
       "      <th>V4</th>\n",
       "      <th>subject</th>\n",
       "      <th>period</th>\n",
       "      <th>lbase</th>\n",
       "      <th>lage</th>\n",
       "    </tr>\n",
       "  </thead>\n",
       "  <tbody>\n",
       "    <tr>\n",
       "      <th>1</th>\n",
       "      <td>5</td>\n",
       "      <td>placebo</td>\n",
       "      <td>11</td>\n",
       "      <td>31</td>\n",
       "      <td>0</td>\n",
       "      <td>1</td>\n",
       "      <td>1</td>\n",
       "      <td>-0.756354</td>\n",
       "      <td>0.114204</td>\n",
       "    </tr>\n",
       "    <tr>\n",
       "      <th>2</th>\n",
       "      <td>3</td>\n",
       "      <td>placebo</td>\n",
       "      <td>11</td>\n",
       "      <td>31</td>\n",
       "      <td>0</td>\n",
       "      <td>1</td>\n",
       "      <td>2</td>\n",
       "      <td>-0.756354</td>\n",
       "      <td>0.114204</td>\n",
       "    </tr>\n",
       "    <tr>\n",
       "      <th>3</th>\n",
       "      <td>3</td>\n",
       "      <td>placebo</td>\n",
       "      <td>11</td>\n",
       "      <td>31</td>\n",
       "      <td>0</td>\n",
       "      <td>1</td>\n",
       "      <td>3</td>\n",
       "      <td>-0.756354</td>\n",
       "      <td>0.114204</td>\n",
       "    </tr>\n",
       "    <tr>\n",
       "      <th>4</th>\n",
       "      <td>3</td>\n",
       "      <td>placebo</td>\n",
       "      <td>11</td>\n",
       "      <td>31</td>\n",
       "      <td>1</td>\n",
       "      <td>1</td>\n",
       "      <td>4</td>\n",
       "      <td>-0.756354</td>\n",
       "      <td>0.114204</td>\n",
       "    </tr>\n",
       "    <tr>\n",
       "      <th>5</th>\n",
       "      <td>3</td>\n",
       "      <td>placebo</td>\n",
       "      <td>11</td>\n",
       "      <td>30</td>\n",
       "      <td>0</td>\n",
       "      <td>2</td>\n",
       "      <td>1</td>\n",
       "      <td>-0.756354</td>\n",
       "      <td>0.081414</td>\n",
       "    </tr>\n",
       "  </tbody>\n",
       "</table>\n",
       "</div>"
      ],
      "text/plain": [
       "   y      trt  base  age  V4  subject  period     lbase      lage\n",
       "1  5  placebo    11   31   0        1       1 -0.756354  0.114204\n",
       "2  3  placebo    11   31   0        1       2 -0.756354  0.114204\n",
       "3  3  placebo    11   31   0        1       3 -0.756354  0.114204\n",
       "4  3  placebo    11   31   1        1       4 -0.756354  0.114204\n",
       "5  3  placebo    11   30   0        2       1 -0.756354  0.081414"
      ]
     },
     "metadata": {},
     "output_type": "display_data"
    }
   ],
   "source": [
    "data = pd.read_csv('../resources/epil.csv', index_col=0)\n",
    "display(data.head())"
   ]
  },
  {
   "cell_type": "markdown",
   "metadata": {},
   "source": [
    "## Data visualization\n",
    "Create a scatter plot of the response variable `y` on the y axis, `period` on the x, and color by the variable `trt`"
   ]
  },
  {
   "cell_type": "code",
   "execution_count": 3,
   "metadata": {
    "scrolled": true
   },
   "outputs": [
    {
     "data": {
      "text/plain": [
       "<matplotlib.collections.PathCollection at 0x7fe14be837f0>"
      ]
     },
     "execution_count": 3,
     "metadata": {},
     "output_type": "execute_result"
    },
    {
     "data": {
      "image/png": "[encoded data removed]",
      "text/plain": [
       "<Figure size 432x288 with 1 Axes>"
      ]
     },
     "metadata": {
      "needs_background": "light"
     },
     "output_type": "display_data"
    }
   ],
   "source": [
    "# your code here\n",
    "\n",
    "data['trt'] = pd.Categorical(data['trt']) # creating a categorical from the strings gives us an easy way to refernce the values by text or by number\n",
    "\n",
    "plt.scatter(data['period'], data['y'], c=data['trt'].cat.codes, alpha=0.25, cmap='Spectral')"
   ]
  },
  {
   "cell_type": "markdown",
   "metadata": {},
   "source": [
    "Create a scatter plot of `y` versus `base`."
   ]
  },
  {
   "cell_type": "code",
   "execution_count": 4,
   "metadata": {},
   "outputs": [
    {
     "data": {
      "text/plain": [
       "<matplotlib.collections.PathCollection at 0x7fe141621390>"
      ]
     },
     "execution_count": 4,
     "metadata": {},
     "output_type": "execute_result"
    },
    {
     "data": {
      "image/png": "[encoded data removed]",
      "text/plain": [
       "<Figure size 432x288 with 1 Axes>"
      ]
     },
     "metadata": {
      "needs_background": "light"
     },
     "output_type": "display_data"
    }
   ],
   "source": [
    "# your code here\n",
    "\n",
    "plt.scatter(data['base'], data['y'], alpha=0.75)"
   ]
  },
  {
   "cell_type": "markdown",
   "metadata": {},
   "source": [
    "## Perform a GEE model\n",
    "See the introductory text for this practice exercise to help you decide which parameters you need.\n",
    "Print the results summary, and the QIC for the model.\n"
   ]
  },
  {
   "cell_type": "code",
   "execution_count": 5,
   "metadata": {
    "scrolled": true
   },
   "outputs": [
    {
     "name": "stdout",
     "output_type": "stream",
     "text": [
      "                               GEE Regression Results                              \n",
      "===================================================================================\n",
      "Dep. Variable:                           y   No. Observations:                  236\n",
      "Model:                                 GEE   No. clusters:                       59\n",
      "Method:                        Generalized   Min. cluster size:                   4\n",
      "                      Estimating Equations   Max. cluster size:                   4\n",
      "Family:                            Poisson   Mean cluster size:                 4.0\n",
      "Dependence structure:         Exchangeable   Num. iterations:                     2\n",
      "Date:                     Tue, 25 Jan 2022   Scale:                           1.000\n",
      "Covariance type:                    robust   Time:                         14:57:56\n",
      "====================================================================================\n",
      "                       coef    std err          z      P>|z|      [0.025      0.975]\n",
      "------------------------------------------------------------------------------------\n",
      "Intercept            0.5730      0.361      1.589      0.112      -0.134       1.280\n",
      "trt[T.progabide]    -0.1519      0.171     -0.888      0.375      -0.487       0.183\n",
      "age                  0.0223      0.011      1.960      0.050    2.11e-06       0.045\n",
      "base                 0.0226      0.001     18.451      0.000       0.020       0.025\n",
      "==============================================================================\n",
      "Skew:                          3.7823   Kurtosis:                      28.6672\n",
      "Centered skew:                 2.7597   Centered kurtosis:             21.9865\n",
      "==============================================================================\n",
      "(2227.3220184124784, 964.86860758135)\n"
     ]
    }
   ],
   "source": [
    "# your code here\n",
    "\n",
    "model = GEE.from_formula('y ~ age + trt + base', 'subject', data, cov_struct= Exchangeable(), family=Poisson())\n",
    "result = model.fit()\n",
    "print(result.summary())\n",
    "print(result.qic(result.scale))"
   ]
  },
  {
   "cell_type": "markdown",
   "metadata": {},
   "source": [
    "## Perform a GEE using a different correlation structure\n",
    "Run the GEE model again using an Independence correlation structure. Print the results summary, and the QIC for the model.\n"
   ]
  },
  {
   "cell_type": "code",
   "execution_count": 6,
   "metadata": {},
   "outputs": [
    {
     "name": "stdout",
     "output_type": "stream",
     "text": [
      "                               GEE Regression Results                              \n",
      "===================================================================================\n",
      "Dep. Variable:                           y   No. Observations:                  236\n",
      "Model:                                 GEE   No. clusters:                       59\n",
      "Method:                        Generalized   Min. cluster size:                   4\n",
      "                      Estimating Equations   Max. cluster size:                   4\n",
      "Family:                            Poisson   Mean cluster size:                 4.0\n",
      "Dependence structure:         Independence   Num. iterations:                     2\n",
      "Date:                     Tue, 25 Jan 2022   Scale:                           1.000\n",
      "Covariance type:                    robust   Time:                         14:58:07\n",
      "====================================================================================\n",
      "                       coef    std err          z      P>|z|      [0.025      0.975]\n",
      "------------------------------------------------------------------------------------\n",
      "Intercept            0.5730      0.361      1.589      0.112      -0.134       1.280\n",
      "trt[T.progabide]    -0.1519      0.171     -0.888      0.375      -0.487       0.183\n",
      "age                  0.0223      0.011      1.960      0.050    2.11e-06       0.045\n",
      "base                 0.0226      0.001     18.451      0.000       0.020       0.025\n",
      "==============================================================================\n",
      "Skew:                          3.7823   Kurtosis:                      28.6672\n",
      "Centered skew:                 2.7597   Centered kurtosis:             21.9865\n",
      "==============================================================================\n",
      "(2227.322018412485, 964.86860758135)\n"
     ]
    }
   ],
   "source": [
    "# your code here\n",
    "\n",
    "model = GEE.from_formula('y ~ age + trt + base', 'subject', data, cov_struct=Independence(), family=Poisson())\n",
    "result = model.fit()\n",
    "print(result.summary())\n",
    "print(result.qic(result.scale))"
   ]
  },
  {
   "cell_type": "markdown",
   "metadata": {},
   "source": [
    "## Interpretation\n",
    "Interpret the results.  \n",
    "\n",
    "Which model is better (Exchangeable or Independence)?\n",
    "\n",
    "In the better model, which features are significate at $\\alpha$ = 0.05?\n",
    "\n",
    "Of the significant features, are their effects positive or negative?\n",
    "\n",
    "Describe the effects in natural language."
   ]
  },
  {
   "cell_type": "markdown",
   "metadata": {},
   "source": [
    "Your interpretation here\n",
    "\n",
    "The models are effectively equal. \n",
    "\n",
    "The significant features are:\n",
    "  * age\n",
    "  * base\n",
    "  \n",
    "The effects for age and base are both positive.  For each unit increase in age and base, there is an increase in the predicted count of siezures.\n",
    "\n",
    "Subjects with a higher number of seizures at the baseline are more likely to have increased seizure counts.  As subjects age, they are also more likely to have increased seizure counts.\n"
   ]
  }
 ],
 "metadata": {
  "kernelspec": {
   "display_name": "Python 3",
   "language": "python",
   "name": "python3"
  },
  "language_info": {
   "codemirror_mode": {
    "name": "ipython",
    "version": 3
   },
   "file_extension": ".py",
   "mimetype": "text/x-python",
   "name": "python",
   "nbconvert_exporter": "python",
   "pygments_lexer": "ipython3",
   "version": "3.7.3"
  }
 },
 "nbformat": 4,
 "nbformat_minor": 2
}
