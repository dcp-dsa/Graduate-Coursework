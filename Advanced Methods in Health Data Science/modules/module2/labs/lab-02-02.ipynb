{
 "cells": [
  {
   "cell_type": "markdown",
   "metadata": {},
   "source": [
    "# Module 2 Lab 2 - Repeated Measures of Continuous Values\n",
    "In this lab we will examine a method to analyze repeated meeasurements of the same metric, taken in continuous form.  This method is applicable to a longitudinal study in which a study subject has measurements taken at repeated intervals during the study, and those measurements are continuous.  For example, a study about the effect of exercise on blood pressure over time might have subjects measure blood pressure once every day 7 days for 14 weeks while participating in an exercise regimen.  We would then be interested in knowing if the exercise routine had an effect on blood pressure within each subject.\n",
    "\n",
    "Recall that there are several methods for comparing the means, such as a one or two sample comparison of means using a t-test, or ANOVA.  We could analyze our repeated measures data set using such methods by taking some summary measure of the repeated values, for example, the mean, median, slope, or even an area under the curve.  What these methods lack however is a way to use the extra information inherent in the time component.  Becuase the data within subjects violate the independence assumption of these other methods, we could not use all of the repeated measures data and would be forced to a summary metric.\n",
    "\n",
    "A Repeated Measures ANOVA provides a way to analyze such a dataset while keeping all of the information available, namely the measure and the time component.\n"
   ]
  },
  {
   "cell_type": "code",
   "execution_count": 1,
   "metadata": {},
   "outputs": [
    {
     "name": "stdout",
     "output_type": "stream",
     "text": [
      "Collecting pingouin==0.3.9\n",
      "\u001b[?25l  Downloading https://files.pythonhosted.org/packages/15/ec/bbb6c79c8bb5e4a906707b23ce266ab17666e8ef4692635db5567c923d4c/pingouin-0.3.9.tar.gz (225kB)\n",
      "\u001b[K     |████████████████████████████████| 225kB 3.6MB/s eta 0:00:01\n",
      "\u001b[?25hRequirement already satisfied: numpy>=1.15 in /opt/conda/lib/python3.7/site-packages (from pingouin==0.3.9) (1.17.3)\n",
      "Collecting scipy>=1.3 (from pingouin==0.3.9)\n",
      "\u001b[?25l  Downloading https://files.pythonhosted.org/packages/58/4f/11f34cfc57ead25752a7992b069c36f5d18421958ebd6466ecd849aeaf86/scipy-1.7.3-cp37-cp37m-manylinux_2_12_x86_64.manylinux2010_x86_64.whl (38.1MB)\n",
      "\u001b[K     |████████████████████████████████| 38.1MB 39.4MB/s eta 0:00:01     |██████████████████████▎         | 26.6MB 19.6MB/s eta 0:00:01\n",
      "\u001b[?25hRequirement already satisfied: pandas>=0.24 in /opt/conda/lib/python3.7/site-packages (from pingouin==0.3.9) (0.25.2)\n",
      "Requirement already satisfied: matplotlib>=3.0.2 in /opt/conda/lib/python3.7/site-packages (from pingouin==0.3.9) (3.1.1)\n",
      "Requirement already satisfied: seaborn>=0.9.0 in /opt/conda/lib/python3.7/site-packages (from pingouin==0.3.9) (0.9.0)\n",
      "Collecting statsmodels>=0.10.0 (from pingouin==0.3.9)\n",
      "\u001b[?25l  Downloading https://files.pythonhosted.org/packages/e7/86/8c95a2f43d8d66837f52fc0a2d9b4ea491e564789ee94d28f642d9d47ebc/statsmodels-0.13.1.tar.gz (18.1MB)\n",
      "\u001b[K     |████████████████████████████████| 18.1MB 8.4MB/s eta 0:00:01\n",
      "\u001b[?25h  Installing build dependencies ... \u001b[?25ldone\n",
      "\u001b[?25h  Getting requirements to build wheel ... \u001b[?25ldone\n",
      "\u001b[?25h    Preparing wheel metadata ... \u001b[?25ldone\n",
      "\u001b[?25hRequirement already satisfied: scikit-learn in /opt/conda/lib/python3.7/site-packages (from pingouin==0.3.9) (0.20.3)\n",
      "Collecting pandas_flavor>=0.1.2 (from pingouin==0.3.9)\n",
      "  Downloading https://files.pythonhosted.org/packages/9a/57/7fbcff4c0961ed190ac5fcb0bd8194152ee1ee6487edf64fdbae16e2bc4b/pandas_flavor-0.2.0-py2.py3-none-any.whl\n",
      "Collecting outdated (from pingouin==0.3.9)\n",
      "  Downloading https://files.pythonhosted.org/packages/fd/f6/95588d496e518355c33b389222c99069b1c6f2c046be64f400072fdc7cda/outdated-0.2.1-py3-none-any.whl\n",
      "Collecting tabulate (from pingouin==0.3.9)\n",
      "  Downloading https://files.pythonhosted.org/packages/ca/80/7c0cad11bd99985cfe7c09427ee0b4f9bd6b048bd13d4ffb32c6db237dfb/tabulate-0.8.9-py3-none-any.whl\n",
      "Requirement already satisfied: python-dateutil>=2.6.1 in /opt/conda/lib/python3.7/site-packages (from pandas>=0.24->pingouin==0.3.9) (2.8.0)\n",
      "Requirement already satisfied: pytz>=2017.2 in /opt/conda/lib/python3.7/site-packages (from pandas>=0.24->pingouin==0.3.9) (2019.2)\n",
      "Requirement already satisfied: pyparsing!=2.0.4,!=2.1.2,!=2.1.6,>=2.0.1 in /opt/conda/lib/python3.7/site-packages (from matplotlib>=3.0.2->pingouin==0.3.9) (2.4.2)\n",
      "Requirement already satisfied: kiwisolver>=1.0.1 in /opt/conda/lib/python3.7/site-packages (from matplotlib>=3.0.2->pingouin==0.3.9) (1.1.0)\n",
      "Requirement already satisfied: cycler>=0.10 in /opt/conda/lib/python3.7/site-packages (from matplotlib>=3.0.2->pingouin==0.3.9) (0.10.0)\n",
      "Collecting patsy>=0.5.2 (from statsmodels>=0.10.0->pingouin==0.3.9)\n",
      "\u001b[?25l  Downloading https://files.pythonhosted.org/packages/87/7f/d37cd027c25145eeba92b1a756976931c831803d92547c8637a3400c339f/patsy-0.5.2-py2.py3-none-any.whl (233kB)\n",
      "\u001b[K     |████████████████████████████████| 235kB 23.4MB/s eta 0:00:01\n",
      "\u001b[?25hCollecting xarray (from pandas_flavor>=0.1.2->pingouin==0.3.9)\n",
      "\u001b[?25l  Downloading https://files.pythonhosted.org/packages/09/6b/4fccd68a149a63507d9ca4e269312614e093f0204e78eab0d67760b597da/xarray-0.20.2-py3-none-any.whl (845kB)\n",
      "\u001b[K     |████████████████████████████████| 849kB 15.7MB/s eta 0:00:01\n",
      "\u001b[?25hRequirement already satisfied: requests in /opt/conda/lib/python3.7/site-packages (from outdated->pingouin==0.3.9) (2.22.0)\n",
      "Collecting littleutils (from outdated->pingouin==0.3.9)\n",
      "  Downloading https://files.pythonhosted.org/packages/4e/b1/bb4e06f010947d67349f863b6a2ad71577f85590180a935f60543f622652/littleutils-0.2.2.tar.gz\n",
      "Requirement already satisfied: six>=1.5 in /opt/conda/lib/python3.7/site-packages (from python-dateutil>=2.6.1->pandas>=0.24->pingouin==0.3.9) (1.12.0)\n",
      "Requirement already satisfied: setuptools in /opt/conda/lib/python3.7/site-packages (from kiwisolver>=1.0.1->matplotlib>=3.0.2->pingouin==0.3.9) (41.0.1)\n",
      "Collecting typing-extensions>=3.7; python_version < \"3.8\" (from xarray->pandas_flavor>=0.1.2->pingouin==0.3.9)\n",
      "  Downloading https://files.pythonhosted.org/packages/05/e4/baf0031e39cf545f0c9edd5b1a2ea12609b7fcba2d58e118b11753d68cf0/typing_extensions-4.0.1-py3-none-any.whl\n",
      "Collecting importlib-metadata; python_version < \"3.8\" (from xarray->pandas_flavor>=0.1.2->pingouin==0.3.9)\n",
      "  Downloading https://files.pythonhosted.org/packages/58/fd/f82049e9b21773188a72bd1bc53530b900392808f8b823e4c778e7c035f0/importlib_metadata-4.10.1-py3-none-any.whl\n",
      "Requirement already satisfied: certifi>=2017.4.17 in /opt/conda/lib/python3.7/site-packages (from requests->outdated->pingouin==0.3.9) (2019.9.11)\n",
      "Requirement already satisfied: idna<2.9,>=2.5 in /opt/conda/lib/python3.7/site-packages (from requests->outdated->pingouin==0.3.9) (2.8)\n",
      "Requirement already satisfied: chardet<3.1.0,>=3.0.2 in /opt/conda/lib/python3.7/site-packages (from requests->outdated->pingouin==0.3.9) (3.0.4)\n",
      "Requirement already satisfied: urllib3!=1.25.0,!=1.25.1,<1.26,>=1.21.1 in /opt/conda/lib/python3.7/site-packages (from requests->outdated->pingouin==0.3.9) (1.24.3)\n",
      "Collecting zipp>=0.5 (from importlib-metadata; python_version < \"3.8\"->xarray->pandas_flavor>=0.1.2->pingouin==0.3.9)\n",
      "  Downloading https://files.pythonhosted.org/packages/52/c5/df7953fe6065185af5956265e3b16f13c2826c2b1ba23d43154f3af453bc/zipp-3.7.0-py3-none-any.whl\n",
      "Building wheels for collected packages: statsmodels\n",
      "  Building wheel for statsmodels (PEP 517) ... \u001b[?25ldone\n",
      "\u001b[?25h  Created wheel for statsmodels: filename=statsmodels-0.13.1-cp37-cp37m-linux_x86_64.whl size=18154851 sha256=8eb07f763ed25ef1ea065f7d9e6c017dcdeb090d6aeb12666e626ef73d996e21\n",
      "  Stored in directory: /home/dcphw2/.cache/pip/wheels/4f/31/b9/64e28192ca2d2a9aa276d5ec3ecadcf90069bacea1cb6a80ad\n",
      "Successfully built statsmodels\n",
      "Building wheels for collected packages: pingouin, littleutils\n",
      "  Building wheel for pingouin (setup.py) ... \u001b[?25ldone\n",
      "\u001b[?25h  Created wheel for pingouin: filename=pingouin-0.3.9-cp37-none-any.whl size=223376 sha256=0fd683c3d57493c5394df241d43ca602fab8d65b1b49ca84506bdccaa4b0e6a2\n",
      "  Stored in directory: /home/dcphw2/.cache/pip/wheels/6c/d7/26/a23b9ed74061adc5cf8f5e016bbe2902a8ebf63b6471047dbc\n",
      "  Building wheel for littleutils (setup.py) ... \u001b[?25ldone\n",
      "\u001b[?25h  Created wheel for littleutils: filename=littleutils-0.2.2-cp37-none-any.whl size=7050 sha256=751093ebf8dbbc0cf3dc6d4372f8aa980fdc6dbf4be235f4364919295316e142\n",
      "  Stored in directory: /home/dcphw2/.cache/pip/wheels/53/16/9f/ac67d15c40243754fd73f620e1b9b6dedc20492ecc19a2bae1\n",
      "Successfully built pingouin littleutils\n",
      "\u001b[31mERROR: xarray 0.20.2 has requirement numpy>=1.18, but you'll have numpy 1.17.3 which is incompatible.\u001b[0m\n",
      "\u001b[31mERROR: xarray 0.20.2 has requirement pandas>=1.1, but you'll have pandas 0.25.2 which is incompatible.\u001b[0m\n",
      "Installing collected packages: scipy, patsy, statsmodels, typing-extensions, zipp, importlib-metadata, xarray, pandas-flavor, littleutils, outdated, tabulate, pingouin\n",
      "  Found existing installation: scipy 1.2.1\n",
      "    Uninstalling scipy-1.2.1:\n",
      "      Successfully uninstalled scipy-1.2.1\n",
      "  Found existing installation: patsy 0.5.1\n",
      "    Uninstalling patsy-0.5.1:\n",
      "      Successfully uninstalled patsy-0.5.1\n",
      "  Found existing installation: statsmodels 0.9.0\n",
      "    Uninstalling statsmodels-0.9.0:\n",
      "      Successfully uninstalled statsmodels-0.9.0\n",
      "Successfully installed importlib-metadata-4.10.1 littleutils-0.2.2 outdated-0.2.1 pandas-flavor-0.2.0 patsy-0.5.2 pingouin-0.3.9 scipy-1.7.3 statsmodels-0.13.1 tabulate-0.8.9 typing-extensions-4.0.1 xarray-0.20.2 zipp-3.7.0\n"
     ]
    },
    {
     "name": "stderr",
     "output_type": "stream",
     "text": [
      "/opt/conda/lib/python3.7/site-packages/outdated/utils.py:18: OutdatedPackageWarning: The package pingouin is out of date. Your version is 0.3.9, the latest is 0.5.0.\n",
      "Set the environment variable OUTDATED_IGNORE=1 to disable these warnings.\n",
      "  **kwargs\n"
     ]
    }
   ],
   "source": [
    "import pandas as pd\n",
    "import numpy as np\n",
    "import matplotlib.pyplot as plt\n",
    "import sys\n",
    "!{sys.executable} -m pip install pingouin==0.3.9\n",
    "import pingouin as pg\n",
    "\n",
    "pd.set_option('display.max_rows', None)\n"
   ]
  },
  {
   "cell_type": "markdown",
   "metadata": {},
   "source": [
    "## Load data\n",
    "\n",
    "We will use a dataset studying the effects of margarine consumption on cholesterol over time, documentation of which can be found [here](../resources/cholesterol.html)"
   ]
  },
  {
   "cell_type": "code",
   "execution_count": 2,
   "metadata": {
    "scrolled": true
   },
   "outputs": [
    {
     "data": {
      "text/html": [
       "<div>\n",
       "<style scoped>\n",
       "    .dataframe tbody tr th:only-of-type {\n",
       "        vertical-align: middle;\n",
       "    }\n",
       "\n",
       "    .dataframe tbody tr th {\n",
       "        vertical-align: top;\n",
       "    }\n",
       "\n",
       "    .dataframe thead th {\n",
       "        text-align: right;\n",
       "    }\n",
       "</style>\n",
       "<table border=\"1\" class=\"dataframe\">\n",
       "  <thead>\n",
       "    <tr style=\"text-align: right;\">\n",
       "      <th></th>\n",
       "      <th>ID</th>\n",
       "      <th>Before</th>\n",
       "      <th>After4weeks</th>\n",
       "      <th>After8weeks</th>\n",
       "      <th>Margarine</th>\n",
       "    </tr>\n",
       "  </thead>\n",
       "  <tbody>\n",
       "    <tr>\n",
       "      <th>0</th>\n",
       "      <td>1</td>\n",
       "      <td>6.42</td>\n",
       "      <td>5.83</td>\n",
       "      <td>5.75</td>\n",
       "      <td>B</td>\n",
       "    </tr>\n",
       "    <tr>\n",
       "      <th>1</th>\n",
       "      <td>2</td>\n",
       "      <td>6.76</td>\n",
       "      <td>6.20</td>\n",
       "      <td>6.13</td>\n",
       "      <td>A</td>\n",
       "    </tr>\n",
       "    <tr>\n",
       "      <th>2</th>\n",
       "      <td>3</td>\n",
       "      <td>6.56</td>\n",
       "      <td>5.83</td>\n",
       "      <td>5.71</td>\n",
       "      <td>B</td>\n",
       "    </tr>\n",
       "    <tr>\n",
       "      <th>3</th>\n",
       "      <td>4</td>\n",
       "      <td>4.80</td>\n",
       "      <td>4.27</td>\n",
       "      <td>4.15</td>\n",
       "      <td>A</td>\n",
       "    </tr>\n",
       "    <tr>\n",
       "      <th>4</th>\n",
       "      <td>5</td>\n",
       "      <td>8.43</td>\n",
       "      <td>7.71</td>\n",
       "      <td>7.67</td>\n",
       "      <td>B</td>\n",
       "    </tr>\n",
       "  </tbody>\n",
       "</table>\n",
       "</div>"
      ],
      "text/plain": [
       "   ID  Before  After4weeks  After8weeks Margarine\n",
       "0   1    6.42         5.83         5.75         B\n",
       "1   2    6.76         6.20         6.13         A\n",
       "2   3    6.56         5.83         5.71         B\n",
       "3   4    4.80         4.27         4.15         A\n",
       "4   5    8.43         7.71         7.67         B"
      ]
     },
     "metadata": {},
     "output_type": "display_data"
    }
   ],
   "source": [
    "data = pd.read_csv('../resources/cholesterol.csv')\n",
    "\n",
    "display(data.head())"
   ]
  },
  {
   "cell_type": "markdown",
   "metadata": {},
   "source": [
    "## One-Way ANOVARM\n",
    "In a One-Way ANOVARM, each subject is measured multiple times.  Because a one way Repeated Measures ANOVA is designed to test changes over time to each subject, it can be called a within-subjects ANOVA.  The test is then checking whether there were differences in the measurements within the subjects, and not across subjects.\n",
    "\n",
    "The design can be either:\n",
    "1. Measuring changes in mean values over three or more points in time\n",
    "1. Measuring changes in mean values under three or more different conditions\n"
   ]
  },
  {
   "cell_type": "markdown",
   "metadata": {},
   "source": [
    "## Assumptions for ANOVARM\n",
    "\n",
    "1. We have continuous measures across either three or more time points or across three or more different conditions.  I.e., we must have a data set where the same subjects are measured three or more times.\n",
    "1. Observations are independent across subjects, and normally distributed\n",
    "1. Sphericity: sphericity is when the variances of the differences between all combinations of related groups are equal.  If the assumption is violated, it is possible to apply a correction when doing the ANOVARM."
   ]
  },
  {
   "cell_type": "markdown",
   "metadata": {},
   "source": [
    "## Null and Alternative Hypotheses\n",
    "\n",
    "The Null and Alternative hypotheses are the same as for ANOVA, except in the case of the ANOVARM, the means are for each time point across subjects:\n",
    "\n",
    "  * $H_0$ : $\\mu_1 = \\mu_2 = ... = \\mu_{n}$\n",
    "  * $H_A$ : At least one of the means differs\n",
    "  "
   ]
  },
  {
   "cell_type": "markdown",
   "metadata": {},
   "source": [
    "### Check for NaN\n",
    "We should not perform the ANOVARM if we have missing data without first correcting that condition."
   ]
  },
  {
   "cell_type": "code",
   "execution_count": 3,
   "metadata": {},
   "outputs": [
    {
     "data": {
      "text/html": [
       "<div>\n",
       "<style scoped>\n",
       "    .dataframe tbody tr th:only-of-type {\n",
       "        vertical-align: middle;\n",
       "    }\n",
       "\n",
       "    .dataframe tbody tr th {\n",
       "        vertical-align: top;\n",
       "    }\n",
       "\n",
       "    .dataframe thead th {\n",
       "        text-align: right;\n",
       "    }\n",
       "</style>\n",
       "<table border=\"1\" class=\"dataframe\">\n",
       "  <thead>\n",
       "    <tr style=\"text-align: right;\">\n",
       "      <th></th>\n",
       "      <th>ID</th>\n",
       "      <th>Before</th>\n",
       "      <th>After4weeks</th>\n",
       "      <th>After8weeks</th>\n",
       "      <th>Margarine</th>\n",
       "    </tr>\n",
       "  </thead>\n",
       "  <tbody>\n",
       "  </tbody>\n",
       "</table>\n",
       "</div>"
      ],
      "text/plain": [
       "Empty DataFrame\n",
       "Columns: [ID, Before, After4weeks, After8weeks, Margarine]\n",
       "Index: []"
      ]
     },
     "execution_count": 3,
     "metadata": {},
     "output_type": "execute_result"
    }
   ],
   "source": [
    "data[data.isna().any(axis=1)]\n"
   ]
  },
  {
   "cell_type": "markdown",
   "metadata": {},
   "source": [
    "### Check distribution\n",
    "We will check the distribution of our measures using a histogram plot."
   ]
  },
  {
   "cell_type": "code",
   "execution_count": 4,
   "metadata": {
    "scrolled": false
   },
   "outputs": [
    {
     "data": {
      "image/png": "[encoded data removed]",
      "text/plain": [
       "<Figure size 432x288 with 1 Axes>"
      ]
     },
     "metadata": {
      "needs_background": "light"
     },
     "output_type": "display_data"
    },
    {
     "data": {
      "image/png": "[encoded data removed]",
      "text/plain": [
       "<Figure size 432x288 with 1 Axes>"
      ]
     },
     "metadata": {
      "needs_background": "light"
     },
     "output_type": "display_data"
    },
    {
     "data": {
      "text/plain": [
       "<matplotlib.axes._subplots.AxesSubplot at 0x7fb7ff8439b0>"
      ]
     },
     "execution_count": 4,
     "metadata": {},
     "output_type": "execute_result"
    },
    {
     "data": {
      "image/png": "[encoded data removed]",
      "text/plain": [
       "<Figure size 432x288 with 1 Axes>"
      ]
     },
     "metadata": {
      "needs_background": "light"
     },
     "output_type": "display_data"
    }
   ],
   "source": [
    "data['Before'].hist()\n",
    "plt.show()\n",
    "data['After4weeks'].hist()\n",
    "plt.show()\n",
    "data['After8weeks'].hist()"
   ]
  },
  {
   "cell_type": "markdown",
   "metadata": {},
   "source": [
    "The sample size is very small so these plots are inconclusive, but the data do exhibit some normality.  For the purposes of this exercise, we will proceed under the normal assumption."
   ]
  },
  {
   "cell_type": "markdown",
   "metadata": {},
   "source": [
    "We will use the pingouin library to test for sphericity: https://pingouin-stats.org/generated/pingouin.sphericity.html#pingouin.sphericity"
   ]
  },
  {
   "cell_type": "code",
   "execution_count": 5,
   "metadata": {},
   "outputs": [
    {
     "data": {
      "text/plain": [
       "SpherResults(spher=False, W=0.3809940848308417, chi2=15.43954286966919, dof=2, pval=0.0004439620665701963)"
      ]
     },
     "execution_count": 5,
     "metadata": {},
     "output_type": "execute_result"
    }
   ],
   "source": [
    "pg.sphericity(data=data[['Before','After4weeks','After8weeks']], alpha=0.05)\n"
   ]
  },
  {
   "cell_type": "markdown",
   "metadata": {},
   "source": [
    "The first value in the tuple indicates that our data does not have the sphericity property under the Mauchly test with $\\alpha$ = 0.05.  Using the pingouin library, we will have a correction applied to our test results based on this."
   ]
  },
  {
   "cell_type": "markdown",
   "metadata": {},
   "source": [
    "### Data format\n",
    "Pingouin supports both wide and long formatted repeated measures data. In the wide format, each subject has one row, and there are multiple columns for each measurement made, with some ordering of the columns to indicate the passage of time.\n",
    "\n",
    "In long format, there is one row for each measurement taken, and the other columns describe the subject and the time component.\n",
    "\n",
    "Our data is represented in the wide format.  We will send only the measures themselves to the `rm_anova` method, documented [here](https://pingouin-stats.org/generated/pingouin.rm_anova.html).\n",
    "\n",
    "## Perform a One-Way ANOVARM\n",
    "We will do a within-subjects comparison to determine if the choleserol over time has a significant change while using margarine."
   ]
  },
  {
   "cell_type": "code",
   "execution_count": 6,
   "metadata": {},
   "outputs": [
    {
     "data": {
      "text/html": [
       "<div>\n",
       "<style scoped>\n",
       "    .dataframe tbody tr th:only-of-type {\n",
       "        vertical-align: middle;\n",
       "    }\n",
       "\n",
       "    .dataframe tbody tr th {\n",
       "        vertical-align: top;\n",
       "    }\n",
       "\n",
       "    .dataframe thead th {\n",
       "        text-align: right;\n",
       "    }\n",
       "</style>\n",
       "<table border=\"1\" class=\"dataframe\">\n",
       "  <thead>\n",
       "    <tr style=\"text-align: right;\">\n",
       "      <th></th>\n",
       "      <th>Source</th>\n",
       "      <th>ddof1</th>\n",
       "      <th>ddof2</th>\n",
       "      <th>F</th>\n",
       "      <th>p-unc</th>\n",
       "      <th>p-GG-corr</th>\n",
       "      <th>np2</th>\n",
       "      <th>eps</th>\n",
       "      <th>sphericity</th>\n",
       "      <th>W-spher</th>\n",
       "      <th>p-spher</th>\n",
       "    </tr>\n",
       "  </thead>\n",
       "  <tbody>\n",
       "    <tr>\n",
       "      <th>0</th>\n",
       "      <td>Within</td>\n",
       "      <td>2</td>\n",
       "      <td>34</td>\n",
       "      <td>212.32059</td>\n",
       "      <td>6.167367e-20</td>\n",
       "      <td>3.887911e-13</td>\n",
       "      <td>0.925868</td>\n",
       "      <td>0.617663</td>\n",
       "      <td>False</td>\n",
       "      <td>0.380994</td>\n",
       "      <td>0.000444</td>\n",
       "    </tr>\n",
       "  </tbody>\n",
       "</table>\n",
       "</div>"
      ],
      "text/plain": [
       "   Source  ddof1  ddof2          F         p-unc     p-GG-corr       np2  \\\n",
       "0  Within      2     34  212.32059  6.167367e-20  3.887911e-13  0.925868   \n",
       "\n",
       "        eps  sphericity   W-spher   p-spher  \n",
       "0  0.617663       False  0.380994  0.000444  "
      ]
     },
     "execution_count": 6,
     "metadata": {},
     "output_type": "execute_result"
    }
   ],
   "source": [
    "pg.rm_anova(data=data[['Before','After4weeks','After8weeks']])"
   ]
  },
  {
   "cell_type": "markdown",
   "metadata": {},
   "source": [
    "## Interpretation\n",
    "In the output table, we can see one row where the source is identified as `Within`, referring to a within sample comparison.  The column `p_unc` is the uncorrected p value for our test.  Because we failed the Sphericity test, pingouin will apply a correction to account for that, and returns the corrected p value in the `p-spher` column.  The `sphericity` column additionally tells us if we failed the sphericity assumption using the same test we previously ran.\n",
    "\n",
    "The corrected p-values of 0.0004 is the one we use, which is significat at $\\alpha$ = 0.05, so we would reject the Null that the within subject means are equal, and support that at least one of the means differs.  Practically, this can be interpeted as the means for cholesterol level vary significantly for at least one of the time points versus the others.\n",
    "\n",
    "A simple line plot of the means is appropriate here because we are looking at changes at each of the three time points within subjects.  The line plot shows how the mean changes over time.  Based on this, it is reasonable to conclude that using margarine lowers cholesterol over time."
   ]
  },
  {
   "cell_type": "code",
   "execution_count": 7,
   "metadata": {},
   "outputs": [
    {
     "data": {
      "text/plain": [
       "<matplotlib.axes._subplots.AxesSubplot at 0x7fb7fccac278>"
      ]
     },
     "execution_count": 7,
     "metadata": {},
     "output_type": "execute_result"
    },
    {
     "data": {
      "image/png": "[encoded data removed]",
      "text/plain": [
       "<Figure size 432x288 with 1 Axes>"
      ]
     },
     "metadata": {
      "needs_background": "light"
     },
     "output_type": "display_data"
    }
   ],
   "source": [
    "data[['Before','After4weeks','After8weeks']].mean().plot()"
   ]
  },
  {
   "cell_type": "code",
   "execution_count": null,
   "metadata": {},
   "outputs": [],
   "source": []
  }
 ],
 "metadata": {
  "kernelspec": {
   "display_name": "Python 3",
   "language": "python",
   "name": "python3"
  },
  "language_info": {
   "codemirror_mode": {
    "name": "ipython",
    "version": 3
   },
   "file_extension": ".py",
   "mimetype": "text/x-python",
   "name": "python",
   "nbconvert_exporter": "python",
   "pygments_lexer": "ipython3",
   "version": "3.7.3"
  }
 },
 "nbformat": 4,
 "nbformat_minor": 2
}
