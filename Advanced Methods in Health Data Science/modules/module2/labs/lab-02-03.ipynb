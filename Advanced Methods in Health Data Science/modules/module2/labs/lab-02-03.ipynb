{
 "cells": [
  {
   "cell_type": "markdown",
   "metadata": {},
   "source": [
    "# Module 2 Lab 3 - Generalized Estimating Equations for Repeated Categorical Measurements\n",
    "\n",
    "In lab 2 we looked at the Repeated Measures ANOVA approach for analyzing repeated data.  One of the assumptions for ANOVARM is that we have continuous measures.  If instead, our measures are categorical in nature, then we cannot apply ANOVARM.\n",
    "\n",
    "Generalized Estimating Equations (GEE) is an extension to the idea of Generalized Linear Models (GLM), to which class linear regression belongs.  In GLM, one of the assumptions is the independence of data.  In a study design where data are collected longitudinally, this assumption would not be true, as measurements taken from one subject at a point in time are related to other measurements taken on that subject either before or after.  So _within subject_ measurements are not independent, but _across subjects_ might be.\n",
    "\n",
    "GEE is a model that accounts for the within-subjects relationships, and also can handle categorical (both nominal and ordinal) dependent variables, as well as continuous.  Using GEE is an approach to analysis of repeated categorical measurements that we will explore in this lab for categorical dependent variables."
   ]
  },
  {
   "cell_type": "code",
   "execution_count": 1,
   "metadata": {},
   "outputs": [
    {
     "name": "stdout",
     "output_type": "stream",
     "text": [
      "Requirement already up-to-date: statsmodels>=0.11 in /opt/conda/lib/python3.7/site-packages (0.13.1)\n",
      "Requirement already satisfied, skipping upgrade: patsy>=0.5.2 in /opt/conda/lib/python3.7/site-packages (from statsmodels>=0.11) (0.5.2)\n",
      "Requirement already satisfied, skipping upgrade: numpy>=1.17 in /opt/conda/lib/python3.7/site-packages (from statsmodels>=0.11) (1.17.3)\n",
      "Requirement already satisfied, skipping upgrade: scipy>=1.3 in /opt/conda/lib/python3.7/site-packages (from statsmodels>=0.11) (1.7.3)\n",
      "Requirement already satisfied, skipping upgrade: pandas>=0.25 in /opt/conda/lib/python3.7/site-packages (from statsmodels>=0.11) (0.25.2)\n",
      "Requirement already satisfied, skipping upgrade: six in /opt/conda/lib/python3.7/site-packages (from patsy>=0.5.2->statsmodels>=0.11) (1.12.0)\n",
      "Requirement already satisfied, skipping upgrade: python-dateutil>=2.6.1 in /opt/conda/lib/python3.7/site-packages (from pandas>=0.25->statsmodels>=0.11) (2.8.0)\n",
      "Requirement already satisfied, skipping upgrade: pytz>=2017.2 in /opt/conda/lib/python3.7/site-packages (from pandas>=0.25->statsmodels>=0.11) (2019.2)\n"
     ]
    }
   ],
   "source": [
    "import numpy as np\n",
    "import pandas as pd\n",
    "import matplotlib.pyplot as plt\n",
    "import sys\n",
    "!{sys.executable} -m pip install --upgrade \"statsmodels>=0.11\" # 0.11 or above is required for the QIC method\n",
    "\n",
    "from statsmodels.genmod.generalized_estimating_equations import GEE, NominalGEE\n",
    "from statsmodels.genmod.cov_struct import Exchangeable, Independence, Autoregressive\n",
    "from statsmodels.genmod.families import Poisson, Gaussian, Binomial"
   ]
  },
  {
   "cell_type": "markdown",
   "metadata": {},
   "source": [
    "## Load data\n",
    "We are using a dataset for a study of wheezing in children aged 7 to 10 years old in Ohio.  The primary measurement is a dichotomous variable indicating wheezing or no wheezing.  The study is longitudinal, and the status was measured once per year for fours years.\n",
    "\n",
    "Further documentation on the file is [here](../resources/wheeze.html)\n"
   ]
  },
  {
   "cell_type": "code",
   "execution_count": 2,
   "metadata": {},
   "outputs": [
    {
     "data": {
      "text/html": [
       "<div>\n",
       "<style scoped>\n",
       "    .dataframe tbody tr th:only-of-type {\n",
       "        vertical-align: middle;\n",
       "    }\n",
       "\n",
       "    .dataframe tbody tr th {\n",
       "        vertical-align: top;\n",
       "    }\n",
       "\n",
       "    .dataframe thead th {\n",
       "        text-align: right;\n",
       "    }\n",
       "</style>\n",
       "<table border=\"1\" class=\"dataframe\">\n",
       "  <thead>\n",
       "    <tr style=\"text-align: right;\">\n",
       "      <th></th>\n",
       "      <th>resp</th>\n",
       "      <th>id</th>\n",
       "      <th>age</th>\n",
       "      <th>smoke</th>\n",
       "    </tr>\n",
       "  </thead>\n",
       "  <tbody>\n",
       "    <tr>\n",
       "      <th>1</th>\n",
       "      <td>0</td>\n",
       "      <td>0</td>\n",
       "      <td>-2</td>\n",
       "      <td>0</td>\n",
       "    </tr>\n",
       "    <tr>\n",
       "      <th>2</th>\n",
       "      <td>0</td>\n",
       "      <td>0</td>\n",
       "      <td>-1</td>\n",
       "      <td>0</td>\n",
       "    </tr>\n",
       "    <tr>\n",
       "      <th>3</th>\n",
       "      <td>0</td>\n",
       "      <td>0</td>\n",
       "      <td>0</td>\n",
       "      <td>0</td>\n",
       "    </tr>\n",
       "    <tr>\n",
       "      <th>4</th>\n",
       "      <td>0</td>\n",
       "      <td>0</td>\n",
       "      <td>1</td>\n",
       "      <td>0</td>\n",
       "    </tr>\n",
       "    <tr>\n",
       "      <th>5</th>\n",
       "      <td>0</td>\n",
       "      <td>1</td>\n",
       "      <td>-2</td>\n",
       "      <td>0</td>\n",
       "    </tr>\n",
       "  </tbody>\n",
       "</table>\n",
       "</div>"
      ],
      "text/plain": [
       "   resp  id  age  smoke\n",
       "1     0   0   -2      0\n",
       "2     0   0   -1      0\n",
       "3     0   0    0      0\n",
       "4     0   0    1      0\n",
       "5     0   1   -2      0"
      ]
     },
     "execution_count": 2,
     "metadata": {},
     "output_type": "execute_result"
    }
   ],
   "source": [
    "data = pd.read_csv('../resources/wheeze.csv', index_col=0)\n",
    "data.head()"
   ]
  },
  {
   "cell_type": "markdown",
   "metadata": {},
   "source": [
    "## Preprocessing\n",
    "Some simple preprocessing will help make the data easier to interpret.  In this case, converting the age variable into values that represent the age of the child rather than a relative age.  See the data documentation if the below isn't clear to you."
   ]
  },
  {
   "cell_type": "code",
   "execution_count": 3,
   "metadata": {},
   "outputs": [],
   "source": [
    "data['age'] = data['age'] + 9"
   ]
  },
  {
   "cell_type": "markdown",
   "metadata": {},
   "source": [
    "## Exploratory data analysis\n",
    "We will make some tables of our data to better understand it."
   ]
  },
  {
   "cell_type": "markdown",
   "metadata": {},
   "source": [
    "### Count of subjects by smoking status of mother\n",
    "We can see there are more mothers who did not report smoking than did.  For regression, we do not need to be concerned about this imbalance."
   ]
  },
  {
   "cell_type": "code",
   "execution_count": 4,
   "metadata": {},
   "outputs": [
    {
     "data": {
      "text/html": [
       "<div>\n",
       "<style scoped>\n",
       "    .dataframe tbody tr th:only-of-type {\n",
       "        vertical-align: middle;\n",
       "    }\n",
       "\n",
       "    .dataframe tbody tr th {\n",
       "        vertical-align: top;\n",
       "    }\n",
       "\n",
       "    .dataframe thead th {\n",
       "        text-align: right;\n",
       "    }\n",
       "</style>\n",
       "<table border=\"1\" class=\"dataframe\">\n",
       "  <thead>\n",
       "    <tr style=\"text-align: right;\">\n",
       "      <th></th>\n",
       "      <th>id</th>\n",
       "    </tr>\n",
       "    <tr>\n",
       "      <th>smoke</th>\n",
       "      <th></th>\n",
       "    </tr>\n",
       "  </thead>\n",
       "  <tbody>\n",
       "    <tr>\n",
       "      <th>0</th>\n",
       "      <td>350</td>\n",
       "    </tr>\n",
       "    <tr>\n",
       "      <th>1</th>\n",
       "      <td>187</td>\n",
       "    </tr>\n",
       "  </tbody>\n",
       "</table>\n",
       "</div>"
      ],
      "text/plain": [
       "        id\n",
       "smoke     \n",
       "0      350\n",
       "1      187"
      ]
     },
     "execution_count": 4,
     "metadata": {},
     "output_type": "execute_result"
    }
   ],
   "source": [
    "data[data['age'] == 7].groupby(by='smoke')[['id']].count()"
   ]
  },
  {
   "cell_type": "markdown",
   "metadata": {},
   "source": [
    "### Wheeze status by age\n",
    "It's unclear if there is a pattern for the wheezing status over the four time points.  GEE will tell us if there is or is not."
   ]
  },
  {
   "cell_type": "code",
   "execution_count": 5,
   "metadata": {},
   "outputs": [
    {
     "data": {
      "text/html": [
       "<div>\n",
       "<style scoped>\n",
       "    .dataframe tbody tr th:only-of-type {\n",
       "        vertical-align: middle;\n",
       "    }\n",
       "\n",
       "    .dataframe tbody tr th {\n",
       "        vertical-align: top;\n",
       "    }\n",
       "\n",
       "    .dataframe thead th {\n",
       "        text-align: right;\n",
       "    }\n",
       "</style>\n",
       "<table border=\"1\" class=\"dataframe\">\n",
       "  <thead>\n",
       "    <tr style=\"text-align: right;\">\n",
       "      <th>resp</th>\n",
       "      <th>0</th>\n",
       "      <th>1</th>\n",
       "    </tr>\n",
       "    <tr>\n",
       "      <th>age</th>\n",
       "      <th></th>\n",
       "      <th></th>\n",
       "    </tr>\n",
       "  </thead>\n",
       "  <tbody>\n",
       "    <tr>\n",
       "      <th>7</th>\n",
       "      <td>450</td>\n",
       "      <td>87</td>\n",
       "    </tr>\n",
       "    <tr>\n",
       "      <th>8</th>\n",
       "      <td>446</td>\n",
       "      <td>91</td>\n",
       "    </tr>\n",
       "    <tr>\n",
       "      <th>9</th>\n",
       "      <td>452</td>\n",
       "      <td>85</td>\n",
       "    </tr>\n",
       "    <tr>\n",
       "      <th>10</th>\n",
       "      <td>474</td>\n",
       "      <td>63</td>\n",
       "    </tr>\n",
       "  </tbody>\n",
       "</table>\n",
       "</div>"
      ],
      "text/plain": [
       "resp    0   1\n",
       "age          \n",
       "7     450  87\n",
       "8     446  91\n",
       "9     452  85\n",
       "10    474  63"
      ]
     },
     "metadata": {},
     "output_type": "display_data"
    }
   ],
   "source": [
    "pivot = data.pivot_table(values='id', index='age', columns='resp', aggfunc='count')\n",
    "display(pivot)"
   ]
  },
  {
   "cell_type": "markdown",
   "metadata": {},
   "source": [
    "## Specifications for the GEE\n",
    "When modeling the GEE, one must make a determination about how time points are related, this is known as the dependence or correlation structure.  There are a number of possible options:\n",
    "\n",
    "1. Independent - the measurements at each time point are independent of each other.  For modeling repeated measures data, this option is not suitable because we would expect some correlation between the data at different time points\n",
    "1. Exchangeable - the correlation between two time points within a subject are equal for _any_ two timepoints\n",
    "1. Autoregressive - successive time points are correlated to prior time points, and the correlation weakens the farther apart the two time points are\n",
    "1. Unstructured - the correlation is estimated for any two time point combinations\n",
    "\n",
    "Understanding the data will help you choose an appropriate correlation structure, but the model will likely not fail if you choose the wrong one.  In the worst case, the structure will not converge and you will see a warning, in which case that correlation structure should not be used, and the model is invalid.\n",
    "\n",
    "The documentation for the available correlation structures is [here](https://www.statsmodels.org/devel/gee.html#module-reference).\n",
    "\n",
    "\n",
    "For this data, we will choose Exchangeable, as it's reasonable to assume that from year to year wheezing in a child may be equally correlated. Autoregressive is another potential option that can be tried, as it is also reasonable to assume that prior wheezing my be correlated to future wheezing in a child.\n",
    "\n",
    "## Specifying the distribution\n",
    "\n",
    "We also need to select a distribution that fits the dependent variable.  Recall from basic statistics that different types of variables follow different random distributions:\n",
    "\n",
    "1. continuous - Normal distribution\n",
    "1. binary - Bernoulli distribution\n",
    "1. counts/categorical - Poisson distribution\n",
    "\n",
    "We are primarily interested in using GEE for categorical or binary response varaibles, so we'll be choosing Bernoulli or Poisson in repeated categorical analysis.  In this specific case, our response is binary, so we choose Bernoulli.\n",
    "\n",
    "\n",
    "## Specifying the formula\n",
    "The formula is specified as you would a regression or GLM model, with one dependent (or endogenous) variable, and one or more independent (or exogenous) variables.\n",
    "\n",
    "## Putting it all together\n",
    "We plan to run a GEE model, using the Binomial distribution and a correlation structure that assumes Exchangeable correlation.  The dependent variable is `resp`, which is binary, and the independent variables are `age`, which is categorical, and `smoke`, which is binary.  Each subject is grouped by the `id` column, whch we will also need to specify.  \n",
    "\n",
    "The GEE formula is thus:\n",
    "`resp ~ C(age) + smoke`\n"
   ]
  },
  {
   "cell_type": "code",
   "execution_count": 6,
   "metadata": {
    "scrolled": false
   },
   "outputs": [
    {
     "name": "stdout",
     "output_type": "stream",
     "text": [
      "                               GEE Regression Results                              \n",
      "===================================================================================\n",
      "Dep. Variable:                        resp   No. Observations:                 2148\n",
      "Model:                                 GEE   No. clusters:                      537\n",
      "Method:                        Generalized   Min. cluster size:                   4\n",
      "                      Estimating Equations   Max. cluster size:                   4\n",
      "Family:                           Binomial   Mean cluster size:                 4.0\n",
      "Dependence structure:         Exchangeable   Num. iterations:                     4\n",
      "Date:                     Tue, 25 Jan 2022   Scale:                           1.000\n",
      "Covariance type:                    robust   Time:                         12:49:50\n",
      "=================================================================================\n",
      "                    coef    std err          z      P>|z|      [0.025      0.975]\n",
      "---------------------------------------------------------------------------------\n",
      "Intercept        -1.7434      0.137    -12.688      0.000      -2.013      -1.474\n",
      "C(age)[T.8]       0.0540      0.132      0.408      0.683      -0.205       0.313\n",
      "C(age)[T.9]      -0.0278      0.139     -0.200      0.841      -0.300       0.244\n",
      "C(age)[T.10]     -0.3755      0.147     -2.560      0.010      -0.663      -0.088\n",
      "C(smoke)[T.1]     0.2712      0.178      1.523      0.128      -0.078       0.620\n",
      "==============================================================================\n",
      "Skew:                          1.9249   Kurtosis:                       1.7475\n",
      "Centered skew:                 0.8261   Centered kurtosis:              2.9879\n",
      "==============================================================================\n",
      "The correlation between two observations in the same cluster is 0.354\n",
      "1.0\n"
     ]
    }
   ],
   "source": [
    "cov_struct = Exchangeable()\n",
    "model = GEE.from_formula(formula=\"resp ~ C(age) + C(smoke)\", groups=\"id\", data=data, cov_struct=cov_struct, family=Binomial())\n",
    "result = model.fit()\n",
    "print(result.summary())\n",
    "print(cov_struct.summary())\n",
    "print(result.scale)\n"
   ]
  },
  {
   "cell_type": "markdown",
   "metadata": {},
   "source": [
    "## Interpretation of the Model\n",
    "\n",
    "We will look at the parameter estimates of the output to help interpret the model in this table:\n",
    "\n",
    "```\n",
    "=================================================================================\n",
    "                    coef    std err          z      P>|z|      [0.025      0.975]\n",
    "---------------------------------------------------------------------------------\n",
    "\n",
    "```\n",
    "\n",
    "The first column we will look at is the p value `P>|z|`.  Using an $\\alpha$ = 0.05, we can see that only the value of age at time point 10 (`C(age)[T.10]`) is below the significance level.  The dichotomous variable `smoke` is somewhat close to providing significance, but not quite.  \n",
    "\n",
    "The next column to look at is `coef`.  This tells us both the direction and the relative strength of the relationship between the variable and the outcome.  In the case of `C(age)[T.10]`, the effect is negative.  That is to say, being 10 years old reduces the probability of wheezing."
   ]
  },
  {
   "cell_type": "markdown",
   "metadata": {},
   "source": [
    "## The Quasi-likelihood under Independence Model Criterion\n",
    "The QIC can be used as a relative measure of the model fit when comparing the same model and data using different correlation structures.  The QIC is the first result returned in the tuple below.  The model that returns the smallest QIC would be considered the best."
   ]
  },
  {
   "cell_type": "code",
   "execution_count": 7,
   "metadata": {},
   "outputs": [
    {
     "name": "stdout",
     "output_type": "stream",
     "text": [
      "(1818.7147826912203, 1827.1151606654905)\n"
     ]
    }
   ],
   "source": [
    "print(result.qic(result.scale))"
   ]
  },
  {
   "cell_type": "markdown",
   "metadata": {},
   "source": [
    "## Run the model with a different correlation structure and compare the QIC.\n",
    "We will run the same model but using the Autoregressive correlation structure, since that was another choice we considered.\n",
    "\n",
    "We will print the QIC and compare to the prior model."
   ]
  },
  {
   "cell_type": "code",
   "execution_count": 8,
   "metadata": {},
   "outputs": [
    {
     "name": "stderr",
     "output_type": "stream",
     "text": [
      "/opt/conda/lib/python3.7/site-packages/statsmodels/genmod/cov_struct.py:798: FutureWarning: grid=True will become default in a future version\n",
      "  FutureWarning\n"
     ]
    },
    {
     "name": "stdout",
     "output_type": "stream",
     "text": [
      "                               GEE Regression Results                              \n",
      "===================================================================================\n",
      "Dep. Variable:                        resp   No. Observations:                 2148\n",
      "Model:                                 GEE   No. clusters:                      537\n",
      "Method:                        Generalized   Min. cluster size:                   4\n",
      "                      Estimating Equations   Max. cluster size:                   4\n",
      "Family:                           Binomial   Mean cluster size:                 4.0\n",
      "Dependence structure:       Autoregressive   Num. iterations:                     7\n",
      "Date:                     Tue, 25 Jan 2022   Scale:                           1.000\n",
      "Covariance type:                    robust   Time:                         12:50:00\n",
      "=================================================================================\n",
      "                    coef    std err          z      P>|z|      [0.025      0.975]\n",
      "---------------------------------------------------------------------------------\n",
      "Intercept        -1.7326      0.137    -12.624      0.000      -2.002      -1.464\n",
      "C(age)[T.8]       0.0540      0.132      0.408      0.683      -0.205       0.313\n",
      "C(age)[T.9]      -0.0277      0.139     -0.200      0.842      -0.300       0.244\n",
      "C(age)[T.10]     -0.3754      0.147     -2.560      0.010      -0.663      -0.088\n",
      "C(smoke)[T.1]     0.2431      0.180      1.352      0.176      -0.109       0.595\n",
      "==============================================================================\n",
      "Skew:                          1.9262   Kurtosis:                       1.7489\n",
      "Centered skew:                 0.8260   Centered kurtosis:              2.9879\n",
      "==============================================================================\n",
      "Autoregressive(1) dependence parameter: 0.475\n",
      "\n",
      "1.0\n",
      "(1818.7757592464707, 1827.171356886595)\n"
     ]
    }
   ],
   "source": [
    "cov_struct = Autoregressive()\n",
    "model = GEE.from_formula(formula=\"resp ~ C(age) + C(smoke)\", groups=\"id\", data=data, cov_struct=cov_struct, family=Binomial())\n",
    "result = model.fit()\n",
    "print(result.summary())\n",
    "print(cov_struct.summary())\n",
    "print(result.scale)\n",
    "print(result.qic(result.scale))"
   ]
  },
  {
   "cell_type": "markdown",
   "metadata": {},
   "source": [
    "## Interpretation\n",
    "Which model is best?\n",
    "\n",
    "The model using the Exchangeable correlation structure provided a lower QIC (by a small amount), so we would consider it the better model.  The QIC values are so close though, that the models could be considered effectively equivalent.  This shows that the intial correlation structure chosen may still lead to a good model even if the structure is not the best fit.\n",
    "\n",
    "Ultimately, since our model failed to find significance at all of the time points, we would conclude that we cannot model a prediction for wheezing based on mother's smoking status at the start of the study, nor the incidence of wheezing over the study.  The best predictor of wheezing status was the status at the end of the study, so based on this data, we can say that smoking and prior wheezing have insignificant effects on wheezing at age 10."
   ]
  },
  {
   "cell_type": "code",
   "execution_count": null,
   "metadata": {},
   "outputs": [],
   "source": []
  }
 ],
 "metadata": {
  "kernelspec": {
   "display_name": "Python 3",
   "language": "python",
   "name": "python3"
  },
  "language_info": {
   "codemirror_mode": {
    "name": "ipython",
    "version": 3
   },
   "file_extension": ".py",
   "mimetype": "text/x-python",
   "name": "python",
   "nbconvert_exporter": "python",
   "pygments_lexer": "ipython3",
   "version": "3.7.3"
  }
 },
 "nbformat": 4,
 "nbformat_minor": 2
}
