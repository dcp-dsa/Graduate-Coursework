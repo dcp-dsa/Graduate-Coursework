{
 "cells": [
  {
   "cell_type": "markdown",
   "metadata": {},
   "source": [
    "# Module 2: Survival Analysis and Repeated Measures Analysis"
   ]
  },
  {
   "cell_type": "markdown",
   "metadata": {},
   "source": [
    "Survival analysis and repeated categorical analysis are methods of analyzing data where time is factor of interest.  In survival analysis (or time-to-event analysis) we are concerned with the amount of time it takes for an event to occur within a stratified population sample.  \n",
    "\n",
    "For repeated categorical analysis, we will learn new techniques that make use of the categorical data without throwing away or summarizing it."
   ]
  },
  {
   "cell_type": "markdown",
   "metadata": {},
   "source": [
    "## Module Topics\n",
    "1. Survival Analysis using Kaplan-Meier curves\n",
    "1. Hazard Ratios\n",
    "1. Repeated ANOVA\n",
    "1. Generalized Estimating Equations\n"
   ]
  },
  {
   "cell_type": "markdown",
   "metadata": {},
   "source": [
    "## Lectures\n",
    "Lectures are available on the Canvas site for this course, and cover the following topics:\n",
    "\n",
    "1. Survival Analysis\n",
    "1. Repeated Measures Analysis\n"
   ]
  },
  {
   "cell_type": "markdown",
   "metadata": {},
   "source": [
    "## Reading and Videos\n",
    "* [Repeated Measures Designs and Analysis of Longitudinal Data](resources/Repeated_Measures_Designs_and_Analysis_of_Longitudinal_Data.pdf)"
   ]
  },
  {
   "cell_type": "markdown",
   "metadata": {},
   "source": [
    "## Labs\n",
    "* [Lab 1 - Kaplan-Meier Plots, Survival Analysis, and Hazard Ratios](labs/lab-02-01.ipynb)\n",
    "* [Lab 2 - One-Way repeated Measures ANOVA](labs/lab-02-02.ipynb)\n",
    "* [Lab 3 - Repeated Categorical Measurements](labs/lab-02-03.ipynb)"
   ]
  },
  {
   "cell_type": "markdown",
   "metadata": {},
   "source": [
    "## Practices\n",
    "  * [Practice 1 - Performing a Survival Analysis](practices/practice-02-01.ipynb) ([answers](practices/practice-answers-02-01.ipynb))\n",
    "  * [Practice 2 - One-Way Repeated Measures ANOVA](practices/practice-02-02.ipynb) ([answers](practices/practice-answers-02-02.ipynb))\n",
    "  * [Practice 3 - Perform a Generalized Estimating Equations analysis](practices/practice-02-03.ipynb) ([answers](practices/practice-answers-02-03.ipynb))\n",
    "  "
   ]
  },
  {
   "cell_type": "markdown",
   "metadata": {},
   "source": [
    "## Exercises\n",
    "* [Exercise 1 - Remission length in AML](exercises/exercise-02-01.ipynb)\n",
    "* [Exercise 2 - Effect of exercise on low level inflammation](exercises/exercise-02-02.ipynb)"
   ]
  },
  {
   "cell_type": "markdown",
   "metadata": {},
   "source": [
    "## Quiz\n",
    "* See the canvas course module 2 for the quizzes for this week.  You must do each exercise prior to completing its quiz."
   ]
  },
  {
   "cell_type": "markdown",
   "metadata": {},
   "source": [
    "## Submitting your work\n",
    "\n",
    "#### Steps:\n",
    "1. Open Terminal in JupyterHub\n",
    "2. Change into the course folder\n",
    "3. Stage (Git Add) all work from the module \n",
    "    * `git add modules/module2`\n",
    "    * `git add output`\n",
    "4. Create your work snapshot (Git Commit)\n",
    "    * `git commit -m \"Module 2 submission\"`\n",
    "5. Upload the snapshot to the server (Git Push) \n",
    "    * `git push`\n"
   ]
  }
 ],
 "metadata": {
  "kernelspec": {
   "display_name": "Python 3",
   "language": "python",
   "name": "python3"
  },
  "language_info": {
   "codemirror_mode": {
    "name": "ipython",
    "version": 3
   },
   "file_extension": ".py",
   "mimetype": "text/x-python",
   "name": "python",
   "nbconvert_exporter": "python",
   "pygments_lexer": "ipython3",
   "version": "3.7.3"
  }
 },
 "nbformat": 4,
 "nbformat_minor": 2
}
