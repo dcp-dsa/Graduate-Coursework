{
 "cells": [
  {
   "cell_type": "markdown",
   "metadata": {},
   "source": [
    "# Module 2 Exercise 1 - Effect of exercise on low level inflammation\n",
    "## Overview\n",
    "In this exercise, you will perform a repeated measures analysis on data studying the effect of an exercise training program on the reduction of C_Reactive Protien, a biomarker for long-term, low-level inflammation.\n",
    "\n",
    "## File Format\n",
    "The data are located in the resources subfolder of module 2, in a file named heart-disease.csv.\n",
    "\n",
    "Documentation on the dataset is [here](../resources/heart-disease.txt).\n",
    "\n",
    "## Required Output\n",
    "You will respond to the questions located in the Quiz for this exercise in the Canvas site for this course.\n",
    "\n",
    "## Grading\n",
    "There are two parts to submission of this exercise. The first is submission of this notebook, and is worth 10 points. Not submitting code will result in a loss of 10 points. Submitting code that is not functional will result in a loss of 5 points.  Using an incorrect model will cause a deduction of 1-5 points depending upon how different the model is from the correct model.\n",
    "\n",
    "There are three charts that must be displayed in this notebook.  Failure to display a chart will result in a deduction of 1 point.  If the chart is not functionally correct, 0.5 points will be deducted.  Functionally correct means that the data plotted in the charts are accurate, the correct variables are plotted, and the variables are plotted on the specifed axes. The look, size, and colors in the plot will not be graded.\n",
    "\n",
    "The second part of the exercise is submission of the answers via the associated Canvas quiz. Each correct answer on the Canvas Quiz is worth 2 points.\n",
    "\n",
    "Any numeric answer typed into Canvas will be considered correct if it is within  ±  1% from the reference answer. Answers in which you select a given choice will be graded based on the identified correct choice(s). For multi-select, partial credit is given if a portion of the correct answers are selected."
   ]
  },
  {
   "cell_type": "code",
   "execution_count": 1,
   "metadata": {},
   "outputs": [
    {
     "name": "stdout",
     "output_type": "stream",
     "text": [
      "Collecting pingouin==0.3.9\n",
      "\u001b[?25l  Downloading https://files.pythonhosted.org/packages/15/ec/bbb6c79c8bb5e4a906707b23ce266ab17666e8ef4692635db5567c923d4c/pingouin-0.3.9.tar.gz (225kB)\n",
      "\u001b[K     |████████████████████████████████| 225kB 3.6MB/s eta 0:00:01\n",
      "\u001b[?25hRequirement already satisfied: numpy>=1.15 in /opt/conda/lib/python3.7/site-packages (from pingouin==0.3.9) (1.17.3)\n",
      "Collecting scipy>=1.3 (from pingouin==0.3.9)\n",
      "\u001b[?25l  Downloading https://files.pythonhosted.org/packages/58/4f/11f34cfc57ead25752a7992b069c36f5d18421958ebd6466ecd849aeaf86/scipy-1.7.3-cp37-cp37m-manylinux_2_12_x86_64.manylinux2010_x86_64.whl (38.1MB)\n",
      "\u001b[K     |████████████████████████████████| 38.1MB 514kB/s  eta 0:00:01   |██▍                             | 2.9MB 4.2MB/s eta 0:00:09     |██████████████▏                 | 16.9MB 4.2MB/s eta 0:00:06\n",
      "\u001b[?25hRequirement already satisfied: pandas>=0.24 in /opt/conda/lib/python3.7/site-packages (from pingouin==0.3.9) (0.25.2)\n",
      "Requirement already satisfied: matplotlib>=3.0.2 in /opt/conda/lib/python3.7/site-packages (from pingouin==0.3.9) (3.1.1)\n",
      "Requirement already satisfied: seaborn>=0.9.0 in /opt/conda/lib/python3.7/site-packages (from pingouin==0.3.9) (0.9.0)\n",
      "Collecting statsmodels>=0.10.0 (from pingouin==0.3.9)\n",
      "\u001b[?25l  Downloading https://files.pythonhosted.org/packages/e7/86/8c95a2f43d8d66837f52fc0a2d9b4ea491e564789ee94d28f642d9d47ebc/statsmodels-0.13.1.tar.gz (18.1MB)\n",
      "\u001b[K     |████████████████████████████████| 18.1MB 8.3MB/s eta 0:00:01\n",
      "\u001b[?25h  Installing build dependencies ... \u001b[?25ldone\n",
      "\u001b[?25h  Getting requirements to build wheel ... \u001b[?25ldone\n",
      "\u001b[?25h    Preparing wheel metadata ... \u001b[?25ldone\n",
      "\u001b[?25hRequirement already satisfied: scikit-learn in /opt/conda/lib/python3.7/site-packages (from pingouin==0.3.9) (0.20.3)\n",
      "Collecting pandas_flavor>=0.1.2 (from pingouin==0.3.9)\n",
      "  Downloading https://files.pythonhosted.org/packages/9a/57/7fbcff4c0961ed190ac5fcb0bd8194152ee1ee6487edf64fdbae16e2bc4b/pandas_flavor-0.2.0-py2.py3-none-any.whl\n",
      "Collecting outdated (from pingouin==0.3.9)\n",
      "  Downloading https://files.pythonhosted.org/packages/fd/f6/95588d496e518355c33b389222c99069b1c6f2c046be64f400072fdc7cda/outdated-0.2.1-py3-none-any.whl\n",
      "Collecting tabulate (from pingouin==0.3.9)\n",
      "  Downloading https://files.pythonhosted.org/packages/ca/80/7c0cad11bd99985cfe7c09427ee0b4f9bd6b048bd13d4ffb32c6db237dfb/tabulate-0.8.9-py3-none-any.whl\n",
      "Requirement already satisfied: pytz>=2017.2 in /opt/conda/lib/python3.7/site-packages (from pandas>=0.24->pingouin==0.3.9) (2019.2)\n",
      "Requirement already satisfied: python-dateutil>=2.6.1 in /opt/conda/lib/python3.7/site-packages (from pandas>=0.24->pingouin==0.3.9) (2.8.0)\n",
      "Requirement already satisfied: kiwisolver>=1.0.1 in /opt/conda/lib/python3.7/site-packages (from matplotlib>=3.0.2->pingouin==0.3.9) (1.1.0)\n",
      "Requirement already satisfied: cycler>=0.10 in /opt/conda/lib/python3.7/site-packages (from matplotlib>=3.0.2->pingouin==0.3.9) (0.10.0)\n",
      "Requirement already satisfied: pyparsing!=2.0.4,!=2.1.2,!=2.1.6,>=2.0.1 in /opt/conda/lib/python3.7/site-packages (from matplotlib>=3.0.2->pingouin==0.3.9) (2.4.2)\n",
      "Collecting patsy>=0.5.2 (from statsmodels>=0.10.0->pingouin==0.3.9)\n",
      "\u001b[?25l  Downloading https://files.pythonhosted.org/packages/87/7f/d37cd027c25145eeba92b1a756976931c831803d92547c8637a3400c339f/patsy-0.5.2-py2.py3-none-any.whl (233kB)\n",
      "\u001b[K     |████████████████████████████████| 235kB 17.2MB/s eta 0:00:01\n",
      "\u001b[?25hCollecting xarray (from pandas_flavor>=0.1.2->pingouin==0.3.9)\n",
      "\u001b[?25l  Downloading https://files.pythonhosted.org/packages/09/6b/4fccd68a149a63507d9ca4e269312614e093f0204e78eab0d67760b597da/xarray-0.20.2-py3-none-any.whl (845kB)\n",
      "\u001b[K     |████████████████████████████████| 849kB 49.3MB/s eta 0:00:01\n",
      "\u001b[?25hRequirement already satisfied: requests in /opt/conda/lib/python3.7/site-packages (from outdated->pingouin==0.3.9) (2.22.0)\n",
      "Collecting littleutils (from outdated->pingouin==0.3.9)\n",
      "  Downloading https://files.pythonhosted.org/packages/4e/b1/bb4e06f010947d67349f863b6a2ad71577f85590180a935f60543f622652/littleutils-0.2.2.tar.gz\n",
      "Requirement already satisfied: six>=1.5 in /opt/conda/lib/python3.7/site-packages (from python-dateutil>=2.6.1->pandas>=0.24->pingouin==0.3.9) (1.12.0)\n",
      "Requirement already satisfied: setuptools in /opt/conda/lib/python3.7/site-packages (from kiwisolver>=1.0.1->matplotlib>=3.0.2->pingouin==0.3.9) (41.0.1)\n",
      "Collecting typing-extensions>=3.7; python_version < \"3.8\" (from xarray->pandas_flavor>=0.1.2->pingouin==0.3.9)\n",
      "  Downloading https://files.pythonhosted.org/packages/05/e4/baf0031e39cf545f0c9edd5b1a2ea12609b7fcba2d58e118b11753d68cf0/typing_extensions-4.0.1-py3-none-any.whl\n",
      "Collecting importlib-metadata; python_version < \"3.8\" (from xarray->pandas_flavor>=0.1.2->pingouin==0.3.9)\n",
      "  Downloading https://files.pythonhosted.org/packages/58/fd/f82049e9b21773188a72bd1bc53530b900392808f8b823e4c778e7c035f0/importlib_metadata-4.10.1-py3-none-any.whl\n",
      "Requirement already satisfied: idna<2.9,>=2.5 in /opt/conda/lib/python3.7/site-packages (from requests->outdated->pingouin==0.3.9) (2.8)\n",
      "Requirement already satisfied: chardet<3.1.0,>=3.0.2 in /opt/conda/lib/python3.7/site-packages (from requests->outdated->pingouin==0.3.9) (3.0.4)\n",
      "Requirement already satisfied: urllib3!=1.25.0,!=1.25.1,<1.26,>=1.21.1 in /opt/conda/lib/python3.7/site-packages (from requests->outdated->pingouin==0.3.9) (1.24.3)\n",
      "Requirement already satisfied: certifi>=2017.4.17 in /opt/conda/lib/python3.7/site-packages (from requests->outdated->pingouin==0.3.9) (2019.9.11)\n",
      "Collecting zipp>=0.5 (from importlib-metadata; python_version < \"3.8\"->xarray->pandas_flavor>=0.1.2->pingouin==0.3.9)\n",
      "  Downloading https://files.pythonhosted.org/packages/52/c5/df7953fe6065185af5956265e3b16f13c2826c2b1ba23d43154f3af453bc/zipp-3.7.0-py3-none-any.whl\n",
      "Building wheels for collected packages: statsmodels\n",
      "  Building wheel for statsmodels (PEP 517) ... \u001b[?25ldone\n",
      "\u001b[?25h  Created wheel for statsmodels: filename=statsmodels-0.13.1-cp37-cp37m-linux_x86_64.whl size=18154907 sha256=0143ee0678f27f086ccd99ba780bcb1a00bd205dca9c345b2a1005f79366b4f5\n",
      "  Stored in directory: /home/dcphw2/.cache/pip/wheels/4f/31/b9/64e28192ca2d2a9aa276d5ec3ecadcf90069bacea1cb6a80ad\n",
      "Successfully built statsmodels\n",
      "Building wheels for collected packages: pingouin, littleutils\n",
      "  Building wheel for pingouin (setup.py) ... \u001b[?25ldone\n",
      "\u001b[?25h  Created wheel for pingouin: filename=pingouin-0.3.9-cp37-none-any.whl size=223376 sha256=21a9e553b51ae2825834e2c9f889cdb5ca5983f1188b25de6d885183d27031f9\n",
      "  Stored in directory: /home/dcphw2/.cache/pip/wheels/6c/d7/26/a23b9ed74061adc5cf8f5e016bbe2902a8ebf63b6471047dbc\n",
      "  Building wheel for littleutils (setup.py) ... \u001b[?25ldone\n",
      "\u001b[?25h  Created wheel for littleutils: filename=littleutils-0.2.2-cp37-none-any.whl size=7050 sha256=584fbab60f18c6c9afe034bd3f990f745a3e2f21b06666ed15e9ec9eda3f5a44\n",
      "  Stored in directory: /home/dcphw2/.cache/pip/wheels/53/16/9f/ac67d15c40243754fd73f620e1b9b6dedc20492ecc19a2bae1\n",
      "Successfully built pingouin littleutils\n",
      "\u001b[31mERROR: xarray 0.20.2 has requirement numpy>=1.18, but you'll have numpy 1.17.3 which is incompatible.\u001b[0m\n",
      "\u001b[31mERROR: xarray 0.20.2 has requirement pandas>=1.1, but you'll have pandas 0.25.2 which is incompatible.\u001b[0m\n",
      "Installing collected packages: scipy, patsy, statsmodels, typing-extensions, zipp, importlib-metadata, xarray, pandas-flavor, littleutils, outdated, tabulate, pingouin\n",
      "  Found existing installation: scipy 1.2.1\n",
      "    Uninstalling scipy-1.2.1:\n",
      "      Successfully uninstalled scipy-1.2.1\n",
      "  Found existing installation: patsy 0.5.1\n",
      "    Uninstalling patsy-0.5.1:\n",
      "      Successfully uninstalled patsy-0.5.1\n",
      "  Found existing installation: statsmodels 0.9.0\n",
      "    Uninstalling statsmodels-0.9.0:\n",
      "      Successfully uninstalled statsmodels-0.9.0\n",
      "Successfully installed importlib-metadata-4.10.1 littleutils-0.2.2 outdated-0.2.1 pandas-flavor-0.2.0 patsy-0.5.2 pingouin-0.3.9 scipy-1.7.3 statsmodels-0.13.1 tabulate-0.8.9 typing-extensions-4.0.1 xarray-0.20.2 zipp-3.7.0\n"
     ]
    },
    {
     "name": "stderr",
     "output_type": "stream",
     "text": [
      "/opt/conda/lib/python3.7/site-packages/outdated/utils.py:18: OutdatedPackageWarning: The package pingouin is out of date. Your version is 0.3.9, the latest is 0.5.0.\n",
      "Set the environment variable OUTDATED_IGNORE=1 to disable these warnings.\n",
      "  **kwargs\n"
     ]
    }
   ],
   "source": [
    "import pandas as pd\n",
    "import numpy as np\n",
    "import matplotlib.pyplot as plt\n",
    "import sys\n",
    "!{sys.executable} -m pip install pingouin==0.3.9\n",
    "import pingouin as pg\n",
    "\n",
    "pd.set_option('display.max_rows', None)"
   ]
  },
  {
   "cell_type": "markdown",
   "metadata": {},
   "source": [
    "## Load data"
   ]
  },
  {
   "cell_type": "code",
   "execution_count": 4,
   "metadata": {},
   "outputs": [
    {
     "data": {
      "text/html": [
       "<div>\n",
       "<style scoped>\n",
       "    .dataframe tbody tr th:only-of-type {\n",
       "        vertical-align: middle;\n",
       "    }\n",
       "\n",
       "    .dataframe tbody tr th {\n",
       "        vertical-align: top;\n",
       "    }\n",
       "\n",
       "    .dataframe thead th {\n",
       "        text-align: right;\n",
       "    }\n",
       "</style>\n",
       "<table border=\"1\" class=\"dataframe\">\n",
       "  <thead>\n",
       "    <tr style=\"text-align: right;\">\n",
       "      <th></th>\n",
       "      <th>id</th>\n",
       "      <th>time</th>\n",
       "      <th>crp</th>\n",
       "    </tr>\n",
       "  </thead>\n",
       "  <tbody>\n",
       "    <tr>\n",
       "      <th>0</th>\n",
       "      <td>1</td>\n",
       "      <td>1</td>\n",
       "      <td>5.0</td>\n",
       "    </tr>\n",
       "    <tr>\n",
       "      <th>1</th>\n",
       "      <td>1</td>\n",
       "      <td>2</td>\n",
       "      <td>4.5</td>\n",
       "    </tr>\n",
       "    <tr>\n",
       "      <th>2</th>\n",
       "      <td>1</td>\n",
       "      <td>3</td>\n",
       "      <td>4.0</td>\n",
       "    </tr>\n",
       "    <tr>\n",
       "      <th>3</th>\n",
       "      <td>2</td>\n",
       "      <td>1</td>\n",
       "      <td>4.0</td>\n",
       "    </tr>\n",
       "    <tr>\n",
       "      <th>4</th>\n",
       "      <td>2</td>\n",
       "      <td>2</td>\n",
       "      <td>3.7</td>\n",
       "    </tr>\n",
       "    <tr>\n",
       "      <th>5</th>\n",
       "      <td>2</td>\n",
       "      <td>3</td>\n",
       "      <td>3.7</td>\n",
       "    </tr>\n",
       "    <tr>\n",
       "      <th>6</th>\n",
       "      <td>3</td>\n",
       "      <td>1</td>\n",
       "      <td>3.8</td>\n",
       "    </tr>\n",
       "    <tr>\n",
       "      <th>7</th>\n",
       "      <td>3</td>\n",
       "      <td>2</td>\n",
       "      <td>3.6</td>\n",
       "    </tr>\n",
       "    <tr>\n",
       "      <th>8</th>\n",
       "      <td>3</td>\n",
       "      <td>3</td>\n",
       "      <td>3.1</td>\n",
       "    </tr>\n",
       "    <tr>\n",
       "      <th>9</th>\n",
       "      <td>4</td>\n",
       "      <td>1</td>\n",
       "      <td>3.5</td>\n",
       "    </tr>\n",
       "    <tr>\n",
       "      <th>10</th>\n",
       "      <td>4</td>\n",
       "      <td>2</td>\n",
       "      <td>3.0</td>\n",
       "    </tr>\n",
       "    <tr>\n",
       "      <th>11</th>\n",
       "      <td>4</td>\n",
       "      <td>3</td>\n",
       "      <td>3.4</td>\n",
       "    </tr>\n",
       "    <tr>\n",
       "      <th>12</th>\n",
       "      <td>5</td>\n",
       "      <td>1</td>\n",
       "      <td>5.4</td>\n",
       "    </tr>\n",
       "    <tr>\n",
       "      <th>13</th>\n",
       "      <td>5</td>\n",
       "      <td>2</td>\n",
       "      <td>5.0</td>\n",
       "    </tr>\n",
       "    <tr>\n",
       "      <th>14</th>\n",
       "      <td>5</td>\n",
       "      <td>3</td>\n",
       "      <td>4.6</td>\n",
       "    </tr>\n",
       "    <tr>\n",
       "      <th>15</th>\n",
       "      <td>6</td>\n",
       "      <td>1</td>\n",
       "      <td>5.1</td>\n",
       "    </tr>\n",
       "    <tr>\n",
       "      <th>16</th>\n",
       "      <td>6</td>\n",
       "      <td>2</td>\n",
       "      <td>4.4</td>\n",
       "    </tr>\n",
       "    <tr>\n",
       "      <th>17</th>\n",
       "      <td>6</td>\n",
       "      <td>3</td>\n",
       "      <td>3.9</td>\n",
       "    </tr>\n",
       "    <tr>\n",
       "      <th>18</th>\n",
       "      <td>7</td>\n",
       "      <td>1</td>\n",
       "      <td>4.0</td>\n",
       "    </tr>\n",
       "    <tr>\n",
       "      <th>19</th>\n",
       "      <td>7</td>\n",
       "      <td>2</td>\n",
       "      <td>3.7</td>\n",
       "    </tr>\n",
       "    <tr>\n",
       "      <th>20</th>\n",
       "      <td>7</td>\n",
       "      <td>3</td>\n",
       "      <td>3.3</td>\n",
       "    </tr>\n",
       "    <tr>\n",
       "      <th>21</th>\n",
       "      <td>8</td>\n",
       "      <td>1</td>\n",
       "      <td>3.8</td>\n",
       "    </tr>\n",
       "    <tr>\n",
       "      <th>22</th>\n",
       "      <td>8</td>\n",
       "      <td>2</td>\n",
       "      <td>3.5</td>\n",
       "    </tr>\n",
       "    <tr>\n",
       "      <th>23</th>\n",
       "      <td>8</td>\n",
       "      <td>3</td>\n",
       "      <td>3.5</td>\n",
       "    </tr>\n",
       "    <tr>\n",
       "      <th>24</th>\n",
       "      <td>9</td>\n",
       "      <td>1</td>\n",
       "      <td>4.2</td>\n",
       "    </tr>\n",
       "    <tr>\n",
       "      <th>25</th>\n",
       "      <td>9</td>\n",
       "      <td>2</td>\n",
       "      <td>4.0</td>\n",
       "    </tr>\n",
       "    <tr>\n",
       "      <th>26</th>\n",
       "      <td>9</td>\n",
       "      <td>3</td>\n",
       "      <td>3.6</td>\n",
       "    </tr>\n",
       "    <tr>\n",
       "      <th>27</th>\n",
       "      <td>10</td>\n",
       "      <td>1</td>\n",
       "      <td>4.5</td>\n",
       "    </tr>\n",
       "    <tr>\n",
       "      <th>28</th>\n",
       "      <td>10</td>\n",
       "      <td>2</td>\n",
       "      <td>4.0</td>\n",
       "    </tr>\n",
       "    <tr>\n",
       "      <th>29</th>\n",
       "      <td>10</td>\n",
       "      <td>3</td>\n",
       "      <td>3.4</td>\n",
       "    </tr>\n",
       "  </tbody>\n",
       "</table>\n",
       "</div>"
      ],
      "text/plain": [
       "    id  time  crp\n",
       "0    1     1  5.0\n",
       "1    1     2  4.5\n",
       "2    1     3  4.0\n",
       "3    2     1  4.0\n",
       "4    2     2  3.7\n",
       "5    2     3  3.7\n",
       "6    3     1  3.8\n",
       "7    3     2  3.6\n",
       "8    3     3  3.1\n",
       "9    4     1  3.5\n",
       "10   4     2  3.0\n",
       "11   4     3  3.4\n",
       "12   5     1  5.4\n",
       "13   5     2  5.0\n",
       "14   5     3  4.6\n",
       "15   6     1  5.1\n",
       "16   6     2  4.4\n",
       "17   6     3  3.9\n",
       "18   7     1  4.0\n",
       "19   7     2  3.7\n",
       "20   7     3  3.3\n",
       "21   8     1  3.8\n",
       "22   8     2  3.5\n",
       "23   8     3  3.5\n",
       "24   9     1  4.2\n",
       "25   9     2  4.0\n",
       "26   9     3  3.6\n",
       "27  10     1  4.5\n",
       "28  10     2  4.0\n",
       "29  10     3  3.4"
      ]
     },
     "execution_count": 4,
     "metadata": {},
     "output_type": "execute_result"
    }
   ],
   "source": [
    "# your code here\n",
    "\n",
    "data = pd.read_csv('../resources/heart-disease.csv')\n",
    "\n",
    "data"
   ]
  },
  {
   "cell_type": "markdown",
   "metadata": {},
   "source": [
    "## Quiz 2 Question 1\n",
    "When repeated measures data contain a dependent variable that is categorical, the appropriate method for analysis is:\n",
    "\n",
    "A. Repeated Measures ANOVA\n",
    "\n",
    "B. Logistic Regression\n",
    "\n",
    "C. Generalized Estimating Equations\n",
    "\n",
    "D. Generalized Linear Models"
   ]
  },
  {
   "cell_type": "raw",
   "metadata": {},
   "source": [
    "C. Generalized Estimating Equations"
   ]
  },
  {
   "cell_type": "markdown",
   "metadata": {},
   "source": [
    "## Quiz 2 Question 2\n",
    "When selecting a distribution for a Generalized Estimating Equation when the dependent variable is categorical, which distribution should be selected?\n",
    "\n",
    "A. Normal (Gaussian)\n",
    "\n",
    "B. Poisson\n",
    "\n",
    "C. Binomial"
   ]
  },
  {
   "cell_type": "raw",
   "metadata": {},
   "source": [
    "B. Poisson"
   ]
  },
  {
   "cell_type": "markdown",
   "metadata": {},
   "source": [
    "## Quiz 2 Question 3\n",
    "In a Generalized Estimating Equation, which correlation structure would be most appropriate for data that is related to a prior time point's data?\n",
    "\n",
    "A. Independent\n",
    "\n",
    "B. Exchangeable\n",
    "\n",
    "C. Autoregressive \n",
    "\n",
    "D. Unstructured "
   ]
  },
  {
   "cell_type": "raw",
   "metadata": {},
   "source": [
    "C. Autoregressive"
   ]
  },
  {
   "cell_type": "markdown",
   "metadata": {},
   "source": [
    "## Quiz 2 Question 4\n",
    "Appropriate methods to analyze the heart-disease data are:\n",
    "\n",
    "A. Repeated Measures ANOVA\n",
    "\n",
    "B. Logistic Regression\n",
    "\n",
    "C. Generalized Estimating Equations\n",
    "\n",
    "D. Generalized Linear Models"
   ]
  },
  {
   "cell_type": "raw",
   "metadata": {},
   "source": [
    "Definitely A\n",
    "\n",
    "I think B\n",
    "\n",
    "Definitely not C\n",
    "\n",
    "I think not D\n",
    "\n",
    "\n",
    "This could not have been more wrong"
   ]
  },
  {
   "cell_type": "markdown",
   "metadata": {},
   "source": [
    "## Check the distribution of the crp data\n",
    "Plot a histogram of the CRP data"
   ]
  },
  {
   "cell_type": "code",
   "execution_count": 5,
   "metadata": {
    "scrolled": true
   },
   "outputs": [
    {
     "data": {
      "text/plain": [
       "<matplotlib.axes._subplots.AxesSubplot at 0x7fd9154db710>"
      ]
     },
     "execution_count": 5,
     "metadata": {},
     "output_type": "execute_result"
    },
    {
     "data": {
      "image/png": "[encoded data removed]",
      "text/plain": [
       "<Figure size 432x288 with 1 Axes>"
      ]
     },
     "metadata": {
      "needs_background": "light"
     },
     "output_type": "display_data"
    }
   ],
   "source": [
    "# your code here\n",
    "\n",
    "data['crp'].hist()"
   ]
  },
  {
   "cell_type": "markdown",
   "metadata": {},
   "source": [
    "## Apply an appropriate transformation to make the data more normal\n",
    "Replot a histogram after the transformation"
   ]
  },
  {
   "cell_type": "code",
   "execution_count": 6,
   "metadata": {},
   "outputs": [
    {
     "data": {
      "image/png": "[encoded data removed]",
      "text/plain": [
       "<Figure size 432x288 with 1 Axes>"
      ]
     },
     "metadata": {
      "needs_background": "light"
     },
     "output_type": "display_data"
    }
   ],
   "source": [
    "# your code here\n",
    "\n",
    "data['crp_trans'] = np.log10(data['crp'])\n",
    "data['crp_trans'].hist()\n",
    "plt.title('log base 10 transformation')\n",
    "plt.show()"
   ]
  },
  {
   "cell_type": "markdown",
   "metadata": {},
   "source": [
    "## Quiz 2 Question 5\n",
    "The data for CRP meets the assumption of sphericity at $\\alpha$ = 0.05."
   ]
  },
  {
   "cell_type": "code",
   "execution_count": 8,
   "metadata": {},
   "outputs": [
    {
     "name": "stderr",
     "output_type": "stream",
     "text": [
      "/opt/conda/lib/python3.7/site-packages/pingouin/distribution.py:950: RuntimeWarning: divide by zero encountered in double_scalars\n",
      "  W = np.product(eig) / (eig.sum() / d)**d\n"
     ]
    },
    {
     "data": {
      "text/plain": [
       "SpherResults(spher=True, W=inf, chi2=-inf, dof=2, pval=1.0)"
      ]
     },
     "execution_count": 8,
     "metadata": {},
     "output_type": "execute_result"
    }
   ],
   "source": [
    "# your code here\n",
    "\n",
    "pg.sphericity(data, dv='crp_trans', subject='id', within='time', alpha=0.05)"
   ]
  },
  {
   "cell_type": "raw",
   "metadata": {},
   "source": [
    "True"
   ]
  },
  {
   "cell_type": "markdown",
   "metadata": {},
   "source": [
    "## Quiz 2 Question 6\n",
    "Run the appropriate model to test for the within subject p-value of the dependent variable CRP.  Do we reject the Null hypothesis that the within subject means are all equal at $\\alpha$ = 0.05?"
   ]
  },
  {
   "cell_type": "code",
   "execution_count": 9,
   "metadata": {},
   "outputs": [
    {
     "data": {
      "text/html": [
       "<div>\n",
       "<style scoped>\n",
       "    .dataframe tbody tr th:only-of-type {\n",
       "        vertical-align: middle;\n",
       "    }\n",
       "\n",
       "    .dataframe tbody tr th {\n",
       "        vertical-align: top;\n",
       "    }\n",
       "\n",
       "    .dataframe thead th {\n",
       "        text-align: right;\n",
       "    }\n",
       "</style>\n",
       "<table border=\"1\" class=\"dataframe\">\n",
       "  <thead>\n",
       "    <tr style=\"text-align: right;\">\n",
       "      <th></th>\n",
       "      <th>Source</th>\n",
       "      <th>ddof1</th>\n",
       "      <th>ddof2</th>\n",
       "      <th>F</th>\n",
       "      <th>p-unc</th>\n",
       "      <th>np2</th>\n",
       "      <th>eps</th>\n",
       "    </tr>\n",
       "  </thead>\n",
       "  <tbody>\n",
       "    <tr>\n",
       "      <th>0</th>\n",
       "      <td>time</td>\n",
       "      <td>2</td>\n",
       "      <td>18</td>\n",
       "      <td>26.095353</td>\n",
       "      <td>0.000005</td>\n",
       "      <td>0.743556</td>\n",
       "      <td>0.631742</td>\n",
       "    </tr>\n",
       "  </tbody>\n",
       "</table>\n",
       "</div>"
      ],
      "text/plain": [
       "  Source  ddof1  ddof2          F     p-unc       np2       eps\n",
       "0   time      2     18  26.095353  0.000005  0.743556  0.631742"
      ]
     },
     "execution_count": 9,
     "metadata": {},
     "output_type": "execute_result"
    }
   ],
   "source": [
    "# your code here\n",
    "\n",
    "pg.rm_anova(data=data, dv='crp_trans', subject='id', within='time')"
   ]
  },
  {
   "cell_type": "raw",
   "metadata": {},
   "source": [
    "We do reject the null hypothesis"
   ]
  },
  {
   "cell_type": "markdown",
   "metadata": {},
   "source": [
    "## Display a line chart showing the mean CRP values for the three time points\n",
    "Display the CRP value on the y axis, and the time point on the x axis."
   ]
  },
  {
   "cell_type": "code",
   "execution_count": 30,
   "metadata": {},
   "outputs": [
    {
     "data": {
      "image/png": "[encoded data removed]",
      "text/plain": [
       "<Figure size 432x288 with 1 Axes>"
      ]
     },
     "metadata": {
      "needs_background": "light"
     },
     "output_type": "display_data"
    },
    {
     "data": {
      "text/html": [
       "<div>\n",
       "<style scoped>\n",
       "    .dataframe tbody tr th:only-of-type {\n",
       "        vertical-align: middle;\n",
       "    }\n",
       "\n",
       "    .dataframe tbody tr th {\n",
       "        vertical-align: top;\n",
       "    }\n",
       "\n",
       "    .dataframe thead th {\n",
       "        text-align: right;\n",
       "    }\n",
       "</style>\n",
       "<table border=\"1\" class=\"dataframe\">\n",
       "  <thead>\n",
       "    <tr style=\"text-align: right;\">\n",
       "      <th></th>\n",
       "      <th>id</th>\n",
       "      <th>crp</th>\n",
       "      <th>crp_trans</th>\n",
       "    </tr>\n",
       "    <tr>\n",
       "      <th>time</th>\n",
       "      <th></th>\n",
       "      <th></th>\n",
       "      <th></th>\n",
       "    </tr>\n",
       "  </thead>\n",
       "  <tbody>\n",
       "    <tr>\n",
       "      <th>1</th>\n",
       "      <td>5.5</td>\n",
       "      <td>4.33</td>\n",
       "      <td>0.632315</td>\n",
       "    </tr>\n",
       "    <tr>\n",
       "      <th>2</th>\n",
       "      <td>5.5</td>\n",
       "      <td>3.94</td>\n",
       "      <td>0.591365</td>\n",
       "    </tr>\n",
       "    <tr>\n",
       "      <th>3</th>\n",
       "      <td>5.5</td>\n",
       "      <td>3.65</td>\n",
       "      <td>0.559729</td>\n",
       "    </tr>\n",
       "  </tbody>\n",
       "</table>\n",
       "</div>"
      ],
      "text/plain": [
       "       id   crp  crp_trans\n",
       "time                      \n",
       "1     5.5  4.33   0.632315\n",
       "2     5.5  3.94   0.591365\n",
       "3     5.5  3.65   0.559729"
      ]
     },
     "execution_count": 30,
     "metadata": {},
     "output_type": "execute_result"
    }
   ],
   "source": [
    "# your code here\n",
    "\n",
    "import matplotlib.pyplot as plt\n",
    "\n",
    "df = data.groupby(['time']).mean()\n",
    "\n",
    "plt.plot(df.index,df['crp'])\n",
    "plt.xlabel('time')\n",
    "plt.ylabel('mean crp')\n",
    "plt.show()\n",
    "\n",
    "df"
   ]
  },
  {
   "cell_type": "code",
   "execution_count": null,
   "metadata": {},
   "outputs": [],
   "source": []
  }
 ],
 "metadata": {
  "kernelspec": {
   "display_name": "Python 3",
   "language": "python",
   "name": "python3"
  },
  "language_info": {
   "codemirror_mode": {
    "name": "ipython",
    "version": 3
   },
   "file_extension": ".py",
   "mimetype": "text/x-python",
   "name": "python",
   "nbconvert_exporter": "python",
   "pygments_lexer": "ipython3",
   "version": "3.7.3"
  }
 },
 "nbformat": 4,
 "nbformat_minor": 2
}
