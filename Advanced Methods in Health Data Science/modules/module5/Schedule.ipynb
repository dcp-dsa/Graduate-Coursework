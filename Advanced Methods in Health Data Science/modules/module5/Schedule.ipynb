{
 "cells": [
  {
   "cell_type": "markdown",
   "metadata": {},
   "source": [
    "# Module 5: Clinical decision support, AI, and business intelligence"
   ]
  },
  {
   "cell_type": "markdown",
   "metadata": {},
   "source": [
    "In this module we will discuss clinical decision support (CDS), which includes topics such as the SMART framework for developing EMR agnostic CDS, the Fast Health Interoperability Resources (FHIR) for EMR agnostic access to patient data, the use of AI in healthcare, and Business Intelligence (BI).\n"
   ]
  },
  {
   "cell_type": "markdown",
   "metadata": {},
   "source": [
    "## Module Topics\n",
    "1. SMART\n",
    "1. FHIR\n",
    "1. Clinical Decision Support\n"
   ]
  },
  {
   "cell_type": "markdown",
   "metadata": {},
   "source": [
    "## Lectures\n",
    "Lectures are available on the Canvas site for this course, and cover the following topics:\n",
    "\n",
    "1. Clinical Decision Support\n",
    "1. Use of AI in healthcare\n"
   ]
  },
  {
   "cell_type": "markdown",
   "metadata": {},
   "source": [
    "## Reading and Videos\n",
    "* [SMART on FHIR Overview](https://www.youtube.com/watch?v=Ff4bUF1Z3vU)\n",
    "* [About SMART on FHIR](https://smarthealthit.org/about-smart-2/)\n",
    "* [FHIR REST API reference](http://hl7.org/fhir/http.html)\n",
    "* [Accountability of AI Under the Law: The Role of Explanation.pdf](resources/Accountability-of-AI-Under-the-Law-The-Role-of-Explanation.pdf)"
   ]
  },
  {
   "cell_type": "markdown",
   "metadata": {},
   "source": [
    "## Labs\n",
    "* [Lab 1 - Accessing data via FHIR](labs/lab-05-01.ipynb)\n"
   ]
  },
  {
   "cell_type": "markdown",
   "metadata": {},
   "source": [
    "## Practices\n",
    "  * [Practice 1 - FHIR](practices/practice-05-01.ipynb) ([answers](practices/practice-answers-05-01.ipynb))"
   ]
  },
  {
   "cell_type": "markdown",
   "metadata": {},
   "source": [
    "## Exercises\n",
    "* [Exercise 1 - Create growth charts](exercises/exercise-05-01.ipynb)"
   ]
  },
  {
   "cell_type": "markdown",
   "metadata": {},
   "source": [
    "## Quiz\n",
    "* See the canvas course module 5 for the quiz for this week.  The quiz covers the lecture and reading material."
   ]
  },
  {
   "cell_type": "markdown",
   "metadata": {},
   "source": [
    "## Submitting your work\n",
    "\n",
    "#### Steps:\n",
    "1. Open Terminal in JupyterHub\n",
    "2. Change into the course folder\n",
    "3. Stage (Git Add) all work from the module \n",
    "    * `git add modules/module5`\n",
    "    * `git add output`\n",
    "4. Create your work snapshot (Git Commit)\n",
    "    * `git commit -m \"Module 5 submission\"`\n",
    "5. Upload the snapshot to the server (Git Push) \n",
    "    * `git push`\n"
   ]
  }
 ],
 "metadata": {
  "kernelspec": {
   "display_name": "Python 3",
   "language": "python",
   "name": "python3"
  },
  "language_info": {
   "codemirror_mode": {
    "name": "ipython",
    "version": 3
   },
   "file_extension": ".py",
   "mimetype": "text/x-python",
   "name": "python",
   "nbconvert_exporter": "python",
   "pygments_lexer": "ipython3",
   "version": "3.7.3"
  }
 },
 "nbformat": 4,
 "nbformat_minor": 2
}
