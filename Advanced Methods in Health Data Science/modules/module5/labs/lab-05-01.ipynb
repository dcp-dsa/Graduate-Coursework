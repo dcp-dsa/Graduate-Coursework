{
 "cells": [
  {
   "cell_type": "markdown",
   "metadata": {},
   "source": [
    "# Module 5 Lab 1 - Accessing data via FHIR\n",
    "[FHIR](https://www.hl7.org/fhir/) is a standard to provide an EMR agnostic interface to data contained in an electronic medical record.  The major EMR systems such as Epic and Cerner have provided FHIR api access to their systems, and as of 2020 the ONC has mandated a portion of the FHIR interface (the bulk data API) be part of any certified EHR.  \n",
    "\n",
    "FHIR can be used to develop clinical decision support modules that can run on any EMR platform, in conjunction with [SMART](https://smarthealthit.org/).  SMART provides the framework for embedding an app into an EMR.  Apps can be developed by anyone, and when based on the FHIR API, can be deployed to any system that support the FHIR standard.\n",
    "\n",
    "If you have developed a predictive model for patients, then the dissemination of that model can be done via a \"SMART on FHIR\" app.\n",
    "\n",
    "Development of web-based SMART applications is beyond the scope of this course and usually beyond the scope of what a data scientist would do, but accessing data through a FHIR interface from an EHR is a relevant topic that we will explore in this module."
   ]
  },
  {
   "cell_type": "markdown",
   "metadata": {},
   "source": [
    "## fhirclient\n",
    "\n",
    "We are going to use the fhirclient python package to interface to a public, fake patient database.\n",
    "* The source code is available here: https://github.com/smart-on-fhir/client-py\n",
    "* The API documentation is here: http://docs.smarthealthit.org/client-py/\n",
    "* A list of FHIR servers is here: https://confluence.hl7.org/display/FHIR/Public+Test+Servers\n",
    "* An online patient broswer for the server we will be using below is here: https://patient-browser.smarthealthit.org/?config=r3#/\n",
    "* This lab is based on FHIR r3, documented here: http://hl7.org/fhir/STU3/\n"
   ]
  },
  {
   "cell_type": "code",
   "execution_count": 1,
   "metadata": {},
   "outputs": [
    {
     "name": "stdout",
     "output_type": "stream",
     "text": [
      "Collecting fhirclient\n",
      "\u001b[?25l  Downloading https://files.pythonhosted.org/packages/2e/37/a6cb135f0bc4d00b6243bf7709b2a4c1d41be6504424fab375f97e56cec3/fhirclient-3.2.0-py2.py3-none-any.whl (550kB)\n",
      "\u001b[K     |████████████████████████████████| 552kB 3.4MB/s eta 0:00:01\n",
      "\u001b[?25hRequirement already satisfied: requests in /opt/conda/lib/python3.7/site-packages (from fhirclient) (2.22.0)\n",
      "Collecting isodate (from fhirclient)\n",
      "\u001b[?25l  Downloading https://files.pythonhosted.org/packages/b6/85/7882d311924cbcfc70b1890780763e36ff0b140c7e51c110fc59a532f087/isodate-0.6.1-py2.py3-none-any.whl (41kB)\n",
      "\u001b[K     |████████████████████████████████| 51kB 7.1MB/s  eta 0:00:01\n",
      "\u001b[?25hRequirement already satisfied: idna<2.9,>=2.5 in /opt/conda/lib/python3.7/site-packages (from requests->fhirclient) (2.8)\n",
      "Requirement already satisfied: chardet<3.1.0,>=3.0.2 in /opt/conda/lib/python3.7/site-packages (from requests->fhirclient) (3.0.4)\n",
      "Requirement already satisfied: certifi>=2017.4.17 in /opt/conda/lib/python3.7/site-packages (from requests->fhirclient) (2019.9.11)\n",
      "Requirement already satisfied: urllib3!=1.25.0,!=1.25.1,<1.26,>=1.21.1 in /opt/conda/lib/python3.7/site-packages (from requests->fhirclient) (1.24.3)\n",
      "Requirement already satisfied: six in /opt/conda/lib/python3.7/site-packages (from isodate->fhirclient) (1.12.0)\n",
      "Installing collected packages: isodate, fhirclient\n",
      "Successfully installed fhirclient-3.2.0 isodate-0.6.1\n"
     ]
    }
   ],
   "source": [
    "import sys\n",
    "!{sys.executable} -m pip install fhirclient\n",
    "from fhirclient import client"
   ]
  },
  {
   "cell_type": "markdown",
   "metadata": {},
   "source": [
    "## Retrieve a patient\n",
    "First we will retrieve a patient by their patient identifier, which I found by browsing the online patient browser linked above.  This is the patient we will use for the next few examples: \n",
    "\n",
    "`_id=smart-1213208`  \n",
    "\n",
    "You can find our patient [here](https://patient-browser.smarthealthit.org/?config=r3#/) by choosing \"Advanced Mode\" in the upper right corner for search, and inputing the above search criteria.\n",
    "\n",
    "The fhirclient package is very object oriented.  Each item retrieved by the package is an object that must be interpreted properly to be of use.  The `Patient.read` method returns a `fhirclient.models.patient.Patient` object.  To get data from it we use attributes and methods on that object.\n",
    "\n",
    "For example, we can get the `birthDate` using an attribute, but priniting that reveals it is also an object of type `fhirclient.models.fhirdate.FHIRDate`.  To get a human readable form of the date, we have to use an attribute of that object, `isostring`.  We can also get a python `Date` object as well.\n",
    "\n",
    "`patient.name` is an array of patient names.  This patient has one alias.  We access with array notation, to get the first (and only) alias.  Again we notice that it is an object of type `fhirclient.models.humanname.HumanName`.  We can call a method on the smart api to get a formatted version of the name using `smart.human_name()`.  We can also access individual components of the name.  Notice that the attribute `given` is also an array.  This accounts for cultures that give more than a first and middle name, which can commonly happen in Spanish, Arabic, and many other cultures or regions.  \n",
    "\n",
    "Documentation on object types can be found here: http://docs.smarthealthit.org/client-py/annotated.html.  You can use the search function to find the class documentation. HINT: Only search on the last part of the fully qualified object type, i.e. `Patient`, in order to get results.\n",
    "\n",
    "Finally, all objects inherit from `FHIRAbstractBase`, which includes a method to get the object as a json string using `as_json()`."
   ]
  },
  {
   "cell_type": "code",
   "execution_count": 2,
   "metadata": {},
   "outputs": [
    {
     "name": "stdout",
     "output_type": "stream",
     "text": [
      "\n",
      "Find out what object type this is: <fhirclient.models.patient.Patient object at 0x7efd8d722d30>\n",
      "\n",
      "Find out what object type this is: <fhirclient.models.fhirdate.FHIRDate object at 0x7efd8d6bda58>\n",
      "\n",
      "Get a datetime object from a date: <class 'datetime.date'> 1968-12-15\n",
      "\n",
      "Print the ISO form of the birthdate using an attribute of the object: 1968-12-15\n",
      "\n",
      "Find out what object type this is: [<fhirclient.models.identifier.Identifier object at 0x7efd8d25ccc0>]\n",
      "\n",
      "How many patient identifiers are there? 1\n",
      "\n",
      "The patient identifier attributes: smart-1213208\n",
      "\n",
      "Compare to this patient identifier: smart-1213208\n",
      "\n",
      "How many patient names are there? 1\n",
      "\n",
      "Find out the object type for the first name in the list: <fhirclient.models.humanname.HumanName object at 0x7efd8d25ce80>\n",
      "\n",
      "Use a smart utility to format the name: Brian Q Gracia\n",
      "\n",
      "Use attributes on the HumanName object to get name components: \n",
      "Family name:       Gracia \n",
      "First given name:  Brian \n",
      "Second given name: Q \n",
      "All given names:   Brian Q\n",
      "\n",
      "as json:\n",
      "{'id': 'smart-1213208', 'meta': {'lastUpdated': '2021-04-13T02:42:23.210-04:00', 'tag': [{'code': 'smart-7-2017', 'system': 'https://smarthealthit.org/tags'}], 'versionId': '7'}, 'text': {'div': '<div xmlns=\"http://www.w3.org/1999/xhtml\">Brian Gracia</div>', 'status': 'generated'}, 'active': True, 'address': [{'city': 'Bixby', 'country': 'USA', 'line': ['25 Church St'], 'postalCode': '74008', 'state': 'OK', 'use': 'home'}], 'birthDate': '1968-12-15', 'gender': 'male', 'generalPractitioner': [{'reference': 'Practitioner/smart-Practitioner-72080416'}], 'identifier': [{'system': 'http://hospital.smarthealthit.org', 'type': {'coding': [{'code': 'MR', 'display': 'Medical Record Number', 'system': 'http://hl7.org/fhir/v2/0203'}], 'text': 'Medical Record Number'}, 'use': 'official', 'value': 'smart-1213208'}], 'name': [{'family': 'Gracia', 'given': ['Brian', 'Q'], 'use': 'official'}], 'telecom': [{'system': 'phone', 'use': 'home', 'value': '800-504-7344'}, {'system': 'email', 'value': 'brian.gracia@example.com'}], 'resourceType': 'Patient'}\n"
     ]
    }
   ],
   "source": [
    "import fhirclient.models.patient as p\n",
    "\n",
    "settings = {\n",
    "    'app_id': 'my_web_app',\n",
    "    'api_base': 'https://r3.smarthealthit.org/'\n",
    "}\n",
    "smart = client.FHIRClient(settings=settings)\n",
    "\n",
    "patient = p.Patient.read('smart-1213208', smart.server)\n",
    "\n",
    "print('\\nFind out what object type this is:', patient)\n",
    "print('\\nFind out what object type this is:', patient.birthDate)\n",
    "print('\\nGet a datetime object from a date:', type(patient.birthDate.date), patient.birthDate.date)\n",
    "print('\\nPrint the ISO form of the birthdate using an attribute of the object:', patient.birthDate.isostring)\n",
    "\n",
    "print('\\nFind out what object type this is:', patient.identifier)\n",
    "print('\\nHow many patient identifiers are there?', len(patient.identifier))\n",
    "print('\\nThe patient identifier attributes:', ', '.join([i.value for i in patient.identifier]))\n",
    "print('\\nCompare to this patient identifier:', patient.id)\n",
    "\n",
    "print('\\nHow many patient names are there?', len(patient.name))\n",
    "print('\\nFind out the object type for the first name in the list:', patient.name[0])\n",
    "print('\\nUse a smart utility to format the name:', smart.human_name(patient.name[0]))\n",
    "print('\\nUse attributes on the HumanName object to get name components:', \n",
    "      '\\nFamily name:      ', patient.name[0].family, \n",
    "      '\\nFirst given name: ', patient.name[0].given[0], \n",
    "      '\\nSecond given name:', patient.name[0].given[1], \n",
    "      '\\nAll given names:  ', ' '.join(patient.name[0].given))\n",
    "\n",
    "print()\n",
    "print('as json:')\n",
    "print(patient.as_json())"
   ]
  },
  {
   "cell_type": "markdown",
   "metadata": {},
   "source": [
    "## Retrieve conditions\n",
    "Here we will retrieve conditions that have been documented for the patient.  Each condition will be of type `fhirclient.models.condition.Condition`.  The text is a `Narrative` object. This kind of object is represented as HTML, and might look like: \n",
    "```<div xmlns=\"http://www.w3.org/1999/xhtml\">Unspecified local infection of skin and subcutaneous tissue</div>```\n",
    "\n",
    "It can include html `<img>` tags and other rich media.  We get the `div` attribute of that object to see the narrative.  We use a python package called `BeautifulSoup` to extract the text from the div. [BeautifulSoup](https://beautiful-soup-4.readthedocs.io/en/latest/) is an html parsing engine."
   ]
  },
  {
   "cell_type": "code",
   "execution_count": 3,
   "metadata": {},
   "outputs": [
    {
     "name": "stdout",
     "output_type": "stream",
     "text": [
      "2012-11-03 : Unspecified local infection of skin and subcutaneous tissue\n",
      " raw html: <div xmlns=\"http://www.w3.org/1999/xhtml\">Unspecified local infection of skin and subcutaneous tissue</div>\n",
      "\n",
      "2012-11-07 : Joint effusion of the lower leg\n",
      " raw html: <div xmlns=\"http://www.w3.org/1999/xhtml\">Joint effusion of the lower leg</div>\n",
      "\n",
      "2012-11-05 : Cellulitis and abscess of leg\n",
      " raw html: <div xmlns=\"http://www.w3.org/1999/xhtml\">Cellulitis and abscess of leg</div>\n",
      "\n",
      "2012-11-07 : Lymphadenitis\n",
      " raw html: <div xmlns=\"http://www.w3.org/1999/xhtml\">Lymphadenitis</div>\n",
      "\n",
      "2012-11-05 : Gastro-esophageal reflux disease with esophagitis\n",
      " raw html: <div xmlns=\"http://www.w3.org/1999/xhtml\">Gastro-esophageal reflux disease with esophagitis</div>\n",
      "\n",
      "2012-11-07 : Abdominal pain\n",
      " raw html: <div xmlns=\"http://www.w3.org/1999/xhtml\">Abdominal pain</div>\n",
      "\n",
      "2012-12-18 : Cellulitis and abscess of face\n",
      " raw html: <div xmlns=\"http://www.w3.org/1999/xhtml\">Cellulitis and abscess of face</div>\n",
      "\n",
      "2012-08-12 : Neck pain\n",
      " raw html: <div xmlns=\"http://www.w3.org/1999/xhtml\">Neck pain</div>\n",
      "\n",
      "2012-08-12 : Spasm\n",
      " raw html: <div xmlns=\"http://www.w3.org/1999/xhtml\">Spasm</div>\n",
      "\n",
      "2012-11-05 : Benign essential hypertension\n",
      " raw html: <div xmlns=\"http://www.w3.org/1999/xhtml\">Benign essential hypertension</div>\n",
      "\n"
     ]
    }
   ],
   "source": [
    "import fhirclient.models.condition as c\n",
    "from bs4 import BeautifulSoup\n",
    "\n",
    "search = c.Condition.where(struct={'patient': patient.id})\n",
    "\n",
    "conditions = search.perform_resources(smart.server)\n",
    "for cond in conditions:\n",
    "    print(cond.onsetDateTime.isostring, ':', BeautifulSoup(cond.text.div).div.string)\n",
    "    print(' raw html:', cond.text.div)\n",
    "    print()\n"
   ]
  },
  {
   "cell_type": "markdown",
   "metadata": {},
   "source": [
    "## Accessing data as a bundle\n",
    "We can also get our list of conditions as a `Bundle` object.  In fact, any search can be retrieved as a `Bundle`.  The `entry` attributes returns a list of `BundleEntry` objects.  The `fullUrl` attribute will give a link to retrieve the information from a web interface.  The `resource` attribute gives you the `Condition` object that we used above."
   ]
  },
  {
   "cell_type": "code",
   "execution_count": 4,
   "metadata": {},
   "outputs": [
    {
     "name": "stdout",
     "output_type": "stream",
     "text": [
      "Click here to get the details from a web interface: https://r3.smarthealthit.org/Condition/smart-Condition-155\n",
      "\n",
      "This returns the same div tag as above <div xmlns=\"http://www.w3.org/1999/xhtml\">Unspecified local infection of skin and subcutaneous tissue</div>\n",
      "\n",
      "All the patients conditions\n",
      "  2012-11-03 Unspecified local infection of skin and subcutaneous tissue\n",
      "  2012-11-07 Joint effusion of the lower leg\n",
      "  2012-11-05 Cellulitis and abscess of leg\n",
      "  2012-11-07 Lymphadenitis\n",
      "  2012-11-05 Gastro-esophageal reflux disease with esophagitis\n",
      "  2012-11-07 Abdominal pain\n",
      "  2012-12-18 Cellulitis and abscess of face\n",
      "  2012-08-12 Neck pain\n",
      "  2012-08-12 Spasm\n",
      "  2012-11-05 Benign essential hypertension\n"
     ]
    }
   ],
   "source": [
    "bundle = search.perform(smart.server)\n",
    "\n",
    "print('Click here to get the details from a web interface:', bundle.entry[0].fullUrl)\n",
    "print()\n",
    "\n",
    "print(\"This returns the same div tag as above\", bundle.entry[0].resource.text.div)\n",
    "\n",
    "print()\n",
    "print(\"All the patients conditions\")\n",
    "# loop through them all (the same information retrieved above but through a Bundle)\n",
    "for e in bundle.entry:\n",
    "    print(' ', e.resource.onsetDateTime.isostring, BeautifulSoup(e.resource.text.div).div.string)"
   ]
  },
  {
   "cell_type": "markdown",
   "metadata": {},
   "source": [
    "## Retrieve procedures\n",
    "Retrieving procedures is similar, but with different objects.  A [`Procedure`](https://docs.smarthealthit.org/client-py/classfhirclient_1_1models_1_1procedure_1_1_procedure.html) object has a `code` attribute that is a [`CodeableConcept`](https://docs.smarthealthit.org/client-py/classfhirclient_1_1models_1_1codeableconcept_1_1_codeable_concept.html) object, which has a `coding` attribute, which is an array of [`Coding`](https://docs.smarthealthit.org/client-py/classfhirclient_1_1models_1_1coding_1_1_coding.html) objects.\n",
    "\n",
    "We are using the `where` method of the `Procedure` object to query for our patient's procedures.  This takes a python dictionary keyed by the attributes we want to search, and the values specify the values we want to search by.\n",
    "\n",
    "Refer to the documentation to see the attributes that are available for each of these classes.\n",
    "\n",
    "We are using this patient's conditions: `_id=7b697322-3607-46cb-a240-c081bccba2e5`\n",
    "\n",
    "Note that in the search, we specify the patient identifier so we only get encounters for that patient, along with the statuses that we want.  Note that the statuses are comma separated.  "
   ]
  },
  {
   "cell_type": "code",
   "execution_count": 5,
   "metadata": {},
   "outputs": [
    {
     "name": "stdout",
     "output_type": "stream",
     "text": [
      "Documentation of current medications\n",
      "  completed http://snomed.info/sct 428191000124101 Documentation of current medications\n",
      "Surgical manipulation of joint of knee\n",
      "  completed http://snomed.info/sct 699253003 Surgical manipulation of joint of knee\n",
      "Measurement of respiratory function (procedure)\n",
      "  completed http://snomed.info/sct 23426006 Measurement of respiratory function (procedure)\n",
      "Documentation of current medications\n",
      "  completed http://snomed.info/sct 428191000124101 Documentation of current medications\n"
     ]
    }
   ],
   "source": [
    "import fhirclient.models.procedure as p\n",
    "\n",
    "search = p.Procedure.where(struct={'patient': '7b697322-3607-46cb-a240-c081bccba2e5', 'status': 'completed,active'})\n",
    "procedures = search.perform_resources(smart.server)\n",
    "for procedure in procedures:\n",
    "    print(procedure.code.text)\n",
    "    print(' ', procedure.status, procedure.code.coding[0].system, procedure.code.coding[0].code, procedure.code.coding[0].display)\n"
   ]
  },
  {
   "cell_type": "markdown",
   "metadata": {},
   "source": [
    "## Retrieve encounters\n",
    "Encounters describe when the clinic or hospital saw a patient.  They can be outpatient, inpatient, emergency, etc.  This is the same basic approach as we used to get procedures, but with new objects.\n",
    "\n",
    "`type` is an array of `CodeableConcept`, which we saw above.\n",
    "\n",
    "`period` is a `Period` object which describes the `start` and `end` of the encounter.  Search for this class definition here: https://docs.smarthealthit.org/client-py/annotated.html\n",
    "\n",
    "`reason` is an array of `CodeableConcept`.  Here we can see that we have to handle instances where an encounter may not have a reason entered.\n"
   ]
  },
  {
   "cell_type": "code",
   "execution_count": 6,
   "metadata": {},
   "outputs": [
    {
     "name": "stdout",
     "output_type": "stream",
     "text": [
      "\n",
      "Contact dermatitis http://snomed.info/sct 40275004\n",
      "  status: finished start: 2014-05-20T17:14:09Z end: 2014-05-20T17:14:09Z\n",
      "  http://snomed.info/sct Encounter for problem 185347001\n",
      "\n",
      "No reason provided\n",
      "  status: finished start: 2014-05-22T18:20:14Z end: 2014-05-22T18:20:14Z\n",
      "  http://snomed.info/sct Encounter for problem 185347001\n",
      "\n",
      "No reason provided\n",
      "  status: finished start: 2018-04-02T22:25:55Z end: 2018-04-02T23:25:55Z\n",
      "  http://snomed.info/sct Outpatient Encounter 185349003\n",
      "\n",
      "No reason provided\n",
      "  status: finished start: 2013-11-16T02:31:37Z end: 2013-11-16T02:31:37Z\n",
      "  http://snomed.info/sct Emergency room admission 50849002\n",
      "\n",
      "Acute bronchitis (disorder) http://snomed.info/sct 10509002\n",
      "  status: finished start: 2013-12-29T08:08:01Z end: 2013-12-29T08:24:56Z\n",
      "  http://snomed.info/sct Encounter for symptom 185345009\n",
      "\n",
      "Viral sinusitis (disorder) http://snomed.info/sct 444814009\n",
      "  status: finished start: 2011-01-17T23:07:27Z end: 2011-01-17T23:07:27Z\n",
      "  http://snomed.info/sct Encounter for symptom 185345009\n",
      "\n",
      "No reason provided\n",
      "  status: finished start: 2012-04-02T19:32:08Z end: 2012-04-02T20:32:08Z\n",
      "  http://snomed.info/sct Outpatient Encounter 185349003\n",
      "\n",
      "Rupture of patellar tendon http://snomed.info/sct 30832001\n",
      "  status: finished start: 2013-11-23T02:31:37Z end: 2013-11-23T04:53:31Z\n",
      "  http://snomed.info/sct Non-urgent orthopedic admission 183495009\n",
      "\n",
      "No reason provided\n",
      "  status: finished start: 2010-04-02T18:08:34Z end: 2010-04-02T19:08:34Z\n",
      "  http://snomed.info/sct Outpatient Encounter 185349003\n",
      "\n",
      "Viral sinusitis (disorder) http://snomed.info/sct 444814009\n",
      "  status: finished start: 2018-05-11T20:11:44Z end: 2018-05-11T20:11:44Z\n",
      "  http://snomed.info/sct Encounter for symptom 185345009\n",
      "\n",
      "Sinusitis (disorder) http://snomed.info/sct 36971009\n",
      "  status: finished start: 2016-06-26T05:43:13Z end: 2018-05-11T20:11:44Z\n",
      "  http://snomed.info/sct Encounter for symptom 185345009\n",
      "\n",
      "No reason provided\n",
      "  status: finished start: 2011-04-23T12:08:44Z end: 2011-04-23T13:08:44Z\n",
      "  http://snomed.info/sct Outpatient Encounter 185349003\n",
      "\n",
      "No reason provided\n",
      "  status: finished start: 2015-03-26T13:59:51Z end: 2015-03-26T14:59:51Z\n",
      "  http://snomed.info/sct Outpatient Encounter 185349003\n",
      "\n",
      "Sinusitis (disorder) http://snomed.info/sct 36971009\n",
      "  status: finished start: 2016-04-07T21:44:16Z end: 2016-04-07T21:44:16Z\n",
      "  http://snomed.info/sct Encounter for symptom 185345009\n",
      "\n",
      "Acute viral pharyngitis (disorder) http://snomed.info/sct 195662009\n",
      "  status: finished start: 2010-05-31T02:14:20Z end: 2010-05-31T02:14:20Z\n",
      "  http://snomed.info/sct Encounter for symptom 185345009\n",
      "\n",
      "Sinusitis (disorder) http://snomed.info/sct 36971009\n",
      "  status: finished start: 2016-06-19T05:43:13Z end: 2016-06-19T05:43:13Z\n",
      "  http://snomed.info/sct Encounter for symptom 185345009\n"
     ]
    }
   ],
   "source": [
    "import fhirclient.models.encounter as e\n",
    "\n",
    "search = e.Encounter.where(struct={'patient': '7b697322-3607-46cb-a240-c081bccba2e5'})\n",
    "encntrs = search.perform_resources(smart.server)\n",
    "for encntr in encntrs:\n",
    "    print()\n",
    "    if encntr.reason:\n",
    "        print(encntr.reason[0].coding[0].display, encntr.reason[0].coding[0].system, encntr.reason[0].coding[0].code)\n",
    "    else:\n",
    "        print('No reason provided')\n",
    "    print(' ', 'status:', encntr.status, 'start:', encntr.period.start.isostring, 'end:', encntr.period.end.isostring)\n",
    "    print(' ', encntr.type[0].coding[0].system, encntr.type[0].text, encntr.type[0].coding[0].code)\n"
   ]
  },
  {
   "cell_type": "markdown",
   "metadata": {},
   "source": [
    "## Conditional searches\n",
    "Resources can be returned using less than and greater than, plus other conditional logic.  The search structure is a little bit different, and is similar to the search structure used for NoSQL databases like MongoDB.\n",
    "\n",
    "These are the operators that are supported:\n",
    "\n",
    "|term|description|\n",
    "|---|---|\n",
    "| `$eq` | Match the values that are equal to a specified value. |\n",
    "| `$gt` | Match the values that are greater than a specified value. |\n",
    "| `$gte` | Match all the values that are greater than or equal to a specified value. |\n",
    "| `$lt` | Match all the values that are less than a specified value. |\n",
    "| `$lte` | Match all the values that are less than or equal to a specified value. |\n",
    "| `$ne` | Match all the values that are not equal to a specified value. |\n",
    "\n",
    "We will search encounters for the above patient that are newer than January 1, 2015.  We also introduce a new method of searching by a reference id, using the `subject` parameter rather than specifying the `patient` parameter.  This will search for any reference object that matches the passed identifier (which may not always be a patient id).\n",
    "\n",
    "Date and date times are passed as strings, and must be in the following format:\n",
    "\n",
    "`yyyy-mm-ddThh:mm:ss[Z|(+|-)hh:mm]`\n",
    "\n",
    "See [here](https://www.hl7.org/fhir/search.html#date) for more info on date time formats, paying attention to the following: \"Any degree of precision can be provided, but it SHALL be populated from the left (e.g. can't specify a month without a year), except that the minutes SHALL be present if an hour is present, and you SHOULD provide a time zone if the time part is present. Note: Time can consist of hours and minutes with no seconds\")\n",
    "\n",
    "If a mistake is made in the query, you will receive an error such as the following:\n",
    "\n",
    "```\n",
    "HTTPError: 400 Client Error: Bad Request for url: https://r3.smarthealthit.org/Encounter?patient=7b697322-3607-46cb-a240-c081bccba2e5&Date=%3E2015-01-01\n",
    "```\n",
    "Clicking on that link will provide more information on the cause of the error. (In this case, the `date` search term was mistakenly capitalized.  Search terms are case sensitive)\n",
    "\n",
    "Search parameters are documented here:\n",
    "http://hl7.org/fhir/searchparameter-registry.html"
   ]
  },
  {
   "cell_type": "code",
   "execution_count": 7,
   "metadata": {},
   "outputs": [
    {
     "name": "stdout",
     "output_type": "stream",
     "text": [
      "\n",
      "No reason provided\n",
      "  status: finished start: 2018-04-02T22:25:55Z end: 2018-04-02T23:25:55Z\n",
      "  http://snomed.info/sct Outpatient Encounter 185349003\n",
      "\n",
      "Viral sinusitis (disorder) http://snomed.info/sct 444814009\n",
      "  status: finished start: 2018-05-11T20:11:44Z end: 2018-05-11T20:11:44Z\n",
      "  http://snomed.info/sct Encounter for symptom 185345009\n",
      "\n",
      "Sinusitis (disorder) http://snomed.info/sct 36971009\n",
      "  status: finished start: 2016-06-26T05:43:13Z end: 2018-05-11T20:11:44Z\n",
      "  http://snomed.info/sct Encounter for symptom 185345009\n",
      "\n",
      "No reason provided\n",
      "  status: finished start: 2015-03-26T13:59:51Z end: 2015-03-26T14:59:51Z\n",
      "  http://snomed.info/sct Outpatient Encounter 185349003\n",
      "\n",
      "Sinusitis (disorder) http://snomed.info/sct 36971009\n",
      "  status: finished start: 2016-04-07T21:44:16Z end: 2016-04-07T21:44:16Z\n",
      "  http://snomed.info/sct Encounter for symptom 185345009\n",
      "\n",
      "Sinusitis (disorder) http://snomed.info/sct 36971009\n",
      "  status: finished start: 2016-06-19T05:43:13Z end: 2016-06-19T05:43:13Z\n",
      "  http://snomed.info/sct Encounter for symptom 185345009\n"
     ]
    }
   ],
   "source": [
    "search = e.Encounter.where(struct={'subject': '7b697322-3607-46cb-a240-c081bccba2e5', \n",
    "                                   'date': {'$gt': '2015-01-01'}})\n",
    "encntrs = search.perform_resources(smart.server)\n",
    "for encntr in encntrs:\n",
    "    print()\n",
    "    if encntr.reason:\n",
    "        print(encntr.reason[0].coding[0].display, encntr.reason[0].coding[0].system, encntr.reason[0].coding[0].code)\n",
    "    else:\n",
    "        print('No reason provided')\n",
    "    print(' ', 'status:', encntr.status, 'start:', encntr.period.start.isostring, 'end:', encntr.period.end.isostring)\n",
    "    print(' ', encntr.type[0].coding[0].system, encntr.type[0].text, encntr.type[0].coding[0].code)\n"
   ]
  },
  {
   "cell_type": "markdown",
   "metadata": {},
   "source": [
    "## Additional data available\n",
    "There are many other types of data accessible through a FHIR interface.  All data access would follow a similar path as this, using different types of objects along the way, which can be looked up in the [online documentation](http://docs.smarthealthit.org/client-py/)."
   ]
  }
 ],
 "metadata": {
  "kernelspec": {
   "display_name": "Python 3",
   "language": "python",
   "name": "python3"
  },
  "language_info": {
   "codemirror_mode": {
    "name": "ipython",
    "version": 3
   },
   "file_extension": ".py",
   "mimetype": "text/x-python",
   "name": "python",
   "nbconvert_exporter": "python",
   "pygments_lexer": "ipython3",
   "version": "3.7.3"
  }
 },
 "nbformat": 4,
 "nbformat_minor": 2
}
