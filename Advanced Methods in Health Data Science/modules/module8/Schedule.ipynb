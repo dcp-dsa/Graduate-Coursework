{
 "cells": [
  {
   "cell_type": "markdown",
   "metadata": {},
   "source": [
    "# Module 8: Association Rule Mining"
   ]
  },
  {
   "cell_type": "markdown",
   "metadata": {},
   "source": [
    "In this final module of the course, we will learn about frequent pattern mining and association rule mining (ARM).  These two techniques go hand in hand, and are useful for data mining and hypothesis generation.  Given a data set, ARM can be used to discover associated features that can in turn be modeled using machine learning or statistical approaches.  \n"
   ]
  },
  {
   "cell_type": "markdown",
   "metadata": {},
   "source": [
    "## Module Topics\n",
    "1. Frequent Pattern Mining\n",
    "1. Association Rule Mining\n"
   ]
  },
  {
   "cell_type": "markdown",
   "metadata": {},
   "source": [
    "## Lectures\n",
    "Lectures are available on the Canvas site for this course, and cover the following topics:\n",
    "\n",
    "1. Frequent Pattern Mining and Association Rule Mining\n"
   ]
  },
  {
   "cell_type": "markdown",
   "metadata": {},
   "source": [
    "## Reading and Videos\n",
    "* [Mining association rules between sets of items in large databases](resources/Mining-association-rules-between-sets-of-items-in-large-databases.pdf)\n"
   ]
  },
  {
   "cell_type": "markdown",
   "metadata": {},
   "source": [
    "## Labs\n",
    "* [Lab 1 - Frequent Pattern Mining and Association Rule Mining](labs/lab-08-01.ipynb)\n",
    "* [Lab 2 - Filtering association rules](labs/lab-08-02.ipynb)\n",
    "* [Lab 3 - Scikit-learn preprocessing for itemization](labs/lab-08-03.ipynb)\n"
   ]
  },
  {
   "cell_type": "markdown",
   "metadata": {},
   "source": [
    "## Practices\n",
    "  * [Practice 1 - Association Rule Mining](practices/practice-08-01.ipynb) ([answers](practices/practice-answers-08-01.ipynb))"
   ]
  },
  {
   "cell_type": "markdown",
   "metadata": {},
   "source": [
    "## Exercises\n",
    "* [Exercise 1 - Feature selection for breast cancer survival using association rule mining](exercises/exercise-08-01.ipynb)"
   ]
  },
  {
   "cell_type": "markdown",
   "metadata": {},
   "source": [
    "## Submitting your work\n",
    "\n",
    "#### Steps:\n",
    "1. Open Terminal in JupyterHub\n",
    "2. Change into the course folder\n",
    "3. Stage (Git Add) all work from the module \n",
    "    * `git add modules/module8`\n",
    "    * `git add output`\n",
    "4. Create your work snapshot (Git Commit)\n",
    "    * `git commit -m \"Module 8 submission\"`\n",
    "5. Upload the snapshot to the server (Git Push) \n",
    "    * `git push`\n"
   ]
  }
 ],
 "metadata": {
  "kernelspec": {
   "display_name": "Python 3",
   "language": "python",
   "name": "python3"
  },
  "language_info": {
   "codemirror_mode": {
    "name": "ipython",
    "version": 3
   },
   "file_extension": ".py",
   "mimetype": "text/x-python",
   "name": "python",
   "nbconvert_exporter": "python",
   "pygments_lexer": "ipython3",
   "version": "3.7.3"
  }
 },
 "nbformat": 4,
 "nbformat_minor": 2
}
