{
 "cells": [
  {
   "cell_type": "markdown",
   "metadata": {},
   "source": [
    "# Module 8 Practice 1 Answers - Association Rule Mining\n",
    "We will practice skills related to association rule mining."
   ]
  },
  {
   "cell_type": "code",
   "execution_count": null,
   "metadata": {},
   "outputs": [],
   "source": [
    "import pandas as pd\n",
    "import numpy as np\n",
    "import sys\n",
    "!{sys.executable} -m pip install mlxtend\n",
    "import mlxtend\n",
    "\n",
    "pd.set_option('display.max_columns', 0)\n",
    "pd.set_option('max_colwidth', 0)"
   ]
  },
  {
   "cell_type": "markdown",
   "metadata": {},
   "source": [
    "## Load the breast cancer data set\n",
    "Load the bunch.  No need to place data and target into a dataframe, yet."
   ]
  },
  {
   "cell_type": "code",
   "execution_count": null,
   "metadata": {
    "scrolled": true
   },
   "outputs": [],
   "source": [
    "import sklearn.datasets as d\n",
    "\n",
    "bc = d.load_breast_cancer()\n",
    "print(bc.DESCR)\n"
   ]
  },
  {
   "cell_type": "markdown",
   "metadata": {},
   "source": [
    "## Bin the features\n",
    "All of this data is continuous except the target, so bin them using kmeans into 3 buckets.  Create a new data frame named `binned_data` that contains the binned data plus the target.  Set the type of all columns to int."
   ]
  },
  {
   "cell_type": "code",
   "execution_count": null,
   "metadata": {
    "scrolled": true
   },
   "outputs": [],
   "source": [
    "from sklearn import preprocessing\n",
    "\n",
    "kmeans_data = preprocessing.KBinsDiscretizer(n_bins=3, encode='ordinal', strategy='kmeans').fit_transform(bc.data)\n",
    "binned_data = pd.DataFrame(np.c_[kmeans_data,bc.target], columns = np.append(bc.feature_names, ['target']), dtype=int)\n",
    "display(binned_data.head())"
   ]
  },
  {
   "cell_type": "markdown",
   "metadata": {},
   "source": [
    "## Prepare to find the frequent itemsets\n",
    "We have to one hot encode all of the features.  Assign the one hot encoded dataframe to a new dataframe named `onehot`"
   ]
  },
  {
   "cell_type": "code",
   "execution_count": null,
   "metadata": {
    "scrolled": true
   },
   "outputs": [],
   "source": [
    "onehot = pd.get_dummies(binned_data, columns = binned_data.columns)\n",
    "display(onehot.head())"
   ]
  },
  {
   "cell_type": "markdown",
   "metadata": {},
   "source": [
    "## Get the frequent itemsets\n",
    "Display the frequent itemsets where there are at least 10 items.  Use a min_support of 0.4.\n",
    "Warning! Using a very low min_support with a dataset that has many features can be very slow using the apriori method.  Using a lower support will cause the notebook to run for a long time.\n",
    "\n",
    "This step will take a minute or so to run."
   ]
  },
  {
   "cell_type": "code",
   "execution_count": null,
   "metadata": {},
   "outputs": [],
   "source": [
    "from mlxtend.frequent_patterns import apriori\n",
    "\n",
    "frequent_itemsets = apriori(onehot, min_support=0.4, use_colnames=True)\n",
    "\n",
    "mask = [True if len(x) >= 10 else False for x in frequent_itemsets.itemsets.values]\n",
    "frequent_itemsets[mask]"
   ]
  },
  {
   "cell_type": "markdown",
   "metadata": {},
   "source": [
    "## Get the association rules\n",
    "Using the frequent itemsets, get association rules for which the conviction threshold is at least 10.  This step will take a minute or two."
   ]
  },
  {
   "cell_type": "code",
   "execution_count": null,
   "metadata": {
    "scrolled": true
   },
   "outputs": [],
   "source": [
    "from mlxtend.frequent_patterns import association_rules\n",
    "\n",
    "rules = association_rules(frequent_itemsets, metric=\"conviction\", min_threshold=10)\n",
    "display(rules)"
   ]
  },
  {
   "cell_type": "markdown",
   "metadata": {},
   "source": [
    "## Find interesting rules\n",
    "Find and count all of the rules where the target variable is the only consequent item. \n",
    "\n",
    "(Do not display them all, as there will be many rules)"
   ]
  },
  {
   "cell_type": "code",
   "execution_count": null,
   "metadata": {},
   "outputs": [],
   "source": [
    "target_names = [x for x in onehot.columns if 'target' in x]\n",
    "\n",
    "mask = [True if c.intersection(target_names) and len(c) == 1 else False for c in rules.consequents.values]\n",
    "target_rules = rules[mask]\n",
    "display(target_rules)"
   ]
  },
  {
   "cell_type": "markdown",
   "metadata": {},
   "source": [
    "## Use the rules for feature selection\n",
    "Find all the features that are associated with a consequent that contains only target"
   ]
  },
  {
   "cell_type": "code",
   "execution_count": null,
   "metadata": {},
   "outputs": [],
   "source": [
    "frozenset.union(*target_rules['antecedents'])\n"
   ]
  }
 ],
 "metadata": {
  "kernelspec": {
   "display_name": "Python 3",
   "language": "python",
   "name": "python3"
  },
  "language_info": {
   "codemirror_mode": {
    "name": "ipython",
    "version": 3
   },
   "file_extension": ".py",
   "mimetype": "text/x-python",
   "name": "python",
   "nbconvert_exporter": "python",
   "pygments_lexer": "ipython3",
   "version": "3.7.3"
  }
 },
 "nbformat": 4,
 "nbformat_minor": 2
}
