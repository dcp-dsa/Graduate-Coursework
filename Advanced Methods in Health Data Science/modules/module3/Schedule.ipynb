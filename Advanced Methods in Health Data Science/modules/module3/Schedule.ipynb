{
 "cells": [
  {
   "cell_type": "markdown",
   "metadata": {},
   "source": [
    "# Module 3: Time series analysis and mixed models\n"
   ]
  },
  {
   "cell_type": "markdown",
   "metadata": {},
   "source": [
    "In this module we will continue to learn about methods for analyzing longitudinal data.  We will take a look at time series data, which is a special variant of longitudinal data, and also take a look at linear mixed-effects models (LMMs).\n",
    "\n",
    "There are accompanying lectures for these topic available on Canvas.  In this module, you will have three labs covering time series data and LMMs, two practices exercises, and two graded exercises."
   ]
  },
  {
   "cell_type": "markdown",
   "metadata": {},
   "source": [
    "## Module Topics\n",
    "1. Univariate time series analysis\n",
    "1. Linear Mixed-effects Modeling\n"
   ]
  },
  {
   "cell_type": "markdown",
   "metadata": {},
   "source": [
    "## Lectures\n",
    "Lectures are available on the Canvas site for this course, and cover the following topics:\n",
    "\n",
    "1. Univariate time series analysis\n",
    "1. Linear Mixed-effects Modeling\n"
   ]
  },
  {
   "cell_type": "markdown",
   "metadata": {},
   "source": [
    "## Labs\n",
    "* [Lab 1 - Univariate Time Series Analysis](labs/lab-03-01.ipynb)\n",
    "* [Lab 2 - Linear Mixed-effects Models (LMM)](labs/lab-03-02.ipynb)\n",
    "* [Lab 3 - Longitudinal data and sampling](labs/lab-03-03.ipynb)\n"
   ]
  },
  {
   "cell_type": "markdown",
   "metadata": {},
   "source": [
    "## Practices\n",
    "  * [Practice 1 - Birth Data Analysis by month](practices/practice-03-01.ipynb) ([answers](practices/practice-answers-03-01.ipynb))\n",
    "  * [Practice 2 - Mixed effects in longitudinal blood pressure data](practices/practice-03-02.ipynb) ([answers](practices/practice-answers-03-02.ipynb))"
   ]
  },
  {
   "cell_type": "markdown",
   "metadata": {},
   "source": [
    "## Exercises\n",
    "* [Exercise 1 - A time series analysis of positive influenza tests from 1998 to 2019](exercises/exercise-03-01.ipynb)\n"
   ]
  },
  {
   "cell_type": "markdown",
   "metadata": {},
   "source": [
    "## Quiz\n",
    "* See the canvas course module 3 for the quizzes for this week.  You must do each exercise prior to completing its quiz."
   ]
  },
  {
   "cell_type": "markdown",
   "metadata": {},
   "source": [
    "## Submitting your work\n",
    "\n",
    "#### Steps:\n",
    "1. Open Terminal in JupyterHub\n",
    "2. Change into the course folder\n",
    "3. Stage (Git Add) all work from the module \n",
    "    * `git add modules/module3`\n",
    "    * `git add output`\n",
    "4. Create your work snapshot (Git Commit)\n",
    "    * `git commit -m \"Module 3 submission\"`\n",
    "5. Upload the snapshot to the server (Git Push) \n",
    "    * `git push`\n"
   ]
  }
 ],
 "metadata": {
  "kernelspec": {
   "display_name": "Python 3",
   "language": "python",
   "name": "python3"
  },
  "language_info": {
   "codemirror_mode": {
    "name": "ipython",
    "version": 3
   },
   "file_extension": ".py",
   "mimetype": "text/x-python",
   "name": "python",
   "nbconvert_exporter": "python",
   "pygments_lexer": "ipython3",
   "version": "3.7.3"
  }
 },
 "nbformat": 4,
 "nbformat_minor": 2
}
