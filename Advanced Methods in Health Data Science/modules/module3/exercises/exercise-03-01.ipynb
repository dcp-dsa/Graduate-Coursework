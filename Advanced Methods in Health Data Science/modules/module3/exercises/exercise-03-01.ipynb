{
 "cells": [
  {
   "cell_type": "markdown",
   "metadata": {},
   "source": [
    "# Module 3 Exercise 1 - A time series analysis of positive influenza tests from 1998 to 2019\n",
    "\n",
    "## Overview\n",
    "In this exercise, you will perform a time series analysis on verified influenza infection rates in the United States between 1998 and 2019.\n",
    "\n",
    "## File Format\n",
    "\n",
    "The data are located in the resources subfolder of module 3, in a file named `positive-influenza-specimens-1998-2019.csv`.\n",
    "\n",
    "Documentation on the dataset is [here](../resources/positive-influenza-specimens-1998-2019.txt).\n",
    "\n",
    "## Required Output\n",
    "Along with the output of this notebook, you will respond to the questions located in the Quiz for this exercise in the Canvas site for this course.\n",
    "        \n",
    "## Grading\n",
    "There are two parts to submission of this exercise. The first is submission of this notebook, and is worth 49 points. Not submitting code will result in a loss of 49 points. Submitting code that is not functional will result in a loss of 25 points.  \n",
    "\n",
    "There are a number of plots required to be created in the notebook.  Each plot that is required has a point total next to it.  There are 39 total points for plots.  Plots will be assessed for correctness, but not style. An incorrect plot will be counted for half the available points.  A missing plot will be counted for no points.\n",
    "\n",
    "The second part of the exercise is submission of the answers via the associated Canvas quiz. Each correct answer on the Canvas Quiz is worth 2 points.\n",
    "\n",
    "Any numeric answer typed into Canvas will be considered correct if it is within $\\pm$ 1% from the reference answer.  Answers in which you select a given choice will be graded based on the identified correct choice(s).  For multi-select, partial credit is given if a portion of the correct answers are selected.\n",
    "\n"
   ]
  },
  {
   "cell_type": "code",
   "execution_count": 2,
   "metadata": {},
   "outputs": [
    {
     "name": "stdout",
     "output_type": "stream",
     "text": [
      "Collecting statsmodels==0.11\n",
      "\u001b[?25l  Downloading https://files.pythonhosted.org/packages/4d/a6/685d3ed1e1de53d2c19f8dd76ac03cbd144302a9ab59a743308d69aba3c9/statsmodels-0.11.0-cp37-cp37m-manylinux1_x86_64.whl (8.7MB)\n",
      "\u001b[K     |████████████████████████████████| 8.7MB 2.3MB/s eta 0:00:01\n",
      "\u001b[?25hRequirement already satisfied, skipping upgrade: scipy>=1.0 in /opt/conda/lib/python3.7/site-packages (from statsmodels==0.11) (1.2.1)\n",
      "Requirement already satisfied, skipping upgrade: pandas>=0.21 in /opt/conda/lib/python3.7/site-packages (from statsmodels==0.11) (0.25.2)\n",
      "Requirement already satisfied, skipping upgrade: numpy>=1.14 in /opt/conda/lib/python3.7/site-packages (from statsmodels==0.11) (1.17.3)\n",
      "Requirement already satisfied, skipping upgrade: patsy>=0.5 in /opt/conda/lib/python3.7/site-packages (from statsmodels==0.11) (0.5.1)\n",
      "Requirement already satisfied, skipping upgrade: pytz>=2017.2 in /opt/conda/lib/python3.7/site-packages (from pandas>=0.21->statsmodels==0.11) (2019.2)\n",
      "Requirement already satisfied, skipping upgrade: python-dateutil>=2.6.1 in /opt/conda/lib/python3.7/site-packages (from pandas>=0.21->statsmodels==0.11) (2.8.0)\n",
      "Requirement already satisfied, skipping upgrade: six in /opt/conda/lib/python3.7/site-packages (from patsy>=0.5->statsmodels==0.11) (1.12.0)\n",
      "Installing collected packages: statsmodels\n",
      "  Found existing installation: statsmodels 0.9.0\n",
      "    Uninstalling statsmodels-0.9.0:\n",
      "      Successfully uninstalled statsmodels-0.9.0\n",
      "Successfully installed statsmodels-0.11.0\n"
     ]
    }
   ],
   "source": [
    "import pandas as pd\n",
    "import numpy as np\n",
    "import matplotlib.pyplot as plt\n",
    "import sys\n",
    "!{sys.executable} -m pip install --upgrade \"statsmodels==0.11\""
   ]
  },
  {
   "cell_type": "code",
   "execution_count": 3,
   "metadata": {},
   "outputs": [],
   "source": [
    "plt.rcParams[\"figure.figsize\"] = [10, 5]"
   ]
  },
  {
   "cell_type": "markdown",
   "metadata": {},
   "source": [
    "## Load the data"
   ]
  },
  {
   "cell_type": "code",
   "execution_count": 4,
   "metadata": {},
   "outputs": [
    {
     "data": {
      "text/html": [
       "<div>\n",
       "<style scoped>\n",
       "    .dataframe tbody tr th:only-of-type {\n",
       "        vertical-align: middle;\n",
       "    }\n",
       "\n",
       "    .dataframe tbody tr th {\n",
       "        vertical-align: top;\n",
       "    }\n",
       "\n",
       "    .dataframe thead th {\n",
       "        text-align: right;\n",
       "    }\n",
       "</style>\n",
       "<table border=\"1\" class=\"dataframe\">\n",
       "  <thead>\n",
       "    <tr style=\"text-align: right;\">\n",
       "      <th></th>\n",
       "      <th>Year</th>\n",
       "      <th>Week</th>\n",
       "      <th>Age Group</th>\n",
       "      <th>A (H1)</th>\n",
       "      <th>A (Unable to Subtype)</th>\n",
       "      <th>A (H3)</th>\n",
       "      <th>A (H1N1)pdm09</th>\n",
       "      <th>A (Subtyping not Performed)</th>\n",
       "      <th>B (Victoria Lineage)</th>\n",
       "      <th>B (Yamagata Lineage)</th>\n",
       "      <th>B (Lineage Unspecified)</th>\n",
       "      <th>H3N2v</th>\n",
       "    </tr>\n",
       "  </thead>\n",
       "  <tbody>\n",
       "    <tr>\n",
       "      <th>0</th>\n",
       "      <td>1998</td>\n",
       "      <td>1</td>\n",
       "      <td>0-4 yr</td>\n",
       "      <td>0</td>\n",
       "      <td>0</td>\n",
       "      <td>25</td>\n",
       "      <td>0</td>\n",
       "      <td>11</td>\n",
       "      <td>0</td>\n",
       "      <td>0</td>\n",
       "      <td>0</td>\n",
       "      <td>0</td>\n",
       "    </tr>\n",
       "    <tr>\n",
       "      <th>1</th>\n",
       "      <td>1998</td>\n",
       "      <td>2</td>\n",
       "      <td>0-4 yr</td>\n",
       "      <td>0</td>\n",
       "      <td>0</td>\n",
       "      <td>37</td>\n",
       "      <td>0</td>\n",
       "      <td>8</td>\n",
       "      <td>0</td>\n",
       "      <td>0</td>\n",
       "      <td>0</td>\n",
       "      <td>0</td>\n",
       "    </tr>\n",
       "    <tr>\n",
       "      <th>2</th>\n",
       "      <td>1998</td>\n",
       "      <td>3</td>\n",
       "      <td>0-4 yr</td>\n",
       "      <td>0</td>\n",
       "      <td>0</td>\n",
       "      <td>78</td>\n",
       "      <td>0</td>\n",
       "      <td>18</td>\n",
       "      <td>0</td>\n",
       "      <td>0</td>\n",
       "      <td>0</td>\n",
       "      <td>0</td>\n",
       "    </tr>\n",
       "    <tr>\n",
       "      <th>3</th>\n",
       "      <td>1998</td>\n",
       "      <td>4</td>\n",
       "      <td>0-4 yr</td>\n",
       "      <td>0</td>\n",
       "      <td>0</td>\n",
       "      <td>80</td>\n",
       "      <td>0</td>\n",
       "      <td>26</td>\n",
       "      <td>0</td>\n",
       "      <td>0</td>\n",
       "      <td>0</td>\n",
       "      <td>0</td>\n",
       "    </tr>\n",
       "    <tr>\n",
       "      <th>4</th>\n",
       "      <td>1998</td>\n",
       "      <td>5</td>\n",
       "      <td>0-4 yr</td>\n",
       "      <td>0</td>\n",
       "      <td>0</td>\n",
       "      <td>68</td>\n",
       "      <td>0</td>\n",
       "      <td>22</td>\n",
       "      <td>0</td>\n",
       "      <td>0</td>\n",
       "      <td>0</td>\n",
       "      <td>0</td>\n",
       "    </tr>\n",
       "    <tr>\n",
       "      <th>5</th>\n",
       "      <td>1998</td>\n",
       "      <td>6</td>\n",
       "      <td>0-4 yr</td>\n",
       "      <td>1</td>\n",
       "      <td>0</td>\n",
       "      <td>60</td>\n",
       "      <td>0</td>\n",
       "      <td>19</td>\n",
       "      <td>0</td>\n",
       "      <td>0</td>\n",
       "      <td>1</td>\n",
       "      <td>0</td>\n",
       "    </tr>\n",
       "    <tr>\n",
       "      <th>6</th>\n",
       "      <td>1998</td>\n",
       "      <td>7</td>\n",
       "      <td>0-4 yr</td>\n",
       "      <td>0</td>\n",
       "      <td>0</td>\n",
       "      <td>26</td>\n",
       "      <td>0</td>\n",
       "      <td>2</td>\n",
       "      <td>0</td>\n",
       "      <td>0</td>\n",
       "      <td>0</td>\n",
       "      <td>0</td>\n",
       "    </tr>\n",
       "    <tr>\n",
       "      <th>7</th>\n",
       "      <td>1998</td>\n",
       "      <td>8</td>\n",
       "      <td>0-4 yr</td>\n",
       "      <td>0</td>\n",
       "      <td>0</td>\n",
       "      <td>15</td>\n",
       "      <td>0</td>\n",
       "      <td>5</td>\n",
       "      <td>0</td>\n",
       "      <td>0</td>\n",
       "      <td>0</td>\n",
       "      <td>0</td>\n",
       "    </tr>\n",
       "    <tr>\n",
       "      <th>8</th>\n",
       "      <td>1998</td>\n",
       "      <td>9</td>\n",
       "      <td>0-4 yr</td>\n",
       "      <td>0</td>\n",
       "      <td>0</td>\n",
       "      <td>11</td>\n",
       "      <td>0</td>\n",
       "      <td>2</td>\n",
       "      <td>0</td>\n",
       "      <td>0</td>\n",
       "      <td>0</td>\n",
       "      <td>0</td>\n",
       "    </tr>\n",
       "    <tr>\n",
       "      <th>9</th>\n",
       "      <td>1998</td>\n",
       "      <td>10</td>\n",
       "      <td>0-4 yr</td>\n",
       "      <td>0</td>\n",
       "      <td>0</td>\n",
       "      <td>9</td>\n",
       "      <td>0</td>\n",
       "      <td>1</td>\n",
       "      <td>0</td>\n",
       "      <td>0</td>\n",
       "      <td>1</td>\n",
       "      <td>0</td>\n",
       "    </tr>\n",
       "    <tr>\n",
       "      <th>10</th>\n",
       "      <td>1998</td>\n",
       "      <td>11</td>\n",
       "      <td>0-4 yr</td>\n",
       "      <td>0</td>\n",
       "      <td>0</td>\n",
       "      <td>5</td>\n",
       "      <td>0</td>\n",
       "      <td>4</td>\n",
       "      <td>0</td>\n",
       "      <td>0</td>\n",
       "      <td>1</td>\n",
       "      <td>0</td>\n",
       "    </tr>\n",
       "    <tr>\n",
       "      <th>11</th>\n",
       "      <td>1998</td>\n",
       "      <td>12</td>\n",
       "      <td>0-4 yr</td>\n",
       "      <td>0</td>\n",
       "      <td>0</td>\n",
       "      <td>2</td>\n",
       "      <td>0</td>\n",
       "      <td>0</td>\n",
       "      <td>0</td>\n",
       "      <td>0</td>\n",
       "      <td>1</td>\n",
       "      <td>0</td>\n",
       "    </tr>\n",
       "    <tr>\n",
       "      <th>12</th>\n",
       "      <td>1998</td>\n",
       "      <td>13</td>\n",
       "      <td>0-4 yr</td>\n",
       "      <td>0</td>\n",
       "      <td>0</td>\n",
       "      <td>3</td>\n",
       "      <td>0</td>\n",
       "      <td>0</td>\n",
       "      <td>0</td>\n",
       "      <td>0</td>\n",
       "      <td>2</td>\n",
       "      <td>0</td>\n",
       "    </tr>\n",
       "    <tr>\n",
       "      <th>13</th>\n",
       "      <td>1998</td>\n",
       "      <td>14</td>\n",
       "      <td>0-4 yr</td>\n",
       "      <td>0</td>\n",
       "      <td>0</td>\n",
       "      <td>3</td>\n",
       "      <td>0</td>\n",
       "      <td>0</td>\n",
       "      <td>0</td>\n",
       "      <td>0</td>\n",
       "      <td>0</td>\n",
       "      <td>0</td>\n",
       "    </tr>\n",
       "    <tr>\n",
       "      <th>14</th>\n",
       "      <td>1998</td>\n",
       "      <td>15</td>\n",
       "      <td>0-4 yr</td>\n",
       "      <td>0</td>\n",
       "      <td>0</td>\n",
       "      <td>0</td>\n",
       "      <td>0</td>\n",
       "      <td>0</td>\n",
       "      <td>0</td>\n",
       "      <td>0</td>\n",
       "      <td>0</td>\n",
       "      <td>0</td>\n",
       "    </tr>\n",
       "  </tbody>\n",
       "</table>\n",
       "</div>"
      ],
      "text/plain": [
       "    Year  Week Age Group  A (H1)  A (Unable to Subtype)  A (H3)  \\\n",
       "0   1998     1    0-4 yr       0                      0      25   \n",
       "1   1998     2    0-4 yr       0                      0      37   \n",
       "2   1998     3    0-4 yr       0                      0      78   \n",
       "3   1998     4    0-4 yr       0                      0      80   \n",
       "4   1998     5    0-4 yr       0                      0      68   \n",
       "5   1998     6    0-4 yr       1                      0      60   \n",
       "6   1998     7    0-4 yr       0                      0      26   \n",
       "7   1998     8    0-4 yr       0                      0      15   \n",
       "8   1998     9    0-4 yr       0                      0      11   \n",
       "9   1998    10    0-4 yr       0                      0       9   \n",
       "10  1998    11    0-4 yr       0                      0       5   \n",
       "11  1998    12    0-4 yr       0                      0       2   \n",
       "12  1998    13    0-4 yr       0                      0       3   \n",
       "13  1998    14    0-4 yr       0                      0       3   \n",
       "14  1998    15    0-4 yr       0                      0       0   \n",
       "\n",
       "    A (H1N1)pdm09  A (Subtyping not Performed)  B (Victoria Lineage)  \\\n",
       "0               0                           11                     0   \n",
       "1               0                            8                     0   \n",
       "2               0                           18                     0   \n",
       "3               0                           26                     0   \n",
       "4               0                           22                     0   \n",
       "5               0                           19                     0   \n",
       "6               0                            2                     0   \n",
       "7               0                            5                     0   \n",
       "8               0                            2                     0   \n",
       "9               0                            1                     0   \n",
       "10              0                            4                     0   \n",
       "11              0                            0                     0   \n",
       "12              0                            0                     0   \n",
       "13              0                            0                     0   \n",
       "14              0                            0                     0   \n",
       "\n",
       "    B (Yamagata Lineage)  B (Lineage Unspecified)  H3N2v  \n",
       "0                      0                        0      0  \n",
       "1                      0                        0      0  \n",
       "2                      0                        0      0  \n",
       "3                      0                        0      0  \n",
       "4                      0                        0      0  \n",
       "5                      0                        1      0  \n",
       "6                      0                        0      0  \n",
       "7                      0                        0      0  \n",
       "8                      0                        0      0  \n",
       "9                      0                        1      0  \n",
       "10                     0                        1      0  \n",
       "11                     0                        1      0  \n",
       "12                     0                        2      0  \n",
       "13                     0                        0      0  \n",
       "14                     0                        0      0  "
      ]
     },
     "metadata": {},
     "output_type": "display_data"
    }
   ],
   "source": [
    "# your code here\n",
    "\n",
    "data = pd.read_csv('../resources/positive-influenza-specimens-1998-2019.csv')\n",
    "\n",
    "display(data.head(15))"
   ]
  },
  {
   "cell_type": "markdown",
   "metadata": {},
   "source": [
    "## Aggregate the influenza type A data into a summary column\n",
    "We will study the type A counts only in this exercise.  The type A counts we will use are in columns 3-7 and 11.  Create a new column that aggregates all of these type A counts."
   ]
  },
  {
   "cell_type": "code",
   "execution_count": 5,
   "metadata": {},
   "outputs": [
    {
     "data": {
      "text/html": [
       "<div>\n",
       "<style scoped>\n",
       "    .dataframe tbody tr th:only-of-type {\n",
       "        vertical-align: middle;\n",
       "    }\n",
       "\n",
       "    .dataframe tbody tr th {\n",
       "        vertical-align: top;\n",
       "    }\n",
       "\n",
       "    .dataframe thead th {\n",
       "        text-align: right;\n",
       "    }\n",
       "</style>\n",
       "<table border=\"1\" class=\"dataframe\">\n",
       "  <thead>\n",
       "    <tr style=\"text-align: right;\">\n",
       "      <th></th>\n",
       "      <th>Year</th>\n",
       "      <th>Week</th>\n",
       "      <th>Age Group</th>\n",
       "      <th>A (H1)</th>\n",
       "      <th>A (Unable to Subtype)</th>\n",
       "      <th>A (H3)</th>\n",
       "      <th>A (H1N1)pdm09</th>\n",
       "      <th>A (Subtyping not Performed)</th>\n",
       "      <th>B (Victoria Lineage)</th>\n",
       "      <th>B (Yamagata Lineage)</th>\n",
       "      <th>B (Lineage Unspecified)</th>\n",
       "      <th>H3N2v</th>\n",
       "      <th>A Count</th>\n",
       "    </tr>\n",
       "  </thead>\n",
       "  <tbody>\n",
       "    <tr>\n",
       "      <th>0</th>\n",
       "      <td>1998</td>\n",
       "      <td>1</td>\n",
       "      <td>0-4 yr</td>\n",
       "      <td>0</td>\n",
       "      <td>0</td>\n",
       "      <td>25</td>\n",
       "      <td>0</td>\n",
       "      <td>11</td>\n",
       "      <td>0</td>\n",
       "      <td>0</td>\n",
       "      <td>0</td>\n",
       "      <td>0</td>\n",
       "      <td>36</td>\n",
       "    </tr>\n",
       "    <tr>\n",
       "      <th>1</th>\n",
       "      <td>1998</td>\n",
       "      <td>2</td>\n",
       "      <td>0-4 yr</td>\n",
       "      <td>0</td>\n",
       "      <td>0</td>\n",
       "      <td>37</td>\n",
       "      <td>0</td>\n",
       "      <td>8</td>\n",
       "      <td>0</td>\n",
       "      <td>0</td>\n",
       "      <td>0</td>\n",
       "      <td>0</td>\n",
       "      <td>45</td>\n",
       "    </tr>\n",
       "    <tr>\n",
       "      <th>2</th>\n",
       "      <td>1998</td>\n",
       "      <td>3</td>\n",
       "      <td>0-4 yr</td>\n",
       "      <td>0</td>\n",
       "      <td>0</td>\n",
       "      <td>78</td>\n",
       "      <td>0</td>\n",
       "      <td>18</td>\n",
       "      <td>0</td>\n",
       "      <td>0</td>\n",
       "      <td>0</td>\n",
       "      <td>0</td>\n",
       "      <td>96</td>\n",
       "    </tr>\n",
       "    <tr>\n",
       "      <th>3</th>\n",
       "      <td>1998</td>\n",
       "      <td>4</td>\n",
       "      <td>0-4 yr</td>\n",
       "      <td>0</td>\n",
       "      <td>0</td>\n",
       "      <td>80</td>\n",
       "      <td>0</td>\n",
       "      <td>26</td>\n",
       "      <td>0</td>\n",
       "      <td>0</td>\n",
       "      <td>0</td>\n",
       "      <td>0</td>\n",
       "      <td>106</td>\n",
       "    </tr>\n",
       "    <tr>\n",
       "      <th>4</th>\n",
       "      <td>1998</td>\n",
       "      <td>5</td>\n",
       "      <td>0-4 yr</td>\n",
       "      <td>0</td>\n",
       "      <td>0</td>\n",
       "      <td>68</td>\n",
       "      <td>0</td>\n",
       "      <td>22</td>\n",
       "      <td>0</td>\n",
       "      <td>0</td>\n",
       "      <td>0</td>\n",
       "      <td>0</td>\n",
       "      <td>90</td>\n",
       "    </tr>\n",
       "    <tr>\n",
       "      <th>5</th>\n",
       "      <td>1998</td>\n",
       "      <td>6</td>\n",
       "      <td>0-4 yr</td>\n",
       "      <td>1</td>\n",
       "      <td>0</td>\n",
       "      <td>60</td>\n",
       "      <td>0</td>\n",
       "      <td>19</td>\n",
       "      <td>0</td>\n",
       "      <td>0</td>\n",
       "      <td>1</td>\n",
       "      <td>0</td>\n",
       "      <td>80</td>\n",
       "    </tr>\n",
       "    <tr>\n",
       "      <th>6</th>\n",
       "      <td>1998</td>\n",
       "      <td>7</td>\n",
       "      <td>0-4 yr</td>\n",
       "      <td>0</td>\n",
       "      <td>0</td>\n",
       "      <td>26</td>\n",
       "      <td>0</td>\n",
       "      <td>2</td>\n",
       "      <td>0</td>\n",
       "      <td>0</td>\n",
       "      <td>0</td>\n",
       "      <td>0</td>\n",
       "      <td>28</td>\n",
       "    </tr>\n",
       "    <tr>\n",
       "      <th>7</th>\n",
       "      <td>1998</td>\n",
       "      <td>8</td>\n",
       "      <td>0-4 yr</td>\n",
       "      <td>0</td>\n",
       "      <td>0</td>\n",
       "      <td>15</td>\n",
       "      <td>0</td>\n",
       "      <td>5</td>\n",
       "      <td>0</td>\n",
       "      <td>0</td>\n",
       "      <td>0</td>\n",
       "      <td>0</td>\n",
       "      <td>20</td>\n",
       "    </tr>\n",
       "    <tr>\n",
       "      <th>8</th>\n",
       "      <td>1998</td>\n",
       "      <td>9</td>\n",
       "      <td>0-4 yr</td>\n",
       "      <td>0</td>\n",
       "      <td>0</td>\n",
       "      <td>11</td>\n",
       "      <td>0</td>\n",
       "      <td>2</td>\n",
       "      <td>0</td>\n",
       "      <td>0</td>\n",
       "      <td>0</td>\n",
       "      <td>0</td>\n",
       "      <td>13</td>\n",
       "    </tr>\n",
       "    <tr>\n",
       "      <th>9</th>\n",
       "      <td>1998</td>\n",
       "      <td>10</td>\n",
       "      <td>0-4 yr</td>\n",
       "      <td>0</td>\n",
       "      <td>0</td>\n",
       "      <td>9</td>\n",
       "      <td>0</td>\n",
       "      <td>1</td>\n",
       "      <td>0</td>\n",
       "      <td>0</td>\n",
       "      <td>1</td>\n",
       "      <td>0</td>\n",
       "      <td>10</td>\n",
       "    </tr>\n",
       "    <tr>\n",
       "      <th>10</th>\n",
       "      <td>1998</td>\n",
       "      <td>11</td>\n",
       "      <td>0-4 yr</td>\n",
       "      <td>0</td>\n",
       "      <td>0</td>\n",
       "      <td>5</td>\n",
       "      <td>0</td>\n",
       "      <td>4</td>\n",
       "      <td>0</td>\n",
       "      <td>0</td>\n",
       "      <td>1</td>\n",
       "      <td>0</td>\n",
       "      <td>9</td>\n",
       "    </tr>\n",
       "    <tr>\n",
       "      <th>11</th>\n",
       "      <td>1998</td>\n",
       "      <td>12</td>\n",
       "      <td>0-4 yr</td>\n",
       "      <td>0</td>\n",
       "      <td>0</td>\n",
       "      <td>2</td>\n",
       "      <td>0</td>\n",
       "      <td>0</td>\n",
       "      <td>0</td>\n",
       "      <td>0</td>\n",
       "      <td>1</td>\n",
       "      <td>0</td>\n",
       "      <td>2</td>\n",
       "    </tr>\n",
       "    <tr>\n",
       "      <th>12</th>\n",
       "      <td>1998</td>\n",
       "      <td>13</td>\n",
       "      <td>0-4 yr</td>\n",
       "      <td>0</td>\n",
       "      <td>0</td>\n",
       "      <td>3</td>\n",
       "      <td>0</td>\n",
       "      <td>0</td>\n",
       "      <td>0</td>\n",
       "      <td>0</td>\n",
       "      <td>2</td>\n",
       "      <td>0</td>\n",
       "      <td>3</td>\n",
       "    </tr>\n",
       "    <tr>\n",
       "      <th>13</th>\n",
       "      <td>1998</td>\n",
       "      <td>14</td>\n",
       "      <td>0-4 yr</td>\n",
       "      <td>0</td>\n",
       "      <td>0</td>\n",
       "      <td>3</td>\n",
       "      <td>0</td>\n",
       "      <td>0</td>\n",
       "      <td>0</td>\n",
       "      <td>0</td>\n",
       "      <td>0</td>\n",
       "      <td>0</td>\n",
       "      <td>3</td>\n",
       "    </tr>\n",
       "    <tr>\n",
       "      <th>14</th>\n",
       "      <td>1998</td>\n",
       "      <td>15</td>\n",
       "      <td>0-4 yr</td>\n",
       "      <td>0</td>\n",
       "      <td>0</td>\n",
       "      <td>0</td>\n",
       "      <td>0</td>\n",
       "      <td>0</td>\n",
       "      <td>0</td>\n",
       "      <td>0</td>\n",
       "      <td>0</td>\n",
       "      <td>0</td>\n",
       "      <td>0</td>\n",
       "    </tr>\n",
       "  </tbody>\n",
       "</table>\n",
       "</div>"
      ],
      "text/plain": [
       "    Year  Week Age Group  A (H1)  A (Unable to Subtype)  A (H3)  \\\n",
       "0   1998     1    0-4 yr       0                      0      25   \n",
       "1   1998     2    0-4 yr       0                      0      37   \n",
       "2   1998     3    0-4 yr       0                      0      78   \n",
       "3   1998     4    0-4 yr       0                      0      80   \n",
       "4   1998     5    0-4 yr       0                      0      68   \n",
       "5   1998     6    0-4 yr       1                      0      60   \n",
       "6   1998     7    0-4 yr       0                      0      26   \n",
       "7   1998     8    0-4 yr       0                      0      15   \n",
       "8   1998     9    0-4 yr       0                      0      11   \n",
       "9   1998    10    0-4 yr       0                      0       9   \n",
       "10  1998    11    0-4 yr       0                      0       5   \n",
       "11  1998    12    0-4 yr       0                      0       2   \n",
       "12  1998    13    0-4 yr       0                      0       3   \n",
       "13  1998    14    0-4 yr       0                      0       3   \n",
       "14  1998    15    0-4 yr       0                      0       0   \n",
       "\n",
       "    A (H1N1)pdm09  A (Subtyping not Performed)  B (Victoria Lineage)  \\\n",
       "0               0                           11                     0   \n",
       "1               0                            8                     0   \n",
       "2               0                           18                     0   \n",
       "3               0                           26                     0   \n",
       "4               0                           22                     0   \n",
       "5               0                           19                     0   \n",
       "6               0                            2                     0   \n",
       "7               0                            5                     0   \n",
       "8               0                            2                     0   \n",
       "9               0                            1                     0   \n",
       "10              0                            4                     0   \n",
       "11              0                            0                     0   \n",
       "12              0                            0                     0   \n",
       "13              0                            0                     0   \n",
       "14              0                            0                     0   \n",
       "\n",
       "    B (Yamagata Lineage)  B (Lineage Unspecified)  H3N2v  A Count  \n",
       "0                      0                        0      0       36  \n",
       "1                      0                        0      0       45  \n",
       "2                      0                        0      0       96  \n",
       "3                      0                        0      0      106  \n",
       "4                      0                        0      0       90  \n",
       "5                      0                        1      0       80  \n",
       "6                      0                        0      0       28  \n",
       "7                      0                        0      0       20  \n",
       "8                      0                        0      0       13  \n",
       "9                      0                        1      0       10  \n",
       "10                     0                        1      0        9  \n",
       "11                     0                        1      0        2  \n",
       "12                     0                        2      0        3  \n",
       "13                     0                        0      0        3  \n",
       "14                     0                        0      0        0  "
      ]
     },
     "metadata": {},
     "output_type": "display_data"
    }
   ],
   "source": [
    "# your code here\n",
    "\n",
    "cols_to_sum = ['A (H1)', 'A (Unable to Subtype)', 'A (H3)', 'A (H1N1)pdm09', 'A (Subtyping not Performed)', 'H3N2v']\n",
    "data['A Count'] = data[cols_to_sum].sum(axis = 1)\n",
    "\n",
    "# data['A Count'] = data['A (H1)'] + data['A (Unable to Subtype)'] + data['A (H3)'] + data['A (H1N1)pdm09']\n",
    "# + data['A (Subtyping not Performed)'] + data['H3N2v']\n",
    "    \n",
    "display(data.head(15))"
   ]
  },
  {
   "cell_type": "markdown",
   "metadata": {},
   "source": [
    "## Group by Year and Week\n",
    "Sum the Type A count across all age groups for each year and week into a dataframe containing year, week, and type A count."
   ]
  },
  {
   "cell_type": "code",
   "execution_count": 6,
   "metadata": {},
   "outputs": [
    {
     "data": {
      "text/html": [
       "<div>\n",
       "<style scoped>\n",
       "    .dataframe tbody tr th:only-of-type {\n",
       "        vertical-align: middle;\n",
       "    }\n",
       "\n",
       "    .dataframe tbody tr th {\n",
       "        vertical-align: top;\n",
       "    }\n",
       "\n",
       "    .dataframe thead th {\n",
       "        text-align: right;\n",
       "    }\n",
       "</style>\n",
       "<table border=\"1\" class=\"dataframe\">\n",
       "  <thead>\n",
       "    <tr style=\"text-align: right;\">\n",
       "      <th></th>\n",
       "      <th></th>\n",
       "      <th>A Count</th>\n",
       "    </tr>\n",
       "    <tr>\n",
       "      <th>Year</th>\n",
       "      <th>Week</th>\n",
       "      <th></th>\n",
       "    </tr>\n",
       "  </thead>\n",
       "  <tbody>\n",
       "    <tr>\n",
       "      <th rowspan=\"15\" valign=\"top\">1998</th>\n",
       "      <th>1</th>\n",
       "      <td>255</td>\n",
       "    </tr>\n",
       "    <tr>\n",
       "      <th>2</th>\n",
       "      <td>318</td>\n",
       "    </tr>\n",
       "    <tr>\n",
       "      <th>3</th>\n",
       "      <td>551</td>\n",
       "    </tr>\n",
       "    <tr>\n",
       "      <th>4</th>\n",
       "      <td>634</td>\n",
       "    </tr>\n",
       "    <tr>\n",
       "      <th>5</th>\n",
       "      <td>528</td>\n",
       "    </tr>\n",
       "    <tr>\n",
       "      <th>6</th>\n",
       "      <td>442</td>\n",
       "    </tr>\n",
       "    <tr>\n",
       "      <th>7</th>\n",
       "      <td>284</td>\n",
       "    </tr>\n",
       "    <tr>\n",
       "      <th>8</th>\n",
       "      <td>154</td>\n",
       "    </tr>\n",
       "    <tr>\n",
       "      <th>9</th>\n",
       "      <td>111</td>\n",
       "    </tr>\n",
       "    <tr>\n",
       "      <th>10</th>\n",
       "      <td>97</td>\n",
       "    </tr>\n",
       "    <tr>\n",
       "      <th>11</th>\n",
       "      <td>54</td>\n",
       "    </tr>\n",
       "    <tr>\n",
       "      <th>12</th>\n",
       "      <td>21</td>\n",
       "    </tr>\n",
       "    <tr>\n",
       "      <th>13</th>\n",
       "      <td>18</td>\n",
       "    </tr>\n",
       "    <tr>\n",
       "      <th>14</th>\n",
       "      <td>20</td>\n",
       "    </tr>\n",
       "    <tr>\n",
       "      <th>15</th>\n",
       "      <td>19</td>\n",
       "    </tr>\n",
       "  </tbody>\n",
       "</table>\n",
       "</div>"
      ],
      "text/plain": [
       "           A Count\n",
       "Year Week         \n",
       "1998 1         255\n",
       "     2         318\n",
       "     3         551\n",
       "     4         634\n",
       "     5         528\n",
       "     6         442\n",
       "     7         284\n",
       "     8         154\n",
       "     9         111\n",
       "     10         97\n",
       "     11         54\n",
       "     12         21\n",
       "     13         18\n",
       "     14         20\n",
       "     15         19"
      ]
     },
     "metadata": {},
     "output_type": "display_data"
    }
   ],
   "source": [
    "# your code here\n",
    "\n",
    "# weekly_data = data.groupby(['Year', 'Week']).agg({'A Count': 'sum'})\n",
    "\n",
    "weekly_data = pd.DataFrame(data.groupby(by=['Year', 'Week'])['A Count'].sum())\n",
    "\n",
    "display(weekly_data.head(15))"
   ]
  },
  {
   "cell_type": "markdown",
   "metadata": {},
   "source": [
    "## Plot the data\n",
    "1. Create a line plot of influenza A counts by the index. **(5 points)**\n",
    "1. Create a boxplot of influenza A counts by year. **(5 points)**"
   ]
  },
  {
   "cell_type": "code",
   "execution_count": 7,
   "metadata": {},
   "outputs": [
    {
     "data": {
      "image/png": "[encoded data removed]",
      "text/plain": [
       "<Figure size 720x360 with 1 Axes>"
      ]
     },
     "metadata": {
      "needs_background": "light"
     },
     "output_type": "display_data"
    },
    {
     "data": {
      "text/plain": [
       "<matplotlib.axes._subplots.AxesSubplot at 0x7fd21caa81d0>"
      ]
     },
     "execution_count": 7,
     "metadata": {},
     "output_type": "execute_result"
    },
    {
     "data": {
      "image/png": "[encoded data removed]",
      "text/plain": [
       "<Figure size 720x360 with 1 Axes>"
      ]
     },
     "metadata": {
      "needs_background": "light"
     },
     "output_type": "display_data"
    }
   ],
   "source": [
    "# your code here\n",
    "\n",
    "ax = data.plot(y='A Count')\n",
    "plt.show()\n",
    "\n",
    "data.boxplot('A Count', 'Year')"
   ]
  },
  {
   "cell_type": "markdown",
   "metadata": {},
   "source": [
    "## Remove the data for the outlier year\n",
    "One year has a much higher mean positive test count.  It should be removed prior to conducting a time series analysis.  Because you are removing an entire year from the time series, a datetime cannot be used as the dataframe index.  Instead, recreate the index to be a consecutive integer, starting from the oldest year and week to the newest year and week, without any holes in the numeric sequence.\n",
    "\n",
    "1. Replot the line chart of influenza A counts by the index. **(5 points)**"
   ]
  },
  {
   "cell_type": "code",
   "execution_count": 8,
   "metadata": {},
   "outputs": [
    {
     "data": {
      "text/html": [
       "<div>\n",
       "<style scoped>\n",
       "    .dataframe tbody tr th:only-of-type {\n",
       "        vertical-align: middle;\n",
       "    }\n",
       "\n",
       "    .dataframe tbody tr th {\n",
       "        vertical-align: top;\n",
       "    }\n",
       "\n",
       "    .dataframe thead th {\n",
       "        text-align: right;\n",
       "    }\n",
       "</style>\n",
       "<table border=\"1\" class=\"dataframe\">\n",
       "  <thead>\n",
       "    <tr style=\"text-align: right;\">\n",
       "      <th></th>\n",
       "      <th>Year</th>\n",
       "      <th>Week</th>\n",
       "      <th>A Count</th>\n",
       "    </tr>\n",
       "  </thead>\n",
       "  <tbody>\n",
       "    <tr>\n",
       "      <th>0</th>\n",
       "      <td>1998</td>\n",
       "      <td>1</td>\n",
       "      <td>255</td>\n",
       "    </tr>\n",
       "    <tr>\n",
       "      <th>1</th>\n",
       "      <td>1998</td>\n",
       "      <td>2</td>\n",
       "      <td>318</td>\n",
       "    </tr>\n",
       "    <tr>\n",
       "      <th>2</th>\n",
       "      <td>1998</td>\n",
       "      <td>3</td>\n",
       "      <td>551</td>\n",
       "    </tr>\n",
       "    <tr>\n",
       "      <th>3</th>\n",
       "      <td>1998</td>\n",
       "      <td>4</td>\n",
       "      <td>634</td>\n",
       "    </tr>\n",
       "    <tr>\n",
       "      <th>4</th>\n",
       "      <td>1998</td>\n",
       "      <td>5</td>\n",
       "      <td>528</td>\n",
       "    </tr>\n",
       "    <tr>\n",
       "      <th>...</th>\n",
       "      <td>...</td>\n",
       "      <td>...</td>\n",
       "      <td>...</td>\n",
       "    </tr>\n",
       "    <tr>\n",
       "      <th>1142</th>\n",
       "      <td>2019</td>\n",
       "      <td>48</td>\n",
       "      <td>483</td>\n",
       "    </tr>\n",
       "    <tr>\n",
       "      <th>1143</th>\n",
       "      <td>2019</td>\n",
       "      <td>49</td>\n",
       "      <td>574</td>\n",
       "    </tr>\n",
       "    <tr>\n",
       "      <th>1144</th>\n",
       "      <td>2019</td>\n",
       "      <td>50</td>\n",
       "      <td>662</td>\n",
       "    </tr>\n",
       "    <tr>\n",
       "      <th>1145</th>\n",
       "      <td>2019</td>\n",
       "      <td>51</td>\n",
       "      <td>899</td>\n",
       "    </tr>\n",
       "    <tr>\n",
       "      <th>1146</th>\n",
       "      <td>2019</td>\n",
       "      <td>52</td>\n",
       "      <td>1147</td>\n",
       "    </tr>\n",
       "  </tbody>\n",
       "</table>\n",
       "<p>1094 rows × 3 columns</p>\n",
       "</div>"
      ],
      "text/plain": [
       "      Year  Week  A Count\n",
       "0     1998     1      255\n",
       "1     1998     2      318\n",
       "2     1998     3      551\n",
       "3     1998     4      634\n",
       "4     1998     5      528\n",
       "...    ...   ...      ...\n",
       "1142  2019    48      483\n",
       "1143  2019    49      574\n",
       "1144  2019    50      662\n",
       "1145  2019    51      899\n",
       "1146  2019    52     1147\n",
       "\n",
       "[1094 rows x 3 columns]"
      ]
     },
     "metadata": {},
     "output_type": "display_data"
    },
    {
     "data": {
      "text/html": [
       "<div>\n",
       "<style scoped>\n",
       "    .dataframe tbody tr th:only-of-type {\n",
       "        vertical-align: middle;\n",
       "    }\n",
       "\n",
       "    .dataframe tbody tr th {\n",
       "        vertical-align: top;\n",
       "    }\n",
       "\n",
       "    .dataframe thead th {\n",
       "        text-align: right;\n",
       "    }\n",
       "</style>\n",
       "<table border=\"1\" class=\"dataframe\">\n",
       "  <thead>\n",
       "    <tr style=\"text-align: right;\">\n",
       "      <th></th>\n",
       "      <th>Year</th>\n",
       "      <th>Week</th>\n",
       "      <th>A Count</th>\n",
       "    </tr>\n",
       "  </thead>\n",
       "  <tbody>\n",
       "  </tbody>\n",
       "</table>\n",
       "</div>"
      ],
      "text/plain": [
       "Empty DataFrame\n",
       "Columns: [Year, Week, A Count]\n",
       "Index: []"
      ]
     },
     "execution_count": 8,
     "metadata": {},
     "output_type": "execute_result"
    }
   ],
   "source": [
    "# your code here\n",
    "\n",
    "grouped_data = weekly_data.reset_index().sort_values(['Year', 'Week'], ascending=True)\n",
    "grouped_data = grouped_data.loc[grouped_data['Year'] != 2009]\n",
    "display(grouped_data)\n",
    "grouped_data.loc[grouped_data['Year']==2009]\n",
    "\n"
   ]
  },
  {
   "cell_type": "code",
   "execution_count": 9,
   "metadata": {},
   "outputs": [
    {
     "data": {
      "text/html": [
       "<div>\n",
       "<style scoped>\n",
       "    .dataframe tbody tr th:only-of-type {\n",
       "        vertical-align: middle;\n",
       "    }\n",
       "\n",
       "    .dataframe tbody tr th {\n",
       "        vertical-align: top;\n",
       "    }\n",
       "\n",
       "    .dataframe thead tr th {\n",
       "        text-align: left;\n",
       "    }\n",
       "\n",
       "    .dataframe thead tr:last-of-type th {\n",
       "        text-align: right;\n",
       "    }\n",
       "</style>\n",
       "<table border=\"1\" class=\"dataframe\">\n",
       "  <thead>\n",
       "    <tr>\n",
       "      <th></th>\n",
       "      <th colspan=\"2\" halign=\"left\">A Count</th>\n",
       "    </tr>\n",
       "    <tr>\n",
       "      <th></th>\n",
       "      <th>count</th>\n",
       "      <th>sum</th>\n",
       "    </tr>\n",
       "    <tr>\n",
       "      <th>Year</th>\n",
       "      <th></th>\n",
       "      <th></th>\n",
       "    </tr>\n",
       "  </thead>\n",
       "  <tbody>\n",
       "    <tr>\n",
       "      <th>1998</th>\n",
       "      <td>52</td>\n",
       "      <td>3661</td>\n",
       "    </tr>\n",
       "    <tr>\n",
       "      <th>1999</th>\n",
       "      <td>52</td>\n",
       "      <td>5209</td>\n",
       "    </tr>\n",
       "    <tr>\n",
       "      <th>2000</th>\n",
       "      <td>52</td>\n",
       "      <td>2590</td>\n",
       "    </tr>\n",
       "    <tr>\n",
       "      <th>2001</th>\n",
       "      <td>52</td>\n",
       "      <td>2205</td>\n",
       "    </tr>\n",
       "    <tr>\n",
       "      <th>2002</th>\n",
       "      <td>52</td>\n",
       "      <td>4721</td>\n",
       "    </tr>\n",
       "    <tr>\n",
       "      <th>2003</th>\n",
       "      <td>53</td>\n",
       "      <td>10928</td>\n",
       "    </tr>\n",
       "    <tr>\n",
       "      <th>2004</th>\n",
       "      <td>52</td>\n",
       "      <td>1944</td>\n",
       "    </tr>\n",
       "    <tr>\n",
       "      <th>2005</th>\n",
       "      <td>52</td>\n",
       "      <td>7113</td>\n",
       "    </tr>\n",
       "    <tr>\n",
       "      <th>2006</th>\n",
       "      <td>52</td>\n",
       "      <td>6162</td>\n",
       "    </tr>\n",
       "    <tr>\n",
       "      <th>2007</th>\n",
       "      <td>52</td>\n",
       "      <td>6701</td>\n",
       "    </tr>\n",
       "    <tr>\n",
       "      <th>2008</th>\n",
       "      <td>52</td>\n",
       "      <td>10118</td>\n",
       "    </tr>\n",
       "    <tr>\n",
       "      <th>2010</th>\n",
       "      <td>52</td>\n",
       "      <td>6775</td>\n",
       "    </tr>\n",
       "    <tr>\n",
       "      <th>2011</th>\n",
       "      <td>52</td>\n",
       "      <td>21997</td>\n",
       "    </tr>\n",
       "    <tr>\n",
       "      <th>2012</th>\n",
       "      <td>52</td>\n",
       "      <td>27501</td>\n",
       "    </tr>\n",
       "    <tr>\n",
       "      <th>2013</th>\n",
       "      <td>52</td>\n",
       "      <td>24268</td>\n",
       "    </tr>\n",
       "    <tr>\n",
       "      <th>2014</th>\n",
       "      <td>53</td>\n",
       "      <td>37761</td>\n",
       "    </tr>\n",
       "    <tr>\n",
       "      <th>2015</th>\n",
       "      <td>52</td>\n",
       "      <td>16737</td>\n",
       "    </tr>\n",
       "    <tr>\n",
       "      <th>2016</th>\n",
       "      <td>52</td>\n",
       "      <td>22001</td>\n",
       "    </tr>\n",
       "    <tr>\n",
       "      <th>2017</th>\n",
       "      <td>52</td>\n",
       "      <td>34926</td>\n",
       "    </tr>\n",
       "    <tr>\n",
       "      <th>2018</th>\n",
       "      <td>52</td>\n",
       "      <td>29116</td>\n",
       "    </tr>\n",
       "    <tr>\n",
       "      <th>2019</th>\n",
       "      <td>52</td>\n",
       "      <td>39424</td>\n",
       "    </tr>\n",
       "  </tbody>\n",
       "</table>\n",
       "</div>"
      ],
      "text/plain": [
       "     A Count       \n",
       "       count    sum\n",
       "Year               \n",
       "1998      52   3661\n",
       "1999      52   5209\n",
       "2000      52   2590\n",
       "2001      52   2205\n",
       "2002      52   4721\n",
       "2003      53  10928\n",
       "2004      52   1944\n",
       "2005      52   7113\n",
       "2006      52   6162\n",
       "2007      52   6701\n",
       "2008      52  10118\n",
       "2010      52   6775\n",
       "2011      52  21997\n",
       "2012      52  27501\n",
       "2013      52  24268\n",
       "2014      53  37761\n",
       "2015      52  16737\n",
       "2016      52  22001\n",
       "2017      52  34926\n",
       "2018      52  29116\n",
       "2019      52  39424"
      ]
     },
     "execution_count": 9,
     "metadata": {},
     "output_type": "execute_result"
    }
   ],
   "source": [
    "yearly_data = grouped_data.sort_values(by=['Year', 'Week']).groupby(['Year']).agg({'A Count': ['count', 'sum']})\n",
    "\n",
    "yearly_data"
   ]
  },
  {
   "cell_type": "markdown",
   "metadata": {},
   "source": [
    "## Checkpoint\n",
    "\n",
    "Run a count and sum of the influenze type A counts by year of the data.  You should have this:\n",
    "\n",
    "```\n",
    "\tA\n",
    "\tcount \tsum\n",
    "Year \t\t\n",
    "1998 \t52 \t3661\n",
    "1999 \t52 \t5209\n",
    "2000 \t52 \t2590\n",
    "2001 \t52 \t2205\n",
    "2002 \t52 \t4721\n",
    "2003 \t53 \t10928\n",
    "2004 \t52 \t1944\n",
    "2005 \t52 \t7113\n",
    "2006 \t52 \t6162\n",
    "2007 \t52 \t6701\n",
    "2008 \t52 \t10118\n",
    "2010 \t52 \t6775\n",
    "2011 \t52 \t21997\n",
    "2012 \t52 \t27501\n",
    "2013 \t52 \t24268\n",
    "2014 \t53 \t37761\n",
    "2015 \t52 \t16737\n",
    "2016 \t52 \t22001\n",
    "2017 \t52 \t34926\n",
    "2018 \t52 \t29116\n",
    "2019 \t52 \t39424```\n",
    "\n",
    "Ensure your data is sorted by year and week.\n",
    "\n",
    "If these are not the case, correct your code before proceeding."
   ]
  },
  {
   "cell_type": "code",
   "execution_count": 10,
   "metadata": {},
   "outputs": [],
   "source": [
    "# your code here\n",
    "\n",
    "# dates = grouped_data.Year*100+grouped_data.Week\n",
    "# grouped_data['date'] = pd.to_datetime(dates.astype(str) + '0', format='%Y%W%w')\n",
    "\n",
    "# grouped_data = grouped_data.set_index('date')"
   ]
  },
  {
   "cell_type": "markdown",
   "metadata": {},
   "source": [
    "## Run a timeseries decomposition on the data\n",
    "\n",
    "1. Plot the three components: Trend, Seasonal, and Residual **(5 points)**\n",
    "\n",
    "Use a period of 52.  Because some years have data with 53 weeks, this is not ideal, but more years have only 52 weeks so this is the best compromise."
   ]
  },
  {
   "cell_type": "code",
   "execution_count": 11,
   "metadata": {},
   "outputs": [
    {
     "data": {
      "image/png": "[encoded data removed]",
      "text/plain": [
       "<Figure size 720x360 with 4 Axes>"
      ]
     },
     "metadata": {
      "needs_background": "light"
     },
     "output_type": "display_data"
    }
   ],
   "source": [
    "# your code here\n",
    "\n",
    "from statsmodels.tsa.seasonal import STL\n",
    "decomp_result = STL(grouped_data['A Count'], period=52, robust=True).fit()\n",
    "decomp_result.plot()\n",
    "plt.show()"
   ]
  },
  {
   "cell_type": "code",
   "execution_count": 12,
   "metadata": {},
   "outputs": [
    {
     "data": {
      "text/plain": [
       "0        79.933927\n",
       "1        79.205332\n",
       "2        78.480108\n",
       "3        77.758403\n",
       "4        77.040365\n",
       "           ...    \n",
       "1142    734.597679\n",
       "1143    736.725114\n",
       "1144    738.856142\n",
       "1145    740.990695\n",
       "1146    743.128690\n",
       "Name: trend, Length: 1094, dtype: float64"
      ]
     },
     "execution_count": 12,
     "metadata": {},
     "output_type": "execute_result"
    }
   ],
   "source": [
    "decomp_result.trend"
   ]
  },
  {
   "cell_type": "markdown",
   "metadata": {},
   "source": [
    "## Create lag_plots\n",
    "1. Plot from lag 1 through 4, using just the trend data from the decomposition. **(4 points)**\n",
    "\n",
    "## Quiz 1 Question 1\n",
    "\n",
    "Based on the lag plots, the trend data appear to be auto correlated.\n",
    "\n",
    "A. True\n",
    "\n",
    "B. False"
   ]
  },
  {
   "cell_type": "code",
   "execution_count": 13,
   "metadata": {},
   "outputs": [
    {
     "data": {
      "image/png": "[encoded data removed]",
      "text/plain": [
       "<Figure size 720x360 with 1 Axes>"
      ]
     },
     "metadata": {
      "needs_background": "light"
     },
     "output_type": "display_data"
    },
    {
     "data": {
      "image/png": "[encoded data removed]",
      "text/plain": [
       "<Figure size 720x360 with 1 Axes>"
      ]
     },
     "metadata": {
      "needs_background": "light"
     },
     "output_type": "display_data"
    },
    {
     "data": {
      "image/png": "[encoded data removed]",
      "text/plain": [
       "<Figure size 720x360 with 1 Axes>"
      ]
     },
     "metadata": {
      "needs_background": "light"
     },
     "output_type": "display_data"
    },
    {
     "data": {
      "image/png": "[encoded data removed]",
      "text/plain": [
       "<Figure size 720x360 with 1 Axes>"
      ]
     },
     "metadata": {
      "needs_background": "light"
     },
     "output_type": "display_data"
    }
   ],
   "source": [
    "# your code here\n",
    "\n",
    "from pandas.plotting import lag_plot\n",
    "\n",
    "lag_plot(decomp_result.trend, lag=1)\n",
    "plt.show()\n",
    "lag_plot(decomp_result.trend, lag=2)\n",
    "plt.show()\n",
    "lag_plot(decomp_result.trend, lag=3)\n",
    "plt.show()\n",
    "lag_plot(decomp_result.trend, lag=4)\n",
    "plt.show()"
   ]
  },
  {
   "cell_type": "raw",
   "metadata": {},
   "source": [
    "True"
   ]
  },
  {
   "cell_type": "markdown",
   "metadata": {},
   "source": [
    "# Test the stationarity of the trend component\n",
    "Use the ADF test.\n",
    "\n",
    "## Quiz 1 Question 2\n",
    "What is the Null Hypothesis for the Augmented Dickey Fuller test?\n",
    "\n",
    "## Quiz 1 Question 3\n",
    "Is the trend component of the decomposed time series data stationary?\n"
   ]
  },
  {
   "cell_type": "code",
   "execution_count": 14,
   "metadata": {},
   "outputs": [
    {
     "name": "stdout",
     "output_type": "stream",
     "text": [
      "ADF Statistic: 0.8254129341347667\n",
      "p-value: 0.9920355007880616\n"
     ]
    }
   ],
   "source": [
    "# your code here\n",
    "\n",
    "from statsmodels.tsa.stattools import adfuller\n",
    "\n",
    "result = adfuller(decomp_result.trend.values, autolag='AIC')\n",
    "print(f'ADF Statistic: {result[0]}')\n",
    "print(f'p-value: {result[1]}')\n",
    "\n",
    "# It is non-stationary"
   ]
  },
  {
   "cell_type": "code",
   "execution_count": 15,
   "metadata": {},
   "outputs": [
    {
     "name": "stdout",
     "output_type": "stream",
     "text": [
      "ADF Statistic: -2.176640421440118\n",
      "p-value: 0.21483259814208527\n"
     ]
    }
   ],
   "source": [
    "diff_trend = decomp_result.trend.diff()\n",
    "\n",
    "result = adfuller(diff_trend.dropna().values, autolag='AIC')\n",
    "print(f'ADF Statistic: {result[0]}')\n",
    "print(f'p-value: {result[1]}')"
   ]
  },
  {
   "cell_type": "code",
   "execution_count": 16,
   "metadata": {},
   "outputs": [
    {
     "name": "stdout",
     "output_type": "stream",
     "text": [
      "ADF Statistic: -10.315389378486126\n",
      "p-value: 3.1070084359681894e-18\n"
     ]
    }
   ],
   "source": [
    "diff_trend = decomp_result.trend.diff().diff()\n",
    "\n",
    "result = adfuller(diff_trend.dropna().values, autolag='AIC')\n",
    "print(f'ADF Statistic: {result[0]}')\n",
    "print(f'p-value: {result[1]}')"
   ]
  },
  {
   "cell_type": "markdown",
   "metadata": {},
   "source": [
    "## Find the smallest order of difference that resolves the trend data's non-stationarity\n",
    "\n",
    "Run successive ADF tests until you find a signficant result at $\\alpha$ = 0.05\n",
    "\n",
    "## Quiz 1 Question 4\n",
    "What is the smallest order of diff that causes the trend data to pass the ADF test at $\\alpha$ = 0.05?"
   ]
  },
  {
   "cell_type": "raw",
   "metadata": {},
   "source": [
    "2 orders of difference"
   ]
  },
  {
   "cell_type": "markdown",
   "metadata": {},
   "source": [
    "## Create an ACF plot for the diff order found that creates a stationary trend data set\n",
    "\n",
    "1. Create an ACF plot of the trend data using the minimum diff that creates stationarity.  Plot 100 lags only. **(5 points)**"
   ]
  },
  {
   "cell_type": "code",
   "execution_count": 17,
   "metadata": {},
   "outputs": [
    {
     "data": {
      "image/png": "[encoded data removed]",
      "text/plain": [
       "<Figure size 720x360 with 1 Axes>"
      ]
     },
     "metadata": {
      "needs_background": "light"
     },
     "output_type": "display_data"
    }
   ],
   "source": [
    "# your code here\n",
    "\n",
    "from statsmodels.graphics.tsaplots import plot_acf\n",
    "\n",
    "plot_acf(decomp_result.trend.diff().diff().dropna(), title='Second order diff', lags=100)\n",
    "plt.show()"
   ]
  },
  {
   "cell_type": "code",
   "execution_count": 18,
   "metadata": {},
   "outputs": [
    {
     "data": {
      "text/plain": [
       "<matplotlib.axes._subplots.AxesSubplot at 0x7fd1baee0080>"
      ]
     },
     "execution_count": 18,
     "metadata": {},
     "output_type": "execute_result"
    },
    {
     "data": {
      "image/png": "[encoded data removed]",
      "text/plain": [
       "<Figure size 720x360 with 1 Axes>"
      ]
     },
     "metadata": {
      "needs_background": "light"
     },
     "output_type": "display_data"
    }
   ],
   "source": [
    "decomp_result.trend.diff().diff().dropna().plot()"
   ]
  },
  {
   "cell_type": "markdown",
   "metadata": {},
   "source": [
    "## Fitting an ARIMA model\n",
    "\n",
    "For the remainder of the exercise, only the trend data from the timeseries decomposition will be used for modeling.\n",
    "\n",
    "## Find the AR term for the ARIMA model\n",
    "\n",
    "Create a PACF plot and choose a value for \"p\".\n"
   ]
  },
  {
   "cell_type": "code",
   "execution_count": 19,
   "metadata": {},
   "outputs": [
    {
     "data": {
      "image/png": "[encoded data removed]",
      "text/plain": [
       "<Figure size 720x360 with 1 Axes>"
      ]
     },
     "metadata": {
      "needs_background": "light"
     },
     "output_type": "display_data"
    }
   ],
   "source": [
    "# your code here\n",
    "\n",
    "from statsmodels.graphics.tsaplots import plot_pacf\n",
    "plot_pacf(decomp_result.trend.diff().diff().dropna())\n",
    "plt.show()\n",
    "\n",
    "# estimated AR term is 5"
   ]
  },
  {
   "cell_type": "markdown",
   "metadata": {},
   "source": [
    "## Find the MA term for the ARIMA model\n",
    "\n",
    "Create an ACF plot and choose a value for \"q\"."
   ]
  },
  {
   "cell_type": "code",
   "execution_count": 20,
   "metadata": {},
   "outputs": [
    {
     "data": {
      "image/png": "[encoded data removed]",
      "text/plain": [
       "<Figure size 720x360 with 1 Axes>"
      ]
     },
     "metadata": {
      "needs_background": "light"
     },
     "output_type": "display_data"
    }
   ],
   "source": [
    "# your code here\n",
    "\n",
    "plot_acf(decomp_result.trend.diff().diff().dropna())\n",
    "plt.show()\n",
    "\n",
    "# estimated MA term is 7"
   ]
  },
  {
   "cell_type": "markdown",
   "metadata": {},
   "source": [
    "## Build the ARIMA model\n",
    "Use the parameters you have determined above.  Print the summary of the model fit."
   ]
  },
  {
   "cell_type": "code",
   "execution_count": 21,
   "metadata": {},
   "outputs": [
    {
     "name": "stderr",
     "output_type": "stream",
     "text": [
      "/opt/conda/lib/python3.7/site-packages/statsmodels/tsa/base/tsa_model.py:214: ValueWarning: An unsupported index was provided and will be ignored when e.g. forecasting.\n",
      "  ' ignored when e.g. forecasting.', ValueWarning)\n",
      "/opt/conda/lib/python3.7/site-packages/statsmodels/tsa/base/tsa_model.py:214: ValueWarning: An unsupported index was provided and will be ignored when e.g. forecasting.\n",
      "  ' ignored when e.g. forecasting.', ValueWarning)\n",
      "/opt/conda/lib/python3.7/site-packages/statsmodels/base/model.py:548: HessianInversionWarning: Inverting hessian failed, no bse or cov_params available\n",
      "  'available', HessianInversionWarning)\n"
     ]
    },
    {
     "name": "stdout",
     "output_type": "stream",
     "text": [
      "                             ARIMA Model Results                              \n",
      "==============================================================================\n",
      "Dep. Variable:               D2.trend   No. Observations:                 1092\n",
      "Model:                 ARIMA(5, 2, 7)   Log Likelihood                3102.292\n",
      "Method:                       css-mle   S.D. of innovations              0.014\n",
      "Date:                Sun, 06 Feb 2022   AIC                          -6176.585\n",
      "Time:                        18:45:33   BIC                          -6106.644\n",
      "Sample:                             2   HQIC                         -6150.116\n",
      "                                                                              \n",
      "==================================================================================\n",
      "                     coef    std err          z      P>|z|      [0.025      0.975]\n",
      "----------------------------------------------------------------------------------\n",
      "const              0.0017      0.001      2.482      0.013       0.000       0.003\n",
      "ar.L1.D2.trend     3.7585      0.011    341.842      0.000       3.737       3.780\n",
      "ar.L2.D2.trend    -6.2426      0.021   -298.507      0.000      -6.284      -6.202\n",
      "ar.L3.D2.trend     5.6938      0.018    315.404      0.000       5.658       5.729\n",
      "ar.L4.D2.trend    -2.7960      0.014   -193.055      0.000      -2.824      -2.768\n",
      "ar.L5.D2.trend     0.5847      0.008     74.538      0.000       0.569       0.600\n",
      "ma.L1.D2.trend    -2.5840      0.059    -43.592      0.000      -2.700      -2.468\n",
      "ma.L2.D2.trend     3.3331      0.161     20.710      0.000       3.018       3.648\n",
      "ma.L3.D2.trend    -2.3827      0.227    -10.501      0.000      -2.827      -1.938\n",
      "ma.L4.D2.trend     0.9092      0.165      5.495      0.000       0.585       1.234\n",
      "ma.L5.D2.trend    -0.2310      0.031     -7.394      0.000      -0.292      -0.170\n",
      "ma.L6.D2.trend     0.0399      0.036      1.119      0.263      -0.030       0.110\n",
      "ma.L7.D2.trend    -0.0845      0.031     -2.689      0.007      -0.146      -0.023\n",
      "                                    Roots                                    \n",
      "=============================================================================\n",
      "                  Real          Imaginary           Modulus         Frequency\n",
      "-----------------------------------------------------------------------------\n",
      "AR.1            0.6611           -0.7526j            1.0017           -0.1353\n",
      "AR.2            0.6611           +0.7526j            1.0017            0.1353\n",
      "AR.3            1.0171           -0.0000j            1.0171           -0.0000\n",
      "AR.4            1.2212           -0.4293j            1.2945           -0.0538\n",
      "AR.5            1.2212           +0.4293j            1.2945            0.0538\n",
      "MA.1            1.0000           -0.0000j            1.0000           -0.0000\n",
      "MA.2            0.6578           -0.7532j            1.0000           -0.1357\n",
      "MA.3            0.6578           +0.7532j            1.0000            0.1357\n",
      "MA.4            0.6257           -1.1586j            1.3167           -0.1712\n",
      "MA.5            0.6257           +1.1586j            1.3167            0.1712\n",
      "MA.6           -1.5475           -2.1053j            2.6128           -0.3509\n",
      "MA.7           -1.5475           +2.1053j            2.6128            0.3509\n",
      "-----------------------------------------------------------------------------\n"
     ]
    }
   ],
   "source": [
    "# your code here\n",
    "\n",
    "from statsmodels.tsa.arima_model import ARIMA\n",
    "\n",
    "model = ARIMA(decomp_result.trend, order=(5,2,7))\n",
    "fit = model.fit()\n",
    "print(fit.summary())"
   ]
  },
  {
   "cell_type": "markdown",
   "metadata": {},
   "source": [
    "## Cross validation of model results\n",
    "\n",
    "Create a train/test split of 67/33.  Re-fit the model using the training data.  \n",
    "\n",
    "Because the starting parameters resulted in a failure to converge, we will use an order of (2,2,6) for this model.  Print the summary."
   ]
  },
  {
   "cell_type": "code",
   "execution_count": 24,
   "metadata": {},
   "outputs": [
    {
     "name": "stdout",
     "output_type": "stream",
     "text": [
      "data length 1094\n",
      "training data min, max: 0 784\n",
      "testing data min, max:  785 1146\n"
     ]
    },
    {
     "name": "stderr",
     "output_type": "stream",
     "text": [
      "/opt/conda/lib/python3.7/site-packages/statsmodels/tsa/base/tsa_model.py:214: ValueWarning: An unsupported index was provided and will be ignored when e.g. forecasting.\n",
      "  ' ignored when e.g. forecasting.', ValueWarning)\n",
      "/opt/conda/lib/python3.7/site-packages/statsmodels/tsa/base/tsa_model.py:214: ValueWarning: An unsupported index was provided and will be ignored when e.g. forecasting.\n",
      "  ' ignored when e.g. forecasting.', ValueWarning)\n"
     ]
    },
    {
     "name": "stdout",
     "output_type": "stream",
     "text": [
      "                             ARIMA Model Results                              \n",
      "==============================================================================\n",
      "Dep. Variable:               D2.trend   No. Observations:                  730\n",
      "Model:                 ARIMA(2, 2, 6)   Log Likelihood                2078.579\n",
      "Method:                       css-mle   S.D. of innovations              0.014\n",
      "Date:                Sun, 06 Feb 2022   AIC                          -4137.158\n",
      "Time:                        18:52:00   BIC                          -4091.227\n",
      "Sample:                             2   HQIC                         -4119.437\n",
      "                                                                              \n",
      "==================================================================================\n",
      "                     coef    std err          z      P>|z|      [0.025      0.975]\n",
      "----------------------------------------------------------------------------------\n",
      "const              0.0017      0.003      0.531      0.595      -0.005       0.008\n",
      "ar.L1.D2.trend     1.6276      0.074     22.136      0.000       1.483       1.772\n",
      "ar.L2.D2.trend    -0.7298      0.064    -11.331      0.000      -0.856      -0.604\n",
      "ma.L1.D2.trend    -0.7830      0.083     -9.454      0.000      -0.945      -0.621\n",
      "ma.L2.D2.trend     0.3467      0.050      6.955      0.000       0.249       0.444\n",
      "ma.L3.D2.trend     0.0312      0.055      0.564      0.572      -0.077       0.140\n",
      "ma.L4.D2.trend     0.0097      0.054      0.181      0.856      -0.096       0.115\n",
      "ma.L5.D2.trend    -0.0067      0.049     -0.138      0.890      -0.102       0.089\n",
      "ma.L6.D2.trend     0.0281      0.054      0.518      0.604      -0.078       0.134\n",
      "                                    Roots                                    \n",
      "=============================================================================\n",
      "                  Real          Imaginary           Modulus         Frequency\n",
      "-----------------------------------------------------------------------------\n",
      "AR.1            1.1150           -0.3562j            1.1705           -0.0492\n",
      "AR.2            1.1150           +0.3562j            1.1705            0.0492\n",
      "MA.1            1.2230           -0.8823j            1.5081           -0.0995\n",
      "MA.2            1.2230           +0.8823j            1.5081            0.0995\n",
      "MA.3            0.6592           -1.6494j            1.7762           -0.1895\n",
      "MA.4            0.6592           +1.6494j            1.7762            0.1895\n",
      "MA.5           -1.7624           -1.3622j            2.2274           -0.3953\n",
      "MA.6           -1.7624           +1.3622j            2.2274            0.3953\n",
      "-----------------------------------------------------------------------------\n"
     ]
    }
   ],
   "source": [
    "# your code here\n",
    "\n",
    "import math\n",
    "print('data length', len(decomp_result.trend))\n",
    "cut_point = math.trunc(len(decomp_result.trend)*0.67)\n",
    "train = decomp_result.trend[:cut_point]\n",
    "test = decomp_result.trend[cut_point:]\n",
    "\n",
    "print('training data min, max:', train.index.min(), train.index.max())\n",
    "print('testing data min, max: ', test.index.min(), test.index.max())\n",
    "\n",
    "model = ARIMA(train, order=(2, 2, 6)) \n",
    "fit = model.fit(disp=-1)\n",
    "print(fit.summary())"
   ]
  },
  {
   "cell_type": "markdown",
   "metadata": {},
   "source": [
    "# Plot the predicted versus actual \n",
    "\n",
    "1. Plot the predicted values from the above model against the actual values using the test data set. **(5 points)**"
   ]
  },
  {
   "cell_type": "code",
   "execution_count": 32,
   "metadata": {},
   "outputs": [
    {
     "data": {
      "image/png": "[encoded data removed]",
      "text/plain": [
       "<Figure size 720x360 with 1 Axes>"
      ]
     },
     "metadata": {
      "needs_background": "light"
     },
     "output_type": "display_data"
    }
   ],
   "source": [
    "# your code here\n",
    "\n",
    "fig = fit.plot_predict(plot_insample=False)\n",
    "decomp_result.trend.loc[test.index.min():].plot(fig=fig, alpha=0.3)\n",
    "plt.show()"
   ]
  },
  {
   "cell_type": "markdown",
   "metadata": {},
   "source": [
    "## Calculate MAPE and the correlation\n",
    "Use $\\alpha$ = 0.05 for the forecast. Calculate to 3 decimal places.\n",
    "\n",
    "## Quiz 1 Question 5\n",
    "What is the MAPE for the model fitted with order=(2,2,6)?\n",
    "\n",
    "## Quiz 1 Question 6\n",
    "What is the Correlation between predicted and actual values for the model fitted with order=(2,2,6)?\n"
   ]
  },
  {
   "cell_type": "code",
   "execution_count": 33,
   "metadata": {},
   "outputs": [
    {
     "data": {
      "text/html": [
       "<div>\n",
       "<style scoped>\n",
       "    .dataframe tbody tr th:only-of-type {\n",
       "        vertical-align: middle;\n",
       "    }\n",
       "\n",
       "    .dataframe tbody tr th {\n",
       "        vertical-align: top;\n",
       "    }\n",
       "\n",
       "    .dataframe thead th {\n",
       "        text-align: right;\n",
       "    }\n",
       "</style>\n",
       "<table border=\"1\" class=\"dataframe\">\n",
       "  <thead>\n",
       "    <tr style=\"text-align: right;\">\n",
       "      <th></th>\n",
       "      <th>0</th>\n",
       "      <th>1</th>\n",
       "    </tr>\n",
       "  </thead>\n",
       "  <tbody>\n",
       "    <tr>\n",
       "      <th>0</th>\n",
       "      <td>473.485129</td>\n",
       "      <td>473.482103</td>\n",
       "    </tr>\n",
       "    <tr>\n",
       "      <th>1</th>\n",
       "      <td>473.989488</td>\n",
       "      <td>473.978630</td>\n",
       "    </tr>\n",
       "    <tr>\n",
       "      <th>2</th>\n",
       "      <td>474.509497</td>\n",
       "      <td>474.485601</td>\n",
       "    </tr>\n",
       "    <tr>\n",
       "      <th>3</th>\n",
       "      <td>475.039934</td>\n",
       "      <td>474.999945</td>\n",
       "    </tr>\n",
       "    <tr>\n",
       "      <th>4</th>\n",
       "      <td>475.573076</td>\n",
       "      <td>475.518921</td>\n",
       "    </tr>\n",
       "    <tr>\n",
       "      <th>...</th>\n",
       "      <td>...</td>\n",
       "      <td>...</td>\n",
       "    </tr>\n",
       "    <tr>\n",
       "      <th>357</th>\n",
       "      <td>734.597679</td>\n",
       "      <td>759.016164</td>\n",
       "    </tr>\n",
       "    <tr>\n",
       "      <th>358</th>\n",
       "      <td>736.725114</td>\n",
       "      <td>760.116829</td>\n",
       "    </tr>\n",
       "    <tr>\n",
       "      <th>359</th>\n",
       "      <td>738.856142</td>\n",
       "      <td>761.219176</td>\n",
       "    </tr>\n",
       "    <tr>\n",
       "      <th>360</th>\n",
       "      <td>740.990695</td>\n",
       "      <td>762.323205</td>\n",
       "    </tr>\n",
       "    <tr>\n",
       "      <th>361</th>\n",
       "      <td>743.128690</td>\n",
       "      <td>763.428916</td>\n",
       "    </tr>\n",
       "  </tbody>\n",
       "</table>\n",
       "<p>362 rows × 2 columns</p>\n",
       "</div>"
      ],
      "text/plain": [
       "              0           1\n",
       "0    473.485129  473.482103\n",
       "1    473.989488  473.978630\n",
       "2    474.509497  474.485601\n",
       "3    475.039934  474.999945\n",
       "4    475.573076  475.518921\n",
       "..          ...         ...\n",
       "357  734.597679  759.016164\n",
       "358  736.725114  760.116829\n",
       "359  738.856142  761.219176\n",
       "360  740.990695  762.323205\n",
       "361  743.128690  763.428916\n",
       "\n",
       "[362 rows x 2 columns]"
      ]
     },
     "metadata": {},
     "output_type": "display_data"
    },
    {
     "name": "stdout",
     "output_type": "stream",
     "text": [
      "MAPE:    0.11874242207365172\n",
      "Corr:    0.884088809286313\n"
     ]
    }
   ],
   "source": [
    "# your code here\n",
    "\n",
    "def mape(predicted, data):\n",
    "    return np.mean(np.abs(predicted - data)/np.abs(data))\n",
    "\n",
    "def corr(predicted, data):\n",
    "    return np.corrcoef(predicted, data)[0,1] \n",
    "\n",
    "num_observations = len(test)\n",
    "predicted, se, conf = fit.forecast(num_observations, alpha=0.05)\n",
    "\n",
    "display(pd.DataFrame(np.vstack([test[:num_observations], predicted])).T)\n",
    "\n",
    "print('MAPE:   ', mape(predicted, test[:num_observations]))\n",
    "print('Corr:   ', corr(predicted, test[:num_observations]))"
   ]
  },
  {
   "cell_type": "markdown",
   "metadata": {},
   "source": [
    "## Fit another model\n",
    "Re-fit the model using the training data.  \n",
    "\n",
    "Use an order of (2,2,4) for this model.  Print the summary."
   ]
  },
  {
   "cell_type": "code",
   "execution_count": 34,
   "metadata": {},
   "outputs": [
    {
     "name": "stderr",
     "output_type": "stream",
     "text": [
      "/opt/conda/lib/python3.7/site-packages/statsmodels/tsa/base/tsa_model.py:214: ValueWarning: An unsupported index was provided and will be ignored when e.g. forecasting.\n",
      "  ' ignored when e.g. forecasting.', ValueWarning)\n",
      "/opt/conda/lib/python3.7/site-packages/statsmodels/tsa/base/tsa_model.py:214: ValueWarning: An unsupported index was provided and will be ignored when e.g. forecasting.\n",
      "  ' ignored when e.g. forecasting.', ValueWarning)\n"
     ]
    },
    {
     "name": "stdout",
     "output_type": "stream",
     "text": [
      "                             ARIMA Model Results                              \n",
      "==============================================================================\n",
      "Dep. Variable:               D2.trend   No. Observations:                  730\n",
      "Model:                 ARIMA(2, 2, 4)   Log Likelihood                2078.445\n",
      "Method:                       css-mle   S.D. of innovations              0.014\n",
      "Date:                Sun, 06 Feb 2022   AIC                          -4140.889\n",
      "Time:                        19:10:21   BIC                          -4104.145\n",
      "Sample:                             2   HQIC                         -4126.713\n",
      "                                                                              \n",
      "==================================================================================\n",
      "                     coef    std err          z      P>|z|      [0.025      0.975]\n",
      "----------------------------------------------------------------------------------\n",
      "const              0.0017      0.003      0.528      0.597      -0.005       0.008\n",
      "ar.L1.D2.trend     1.6251      0.074     22.048      0.000       1.481       1.770\n",
      "ar.L2.D2.trend    -0.7206      0.062    -11.609      0.000      -0.842      -0.599\n",
      "ma.L1.D2.trend    -0.7787      0.083     -9.431      0.000      -0.940      -0.617\n",
      "ma.L2.D2.trend     0.3403      0.048      7.116      0.000       0.247       0.434\n",
      "ma.L3.D2.trend     0.0260      0.051      0.514      0.607      -0.073       0.125\n",
      "ma.L4.D2.trend    -0.0022      0.046     -0.048      0.962      -0.092       0.088\n",
      "                                    Roots                                    \n",
      "=============================================================================\n",
      "                  Real          Imaginary           Modulus         Frequency\n",
      "-----------------------------------------------------------------------------\n",
      "AR.1            1.1276           -0.3409j            1.1780           -0.0467\n",
      "AR.2            1.1276           +0.3409j            1.1780            0.0467\n",
      "MA.1            1.0646           -1.1925j            1.5985           -0.1340\n",
      "MA.2            1.0646           +1.1925j            1.5985            0.1340\n",
      "MA.3           -9.3752           -0.0000j            9.3752           -0.5000\n",
      "MA.4           19.1896           -0.0000j           19.1896           -0.0000\n",
      "-----------------------------------------------------------------------------\n"
     ]
    }
   ],
   "source": [
    "# your code here\n",
    "\n",
    "model = ARIMA(train, order=(2, 2, 4)) \n",
    "fit = model.fit(disp=-1)\n",
    "print(fit.summary())"
   ]
  },
  {
   "cell_type": "markdown",
   "metadata": {},
   "source": [
    "# Plot the predicted versus actual \n",
    "\n",
    "1. Plot the predicted values from the above model against the actual values using the test data set. **(5 points)**"
   ]
  },
  {
   "cell_type": "code",
   "execution_count": 35,
   "metadata": {},
   "outputs": [
    {
     "data": {
      "image/png": "[encoded data removed]",
      "text/plain": [
       "<Figure size 720x360 with 1 Axes>"
      ]
     },
     "metadata": {
      "needs_background": "light"
     },
     "output_type": "display_data"
    }
   ],
   "source": [
    "# your code here\n",
    "\n",
    "fig = fit.plot_predict(plot_insample=False)\n",
    "decomp_result.trend.loc[test.index.min():].plot(fig=fig, alpha=0.3)\n",
    "plt.show()"
   ]
  },
  {
   "cell_type": "markdown",
   "metadata": {},
   "source": [
    "## Calculate MAPE and the correlation\n",
    "Use $\\alpha$ = 0.05 for the forecast.  Calculate to 3 decimal places.\n",
    "\n",
    "## Quiz 1 Question 7\n",
    "What is the MAPE for the model fitted with order=(2,2,4)?\n",
    "\n",
    "## Quiz 1 Question 8\n",
    "What is the Correlation between predicted and actual values for the model fitted with order=(2,2,4)?\n"
   ]
  },
  {
   "cell_type": "code",
   "execution_count": 36,
   "metadata": {},
   "outputs": [
    {
     "data": {
      "text/html": [
       "<div>\n",
       "<style scoped>\n",
       "    .dataframe tbody tr th:only-of-type {\n",
       "        vertical-align: middle;\n",
       "    }\n",
       "\n",
       "    .dataframe tbody tr th {\n",
       "        vertical-align: top;\n",
       "    }\n",
       "\n",
       "    .dataframe thead th {\n",
       "        text-align: right;\n",
       "    }\n",
       "</style>\n",
       "<table border=\"1\" class=\"dataframe\">\n",
       "  <thead>\n",
       "    <tr style=\"text-align: right;\">\n",
       "      <th></th>\n",
       "      <th>0</th>\n",
       "      <th>1</th>\n",
       "    </tr>\n",
       "  </thead>\n",
       "  <tbody>\n",
       "    <tr>\n",
       "      <th>0</th>\n",
       "      <td>473.485129</td>\n",
       "      <td>473.481772</td>\n",
       "    </tr>\n",
       "    <tr>\n",
       "      <th>1</th>\n",
       "      <td>473.989488</td>\n",
       "      <td>473.977521</td>\n",
       "    </tr>\n",
       "    <tr>\n",
       "      <th>2</th>\n",
       "      <td>474.509497</td>\n",
       "      <td>474.483202</td>\n",
       "    </tr>\n",
       "    <tr>\n",
       "      <th>3</th>\n",
       "      <td>475.039934</td>\n",
       "      <td>474.995729</td>\n",
       "    </tr>\n",
       "    <tr>\n",
       "      <th>4</th>\n",
       "      <td>475.573076</td>\n",
       "      <td>475.512383</td>\n",
       "    </tr>\n",
       "    <tr>\n",
       "      <th>...</th>\n",
       "      <td>...</td>\n",
       "      <td>...</td>\n",
       "    </tr>\n",
       "    <tr>\n",
       "      <th>357</th>\n",
       "      <td>734.597679</td>\n",
       "      <td>757.062223</td>\n",
       "    </tr>\n",
       "    <tr>\n",
       "      <th>358</th>\n",
       "      <td>736.725114</td>\n",
       "      <td>758.156263</td>\n",
       "    </tr>\n",
       "    <tr>\n",
       "      <th>359</th>\n",
       "      <td>738.856142</td>\n",
       "      <td>759.251978</td>\n",
       "    </tr>\n",
       "    <tr>\n",
       "      <th>360</th>\n",
       "      <td>740.990695</td>\n",
       "      <td>760.349368</td>\n",
       "    </tr>\n",
       "    <tr>\n",
       "      <th>361</th>\n",
       "      <td>743.128690</td>\n",
       "      <td>761.448435</td>\n",
       "    </tr>\n",
       "  </tbody>\n",
       "</table>\n",
       "<p>362 rows × 2 columns</p>\n",
       "</div>"
      ],
      "text/plain": [
       "              0           1\n",
       "0    473.485129  473.481772\n",
       "1    473.989488  473.977521\n",
       "2    474.509497  474.483202\n",
       "3    475.039934  474.995729\n",
       "4    475.573076  475.512383\n",
       "..          ...         ...\n",
       "357  734.597679  757.062223\n",
       "358  736.725114  758.156263\n",
       "359  738.856142  759.251978\n",
       "360  740.990695  760.349368\n",
       "361  743.128690  761.448435\n",
       "\n",
       "[362 rows x 2 columns]"
      ]
     },
     "metadata": {},
     "output_type": "display_data"
    },
    {
     "name": "stdout",
     "output_type": "stream",
     "text": [
      "MAPE:    0.11715742400749213\n",
      "Corr:    0.8842228718289725\n"
     ]
    }
   ],
   "source": [
    "# your code here\n",
    "\n",
    "num_observations = len(test)\n",
    "predicted, se, conf = fit.forecast(num_observations, alpha=0.05)\n",
    "\n",
    "display(pd.DataFrame(np.vstack([test[:num_observations], predicted])).T)\n",
    "\n",
    "print('MAPE:   ', mape(predicted, test[:num_observations]))\n",
    "print('Corr:   ', corr(predicted, test[:num_observations]))"
   ]
  },
  {
   "cell_type": "markdown",
   "metadata": {},
   "source": [
    "## Quiz 1 Question 8\n",
    "Based on the MAPE scores for each model, which model is better?\n",
    "\n",
    "A. (2,2,6)\n",
    "\n",
    "B. (2,2,4)\n",
    "\n",
    "C. They are equivalent\n"
   ]
  },
  {
   "cell_type": "raw",
   "metadata": {},
   "source": [
    "2 2 4"
   ]
  },
  {
   "cell_type": "code",
   "execution_count": null,
   "metadata": {},
   "outputs": [],
   "source": []
  }
 ],
 "metadata": {
  "kernelspec": {
   "display_name": "Python 3",
   "language": "python",
   "name": "python3"
  },
  "language_info": {
   "codemirror_mode": {
    "name": "ipython",
    "version": 3
   },
   "file_extension": ".py",
   "mimetype": "text/x-python",
   "name": "python",
   "nbconvert_exporter": "python",
   "pygments_lexer": "ipython3",
   "version": "3.7.3"
  }
 },
 "nbformat": 4,
 "nbformat_minor": 2
}
