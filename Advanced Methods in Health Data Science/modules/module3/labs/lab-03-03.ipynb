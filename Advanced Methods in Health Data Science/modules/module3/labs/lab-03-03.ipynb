{
 "cells": [
  {
   "cell_type": "markdown",
   "metadata": {},
   "source": [
    "# Module 3 Lab 3 - Longitudinal data and sampling\n",
    "\n",
    "So far in this and prior modules, when looking at logitudinal data with regressions (GEE and LMM), we have leveraged the entire dataset, because our primary goal was to use modeling to understand the relationships in the data.\n",
    "\n",
    "However, if you wish to fit a model that is intended to be used as a predictor or classifier, then you need to address how to properly split the dataset into training and testing sets.  For longitudinal data in long form (one row per observation, as opposed to short form which is one row per subject) we cannot just take a simple random sample from the dataset, or we would end up separating the complete set of longitudinal values belonging to a subject into the train and test sets. \n",
    "\n",
    "Instead, we need to do block, or group, sampling.  In this short lab you will see how."
   ]
  },
  {
   "cell_type": "code",
   "execution_count": 1,
   "metadata": {},
   "outputs": [],
   "source": [
    "import pandas as pd\n",
    "import numpy as np\n",
    "import matplotlib.pyplot as plt"
   ]
  },
  {
   "cell_type": "markdown",
   "metadata": {},
   "source": [
    "## Load data\n",
    "We are using data sourced from the NHANES data repository.\n",
    "\n",
    "The documentation for our data file is [here](../resources/bp.txt).\n"
   ]
  },
  {
   "cell_type": "code",
   "execution_count": 2,
   "metadata": {},
   "outputs": [
    {
     "data": {
      "text/html": [
       "<div>\n",
       "<style scoped>\n",
       "    .dataframe tbody tr th:only-of-type {\n",
       "        vertical-align: middle;\n",
       "    }\n",
       "\n",
       "    .dataframe tbody tr th {\n",
       "        vertical-align: top;\n",
       "    }\n",
       "\n",
       "    .dataframe thead th {\n",
       "        text-align: right;\n",
       "    }\n",
       "</style>\n",
       "<table border=\"1\" class=\"dataframe\">\n",
       "  <thead>\n",
       "    <tr style=\"text-align: right;\">\n",
       "      <th></th>\n",
       "      <th>seq</th>\n",
       "      <th>age</th>\n",
       "      <th>male</th>\n",
       "      <th>bmi</th>\n",
       "      <th>bp_type</th>\n",
       "      <th>bp_seq</th>\n",
       "      <th>bp_value</th>\n",
       "    </tr>\n",
       "  </thead>\n",
       "  <tbody>\n",
       "    <tr>\n",
       "      <th>0</th>\n",
       "      <td>62161</td>\n",
       "      <td>22.0</td>\n",
       "      <td>1</td>\n",
       "      <td>23.3</td>\n",
       "      <td>S</td>\n",
       "      <td>1</td>\n",
       "      <td>110.0</td>\n",
       "    </tr>\n",
       "    <tr>\n",
       "      <th>1</th>\n",
       "      <td>62161</td>\n",
       "      <td>22.0</td>\n",
       "      <td>1</td>\n",
       "      <td>23.3</td>\n",
       "      <td>D</td>\n",
       "      <td>2</td>\n",
       "      <td>68.0</td>\n",
       "    </tr>\n",
       "    <tr>\n",
       "      <th>2</th>\n",
       "      <td>62161</td>\n",
       "      <td>22.0</td>\n",
       "      <td>1</td>\n",
       "      <td>23.3</td>\n",
       "      <td>S</td>\n",
       "      <td>3</td>\n",
       "      <td>118.0</td>\n",
       "    </tr>\n",
       "    <tr>\n",
       "      <th>3</th>\n",
       "      <td>62161</td>\n",
       "      <td>22.0</td>\n",
       "      <td>1</td>\n",
       "      <td>23.3</td>\n",
       "      <td>D</td>\n",
       "      <td>3</td>\n",
       "      <td>74.0</td>\n",
       "    </tr>\n",
       "    <tr>\n",
       "      <th>4</th>\n",
       "      <td>62161</td>\n",
       "      <td>22.0</td>\n",
       "      <td>1</td>\n",
       "      <td>23.3</td>\n",
       "      <td>S</td>\n",
       "      <td>2</td>\n",
       "      <td>104.0</td>\n",
       "    </tr>\n",
       "    <tr>\n",
       "      <th>5</th>\n",
       "      <td>62161</td>\n",
       "      <td>22.0</td>\n",
       "      <td>1</td>\n",
       "      <td>23.3</td>\n",
       "      <td>D</td>\n",
       "      <td>1</td>\n",
       "      <td>82.0</td>\n",
       "    </tr>\n",
       "    <tr>\n",
       "      <th>6</th>\n",
       "      <td>62163</td>\n",
       "      <td>14.0</td>\n",
       "      <td>1</td>\n",
       "      <td>17.3</td>\n",
       "      <td>S</td>\n",
       "      <td>2</td>\n",
       "      <td>108.0</td>\n",
       "    </tr>\n",
       "    <tr>\n",
       "      <th>7</th>\n",
       "      <td>62163</td>\n",
       "      <td>14.0</td>\n",
       "      <td>1</td>\n",
       "      <td>17.3</td>\n",
       "      <td>D</td>\n",
       "      <td>3</td>\n",
       "      <td>38.0</td>\n",
       "    </tr>\n",
       "    <tr>\n",
       "      <th>8</th>\n",
       "      <td>62163</td>\n",
       "      <td>14.0</td>\n",
       "      <td>1</td>\n",
       "      <td>17.3</td>\n",
       "      <td>S</td>\n",
       "      <td>3</td>\n",
       "      <td>106.0</td>\n",
       "    </tr>\n",
       "    <tr>\n",
       "      <th>9</th>\n",
       "      <td>62163</td>\n",
       "      <td>14.0</td>\n",
       "      <td>1</td>\n",
       "      <td>17.3</td>\n",
       "      <td>D</td>\n",
       "      <td>2</td>\n",
       "      <td>36.0</td>\n",
       "    </tr>\n",
       "    <tr>\n",
       "      <th>10</th>\n",
       "      <td>62163</td>\n",
       "      <td>14.0</td>\n",
       "      <td>1</td>\n",
       "      <td>17.3</td>\n",
       "      <td>S</td>\n",
       "      <td>1</td>\n",
       "      <td>112.0</td>\n",
       "    </tr>\n",
       "    <tr>\n",
       "      <th>11</th>\n",
       "      <td>62163</td>\n",
       "      <td>14.0</td>\n",
       "      <td>1</td>\n",
       "      <td>17.3</td>\n",
       "      <td>D</td>\n",
       "      <td>1</td>\n",
       "      <td>38.0</td>\n",
       "    </tr>\n",
       "    <tr>\n",
       "      <th>12</th>\n",
       "      <td>62164</td>\n",
       "      <td>44.0</td>\n",
       "      <td>0</td>\n",
       "      <td>23.2</td>\n",
       "      <td>S</td>\n",
       "      <td>1</td>\n",
       "      <td>116.0</td>\n",
       "    </tr>\n",
       "    <tr>\n",
       "      <th>13</th>\n",
       "      <td>62164</td>\n",
       "      <td>44.0</td>\n",
       "      <td>0</td>\n",
       "      <td>23.2</td>\n",
       "      <td>D</td>\n",
       "      <td>1</td>\n",
       "      <td>56.0</td>\n",
       "    </tr>\n",
       "    <tr>\n",
       "      <th>14</th>\n",
       "      <td>62164</td>\n",
       "      <td>44.0</td>\n",
       "      <td>0</td>\n",
       "      <td>23.2</td>\n",
       "      <td>S</td>\n",
       "      <td>2</td>\n",
       "      <td>118.0</td>\n",
       "    </tr>\n",
       "  </tbody>\n",
       "</table>\n",
       "</div>"
      ],
      "text/plain": [
       "      seq   age  male   bmi bp_type  bp_seq  bp_value\n",
       "0   62161  22.0     1  23.3       S       1     110.0\n",
       "1   62161  22.0     1  23.3       D       2      68.0\n",
       "2   62161  22.0     1  23.3       S       3     118.0\n",
       "3   62161  22.0     1  23.3       D       3      74.0\n",
       "4   62161  22.0     1  23.3       S       2     104.0\n",
       "5   62161  22.0     1  23.3       D       1      82.0\n",
       "6   62163  14.0     1  17.3       S       2     108.0\n",
       "7   62163  14.0     1  17.3       D       3      38.0\n",
       "8   62163  14.0     1  17.3       S       3     106.0\n",
       "9   62163  14.0     1  17.3       D       2      36.0\n",
       "10  62163  14.0     1  17.3       S       1     112.0\n",
       "11  62163  14.0     1  17.3       D       1      38.0\n",
       "12  62164  44.0     0  23.2       S       1     116.0\n",
       "13  62164  44.0     0  23.2       D       1      56.0\n",
       "14  62164  44.0     0  23.2       S       2     118.0"
      ]
     },
     "metadata": {},
     "output_type": "display_data"
    }
   ],
   "source": [
    "data = pd.read_csv('../resources/bp.csv')\n",
    "\n",
    "display(data.head(15))"
   ]
  },
  {
   "cell_type": "markdown",
   "metadata": {},
   "source": [
    "## Block Randomization\n",
    "\n",
    "Our dataset consists of systolic and diastolic readings taken from a set of subjects.  Each subject had at most three bp readings taken in successive visits, which represent our longitudinal and dependent data. If we took a simpe random sample of 33%, then we would expect that for each subject, we would not select all of their bp readings.  Trying to fit a LMM model on this sample would not be representative of the whole dataset, because we would have eliminated some portion of each subjects' longitudinal data, making the LMM less powerful.\n",
    "\n",
    "Instead we need to select a random number of subjects, and then get all of the data for those subjects."
   ]
  },
  {
   "cell_type": "markdown",
   "metadata": {},
   "source": [
    "For this example we only look at systolic blood pressure.\n",
    "\n",
    "We will display a histogram of the number of systolic bp counts per subject."
   ]
  },
  {
   "cell_type": "code",
   "execution_count": 3,
   "metadata": {},
   "outputs": [
    {
     "data": {
      "image/png": "[encoded data removed]",
      "text/plain": [
       "<Figure size 432x288 with 1 Axes>"
      ]
     },
     "metadata": {
      "needs_background": "light"
     },
     "output_type": "display_data"
    }
   ],
   "source": [
    "model_data = data.loc[data['bp_type'] == 'S']\n",
    "\n",
    "model_data.groupby(by='seq')[['bp_seq']].count().hist()\n",
    "plt.show()\n",
    "\n"
   ]
  },
  {
   "cell_type": "markdown",
   "metadata": {},
   "source": [
    "We can see that nearly all of the subjects have 3 observations for systolic bloodpressure, with a few that only had one or two.\n",
    "\n",
    "Now, we will apply a naive train/test split using the `train_test_split` function from sklearn and observe the results."
   ]
  },
  {
   "cell_type": "code",
   "execution_count": 4,
   "metadata": {},
   "outputs": [
    {
     "data": {
      "text/plain": [
       "array([[<matplotlib.axes._subplots.AxesSubplot object at 0x7f255e022400>]],\n",
       "      dtype=object)"
      ]
     },
     "execution_count": 4,
     "metadata": {},
     "output_type": "execute_result"
    },
    {
     "data": {
      "image/png": "[encoded data removed]",
      "text/plain": [
       "<Figure size 432x288 with 1 Axes>"
      ]
     },
     "metadata": {
      "needs_background": "light"
     },
     "output_type": "display_data"
    },
    {
     "data": {
      "image/png": "[encoded data removed]",
      "text/plain": [
       "<Figure size 432x288 with 1 Axes>"
      ]
     },
     "metadata": {
      "needs_background": "light"
     },
     "output_type": "display_data"
    }
   ],
   "source": [
    "from sklearn.model_selection import train_test_split\n",
    "\n",
    "y=model_data['bp_value']\n",
    "X=model_data.drop('bp_value', axis=1)\n",
    "\n",
    "X_train, X_test, y_train, y_test = train_test_split(X, y, test_size=0.33, random_state=42)\n",
    "\n",
    "X_train.groupby(by='seq')[['bp_seq']].count().hist()\n",
    "X_test.groupby(by='seq')[['bp_seq']].count().hist()"
   ]
  },
  {
   "cell_type": "markdown",
   "metadata": {},
   "source": [
    "With the longitudinal-unaware approach, we see that now we have a completely different distribution of counts of bp readings in the train and test sets.  Our longitudinal analysis will now be skewed because a large portion of our training data has fewer than the full number of bp readings available for analysis, and the test data set is not representative of either the train or the full dataset."
   ]
  },
  {
   "cell_type": "markdown",
   "metadata": {},
   "source": [
    "For a proper split, the splitting technique must be group aware.  We can do this with some built in split classes from sklearn.\n",
    "\n",
    "First is a train/test split:"
   ]
  },
  {
   "cell_type": "code",
   "execution_count": 5,
   "metadata": {},
   "outputs": [
    {
     "data": {
      "text/plain": [
       "array([[<matplotlib.axes._subplots.AxesSubplot object at 0x7f255df1eb70>]],\n",
       "      dtype=object)"
      ]
     },
     "execution_count": 5,
     "metadata": {},
     "output_type": "execute_result"
    },
    {
     "data": {
      "image/png": "[encoded data removed]",
      "text/plain": [
       "<Figure size 432x288 with 1 Axes>"
      ]
     },
     "metadata": {
      "needs_background": "light"
     },
     "output_type": "display_data"
    },
    {
     "data": {
      "image/png": "[encoded data removed]",
      "text/plain": [
       "<Figure size 432x288 with 1 Axes>"
      ]
     },
     "metadata": {
      "needs_background": "light"
     },
     "output_type": "display_data"
    }
   ],
   "source": [
    "from sklearn.model_selection import GroupShuffleSplit\n",
    "\n",
    "groups=model_data['seq']\n",
    "\n",
    "train_indx, test_indx = next(GroupShuffleSplit(n_splits=2, test_size=.33, random_state=42).split(X, y, groups))\n",
    "\n",
    "X_train, X_test, y_train, y_test = X.iloc[train_indx], X.iloc[test_indx], y.iloc[train_indx], y.iloc[test_indx]\n",
    "\n",
    "X_train.groupby(by='seq')[['bp_seq']].count().hist()\n",
    "X_test.groupby(by='seq')[['bp_seq']].count().hist()"
   ]
  },
  {
   "cell_type": "markdown",
   "metadata": {},
   "source": [
    "Now we can see that the train and test splits retain the distribution of the original data."
   ]
  },
  {
   "cell_type": "markdown",
   "metadata": {},
   "source": [
    "k-fold cross validation can also account for grouped data, as below.  We will create a 3 fold cross validation and print the distribution of bp values in the train set created by each fold."
   ]
  },
  {
   "cell_type": "code",
   "execution_count": 6,
   "metadata": {},
   "outputs": [
    {
     "data": {
      "image/png": "[encoded data removed]",
      "text/plain": [
       "<Figure size 432x288 with 1 Axes>"
      ]
     },
     "metadata": {
      "needs_background": "light"
     },
     "output_type": "display_data"
    },
    {
     "data": {
      "image/png": "[encoded data removed]",
      "text/plain": [
       "<Figure size 432x288 with 1 Axes>"
      ]
     },
     "metadata": {
      "needs_background": "light"
     },
     "output_type": "display_data"
    },
    {
     "data": {
      "image/png": "[encoded data removed]",
      "text/plain": [
       "<Figure size 432x288 with 1 Axes>"
      ]
     },
     "metadata": {
      "needs_background": "light"
     },
     "output_type": "display_data"
    }
   ],
   "source": [
    "from sklearn.model_selection import GroupKFold\n",
    "\n",
    "gkf = GroupKFold(n_splits=3)\n",
    "for train, test in gkf.split(X, y, groups=groups):\n",
    "    X_train.groupby(by='seq')[['bp_seq']].count().hist()\n",
    "    plt.show()"
   ]
  },
  {
   "cell_type": "markdown",
   "metadata": {},
   "source": [
    "We again see that the distribution is retained.\n",
    "\n",
    "Finally, we will see how to do a train test split on longitudinal data without using sklearn.  We select a random sample of unique subject identifiers, and use those to get data from our original data frame."
   ]
  },
  {
   "cell_type": "code",
   "execution_count": 7,
   "metadata": {},
   "outputs": [
    {
     "data": {
      "text/plain": [
       "array([[<matplotlib.axes._subplots.AxesSubplot object at 0x7f255dc423c8>]],\n",
       "      dtype=object)"
      ]
     },
     "execution_count": 7,
     "metadata": {},
     "output_type": "execute_result"
    },
    {
     "data": {
      "image/png": "[encoded data removed]",
      "text/plain": [
       "<Figure size 432x288 with 1 Axes>"
      ]
     },
     "metadata": {
      "needs_background": "light"
     },
     "output_type": "display_data"
    },
    {
     "data": {
      "image/png": "[encoded data removed]",
      "text/plain": [
       "<Figure size 432x288 with 1 Axes>"
      ]
     },
     "metadata": {
      "needs_background": "light"
     },
     "output_type": "display_data"
    }
   ],
   "source": [
    "test_seqs = pd.Series(model_data['seq'].unique()).sample(frac=0.33, random_state=42)\n",
    "\n",
    "train = model_data[~model_data['seq'].isin(test_seqs)]\n",
    "test = model_data[model_data['seq'].isin(test_seqs)]\n",
    "\n",
    "train.groupby(by='seq')[['bp_seq']].count().hist()\n",
    "test.groupby(by='seq')[['bp_seq']].count().hist()"
   ]
  },
  {
   "cell_type": "code",
   "execution_count": null,
   "metadata": {},
   "outputs": [],
   "source": []
  }
 ],
 "metadata": {
  "kernelspec": {
   "display_name": "Python 3",
   "language": "python",
   "name": "python3"
  },
  "language_info": {
   "codemirror_mode": {
    "name": "ipython",
    "version": 3
   },
   "file_extension": ".py",
   "mimetype": "text/x-python",
   "name": "python",
   "nbconvert_exporter": "python",
   "pygments_lexer": "ipython3",
   "version": "3.7.3"
  }
 },
 "nbformat": 4,
 "nbformat_minor": 2
}
