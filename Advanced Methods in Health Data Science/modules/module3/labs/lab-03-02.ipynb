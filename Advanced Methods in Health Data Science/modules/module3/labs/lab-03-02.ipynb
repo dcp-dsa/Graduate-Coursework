{
 "cells": [
  {
   "cell_type": "markdown",
   "metadata": {},
   "source": [
    "# Module 3 Lab 2 - Linear Mixed-effects Models (LMM)\n",
    "\n",
    "In prior courses you have likely learned how to create regression models that allow you to predict a dependent variable using one or more independent variables.  Those methods, linear regression, logistic regression, ordinary least squares, etc, had an assumption in common: the independent variables must be independent of each other.  The only dependency that was allowable was to the variable you were trying to predict.  \n",
    "\n",
    "Of course, this assumption is not always possible to make, and in some cases, we may inadvertently ignore that some independent variables are actually related and use those methods anyways.  In cases where longitudinal data are included in the model, the independent variables are explicitly correlated.  We've explored other ways to handle this kind of related data, and here we will discuss another approach.  Linear Mixed-Effects Modeling can handle modeling linear relationships where the independent variables acutally have some dependency.\n",
    "\n",
    "In this lab, we will learn how to run such a model."
   ]
  },
  {
   "cell_type": "code",
   "execution_count": 1,
   "metadata": {},
   "outputs": [
    {
     "name": "stdout",
     "output_type": "stream",
     "text": [
      "Requirement already up-to-date: statsmodels==0.11 in /opt/conda/lib/python3.7/site-packages (0.11.0)\n",
      "Requirement already satisfied, skipping upgrade: pandas>=0.21 in /opt/conda/lib/python3.7/site-packages (from statsmodels==0.11) (0.25.2)\n",
      "Requirement already satisfied, skipping upgrade: numpy>=1.14 in /opt/conda/lib/python3.7/site-packages (from statsmodels==0.11) (1.17.3)\n",
      "Requirement already satisfied, skipping upgrade: scipy>=1.0 in /opt/conda/lib/python3.7/site-packages (from statsmodels==0.11) (1.2.1)\n",
      "Requirement already satisfied, skipping upgrade: patsy>=0.5 in /opt/conda/lib/python3.7/site-packages (from statsmodels==0.11) (0.5.1)\n",
      "Requirement already satisfied, skipping upgrade: python-dateutil>=2.6.1 in /opt/conda/lib/python3.7/site-packages (from pandas>=0.21->statsmodels==0.11) (2.8.0)\n",
      "Requirement already satisfied, skipping upgrade: pytz>=2017.2 in /opt/conda/lib/python3.7/site-packages (from pandas>=0.21->statsmodels==0.11) (2019.2)\n",
      "Requirement already satisfied, skipping upgrade: six in /opt/conda/lib/python3.7/site-packages (from patsy>=0.5->statsmodels==0.11) (1.12.0)\n"
     ]
    }
   ],
   "source": [
    "import pandas as pd\n",
    "import numpy as np\n",
    "from pprint import pprint\n",
    "import sys\n",
    "!{sys.executable} -m pip install --upgrade \"statsmodels==0.11\"\n",
    "\n",
    "import statsmodels.api as sm"
   ]
  },
  {
   "cell_type": "markdown",
   "metadata": {},
   "source": [
    "## Data\n",
    "\n",
    "3 female and 4 male trained athletes were asked to perform 7 exercise routines in both cool and warm conditions.  Their maximum heart rate was recorded for each of the trials.\n",
    "\n",
    "    * subject - a subject identifier\n",
    "    * gender - M for male, F for female\n",
    "    * scenario - 1-7 for each exercise scenario\n",
    "    * temp - warm or cool for the temperature condition of the exercise\n",
    "    * hr - the maximum attained heart rate during the exercise\n",
    "\n",
    "We want to analyze this data to understand if there is a relationship between maximum heart rate during exercise and temperature.  Because we took seven measurements per subject, the data have dependencies, therefore we cannot apply traditional linear regression. In addition to this dependent data, we have a fixed effect of gender, and an additional variable of temperature. We will use a mixed effects model to handle this analysis.\n",
    "\n",
    "First we will load the data and look at the heart rate in box plots by the different variables in our data set."
   ]
  },
  {
   "cell_type": "code",
   "execution_count": 2,
   "metadata": {},
   "outputs": [
    {
     "data": {
      "text/html": [
       "<div>\n",
       "<style scoped>\n",
       "    .dataframe tbody tr th:only-of-type {\n",
       "        vertical-align: middle;\n",
       "    }\n",
       "\n",
       "    .dataframe tbody tr th {\n",
       "        vertical-align: top;\n",
       "    }\n",
       "\n",
       "    .dataframe thead th {\n",
       "        text-align: right;\n",
       "    }\n",
       "</style>\n",
       "<table border=\"1\" class=\"dataframe\">\n",
       "  <thead>\n",
       "    <tr style=\"text-align: right;\">\n",
       "      <th></th>\n",
       "      <th>subject</th>\n",
       "      <th>gender</th>\n",
       "      <th>scenario</th>\n",
       "      <th>temp</th>\n",
       "      <th>hr</th>\n",
       "    </tr>\n",
       "  </thead>\n",
       "  <tbody>\n",
       "    <tr>\n",
       "      <th>0</th>\n",
       "      <td>F1</td>\n",
       "      <td>F</td>\n",
       "      <td>1</td>\n",
       "      <td>warm</td>\n",
       "      <td>137</td>\n",
       "    </tr>\n",
       "    <tr>\n",
       "      <th>1</th>\n",
       "      <td>F1</td>\n",
       "      <td>F</td>\n",
       "      <td>1</td>\n",
       "      <td>cool</td>\n",
       "      <td>143</td>\n",
       "    </tr>\n",
       "    <tr>\n",
       "      <th>2</th>\n",
       "      <td>F1</td>\n",
       "      <td>F</td>\n",
       "      <td>2</td>\n",
       "      <td>warm</td>\n",
       "      <td>174</td>\n",
       "    </tr>\n",
       "    <tr>\n",
       "      <th>3</th>\n",
       "      <td>F1</td>\n",
       "      <td>F</td>\n",
       "      <td>2</td>\n",
       "      <td>cool</td>\n",
       "      <td>191</td>\n",
       "    </tr>\n",
       "    <tr>\n",
       "      <th>4</th>\n",
       "      <td>F1</td>\n",
       "      <td>F</td>\n",
       "      <td>3</td>\n",
       "      <td>warm</td>\n",
       "      <td>193</td>\n",
       "    </tr>\n",
       "    <tr>\n",
       "      <th>...</th>\n",
       "      <td>...</td>\n",
       "      <td>...</td>\n",
       "      <td>...</td>\n",
       "      <td>...</td>\n",
       "      <td>...</td>\n",
       "    </tr>\n",
       "    <tr>\n",
       "      <th>78</th>\n",
       "      <td>M7</td>\n",
       "      <td>M</td>\n",
       "      <td>5</td>\n",
       "      <td>cool</td>\n",
       "      <td>126</td>\n",
       "    </tr>\n",
       "    <tr>\n",
       "      <th>79</th>\n",
       "      <td>M7</td>\n",
       "      <td>M</td>\n",
       "      <td>6</td>\n",
       "      <td>warm</td>\n",
       "      <td>145</td>\n",
       "    </tr>\n",
       "    <tr>\n",
       "      <th>80</th>\n",
       "      <td>M7</td>\n",
       "      <td>M</td>\n",
       "      <td>6</td>\n",
       "      <td>cool</td>\n",
       "      <td>145</td>\n",
       "    </tr>\n",
       "    <tr>\n",
       "      <th>81</th>\n",
       "      <td>M7</td>\n",
       "      <td>M</td>\n",
       "      <td>7</td>\n",
       "      <td>warm</td>\n",
       "      <td>166</td>\n",
       "    </tr>\n",
       "    <tr>\n",
       "      <th>82</th>\n",
       "      <td>M7</td>\n",
       "      <td>M</td>\n",
       "      <td>7</td>\n",
       "      <td>cool</td>\n",
       "      <td>144</td>\n",
       "    </tr>\n",
       "  </tbody>\n",
       "</table>\n",
       "<p>83 rows × 5 columns</p>\n",
       "</div>"
      ],
      "text/plain": [
       "   subject gender  scenario  temp   hr\n",
       "0       F1      F         1  warm  137\n",
       "1       F1      F         1  cool  143\n",
       "2       F1      F         2  warm  174\n",
       "3       F1      F         2  cool  191\n",
       "4       F1      F         3  warm  193\n",
       "..     ...    ...       ...   ...  ...\n",
       "78      M7      M         5  cool  126\n",
       "79      M7      M         6  warm  145\n",
       "80      M7      M         6  cool  145\n",
       "81      M7      M         7  warm  166\n",
       "82      M7      M         7  cool  144\n",
       "\n",
       "[83 rows x 5 columns]"
      ]
     },
     "metadata": {},
     "output_type": "display_data"
    }
   ],
   "source": [
    "import matplotlib.pyplot as plt\n",
    "plt.rcParams[\"figure.figsize\"] = [10, 5]\n",
    "\n",
    "data=pd.read_csv('../resources/exercise.csv')\n",
    "data = data.dropna(how='any')\n",
    "\n",
    "display(data)\n"
   ]
  },
  {
   "cell_type": "code",
   "execution_count": 3,
   "metadata": {},
   "outputs": [
    {
     "data": {
      "text/plain": [
       "<matplotlib.axes._subplots.AxesSubplot at 0x7f677b9aca90>"
      ]
     },
     "execution_count": 3,
     "metadata": {},
     "output_type": "execute_result"
    },
    {
     "data": {
      "image/png": "[encoded data removed]",
      "text/plain": [
       "<Figure size 432x288 with 1 Axes>"
      ]
     },
     "metadata": {
      "needs_background": "light"
     },
     "output_type": "display_data"
    }
   ],
   "source": [
    "data.boxplot(column='hr', by='scenario')"
   ]
  },
  {
   "cell_type": "code",
   "execution_count": 4,
   "metadata": {},
   "outputs": [
    {
     "data": {
      "text/plain": [
       "<matplotlib.axes._subplots.AxesSubplot at 0x7f677b847710>"
      ]
     },
     "execution_count": 4,
     "metadata": {},
     "output_type": "execute_result"
    },
    {
     "data": {
      "image/png": "[encoded data removed]",
      "text/plain": [
       "<Figure size 432x288 with 1 Axes>"
      ]
     },
     "metadata": {
      "needs_background": "light"
     },
     "output_type": "display_data"
    }
   ],
   "source": [
    "data.boxplot(column='hr', by='subject')"
   ]
  },
  {
   "cell_type": "code",
   "execution_count": 5,
   "metadata": {},
   "outputs": [
    {
     "data": {
      "text/plain": [
       "<matplotlib.axes._subplots.AxesSubplot at 0x7f677b0aacc0>"
      ]
     },
     "execution_count": 5,
     "metadata": {},
     "output_type": "execute_result"
    },
    {
     "data": {
      "image/png": "[encoded data removed]",
      "text/plain": [
       "<Figure size 432x288 with 1 Axes>"
      ]
     },
     "metadata": {
      "needs_background": "light"
     },
     "output_type": "display_data"
    }
   ],
   "source": [
    "data.boxplot(column='hr', by='temp')"
   ]
  },
  {
   "cell_type": "code",
   "execution_count": 6,
   "metadata": {},
   "outputs": [
    {
     "data": {
      "text/plain": [
       "<matplotlib.axes._subplots.AxesSubplot at 0x7f677b02a8d0>"
      ]
     },
     "execution_count": 6,
     "metadata": {},
     "output_type": "execute_result"
    },
    {
     "data": {
      "image/png": "[encoded data removed]",
      "text/plain": [
       "<Figure size 432x288 with 1 Axes>"
      ]
     },
     "metadata": {
      "needs_background": "light"
     },
     "output_type": "display_data"
    }
   ],
   "source": [
    "data.boxplot(column='hr', by=['subject','temp'])"
   ]
  },
  {
   "cell_type": "markdown",
   "metadata": {},
   "source": [
    "## From linear regression to Generalized Estimating Equations to Linear Mixed-effects Models\n",
    "\n",
    "Recall that in ordinary least squares (OLS) linear regression, we specify a model that is comprised of one dependent variable and one or more independent variables.  For the data file above, we might naively try a model such as:\n",
    "\n",
    "`hr ~ gender + C(temp) + C(scenario) `\n",
    "\n",
    "However, this model is incorrect because of the independency assumption of OLS.  Because each subject has 7 different heart rates recorded, there is a dependency of the variable hr within each subject.\n",
    "\n",
    "In prior labs we covered Generalized Estimating Equations as well as Repeated Measures ANOVA.  Each of these methods has a place in modeling dependent data, and provide different interpretations:\n",
    "\n",
    "  * ANOVARM - Is there a significant difference in the means of the different groups or time points\n",
    "  * GEE - Provides a model that accounts for dependencies but returns average effects across all subjects with a correction for the dependence\n",
    "  \n",
    "With LMM, we get benefit the of GEE's handling of dependencies between the predictor variables, but rather than apply a correction to a global set of parameter estimates, LMM will subdivide the data into clusters, and compute cluster specific parameters which are then brought together in a weighted fashion to form the final model.\n",
    "\n",
    "The difference can be visualized clearly in the below animation of [Simpson's Paradox](https://www.britannica.com/topic/Simpsons-paradox)\n",
    "\n",
    "\n",
    "<img src='../resources/Simpsons_paradox_-_animation.gif'/>\n",
    "(By Pace~svwiki - Own work, CC BY-SA 4.0, https://commons.wikimedia.org/w/index.php?curid=62007681)\n",
    "\n",
    "In the animation, we see 5 clusters of data with positive trends (slopes); however, when taken as a whole, the trend is negative.  In a GEE, the negative slope would be represented, because it's answering the question of _overall_ trend while accounting for interdependent data, whereas LMM will represent positive slopes for the individual clusters and ignore the overall trend.\n",
    "\n",
    "Clearly you can see that the choice of model depends on the question you wish to answer as well as what your data supports.\n",
    "\n",
    "Lets move on to how we might apply LMM's to our heart rate data."
   ]
  },
  {
   "cell_type": "markdown",
   "metadata": {},
   "source": [
    "## Modeling heart rate data\n",
    "We'll start by modeling the heart rate data accounting for the variable `temp`.  Our goal is to provide a model that accounts for the dependence of the data within a subject.  The first model we will apply is the simplest mixed model, one with a single fixed effect and a single random effect.\n",
    "\n",
    "The fixed effect is the independent variable, and the random effect is meant to model the variance within a cluster.\n",
    "\n",
    "Here is the model specified in mathematical notation:\n",
    "\n",
    "$\\huge Y_{ij} = \\beta_0 + \\beta_{1}X + \\mu_i + \\epsilon_{ij}$\n",
    "\n",
    "This resembles a regular linear regression model, but with some extra terms and differences.\n",
    "\n",
    "First, some terms are subscripted:\n",
    "\n",
    "  * i - represents a cluster\n",
    "  * j - represents an observation\n",
    "  \n",
    "So, within clusters 1..i, we can have observations 1..j.  The result of the regression is a prediction for a particular observation j within a cluster i.\n",
    "\n",
    "In addition to the fixed intercept we are used to seeing in OLS regression ($\\beta_0$) and the coefficient for our fixed variable ($\\beta_{1}X$), we also have a random intercept $\\mu_i$, which represents the variation for each cluster, and finally the error term $\\epsilon_{ij}$, which represents the residual for each observation j nested with cluster i.\n",
    "\n",
    "So you can see that, unlike an OLS regression model which can be represented with only simple real numbers for the $\\beta$ parameters, a LMM also needs matrix structures to represent these additional terms.\n",
    "\n",
    "Below we will use statsmodels to fit this simple LMM. "
   ]
  },
  {
   "cell_type": "code",
   "execution_count": 7,
   "metadata": {},
   "outputs": [
    {
     "name": "stdout",
     "output_type": "stream",
     "text": [
      "            Mixed Linear Model Regression Results\n",
      "=============================================================\n",
      "Model:              MixedLM   Dependent Variable:   hr       \n",
      "No. Observations:   83        Method:               REML     \n",
      "No. Groups:         6         Scale:                623.3206 \n",
      "Min. group size:    13        Log-Likelihood:       -383.0004\n",
      "Max. group size:    14        Converged:            Yes      \n",
      "Mean group size:    13.8                                     \n",
      "-------------------------------------------------------------\n",
      "                 Coef.  Std.Err.   z    P>|z|  [0.025  0.975]\n",
      "-------------------------------------------------------------\n",
      "Intercept       147.935    6.402 23.106 0.000 135.386 160.483\n",
      "C(temp)[T.warm]  15.494    5.483  2.826 0.005   4.748  26.240\n",
      "subject Var     154.617    5.207                             \n",
      "=============================================================\n",
      "\n"
     ]
    }
   ],
   "source": [
    "# create a model with a single random intercept\n",
    "\n",
    "model = sm.MixedLM.from_formula('hr ~ C(temp)',\n",
    "                                 groups='subject', data=data)\n",
    "result = model.fit()\n",
    "print(result.summary())\n"
   ]
  },
  {
   "cell_type": "markdown",
   "metadata": {},
   "source": [
    "## Interpretation \n",
    "Interpretation of the model is similar to that for OLS.  The base heart rate is the intercept (147.935).  When the tempearture is `warm`, the base hr goes up by 15.494.\n",
    "\n",
    "There is an additional parameter labeled `subject Var` in the output.  This is the variance of the random effect for `subject`, meaning the standard deviation is approximately 12.43 (the square root of 154.617).  Recall that one standard deviation from the mean accounts for about 68% of the data.  So, about 68% of the random intercepts by subject are $\\pm$ 12.43 from the fixed intercept for heart rate, plus any adjustment by other fixed variables.\n",
    "\n",
    "The `Scale` values gives us the error variance for the model, which is the variance of the difference between the predicted and actual heart rates.  If you convert to the standard deviation you will know that about 68% of the differences between the fitted and actual heart rates are within 24.97.\n",
    "\n",
    "Recall the random effect for the simple mixied-effect model that we fitted:\n",
    "\n",
    "$\\large hr_{ij} = \\beta_0 + \\beta_{1}temp + \\mu_i + \\epsilon_{ij}$\n",
    "\n",
    "$\\mu_i$ indicates that there is a group specific mean applied to the model, and we can see what those are:\n"
   ]
  },
  {
   "cell_type": "code",
   "execution_count": 8,
   "metadata": {},
   "outputs": [
    {
     "name": "stdout",
     "output_type": "stream",
     "text": [
      "{'F1': subject   -0.030051\n",
      "dtype: float64,\n",
      " 'F2': subject    13.834665\n",
      "dtype: float64,\n",
      " 'F3': subject    10.063462\n",
      "dtype: float64,\n",
      " 'M3': subject   -9.513517\n",
      "dtype: float64,\n",
      " 'M4': subject    0.316632\n",
      "dtype: float64,\n",
      " 'M7': subject   -14.671192\n",
      "dtype: float64}\n"
     ]
    }
   ],
   "source": [
    "pprint(result.random_effects)"
   ]
  },
  {
   "cell_type": "markdown",
   "metadata": {},
   "source": [
    "We have a different mean intercept for each of the members in the group, which represent the random effect of the model.  So, for subject `F1`, the mean heart rate is reduced by 0.03, for `F2` it is increased by 13.83, and so on.  \n",
    "\n",
    "Now, in our model we only specified temp as a predictor, but we also have gender, and based on our boxplots from above we can see that there is a difference in heart rate by gender, so we will fit a LMM including gender next."
   ]
  },
  {
   "cell_type": "code",
   "execution_count": 9,
   "metadata": {},
   "outputs": [
    {
     "name": "stdout",
     "output_type": "stream",
     "text": [
      "            Mixed Linear Model Regression Results\n",
      "=============================================================\n",
      "Model:              MixedLM   Dependent Variable:   hr       \n",
      "No. Observations:   83        Method:               REML     \n",
      "No. Groups:         6         Scale:                623.6169 \n",
      "Min. group size:    13        Log-Likelihood:       -377.5542\n",
      "Max. group size:    14        Converged:            Yes      \n",
      "Mean group size:    13.8                                     \n",
      "-------------------------------------------------------------\n",
      "                 Coef.  Std.Err.   z    P>|z|  [0.025  0.975]\n",
      "-------------------------------------------------------------\n",
      "Intercept       158.115    6.103 25.907 0.000 146.153 170.077\n",
      "C(temp)[T.warm]  15.626    5.485  2.849 0.004   4.877  26.376\n",
      "C(gender)[T.M]  -20.626    7.736 -2.666 0.008 -35.788  -5.465\n",
      "subject Var      44.640    2.622                             \n",
      "=============================================================\n",
      "\n"
     ]
    }
   ],
   "source": [
    "model = sm.MixedLM.from_formula('hr ~ C(temp) + C(gender)',\n",
    "                                 groups='subject', data=data)\n",
    "result = model.fit()\n",
    "print(result.summary())"
   ]
  },
  {
   "cell_type": "markdown",
   "metadata": {},
   "source": [
    "In these results we can see that adding gender, which is a significant independent variable, reduced the random effect variance considerably, leading to a better model, because more of the within-subject uncertainty in the model was explained by gender.  However, the overall error variance did not change much.\n",
    "\n",
    "Next, we will fit a _crossed_ random effects model.  A crossed random effects model means that we build a model accounting for two groups.  This is represented in formula as:\n",
    "\n",
    "$\\huge Y_{ij} = \\beta_0 + \\beta_{1}X + \\mu{1}_i + \\mu{2}_i + \\epsilon_{ij}$\n",
    "\n",
    "Now you can see that we have two random intercepts added to the model, and each one is treated independently.  This allows the model to control for two random effects at the intercept level.  In our case, we will add the `scenario` as a second random intercept.  Recall that each of the subjects in the study were asked to perform seven different exercises.  Based on the box plot, we can see that there is some variablility in those, so adding a second random intercept will help with modeling the data.\n",
    "\n",
    "In statsmodels, we create a dictionary describing our two random intercepts, and pass a constant group feature to the MixedLM method.  This is an artifact of the implementation in statsmodels. In R, the implementation is more robust and straightforward.\n"
   ]
  },
  {
   "cell_type": "code",
   "execution_count": 10,
   "metadata": {},
   "outputs": [
    {
     "name": "stdout",
     "output_type": "stream",
     "text": [
      "           Mixed Linear Model Regression Results\n",
      "============================================================\n",
      "Model:               MixedLM  Dependent Variable:  hr       \n",
      "No. Observations:    83       Method:              REML     \n",
      "No. Groups:          1        Scale:               504.1692 \n",
      "Min. group size:     83       Log-Likelihood:      -373.5784\n",
      "Max. group size:     83       Converged:           Yes      \n",
      "Mean group size:     83.0                                   \n",
      "------------------------------------------------------------\n",
      "                Coef.  Std.Err.   z    P>|z|  [0.025  0.975]\n",
      "------------------------------------------------------------\n",
      "Intercept      158.024    7.294 21.665 0.000 143.728 172.319\n",
      "temp[T.warm]    15.810    4.934  3.204 0.001   6.140  25.479\n",
      "C(gender)[T.M] -20.810    7.607 -2.736 0.006 -35.719  -5.900\n",
      "scenario Var   128.433    4.576                             \n",
      "subject Var     50.290    2.821                             \n",
      "============================================================\n",
      "\n",
      "\n",
      "{0: scenario[C(scenario)[1]]   -10.818192\n",
      "scenario[C(scenario)[2]]     4.691471\n",
      "scenario[C(scenario)[3]]     7.956663\n",
      "scenario[C(scenario)[4]]    16.056851\n",
      "scenario[C(scenario)[5]]    -3.283133\n",
      "scenario[C(scenario)[6]]    -8.055335\n",
      "scenario[C(scenario)[7]]    -6.548325\n",
      "subject[C(subject)[F1]]     -5.993706\n",
      "subject[C(subject)[F2]]      4.412034\n",
      "subject[C(subject)[F3]]      1.581673\n",
      "subject[C(subject)[M3]]     -0.985077\n",
      "subject[C(subject)[M4]]      5.841090\n",
      "subject[C(subject)[M7]]     -4.856013\n",
      "dtype: float64}\n"
     ]
    }
   ],
   "source": [
    "# create a model with two random intercepts (a crossed random effects model)\n",
    "data['group'] = 0 # add a constant group which will be used when doing a crossed effects model\n",
    "\n",
    "vcf = {\"subject\": \"0 + C(subject)\", \"scenario\": \"0 + C(scenario)\"}\n",
    "model = sm.MixedLM.from_formula(\n",
    "    \"hr ~ temp + C(gender)\",\n",
    "    groups='group',\n",
    "    vc_formula=vcf,\n",
    "    data=data)\n",
    "\n",
    "result = model.fit()\n",
    "print(result.summary())\n",
    "print()\n",
    "pprint(result.random_effects)"
   ]
  },
  {
   "cell_type": "markdown",
   "metadata": {},
   "source": [
    "This model produced a slightly higher variance for subject, and the variance for scenario is not too high.  The overall error variance went down signficantly, so more of the overall uncertaintly was explained by adding scenario as a crossed effect.\n",
    "\n",
    "We can test if the relationship is different for subjects and scenarios by looking at a _hierarchical_ model for random intercepts.  In such a model, the intercept of a lower level in the hierarchy depends upon the higher level."
   ]
  },
  {
   "cell_type": "code",
   "execution_count": 11,
   "metadata": {},
   "outputs": [
    {
     "name": "stdout",
     "output_type": "stream",
     "text": [
      "           Mixed Linear Model Regression Results\n",
      "============================================================\n",
      "Model:               MixedLM  Dependent Variable:  hr       \n",
      "No. Observations:    83       Method:              REML     \n",
      "No. Groups:          6        Scale:               525.8946 \n",
      "Min. group size:     13       Log-Likelihood:      -377.2925\n",
      "Max. group size:     14       Converged:           Yes      \n",
      "Mean group size:     13.8                                   \n",
      "------------------------------------------------------------\n",
      "                Coef.  Std.Err.   z    P>|z|  [0.025  0.975]\n",
      "------------------------------------------------------------\n",
      "Intercept      158.034    5.005 31.574 0.000 148.224 167.844\n",
      "temp[T.warm]    15.789    5.041  3.132 0.002   5.909  25.670\n",
      "C(gender)[T.M] -20.789    6.146 -3.383 0.001 -32.834  -8.744\n",
      "scenario Var   129.730    5.388                             \n",
      "============================================================\n",
      "\n",
      "{'F1': scenario[C(scenario)[1]]    -8.566083\n",
      "scenario[C(scenario)[2]]     5.474742\n",
      "scenario[C(scenario)[3]]    -0.471960\n",
      "scenario[C(scenario)[4]]     3.822880\n",
      "scenario[C(scenario)[5]]    -1.132705\n",
      "scenario[C(scenario)[6]]    -9.226828\n",
      "scenario[C(scenario)[7]]   -13.686854\n",
      "dtype: float64,\n",
      " 'F2': scenario[C(scenario)[1]]    -3.445312\n",
      "scenario[C(scenario)[2]]     1.179901\n",
      "scenario[C(scenario)[3]]    10.925885\n",
      "scenario[C(scenario)[4]]     4.979183\n",
      "scenario[C(scenario)[5]]     8.778465\n",
      "scenario[C(scenario)[6]]    -6.583849\n",
      "scenario[C(scenario)[7]]     1.675460\n",
      "dtype: float64,\n",
      " 'F3': scenario[C(scenario)[1]]   -3.114939\n",
      "scenario[C(scenario)[2]]   -0.637147\n",
      "scenario[C(scenario)[3]]    4.483625\n",
      "scenario[C(scenario)[4]]    9.934768\n",
      "scenario[C(scenario)[5]]   -0.967519\n",
      "scenario[C(scenario)[6]]    1.345087\n",
      "scenario[C(scenario)[7]]   -4.766801\n",
      "dtype: float64,\n",
      " 'M3': scenario[C(scenario)[1]]    0.119147\n",
      "scenario[C(scenario)[2]]    0.119147\n",
      "scenario[C(scenario)[3]]    0.614706\n",
      "scenario[C(scenario)[4]]    7.882897\n",
      "scenario[C(scenario)[5]]   -3.514949\n",
      "scenario[C(scenario)[6]]   -5.166811\n",
      "scenario[C(scenario)[7]]   -4.010507\n",
      "dtype: float64,\n",
      " 'M4': scenario[C(scenario)[1]]    -6.488300\n",
      "scenario[C(scenario)[2]]    13.168855\n",
      "scenario[C(scenario)[3]]     9.865131\n",
      "scenario[C(scenario)[4]]    15.316275\n",
      "scenario[C(scenario)[5]]    -7.479417\n",
      "scenario[C(scenario)[6]]    -1.391823\n",
      "scenario[C(scenario)[7]]     0.284333\n",
      "dtype: float64,\n",
      " 'M7': scenario[C(scenario)[1]]   -6.983858\n",
      "scenario[C(scenario)[2]]   -6.983858\n",
      "scenario[C(scenario)[3]]   -4.506066\n",
      "scenario[C(scenario)[4]]    0.284333\n",
      "scenario[C(scenario)[5]]   -4.340880\n",
      "scenario[C(scenario)[6]]   -0.046039\n",
      "scenario[C(scenario)[7]]    3.257684\n",
      "dtype: float64}\n"
     ]
    }
   ],
   "source": [
    "# create a model with a hierarchical random intercept\n",
    "\n",
    "vcf = {\"scenario\": \"0 + C(scenario)\"}\n",
    "model = sm.MixedLM.from_formula(\n",
    "    \"hr ~ temp + C(gender)\",\n",
    "    groups='subject',\n",
    "    vc_formula=vcf,\n",
    "    data=data)\n",
    "\n",
    "result = model.fit()\n",
    "print(result.summary())\n",
    "pprint(result.random_effects)\n"
   ]
  },
  {
   "cell_type": "markdown",
   "metadata": {},
   "source": [
    "This model has more overall uncertainty than the previous model, but a little less uncertainty within the subject-scenario hierarchy.  From the output of the random effects intercepts, you can get a sense of how the hierarchy accounts for differences by subject and scenario in the model.\n",
    "\n",
    "Ultimately, which final model is chosen depends on whether you believe that effects for scenario are dependent on the subject or not.  One could make a case that some athletes may be more or less capable of performing some exercises than others, in which case the last model would be appropriate.  "
   ]
  },
  {
   "cell_type": "markdown",
   "metadata": {},
   "source": [
    "## Comparing models: AIC and likelihood ratio tests\n",
    "To get an objective comparison of models we can turn to two methods.  The first is to apply the AIC and compare across fitted models, and the second is to use the likelihood ratio test.\n",
    "\n",
    "The AIC can be used to identify the best model under the AIC assumptions (explaining the most variance with the fewest features), as you would do for normal linear regression, and the likelihood ratio test can be used to derive a p-value to confirm a statistically significant difference in models.\n",
    "\n",
    "### Likelihood ratio test (lr test)\n",
    "Likelihood is the probability of seeing the data you collected given your model.  For the lr test, we specify two models.\n",
    "\n",
    "To perform the likelihood ratio test, we must specify the null model as the model without the effect in question. We then specify a full model that includes the effect in question.  This is like the null hypothesis, if the p value is significant then we reject that the null model is equivalent to the full model, and select the full model.\n",
    "\n",
    "To do both the AIC and the lr test, we must re-fit our models and specify that we do not want to use the random effects maximum likelihood method (REML) when fitting.  The REML method does not provide for log likelihoods that can be compared across models, and will not produce an AIC.\n",
    "\n",
    "Lets determine if the model with gender is significantly better than the model without using AIC first, capture the log likelihoods for each, and finally perform the lr test.\n",
    "\n",
    "(Note that you may see warning about failure to fit with lbfgs, which is ok, as statsmodels will try a different algorithm until it finds one that converges)\n"
   ]
  },
  {
   "cell_type": "code",
   "execution_count": 12,
   "metadata": {},
   "outputs": [
    {
     "name": "stderr",
     "output_type": "stream",
     "text": [
      "/opt/conda/lib/python3.7/site-packages/statsmodels/base/model.py:568: ConvergenceWarning: Maximum Likelihood optimization failed to converge. Check mle_retvals\n",
      "  \"Check mle_retvals\", ConvergenceWarning)\n",
      "/opt/conda/lib/python3.7/site-packages/statsmodels/regression/mixed_linear_model.py:2114: ConvergenceWarning: Retrying MixedLM optimization with lbfgs\n",
      "  ConvergenceWarning)\n"
     ]
    },
    {
     "name": "stdout",
     "output_type": "stream",
     "text": [
      "Null model\n",
      "AIC 784.515318749561\n",
      "llf -388.2576593747805\n",
      "\n",
      "Full model\n",
      "AIC 780.8337968151789\n",
      "llf -385.41689840758943\n",
      "\n"
     ]
    },
    {
     "name": "stderr",
     "output_type": "stream",
     "text": [
      "/opt/conda/lib/python3.7/site-packages/statsmodels/base/model.py:568: ConvergenceWarning: Maximum Likelihood optimization failed to converge. Check mle_retvals\n",
      "  \"Check mle_retvals\", ConvergenceWarning)\n",
      "/opt/conda/lib/python3.7/site-packages/statsmodels/regression/mixed_linear_model.py:2114: ConvergenceWarning: Retrying MixedLM optimization with lbfgs\n",
      "  ConvergenceWarning)\n"
     ]
    }
   ],
   "source": [
    "model = sm.MixedLM.from_formula('hr ~ C(temp)', groups='subject', data=data)\n",
    "result = model.fit(reml=False)\n",
    "llf_null = result.llf\n",
    "print('Null model')\n",
    "print('AIC', result.aic)\n",
    "print('llf', llf_null)\n",
    "print()\n",
    "\n",
    "model = sm.MixedLM.from_formula('hr ~ C(temp) + C(gender)', groups='subject', data=data)\n",
    "result = model.fit(reml=False)\n",
    "llf_full = result.llf\n",
    "print('Full model')\n",
    "print('AIC', result.aic)\n",
    "print('llf', llf_full)\n",
    "print()\n",
    "\n",
    "\n"
   ]
  },
  {
   "cell_type": "code",
   "execution_count": 13,
   "metadata": {},
   "outputs": [
    {
     "name": "stdout",
     "output_type": "stream",
     "text": [
      "Likelihood ratio test (5.68152193438209, 0.01714448990167814)\n"
     ]
    }
   ],
   "source": [
    "# define a function to perform the lr test and return the p value\n",
    "from scipy import stats\n",
    "def lrtest(llf_null, llf_full):\n",
    "    lr = 2 * (llf_full - llf_null)\n",
    "    p = stats.chi2.sf(lr, 1) # chisquared test with one degree of freedom\n",
    "    return lr, p # return the likelihood ratio and the p value from the chisquared test\n",
    "\n",
    "\n",
    "print('Likelihood ratio test', lrtest(llf_null, llf_full))"
   ]
  },
  {
   "cell_type": "markdown",
   "metadata": {},
   "source": [
    "## Interpretation\n",
    "Since the p value is below $\\alpha$ = 0.05, at this significance level we reject the null model and accept the full model as the better fit.  The AIC of the full model is also lower, which corroborates this result."
   ]
  }
 ],
 "metadata": {
  "kernelspec": {
   "display_name": "Python 3",
   "language": "python",
   "name": "python3"
  },
  "language_info": {
   "codemirror_mode": {
    "name": "ipython",
    "version": 3
   },
   "file_extension": ".py",
   "mimetype": "text/x-python",
   "name": "python",
   "nbconvert_exporter": "python",
   "pygments_lexer": "ipython3",
   "version": "3.7.3"
  }
 },
 "nbformat": 4,
 "nbformat_minor": 2
}
