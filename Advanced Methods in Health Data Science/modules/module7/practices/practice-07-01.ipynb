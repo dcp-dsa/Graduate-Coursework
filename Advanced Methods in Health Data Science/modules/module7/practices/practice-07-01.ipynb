{
 "cells": [
  {
   "cell_type": "markdown",
   "metadata": {},
   "source": [
    "# Module 7 Practice 1 - Clustering liver disorder data\n",
    "In this exercise you will perform clustering using the techniques discussed in the labs.  We're going to use an unlabeled dataset related to liver disorders for clustering in this practice.\n",
    "\n",
    "The data is courtesy of BUPA Medical Research Ltd., donated by Richard S. Forsyth to the University of California Irvine: https://archive.ics.uci.edu/ml/datasets/Liver+Disorders\n"
   ]
  },
  {
   "cell_type": "code",
   "execution_count": 1,
   "metadata": {
    "scrolled": true
   },
   "outputs": [
    {
     "data": {
      "text/html": [
       "<div>\n",
       "<style scoped>\n",
       "    .dataframe tbody tr th:only-of-type {\n",
       "        vertical-align: middle;\n",
       "    }\n",
       "\n",
       "    .dataframe tbody tr th {\n",
       "        vertical-align: top;\n",
       "    }\n",
       "\n",
       "    .dataframe thead th {\n",
       "        text-align: right;\n",
       "    }\n",
       "</style>\n",
       "<table border=\"1\" class=\"dataframe\">\n",
       "  <thead>\n",
       "    <tr style=\"text-align: right;\">\n",
       "      <th></th>\n",
       "      <th>mcv</th>\n",
       "      <th>alkphos</th>\n",
       "      <th>sgpt</th>\n",
       "      <th>sgot</th>\n",
       "      <th>gammagt</th>\n",
       "      <th>drinks</th>\n",
       "      <th>dummy</th>\n",
       "    </tr>\n",
       "  </thead>\n",
       "  <tbody>\n",
       "    <tr>\n",
       "      <th>0</th>\n",
       "      <td>85</td>\n",
       "      <td>92</td>\n",
       "      <td>45</td>\n",
       "      <td>27</td>\n",
       "      <td>31</td>\n",
       "      <td>0.0</td>\n",
       "      <td>1</td>\n",
       "    </tr>\n",
       "    <tr>\n",
       "      <th>1</th>\n",
       "      <td>85</td>\n",
       "      <td>64</td>\n",
       "      <td>59</td>\n",
       "      <td>32</td>\n",
       "      <td>23</td>\n",
       "      <td>0.0</td>\n",
       "      <td>2</td>\n",
       "    </tr>\n",
       "    <tr>\n",
       "      <th>2</th>\n",
       "      <td>86</td>\n",
       "      <td>54</td>\n",
       "      <td>33</td>\n",
       "      <td>16</td>\n",
       "      <td>54</td>\n",
       "      <td>0.0</td>\n",
       "      <td>2</td>\n",
       "    </tr>\n",
       "    <tr>\n",
       "      <th>3</th>\n",
       "      <td>91</td>\n",
       "      <td>78</td>\n",
       "      <td>34</td>\n",
       "      <td>24</td>\n",
       "      <td>36</td>\n",
       "      <td>0.0</td>\n",
       "      <td>2</td>\n",
       "    </tr>\n",
       "    <tr>\n",
       "      <th>4</th>\n",
       "      <td>87</td>\n",
       "      <td>70</td>\n",
       "      <td>12</td>\n",
       "      <td>28</td>\n",
       "      <td>10</td>\n",
       "      <td>0.0</td>\n",
       "      <td>2</td>\n",
       "    </tr>\n",
       "  </tbody>\n",
       "</table>\n",
       "</div>"
      ],
      "text/plain": [
       "   mcv  alkphos  sgpt  sgot  gammagt  drinks  dummy\n",
       "0   85       92    45    27       31     0.0      1\n",
       "1   85       64    59    32       23     0.0      2\n",
       "2   86       54    33    16       54     0.0      2\n",
       "3   91       78    34    24       36     0.0      2\n",
       "4   87       70    12    28       10     0.0      2"
      ]
     },
     "metadata": {},
     "output_type": "display_data"
    }
   ],
   "source": [
    "import pandas as pd\n",
    "\n",
    "data = pd.read_csv('../resources/bupa.data', names=['mcv', 'alkphos', 'sgpt', 'sgot', 'gammagt', 'drinks', 'dummy'])\n",
    "display(data.head())"
   ]
  },
  {
   "cell_type": "markdown",
   "metadata": {},
   "source": [
    "## KMeans Clustering\n",
    "Perform KMeans clustering on the entire dataset, except the `dummy` column.  Specify two clusters."
   ]
  },
  {
   "cell_type": "code",
   "execution_count": 2,
   "metadata": {},
   "outputs": [
    {
     "data": {
      "text/html": [
       "<div>\n",
       "<style scoped>\n",
       "    .dataframe tbody tr th:only-of-type {\n",
       "        vertical-align: middle;\n",
       "    }\n",
       "\n",
       "    .dataframe tbody tr th {\n",
       "        vertical-align: top;\n",
       "    }\n",
       "\n",
       "    .dataframe thead th {\n",
       "        text-align: right;\n",
       "    }\n",
       "</style>\n",
       "<table border=\"1\" class=\"dataframe\">\n",
       "  <thead>\n",
       "    <tr style=\"text-align: right;\">\n",
       "      <th></th>\n",
       "      <th>mcv</th>\n",
       "      <th>alkphos</th>\n",
       "      <th>sgpt</th>\n",
       "      <th>sgot</th>\n",
       "      <th>gammagt</th>\n",
       "      <th>drinks</th>\n",
       "    </tr>\n",
       "  </thead>\n",
       "  <tbody>\n",
       "    <tr>\n",
       "      <th>0</th>\n",
       "      <td>85</td>\n",
       "      <td>92</td>\n",
       "      <td>45</td>\n",
       "      <td>27</td>\n",
       "      <td>31</td>\n",
       "      <td>0.0</td>\n",
       "    </tr>\n",
       "    <tr>\n",
       "      <th>1</th>\n",
       "      <td>85</td>\n",
       "      <td>64</td>\n",
       "      <td>59</td>\n",
       "      <td>32</td>\n",
       "      <td>23</td>\n",
       "      <td>0.0</td>\n",
       "    </tr>\n",
       "    <tr>\n",
       "      <th>2</th>\n",
       "      <td>86</td>\n",
       "      <td>54</td>\n",
       "      <td>33</td>\n",
       "      <td>16</td>\n",
       "      <td>54</td>\n",
       "      <td>0.0</td>\n",
       "    </tr>\n",
       "    <tr>\n",
       "      <th>3</th>\n",
       "      <td>91</td>\n",
       "      <td>78</td>\n",
       "      <td>34</td>\n",
       "      <td>24</td>\n",
       "      <td>36</td>\n",
       "      <td>0.0</td>\n",
       "    </tr>\n",
       "    <tr>\n",
       "      <th>4</th>\n",
       "      <td>87</td>\n",
       "      <td>70</td>\n",
       "      <td>12</td>\n",
       "      <td>28</td>\n",
       "      <td>10</td>\n",
       "      <td>0.0</td>\n",
       "    </tr>\n",
       "  </tbody>\n",
       "</table>\n",
       "</div>"
      ],
      "text/plain": [
       "   mcv  alkphos  sgpt  sgot  gammagt  drinks\n",
       "0   85       92    45    27       31     0.0\n",
       "1   85       64    59    32       23     0.0\n",
       "2   86       54    33    16       54     0.0\n",
       "3   91       78    34    24       36     0.0\n",
       "4   87       70    12    28       10     0.0"
      ]
     },
     "metadata": {},
     "output_type": "display_data"
    }
   ],
   "source": [
    "# your code here\n",
    "\n",
    "from sklearn.cluster import KMeans\n",
    "\n",
    "subset=data.iloc[:, :-1]\n",
    "display(subset.head())\n",
    "model = KMeans(n_clusters=2).fit(subset)\n",
    "\n",
    "classification = model.predict(subset)"
   ]
  },
  {
   "cell_type": "markdown",
   "metadata": {},
   "source": [
    "### Predict a cluster assignment\n",
    "\n",
    "Now, use the model to predict what cluster this data point would fit in:\n",
    "`[90, 61, 42, 18, 100, 10]` where the data in in the same order as the first 6 columns of the dataset."
   ]
  },
  {
   "cell_type": "code",
   "execution_count": 3,
   "metadata": {
    "scrolled": true
   },
   "outputs": [
    {
     "name": "stdout",
     "output_type": "stream",
     "text": [
      "[0]\n"
     ]
    }
   ],
   "source": [
    "# your code here\n",
    "\n",
    "print(model.predict([[90, 61, 42, 18, 100, 10]]))\n"
   ]
  },
  {
   "cell_type": "markdown",
   "metadata": {},
   "source": [
    "### Output the cluster numbers and the mean, standard deviation, and count for each attribute in the cluster.\n",
    "Since we did clustering on 6 variables, it isn't possible to visualize the clusters on a plot.  Instead, list the cluster numbers and the mean, standard deviation, and count for each attribute in the cluster.  Use the groupby method."
   ]
  },
  {
   "cell_type": "code",
   "execution_count": 4,
   "metadata": {},
   "outputs": [
    {
     "data": {
      "text/html": [
       "<div>\n",
       "<style scoped>\n",
       "    .dataframe tbody tr th:only-of-type {\n",
       "        vertical-align: middle;\n",
       "    }\n",
       "\n",
       "    .dataframe tbody tr th {\n",
       "        vertical-align: top;\n",
       "    }\n",
       "\n",
       "    .dataframe thead tr th {\n",
       "        text-align: left;\n",
       "    }\n",
       "\n",
       "    .dataframe thead tr:last-of-type th {\n",
       "        text-align: right;\n",
       "    }\n",
       "</style>\n",
       "<table border=\"1\" class=\"dataframe\">\n",
       "  <thead>\n",
       "    <tr>\n",
       "      <th></th>\n",
       "      <th colspan=\"3\" halign=\"left\">mcv</th>\n",
       "      <th colspan=\"3\" halign=\"left\">alkphos</th>\n",
       "      <th colspan=\"3\" halign=\"left\">sgpt</th>\n",
       "      <th colspan=\"3\" halign=\"left\">sgot</th>\n",
       "      <th colspan=\"3\" halign=\"left\">gammagt</th>\n",
       "      <th colspan=\"3\" halign=\"left\">drinks</th>\n",
       "    </tr>\n",
       "    <tr>\n",
       "      <th></th>\n",
       "      <th>mean</th>\n",
       "      <th>std</th>\n",
       "      <th>count</th>\n",
       "      <th>mean</th>\n",
       "      <th>std</th>\n",
       "      <th>count</th>\n",
       "      <th>mean</th>\n",
       "      <th>std</th>\n",
       "      <th>count</th>\n",
       "      <th>mean</th>\n",
       "      <th>std</th>\n",
       "      <th>count</th>\n",
       "      <th>mean</th>\n",
       "      <th>std</th>\n",
       "      <th>count</th>\n",
       "      <th>mean</th>\n",
       "      <th>std</th>\n",
       "      <th>count</th>\n",
       "    </tr>\n",
       "    <tr>\n",
       "      <th>cluster</th>\n",
       "      <th></th>\n",
       "      <th></th>\n",
       "      <th></th>\n",
       "      <th></th>\n",
       "      <th></th>\n",
       "      <th></th>\n",
       "      <th></th>\n",
       "      <th></th>\n",
       "      <th></th>\n",
       "      <th></th>\n",
       "      <th></th>\n",
       "      <th></th>\n",
       "      <th></th>\n",
       "      <th></th>\n",
       "      <th></th>\n",
       "      <th></th>\n",
       "      <th></th>\n",
       "      <th></th>\n",
       "    </tr>\n",
       "  </thead>\n",
       "  <tbody>\n",
       "    <tr>\n",
       "      <th>0</th>\n",
       "      <td>91.945946</td>\n",
       "      <td>4.521221</td>\n",
       "      <td>37</td>\n",
       "      <td>75.567568</td>\n",
       "      <td>15.512612</td>\n",
       "      <td>37</td>\n",
       "      <td>60.324324</td>\n",
       "      <td>35.504346</td>\n",
       "      <td>37</td>\n",
       "      <td>39.567568</td>\n",
       "      <td>15.532297</td>\n",
       "      <td>37</td>\n",
       "      <td>130.216216</td>\n",
       "      <td>51.152351</td>\n",
       "      <td>37</td>\n",
       "      <td>6.040541</td>\n",
       "      <td>4.534403</td>\n",
       "      <td>37</td>\n",
       "    </tr>\n",
       "    <tr>\n",
       "      <th>1</th>\n",
       "      <td>89.944805</td>\n",
       "      <td>4.397979</td>\n",
       "      <td>308</td>\n",
       "      <td>69.185065</td>\n",
       "      <td>18.563602</td>\n",
       "      <td>308</td>\n",
       "      <td>26.811688</td>\n",
       "      <td>12.568131</td>\n",
       "      <td>308</td>\n",
       "      <td>22.850649</td>\n",
       "      <td>7.425883</td>\n",
       "      <td>308</td>\n",
       "      <td>27.240260</td>\n",
       "      <td>16.699121</td>\n",
       "      <td>308</td>\n",
       "      <td>3.144481</td>\n",
       "      <td>3.028271</td>\n",
       "      <td>308</td>\n",
       "    </tr>\n",
       "  </tbody>\n",
       "</table>\n",
       "</div>"
      ],
      "text/plain": [
       "               mcv                    alkphos                        sgpt  \\\n",
       "              mean       std count       mean        std count       mean   \n",
       "cluster                                                                     \n",
       "0        91.945946  4.521221    37  75.567568  15.512612    37  60.324324   \n",
       "1        89.944805  4.397979   308  69.185065  18.563602   308  26.811688   \n",
       "\n",
       "                               sgot                      gammagt             \\\n",
       "               std count       mean        std count        mean        std   \n",
       "cluster                                                                       \n",
       "0        35.504346    37  39.567568  15.532297    37  130.216216  51.152351   \n",
       "1        12.568131   308  22.850649   7.425883   308   27.240260  16.699121   \n",
       "\n",
       "                 drinks                  \n",
       "        count      mean       std count  \n",
       "cluster                                  \n",
       "0          37  6.040541  4.534403    37  \n",
       "1         308  3.144481  3.028271   308  "
      ]
     },
     "execution_count": 4,
     "metadata": {},
     "output_type": "execute_result"
    }
   ],
   "source": [
    "# your code here\n",
    "\n",
    "subset['cluster'] = model.labels_\n",
    "\n",
    "subset.groupby(by='cluster').agg(['mean', 'std', 'count'])"
   ]
  },
  {
   "cell_type": "markdown",
   "metadata": {},
   "source": [
    "### Compute the Calinski Harabasz score for the clustered data."
   ]
  },
  {
   "cell_type": "code",
   "execution_count": 5,
   "metadata": {},
   "outputs": [
    {
     "name": "stdout",
     "output_type": "stream",
     "text": [
      "322.295844428536\n"
     ]
    }
   ],
   "source": [
    "# your code here\n",
    "\n",
    "from sklearn import metrics\n",
    "print(metrics.calinski_harabaz_score(subset, model.labels_))"
   ]
  },
  {
   "cell_type": "markdown",
   "metadata": {},
   "source": [
    "## DBSCAN Clustering\n",
    "Using the same data, perform a DBSCAN clustering algorithm.  Use a min sample size of 100, and an eps of 30"
   ]
  },
  {
   "cell_type": "code",
   "execution_count": 6,
   "metadata": {},
   "outputs": [],
   "source": [
    "# your code here\n",
    "\n",
    "from sklearn.cluster import DBSCAN\n",
    "\n",
    "subset=data.iloc[:, :-1]\n",
    "\n",
    "model = DBSCAN(eps=20, min_samples=5).fit(subset)\n"
   ]
  },
  {
   "cell_type": "markdown",
   "metadata": {},
   "source": [
    "### Output the cluster numbers and the mean, standard deviation, and count for each attribute in the cluster."
   ]
  },
  {
   "cell_type": "code",
   "execution_count": 7,
   "metadata": {
    "scrolled": true
   },
   "outputs": [
    {
     "data": {
      "text/html": [
       "<div>\n",
       "<style scoped>\n",
       "    .dataframe tbody tr th:only-of-type {\n",
       "        vertical-align: middle;\n",
       "    }\n",
       "\n",
       "    .dataframe tbody tr th {\n",
       "        vertical-align: top;\n",
       "    }\n",
       "\n",
       "    .dataframe thead tr th {\n",
       "        text-align: left;\n",
       "    }\n",
       "\n",
       "    .dataframe thead tr:last-of-type th {\n",
       "        text-align: right;\n",
       "    }\n",
       "</style>\n",
       "<table border=\"1\" class=\"dataframe\">\n",
       "  <thead>\n",
       "    <tr>\n",
       "      <th></th>\n",
       "      <th colspan=\"3\" halign=\"left\">mcv</th>\n",
       "      <th colspan=\"3\" halign=\"left\">alkphos</th>\n",
       "      <th colspan=\"3\" halign=\"left\">sgpt</th>\n",
       "      <th colspan=\"3\" halign=\"left\">sgot</th>\n",
       "      <th colspan=\"3\" halign=\"left\">gammagt</th>\n",
       "      <th colspan=\"3\" halign=\"left\">drinks</th>\n",
       "    </tr>\n",
       "    <tr>\n",
       "      <th></th>\n",
       "      <th>mean</th>\n",
       "      <th>std</th>\n",
       "      <th>count</th>\n",
       "      <th>mean</th>\n",
       "      <th>std</th>\n",
       "      <th>count</th>\n",
       "      <th>mean</th>\n",
       "      <th>std</th>\n",
       "      <th>count</th>\n",
       "      <th>mean</th>\n",
       "      <th>std</th>\n",
       "      <th>count</th>\n",
       "      <th>mean</th>\n",
       "      <th>std</th>\n",
       "      <th>count</th>\n",
       "      <th>mean</th>\n",
       "      <th>std</th>\n",
       "      <th>count</th>\n",
       "    </tr>\n",
       "    <tr>\n",
       "      <th>cluster</th>\n",
       "      <th></th>\n",
       "      <th></th>\n",
       "      <th></th>\n",
       "      <th></th>\n",
       "      <th></th>\n",
       "      <th></th>\n",
       "      <th></th>\n",
       "      <th></th>\n",
       "      <th></th>\n",
       "      <th></th>\n",
       "      <th></th>\n",
       "      <th></th>\n",
       "      <th></th>\n",
       "      <th></th>\n",
       "      <th></th>\n",
       "      <th></th>\n",
       "      <th></th>\n",
       "      <th></th>\n",
       "    </tr>\n",
       "  </thead>\n",
       "  <tbody>\n",
       "    <tr>\n",
       "      <th>-1</th>\n",
       "      <td>91.540000</td>\n",
       "      <td>4.527512</td>\n",
       "      <td>50</td>\n",
       "      <td>78.180000</td>\n",
       "      <td>19.462879</td>\n",
       "      <td>50</td>\n",
       "      <td>62.320000</td>\n",
       "      <td>30.951206</td>\n",
       "      <td>50</td>\n",
       "      <td>40.640000</td>\n",
       "      <td>14.674370</td>\n",
       "      <td>50</td>\n",
       "      <td>101.700000</td>\n",
       "      <td>61.430648</td>\n",
       "      <td>50</td>\n",
       "      <td>6.030000</td>\n",
       "      <td>4.569654</td>\n",
       "      <td>50</td>\n",
       "    </tr>\n",
       "    <tr>\n",
       "      <th>0</th>\n",
       "      <td>89.944828</td>\n",
       "      <td>4.407102</td>\n",
       "      <td>290</td>\n",
       "      <td>68.344828</td>\n",
       "      <td>17.931195</td>\n",
       "      <td>290</td>\n",
       "      <td>24.824138</td>\n",
       "      <td>9.052716</td>\n",
       "      <td>290</td>\n",
       "      <td>21.786207</td>\n",
       "      <td>5.471140</td>\n",
       "      <td>290</td>\n",
       "      <td>26.089655</td>\n",
       "      <td>16.020712</td>\n",
       "      <td>290</td>\n",
       "      <td>2.960345</td>\n",
       "      <td>2.781734</td>\n",
       "      <td>290</td>\n",
       "    </tr>\n",
       "    <tr>\n",
       "      <th>1</th>\n",
       "      <td>88.800000</td>\n",
       "      <td>4.207137</td>\n",
       "      <td>5</td>\n",
       "      <td>75.200000</td>\n",
       "      <td>3.563706</td>\n",
       "      <td>5</td>\n",
       "      <td>35.000000</td>\n",
       "      <td>8.366600</td>\n",
       "      <td>5</td>\n",
       "      <td>30.400000</td>\n",
       "      <td>8.876936</td>\n",
       "      <td>5</td>\n",
       "      <td>111.400000</td>\n",
       "      <td>3.781534</td>\n",
       "      <td>5</td>\n",
       "      <td>6.400000</td>\n",
       "      <td>5.639149</td>\n",
       "      <td>5</td>\n",
       "    </tr>\n",
       "  </tbody>\n",
       "</table>\n",
       "</div>"
      ],
      "text/plain": [
       "               mcv                    alkphos                        sgpt  \\\n",
       "              mean       std count       mean        std count       mean   \n",
       "cluster                                                                     \n",
       "-1       91.540000  4.527512    50  78.180000  19.462879    50  62.320000   \n",
       " 0       89.944828  4.407102   290  68.344828  17.931195   290  24.824138   \n",
       " 1       88.800000  4.207137     5  75.200000   3.563706     5  35.000000   \n",
       "\n",
       "                               sgot                      gammagt             \\\n",
       "               std count       mean        std count        mean        std   \n",
       "cluster                                                                       \n",
       "-1       30.951206    50  40.640000  14.674370    50  101.700000  61.430648   \n",
       " 0        9.052716   290  21.786207   5.471140   290   26.089655  16.020712   \n",
       " 1        8.366600     5  30.400000   8.876936     5  111.400000   3.781534   \n",
       "\n",
       "                 drinks                  \n",
       "        count      mean       std count  \n",
       "cluster                                  \n",
       "-1         50  6.030000  4.569654    50  \n",
       " 0        290  2.960345  2.781734   290  \n",
       " 1          5  6.400000  5.639149     5  "
      ]
     },
     "execution_count": 7,
     "metadata": {},
     "output_type": "execute_result"
    }
   ],
   "source": [
    "# your code here\n",
    "\n",
    "subset['cluster'] = model.labels_\n",
    "\n",
    "subset.groupby(by='cluster').agg(['mean', 'std', 'count'])"
   ]
  },
  {
   "cell_type": "markdown",
   "metadata": {},
   "source": [
    "### Compute the Calinski Harabasz score for the clustered data."
   ]
  },
  {
   "cell_type": "code",
   "execution_count": 8,
   "metadata": {},
   "outputs": [
    {
     "name": "stdout",
     "output_type": "stream",
     "text": [
      "51.993\n"
     ]
    }
   ],
   "source": [
    "# your code here\n",
    "\n",
    "# we have to remove the unclustered data in the case of DBSCAN\n",
    "cluster_mask = [True if x >= 0 else False for x in subset['cluster']]\n",
    "\n",
    "clustered_data = subset[cluster_mask]\n",
    "\n",
    "print(round(metrics.calinski_harabaz_score(clustered_data.iloc[:,:-1], clustered_data.iloc[:,-1:].values.ravel()), 3))"
   ]
  },
  {
   "cell_type": "markdown",
   "metadata": {},
   "source": [
    "## Hierarchical clustering\n",
    "Using the same data, perform hierarchical clustering.  Specify two clusters and use complete linkage."
   ]
  },
  {
   "cell_type": "code",
   "execution_count": 9,
   "metadata": {},
   "outputs": [],
   "source": [
    "# your code here\n",
    "\n",
    "from sklearn.cluster import AgglomerativeClustering\n",
    "\n",
    "subset=data.iloc[:, :-1]\n",
    "\n",
    "model = AgglomerativeClustering(n_clusters=2, linkage='complete').fit(subset)"
   ]
  },
  {
   "cell_type": "markdown",
   "metadata": {},
   "source": [
    "### Output the cluster numbers and the mean, standard deviation, and count for each attribute in the cluster."
   ]
  },
  {
   "cell_type": "code",
   "execution_count": 10,
   "metadata": {},
   "outputs": [
    {
     "data": {
      "text/html": [
       "<div>\n",
       "<style scoped>\n",
       "    .dataframe tbody tr th:only-of-type {\n",
       "        vertical-align: middle;\n",
       "    }\n",
       "\n",
       "    .dataframe tbody tr th {\n",
       "        vertical-align: top;\n",
       "    }\n",
       "\n",
       "    .dataframe thead tr th {\n",
       "        text-align: left;\n",
       "    }\n",
       "\n",
       "    .dataframe thead tr:last-of-type th {\n",
       "        text-align: right;\n",
       "    }\n",
       "</style>\n",
       "<table border=\"1\" class=\"dataframe\">\n",
       "  <thead>\n",
       "    <tr>\n",
       "      <th></th>\n",
       "      <th colspan=\"3\" halign=\"left\">mcv</th>\n",
       "      <th colspan=\"3\" halign=\"left\">alkphos</th>\n",
       "      <th colspan=\"3\" halign=\"left\">sgpt</th>\n",
       "      <th colspan=\"3\" halign=\"left\">sgot</th>\n",
       "      <th colspan=\"3\" halign=\"left\">gammagt</th>\n",
       "      <th colspan=\"3\" halign=\"left\">drinks</th>\n",
       "    </tr>\n",
       "    <tr>\n",
       "      <th></th>\n",
       "      <th>mean</th>\n",
       "      <th>std</th>\n",
       "      <th>count</th>\n",
       "      <th>mean</th>\n",
       "      <th>std</th>\n",
       "      <th>count</th>\n",
       "      <th>mean</th>\n",
       "      <th>std</th>\n",
       "      <th>count</th>\n",
       "      <th>mean</th>\n",
       "      <th>std</th>\n",
       "      <th>count</th>\n",
       "      <th>mean</th>\n",
       "      <th>std</th>\n",
       "      <th>count</th>\n",
       "      <th>mean</th>\n",
       "      <th>std</th>\n",
       "      <th>count</th>\n",
       "    </tr>\n",
       "    <tr>\n",
       "      <th>cluster</th>\n",
       "      <th></th>\n",
       "      <th></th>\n",
       "      <th></th>\n",
       "      <th></th>\n",
       "      <th></th>\n",
       "      <th></th>\n",
       "      <th></th>\n",
       "      <th></th>\n",
       "      <th></th>\n",
       "      <th></th>\n",
       "      <th></th>\n",
       "      <th></th>\n",
       "      <th></th>\n",
       "      <th></th>\n",
       "      <th></th>\n",
       "      <th></th>\n",
       "      <th></th>\n",
       "      <th></th>\n",
       "    </tr>\n",
       "  </thead>\n",
       "  <tbody>\n",
       "    <tr>\n",
       "      <th>0</th>\n",
       "      <td>90.15407</td>\n",
       "      <td>4.453463</td>\n",
       "      <td>344</td>\n",
       "      <td>69.898256</td>\n",
       "      <td>18.366645</td>\n",
       "      <td>344</td>\n",
       "      <td>30.406977</td>\n",
       "      <td>19.540719</td>\n",
       "      <td>344</td>\n",
       "      <td>24.636628</td>\n",
       "      <td>10.078349</td>\n",
       "      <td>344</td>\n",
       "      <td>37.531977</td>\n",
       "      <td>36.738365</td>\n",
       "      <td>344</td>\n",
       "      <td>3.459302</td>\n",
       "      <td>3.341771</td>\n",
       "      <td>344</td>\n",
       "    </tr>\n",
       "    <tr>\n",
       "      <th>1</th>\n",
       "      <td>92.00000</td>\n",
       "      <td>NaN</td>\n",
       "      <td>1</td>\n",
       "      <td>60.000000</td>\n",
       "      <td>NaN</td>\n",
       "      <td>1</td>\n",
       "      <td>30.000000</td>\n",
       "      <td>NaN</td>\n",
       "      <td>1</td>\n",
       "      <td>27.000000</td>\n",
       "      <td>NaN</td>\n",
       "      <td>1</td>\n",
       "      <td>297.000000</td>\n",
       "      <td>NaN</td>\n",
       "      <td>1</td>\n",
       "      <td>2.000000</td>\n",
       "      <td>NaN</td>\n",
       "      <td>1</td>\n",
       "    </tr>\n",
       "  </tbody>\n",
       "</table>\n",
       "</div>"
      ],
      "text/plain": [
       "              mcv                    alkphos                        sgpt  \\\n",
       "             mean       std count       mean        std count       mean   \n",
       "cluster                                                                    \n",
       "0        90.15407  4.453463   344  69.898256  18.366645   344  30.406977   \n",
       "1        92.00000       NaN     1  60.000000        NaN     1  30.000000   \n",
       "\n",
       "                               sgot                      gammagt             \\\n",
       "               std count       mean        std count        mean        std   \n",
       "cluster                                                                       \n",
       "0        19.540719   344  24.636628  10.078349   344   37.531977  36.738365   \n",
       "1              NaN     1  27.000000        NaN     1  297.000000        NaN   \n",
       "\n",
       "                 drinks                  \n",
       "        count      mean       std count  \n",
       "cluster                                  \n",
       "0         344  3.459302  3.341771   344  \n",
       "1           1  2.000000       NaN     1  "
      ]
     },
     "execution_count": 10,
     "metadata": {},
     "output_type": "execute_result"
    }
   ],
   "source": [
    "\n",
    "\n",
    "subset['cluster'] = model.labels_\n",
    "\n",
    "subset.groupby(by='cluster').agg(['mean', 'std', 'count'])# your code here"
   ]
  },
  {
   "cell_type": "markdown",
   "metadata": {},
   "source": [
    "### Plot a dendrogram using the supplied method."
   ]
  },
  {
   "cell_type": "code",
   "execution_count": 11,
   "metadata": {},
   "outputs": [],
   "source": [
    "from scipy.cluster.hierarchy import dendrogram\n",
    "import numpy as np\n",
    "def plot_dendrogram(model, **kwargs):\n",
    "\n",
    "    # Children of hierarchical clustering\n",
    "    children = model.children_\n",
    "\n",
    "    # Distances between each pair of children\n",
    "    # Since we don't have this information, we can use a uniform one for plotting\n",
    "    distance = np.arange(children.shape[0])\n",
    "\n",
    "    # The number of observations contained in each cluster level\n",
    "    no_of_observations = np.arange(2, children.shape[0]+2)\n",
    "\n",
    "    # Create linkage matrix and then plot the dendrogram\n",
    "    linkage_matrix = np.column_stack([children, distance, no_of_observations]).astype(float)\n",
    "\n",
    "    # Plot the corresponding dendrogram\n",
    "    dendrogram(linkage_matrix, **kwargs)"
   ]
  },
  {
   "cell_type": "code",
   "execution_count": 12,
   "metadata": {
    "scrolled": true
   },
   "outputs": [
    {
     "data": {
      "image/png": "[encoded data removed]",
      "text/plain": [
       "<Figure size 720x7200 with 1 Axes>"
      ]
     },
     "metadata": {
      "needs_background": "light"
     },
     "output_type": "display_data"
    }
   ],
   "source": [
    "# your code here\n",
    "\n",
    "import matplotlib.pyplot as plt\n",
    "%matplotlib inline\n",
    "\n",
    "fig = plt.figure(figsize=(10, 100))\n",
    "ax1 = fig.add_subplot(111)\n",
    "\n",
    "# add the parameter labels=model.labels_ to replace the row index with the class label\n",
    "plot_dendrogram(model, ax=ax1, orientation='right', labels=list(zip(model.labels_, subset.index)))\n",
    "\n",
    "plt.show()"
   ]
  },
  {
   "cell_type": "markdown",
   "metadata": {},
   "source": [
    "### Compute the Calinski Harabasz score for the clustered data."
   ]
  },
  {
   "cell_type": "code",
   "execution_count": 13,
   "metadata": {},
   "outputs": [
    {
     "name": "stdout",
     "output_type": "stream",
     "text": [
      "30.54274015843291\n"
     ]
    }
   ],
   "source": [
    "# your code here\n",
    "\n",
    "print(metrics.calinski_harabaz_score(subset, model.labels_))"
   ]
  },
  {
   "cell_type": "markdown",
   "metadata": {},
   "source": [
    "## Questions:\n",
    "\n",
    "1. Which clustering method performed the best, based on the Calinski-Harabasz score?\n",
    "1. How many clusters did each method produce?\n",
    "1. Which clustering method had the best distribution of samples across the clusters?\n"
   ]
  },
  {
   "cell_type": "markdown",
   "metadata": {},
   "source": [
    "your answers here\n",
    "\n",
    "1. K Means produced the highest score, therefore performed the best.\n",
    "1. Each method produced 2 clusters.  DBSCAN has three groups, but the `-1` group is non clustered data.  This also impacts the computed Calinski-Harabasz since some points were dropped.\n",
    "1. K Means had the least skewed cluster counts with (308,37).  When you discount the non clustered data, DBSCAN was second best at (290,5).  Hierarchical was the worst, with (344,1)"
   ]
  },
  {
   "cell_type": "code",
   "execution_count": null,
   "metadata": {},
   "outputs": [],
   "source": []
  }
 ],
 "metadata": {
  "kernelspec": {
   "display_name": "Python 3",
   "language": "python",
   "name": "python3"
  },
  "language_info": {
   "codemirror_mode": {
    "name": "ipython",
    "version": 3
   },
   "file_extension": ".py",
   "mimetype": "text/x-python",
   "name": "python",
   "nbconvert_exporter": "python",
   "pygments_lexer": "ipython3",
   "version": "3.7.3"
  }
 },
 "nbformat": 4,
 "nbformat_minor": 2
}
