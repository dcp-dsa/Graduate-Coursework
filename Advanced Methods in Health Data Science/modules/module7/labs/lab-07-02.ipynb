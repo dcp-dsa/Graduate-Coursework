{
 "cells": [
  {
   "cell_type": "markdown",
   "metadata": {},
   "source": [
    "# Module 7 Lab 2 - Clustering with DBSCAN\n",
    "In the last lab we looked at kmeans clustering, and recognized a weakness as being blind to the distribution of the data.  We will take a look at DBSCAN, another approach for building clusters in the data.  DBSCAN does not require specifying the number of clusters in advance.  Instead, we specify some distance thresholds in order to get the minimum number of clusters that adhere to the \"closeness\" of the data.\n",
    "\n",
    "DBSCAN has been used in in public health applications, as in the identification of hot spot regions of Dengue fever outbreaks:\n",
    "\n",
    "[Dengue Fever in Perspective of Clustering Algorithms](../resources/Dengue-Fever-in-Perspective-of-Clustering-Algorithms.pdf)\n",
    "\n",
    "In this lab we will use the diabetes dataset again.\n"
   ]
  },
  {
   "cell_type": "code",
   "execution_count": 1,
   "metadata": {
    "scrolled": true
   },
   "outputs": [
    {
     "data": {
      "text/html": [
       "<div>\n",
       "<style scoped>\n",
       "    .dataframe tbody tr th:only-of-type {\n",
       "        vertical-align: middle;\n",
       "    }\n",
       "\n",
       "    .dataframe tbody tr th {\n",
       "        vertical-align: top;\n",
       "    }\n",
       "\n",
       "    .dataframe thead th {\n",
       "        text-align: right;\n",
       "    }\n",
       "</style>\n",
       "<table border=\"1\" class=\"dataframe\">\n",
       "  <thead>\n",
       "    <tr style=\"text-align: right;\">\n",
       "      <th></th>\n",
       "      <th>age</th>\n",
       "      <th>sex</th>\n",
       "      <th>bmi</th>\n",
       "      <th>bp</th>\n",
       "      <th>s1</th>\n",
       "      <th>s2</th>\n",
       "      <th>s3</th>\n",
       "      <th>s4</th>\n",
       "      <th>s5</th>\n",
       "      <th>s6</th>\n",
       "    </tr>\n",
       "  </thead>\n",
       "  <tbody>\n",
       "    <tr>\n",
       "      <th>0</th>\n",
       "      <td>0.038076</td>\n",
       "      <td>0.050680</td>\n",
       "      <td>0.061696</td>\n",
       "      <td>0.021872</td>\n",
       "      <td>-0.044223</td>\n",
       "      <td>-0.034821</td>\n",
       "      <td>-0.043401</td>\n",
       "      <td>-0.002592</td>\n",
       "      <td>0.019908</td>\n",
       "      <td>-0.017646</td>\n",
       "    </tr>\n",
       "    <tr>\n",
       "      <th>1</th>\n",
       "      <td>-0.001882</td>\n",
       "      <td>-0.044642</td>\n",
       "      <td>-0.051474</td>\n",
       "      <td>-0.026328</td>\n",
       "      <td>-0.008449</td>\n",
       "      <td>-0.019163</td>\n",
       "      <td>0.074412</td>\n",
       "      <td>-0.039493</td>\n",
       "      <td>-0.068330</td>\n",
       "      <td>-0.092204</td>\n",
       "    </tr>\n",
       "    <tr>\n",
       "      <th>2</th>\n",
       "      <td>0.085299</td>\n",
       "      <td>0.050680</td>\n",
       "      <td>0.044451</td>\n",
       "      <td>-0.005671</td>\n",
       "      <td>-0.045599</td>\n",
       "      <td>-0.034194</td>\n",
       "      <td>-0.032356</td>\n",
       "      <td>-0.002592</td>\n",
       "      <td>0.002864</td>\n",
       "      <td>-0.025930</td>\n",
       "    </tr>\n",
       "    <tr>\n",
       "      <th>3</th>\n",
       "      <td>-0.089063</td>\n",
       "      <td>-0.044642</td>\n",
       "      <td>-0.011595</td>\n",
       "      <td>-0.036656</td>\n",
       "      <td>0.012191</td>\n",
       "      <td>0.024991</td>\n",
       "      <td>-0.036038</td>\n",
       "      <td>0.034309</td>\n",
       "      <td>0.022692</td>\n",
       "      <td>-0.009362</td>\n",
       "    </tr>\n",
       "    <tr>\n",
       "      <th>4</th>\n",
       "      <td>0.005383</td>\n",
       "      <td>-0.044642</td>\n",
       "      <td>-0.036385</td>\n",
       "      <td>0.021872</td>\n",
       "      <td>0.003935</td>\n",
       "      <td>0.015596</td>\n",
       "      <td>0.008142</td>\n",
       "      <td>-0.002592</td>\n",
       "      <td>-0.031991</td>\n",
       "      <td>-0.046641</td>\n",
       "    </tr>\n",
       "  </tbody>\n",
       "</table>\n",
       "</div>"
      ],
      "text/plain": [
       "        age       sex       bmi        bp        s1        s2        s3  \\\n",
       "0  0.038076  0.050680  0.061696  0.021872 -0.044223 -0.034821 -0.043401   \n",
       "1 -0.001882 -0.044642 -0.051474 -0.026328 -0.008449 -0.019163  0.074412   \n",
       "2  0.085299  0.050680  0.044451 -0.005671 -0.045599 -0.034194 -0.032356   \n",
       "3 -0.089063 -0.044642 -0.011595 -0.036656  0.012191  0.024991 -0.036038   \n",
       "4  0.005383 -0.044642 -0.036385  0.021872  0.003935  0.015596  0.008142   \n",
       "\n",
       "         s4        s5        s6  \n",
       "0 -0.002592  0.019908 -0.017646  \n",
       "1 -0.039493 -0.068330 -0.092204  \n",
       "2 -0.002592  0.002864 -0.025930  \n",
       "3  0.034309  0.022692 -0.009362  \n",
       "4 -0.002592 -0.031991 -0.046641  "
      ]
     },
     "execution_count": 1,
     "metadata": {},
     "output_type": "execute_result"
    }
   ],
   "source": [
    "from sklearn import datasets as d\n",
    "import pandas as pd\n",
    "import numpy as np\n",
    "import matplotlib.pyplot as plt\n",
    "%matplotlib inline\n",
    "\n",
    "b = d.load_diabetes()\n",
    "\n",
    "data = pd.DataFrame(b.data, columns = b.feature_names)\n",
    "data.head()"
   ]
  },
  {
   "cell_type": "markdown",
   "metadata": {},
   "source": [
    "## DBSCAN parameters\n",
    "There are three parameters that must be set for [DBSCAN](https://scikit-learn.org/stable/modules/generated/sklearn.cluster.DBSCAN.html):\n",
    "\n",
    "* eps (epsilon) - this is the maximum distance between two points for those points to be considered neighbors\n",
    "* metric - the metric used to calculate the distance.  The default is `euclidean`, which we will use.\n",
    "* min_samples - the minimum number of samples needed before a cluster can be formed\n",
    "\n",
    "You can adjust these parameters as needed to suit the clustering outcome you want.  Modifying these parameters is the only way to have some control over the number of clusters.  We will use predetermined values for this lab to illustrate the concepts."
   ]
  },
  {
   "cell_type": "code",
   "execution_count": 2,
   "metadata": {
    "scrolled": true
   },
   "outputs": [
    {
     "data": {
      "image/png": "[encoded data removed]",
      "text/plain": [
       "<Figure size 432x288 with 1 Axes>"
      ]
     },
     "metadata": {
      "needs_background": "light"
     },
     "output_type": "display_data"
    }
   ],
   "source": [
    "from sklearn.cluster import DBSCAN\n",
    "\n",
    "subset=data.iloc[:, 3:5].copy()\n",
    "\n",
    "model = DBSCAN(eps=0.012, min_samples=10).fit(subset)\n",
    "\n",
    "clusters = model.labels_\n",
    "\n",
    "cluster_mask = [True if x >= 0 else False for x in clusters]\n",
    "ax1 = subset[cluster_mask].plot.scatter(x=0, y=1, c = clusters[clusters >= 0], colormap='tab20', colorbar = False)\n",
    "subset[np.logical_not(cluster_mask)].plot.scatter(ax=ax1, x=0, y=1, c = 'black')\n",
    "plt.show()"
   ]
  },
  {
   "cell_type": "markdown",
   "metadata": {},
   "source": [
    "This may be familiar to you from the use of DBSCAN for identifying outliers.  Unlike KMeans, we don't get arbitrary groupings in our data.  We do however, have quite a bit of data that is not included in any cluster (the cluster value is `-1`).  Further analysis by a subject matter expert can be done to determine if this is beneficial or not by looking at the data continaed in the clusters and data not within the clusters.\n",
    "\n",
    "Furthermore, because the DBSCAN model cannot be \"trained\", we cannot use the model to predict new data.  To include new data in the cluster definitions requires the model to be refitted, which could change how prior data was clustered.  However, DBSCAN is a good choice for clustering data for visual purposes, and as a data analysis method.\n",
    "\n",
    "DBSCAN can be used to bootstrap a supervised learning model by helping with class identification and assignment, if the data form reasonable clusters that make clinical sense.  Also, it is a useful algorithm for outlier detection."
   ]
  },
  {
   "cell_type": "markdown",
   "metadata": {},
   "source": [
    "## Finding a good starting value for EPS\n",
    "If you need to find a value for EPS, the maximum distance for two points to be considered neighbors, you might wonder how.  The value of EPS is dependent on the data, and when using euclidean distance measures, it's the geometric distance between the points.  \n",
    "\n",
    "One way to find a good starting point in the search for EPS is to plot the results of the distance from each point to it's nearest neighbors, and see where that starts to dramatically increase.  This method is covered in [this](../resources/Determination-of-Optimal-Epsilon-Value-on-DBSCAN-Algorithm.pdf) paper.\n",
    "\n",
    "We can use scikit learn's [NearestNeighbors](https://scikit-learn.org/stable/modules/generated/sklearn.neighbors.NearestNeighbors.html) class for this.\n",
    "\n",
    "We get the distances for each point to it's nearest neighbors, sort and plot the results.  The `metric` parameter's value should match the distance metric you plan to use in your clustering.  We use the euclidean distance metric below because DBSCAN defaults to euclidean, which is what we used above.  We then look across the y axis to find the approximate value at which the curve begins to steepen."
   ]
  },
  {
   "cell_type": "code",
   "execution_count": 3,
   "metadata": {},
   "outputs": [
    {
     "data": {
      "text/plain": [
       "[<matplotlib.lines.Line2D at 0x7f5d6a0f7358>]"
      ]
     },
     "execution_count": 3,
     "metadata": {},
     "output_type": "execute_result"
    },
    {
     "data": {
      "image/png": "[encoded data removed]",
      "text/plain": [
       "<Figure size 432x288 with 1 Axes>"
      ]
     },
     "metadata": {
      "needs_background": "light"
     },
     "output_type": "display_data"
    }
   ],
   "source": [
    "from sklearn.neighbors import NearestNeighbors\n",
    "\n",
    "nn = NearestNeighbors(n_neighbors=10, metric='euclidean')\n",
    "\n",
    "neighbors = nn.fit(subset)\n",
    "\n",
    "distances, _ = neighbors.kneighbors(subset)\n",
    "\n",
    "distances = np.sort(distances, axis=0)\n",
    "\n",
    "plt.plot(distances[:,1])\n"
   ]
  },
  {
   "cell_type": "markdown",
   "metadata": {},
   "source": [
    "From this chart we can see the approximate value is around 0.01, which is close to the value we used above.\n",
    "\n",
    "## Select min_samples\n",
    "`min_samples` controls whether outlier data can be grouped into a cluster, and possibly absorbed into a nearby cluster.  This value should be set to optimize the number and size of clusters you get from DBSCAN, in conjunction with EPS.  The optimal clusters is problem specific and requires you to understand the makeup of your clusters and your goal for clustering, such as what we did at the end of lab 1."
   ]
  },
  {
   "cell_type": "markdown",
   "metadata": {},
   "source": [
    "## Clustering performance evaluation\n",
    "The unlabeled methods for evaluating cluster performance, such as the [Silhouette Coefficient](https://scikit-learn.org/stable/modules/generated/sklearn.metrics.silhouette_score.html#sklearn.metrics.silhouette_score) we looked at for KMeans, are typically not a good fit for DBSCAN clusters because they perform poorly on non convex clusters.\n",
    "\n",
    "In this lab, we will look at the [Calinski-Harabaz Index](https://scikit-learn.org/stable/modules/generated/sklearn.metrics.calinski_harabaz_score.html#sklearn.metrics.calinski_harabaz_score).  This metric is a ratio of the between-clusters dispersion mean and within cluster dispersion.  Unlike the Silhouette Coefficient, this metric is not upper bounded, making it difficult to interpret.  Higher numbers mean better clusters, but these numbers can only be compared when clustering on the same data using either different clustering methods or different number of clusters.  \n",
    "\n",
    "With DBSCAN, we have some data that is not clustered (the cluster number is `-1`.)  We must remove the unclustered data prior to computing the Calinski-Harabasz score, as it is not designed to be calculated on unclustered data points.  We will use the mask computed above when we plotted the data to now remove the non clustered data.\n",
    "\n",
    "Note that you cannot calculate the score if your DBSCAN produced only one cluster, because Calinski Harabaz relies on between cluster measures which isn't possible if there is only one cluster."
   ]
  },
  {
   "cell_type": "code",
   "execution_count": 4,
   "metadata": {},
   "outputs": [
    {
     "name": "stdout",
     "output_type": "stream",
     "text": [
      "93.387\n"
     ]
    }
   ],
   "source": [
    "from sklearn import metrics\n",
    "\n",
    "subset['cluster'] = model.labels_\n",
    "\n",
    "clustered_data = subset[cluster_mask]\n",
    "\n",
    "print(round(metrics.calinski_harabaz_score(clustered_data.iloc[:,:-1], clustered_data.iloc[:,-1:].values.ravel()), 3))"
   ]
  },
  {
   "cell_type": "markdown",
   "metadata": {},
   "source": [
    "The number by itself is meaningless.  We must compare to the same data set clustered by a different methodology.  We could rerun DBSCAN with different values for epsilon and min_samples and compare the scores.  Instead we will turn to lab 3 and try a different clustering method."
   ]
  }
 ],
 "metadata": {
  "kernelspec": {
   "display_name": "Python 3",
   "language": "python",
   "name": "python3"
  },
  "language_info": {
   "codemirror_mode": {
    "name": "ipython",
    "version": 3
   },
   "file_extension": ".py",
   "mimetype": "text/x-python",
   "name": "python",
   "nbconvert_exporter": "python",
   "pygments_lexer": "ipython3",
   "version": "3.7.3"
  }
 },
 "nbformat": 4,
 "nbformat_minor": 2
}
