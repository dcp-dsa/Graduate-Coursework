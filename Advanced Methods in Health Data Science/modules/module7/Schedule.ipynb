{
 "cells": [
  {
   "cell_type": "markdown",
   "metadata": {},
   "source": [
    "# Module 7: Applications of unsupervised methods"
   ]
  },
  {
   "cell_type": "markdown",
   "metadata": {},
   "source": [
    "In the last module, we studied Python methods for data mining and supervised learning.  In supervised learning, you have a target (dependent variable), and you're training a model to learn that target from the independent variables.  In unsupervised learning, there is no target.  What you try to accomplish with unsupervised learning is to see if the data are naturally grouped together by their features, and then use that information to make predictions or for other purposes.\n",
    "\n",
    "In this module we will take a look at clustering based models for unsupervised learning, including KMeans, DBSCAN, and Hierarchical.  You may have used the KMeans algorithm for binning continuous data into categories, or used the DBSCAN algorithm to identify outliers.  Here we will see how they work to identify clusters that serve a useful purpose.\n"
   ]
  },
  {
   "cell_type": "markdown",
   "metadata": {},
   "source": [
    "## Module Topics\n",
    "1. Unsupervised learning\n",
    "1. KMeans clustering\n",
    "1. DBSCAN\n",
    "1. Hierarchical clustering\n"
   ]
  },
  {
   "cell_type": "markdown",
   "metadata": {},
   "source": [
    "## Lectures\n",
    "Lectures are available on the Canvas site for this course, and cover the following topics:\n",
    "\n",
    "1. Unsupervised learning methods\n"
   ]
  },
  {
   "cell_type": "markdown",
   "metadata": {},
   "source": [
    "## Reading and Videos\n",
    "* [Determination of Optimal Epsilon (Eps) Value on DBSCAN Algorithm to Clustering Data on Peatland Hotspots in Sumatra](resources/Determination-of-Optimal-Epsilon-Value-on-DBSCAN-Algorithm.pdf)\n"
   ]
  },
  {
   "cell_type": "markdown",
   "metadata": {},
   "source": [
    "## Labs\n",
    "* [Lab 1 - Unsupervised Machine Learning - Clustering](labs/lab-07-01.ipynb)\n",
    "* [Lab 2 - Clustering with DBSCAN](labs/lab-07-02.ipynb)\n",
    "* [Lab 3 - Clustering using a Hierarchical Approach](labs/lab-07-03.ipynb)\n"
   ]
  },
  {
   "cell_type": "markdown",
   "metadata": {},
   "source": [
    "## Practices\n",
    "  * [Practice 1 - Clustering liver disorder data](practices/practice-07-01.ipynb) ([answers](practices/practice-answers-07-01.ipynb))"
   ]
  },
  {
   "cell_type": "markdown",
   "metadata": {},
   "source": [
    "## Exercises\n",
    "* [Exercise 1 - Using clustering to characterize data distinguishing a Hepatitis C diagnosis.](exercises/exercise-07-01.ipynb)\n"
   ]
  },
  {
   "cell_type": "markdown",
   "metadata": {},
   "source": [
    "## Submitting your work\n",
    "\n",
    "#### Steps:\n",
    "1. Open Terminal in JupyterHub\n",
    "2. Change into the course folder\n",
    "3. Stage (Git Add) all work from the module \n",
    "    * `git add modules/module7`\n",
    "    * `git add output`\n",
    "4. Create your work snapshot (Git Commit)\n",
    "    * `git commit -m \"Module 7 submission\"`\n",
    "5. Upload the snapshot to the server (Git Push) \n",
    "    * `git push`\n"
   ]
  }
 ],
 "metadata": {
  "kernelspec": {
   "display_name": "Python 3",
   "language": "python",
   "name": "python3"
  },
  "language_info": {
   "codemirror_mode": {
    "name": "ipython",
    "version": 3
   },
   "file_extension": ".py",
   "mimetype": "text/x-python",
   "name": "python",
   "nbconvert_exporter": "python",
   "pygments_lexer": "ipython3",
   "version": "3.7.3"
  }
 },
 "nbformat": 4,
 "nbformat_minor": 2
}
