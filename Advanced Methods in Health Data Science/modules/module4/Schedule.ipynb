{
 "cells": [
  {
   "cell_type": "markdown",
   "metadata": {},
   "source": [
    "# Module 4: Healthcare Image Processing"
   ]
  },
  {
   "cell_type": "markdown",
   "metadata": {},
   "source": [
    "In this module we will cover several aspects of data sceince for medical imaging.  The first topic is the concept of medical images as a data source, the DICOM image format, and basic image manipulation using Python.  The second topic is the use of Convolution Neural Networks for image classification, and a specific application to tumor identification in MRI images.  Image classification for any purpose is highly specialized and specific, so this is meant to be an introduction to a leading technique and concept for \n"
   ]
  },
  {
   "cell_type": "markdown",
   "metadata": {},
   "source": [
    "## Module Topics\n",
    "1. DICOM image processing\n",
    "1. Convolution Neural Networks for image classification\n"
   ]
  },
  {
   "cell_type": "markdown",
   "metadata": {},
   "source": [
    "## Lectures\n",
    "Lectures are available on the Canvas site for this course, and cover the following topics:\n",
    "\n",
    "1. DICOM\n",
    "1. Convolution Neural Networks\n"
   ]
  },
  {
   "cell_type": "markdown",
   "metadata": {},
   "source": [
    "## Reading and Videos\n",
    "* [Automated brain tumour detection and segmentation using superpixel-based extremely randomized trees in FLAIR MRI](resources/Soltaninejad2017_Article_AutomatedBrainTumourDetectionA.pdf)\n",
    "* [Machine Learning For Medical Image Analysis - How It Works](https://www.youtube.com/watch?v=VKnoyiNxflk)"
   ]
  },
  {
   "cell_type": "markdown",
   "metadata": {},
   "source": [
    "## Labs\n",
    "* [Lab 1 - DICOM Image file format](labs/lab-04-01.ipynb)\n",
    "* [Lab 2 - Recursing files in a directory](labs/lab-04-02.ipynb)\n",
    "* [Lab 3 - Convolutional Neural Network for image classification](labs/lab-04-03.ipynb)\n"
   ]
  },
  {
   "cell_type": "markdown",
   "metadata": {},
   "source": [
    "## Practices\n",
    "  * [Practice 1 - DICOM data extraction](practices/practice-04-01.ipynb) ([answers](practices/practice-answers-04-01.ipynb))\n",
    "  * [Practice 2 - CNN modification](practices/practice-04-02.ipynb) ([answers](practices/practice-answers-04-02.ipynb))"
   ]
  },
  {
   "cell_type": "markdown",
   "metadata": {},
   "source": [
    "## Exercises\n",
    "* [Exercise 1 - DICOM data processing](exercises/exercise-04-01.ipynb)\n",
    "* [Exercise 2 - Grid Search for the best CNN](exercises/exercise-04-02.ipynb)"
   ]
  },
  {
   "cell_type": "markdown",
   "metadata": {},
   "source": [
    "## Quiz\n",
    "* See the canvas course module 4 for the quizzes for this week.  You must do each exercise prior to completing its quiz."
   ]
  },
  {
   "cell_type": "markdown",
   "metadata": {},
   "source": [
    "## Submitting your work\n",
    "\n",
    "#### Steps:\n",
    "1. Open Terminal in JupyterHub\n",
    "2. Change into the course folder\n",
    "3. Stage (Git Add) all work from the module \n",
    "    * `git add modules/module4`\n",
    "    * `git add output`\n",
    "4. Create your work snapshot (Git Commit)\n",
    "    * `git commit -m \"Module 4 submission\"`\n",
    "5. Upload the snapshot to the server (Git Push) \n",
    "    * `git push`\n"
   ]
  }
 ],
 "metadata": {
  "kernelspec": {
   "display_name": "Python 3",
   "language": "python",
   "name": "python3"
  },
  "language_info": {
   "codemirror_mode": {
    "name": "ipython",
    "version": 3
   },
   "file_extension": ".py",
   "mimetype": "text/x-python",
   "name": "python",
   "nbconvert_exporter": "python",
   "pygments_lexer": "ipython3",
   "version": "3.7.3"
  }
 },
 "nbformat": 4,
 "nbformat_minor": 2
}
