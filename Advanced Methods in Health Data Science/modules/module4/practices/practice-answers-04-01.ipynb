{
 "cells": [
  {
   "cell_type": "markdown",
   "metadata": {},
   "source": [
    "## Module 4 Practice 1 Answers - DICOM data extraction\n",
    "\n",
    "In this exercise, you will extract the metadata from a directory containing multiple subjects, and perform basic descriptive analysis of that data.\n",
    "\n",
    "The directory is the same as used in the lab, except we will read the DICOM files of every patient represented rather than just one.\n",
    "\n",
    "This is the structure:\n",
    "\n",
    "```\n",
    "Brain-Tumor-Progression\n",
    "  |_ PGBM-001 (the patient identifier in the study)\n",
    "    |_ 11-19-1991-FH-HEADBrain Protocols-40993 (folder for the scan date)\n",
    "        |_ 11.000000-T1post-03326 (folder for the scan series)\n",
    "            |_ 1-01.dcm (sequential scan file)\n",
    "            ...\n",
    "            |_ 1-25.dcm (sequential scan file)\n",
    "    |_ 04-02-1992-FH-HEADBrain Protocols-79896 (folder for the scan date)\n",
    "        |_ 11.000000-T1post-80644 (folder for the scan series)\n",
    "            |_ 1-01.dcm (sequential scan file)\n",
    "            ...\n",
    "            |_ 1-24.dcm (sequential scan file)\n",
    "  |_ PGBM-002\n",
    "    |_ <scan date 1>\n",
    "        |_ <series>\n",
    "            |_ 1-01.dcm\n",
    "            ...\n",
    "            |_ 1-xx.dcm (the number of images in each series varies)\n",
    "    |_ <scan date 2>\n",
    "        |_ <series>\n",
    "            |_ 1-01.dcm\n",
    "            ...\n",
    "            |_ 1-xx.dcm (the number of images in each series varies)\n",
    "  ...\n",
    "  |_ PGBM-005 (there are 5 patients)\n",
    "    |_ <scan date 1>\n",
    "        |_ <series>\n",
    "            |_ 1-01.dcm\n",
    "            ...\n",
    "            |_ 1-xx.dcm (the number of images in each series varies)\n",
    "    |_ <scan date 2>\n",
    "        |_ <series>\n",
    "            |_ 1-01.dcm\n",
    "            ...\n",
    "            |_ 1-xx.dcm (the number of images in each series varies)\n",
    "  \n",
    "```\n",
    "\n",
    "There are five subjects, two scan dates per subject, and possibly multiple series for each scan date."
   ]
  },
  {
   "cell_type": "code",
   "execution_count": null,
   "metadata": {},
   "outputs": [],
   "source": [
    "import sys\n",
    "!{sys.executable} -m pip install pydicom scikit-image\n",
    "import pydicom\n",
    "import skimage\n",
    "import numpy as np\n",
    "import pandas as pd"
   ]
  },
  {
   "cell_type": "markdown",
   "metadata": {},
   "source": [
    "## Extract data from all DICOM files\n",
    "\n",
    "Loop over all dicom images under the `Brain-Tumor-Progression` directory structure and extract the following tags into a pandas dataframe.  Refer to the lab on recursive directory looping for the technique to read all of the images.\n",
    "\n",
    "```\n",
    "(0010, 0010) Patient's Name                      \n",
    "(0010, 0020) Patient ID                          \n",
    "(0010, 0030) Patient's Birth Date                \n",
    "(0010, 0040) Patient's Sex                       \n",
    "(0010, 1010) Patient's Age                       \n",
    "(0010, 1030) Patient's Weight                    \n",
    "(0012, 0062) Patient Identity Removed            \n",
    "(0008, 0050) Accession Number\n",
    "(0008, 0021) Series Date\n",
    "```\n",
    "\n",
    "Some of these tags will result in a pydicom object rather than a Python base class:\n",
    "\n",
    "* (0010, 0010) Patient's Name - returns a [pydicom.valuerep.PersonName](https://pydicom.github.io/pydicom/stable/reference/generated/pydicom.valuerep.PersonName.html)\n",
    "    (this can be cast to a string)\n",
    "* (0010, 1030) Patient's Weight - returns a [pydicom.valuerep.DSfloat](https://pydicom.github.io/pydicom/dev/reference/generated/pydicom.valuerep.DSfloat.html)\n",
    "    (this can be cast to a float)\n",
    "    \n",
    "Some other values (like dates and ages) will be represented as strings, but are better loaded as a different type.\n",
    "\n",
    "If necessary, reference the documentation and select an appropriate method to get the data in the format you desire."
   ]
  },
  {
   "cell_type": "code",
   "execution_count": null,
   "metadata": {},
   "outputs": [],
   "source": [
    "from glob import glob\n",
    "\n",
    "# there are a number of ways to build a pandas dataframe from scratch.  This method builds a list of lists,\n",
    "# then converts that into a dataframe.\n",
    "list_data = []\n",
    "for filename in glob('../resources/**/*.dcm', recursive=True):\n",
    "    img = pydicom.dcmread(filename)\n",
    "    list_data.append([\n",
    "        str(img[0x00100010].value),\n",
    "        img[0x00100020].value,\n",
    "        img[0x00100030].value,\n",
    "        img[0x00100040].value,\n",
    "        int(img[0x00101010].value.replace('Y', '')),\n",
    "        float(img[0x00101030].value),\n",
    "        img[0x00120062].value,\n",
    "        img[0x00080050].value,\n",
    "        pd.to_datetime(img[0x00080021].value, format='%Y%m%d')\n",
    "    ])\n",
    "    \n",
    "data = pd.DataFrame(list_data, \n",
    "                    columns=['pt_name', 'pt_id', 'pt_birth_date', 'pt_sex', 'pt_age', 'pt_weight', 'pt_deid',\n",
    "                            'acc_num', 'series_date'])\n",
    "\n",
    "print(data.dtypes)\n",
    "display(data)"
   ]
  },
  {
   "cell_type": "markdown",
   "metadata": {},
   "source": [
    "## Has every image been deidentified?\n",
    "One of the first things you should check if working with potential PHI is if the data have been de-identified.  If it has not and you do not have legal access to the PHI you should stop immediately.\n",
    "\n",
    "The DICOM format has a tag for this, noted above."
   ]
  },
  {
   "cell_type": "code",
   "execution_count": null,
   "metadata": {},
   "outputs": [],
   "source": [
    "data[data['pt_deid'] != 'YES']['pt_id'].count()"
   ]
  },
  {
   "cell_type": "markdown",
   "metadata": {},
   "source": [
    "## How many images for each subject and series?\n",
    "For each subject, print the number of images per subject and series date."
   ]
  },
  {
   "cell_type": "code",
   "execution_count": null,
   "metadata": {},
   "outputs": [],
   "source": [
    "data.groupby(by=['pt_id', 'series_date'])[['acc_num']].count() # grouping by patient id and series date, and then counting just the accession number column"
   ]
  },
  {
   "cell_type": "markdown",
   "metadata": {},
   "source": [
    "## How many of each sex in the study?\n",
    "\n",
    "Count the number of subjects by sex."
   ]
  },
  {
   "cell_type": "code",
   "execution_count": null,
   "metadata": {},
   "outputs": [],
   "source": [
    "# remember we have one row per image, so we first need just one row per subject, then group by sex and count\n",
    "\n",
    "data[['pt_id', 'pt_sex']].drop_duplicates().groupby(by='pt_sex').count()"
   ]
  },
  {
   "cell_type": "markdown",
   "metadata": {},
   "source": [
    "## What was the minimum, maximum, and average age of the subjects during their last series?\n",
    "\n",
    "Find the last scan series by date for each subject, then find the mean age of all subjects from this subset.\n",
    "\n",
    "hint: look at the [idxmax()](https://pandas.pydata.org/pandas-docs/stable/reference/api/pandas.DataFrame.idxmax.html) method in pandas."
   ]
  },
  {
   "cell_type": "code",
   "execution_count": null,
   "metadata": {},
   "outputs": [],
   "source": [
    "# idxmax will give the first encountered index of the maximum for each group.  \n",
    "# We use that result to get the detailed rows from the data, then perform the aggregate functions on patient age\n",
    "data.loc[data.groupby('pt_id')['series_date'].idxmax()]['pt_age'].agg(['min', 'max', 'mean'])"
   ]
  },
  {
   "cell_type": "markdown",
   "metadata": {},
   "source": [
    "## What was the minimum, maximum, and average weight of the subjects during their last series? \n",
    "\n",
    "Similar to the above question, but for weight."
   ]
  },
  {
   "cell_type": "code",
   "execution_count": null,
   "metadata": {},
   "outputs": [],
   "source": [
    "data.loc[data.groupby('pt_id')['series_date'].idxmax()]['pt_weight'].agg(['min', 'max', 'mean'])"
   ]
  },
  {
   "cell_type": "markdown",
   "metadata": {},
   "source": [
    "## What was the mean weight loss/gain between the first and the last series?\n",
    "\n",
    "hint: is there an idxmin()?"
   ]
  },
  {
   "cell_type": "code",
   "execution_count": null,
   "metadata": {},
   "outputs": [],
   "source": [
    "# using idxmin and idxmax to get the first and last series rows.  index by pt_id so pandas can match the rows easily\n",
    "first = data.loc[data.groupby('pt_id')['series_date'].idxmin()].set_index('pt_id')['pt_weight']\n",
    "last = data.loc[data.groupby('pt_id')['series_date'].idxmax()].set_index('pt_id')['pt_weight']\n",
    "\n",
    "display(first)\n",
    "display(last)\n",
    "\n",
    "# subtract the first from the last, so weight loss is negative and weight gain is positive\n",
    "display(last - first)\n",
    "\n",
    "display((last - first).mean())"
   ]
  }
 ],
 "metadata": {
  "kernelspec": {
   "display_name": "Python 3",
   "language": "python",
   "name": "python3"
  },
  "language_info": {
   "codemirror_mode": {
    "name": "ipython",
    "version": 3
   },
   "file_extension": ".py",
   "mimetype": "text/x-python",
   "name": "python",
   "nbconvert_exporter": "python",
   "pygments_lexer": "ipython3",
   "version": "3.7.3"
  }
 },
 "nbformat": 4,
 "nbformat_minor": 2
}
