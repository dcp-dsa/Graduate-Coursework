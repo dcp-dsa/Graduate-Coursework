{
 "cells": [
  {
   "cell_type": "markdown",
   "metadata": {},
   "source": [
    "# Module 4 Lab 3 - Convolutional Neural Network for image classification\n",
    "\n",
    "## **NOTE: You need to use the Tensorflow CPU container for this notebook**\n",
    "(It may take a while for this container to start and for your notebook to connect to a kernel, so be patient)\n",
    "\n",
    "In this lab we will train a Convolutional Neural Network (CNN) to classify images as positive or negative for brain tumor.\n",
    "\n",
    "We are installing and using Keras version 2.3.1 which is compatible with Tensforflow 1.x.  Keras is an abstraction layer on top of the tensorflow backend that presents higher level layers to work with, rather than building out a tensor flow manually.\n",
    "\n",
    "Please watch the video from JAMA to refresh your memory on how a CNN works, linked from this module's Schedule.ipynb.\n",
    "\n",
    "An in-depth course on neural networks, including CNN's, would take more time than we have in this course, so don't worry too much if you don't fully grasp the fundamentals of the CNN we build below.  Having exposure to it and being able to make simple changes to the network design is all that is required for this course.\n",
    "\n",
    "The labeled image data was provided by the [Mayo Radiology Informatics Laboratory](https://www.mayo.edu/research/labs/radiology-informatics/overview)"
   ]
  },
  {
   "cell_type": "code",
   "execution_count": 1,
   "metadata": {},
   "outputs": [
    {
     "name": "stdout",
     "output_type": "stream",
     "text": [
      "Requirement already satisfied: keras==2.3.1 in /opt/conda/lib/python3.7/site-packages (2.3.1)\n",
      "Requirement already satisfied: keras-applications>=1.0.6 in /opt/conda/lib/python3.7/site-packages (from keras==2.3.1) (1.0.7)\n",
      "Requirement already satisfied: scipy>=0.14 in /opt/conda/lib/python3.7/site-packages (from keras==2.3.1) (1.2.1)\n",
      "Requirement already satisfied: pyyaml in /opt/conda/lib/python3.7/site-packages (from keras==2.3.1) (5.1.2)\n",
      "Requirement already satisfied: h5py in /opt/conda/lib/python3.7/site-packages (from keras==2.3.1) (2.9.0)\n",
      "Requirement already satisfied: keras-preprocessing>=1.0.5 in /opt/conda/lib/python3.7/site-packages (from keras==2.3.1) (1.0.9)\n",
      "Requirement already satisfied: six>=1.9.0 in /opt/conda/lib/python3.7/site-packages (from keras==2.3.1) (1.12.0)\n",
      "Requirement already satisfied: numpy>=1.9.1 in /opt/conda/lib/python3.7/site-packages (from keras==2.3.1) (1.21.5)\n",
      "Requirement already up-to-date: numpy>=1.2 in /opt/conda/lib/python3.7/site-packages (1.21.5)\n"
     ]
    }
   ],
   "source": [
    "import sys\n",
    "!{sys.executable} -m pip install keras==2.3.1\n",
    "!{sys.executable} -m pip install --upgrade \"numpy>=1.2\"\n"
   ]
  },
  {
   "cell_type": "code",
   "execution_count": 2,
   "metadata": {},
   "outputs": [
    {
     "name": "stderr",
     "output_type": "stream",
     "text": [
      "Using TensorFlow backend.\n",
      "/opt/conda/lib/python3.7/site-packages/tensorflow/python/framework/dtypes.py:526: FutureWarning: Passing (type, 1) or '1type' as a synonym of type is deprecated; in a future version of numpy, it will be understood as (type, (1,)) / '(1,)type'.\n",
      "  _np_qint8 = np.dtype([(\"qint8\", np.int8, 1)])\n",
      "/opt/conda/lib/python3.7/site-packages/tensorflow/python/framework/dtypes.py:527: FutureWarning: Passing (type, 1) or '1type' as a synonym of type is deprecated; in a future version of numpy, it will be understood as (type, (1,)) / '(1,)type'.\n",
      "  _np_quint8 = np.dtype([(\"quint8\", np.uint8, 1)])\n",
      "/opt/conda/lib/python3.7/site-packages/tensorflow/python/framework/dtypes.py:528: FutureWarning: Passing (type, 1) or '1type' as a synonym of type is deprecated; in a future version of numpy, it will be understood as (type, (1,)) / '(1,)type'.\n",
      "  _np_qint16 = np.dtype([(\"qint16\", np.int16, 1)])\n",
      "/opt/conda/lib/python3.7/site-packages/tensorflow/python/framework/dtypes.py:529: FutureWarning: Passing (type, 1) or '1type' as a synonym of type is deprecated; in a future version of numpy, it will be understood as (type, (1,)) / '(1,)type'.\n",
      "  _np_quint16 = np.dtype([(\"quint16\", np.uint16, 1)])\n",
      "/opt/conda/lib/python3.7/site-packages/tensorflow/python/framework/dtypes.py:530: FutureWarning: Passing (type, 1) or '1type' as a synonym of type is deprecated; in a future version of numpy, it will be understood as (type, (1,)) / '(1,)type'.\n",
      "  _np_qint32 = np.dtype([(\"qint32\", np.int32, 1)])\n",
      "/opt/conda/lib/python3.7/site-packages/tensorflow/python/framework/dtypes.py:535: FutureWarning: Passing (type, 1) or '1type' as a synonym of type is deprecated; in a future version of numpy, it will be understood as (type, (1,)) / '(1,)type'.\n",
      "  np_resource = np.dtype([(\"resource\", np.ubyte, 1)])\n"
     ]
    }
   ],
   "source": [
    "import os\n",
    "import numpy as np\n",
    "import math\n",
    "import glob\n",
    "from PIL import Image\n",
    "import matplotlib.pyplot as plt\n",
    "\n",
    "from keras.models import Sequential\n",
    "from keras.layers import Dense, Dropout, Activation, Flatten, BatchNormalization, Conv2D, MaxPooling2D\n",
    "from keras.optimizers import Adadelta, SGD\n",
    "from keras.utils import np_utils\n",
    "from keras.callbacks import ModelCheckpoint, LearningRateScheduler\n",
    "\n",
    "from sklearn.metrics import accuracy_score, roc_auc_score, roc_curve, auc, classification_report\n",
    "from sklearn.model_selection import train_test_split\n"
   ]
  },
  {
   "cell_type": "markdown",
   "metadata": {},
   "source": [
    "## Build the model\n",
    "\n",
    "We will build a sequential model, which means each layer output goes into only one following layer's input.  There are no parallel layers in a sequential model.  \n",
    "\n",
    "For each layer except the last, we use the rectified linear activation function (relu), and for the last layer we use the sigmoid.  Sigmoid (otherwise known as the logistic function) is appropriate to output for a binary classification problem such as this one (tumor or no tumor), just as it is used in other binary classification problems such as logistic regression.\n",
    "\n",
    "The `Conv2D` layers are the layers that take small windows (kernel_size) out of each image and output filters for the next layer.\n",
    "In a CNN, at each successive convolution, it is common to increase the filters, and also common to use powers of 2.\n",
    "\n",
    "A `MaxPooling2D` layer will take the maximum value for each area defined by `pool_size`.  \n",
    "\n",
    "The `BatchNormalization` layer normalizes the outputs such they have a mean near zero and a standard deviation near 1.\n",
    "\n",
    "A `Dropout` layer will randomly set inputs to zero, to help with prevention of overfitting, at the rate specified. A value of 0.5 will set approximately half of the  inputs to zero.\n",
    "\n",
    "In the first convolution layer, we specify the dimensions and color depth of our images with the parameter `input_shape`.  Near the end, we apply some `Dense` layers, which are fully connected neural network layers, in which we specify the number of outputs we want.  We eventually want to scale the output to 1, because we are classifying a binary problem: tumor or no tumor.  The last layer is then the Sigmoid activation, which converts the output of the CNN to a probability.  The Sigmoid function is the familiar \"S\" shaped function map that is commonly used in binary classifications.\n",
    "\n",
    "Finally, as we compile the model, we specify a loss function.  The loss function is responsible for estimating the error of the network so that prior to the next training iteration, the network weights can be updated to attempt to minimize this loss.  For a binary classification problem, the `binary_crossentropy` function is used.  We also specify the optimizer algorithm, which is responsible for propogating changes to the network's weights back through the model.  We will use the Adaptive Moment Estimation (adam), as it is the newest and most efficient algorithm available.\n",
    "\n",
    "This particular network was produced by the Mayo Radiology Informatics Laboratory, from which our data was sourced, but it doesn't necessarily represent the best possible model.  When training a CNN, many of the items specified at each layer can be tuned, along with the number and order of the layers.  For this lab, we will see how this model performs.  In the practice exercise, you will modify some parameters to see the effects.\n"
   ]
  },
  {
   "cell_type": "code",
   "execution_count": 3,
   "metadata": {},
   "outputs": [],
   "source": [
    "def create_model(img_channels, img_rows, img_cols):\n",
    "    # img_channels: how many color channels\n",
    "    # img_rows and img_cols: the size of the image\n",
    "    model = Sequential()\n",
    "    \n",
    "    model.add(Conv2D(16, kernel_size = 3, padding='same', input_shape=(img_channels, img_rows, img_cols)))\n",
    "    model.add(Activation('relu'))\n",
    "\n",
    "    model.add(Conv2D(16, kernel_size = 5, padding=\"same\"))\n",
    "    model.add(BatchNormalization())\n",
    "    model.add(Activation('relu'))\n",
    "    \n",
    "    model.add(MaxPooling2D(pool_size = 2, data_format='channels_first'))\n",
    "\n",
    "    model.add(Conv2D(16, kernel_size = 3, padding=\"same\"))\n",
    "    model.add(BatchNormalization())\n",
    "    model.add(Activation('relu'))\n",
    "\n",
    "    model.add(Conv2D(64, kernel_size = 5, padding=\"same\"))\n",
    "    model.add(BatchNormalization())\n",
    "    model.add(Activation('relu'))\n",
    "\n",
    "    model.add(Conv2D(64, kernel_size = 3, padding=\"same\"))\n",
    "    model.add(BatchNormalization())\n",
    "    model.add(Activation('relu'))\n",
    "    \n",
    "    model.add(MaxPooling2D(pool_size = 2, data_format='channels_first'))\n",
    "\n",
    "    model.add(Conv2D(128, kernel_size = 3, padding=\"same\"))\n",
    "    model.add(BatchNormalization())\n",
    "    model.add(Activation('relu'))\n",
    "\n",
    "    model.add(MaxPooling2D(pool_size = 2, data_format='channels_first'))\n",
    "    \n",
    "    model.add(Flatten())\n",
    "    model.add(Dense(128, kernel_initializer=\"he_normal\"))\n",
    "    model.add(Activation('relu'))\n",
    "\n",
    "    model.add(Dropout(0.5)) \n",
    "    model.add(Dense(32, kernel_initializer=\"he_normal\"))\n",
    "    model.add(Activation('relu'))\n",
    "\n",
    "    model.add(Dropout(0.5)) \n",
    "    model.add(Dense(1))\n",
    "    model.add(Activation('sigmoid'))\n",
    "    \n",
    "    # learning rate optimizer\n",
    "    optimizer = Adadelta(lr=0)\n",
    "    model.compile(loss='binary_crossentropy', optimizer=optimizer, metrics=['accuracy'])\n",
    "\n",
    "    return model"
   ]
  },
  {
   "cell_type": "code",
   "execution_count": 4,
   "metadata": {},
   "outputs": [
    {
     "name": "stdout",
     "output_type": "stream",
     "text": [
      "WARNING:tensorflow:From /opt/conda/lib/python3.7/site-packages/tensorflow/python/ops/resource_variable_ops.py:435: colocate_with (from tensorflow.python.framework.ops) is deprecated and will be removed in a future version.\n",
      "Instructions for updating:\n",
      "Colocations handled automatically by placer.\n"
     ]
    }
   ],
   "source": [
    "img_rows=32\n",
    "img_cols=32\n",
    "img_channels=1\n",
    "\n",
    "model = create_model(img_channels, img_rows, img_cols)\n"
   ]
  },
  {
   "cell_type": "markdown",
   "metadata": {},
   "source": [
    "## Read the training data\n",
    "\n",
    "The data are separated into two directories, one for postive samples (a tumor exists), and one for negative.  In each directory there are a number of jpeg files of 32x32 pixels.  These images are small to speed up the training process and reduce the memory necessary to train, at the expense of information loss.  \n",
    "\n",
    "We will load these images into numpy arrays, one for each of the classes, then join them together.  We will also create a binary classification array for the network to train against.\n",
    "\n",
    "We perform a train/test split so we have some images to test the model against."
   ]
  },
  {
   "cell_type": "code",
   "execution_count": 5,
   "metadata": {},
   "outputs": [],
   "source": [
    "def read_image_data(filename):\n",
    "    # read grayscale image data to an 2d numpy array\n",
    "    image = Image.open(filename)\n",
    "    image = image.getdata()\n",
    "    image = np.array(image)\n",
    "    return image.reshape(-1)\n",
    "\n",
    "\n",
    "def image_dir_to_array(dir):\n",
    "    data = [read_image_data(image) for image in glob.glob(os.path.join(dir, '*.jpg'))]\n",
    "    return np.array(data)\n",
    "\n",
    "\n",
    "def load_data(negative_images_path, positive_images_path):\n",
    "    negatives = image_dir_to_array(negative_images_path)\n",
    "    positives = image_dir_to_array(positive_images_path)\n",
    "    \n",
    "    X=np.vstack((negatives, positives))\n",
    "    X=X.astype(np.float) / 255 # reduce colordepth normalize the image grayscale values from 0..1\n",
    "    y=np.concatenate((np.zeros(len(negatives)), np.ones(len(positives))))\n",
    "    \n",
    "    print ('shape of X', np.shape(X)) \n",
    "    print ('scale of X', np.min(X), np.max(X))\n",
    "    print ('shape of y', np.shape(y)) \n",
    "    \n",
    "    return X, y\n",
    "\n",
    "\n",
    "def reshape_X(X, img_channels, img_rows, img_cols):\n",
    "    # reshape the data to the 4 dimensional format required by the CNN\n",
    "    # the resulting shape will be (num_samples, img_channels (1 for grayscale images), img_rows, img_cols)\n",
    "    return X.reshape(-1, img_channels, img_rows, img_cols)"
   ]
  },
  {
   "cell_type": "code",
   "execution_count": 6,
   "metadata": {},
   "outputs": [
    {
     "name": "stdout",
     "output_type": "stream",
     "text": [
      "shape of X (8710, 1024)\n",
      "scale of X 0.0 1.0\n",
      "shape of y (8710,)\n"
     ]
    },
    {
     "name": "stderr",
     "output_type": "stream",
     "text": [
      "/opt/conda/lib/python3.7/site-packages/ipykernel_launcher.py:19: DeprecationWarning: `np.float` is a deprecated alias for the builtin `float`. To silence this warning, use `float` by itself. Doing this will not modify any behavior and is safe. If you specifically wanted the numpy scalar type, use `np.float64` here.\n",
      "Deprecated in NumPy 1.20; for more details and guidance: https://numpy.org/devdocs/release/1.20.0-notes.html#deprecations\n"
     ]
    }
   ],
   "source": [
    "negative_images_path = '../resources/cnn-images/negative_images/'\n",
    "positive_images_path = '../resources/cnn-images/positive_images/'\n",
    "\n",
    "X, y = load_data(negative_images_path, positive_images_path)\n",
    "\n",
    "X_train, X_test, y_train, y_test = train_test_split(X, y, test_size=0.2, random_state=42)\n",
    "\n",
    "X_train = reshape_X(X_train, img_channels, img_rows, img_cols)\n",
    "X_test = reshape_X(X_test, img_channels, img_rows, img_cols)"
   ]
  },
  {
   "cell_type": "markdown",
   "metadata": {},
   "source": [
    "## Train the model\n",
    "\n",
    "Now we will train the model using the training data.  We specify a batch size and an epoch.  The batch size represents how many images we send through the network before the network weights are changed.  For a batch size of 32, the full training data is broken up into sets of 32 and sent one at a time through the network.  After each batch, the network weights are updated, and the next batch is sent through.  Larger batch sizes are more efficient, but produce worse/slower to converge models, whereas smaller batch sizes will produce better models but take more time to train.\n",
    "\n",
    "The number of epochs represent how many times the model will see one complete set of data.\n",
    "\n",
    "Both of these can be tuned and will have an effect on the model.  For this lab, we are using a small number of epochs to reduce the time it takes to train.  However, this means that the model's accuracy will be unstable.  Networks weights are randomly assigned when the model is created, so it will take a fair amount of epochs for the same model to converge to a similar set of weights with successive trainings.  Also, because of the `Dropout` layers in the model, there is a random effect to the network weights that also stabilize over time.  If you were to run this notebook multiple times in succession, you would see the ROC and other metrics change because we are using a small number of epochs (for training speed).\n",
    "\n",
    "The learning rate controls how much the network weights can change each time the weights are updated.  In this model we are using a step wise decay of the learning rate based on the epoch.  As the epoch increases, the learning rate is reduced, leading to less change in the model over time.  A static learning rate can also be used, in which case the learning rate does not change during the course of training.\n",
    "\n",
    "### The `fit` method\n",
    "\n",
    "We are specifying the learning rate function and a model checkpoint in the `callbacks` parameter of the `fit` method.  `callbacks` takes an array of classes that will be called at the end of each epoch, and we use that to update our learning rate with the `step_decay` function we defined, as well as using the built in `ModelCheckpoint` function.  The `ModelCheckpoint` will save our best model at the end of each epoch.  If the current model at the end of each epoch is not better than one produced in a prior epoch, then it is not saved.  This is a good habit because sometimes training can crash for any number of reasons (out of memory, power loss, etc), and you don't want to lose the current network state, especially if you've been training for many hours or even days.  The saved model can be used to instantiate a new model with those saved weights.\n",
    "\n",
    "The `validation_split` parameter is the percentage of data to hold out as validation to be used for checking the model at each epoch to data that was not used for training.\n",
    "\n",
    "Finally, we specify `shuffle` = True in the `fit` method, so that the training data is shuffled prior to each epoch.  This helps to ensure the model is not learning the order of the training images."
   ]
  },
  {
   "cell_type": "code",
   "execution_count": 7,
   "metadata": {},
   "outputs": [],
   "source": [
    "# learning rate schedule dynamically calculated based on the epoch\n",
    "def step_decay(epoch):\n",
    "    initial_lrate = 0.01\n",
    "    drop = 0.3\n",
    "    epochs_drop = 30.0\n",
    "    lrate = initial_lrate * math.pow(drop, math.floor((1+epoch)/epochs_drop))\n",
    "    print ('learning rate', lrate)\n",
    "    return lrate\n"
   ]
  },
  {
   "cell_type": "code",
   "execution_count": 8,
   "metadata": {},
   "outputs": [
    {
     "name": "stdout",
     "output_type": "stream",
     "text": [
      "WARNING:tensorflow:From /opt/conda/lib/python3.7/site-packages/tensorflow/python/ops/math_ops.py:3066: to_int32 (from tensorflow.python.ops.math_ops) is deprecated and will be removed in a future version.\n",
      "Instructions for updating:\n",
      "Use tf.cast instead.\n"
     ]
    },
    {
     "name": "stderr",
     "output_type": "stream",
     "text": [
      "/opt/conda/lib/python3.7/site-packages/ipykernel_launcher.py:11: UserWarning: The `nb_epoch` argument in `fit` has been renamed `epochs`.\n",
      "  # This is added back by InteractiveShellApp.init_path()\n"
     ]
    },
    {
     "name": "stdout",
     "output_type": "stream",
     "text": [
      "Train on 6271 samples, validate on 697 samples\n",
      "Epoch 1/5\n",
      "learning rate 0.01\n",
      "6271/6271 [==============================] - 9s 1ms/step - loss: 1.0835 - accuracy: 0.4825 - val_loss: 0.7064 - val_accuracy: 0.2654\n",
      "\n",
      "Epoch 00001: val_loss improved from inf to 0.70642, saving model to model.h5\n",
      "Epoch 2/5\n",
      "learning rate 0.01\n",
      "6271/6271 [==============================] - 7s 1ms/step - loss: 0.8583 - accuracy: 0.5589 - val_loss: 0.6994 - val_accuracy: 0.3286\n",
      "\n",
      "Epoch 00002: val_loss improved from 0.70642 to 0.69943, saving model to model.h5\n",
      "Epoch 3/5\n",
      "learning rate 0.01\n",
      "6271/6271 [==============================] - 6s 912us/step - loss: 0.7521 - accuracy: 0.6104 - val_loss: 0.6832 - val_accuracy: 0.6026\n",
      "\n",
      "Epoch 00003: val_loss improved from 0.69943 to 0.68320, saving model to model.h5\n",
      "Epoch 4/5\n",
      "learning rate 0.01\n",
      "6271/6271 [==============================] - 3s 486us/step - loss: 0.7098 - accuracy: 0.6170 - val_loss: 0.6601 - val_accuracy: 0.6686\n",
      "\n",
      "Epoch 00004: val_loss improved from 0.68320 to 0.66010, saving model to model.h5\n",
      "Epoch 5/5\n",
      "learning rate 0.01\n",
      "6271/6271 [==============================] - 3s 450us/step - loss: 0.6749 - accuracy: 0.6407 - val_loss: 0.6235 - val_accuracy: 0.6815\n",
      "\n",
      "Epoch 00005: val_loss improved from 0.66010 to 0.62349, saving model to model.h5\n"
     ]
    },
    {
     "data": {
      "text/plain": [
       "<keras.callbacks.callbacks.History at 0x7f054c5fd940>"
      ]
     },
     "execution_count": 8,
     "metadata": {},
     "output_type": "execute_result"
    }
   ],
   "source": [
    "batch_size=64\n",
    "nb_epoch=5\n",
    "\n",
    "# used to save our model at the end of each epoch\n",
    "model_checkpoint = ModelCheckpoint('model.h5', verbose=1, monitor='val_loss', save_best_only=True)\n",
    "\n",
    "# create a learning rate callback\n",
    "learning_rate = LearningRateScheduler(step_decay)\n",
    "\n",
    "model.fit(X_train, y_train, batch_size=batch_size, nb_epoch=nb_epoch, validation_split=0.1,\n",
    "          callbacks=[model_checkpoint,learning_rate], shuffle=True)\n"
   ]
  },
  {
   "cell_type": "markdown",
   "metadata": {},
   "source": [
    "We see each of the five epochs output several values:\n",
    "\n",
    "* loss - the metric that the training of the model attempts to lower.  The conceptual difference between what was computed on the training set and what was expected.\n",
    "* accuracy - the accuracy of the classification on the training set\n",
    "* val_loss - same as loss, but on the validation data\n",
    "* val_accuracy - same as accuracy, but on the validation data\n",
    "\n",
    "The goal in training the network is to optimize these values.  We want to see the loss stabilize at a hopefully low level, and the accuracy also stabilize at a hopefully high level.\n",
    "\n",
    "## Test the model\n",
    "Finally, we will use the built model to test the accuracy against the test data set to get some additional metrics.  We apply the common methods used for any binary classification problem to assess the performance."
   ]
  },
  {
   "cell_type": "code",
   "execution_count": 9,
   "metadata": {},
   "outputs": [
    {
     "name": "stdout",
     "output_type": "stream",
     "text": [
      "ROC: 0.705\n"
     ]
    }
   ],
   "source": [
    "Y_pred = model.predict(X_test, batch_size = 32)\n",
    "roc = roc_auc_score(y_test, Y_pred)\n",
    "print(\"ROC:\", round(roc, 3))"
   ]
  },
  {
   "cell_type": "code",
   "execution_count": 10,
   "metadata": {},
   "outputs": [
    {
     "data": {
      "image/png": "[encoded data removed]",
      "text/plain": [
       "<Figure size 432x288 with 1 Axes>"
      ]
     },
     "metadata": {
      "needs_background": "light"
     },
     "output_type": "display_data"
    }
   ],
   "source": [
    "# create ROC plot\n",
    "fpr, tpr, threshold = roc_curve(y_test, Y_pred)\n",
    "roc_auc = auc(fpr, tpr)\n",
    "\n",
    "plt.title('Receiver Operating Characteristic')\n",
    "plt.plot(fpr, tpr, 'b', label = 'AUC = %0.2f' % roc_auc)\n",
    "plt.legend(loc = 'lower right')\n",
    "plt.plot([0, 1], [0, 1],'r--')\n",
    "plt.xlim([0, 1])\n",
    "plt.ylim([0, 1])\n",
    "plt.ylabel('True Positive Rate')\n",
    "plt.xlabel('False Positive Rate')\n",
    "plt.show()"
   ]
  },
  {
   "cell_type": "code",
   "execution_count": 11,
   "metadata": {},
   "outputs": [
    {
     "name": "stdout",
     "output_type": "stream",
     "text": [
      "The f1-score gives you the harmonic mean of precision and recall. The scores corresponding to every class will tell you the accuracy of the classifier in classifying the data points in that particular class compared to all other classes.\n",
      "The support is the number of samples of the true response that lie in that class.\n",
      "              precision    recall  f1-score   support\n",
      "\n",
      "    negative     0.4355    0.3829    0.4075       538\n",
      "    positive     0.7384    0.7782    0.7578      1204\n",
      "\n",
      "    accuracy                         0.6561      1742\n",
      "   macro avg     0.5869    0.5806    0.5827      1742\n",
      "weighted avg     0.6448    0.6561    0.6496      1742\n",
      "\n"
     ]
    }
   ],
   "source": [
    "# create classification using cutoff of 0.5 probability\n",
    "Y_pred[Y_pred>=.5]=1\n",
    "Y_pred[Y_pred<.5]=0\n",
    "\n",
    "target_names=[] \n",
    "\n",
    "print(\"The f1-score gives you the harmonic mean of precision and recall. The scores corresponding to every class will tell you the accuracy of the classifier in classifying the data points in that particular class compared to all other classes.\")\n",
    "print(\"The support is the number of samples of the true response that lie in that class.\")\n",
    "target_names = ['negative', 'positive']\n",
    "\n",
    "print(classification_report(y_test, Y_pred, target_names=target_names, digits=4))"
   ]
  },
  {
   "cell_type": "markdown",
   "metadata": {},
   "source": [
    "## Grid searching\n",
    "In practice, many of the things that we can control regarding the training of our model would be modified and run in combinations in what is called a grid search.  In a grid search, different values of parameters are specified, and the combination of those paramters are all run and evaluated.  The final model is the one in which the best metric is achieved using one of the parameter set combinations.  For example, we could do a grid search with two different batch sizes (32 and 64) and two static learning rates (0.1 and 0.075).  The model would then be fit four times:\n",
    "\n",
    "```\n",
    "batch size    learning rate\n",
    "32            0.1 \n",
    "32            0.075 \n",
    "64            0.1\n",
    "64            0.075\n",
    "    \n",
    "```\n",
    "\n",
    "We can use sklearn's [grid search](https://scikit-learn.org/stable/modules/generated/sklearn.model_selection.GridSearchCV.html) with Keras models with a few extra steps.  We need to wrap our model creation function in a KerasClassifier class, which is compatible with sklearn.\n",
    "\n",
    "The `param_grid` dictionary specifies the parameters that we wish to pass into the grid search.  Each item in the dictionary is a parameter to either the model creation function or the fit function.  They must be specified in lists, and the combination across all of those values in each list is what makes up the grid.  The parameters that we use in our model function must remain the same because they define our image size and format, but the epochs and batch we can vary.\n",
    "\n",
    "When we call the `GridSearchCV`, the training and validation is done using Cross Validation, and we specify the number of folds in the `cv` parameter.  It's important that we pass our full dataset into this method, and not the train/test split as we have done prior.  \n",
    "\n",
    "We also specify -1 for `n_jobs`.  This parameter controls how many jobs to run in parallel.  a value of -1 tells sklearn to use as many jobs as there are CPUs.\n",
    "\n",
    "The `verbose=2` parameter will give us some output as the models are trained so we can track progress.\n",
    "\n",
    "A final note regarding the callbacks:  We are not able to pass any callbacks to the Keras fitter, so the learning rate in the below example is using the default rate for the ADAM optimizer.\n",
    "\n",
    "Running this may take a bit of time so be patient.  Also note that the grid search hides some of the verbosity we could get from running the Keras fit directly, so it may seem as though nothing is happening, but it is!"
   ]
  },
  {
   "cell_type": "code",
   "execution_count": 12,
   "metadata": {},
   "outputs": [
    {
     "name": "stdout",
     "output_type": "stream",
     "text": [
      "Fitting 3 folds for each of 1 candidates, totalling 3 fits\n",
      "Epoch 1/2\n",
      " - 5s - loss: 1.8507 - accuracy: 0.3980\n",
      "Epoch 2/2\n",
      " - 4s - loss: 1.8704 - accuracy: 0.3951\n",
      "Best model: 0.666667 with parameters {'batch_size': 64, 'epochs': 2, 'img_channels': 1, 'img_cols': 32, 'img_rows': 32}\n"
     ]
    }
   ],
   "source": [
    "from keras.wrappers.scikit_learn import KerasClassifier\n",
    "from sklearn.model_selection import GridSearchCV\n",
    "\n",
    "model = KerasClassifier(build_fn=create_model, verbose=2)\n",
    "\n",
    "param_grid = {\n",
    "    'img_channels': [img_channels],\n",
    "    'img_rows': [img_rows],\n",
    "    'img_cols': [img_cols],\n",
    "    'epochs': [2],\n",
    "    'batch_size': [64],\n",
    "}\n",
    "\n",
    "X = reshape_X(X, img_channels, img_rows, img_cols) # we have to reshape our input to match what the CNN expects\n",
    "\n",
    "grid = GridSearchCV(estimator=model, param_grid=param_grid, n_jobs=-1, cv = 3, verbose=2)\n",
    "grid_result = grid.fit(X, y, shuffle=True)\n",
    "\n",
    "print(\"Best model: %f with parameters %s\" % (grid_result.best_score_, grid_result.best_params_))\n"
   ]
  },
  {
   "cell_type": "markdown",
   "metadata": {},
   "source": [
    "## Conclusion\n",
    "In this lab, we built, trained, and tested a CNN that attempts to classify MRI images as having tumors or not.  The accuracy is unstable because we've used a small number of epochs.  Also, becuase the network is initialized with random weights, along with other random processes, the accuracy and ROC that you see will vary each time you run this model.  As the epochs are increased the model will become more stable, but the training will take longer.  \n",
    "\n",
    "In the practice and the exercise, you will modify some of these parameters to see their effects on the ROC and accuracy."
   ]
  }
 ],
 "metadata": {
  "kernelspec": {
   "display_name": "Python 3",
   "language": "python",
   "name": "python3"
  },
  "language_info": {
   "codemirror_mode": {
    "name": "ipython",
    "version": 3
   },
   "file_extension": ".py",
   "mimetype": "text/x-python",
   "name": "python",
   "nbconvert_exporter": "python",
   "pygments_lexer": "ipython3",
   "version": "3.7.3"
  }
 },
 "nbformat": 4,
 "nbformat_minor": 2
}
