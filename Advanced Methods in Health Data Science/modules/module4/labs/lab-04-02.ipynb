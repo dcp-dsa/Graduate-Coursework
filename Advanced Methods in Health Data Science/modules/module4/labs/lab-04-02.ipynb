{
 "cells": [
  {
   "cell_type": "markdown",
   "metadata": {},
   "source": [
    "# Module 4 Lab 2 - Recursing files in a directory\n",
    "\n",
    "In this short lab you'll learn how to use Python to loop over files in a directory structure using the [`glob` module](https://docs.python.org/3/library/glob.html).  This allows you to specify relative paths, wildcard path expansions, and recursive patterns.  This technique will be necessary for the exercises for DICOM processing as well as for the image classification using Convolutional Neural Networks."
   ]
  },
  {
   "cell_type": "code",
   "execution_count": 1,
   "metadata": {},
   "outputs": [],
   "source": [
    "from glob import glob\n",
    "from pprint import pprint"
   ]
  },
  {
   "cell_type": "markdown",
   "metadata": {},
   "source": [
    "## Find files matching a wildcard in the current directory\n",
    "From this output we can deduce that our current directory is the one containing the labs notebooks, including this one."
   ]
  },
  {
   "cell_type": "code",
   "execution_count": 2,
   "metadata": {},
   "outputs": [
    {
     "name": "stdout",
     "output_type": "stream",
     "text": [
      "['lab-04-01.ipynb', 'lab-04-02.ipynb', 'lab-04-03.ipynb']\n"
     ]
    }
   ],
   "source": [
    "pprint(glob('*.ipynb'))"
   ]
  },
  {
   "cell_type": "markdown",
   "metadata": {},
   "source": [
    "## Find files using relative pathing\n",
    "\n",
    "Relative pathing is from the current directory (in this case the `labs` subdirectory of the `module3` folder.  `../` will refer to the directory one level up."
   ]
  },
  {
   "cell_type": "code",
   "execution_count": 3,
   "metadata": {},
   "outputs": [
    {
     "name": "stdout",
     "output_type": "stream",
     "text": [
      "['../Schedule.ipynb']\n"
     ]
    }
   ],
   "source": [
    "pprint(glob('../*.ipynb'))"
   ]
  },
  {
   "cell_type": "markdown",
   "metadata": {},
   "source": [
    "## Find files in subdirectories\n",
    "This will use the wildcard pattern to match the directory structure.  In the below example, we go up two levels from the current directory (`../../`) and then specify we want to match a filename pattern (`*.ipynb`) in all subdirectories (`/*/`).  "
   ]
  },
  {
   "cell_type": "code",
   "execution_count": 4,
   "metadata": {},
   "outputs": [
    {
     "name": "stdout",
     "output_type": "stream",
     "text": [
      "['../../module1/Schedule.ipynb',\n",
      " '../../module2/Schedule.ipynb',\n",
      " '../../module3/Schedule.ipynb',\n",
      " '../../module4/Schedule.ipynb']\n"
     ]
    }
   ],
   "source": [
    "# up two levels, and then any one directory below that level \n",
    "pprint(glob('../../*/*.ipynb'))\n"
   ]
  },
  {
   "cell_type": "markdown",
   "metadata": {},
   "source": [
    "## Recurse all subdirectories looking for a match\n",
    "Compare this output to the one above.  When using the recursive=True, the `**` will be expanded to match any number of nested subdirectories."
   ]
  },
  {
   "cell_type": "code",
   "execution_count": 5,
   "metadata": {},
   "outputs": [
    {
     "name": "stdout",
     "output_type": "stream",
     "text": [
      "['../../module1/Schedule.ipynb',\n",
      " '../../module1/exercises/exercise-01-01.ipynb',\n",
      " '../../module1/exercises/exercise-01-02.ipynb',\n",
      " '../../module1/labs/lab-01-01.ipynb',\n",
      " '../../module1/labs/lab-01-02.ipynb',\n",
      " '../../module1/labs/lab-01-03.ipynb',\n",
      " '../../module1/practices/practice-01-01.ipynb',\n",
      " '../../module1/practices/practice-01-02.ipynb',\n",
      " '../../module1/practices/practice-answers-01-01.ipynb',\n",
      " '../../module1/practices/practice-answers-01-02.ipynb',\n",
      " '../../module2/Schedule.ipynb',\n",
      " '../../module2/exercises/exercise-02-01.ipynb',\n",
      " '../../module2/exercises/exercise-02-02.ipynb',\n",
      " '../../module2/labs/lab-02-01.ipynb',\n",
      " '../../module2/labs/lab-02-02.ipynb',\n",
      " '../../module2/labs/lab-02-03.ipynb',\n",
      " '../../module2/practices/practice-02-01.ipynb',\n",
      " '../../module2/practices/practice-02-02.ipynb',\n",
      " '../../module2/practices/practice-02-03.ipynb',\n",
      " '../../module2/practices/practice-answers-02-01.ipynb',\n",
      " '../../module2/practices/practice-answers-02-02.ipynb',\n",
      " '../../module2/practices/practice-answers-02-03.ipynb',\n",
      " '../../module3/Schedule.ipynb',\n",
      " '../../module3/exercises/exercise-03-01.ipynb',\n",
      " '../../module3/labs/lab-03-01.ipynb',\n",
      " '../../module3/labs/lab-03-02.ipynb',\n",
      " '../../module3/labs/lab-03-03.ipynb',\n",
      " '../../module3/practices/practice-03-01.ipynb',\n",
      " '../../module3/practices/practice-03-02.ipynb',\n",
      " '../../module3/practices/practice-answers-03-01.ipynb',\n",
      " '../../module3/practices/practice-answers-03-02.ipynb',\n",
      " '../../module4/Schedule.ipynb',\n",
      " '../../module4/exercises/exercise-04-01.ipynb',\n",
      " '../../module4/exercises/exercise-04-02.ipynb',\n",
      " '../../module4/labs/lab-04-01.ipynb',\n",
      " '../../module4/labs/lab-04-02.ipynb',\n",
      " '../../module4/labs/lab-04-03.ipynb',\n",
      " '../../module4/practices/practice-04-01.ipynb',\n",
      " '../../module4/practices/practice-04-02.ipynb',\n",
      " '../../module4/practices/practice-answers-04-01.ipynb',\n",
      " '../../module4/practices/practice-answers-04-02.ipynb']\n"
     ]
    }
   ],
   "source": [
    "pprint(glob('../../**/*.ipynb', recursive=True))\n",
    "\n"
   ]
  }
 ],
 "metadata": {
  "kernelspec": {
   "display_name": "Python 3",
   "language": "python",
   "name": "python3"
  },
  "language_info": {
   "codemirror_mode": {
    "name": "ipython",
    "version": 3
   },
   "file_extension": ".py",
   "mimetype": "text/x-python",
   "name": "python",
   "nbconvert_exporter": "python",
   "pygments_lexer": "ipython3",
   "version": "3.7.3"
  }
 },
 "nbformat": 4,
 "nbformat_minor": 2
}
