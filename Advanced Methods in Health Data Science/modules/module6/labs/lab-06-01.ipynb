{
 "cells": [
  {
   "cell_type": "markdown",
   "metadata": {},
   "source": [
    "# Module 6 Lab 1 - Logistic regresson to predict readmission\n",
    "\n",
    "In this lab, we will introduce the dataset we will use, and perform a basic logistic regression to predict the probability of within-30-days readmission to a hospital.  Hospitals strive to minimize this because the Centers for Medicare and Medicaid Services (CMS) may penalize them for having a readmission rate that is too high.\n",
    "\n",
    "The dataset we are using is focused on diabetes, and whether proper management of blood sugar levels while in the hospital have an impact on readmission.  We are losely following the model developed in the associated publication [Impact of HbA1c Measurement on Hospital Readmission Rates:Analysis of 70,000 Clinical Database Patient Records](../resources/Impact-of-HbA1c-Measurement-on-Hospital-Readmission-Rates-Analysis-of-70000-Clinical-Database-Patient-Records.pdf), but we are not creating interaction terms.  This dataset has already been prepared for use in machine learning following most of the data preprocessing steps described in the paper. \n",
    "\n",
    "The prepared dataset contains the following fields:\n",
    "\n",
    "* readmitted            \n",
    "    * 1 = readmission within 30 days of discharge\n",
    "    * 0 = no readmission within 30 days\n",
    "* discharge             \n",
    "    * 0 = discharged to home\n",
    "    * 1 = discharged elsewhere\n",
    "* age                   \n",
    "    * 0 = 30-59\n",
    "    * 1 = 0-30\n",
    "    * 2 = >= 60\n",
    "* race                  \n",
    "    * 0 = African American\n",
    "    * 1 = Caucasian\n",
    "    * 2 = Unknown\n",
    "    * 3 = Other\n",
    "* admission_type        \n",
    "    * 0 = Emergency\n",
    "    * 1 = Referral\n",
    "    * 2 = Other\n",
    "* specialty -              specialty of admission department\n",
    "     * 0 = Cardiology\n",
    "     * 1 = Family/General Practice\n",
    "     * 2 = Internal Medicine\n",
    "     * 3 = Unknown\n",
    "     * 4 = Surgery\n",
    "     * 5 = Other\n",
    "* time_in_hospital -       number of days in hospital\n",
    "* diag_1 -                 primary diagnosis: \n",
    "    * 0 = “diabetes” for icd9: 250.xx\n",
    "    * 1 = “circulatory”for icd9: 390–459, 785 \n",
    "    * 2 = “digestive” for icd9: 520–579, 787\n",
    "    * 3 = “genitourinary”for icd9: 580–629, 788 \n",
    "    * 4 = “injury” for icd9: 800–999\n",
    "    * 5 = “musculoskeletal” for icd9: 710–739 \n",
    "    * 6 = “neoplasms” for icd9: 140–239\n",
    "    * 7 = “respiratory” for icd9: 460–519, 786\n",
    "    * 8 = “other”\n",
    "* A1Cresult -              result of last HbA1C test\n",
    "    * 0 = No test performed\n",
    "    * 1 = Normal\n",
    "    * 2 = result > 7\n",
    "    * 3 = result > 8\n",
    "* change -                 diabetes medication adjusted while in hospital? 0 = no, 1 = yes\n",
    "\n",
    "\n",
    "We will perform a standard logistic regression to use as a base line for comparing other machine learning approaches.  Logistic regression has some assumptions that must be met in order for the resulting model to be valid.  In this case we will not test those as we wish to simply compare the accuracy and AUC with other approaches, which are not bound by the same set of assumptions."
   ]
  },
  {
   "cell_type": "code",
   "execution_count": 1,
   "metadata": {},
   "outputs": [],
   "source": [
    "import numpy as np\n",
    "import pandas as pd"
   ]
  },
  {
   "cell_type": "code",
   "execution_count": 2,
   "metadata": {},
   "outputs": [],
   "source": [
    "%matplotlib inline"
   ]
  },
  {
   "cell_type": "code",
   "execution_count": 3,
   "metadata": {},
   "outputs": [
    {
     "data": {
      "text/html": [
       "<div>\n",
       "<style scoped>\n",
       "    .dataframe tbody tr th:only-of-type {\n",
       "        vertical-align: middle;\n",
       "    }\n",
       "\n",
       "    .dataframe tbody tr th {\n",
       "        vertical-align: top;\n",
       "    }\n",
       "\n",
       "    .dataframe thead th {\n",
       "        text-align: right;\n",
       "    }\n",
       "</style>\n",
       "<table border=\"1\" class=\"dataframe\">\n",
       "  <thead>\n",
       "    <tr style=\"text-align: right;\">\n",
       "      <th></th>\n",
       "      <th>readmitted</th>\n",
       "      <th>discharge</th>\n",
       "      <th>age</th>\n",
       "      <th>race</th>\n",
       "      <th>admission_type</th>\n",
       "      <th>specialty</th>\n",
       "      <th>time_in_hospital</th>\n",
       "      <th>diag_1</th>\n",
       "      <th>A1Cresult</th>\n",
       "      <th>change</th>\n",
       "    </tr>\n",
       "  </thead>\n",
       "  <tbody>\n",
       "    <tr>\n",
       "      <th>0</th>\n",
       "      <td>1</td>\n",
       "      <td>0</td>\n",
       "      <td>0</td>\n",
       "      <td>1</td>\n",
       "      <td>1</td>\n",
       "      <td>0</td>\n",
       "      <td>8</td>\n",
       "      <td>8</td>\n",
       "      <td>0</td>\n",
       "      <td>1</td>\n",
       "    </tr>\n",
       "    <tr>\n",
       "      <th>1</th>\n",
       "      <td>0</td>\n",
       "      <td>0</td>\n",
       "      <td>0</td>\n",
       "      <td>1</td>\n",
       "      <td>1</td>\n",
       "      <td>4</td>\n",
       "      <td>2</td>\n",
       "      <td>8</td>\n",
       "      <td>0</td>\n",
       "      <td>0</td>\n",
       "    </tr>\n",
       "    <tr>\n",
       "      <th>2</th>\n",
       "      <td>0</td>\n",
       "      <td>1</td>\n",
       "      <td>2</td>\n",
       "      <td>1</td>\n",
       "      <td>1</td>\n",
       "      <td>2</td>\n",
       "      <td>4</td>\n",
       "      <td>8</td>\n",
       "      <td>2</td>\n",
       "      <td>0</td>\n",
       "    </tr>\n",
       "    <tr>\n",
       "      <th>3</th>\n",
       "      <td>0</td>\n",
       "      <td>0</td>\n",
       "      <td>2</td>\n",
       "      <td>1</td>\n",
       "      <td>1</td>\n",
       "      <td>2</td>\n",
       "      <td>3</td>\n",
       "      <td>8</td>\n",
       "      <td>3</td>\n",
       "      <td>1</td>\n",
       "    </tr>\n",
       "    <tr>\n",
       "      <th>4</th>\n",
       "      <td>0</td>\n",
       "      <td>0</td>\n",
       "      <td>0</td>\n",
       "      <td>0</td>\n",
       "      <td>1</td>\n",
       "      <td>2</td>\n",
       "      <td>5</td>\n",
       "      <td>8</td>\n",
       "      <td>0</td>\n",
       "      <td>0</td>\n",
       "    </tr>\n",
       "  </tbody>\n",
       "</table>\n",
       "</div>"
      ],
      "text/plain": [
       "   readmitted  discharge  age  race  admission_type  specialty  \\\n",
       "0           1          0    0     1               1          0   \n",
       "1           0          0    0     1               1          4   \n",
       "2           0          1    2     1               1          2   \n",
       "3           0          0    2     1               1          2   \n",
       "4           0          0    0     0               1          2   \n",
       "\n",
       "   time_in_hospital  diag_1  A1Cresult  change  \n",
       "0                 8       8          0       1  \n",
       "1                 2       8          0       0  \n",
       "2                 4       8          2       0  \n",
       "3                 3       8          3       1  \n",
       "4                 5       8          0       0  "
      ]
     },
     "metadata": {},
     "output_type": "display_data"
    },
    {
     "name": "stdout",
     "output_type": "stream",
     "text": [
      "readmitted          int64\n",
      "discharge           int64\n",
      "age                 int64\n",
      "race                int64\n",
      "admission_type      int64\n",
      "specialty           int64\n",
      "time_in_hospital    int64\n",
      "diag_1              int64\n",
      "A1Cresult           int64\n",
      "change              int64\n",
      "dtype: object\n"
     ]
    }
   ],
   "source": [
    "data = pd.read_csv('../resources/diabetes_readmission.csv')\n",
    "display(data.head())\n",
    "\n",
    "print(data.dtypes)\n",
    "\n"
   ]
  },
  {
   "cell_type": "markdown",
   "metadata": {},
   "source": [
    "## Preprocessing\n",
    "\n",
    "We will first split the data into the dependent variable and independent variables.\n"
   ]
  },
  {
   "cell_type": "code",
   "execution_count": 4,
   "metadata": {
    "scrolled": true
   },
   "outputs": [
    {
     "data": {
      "text/html": [
       "<div>\n",
       "<style scoped>\n",
       "    .dataframe tbody tr th:only-of-type {\n",
       "        vertical-align: middle;\n",
       "    }\n",
       "\n",
       "    .dataframe tbody tr th {\n",
       "        vertical-align: top;\n",
       "    }\n",
       "\n",
       "    .dataframe thead th {\n",
       "        text-align: right;\n",
       "    }\n",
       "</style>\n",
       "<table border=\"1\" class=\"dataframe\">\n",
       "  <thead>\n",
       "    <tr style=\"text-align: right;\">\n",
       "      <th></th>\n",
       "      <th>discharge</th>\n",
       "      <th>age</th>\n",
       "      <th>race</th>\n",
       "      <th>admission_type</th>\n",
       "      <th>specialty</th>\n",
       "      <th>time_in_hospital</th>\n",
       "      <th>diag_1</th>\n",
       "      <th>A1Cresult</th>\n",
       "      <th>change</th>\n",
       "    </tr>\n",
       "  </thead>\n",
       "  <tbody>\n",
       "    <tr>\n",
       "      <th>0</th>\n",
       "      <td>0</td>\n",
       "      <td>0</td>\n",
       "      <td>1</td>\n",
       "      <td>1</td>\n",
       "      <td>0</td>\n",
       "      <td>8</td>\n",
       "      <td>8</td>\n",
       "      <td>0</td>\n",
       "      <td>1</td>\n",
       "    </tr>\n",
       "    <tr>\n",
       "      <th>1</th>\n",
       "      <td>0</td>\n",
       "      <td>0</td>\n",
       "      <td>1</td>\n",
       "      <td>1</td>\n",
       "      <td>4</td>\n",
       "      <td>2</td>\n",
       "      <td>8</td>\n",
       "      <td>0</td>\n",
       "      <td>0</td>\n",
       "    </tr>\n",
       "    <tr>\n",
       "      <th>2</th>\n",
       "      <td>1</td>\n",
       "      <td>2</td>\n",
       "      <td>1</td>\n",
       "      <td>1</td>\n",
       "      <td>2</td>\n",
       "      <td>4</td>\n",
       "      <td>8</td>\n",
       "      <td>2</td>\n",
       "      <td>0</td>\n",
       "    </tr>\n",
       "    <tr>\n",
       "      <th>3</th>\n",
       "      <td>0</td>\n",
       "      <td>2</td>\n",
       "      <td>1</td>\n",
       "      <td>1</td>\n",
       "      <td>2</td>\n",
       "      <td>3</td>\n",
       "      <td>8</td>\n",
       "      <td>3</td>\n",
       "      <td>1</td>\n",
       "    </tr>\n",
       "    <tr>\n",
       "      <th>4</th>\n",
       "      <td>0</td>\n",
       "      <td>0</td>\n",
       "      <td>0</td>\n",
       "      <td>1</td>\n",
       "      <td>2</td>\n",
       "      <td>5</td>\n",
       "      <td>8</td>\n",
       "      <td>0</td>\n",
       "      <td>0</td>\n",
       "    </tr>\n",
       "    <tr>\n",
       "      <th>...</th>\n",
       "      <td>...</td>\n",
       "      <td>...</td>\n",
       "      <td>...</td>\n",
       "      <td>...</td>\n",
       "      <td>...</td>\n",
       "      <td>...</td>\n",
       "      <td>...</td>\n",
       "      <td>...</td>\n",
       "      <td>...</td>\n",
       "    </tr>\n",
       "    <tr>\n",
       "      <th>65953</th>\n",
       "      <td>0</td>\n",
       "      <td>2</td>\n",
       "      <td>1</td>\n",
       "      <td>1</td>\n",
       "      <td>3</td>\n",
       "      <td>1</td>\n",
       "      <td>8</td>\n",
       "      <td>0</td>\n",
       "      <td>0</td>\n",
       "    </tr>\n",
       "    <tr>\n",
       "      <th>65954</th>\n",
       "      <td>0</td>\n",
       "      <td>2</td>\n",
       "      <td>3</td>\n",
       "      <td>1</td>\n",
       "      <td>2</td>\n",
       "      <td>3</td>\n",
       "      <td>8</td>\n",
       "      <td>0</td>\n",
       "      <td>0</td>\n",
       "    </tr>\n",
       "    <tr>\n",
       "      <th>65955</th>\n",
       "      <td>0</td>\n",
       "      <td>2</td>\n",
       "      <td>1</td>\n",
       "      <td>1</td>\n",
       "      <td>3</td>\n",
       "      <td>3</td>\n",
       "      <td>8</td>\n",
       "      <td>0</td>\n",
       "      <td>1</td>\n",
       "    </tr>\n",
       "    <tr>\n",
       "      <th>65956</th>\n",
       "      <td>1</td>\n",
       "      <td>0</td>\n",
       "      <td>1</td>\n",
       "      <td>1</td>\n",
       "      <td>3</td>\n",
       "      <td>14</td>\n",
       "      <td>8</td>\n",
       "      <td>2</td>\n",
       "      <td>1</td>\n",
       "    </tr>\n",
       "    <tr>\n",
       "      <th>65957</th>\n",
       "      <td>0</td>\n",
       "      <td>0</td>\n",
       "      <td>1</td>\n",
       "      <td>1</td>\n",
       "      <td>3</td>\n",
       "      <td>5</td>\n",
       "      <td>8</td>\n",
       "      <td>0</td>\n",
       "      <td>1</td>\n",
       "    </tr>\n",
       "  </tbody>\n",
       "</table>\n",
       "<p>65958 rows × 9 columns</p>\n",
       "</div>"
      ],
      "text/plain": [
       "       discharge  age  race  admission_type  specialty  time_in_hospital  \\\n",
       "0              0    0     1               1          0                 8   \n",
       "1              0    0     1               1          4                 2   \n",
       "2              1    2     1               1          2                 4   \n",
       "3              0    2     1               1          2                 3   \n",
       "4              0    0     0               1          2                 5   \n",
       "...          ...  ...   ...             ...        ...               ...   \n",
       "65953          0    2     1               1          3                 1   \n",
       "65954          0    2     3               1          2                 3   \n",
       "65955          0    2     1               1          3                 3   \n",
       "65956          1    0     1               1          3                14   \n",
       "65957          0    0     1               1          3                 5   \n",
       "\n",
       "       diag_1  A1Cresult  change  \n",
       "0           8          0       1  \n",
       "1           8          0       0  \n",
       "2           8          2       0  \n",
       "3           8          3       1  \n",
       "4           8          0       0  \n",
       "...       ...        ...     ...  \n",
       "65953       8          0       0  \n",
       "65954       8          0       0  \n",
       "65955       8          0       1  \n",
       "65956       8          2       1  \n",
       "65957       8          0       1  \n",
       "\n",
       "[65958 rows x 9 columns]"
      ]
     },
     "metadata": {},
     "output_type": "display_data"
    }
   ],
   "source": [
    "y = data['readmitted']\n",
    "X = data[['discharge', 'age', 'race', 'admission_type', 'specialty', 'time_in_hospital', 'diag_1', 'A1Cresult', 'change']]\n",
    "\n",
    "display(X)"
   ]
  },
  {
   "cell_type": "markdown",
   "metadata": {},
   "source": [
    "## Scale the continuous feature\n",
    "We should scale the one continuous feature in the dataset.  Scaling will give us a feature that has mean zero and standard deviation 1.  Some of the methods we will use are more sensitive to differences in feature scaling than others.  It's not strictly necessary for logistic regression to create a good model, but we will do it for the sake of consistency.  \n",
    "\n",
    "We have only one continuous feature, and the remainder are one-hot-encoded categorical features."
   ]
  },
  {
   "cell_type": "code",
   "execution_count": 5,
   "metadata": {},
   "outputs": [
    {
     "name": "stderr",
     "output_type": "stream",
     "text": [
      "/opt/conda/lib/python3.7/site-packages/sklearn/preprocessing/data.py:645: DataConversionWarning: Data with input dtype int64 were all converted to float64 by StandardScaler.\n",
      "  return self.partial_fit(X, y)\n",
      "/opt/conda/lib/python3.7/site-packages/sklearn/base.py:464: DataConversionWarning: Data with input dtype int64 were all converted to float64 by StandardScaler.\n",
      "  return self.fit(X, **fit_params).transform(X)\n",
      "/opt/conda/lib/python3.7/site-packages/ipykernel_launcher.py:3: SettingWithCopyWarning: \n",
      "A value is trying to be set on a copy of a slice from a DataFrame.\n",
      "Try using .loc[row_indexer,col_indexer] = value instead\n",
      "\n",
      "See the caveats in the documentation: http://pandas.pydata.org/pandas-docs/stable/user_guide/indexing.html#returning-a-view-versus-a-copy\n",
      "  This is separate from the ipykernel package so we can avoid doing imports until\n"
     ]
    }
   ],
   "source": [
    "from sklearn.preprocessing import StandardScaler\n",
    "scaler = StandardScaler()\n",
    "X['time_in_hospital'] = scaler.fit_transform(X[['time_in_hospital']])"
   ]
  },
  {
   "cell_type": "markdown",
   "metadata": {},
   "source": [
    "### Categorize our independent variables\n",
    "\n",
    "Our independent variables are mostly categoricals, so we need to encode any that aren't dichotomous for use in regression, using a k-1 one-hot-encoding scheme.\n",
    "\n",
    "In k-1, we first perform a one-hot, but then drop one of the generated features.  This is necessary for logistic regression to avoid multicolinearity, as the absence of 1's in k-1 of the features implies the presence of 1 in the k<sup>th</sup> feature."
   ]
  },
  {
   "cell_type": "code",
   "execution_count": 6,
   "metadata": {},
   "outputs": [],
   "source": [
    "# create dummy variables\n",
    "X = pd.concat([X, pd.get_dummies(X['age'], prefix = 'age', drop_first=True)], axis=1)\n",
    "X = pd.concat([X, pd.get_dummies(X['race'], prefix = 'race', drop_first=True)], axis=1)\n",
    "X = pd.concat([X, pd.get_dummies(X['admission_type'], prefix = 'admission_type', drop_first=True)], axis=1)\n",
    "X = pd.concat([X, pd.get_dummies(X['specialty'], prefix = 'specialty', drop_first=True)], axis=1)\n",
    "X = pd.concat([X, pd.get_dummies(X['diag_1'], prefix = 'diag_1', drop_first=True)], axis=1)\n",
    "X = pd.concat([X, pd.get_dummies(X['A1Cresult'], prefix = 'A1Cresult', drop_first=True)], axis=1)\n",
    "\n",
    "# drop originals\n",
    "X = X.drop(['age', 'race', 'admission_type', 'specialty', 'diag_1', 'A1Cresult'], axis=1)\n",
    "\n"
   ]
  },
  {
   "cell_type": "markdown",
   "metadata": {},
   "source": [
    "## Create balanced classes by oversampling the minority class\n",
    "\n",
    "Some of the methods we will use in this module are very sensitive to unbalanced classes, including logistic regression, so we will balance our classes by sampling with replacement from the smaller class until the classes are equal in size.\n",
    "\n",
    "Scikit learn provides the resample utility for this, which makes the process very simple."
   ]
  },
  {
   "cell_type": "code",
   "execution_count": 7,
   "metadata": {},
   "outputs": [
    {
     "data": {
      "text/plain": [
       "0    60145\n",
       "1     5813\n",
       "Name: readmitted, dtype: int64"
      ]
     },
     "metadata": {},
     "output_type": "display_data"
    },
    {
     "data": {
      "text/plain": [
       "1    60145\n",
       "0    60145\n",
       "dtype: int64"
      ]
     },
     "metadata": {},
     "output_type": "display_data"
    }
   ],
   "source": [
    "from sklearn.utils import resample\n",
    "\n",
    "display(y.value_counts())\n",
    "\n",
    "X_oversampled, y_oversampled = resample(X[y == 1], y[y == 1], replace=True, n_samples=X[y == 0].shape[0], random_state=42)\n",
    "\n",
    "X = pd.DataFrame(np.vstack((X[y == 0], X_oversampled)), columns=X.columns)\n",
    "y = np.hstack((y[y == 0], y_oversampled))\n",
    "\n",
    "display(pd.Series(y).value_counts())"
   ]
  },
  {
   "cell_type": "markdown",
   "metadata": {},
   "source": [
    "## Fit the regression\n",
    "\n",
    "Here we will fit the regression.  We are using the liblinear solver because it is able to handle the dataset that we have.  We use a train test split of 67/33."
   ]
  },
  {
   "cell_type": "code",
   "execution_count": 8,
   "metadata": {},
   "outputs": [],
   "source": [
    "from sklearn.linear_model import LogisticRegression\n",
    "from sklearn.model_selection import train_test_split\n",
    "\n",
    "# train/test split, specify the seed for reproducible results\n",
    "X_train, X_test, y_train, y_test = train_test_split(X, y, test_size=0.33, random_state=42)\n",
    "\n",
    "\n",
    "model = LogisticRegression(solver='liblinear').fit(X_train, y_train)\n",
    "\n"
   ]
  },
  {
   "cell_type": "markdown",
   "metadata": {},
   "source": [
    "## Visualize the results\n",
    "We will print the accuracy, an ROC plot along with the AUC, a confusion matrix, and a classification report.\n",
    "\n",
    "We will use these same outputs in the following labs to see the differences."
   ]
  },
  {
   "cell_type": "code",
   "execution_count": 9,
   "metadata": {},
   "outputs": [
    {
     "name": "stdout",
     "output_type": "stream",
     "text": [
      "accuracy 0.5793278919790407\n"
     ]
    },
    {
     "data": {
      "image/png": "[encoded data removed]",
      "text/plain": [
       "<Figure size 432x288 with 1 Axes>"
      ]
     },
     "metadata": {
      "needs_background": "light"
     },
     "output_type": "display_data"
    },
    {
     "name": "stdout",
     "output_type": "stream",
     "text": [
      "confusion matrix:\n",
      "[[12981  6968]\n",
      " [ 9731 10016]]\n",
      "\n",
      "classification report:\n",
      "              precision    recall  f1-score   support\n",
      "\n",
      "           0       0.57      0.65      0.61     19949\n",
      "           1       0.59      0.51      0.55     19747\n",
      "\n",
      "   micro avg       0.58      0.58      0.58     39696\n",
      "   macro avg       0.58      0.58      0.58     39696\n",
      "weighted avg       0.58      0.58      0.58     39696\n",
      "\n"
     ]
    }
   ],
   "source": [
    "from sklearn import metrics\n",
    "from sklearn.metrics import confusion_matrix\n",
    "from sklearn.metrics import classification_report\n",
    "import matplotlib.pyplot as plt\n",
    "\n",
    "print('accuracy', model.score(X_test, y_test))\n",
    "\n",
    "probs = model.predict_proba(X_test)\n",
    "preds = probs[:,1]\n",
    "\n",
    "fpr, tpr, threshold = metrics.roc_curve(y_test, preds)\n",
    "roc_auc = metrics.auc(fpr, tpr)\n",
    "\n",
    "plt.title('Receiver Operating Characteristic')\n",
    "plt.plot(fpr, tpr, 'b', label = 'AUC = %0.2f' % roc_auc)\n",
    "plt.legend(loc = 'lower right')\n",
    "plt.plot([0, 1], [0, 1],'r--')\n",
    "plt.xlim([0, 1])\n",
    "plt.ylim([0, 1])\n",
    "plt.ylabel('True Positive Rate')\n",
    "plt.xlabel('False Positive Rate')\n",
    "plt.show()\n",
    "\n",
    "y_pred = model.predict(X_test)\n",
    "\n",
    "cmatrix = confusion_matrix(y_test, y_pred)\n",
    "print('confusion matrix:')\n",
    "print(cmatrix)\n",
    "print('\\nclassification report:')\n",
    "print(classification_report(y_test, y_pred))"
   ]
  },
  {
   "cell_type": "markdown",
   "metadata": {},
   "source": [
    "## Visualize the regression\n",
    "We will print out the regression formula here.  The ability to see a formula, and interpret the relative strengths of the various associations between the independent variables is one of the main reasons that regressions are so explainable.\n",
    "\n",
    "In the case of a logistic regression, the result of the formula is the log odds $ln(\\frac{p} {(1-p)})$, which can be converted to a probability using the final derived formula:\n",
    "\n",
    "<img src='../resources/logit-to-probability.png'/>\n",
    " "
   ]
  },
  {
   "cell_type": "code",
   "execution_count": 10,
   "metadata": {},
   "outputs": [
    {
     "data": {
      "text/plain": [
       "'y = 0.561*discharge + 0.098*time_in_hospital + 0.073*change + -0.116*age_1 + 0.202*age_2 + 0.007*race_1 + -0.282*race_2 + -0.16*race_3 + 1.035*admission_type_1 + 1.051*admission_type_2 + 0.202*specialty_1 + 0.229*specialty_2 + 0.142*specialty_3 + -0.029*specialty_4 + -0.02*specialty_5 + -0.077*A1Cresult_1 + -0.067*A1Cresult_2 + -0.071*A1Cresult_3 + -1.524'"
      ]
     },
     "execution_count": 10,
     "metadata": {},
     "output_type": "execute_result"
    }
   ],
   "source": [
    "'y = ' + ' + '.join([f'{round(b, 3)}*{x}' for x, b in zip(X_train.columns, model.coef_[0])]) + f' + {round(model.intercept_[0], 3)}'"
   ]
  },
  {
   "cell_type": "code",
   "execution_count": null,
   "metadata": {},
   "outputs": [],
   "source": []
  }
 ],
 "metadata": {
  "kernelspec": {
   "display_name": "Python 3",
   "language": "python",
   "name": "python3"
  },
  "language_info": {
   "codemirror_mode": {
    "name": "ipython",
    "version": 3
   },
   "file_extension": ".py",
   "mimetype": "text/x-python",
   "name": "python",
   "nbconvert_exporter": "python",
   "pygments_lexer": "ipython3",
   "version": "3.7.3"
  }
 },
 "nbformat": 4,
 "nbformat_minor": 2
}
