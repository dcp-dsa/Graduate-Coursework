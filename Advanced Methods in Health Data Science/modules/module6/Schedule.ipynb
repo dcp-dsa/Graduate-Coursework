{
 "cells": [
  {
   "cell_type": "markdown",
   "metadata": {},
   "source": [
    "# Module 6: Applications of supervised methods\n"
   ]
  },
  {
   "cell_type": "markdown",
   "metadata": {},
   "source": [
    "In this module we will examine supervised machine learning methods and their application to a re-admissions problem.  We will start with a lab convering basic logistical regression, and move on to testing decision trees, neural networks, and support vector machines applied to the same problem.\n"
   ]
  },
  {
   "cell_type": "markdown",
   "metadata": {},
   "source": [
    "## Module Topics\n",
    "1. Logistic regression\n",
    "1. Decision trees and random forest\n",
    "1. Artificial neural networks (ANN)\n",
    "1. Support vector machines (SVM)\n"
   ]
  },
  {
   "cell_type": "markdown",
   "metadata": {},
   "source": [
    "## Lectures\n",
    "Lectures are available on the Canvas site for this course, and cover the following topics:\n",
    "\n",
    "1. Supervised machine learning models\n"
   ]
  },
  {
   "cell_type": "markdown",
   "metadata": {},
   "source": [
    "## Reading and Videos\n",
    "* [Impact of HbA1c Measurement on Hospital Readmission Rates:Analysis of 70,000 Clinical Database Patient Records](resources/Impact-of-HbA1c-Measurement-on-Hospital-Readmission-Rates-Analysis-of-70000-Clinical-Database-Patient-Records.pdf)\n"
   ]
  },
  {
   "cell_type": "markdown",
   "metadata": {},
   "source": [
    "## Labs\n",
    "* [Lab 1 - Logistic Regresson to predict readmission](labs/lab-06-01.ipynb)\n",
    "* [Lab 2 - Decision Tree to predict readmission](labs/lab-06-02.ipynb)\n",
    "* [Lab 3 - Random Forest to predict readmission](labs/lab-06-03.ipynb)\n",
    "* [Lab 4 - Support Vector Machine to predict readmission](labs/lab-06-04.ipynb)\n",
    "* [Lab 5 - Artificial Neural Network to predict readmission](labs/lab-06-05.ipynb)\n",
    "* [Lab 6 - Grid searching for the best model hyper parameters](labs/lab-06-06.ipynb)\n",
    "\n"
   ]
  },
  {
   "cell_type": "markdown",
   "metadata": {},
   "source": [
    "## Practices\n",
    "  * [Practice 1 - Grid searching the best Random Forest classifier](practices/practice-06-01.ipynb) ([answers](practices/practice-answers-06-01.ipynb))"
   ]
  },
  {
   "cell_type": "markdown",
   "metadata": {},
   "source": [
    "## Exercises\n",
    "* [Exercise 1 - Find the best neural network model for predicting 30 day hospital readmission](exercises/exercise-06-01.ipynb)"
   ]
  },
  {
   "cell_type": "markdown",
   "metadata": {},
   "source": [
    "## Quiz\n",
    "* See the canvas course module 6 for the quizzes for this week.  You must do each exercise prior to completing its quiz."
   ]
  },
  {
   "cell_type": "markdown",
   "metadata": {},
   "source": [
    "## Submitting your work\n",
    "\n",
    "#### Steps:\n",
    "1. Open Terminal in JupyterHub\n",
    "2. Change into the course folder\n",
    "3. Stage (Git Add) all work from the module \n",
    "    * `git add modules/module6`\n",
    "    * `git add output`\n",
    "4. Create your work snapshot (Git Commit)\n",
    "    * `git commit -m \"Module 6 submission\"`\n",
    "5. Upload the snapshot to the server (Git Push) \n",
    "    * `git push`\n"
   ]
  }
 ],
 "metadata": {
  "kernelspec": {
   "display_name": "Python 3",
   "language": "python",
   "name": "python3"
  },
  "language_info": {
   "codemirror_mode": {
    "name": "ipython",
    "version": 3
   },
   "file_extension": ".py",
   "mimetype": "text/x-python",
   "name": "python",
   "nbconvert_exporter": "python",
   "pygments_lexer": "ipython3",
   "version": "3.7.3"
  }
 },
 "nbformat": 4,
 "nbformat_minor": 2
}
